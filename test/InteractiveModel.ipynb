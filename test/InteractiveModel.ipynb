{
 "cells": [
  {
   "cell_type": "code",
   "execution_count": 1,
   "id": "9a6f81f5-5bb9-4346-93ca-6ca8cd7a71de",
   "metadata": {},
   "outputs": [
    {
     "ename": "ModuleNotFoundError",
     "evalue": "No module named 'disruptsc'",
     "output_type": "error",
     "traceback": [
      "\u001b[1;31m---------------------------------------------------------------------------\u001b[0m",
      "\u001b[1;31mModuleNotFoundError\u001b[0m                       Traceback (most recent call last)",
      "Cell \u001b[1;32mIn[1], line 1\u001b[0m\n\u001b[1;32m----> 1\u001b[0m \u001b[38;5;28;01mfrom\u001b[39;00m \u001b[38;5;21;01mdisruptsc\u001b[39;00m\u001b[38;5;21;01m.\u001b[39;00m\u001b[38;5;21;01mmodel\u001b[39;00m\u001b[38;5;21;01m.\u001b[39;00m\u001b[38;5;21;01mcaching_functions\u001b[39;00m \u001b[38;5;28;01mimport\u001b[39;00m generate_cache_parameters_from_command_line_argument, load_cached_model\n\u001b[0;32m      2\u001b[0m \u001b[38;5;28;01mimport\u001b[39;00m \u001b[38;5;21;01mdisruptsc\u001b[39;00m\u001b[38;5;21;01m.\u001b[39;00m\u001b[38;5;21;01mmodel\u001b[39;00m\n",
      "\u001b[1;31mModuleNotFoundError\u001b[0m: No module named 'disruptsc'"
     ]
    }
   ],
   "source": [
    "from disruptsc.model.caching_functions import generate_cache_parameters_from_command_line_argument, load_cached_model\n",
    "import disruptsc.model"
   ]
  },
  {
   "cell_type": "code",
   "execution_count": 31,
   "id": "916e394e-7122-4dce-8330-052748fa6cd9",
   "metadata": {},
   "outputs": [
    {
     "ename": "ModuleNotFoundError",
     "evalue": "No module named 'model'",
     "output_type": "error",
     "traceback": [
      "\u001b[1;31m---------------------------------------------------------------------------\u001b[0m",
      "\u001b[1;31mModuleNotFoundError\u001b[0m                       Traceback (most recent call last)",
      "Cell \u001b[1;32mIn[31], line 1\u001b[0m\n\u001b[1;32m----> 1\u001b[0m model \u001b[38;5;241m=\u001b[39m \u001b[43mload_cached_model\u001b[49m\u001b[43m(\u001b[49m\u001b[38;5;124;43m\"\u001b[39;49m\u001b[38;5;124;43m1743970274704\u001b[39;49m\u001b[38;5;124;43m\"\u001b[39;49m\u001b[43m)\u001b[49m\n",
      "File \u001b[1;32m~\\OneDrive\\WorldBank\\Model\\disrupt-sc\\disruptsc\\model\\caching_functions.py:128\u001b[0m, in \u001b[0;36mload_cached_model\u001b[1;34m(suffix)\u001b[0m\n\u001b[0;32m    126\u001b[0m \u001b[38;5;28;01mdef\u001b[39;00m\u001b[38;5;250m \u001b[39m\u001b[38;5;21mload_cached_model\u001b[39m(suffix):\n\u001b[0;32m    127\u001b[0m     pickle_filename \u001b[38;5;241m=\u001b[39m TMP_FOLDER \u001b[38;5;241m/\u001b[39m \u001b[38;5;124mf\u001b[39m\u001b[38;5;124m'\u001b[39m\u001b[38;5;124mmodel_\u001b[39m\u001b[38;5;132;01m{\u001b[39;00msuffix\u001b[38;5;132;01m}\u001b[39;00m\u001b[38;5;124m.pickle\u001b[39m\u001b[38;5;124m'\u001b[39m\n\u001b[1;32m--> 128\u001b[0m     model \u001b[38;5;241m=\u001b[39m \u001b[43mpickle\u001b[49m\u001b[38;5;241;43m.\u001b[39;49m\u001b[43mload\u001b[49m\u001b[43m(\u001b[49m\u001b[38;5;28;43mopen\u001b[39;49m\u001b[43m(\u001b[49m\u001b[43mpickle_filename\u001b[49m\u001b[43m,\u001b[49m\u001b[43m \u001b[49m\u001b[38;5;124;43m'\u001b[39;49m\u001b[38;5;124;43mrb\u001b[39;49m\u001b[38;5;124;43m'\u001b[39;49m\u001b[43m)\u001b[49m\u001b[43m)\u001b[49m\n\u001b[0;32m    129\u001b[0m     \u001b[38;5;28;01mreturn\u001b[39;00m model\n",
      "\u001b[1;31mModuleNotFoundError\u001b[0m: No module named 'model'"
     ]
    }
   ],
   "source": [
    "model = load_cached_model(\"1743970274704\")"
   ]
  },
  {
   "cell_type": "code",
   "execution_count": 2,
   "id": "3d0a157b-d07f-43a4-86d2-df961d16c5af",
   "metadata": {},
   "outputs": [],
   "source": [
    "import importlib\n",
    "from pathlib import Path\n",
    "import os\n",
    "import sys\n",
    "import logging\n",
    "import geopandas as gpd\n",
    "import numpy as np\n",
    "import pandas as pd\n",
    "import networkx as nx\n",
    "import plotly.express as px\n",
    "import matplotlib.pyplot as plt\n",
    "parent_dir = str(Path().resolve().parent)\n",
    "sys.path.append(parent_dir)"
   ]
  },
  {
   "cell_type": "code",
   "execution_count": 3,
   "id": "4a73b57f-25f8-40a2-a1c4-55b192f72f34",
   "metadata": {},
   "outputs": [],
   "source": [
    "import plotly.express as px\n",
    "from plotly.subplots import make_subplots\n",
    "import matplotlib.patches as mpatches\n",
    "\n",
    "def add_full_trace(fig, px_data, pos):\n",
    "    for trace in px_data:\n",
    "        fig.add_trace(trace, row=pos[0], col=pos[1])"
   ]
  },
  {
   "cell_type": "code",
   "execution_count": 4,
   "id": "d5319b7f-3221-4559-8408-b52014171fae",
   "metadata": {},
   "outputs": [],
   "source": [
    "%load_ext autoreload\n",
    "%autoreload 2"
   ]
  },
  {
   "cell_type": "code",
   "execution_count": 5,
   "id": "2e994ce7-2d3d-4c49-b99e-e38d2c86560a",
   "metadata": {},
   "outputs": [],
   "source": [
    "from disruptsc.parameters import Parameters\n",
    "from disruptsc.model.model import Model\n",
    "import disruptsc.paths as paths\n",
    "import disruptsc.network.transport_network"
   ]
  },
  {
   "cell_type": "code",
   "execution_count": 16,
   "id": "c346d458-a891-497c-b519-36aa8f7e31d8",
   "metadata": {},
   "outputs": [
    {
     "name": "stderr",
     "output_type": "stream",
     "text": [
      "2025-05-02 17:09:59,190 - root - INFO - User defined parameter file found for ECA\n"
     ]
    }
   ],
   "source": [
    "scope = \"ECA\"\n",
    "parameters = Parameters.load_parameters(paths.PARAMETER_FOLDER, scope)\n",
    "parameters.export_files = False\n",
    "parameters.adjust_logging_behavior()\n",
    "model = Model(parameters)\n",
    "parameters.io_cutoff = 0.1\n",
    "parameters.adaptive_supplier_weight = False\n",
    "#parameters.logistics['basic_cost_random'] = False\n",
    "cache_params = (False, False, False, False)\n",
    "cache_params = (True, False, False, False)"
   ]
  },
  {
   "cell_type": "code",
   "execution_count": 17,
   "id": "de3020a2-bbc6-46b1-8e60-5916f71172fe",
   "metadata": {},
   "outputs": [],
   "source": [
    "import disruptsc.network.transport_network\n",
    "from disruptsc.network.transport_network import TransportNetwork"
   ]
  },
  {
   "cell_type": "code",
   "execution_count": 18,
   "id": "87c96431-a677-4907-ae54-0f7269ceed63",
   "metadata": {
    "scrolled": true
   },
   "outputs": [
    {
     "name": "stderr",
     "output_type": "stream",
     "text": [
      "2025-05-02 17:10:01,013 - root - INFO - Transport network generated from temp file.\n",
      "2025-05-02 17:10:01,207 - root - INFO - Total length of transport network is: 268749 km\n",
      "2025-05-02 17:10:01,208 - root - INFO - maritime: 61760 km\n",
      "2025-05-02 17:10:01,209 - root - INFO - multimodal: 8 km\n",
      "2025-05-02 17:10:01,209 - root - INFO - pipelines: 21064 km\n",
      "2025-05-02 17:10:01,210 - root - INFO - railways: 34193 km\n",
      "2025-05-02 17:10:01,211 - root - INFO - roads: 151724 km\n",
      "2025-05-02 17:10:01,217 - root - INFO - Nb of nodes: 8061, nb of edges: 12147\n"
     ]
    }
   ],
   "source": [
    "model.setup_transport_network(cache_params[0])"
   ]
  },
  {
   "cell_type": "code",
   "execution_count": 29,
   "id": "c3020e11-ac8c-48f3-a39f-064eb397aba3",
   "metadata": {
    "scrolled": true
   },
   "outputs": [
    {
     "name": "stderr",
     "output_type": "stream",
     "text": [
      "2025-05-02 17:24:12,742 - root - INFO - Filtering the sectors based on their output. Cutoff type is absolute, cutoff value is 1.0\n",
      "2025-05-02 17:24:12,873 - root - WARNING - Failed to detect the label used for value.?added|va in the MRIO\n",
      "2025-05-02 17:24:12,899 - root - WARNING - There are 65 region_sectors with more inputs than outputs: [('ARM', 'CMT'), ('ARM', 'LEA'), ('ARM', 'PCR'), ('ARM', 'TEX'), ('ARM', 'WAP'), ('AZE', 'SGR'), ('AZE', 'WAP'), ('GEO', 'ATP'), ('GEO', 'CNS'), ('GEO', 'COA'), ('GEO', 'ELY'), ('GEO', 'FMP'), ('GEO', 'FRS'), ('GEO', 'GAS'), ('GEO', 'GDT'), ('GEO', 'I_S'), ('GEO', 'LUM'), ('GEO', 'NFM'), ('GEO', 'NMM'), ('GEO', 'OIL'), ('GEO', 'OME'), ('GEO', 'OTP'), ('GEO', 'OXT'), ('GEO', 'P_C'), ('GEO', 'VOL'), ('GEO', 'WHS'), ('GEO', 'WOL'), ('GEO', 'WTP'), ('GEO', 'WTR'), ('KGZ', 'ATP'), ('KGZ', 'CNS'), ('KGZ', 'FMP'), ('KGZ', 'LEA'), ('KGZ', 'NMM'), ('KGZ', 'OTP'), ('KGZ', 'P_C'), ('KGZ', 'TEX'), ('KGZ', 'WAP'), ('KGZ', 'WOL'), ('KGZ', 'WTP'), ('TJK', 'CHM'), ('TJK', 'EEQ'), ('TJK', 'ELE'), ('TJK', 'FMP'), ('TJK', 'FRS'), ('TJK', 'LUM'), ('TJK', 'MVH'), ('TJK', 'NFM'), ('TJK', 'NMM'), ('TJK', 'OMF'), ('TJK', 'OXT'), ('TJK', 'PPP'), ('TJK', 'WAP'), ('TJK', 'WTP'), ('TKM', 'COA'), ('TKM', 'EEQ'), ('TKM', 'ELE'), ('TKM', 'MVH'), ('TKM', 'OME'), ('TKM', 'OTN'), ('TKM', 'PFB'), ('UZB', 'ATP'), ('UZB', 'MVH'), ('UZB', 'OTN'), ('UZB', 'VOL')]. Correcting it.\n"
     ]
    },
    {
     "name": "stdout",
     "output_type": "stream",
     "text": [
      "451.45736987942877\n",
      "463.3974562547678\n",
      "31.65296448401579\n",
      "32.75961065289859\n",
      "1.4399984902908867\n",
      "1.6389653728028213\n",
      "80.43618799784073\n",
      "107.73793982758659\n",
      "485.64798500248963\n",
      "513.6864334471384\n",
      "30.461552660574718\n",
      "58.3967496093044\n",
      "73.0296021617236\n",
      "77.93083837638233\n",
      "467.48964093642536\n",
      "868.7212981343504\n",
      "3767.181823549662\n",
      "4275.010678121582\n",
      "25.197525042761647\n",
      "28.30239405672006\n",
      "1301.2597365995334\n",
      "2329.505121138959\n",
      "153.76456400182332\n",
      "191.86042692141442\n",
      "467.57249439866405\n",
      "510.26430546811724\n",
      "0.8959410129839308\n",
      "2.028172892233729\n",
      "2.558688780890771\n",
      "2.612044284689834\n",
      "188.09645153839605\n",
      "610.8774330062596\n",
      "54.07992772660738\n",
      "132.14247426392186\n",
      "165.34341662599593\n",
      "179.56923695599636\n",
      "532.8461025695746\n",
      "583.2103745404402\n",
      "11.490218711683875\n",
      "14.472680274529417\n",
      "283.32569616491816\n",
      "427.61553250792025\n",
      "2522.7105572280966\n",
      "5662.207281419077\n",
      "405.6036218063886\n",
      "751.5182768355119\n",
      "148.6371316623623\n",
      "179.5861396288783\n",
      "24.011513814566865\n",
      "26.2789566265854\n",
      "499.4276273676322\n",
      "994.3183183788524\n",
      "74.59198160103169\n",
      "86.1409934399613\n",
      "210.32529908782357\n",
      "282.95937251041886\n",
      "552.5998103623874\n",
      "560.6832815530498\n",
      "181.96769002651106\n",
      "358.47851606732206\n",
      "1948.593599852823\n",
      "2619.8399546566793\n",
      "88.72241168573888\n",
      "141.14085294520513\n",
      "11.955261984395507\n",
      "60.13649352887273\n",
      "593.7352329999641\n",
      "641.9284418641773\n",
      "320.30719930970474\n",
      "467.7764266659089\n",
      "285.0691045696875\n",
      "293.28101527914237\n",
      "171.30223258506817\n",
      "182.10591740068122\n",
      "53.3804906915462\n",
      "126.942599268659\n",
      "81.0824173534957\n",
      "92.40472476558695\n",
      "18.603515945375783\n",
      "38.37672680071251\n",
      "11.552881095507493\n",
      "15.74803930510629\n",
      "8.97026495899776\n",
      "9.484986686928186\n",
      "144.91559483249722\n",
      "145.89919535589434\n",
      "36.53115577104251\n",
      "48.3270105717598\n",
      "7.026681283836793\n",
      "45.54996872707619\n",
      "9.02295471557103\n",
      "88.19307783783242\n",
      "17.68975391430566\n",
      "17.989850446452106\n",
      "663.141260118679\n",
      "672.8622189866004\n",
      "110.1494899731608\n",
      "128.36693135434606\n",
      "5.864817624050093\n",
      "10.982037237854938\n",
      "426.2428116293589\n",
      "456.37806423505435\n",
      "12.861972570257837\n",
      "18.227663828780234\n",
      "13.985352497035262\n",
      "28.84588256938567\n",
      "1.0487953669527552\n",
      "1.1407211408503433\n",
      "4.387502782573738\n",
      "4.99079672846944\n",
      "25.947633735653202\n",
      "195.92077149134838\n",
      "12.212516271219007\n",
      "74.29039838095257\n",
      "168.92570237456079\n",
      "175.92938863974942\n",
      "124.61057523797147\n",
      "174.5522017544031\n",
      "198.13932458253248\n",
      "199.28314778506078\n",
      "153.3713762480358\n",
      "276.3602907411454\n",
      "571.7415077502648\n",
      "703.4692398520916\n",
      "9278.234699549035\n",
      "10430.684186936685\n",
      "167.78153657134385\n",
      "254.39636314370216\n",
      "269.5218618599405\n",
      "306.71163485894664\n"
     ]
    },
    {
     "name": "stderr",
     "output_type": "stream",
     "text": [
      "2025-05-02 17:24:14,466 - root - INFO - 357 sectors selected over 440 covering 92% of total output & 71% of final demand\n",
      "2025-05-02 17:24:14,467 - root - INFO - The filtered sectors are: [('ARM', 'ATP'), ('ARM', 'BPH'), ('ARM', 'B_T'), ('ARM', 'CHM'), ('ARM', 'CMT'), ('ARM', 'CNS'), ('ARM', 'CTL'), ('ARM', 'C_B'), ('ARM', 'EEQ'), ('ARM', 'ELE'), ('ARM', 'ELY'), ('ARM', 'FMP'), ('ARM', 'FRS'), ('ARM', 'FSH'), ('ARM', 'GDT'), ('ARM', 'GRO'), ('ARM', 'I_S'), ('ARM', 'LEA'), ('ARM', 'LUM'), ('ARM', 'MIL'), ('ARM', 'MVH'), ('ARM', 'NFM'), ('ARM', 'NMM'), ('ARM', 'OAP'), ('ARM', 'OCR'), ('ARM', 'OFD'), ('ARM', 'OME'), ('ARM', 'OMF'), ('ARM', 'OMT'), ('ARM', 'OSD'), ('ARM', 'OTN'), ('ARM', 'OTP'), ('ARM', 'OXT'), ('ARM', 'PFB'), ('ARM', 'PPP'), ('ARM', 'RMK'), ('ARM', 'RPP'), ('ARM', 'SER'), ('ARM', 'SGR'), ('ARM', 'TEX'), ('ARM', 'TRD'), ('ARM', 'VOL'), ('ARM', 'V_F'), ('ARM', 'WAP'), ('ARM', 'WHS'), ('ARM', 'WHT'), ('ARM', 'WOL'), ('ARM', 'WTP'), ('ARM', 'WTR'), ('AZE', 'ATP'), ('AZE', 'BPH'), ('AZE', 'B_T'), ('AZE', 'CHM'), ('AZE', 'CMT'), ('AZE', 'CNS'), ('AZE', 'CTL'), ('AZE', 'C_B'), ('AZE', 'EEQ'), ('AZE', 'ELE'), ('AZE', 'ELY'), ('AZE', 'FMP'), ('AZE', 'FRS'), ('AZE', 'FSH'), ('AZE', 'GAS'), ('AZE', 'GDT'), ('AZE', 'GRO'), ('AZE', 'I_S'), ('AZE', 'LEA'), ('AZE', 'LUM'), ('AZE', 'MIL'), ('AZE', 'MVH'), ('AZE', 'NMM'), ('AZE', 'OAP'), ('AZE', 'OCR'), ('AZE', 'OFD'), ('AZE', 'OME'), ('AZE', 'OMF'), ('AZE', 'OMT'), ('AZE', 'OSD'), ('AZE', 'OTN'), ('AZE', 'OTP'), ('AZE', 'OXT'), ('AZE', 'PCR'), ('AZE', 'PDR'), ('AZE', 'PFB'), ('AZE', 'PPP'), ('AZE', 'P_C'), ('AZE', 'RMK'), ('AZE', 'RPP'), ('AZE', 'SER'), ('AZE', 'SGR'), ('AZE', 'TEX'), ('AZE', 'TRD'), ('AZE', 'VOL'), ('AZE', 'V_F'), ('AZE', 'WAP'), ('AZE', 'WHS'), ('AZE', 'WHT'), ('AZE', 'WOL'), ('AZE', 'WTP'), ('AZE', 'WTR'), ('GEO', 'ATP'), ('GEO', 'BPH'), ('GEO', 'B_T'), ('GEO', 'CHM'), ('GEO', 'CMT'), ('GEO', 'CNS'), ('GEO', 'CTL'), ('GEO', 'EEQ'), ('GEO', 'ELE'), ('GEO', 'ELY'), ('GEO', 'FMP'), ('GEO', 'FRS'), ('GEO', 'FSH'), ('GEO', 'GRO'), ('GEO', 'I_S'), ('GEO', 'LEA'), ('GEO', 'LUM'), ('GEO', 'MIL'), ('GEO', 'MVH'), ('GEO', 'NFM'), ('GEO', 'NMM'), ('GEO', 'OAP'), ('GEO', 'OCR'), ('GEO', 'OFD'), ('GEO', 'OME'), ('GEO', 'OMF'), ('GEO', 'OMT'), ('GEO', 'OTN'), ('GEO', 'OTP'), ('GEO', 'OXT'), ('GEO', 'PCR'), ('GEO', 'PPP'), ('GEO', 'P_C'), ('GEO', 'RMK'), ('GEO', 'RPP'), ('GEO', 'SER'), ('GEO', 'SGR'), ('GEO', 'TEX'), ('GEO', 'TRD'), ('GEO', 'VOL'), ('GEO', 'V_F'), ('GEO', 'WAP'), ('GEO', 'WHS'), ('GEO', 'WHT'), ('GEO', 'WOL'), ('GEO', 'WTP'), ('GEO', 'WTR'), ('KAZ', 'ATP'), ('KAZ', 'BPH'), ('KAZ', 'B_T'), ('KAZ', 'CHM'), ('KAZ', 'CMT'), ('KAZ', 'CNS'), ('KAZ', 'COA'), ('KAZ', 'CTL'), ('KAZ', 'C_B'), ('KAZ', 'EEQ'), ('KAZ', 'ELE'), ('KAZ', 'ELY'), ('KAZ', 'FMP'), ('KAZ', 'FRS'), ('KAZ', 'FSH'), ('KAZ', 'GAS'), ('KAZ', 'GDT'), ('KAZ', 'GRO'), ('KAZ', 'I_S'), ('KAZ', 'LEA'), ('KAZ', 'LUM'), ('KAZ', 'MIL'), ('KAZ', 'MVH'), ('KAZ', 'NFM'), ('KAZ', 'NMM'), ('KAZ', 'OAP'), ('KAZ', 'OCR'), ('KAZ', 'OFD'), ('KAZ', 'OME'), ('KAZ', 'OMF'), ('KAZ', 'OMT'), ('KAZ', 'OSD'), ('KAZ', 'OTN'), ('KAZ', 'OTP'), ('KAZ', 'OXT'), ('KAZ', 'PCR'), ('KAZ', 'PDR'), ('KAZ', 'PFB'), ('KAZ', 'PPP'), ('KAZ', 'P_C'), ('KAZ', 'RMK'), ('KAZ', 'RPP'), ('KAZ', 'SER'), ('KAZ', 'SGR'), ('KAZ', 'TEX'), ('KAZ', 'TRD'), ('KAZ', 'VOL'), ('KAZ', 'V_F'), ('KAZ', 'WAP'), ('KAZ', 'WHS'), ('KAZ', 'WHT'), ('KAZ', 'WOL'), ('KAZ', 'WTP'), ('KAZ', 'WTR'), ('KGZ', 'ATP'), ('KGZ', 'BPH'), ('KGZ', 'B_T'), ('KGZ', 'CHM'), ('KGZ', 'CMT'), ('KGZ', 'CNS'), ('KGZ', 'COA'), ('KGZ', 'CTL'), ('KGZ', 'EEQ'), ('KGZ', 'ELE'), ('KGZ', 'ELY'), ('KGZ', 'FMP'), ('KGZ', 'FRS'), ('KGZ', 'GAS'), ('KGZ', 'GDT'), ('KGZ', 'GRO'), ('KGZ', 'I_S'), ('KGZ', 'LEA'), ('KGZ', 'MIL'), ('KGZ', 'MVH'), ('KGZ', 'NFM'), ('KGZ', 'NMM'), ('KGZ', 'OAP'), ('KGZ', 'OFD'), ('KGZ', 'OME'), ('KGZ', 'OMF'), ('KGZ', 'OMT'), ('KGZ', 'OTN'), ('KGZ', 'OTP'), ('KGZ', 'OXT'), ('KGZ', 'PCR'), ('KGZ', 'PFB'), ('KGZ', 'PPP'), ('KGZ', 'P_C'), ('KGZ', 'RPP'), ('KGZ', 'SER'), ('KGZ', 'TEX'), ('KGZ', 'TRD'), ('KGZ', 'VOL'), ('KGZ', 'V_F'), ('KGZ', 'WAP'), ('KGZ', 'WHS'), ('KGZ', 'WHT'), ('KGZ', 'WOL'), ('KGZ', 'WTP'), ('KGZ', 'WTR'), ('TJK', 'ATP'), ('TJK', 'BPH'), ('TJK', 'B_T'), ('TJK', 'CMT'), ('TJK', 'CNS'), ('TJK', 'COA'), ('TJK', 'CTL'), ('TJK', 'EEQ'), ('TJK', 'ELE'), ('TJK', 'ELY'), ('TJK', 'FSH'), ('TJK', 'GRO'), ('TJK', 'LEA'), ('TJK', 'MIL'), ('TJK', 'MVH'), ('TJK', 'NMM'), ('TJK', 'OAP'), ('TJK', 'OFD'), ('TJK', 'OME'), ('TJK', 'OMF'), ('TJK', 'OMT'), ('TJK', 'OSD'), ('TJK', 'OTN'), ('TJK', 'OTP'), ('TJK', 'OXT'), ('TJK', 'PCR'), ('TJK', 'PFB'), ('TJK', 'P_C'), ('TJK', 'RMK'), ('TJK', 'SER'), ('TJK', 'TEX'), ('TJK', 'TRD'), ('TJK', 'VOL'), ('TJK', 'V_F'), ('TJK', 'WAP'), ('TJK', 'WHS'), ('TJK', 'WHT'), ('TJK', 'WOL'), ('TJK', 'WTR'), ('TKM', 'BPH'), ('TKM', 'CHM'), ('TKM', 'ELE'), ('TKM', 'ELY'), ('TKM', 'GAS'), ('TKM', 'MVH'), ('TKM', 'OFD'), ('TKM', 'OME'), ('TKM', 'OMF'), ('TKM', 'OTN'), ('TKM', 'P_C'), ('TKM', 'SER'), ('TKM', 'TEX'), ('TKM', 'VOL'), ('TKM', 'V_F'), ('TKM', 'WAP'), ('UZB', 'ATP'), ('UZB', 'BPH'), ('UZB', 'B_T'), ('UZB', 'CHM'), ('UZB', 'CMT'), ('UZB', 'CNS'), ('UZB', 'COA'), ('UZB', 'CTL'), ('UZB', 'C_B'), ('UZB', 'EEQ'), ('UZB', 'ELE'), ('UZB', 'ELY'), ('UZB', 'FMP'), ('UZB', 'FRS'), ('UZB', 'FSH'), ('UZB', 'GAS'), ('UZB', 'GDT'), ('UZB', 'GRO'), ('UZB', 'I_S'), ('UZB', 'LEA'), ('UZB', 'LUM'), ('UZB', 'MIL'), ('UZB', 'MVH'), ('UZB', 'NFM'), ('UZB', 'NMM'), ('UZB', 'OAP'), ('UZB', 'OCR'), ('UZB', 'OFD'), ('UZB', 'OME'), ('UZB', 'OMF'), ('UZB', 'OMT'), ('UZB', 'OSD'), ('UZB', 'OTN'), ('UZB', 'OTP'), ('UZB', 'OXT'), ('UZB', 'PCR'), ('UZB', 'PDR'), ('UZB', 'PFB'), ('UZB', 'PPP'), ('UZB', 'P_C'), ('UZB', 'RMK'), ('UZB', 'RPP'), ('UZB', 'SER'), ('UZB', 'SGR'), ('UZB', 'TEX'), ('UZB', 'TRD'), ('UZB', 'VOL'), ('UZB', 'V_F'), ('UZB', 'WAP'), ('UZB', 'WHS'), ('UZB', 'WHT'), ('UZB', 'WOL'), ('UZB', 'WTP'), ('UZB', 'WTR')]\n",
      "2025-05-02 17:24:14,468 - root - INFO - Generating the firms\n",
      "2025-05-02 17:24:14,498 - root - INFO - Number of firms from MRIO only: (440, 6)\n",
      "2025-05-02 17:24:14,500 - root - INFO - Processing files [WindowsPath('C:/Users/Celian/OneDrive/WorldBank/Model/disrupt-sc/input/ECA/Downscale/ag.geojson'), WindowsPath('C:/Users/Celian/OneDrive/WorldBank/Model/disrupt-sc/input/ECA/Downscale/mines.geojson'), WindowsPath('C:/Users/Celian/OneDrive/WorldBank/Model/disrupt-sc/input/ECA/Downscale/power_stations.geojson')]\n",
      "2025-05-02 17:24:14,616 - root - INFO - In file C:\\Users\\Celian\\OneDrive\\WorldBank\\Model\\disrupt-sc\\input\\ECA\\Downscale\\ag.geojson, the following regions will not be used: ['TUR'] because they are no part of the MRIO table: ['AZE', 'ARM', 'TKM', 'UZB', 'KGZ', 'KAZ', 'TJK', 'GEO']\n",
      "2025-05-02 17:24:14,620 - root - INFO - In file C:\\Users\\Celian\\OneDrive\\WorldBank\\Model\\disrupt-sc\\input\\ECA\\Downscale\\ag.geojson, the following columns will not be used: ['ID', 'sum_agr'] because they are no part of the list of sectors defined in the MRIO table: ['LUM', 'OAP', 'WHT', 'CTL', 'MVH', 'FRS', 'V_F', 'PCR', 'EEQ', 'OTN', 'GDT', 'PDR', 'FMP', 'CHM', 'RMK', 'NFM', 'PPP', 'P_C', 'OME', 'OCR', 'SER', 'MIL', 'SGR', 'OTP', 'CNS', 'OFD', 'OIL', 'I_S', 'C_B', 'OSD', 'WAP', 'COA', 'ATP', 'OMF', 'RPP', 'TEX', 'TRD', 'VOL', 'WOL', 'LEA', 'BPH', 'WTP', 'PFB', 'WTR', 'GRO', 'WHS', 'OMT', 'CMT', 'OXT', 'NMM', 'ELY', 'ELE', 'GAS', 'FSH', 'B_T']\n",
      "2025-05-02 17:24:14,646 - root - INFO - In file C:\\Users\\Celian\\OneDrive\\WorldBank\\Model\\disrupt-sc\\input\\ECA\\Downscale\\mines.geojson, the following regions will not be used: ['TUR'] because they are no part of the MRIO table: ['AZE', 'ARM', 'TKM', 'UZB', 'KGZ', 'KAZ', 'TJK', 'GEO']\n",
      "2025-05-02 17:24:14,648 - root - INFO - In file C:\\Users\\Celian\\OneDrive\\WorldBank\\Model\\disrupt-sc\\input\\ECA\\Downscale\\mines.geojson, the following columns will not be used: ['ID', 'AREA'] because they are no part of the list of sectors defined in the MRIO table: ['LUM', 'OAP', 'WHT', 'CTL', 'MVH', 'FRS', 'V_F', 'PCR', 'EEQ', 'OTN', 'GDT', 'PDR', 'FMP', 'CHM', 'RMK', 'NFM', 'PPP', 'P_C', 'OME', 'OCR', 'SER', 'MIL', 'SGR', 'OTP', 'CNS', 'OFD', 'OIL', 'I_S', 'C_B', 'OSD', 'WAP', 'COA', 'ATP', 'OMF', 'RPP', 'TEX', 'TRD', 'VOL', 'WOL', 'LEA', 'BPH', 'WTP', 'PFB', 'WTR', 'GRO', 'WHS', 'OMT', 'CMT', 'OXT', 'NMM', 'ELY', 'ELE', 'GAS', 'FSH', 'B_T']\n",
      "2025-05-02 17:24:14,663 - root - INFO - In file C:\\Users\\Celian\\OneDrive\\WorldBank\\Model\\disrupt-sc\\input\\ECA\\Downscale\\power_stations.geojson, the following regions will not be used: ['TUR'] because they are no part of the MRIO table: ['AZE', 'ARM', 'TKM', 'UZB', 'KGZ', 'KAZ', 'TJK', 'GEO']\n",
      "2025-05-02 17:24:14,666 - root - INFO - In file C:\\Users\\Celian\\OneDrive\\WorldBank\\Model\\disrupt-sc\\input\\ECA\\Downscale\\power_stations.geojson, the following columns will not be used: ['Plant name', 'Total Capacity (MW)', 'Country/Area', 'Latitude', 'Longitude', 'Fuel'] because they are no part of the list of sectors defined in the MRIO table: ['LUM', 'OAP', 'WHT', 'CTL', 'MVH', 'FRS', 'V_F', 'PCR', 'EEQ', 'OTN', 'GDT', 'PDR', 'FMP', 'CHM', 'RMK', 'NFM', 'PPP', 'P_C', 'OME', 'OCR', 'SER', 'MIL', 'SGR', 'OTP', 'CNS', 'OFD', 'OIL', 'I_S', 'C_B', 'OSD', 'WAP', 'COA', 'ATP', 'OMF', 'RPP', 'TEX', 'TRD', 'VOL', 'WOL', 'LEA', 'BPH', 'WTP', 'PFB', 'WTR', 'GRO', 'WHS', 'OMT', 'CMT', 'OXT', 'NMM', 'ELY', 'ELE', 'GAS', 'FSH', 'B_T']\n",
      "2025-05-02 17:24:14,674 - root - INFO - Processing disaggregated data\n",
      "2025-05-02 17:24:14,736 - root - INFO - Number of firms added from disaggregated data: (4500, 6)\n",
      "2025-05-02 17:24:14,737 - root - INFO - Duplicating firms where internal region_sector flows\n",
      "2025-05-02 17:24:14,935 - root - INFO - Number of firms added for internal flows: 42\n",
      "2025-05-02 17:24:15,317 - root - INFO - Filtering out firms with an estimated output of less than 1.0 mUSD\n",
      "2025-05-02 17:24:15,341 - root - INFO - Number of firms removed by the firm cutoff condition: 1770\n",
      "2025-05-02 17:24:15,349 - root - INFO - Assign firms to nearest road node\n"
     ]
    },
    {
     "name": "stdout",
     "output_type": "stream",
     "text": [
      "           tuple region sector region_sector  importance  \\\n",
      "id                                                         \n",
      "2010  (KGZ, OSD)    KGZ    OSD       KGZ_OSD         0.5   \n",
      "2017  (KGZ, OSD)    KGZ    OSD       KGZ_OSD       582.8   \n",
      "2024  (KGZ, OSD)    KGZ    OSD       KGZ_OSD      1071.6   \n",
      "2039  (KGZ, OSD)    KGZ    OSD       KGZ_OSD       116.0   \n",
      "2046  (KGZ, OSD)    KGZ    OSD       KGZ_OSD       136.2   \n",
      "2053  (KGZ, OSD)    KGZ    OSD       KGZ_OSD       149.3   \n",
      "2062  (KGZ, OSD)    KGZ    OSD       KGZ_OSD       792.5   \n",
      "2070  (KGZ, OSD)    KGZ    OSD       KGZ_OSD      2009.5   \n",
      "2079  (KGZ, OSD)    KGZ    OSD       KGZ_OSD      1550.9   \n",
      "2087  (KGZ, OSD)    KGZ    OSD       KGZ_OSD       397.8   \n",
      "2095  (KGZ, OSD)    KGZ    OSD       KGZ_OSD      2816.6   \n",
      "2102  (KGZ, OSD)    KGZ    OSD       KGZ_OSD         2.7   \n",
      "2114  (KGZ, OSD)    KGZ    OSD       KGZ_OSD         4.3   \n",
      "2121  (KGZ, OSD)    KGZ    OSD       KGZ_OSD         1.9   \n",
      "2128  (KGZ, OSD)    KGZ    OSD       KGZ_OSD        54.1   \n",
      "2135  (KGZ, OSD)    KGZ    OSD       KGZ_OSD        35.1   \n",
      "2142  (KGZ, OSD)    KGZ    OSD       KGZ_OSD       925.1   \n",
      "2160  (KGZ, OSD)    KGZ    OSD       KGZ_OSD      1880.5   \n",
      "2169  (KGZ, OSD)    KGZ    OSD       KGZ_OSD      1463.6   \n",
      "2178  (KGZ, OSD)    KGZ    OSD       KGZ_OSD       893.9   \n",
      "2335  (KGZ, OSD)    KGZ    OSD       KGZ_OSD      1200.7   \n",
      "2361  (KGZ, OSD)    KGZ    OSD       KGZ_OSD        73.1   \n",
      "2369  (KGZ, OSD)    KGZ    OSD       KGZ_OSD        63.5   \n",
      "2376  (KGZ, OSD)    KGZ    OSD       KGZ_OSD         3.6   \n",
      "2383  (KGZ, OSD)    KGZ    OSD       KGZ_OSD        70.1   \n",
      "2390  (KGZ, OSD)    KGZ    OSD       KGZ_OSD       380.4   \n",
      "2397  (KGZ, OSD)    KGZ    OSD       KGZ_OSD       768.4   \n",
      "2404  (KGZ, OSD)    KGZ    OSD       KGZ_OSD        20.6   \n",
      "2410  (KGZ, OSD)    KGZ    OSD       KGZ_OSD       743.9   \n",
      "2417  (KGZ, OSD)    KGZ    OSD       KGZ_OSD         0.2   \n",
      "2422  (KGZ, OSD)    KGZ    OSD       KGZ_OSD       229.2   \n",
      "2429  (KGZ, OSD)    KGZ    OSD       KGZ_OSD       176.2   \n",
      "3348  (KGZ, OSD)    KGZ    OSD       KGZ_OSD        52.3   \n",
      "4306  (KGZ, OSD)    KGZ    OSD       KGZ_OSD      1150.9   \n",
      "4315  (KGZ, OSD)    KGZ    OSD       KGZ_OSD      1046.2   \n",
      "4446  (KGZ, OSD)    KGZ    OSD       KGZ_OSD        65.0   \n",
      "4462  (KGZ, OSD)    KGZ    OSD       KGZ_OSD      1232.3   \n",
      "4470  (KGZ, OSD)    KGZ    OSD       KGZ_OSD      1533.3   \n",
      "4478  (KGZ, OSD)    KGZ    OSD       KGZ_OSD         0.9   \n",
      "4485  (KGZ, OSD)    KGZ    OSD       KGZ_OSD       612.5   \n",
      "4493  (KGZ, OSD)    KGZ    OSD       KGZ_OSD        21.9   \n",
      "\n",
      "                       geometry    id  \n",
      "id                                     \n",
      "2010  POINT (78.13153 41.80204)  2010  \n",
      "2017  POINT (79.21396 42.25783)  2017  \n",
      "2024   POINT (78.5879 42.72356)  2024  \n",
      "2039  POINT (77.03334 42.71562)  2039  \n",
      "2046  POINT (77.27665 42.44026)  2046  \n",
      "2053  POINT (74.60327 42.87725)  2053  \n",
      "2062  POINT (74.58623 42.73605)  2062  \n",
      "2070  POINT (75.33625 42.60495)  2070  \n",
      "2079  POINT (74.91455 42.70613)  2079  \n",
      "2087  POINT (76.19617 42.78191)  2087  \n",
      "2095  POINT (75.60193 42.11474)  2095  \n",
      "2102  POINT (76.71066 42.02693)  2102  \n",
      "2114  POINT (74.77401 41.24366)  2114  \n",
      "2121   POINT (76.09334 41.5461)  2121  \n",
      "2128  POINT (72.99357 41.81758)  2128  \n",
      "2135  POINT (74.03691 41.38136)  2135  \n",
      "2142   POINT (73.57247 40.8316)  2142  \n",
      "2160  POINT (73.25591 41.10358)  2160  \n",
      "2169  POINT (72.98012 41.27895)  2169  \n",
      "2178  POINT (72.49744 41.25622)  2178  \n",
      "2335  POINT (71.20585 41.41383)  2335  \n",
      "2361  POINT (71.97666 41.61842)  2361  \n",
      "2369  POINT (71.10041 41.81297)  2369  \n",
      "2376  POINT (71.90817 42.36079)  2376  \n",
      "2383   POINT (74.53468 41.8911)  2383  \n",
      "2390  POINT (72.72423 42.40444)  2390  \n",
      "2397  POINT (73.81052 42.38371)  2397  \n",
      "2404  POINT (73.94369 42.44913)  2404  \n",
      "2410  POINT (74.07073 42.75921)  2410  \n",
      "2417  POINT (74.31584 42.83332)  2417  \n",
      "2422   POINT (71.80131 42.7164)  2422  \n",
      "2429  POINT (71.31227 42.44668)  2429  \n",
      "3348  POINT (69.78744 39.85343)  3348  \n",
      "4306   POINT (71.76076 39.9876)  4306  \n",
      "4315  POINT (70.78019 39.77132)  4315  \n",
      "4446  POINT (72.42935 40.45412)  4446  \n",
      "4462  POINT (72.61058 40.12199)  4462  \n",
      "4470   POINT (73.04199 40.3428)  4470  \n",
      "4478  POINT (72.80961 40.51863)  4478  \n",
      "4485  POINT (74.10635 40.45288)  4485  \n",
      "4493  POINT (73.45182 39.85186)  4493  \n",
      "           tuple region sector region_sector  importance  \\\n",
      "id                                                         \n",
      "2070  (KGZ, OSD)    KGZ    OSD       KGZ_OSD      2009.5   \n",
      "2095  (KGZ, OSD)    KGZ    OSD       KGZ_OSD      2816.6   \n",
      "\n",
      "                       geometry    id  \n",
      "id                                     \n",
      "2070  POINT (75.33625 42.60495)  2070  \n",
      "2095  POINT (75.60193 42.11474)  2095  \n"
     ]
    },
    {
     "name": "stderr",
     "output_type": "stream",
     "text": [
      "2025-05-02 17:24:15,691 - root - INFO - Create 3145 firms in 8 regions\n",
      "2025-05-02 17:24:15,695 - root - INFO - Creating firms. nb_firms: all inventory_restoration_time: 4 utilization_rate: 0.8\n",
      "2025-05-02 17:24:16,266 - root - INFO - Firm_list created, size is: 3145\n",
      "2025-05-02 17:24:16,268 - root - INFO - Number of sectors: 55\n",
      "2025-05-02 17:24:16,269 - root - INFO - Sectors present are: ['LUM', 'OAP', 'WHT', 'CTL', 'MVH', 'FRS', 'V_F', 'PCR', 'EEQ', 'OTN', 'GDT', 'PDR', 'FMP', 'CHM', 'RMK', 'NFM', 'PPP', 'P_C', 'OME', 'OCR', 'SER', 'MIL', 'SGR', 'OTP', 'CNS', 'OFD', 'OIL', 'I_S', 'C_B', 'OSD', 'WAP', 'COA', 'ATP', 'OMF', 'RPP', 'TEX', 'TRD', 'WOL', 'VOL', 'LEA', 'BPH', 'WTP', 'PFB', 'WTR', 'GRO', 'WHS', 'OMT', 'CMT', 'OXT', 'NMM', 'ELY', 'ELE', 'GAS', 'FSH', 'B_T']\n",
      "2025-05-02 17:24:16,270 - root - INFO - Number of region sectors: 440\n",
      "2025-05-02 17:24:16,271 - root - INFO - Defining the number of households to generate and their purchase plan\n",
      "2025-05-02 17:24:16,849 - root - INFO - Select 56 households in 7 regions\n",
      "2025-05-02 17:24:16,996 - root - INFO - Create 56 households in 56 od points\n",
      "2025-05-02 17:24:17,007 - root - INFO - Households generated\n"
     ]
    },
    {
     "name": "stdout",
     "output_type": "stream",
     "text": [
      "\n"
     ]
    },
    {
     "name": "stderr",
     "output_type": "stream",
     "text": [
      "2025-05-02 17:24:17,256 - root - INFO - Technical coefficient loaded.\n",
      "2025-05-02 17:24:17,283 - root - INFO - Creating countries.\n",
      "2025-05-02 17:24:17,307 - root - INFO - Total imports per week is 2706.0 mUSD\n",
      "2025-05-02 17:24:17,308 - root - INFO - Total exports per week is 8701.1 mUSD\n",
      "2025-05-02 17:24:17,309 - root - INFO - Total transit per week is 16.6 mUSD\n",
      "2025-05-02 17:24:17,594 - root - INFO - Countries created: {'Oceania': 'Oceania', 'North America': 'North America', 'South America': 'South America', 'TUR': 'TUR', 'Africa': 'Africa', 'CHN': 'CHN', 'America': 'America', 'Asia': 'Asia', 'Europe': 'Europe', 'ROW': 'ROW', 'RUS': 'RUS'}\n",
      "2025-05-02 17:24:17,831 - root - INFO - Firms, households, and countries saved in tmp folder: C:\\Users\\Celian\\OneDrive\\WorldBank\\Model\\disrupt-sc\\tmp\\firms_households_countries_pickle\n"
     ]
    }
   ],
   "source": [
    "model.setup_agents(cache_params[1])"
   ]
  },
  {
   "cell_type": "code",
   "execution_count": 14,
   "id": "b6c46acb-99d6-425e-adfc-6a018c2eaedd",
   "metadata": {},
   "outputs": [
    {
     "data": {
      "text/plain": [
       "[('ARM', 'CNS'),\n",
       " ('ARM', 'FSH'),\n",
       " ('ARM', 'I_S'),\n",
       " ('ARM', 'MIL'),\n",
       " ('ARM', 'OFD'),\n",
       " ('ARM', 'WTR'),\n",
       " ('AZE', 'MIL'),\n",
       " ('AZE', 'OSD'),\n",
       " ('AZE', 'OXT'),\n",
       " ('AZE', 'PDR'),\n",
       " ('AZE', 'RMK'),\n",
       " ('AZE', 'SER'),\n",
       " ('GEO', 'FRS'),\n",
       " ('GEO', 'FSH'),\n",
       " ('GEO', 'MIL'),\n",
       " ('GEO', 'OMT'),\n",
       " ('GEO', 'SER'),\n",
       " ('KAZ', 'CTL'),\n",
       " ('KAZ', 'OSD'),\n",
       " ('KAZ', 'P_C'),\n",
       " ('KAZ', 'SER'),\n",
       " ('KAZ', 'TEX'),\n",
       " ('KGZ', 'CTL'),\n",
       " ('KGZ', 'C_B'),\n",
       " ('KGZ', 'FSH'),\n",
       " ('KGZ', 'OMT'),\n",
       " ('KGZ', 'OSD'),\n",
       " ('KGZ', 'PDR'),\n",
       " ('KGZ', 'RMK'),\n",
       " ('KGZ', 'V_F'),\n",
       " ('KGZ', 'WHT'),\n",
       " ('KGZ', 'WOL'),\n",
       " ('KGZ', 'WTR'),\n",
       " ('TJK', 'CTL'),\n",
       " ('TJK', 'OSD'),\n",
       " ('TJK', 'OXT'),\n",
       " ('TJK', 'PDR'),\n",
       " ('TJK', 'RMK'),\n",
       " ('TJK', 'SER'),\n",
       " ('TJK', 'TEX'),\n",
       " ('TJK', 'V_F'),\n",
       " ('TJK', 'WHT'),\n",
       " ('TJK', 'WOL'),\n",
       " ('TKM', 'FRS'),\n",
       " ('TKM', 'OSD'),\n",
       " ('TKM', 'SER'),\n",
       " ('TKM', 'TEX'),\n",
       " ('UZB', 'CTL'),\n",
       " ('UZB', 'FRS'),\n",
       " ('UZB', 'FSH'),\n",
       " ('UZB', 'MIL'),\n",
       " ('UZB', 'MVH'),\n",
       " ('UZB', 'OMT'),\n",
       " ('UZB', 'PDR'),\n",
       " ('UZB', 'SGR'),\n",
       " ('UZB', 'TEX'),\n",
       " ('UZB', 'WHT'),\n",
       " ('UZB', 'WOL')]"
      ]
     },
     "execution_count": 14,
     "metadata": {},
     "output_type": "execute_result"
    }
   ],
   "source": [
    "model.mrio.get_region_sectors_with_internal_flows(parameters.io_cutoff)"
   ]
  },
  {
   "cell_type": "code",
   "execution_count": null,
   "id": "3fcf736b-5321-4017-9b6e-7b9f97e9cec9",
   "metadata": {},
   "outputs": [],
   "source": [
    "model.setup_sc_network(cache_params[2])"
   ]
  },
  {
   "cell_type": "code",
   "execution_count": null,
   "id": "b301ed3b-414e-40b7-9b06-55fdb11bf2ca",
   "metadata": {
    "scrolled": true
   },
   "outputs": [],
   "source": [
    "model.set_initial_conditions()"
   ]
  },
  {
   "cell_type": "code",
   "execution_count": null,
   "id": "7f136477-eb5c-4ecb-9043-6634d3dd4802",
   "metadata": {},
   "outputs": [],
   "source": [
    "model.setup_logistic_routes(cache_params[3])"
   ]
  },
  {
   "cell_type": "markdown",
   "id": "37d37e01-9dd2-44b0-a3db-3daf1faa21db",
   "metadata": {},
   "source": [
    "### Static analysis"
   ]
  },
  {
   "cell_type": "code",
   "execution_count": null,
   "id": "51a75b8a-e630-41c5-becd-014dd0911916",
   "metadata": {},
   "outputs": [],
   "source": [
    "EPSILON = 1e-5\n",
    "\n",
    "def add_borders(ax, selected_countries):\n",
    "    countries = gpd.read_file(\"countries.geojson\")\n",
    "    selected_boundaries = countries[countries[\"iso_a3\"].isin(selected_countries)] #ISO_A3\n",
    "    minx, miny, maxx, maxy = selected_boundaries.total_bounds\n",
    "    selected_boundaries.boundary.plot(ax=ax, color=\"black\", linewidth=1)\n",
    "    margin = 1\n",
    "    ax.set_xlim(min(minx, maxx) - margin, max(minx, maxx) + margin)\n",
    "    ax.set_ylim(min(miny, maxy) - margin, max(miny, maxy) + margin)\n",
    "\n",
    "def calc_usd_km(df, what):\n",
    "    return (df[what] * df['km']).sum()\n",
    "\n",
    "def add_edge_id(ax, gdf):\n",
    "    lengths = gdf.geometry.length\n",
    "    threshold = lengths.quantile(0.995)  # Adjust as needed\n",
    "    for idx, row in gdf.iterrows():\n",
    "        line_length = row.geometry.length  # Compute line length\n",
    "        if line_length > threshold:  # Only label big features\n",
    "            centroid = row.geometry.centroid  # Get the center of the line\n",
    "            ax.annotate(\n",
    "                text=row[\"id\"],  # Replace with the actual column name for edge ID\n",
    "                xy=(centroid.x, centroid.y),  # Position at the centroid of the edge\n",
    "                xytext=(0, 3),  # Offset slightly for better visibility\n",
    "                textcoords=\"offset points\",\n",
    "                fontsize=8,\n",
    "                color=\"black\",\n",
    "                ha=\"center\",\n",
    "                va=\"center\",\n",
    "                bbox=dict(facecolor=\"white\", edgecolor=\"none\", alpha=0.7)  # Background for readability\n",
    "            )\n",
    "\n",
    "def plot_route(route, model, ax):\n",
    "    model.transport_edges.loc[route.transport_edge_ids].plot(ax=ax, color=\"red\")\n",
    "\n",
    "def plot_perturbed_link(perturbed_links, time_step, what):\n",
    "    perturbed_links_one_ts = perturbed_links[perturbed_links['time_step'] == time_step]\n",
    "    fig = make_subplots(rows=1, cols=3, subplot_titles=[\"Shipment Method\", \"Product Type\", \"Category\"])\n",
    "    add_full_trace(fig, px.histogram(perturbed_links_one_ts, x=what, color='shipment_method').data, (1,1))\n",
    "    add_full_trace(fig, px.histogram(perturbed_links_one_ts, x=what, color='product_type').data, (1,2))\n",
    "    add_full_trace(fig, px.histogram(perturbed_links_one_ts, x=what, color='category').data, (1,3))\n",
    "    fig.update_layout(title_text=\"Perturbed commercial relationships\", showlegend=False,\n",
    "                      barmode=\"stack\", height=300, width=800)\n",
    "    fig.show()\n",
    "\n",
    "\n",
    "def plot_pie_chart(flow_dif_on_edges, groups):\n",
    "    # Calculate flow per category\n",
    "    positive_flow_dif_on_edges = flow_dif_on_edges[flow_dif_on_edges[\"flow_total\"] > EPSILON]\n",
    "    positive_flow_per_cat = {cat: calc_usd_km(positive_flow_dif_on_edges, 'flow_' + cat) for cat in groups}\n",
    "    positive_flow_per_cat = pd.Series(positive_flow_per_cat).reset_index()\n",
    "    positive_flow_per_cat.columns = [\"Category\", \"Value\"]\n",
    "    \n",
    "    negative_flow_dif_on_edges = flow_dif_on_edges[flow_dif_on_edges[\"flow_total\"] < EPSILON]\n",
    "    negative_flow_per_cat = {cat: calc_usd_km(negative_flow_dif_on_edges, 'flow_' + cat) for cat in groups}\n",
    "    negative_flow_per_cat = pd.Series(negative_flow_per_cat).reset_index()\n",
    "    negative_flow_per_cat.columns = [\"Category\", \"Value\"]\n",
    "    negative_flow_per_cat['Value'] = -negative_flow_per_cat['Value']\n",
    "\n",
    "    fig = make_subplots(rows=1, cols=2,\n",
    "                        subplot_titles=(\"Negative Flow\", \"Positive Flow\"),\n",
    "                        specs=[[{\"type\": \"domain\"}, {\"type\": \"domain\"}]])  # Domain for pie charts\n",
    "    fig.add_trace(px.pie(negative_flow_per_cat, names=\"Category\", values=\"Value\").data[0], row=1, col=1)\n",
    "    fig.add_trace(px.pie(positive_flow_per_cat, names=\"Category\", values=\"Value\").data[0], row=1, col=2)\n",
    "    fig.update_layout(title_text=\"Comparison of Positive and Negative Flow\", showlegend=True, height=300)\n",
    "    fig.show()"
   ]
  },
  {
   "cell_type": "code",
   "execution_count": null,
   "id": "ae5bf81a-0244-4d1e-9167-f987e37507b8",
   "metadata": {},
   "outputs": [],
   "source": [
    "# Create the plot\n",
    "fig, ax = plt.subplots(figsize=(10, 8))\n",
    "add_borders(ax, model.mrio.regions)\n",
    "model.transport_edges.plot(column=\"type\", legend=True, ax=ax, cmap=\"tab10\")  # Use a colormap like \"tab10\"*\n",
    "plt.show()"
   ]
  },
  {
   "cell_type": "markdown",
   "id": "c54e6712-db78-4d09-9eaa-cecb22ffdb70",
   "metadata": {},
   "source": [
    "### Simulation"
   ]
  },
  {
   "cell_type": "code",
   "execution_count": null,
   "id": "b4cc8e51-c0ab-47cf-ba71-9480790c481b",
   "metadata": {
    "scrolled": true
   },
   "outputs": [],
   "source": [
    "from disruptsc.disruption.disruption import DisruptionList\n",
    "\n",
    "parameters.simulation_type = \"event\"\n",
    "ecuador_event = {\n",
    "    \"type\": \"capital_destruction\",\n",
    "    \"description_type\": \"sectors_homogeneous\",\n",
    "    #\"attribute\": \"name\",\n",
    "    'region_sectors': model.mrio.region_sector_names, #['ECU_CAR', 'ECU_CIN'],\n",
    "    #\"values\": [\"railways-GEO\"],\n",
    "    \"destroyed_capital\": 2510.0,\n",
    "    \"unit\": \"mUSD\",\n",
    "    'reconstruction_market': False,\n",
    "    \"start_time\": 1,\n",
    "    \"duration\": 1\n",
    "}\n",
    "eca_event = {\n",
    "    \"type\": \"transport_disruption\",\n",
    "    \"description_type\": \"edge_attributes\",\n",
    "    \"duration\": 3,\n",
    "    \"start_time\": 1,\n",
    "    \"attribute\": \"name\",\n",
    "    \"values\": [\"baku\"]\n",
    "}\n",
    "parameters.events = [ecuador_event]\n",
    "\n",
    "model.disruption_list = DisruptionList.from_events_parameter(parameters.events,\n",
    "                                                            parameters.monetary_units_in_model,\n",
    "                                                            model.transport_edges, model.firm_table,\n",
    "                                                            model.firms)\n",
    "if len(model.disruption_list) == 0:\n",
    "    raise ValueError(\"No disruption could be read\")\n",
    "logging.info(f\"{len(model.disruption_list)} disruption(s) will occur\")\n",
    "model.disruption_list.log_info()\n",
    "\n",
    "disrupted_edges = [list(event.keys()) for event in model.disruption_list]\n",
    "disrupted_edges = [item for sublist in disrupted_edges for item in sublist]"
   ]
  },
  {
   "cell_type": "code",
   "execution_count": null,
   "id": "041d4d6c-14ec-40a0-b62f-72c7cb29b509",
   "metadata": {
    "scrolled": true
   },
   "outputs": [],
   "source": [
    "from disruptsc.simulation.simulation import Simulation\n",
    "\n",
    "simulation = Simulation(\"disruption\")\n",
    "model.set_initial_conditions()\n",
    "\n",
    "t_final = 180\n",
    "for t in range(t_final + 1):\n",
    "    model.run_one_time_step(time_step=t, current_simulation=simulation)\n",
    "\n",
    "household_loss_per_region = simulation.calculate_household_loss(model.household_table, per_region=True)\n",
    "household_loss = sum(household_loss_per_region.values())\n",
    "country_loss = simulation.calculate_country_loss()\n",
    "print(\"\")\n",
    "print(\"======== Simulation terminated ========\")\n",
    "print(f\"Household loss: {int(household_loss)} {parameters.monetary_units_in_model}.\")\n",
    "print(f\"Country loss: {int(country_loss)} {parameters.monetary_units_in_model}.\")"
   ]
  },
  {
   "cell_type": "code",
   "execution_count": null,
   "id": "80db4135-262e-4e68-8122-fc3070763ad8",
   "metadata": {},
   "outputs": [],
   "source": [
    "from disruptsc.simulation.simulation import Simulation\n",
    "\n",
    "simulation = Simulation(\"stationary_test\")\n",
    "model.set_initial_conditions()\n",
    "t_final = 1\n",
    "for t in range(t_final + 1):\n",
    "    model.run_one_time_step(time_step=t, current_simulation=simulation)"
   ]
  },
  {
   "cell_type": "markdown",
   "id": "51e4e0da-9967-4ff1-b0b3-62c05049a7d0",
   "metadata": {},
   "source": [
    "### Change of flows"
   ]
  },
  {
   "cell_type": "code",
   "execution_count": null,
   "id": "609ff4ca-2631-4ba8-8d7f-d8d290aabbb2",
   "metadata": {},
   "outputs": [],
   "source": [
    "flow_df = pd.DataFrame(simulation.transport_network_data)\n",
    "#flow_df = flow_df[flow_df['flow_total'] != 0]\n",
    "transport_edges_with_flows = {}\n",
    "for time_step in flow_df['time_step'].unique():\n",
    "    transport_edges_with_flows[time_step] = pd.merge(\n",
    "        model.transport_edges, flow_df[flow_df['time_step'] == time_step],\n",
    "        how=\"left\", on=\"id\")\n",
    "\n",
    "#transport_edges_with_flows[1].set_index('id').loc[disrupted_edges, \"flow_total\"]\n",
    "\n",
    "flow_types = [flow_type for flow_type in flow_df.columns if flow_type[:4] == \"flow\"]\n",
    "flow_dif = transport_edges_with_flows[1].set_index('id')[flow_types] - transport_edges_with_flows[0].set_index('id')[flow_types]\n",
    "flow_dif = flow_dif.dropna(subset=['flow_total'])\n",
    "flow_dif = flow_dif[abs(flow_dif['flow_total']) > 1e-9]\n",
    "flow_dif = flow_dif.sort_values('flow_total', ascending=False)\n",
    "flow_dif_on_edges = pd.merge(flow_dif.reset_index(), model.transport_edges, how=\"left\", on=\"id\")\n",
    "flow_dif_on_edges = gpd.GeoDataFrame(flow_dif_on_edges, crs=model.transport_edges.crs)\n",
    "flow_dif_on_edges['change'] = \"decrease\"\n",
    "flow_dif_on_edges.loc[flow_dif_on_edges['flow_total'] > 0, 'change'] = \"increase\"\n",
    "flow_dif_on_edges.head()"
   ]
  },
  {
   "cell_type": "code",
   "execution_count": null,
   "id": "a8bb9e8b-99c5-484b-8e29-0cd119cee38b",
   "metadata": {},
   "outputs": [],
   "source": [
    "print(flow_dif_on_edges.groupby('change').apply(calc_usd_km, \"flow_total\", include_groups=False).to_dict())\n",
    "print(\"net:\", calc_usd_km(flow_dif_on_edges, 'flow_total'))"
   ]
  },
  {
   "cell_type": "code",
   "execution_count": null,
   "id": "95bb2c55-1636-4f4e-a379-384f34b030f0",
   "metadata": {},
   "outputs": [],
   "source": [
    "main_sectors = ['agriculture', 'manufacturing', 'mining', 'import'] #!+ ['oil_and_gas']\n",
    "plot_pie_chart(flow_dif_on_edges, main_sectors)"
   ]
  },
  {
   "cell_type": "code",
   "execution_count": null,
   "id": "8f5d9c6d-7381-4809-abdf-c32acadafd4e",
   "metadata": {},
   "outputs": [],
   "source": [
    "flow_types = ['domestic_B2B', 'domestic_B2C', 'import', 'export']\n",
    "plot_pie_chart(flow_dif_on_edges, flow_types)"
   ]
  },
  {
   "cell_type": "code",
   "execution_count": null,
   "id": "11c3e28f-e6cb-4d31-9758-181442185138",
   "metadata": {},
   "outputs": [],
   "source": [
    "transport_edges_with_flows[0].to_file(\"flows.geojson\", driver=\"GeoJSON\")"
   ]
  },
  {
   "cell_type": "code",
   "execution_count": null,
   "id": "38bc92a9-1a9b-4ec5-95ae-7f17fb287194",
   "metadata": {},
   "outputs": [],
   "source": []
  },
  {
   "cell_type": "code",
   "execution_count": null,
   "id": "3b2c2780-7df1-4505-8b8d-5529690c01b7",
   "metadata": {
    "scrolled": true
   },
   "outputs": [],
   "source": [
    "ee = [7887, 7889]\n",
    "for u, v, dat in tn2.edges(data=True):\n",
    "    if (dat['type'] == \"railways\") and (dat['special'] == \"custom\"):\n",
    "        print(u,v, dat)"
   ]
  },
  {
   "cell_type": "code",
   "execution_count": null,
   "id": "c3632374-5227-4366-aaff-51e507d1733b",
   "metadata": {},
   "outputs": [],
   "source": [
    "tn2 = model.transport_network.copy()\n",
    "tn2.remove_edge(7875, 7876)"
   ]
  },
  {
   "cell_type": "code",
   "execution_count": null,
   "id": "12d4e29b-715c-48b1-ab56-2d0c08fd2155",
   "metadata": {},
   "outputs": [],
   "source": [
    "for u, v in r1.transport_edges[:]:\n",
    "    print(u, v, model.transport_network[u][v]['km'], model.transport_network[u][v]['cost_per_ton_0_container'])"
   ]
  },
  {
   "cell_type": "code",
   "execution_count": null,
   "id": "c71dc741-80c5-45bf-8d83-72bd1ffe2dd8",
   "metadata": {},
   "outputs": [],
   "source": [
    "for u, v in r2.transport_edges[:]:\n",
    "    print(u, v, model.transport_network[u][v]['km'], model.transport_network[u][v]['cost_per_ton_0_container'])"
   ]
  },
  {
   "cell_type": "code",
   "execution_count": null,
   "id": "3dfc72e7-e8b8-4c66-a139-e0499c52f597",
   "metadata": {},
   "outputs": [],
   "source": []
  },
  {
   "cell_type": "code",
   "execution_count": null,
   "id": "aa478fb6-1051-4749-91f5-bf462256a315",
   "metadata": {},
   "outputs": [],
   "source": [
    "parameters = Parameters.load_parameters(paths.PARAMETER_FOLDER, scope)\n",
    "parameters.add_variability_to_basic_cost()\n",
    "model.transport_network.ingest_logistic_data(parameters.logistics)\n",
    "\n",
    "r1 = model.firms[who].choose_route(model.transport_network, model.firms[who].od_point, model.countries['Europe'].od_point, shipment_method=\"container\", capacity_constraint=False, transport_cost_noise_level=0)\n",
    "plot_route(r1, model, ax)\n",
    "print(r1.sum_indicator(model.transport_network, \"cost_per_ton_0_container\"))\n",
    "r2 = model.firms[who].choose_route(model.transport_network, model.firms[who].od_point, model.countries['RUS'].od_point, shipment_method=\"container\", capacity_constraint=False, transport_cost_noise_level=0)\n",
    "plot_route(r2, model, ax)\n",
    "print(r2.sum_indicator(model.transport_network, \"cost_per_ton_0_container\"))\n",
    "r3 = model.firms[who].choose_route(model.transport_network, model.countries['RUS'].od_point, model.countries['Europe'].od_point, shipment_method=\"container\", capacity_constraint=False, transport_cost_noise_level=0)\n",
    "plot_route(r3, model, ax)\n",
    "print(r3.sum_indicator(model.transport_network, \"cost_per_ton_0_container\"))\n",
    "print(r2.sum_indicator(model.transport_network, \"cost_per_ton_0_container\") + r3.sum_indicator(model.transport_network, \"cost_per_ton_0_container\"))"
   ]
  },
  {
   "cell_type": "code",
   "execution_count": null,
   "id": "83f56d53-5769-44b8-906c-3df6d82a45fa",
   "metadata": {},
   "outputs": [],
   "source": [
    "who = 928\n",
    "# Create the plot\n",
    "fig, ax = plt.subplots(figsize=(10, 8))\n",
    "add_borders(ax, model.mrio.regions)\n",
    "time_step = 0\n",
    "transport_edges_with_flows[time_step][\"line_width\"] = transport_edges_with_flows[time_step][\"flow_total\"] / transport_edges_with_flows[0][\"flow_total\"].max() * 5  # Adjust factor for visibility\n",
    "transport_edges_with_flows[time_step].plot(\n",
    "    ax=ax,\n",
    "    linewidth=transport_edges_with_flows[time_step][\"line_width\"],  \n",
    "    linestyle=\"-\",\n",
    "    alpha=0.8,\n",
    "    capstyle=\"round\"\n",
    ")\n",
    "#add_edge_id(ax, transport_edges_with_flows[time_step])\n",
    "model.transport_nodes.loc[[185, 318, 6929,\n",
    "                           #model.households['hh_25'].od_point, \n",
    "                           model.firms[who].od_point,\n",
    "                           model.countries['Europe'].od_point]].plot(ax=ax, color=\"red\")\n",
    "r1 = model.firms[who].choose_route(model.transport_network, model.firms[who].od_point, model.countries['Europe'].od_point, shipment_method=\"container\", capacity_constraint=False, transport_cost_noise_level=0)\n",
    "plot_route(r1, model, ax)\n",
    "print(r1.sum_indicator(model.transport_network, \"cost_per_ton_0_container\"))\n",
    "r2 = model.firms[who].choose_route(model.transport_network, model.firms[who].od_point, model.countries['RUS'].od_point, shipment_method=\"container\", capacity_constraint=False, transport_cost_noise_level=0)\n",
    "plot_route(r2, model, ax)\n",
    "print(r2.sum_indicator(model.transport_network, \"cost_per_ton_0_container\"))\n",
    "r3 = model.firms[who].choose_route(model.transport_network, model.countries['RUS'].od_point, model.countries['Europe'].od_point, shipment_method=\"container\", capacity_constraint=False, transport_cost_noise_level=0)\n",
    "plot_route(r3, model, ax)\n",
    "print(r3.sum_indicator(model.transport_network, \"cost_per_ton_0_container\"))\n",
    "if model.disruption_list:\n",
    "    if pd.Series(['Transport' in str(type(event)) for event in model.disruption_list]).any():\n",
    "        disrupted_edges_midpoint = model.transport_edges[model.transport_edges['id'].isin(disrupted_edges)].copy()\n",
    "        disrupted_edges_midpoint[\"geometry\"] = disrupted_edges_midpoint[\"geometry\"].apply(lambda line: line.interpolate(0.5, normalized=True) if line else None)\n",
    "        disrupted_edges_midpoint.plot(ax=ax, color=\"red\", markersize=100, marker=\"o\", label=\"Midpoints\", zorder=10)\n",
    "\n",
    "plt.show()"
   ]
  },
  {
   "cell_type": "code",
   "execution_count": null,
   "id": "8a7dd70d-e6e5-4f7f-bdbc-e4c9a96ed770",
   "metadata": {},
   "outputs": [],
   "source": [
    "model.firms[931]"
   ]
  },
  {
   "cell_type": "code",
   "execution_count": null,
   "id": "aa6aa968-114f-435d-8817-7f2478b2350d",
   "metadata": {},
   "outputs": [],
   "source": [
    "r2 = model.firms[931].choose_route(model.transport_network, model.firms[931].od_point, model.countries['CHN'].od_point, shipment_method=\"container\", capacity_constraint=False, transport_cost_noise_level=0)\n",
    "r2.transport_modes"
   ]
  },
  {
   "cell_type": "code",
   "execution_count": null,
   "id": "604bc84f-e52a-4dbb-94fa-8242012f39a8",
   "metadata": {},
   "outputs": [],
   "source": [
    "from disruptsc.model.basic_functions import rescale_monetary_values, find_nearest_node_id\n",
    "\n",
    "buying_countries = model.mrio.external_buying_countries\n",
    "selling_countries = model.mrio.external_selling_countries\n",
    "country_list = list(set(buying_countries) | set(selling_countries))\n",
    "country_table = gpd.read_file(parameters.filepaths['region_table']).set_index('region').loc[country_list]\n",
    "admissible_node_mode = ['roads', 'railways', 'maritime']\n",
    "potential_nodes = model.transport_nodes[model.transport_nodes['type'].isin(admissible_node_mode)]\n",
    "country_table['od_point'] = find_nearest_node_id(potential_nodes, country_table)\n",
    "country_table"
   ]
  },
  {
   "cell_type": "code",
   "execution_count": null,
   "id": "dfc1f471-90a5-4eaf-95af-861090feda0b",
   "metadata": {
    "scrolled": true
   },
   "outputs": [],
   "source": [
    "fig, ax = plt.subplots(figsize=(10, 8))\n",
    "add_borders(ax, model.mrio.regions)\n",
    "flow_dif_on_edges[\"line_width\"] = abs(flow_dif_on_edges[\"flow_total\"]) / abs(flow_dif_on_edges[\"flow_total\"]).max() * 5  # Adjust factor for visibility\n",
    "color_map = {\"increase\": \"green\", \"decrease\": \"orange\"}\n",
    "if flow_dif_on_edges.shape[0] > 0:\n",
    "    for change_type, color in color_map.items():\n",
    "        cond = flow_dif_on_edges[\"change\"] == change_type\n",
    "        if cond.any():\n",
    "            flow_dif_on_edges[cond].plot(\n",
    "                ax=ax,\n",
    "                color=color,\n",
    "                linewidth=flow_dif_on_edges.loc[flow_dif_on_edges[\"change\"] == change_type, \"line_width\"],  \n",
    "                linestyle=\"-\",\n",
    "                alpha=0.8,\n",
    "                capstyle=\"round\",\n",
    "                label=f\"Change: {change_type}\"\n",
    "            )\n",
    "if pd.Series(['Transport' in str(type(event)) for event in model.disruption_list]).any():\n",
    "    disrupted_edges_midpoint = model.transport_edges[model.transport_edges['id'].isin(disrupted_edges)].copy()\n",
    "    disrupted_edges_midpoint[\"geometry\"] = disrupted_edges_midpoint[\"geometry\"].apply(lambda line: line.interpolate(0.5, normalized=True) if line else None)\n",
    "    disrupted_edges_midpoint.plot(ax=ax, color=\"red\", markersize=100, marker=\"o\", label=\"Midpoints\", zorder=10)\n",
    "\n",
    "legend_patches = [\n",
    "    mpatches.Patch(color=\"green\", label=\"Increase (+)\"),\n",
    "    mpatches.Patch(color=\"orange\", label=\"Decrease (-)\"),\n",
    "    mpatches.Patch(color=\"red\", label=\"Disrupted edges\"),\n",
    "]\n",
    "ax.legend(handles=legend_patches, title=\"Legend\", loc=\"upper right\")\n",
    "\n",
    "plt.show()"
   ]
  },
  {
   "cell_type": "markdown",
   "id": "b6d05255-f0ec-4329-aec6-56cb7f39b32b",
   "metadata": {},
   "source": [
    "### Perturbed commercial relationships"
   ]
  },
  {
   "cell_type": "code",
   "execution_count": null,
   "id": "ba73a8f9-1ba6-4fe4-a94e-18bf7a178dff",
   "metadata": {},
   "outputs": [],
   "source": [
    "  if len (simulation.sc_network_data) == 0:\n",
    "    print(\"No perturbed links\")\n",
    "\n",
    "else:\n",
    "    perturbed_links = pd.merge(pd.DataFrame(simulation.sc_network_data), model.commercial_link_table, how='left', on='pid')\n",
    "    print((perturbed_links['time_step'] == 0).any())\n",
    "    print(model.commercial_link_table.shape[0])\n",
    "    print(perturbed_links.groupby('time_step')['status'].value_counts() / model.commercial_link_table.shape[0])"
   ]
  },
  {
   "cell_type": "code",
   "execution_count": null,
   "id": "21cfe497-a74b-4a4b-b690-a33918bb86b3",
   "metadata": {},
   "outputs": [],
   "source": [
    "who = 'RUS'\n",
    "sum([model.firms[firm_id].order_book[who] for firm_id in model.commercial_link_table.loc[model.commercial_link_table['buyer_id'] == who, 'supplier_id'].to_list()])"
   ]
  },
  {
   "cell_type": "code",
   "execution_count": null,
   "id": "33ca7eca-69e4-4226-8393-9bdf9c4735ba",
   "metadata": {},
   "outputs": [],
   "source": [
    "model.commercial_link_table.loc[model.commercial_link_table['buyer_id'] == \"hh_25\", :]"
   ]
  },
  {
   "cell_type": "code",
   "execution_count": null,
   "id": "77a37380-6d10-4c61-b27d-6b223c80c79d",
   "metadata": {},
   "outputs": [],
   "source": [
    "plot_perturbed_link(perturbed_links, 1, \"price\")"
   ]
  },
  {
   "cell_type": "code",
   "execution_count": null,
   "id": "79bcc6b0-df63-47b1-b8aa-f0e98f985fd0",
   "metadata": {},
   "outputs": [],
   "source": [
    "plot_perturbed_link(perturbed_links, 100, \"fulfilment_rate\")"
   ]
  },
  {
   "cell_type": "code",
   "execution_count": null,
   "id": "95fe7da2-c857-4a9d-b0a7-ac46fdd1955b",
   "metadata": {},
   "outputs": [],
   "source": [
    "perturbed_links['undelivered'] = perturbed_links['order'] - perturbed_links['delivery']\n",
    "fig = make_subplots(rows=1, cols=2,\n",
    "                    subplot_titles=(\"Product Type\", \"Category\"),\n",
    "                    specs=[[{\"type\": \"domain\"}, {\"type\": \"domain\"}]])  # Domain for pie charts\n",
    "fig.add_trace(px.pie(perturbed_links, values=\"undelivered\", names=\"product_type\").data[0], row=1, col=1)\n",
    "fig.add_trace(px.pie(perturbed_links, values=\"undelivered\", names=\"category\").data[0], row=1, col=2)\n",
    "fig.update_layout(title_text=\"Undelivered product\", showlegend=True, height=300)\n",
    "fig.show()"
   ]
  },
  {
   "cell_type": "code",
   "execution_count": null,
   "id": "c756739c-64c2-4a0c-9b1f-e77719c83a41",
   "metadata": {},
   "outputs": [],
   "source": [
    "perturbed_links.sort_values(\"undelivered\", ascending=False)"
   ]
  },
  {
   "cell_type": "code",
   "execution_count": null,
   "id": "4603dfcc-e9fa-4bf4-9356-6f3d84790808",
   "metadata": {},
   "outputs": [],
   "source": [
    "perturbed_products = perturbed_links.groupby(['product', 'product_type', 'category', 'time_step'], as_index=False)[['order', 'delivery']].sum()\n",
    "perturbed_products['baseline_order'] = perturbed_products[\"product\"].map(perturbed_products[perturbed_products['time_step'] == 1].groupby(\"product\")[\"order\"].sum())\n",
    "perturbed_products['relative_delivery'] = perturbed_products['delivery'] / perturbed_products['baseline_order']\n",
    "px.line(perturbed_products.groupby(['time_step', 'product'], as_index=False)['relative_delivery'].mean(), x=\"time_step\", y=\"relative_delivery\", color=\"product\")"
   ]
  },
  {
   "cell_type": "code",
   "execution_count": null,
   "id": "3fbee8ff-763b-4ac1-8e7c-ae17688262a1",
   "metadata": {},
   "outputs": [],
   "source": [
    "perturbed_products = perturbed_links.groupby(['product_type', 'category', 'time_step'], as_index=False)[['order', 'delivery']].sum()\n",
    "perturbed_products['baseline_order'] = perturbed_products[\"product_type\"].map(perturbed_products[perturbed_products['time_step'] == 1].groupby(\"product_type\")[\"order\"].sum())\n",
    "perturbed_products['relative_delivery'] = perturbed_products['delivery'] / perturbed_products['baseline_order']\n",
    "px.line(perturbed_products.groupby(['time_step', 'product_type'], as_index=False)['relative_delivery'].mean(), x=\"time_step\", y=\"relative_delivery\", color=\"product_type\")"
   ]
  },
  {
   "cell_type": "code",
   "execution_count": null,
   "id": "a918f514-14c8-4434-94ce-2c3886bb568b",
   "metadata": {},
   "outputs": [],
   "source": [
    "more_expensive_links = perturbed_links[(perturbed_links['price'] > 1)].copy()\n",
    "more_expensive_links['extra_spending'] = more_expensive_links['delivery'] * (more_expensive_links['price'] - 1)\n",
    "more_expensive_links['household_region'] = more_expensive_links['buyer_id'].map(model.household_table.set_index('household')['region'])\n",
    "more_expensive_links['product_origin'] = more_expensive_links['product'].apply(lambda s: s.split('_')[0])\n",
    "more_expensive_links = more_expensive_links.dropna(subset='household_region')\n",
    "more_expensive_links.groupby(['product_origin', 'product_type', 'household_region'])['extra_spending'].sum()"
   ]
  },
  {
   "cell_type": "code",
   "execution_count": null,
   "id": "5b02b3b1-d6ed-488d-87d9-d108d4fa6b04",
   "metadata": {},
   "outputs": [],
   "source": [
    "unfulfilled_links = perturbed_links[(perturbed_links['fulfilment_rate'] < 1)].copy()\n",
    "unfulfilled_links['consumption_loss'] = unfulfilled_links['order'] - unfulfilled_links['delivery']\n",
    "unfulfilled_links['household_region'] = unfulfilled_links['buyer_id'].map(model.household_table.set_index('household')['region'])\n",
    "unfulfilled_links['product_origin'] = unfulfilled_links['product'].apply(lambda s: s.split('_')[0])\n",
    "unfulfilled_links = unfulfilled_links.dropna(subset='household_region')\n",
    "unfulfilled_links.groupby(['product_origin', 'product_type', 'household_region'])['consumption_loss'].sum()"
   ]
  },
  {
   "cell_type": "code",
   "execution_count": null,
   "id": "4d8e25c1-c6f8-42bd-85df-a40c07a89bb5",
   "metadata": {},
   "outputs": [],
   "source": [
    "import matplotlib.patches as mpatches\n",
    "from shapely.geometry import LineString\n",
    "\n",
    "what = \"fulfilment_rate\"  # price\n",
    "threshold = 1.05\n",
    "time_step = 1\n",
    "\n",
    "# Create LineString geometries for connections\n",
    "perturbed_links_gdf = perturbed_links[perturbed_links['use_transport_network']].copy()\n",
    "perturbed_links_gdf = perturbed_links_gdf[perturbed_links_gdf['time_step'] == time_step]\n",
    "perturbed_links_gdf[\"geometry\"] = perturbed_links_gdf.apply(\n",
    "    lambda row: LineString([model.transport_nodes.loc[row[\"from\"], \"geometry\"], \n",
    "                            model.transport_nodes.loc[row[\"to\"], \"geometry\"]]), axis=1)\n",
    "perturbed_links_gdf = gpd.GeoDataFrame(perturbed_links_gdf, geometry=\"geometry\", crs=model.transport_nodes.crs)\n",
    "\n",
    "# Create the plot\n",
    "fig, ax = plt.subplots(figsize=(10, 8))\n",
    "add_borders(ax, model.mrio.regions)\n",
    "flow_dif_on_edges[\"line_width\"] = flow_dif_on_edges[\"flow_total\"] / flow_dif_on_edges[\"flow_total\"].max() * 1  # Adjust factor for visibility\n",
    "color_map = {\"increase\": \"green\", \"decrease\": \"orange\"}\n",
    "for change_type, color in color_map.items():\n",
    "    flow_dif_on_edges[flow_dif_on_edges[\"change\"] == change_type].plot(\n",
    "        ax=ax,\n",
    "        color=color,\n",
    "        linewidth=flow_dif_on_edges.loc[flow_dif_on_edges[\"change\"] == change_type, \"line_width\"],  \n",
    "        linestyle=\"-\",\n",
    "        alpha=0.8,\n",
    "        capstyle=\"round\",\n",
    "        label=f\"Change: {change_type}\"\n",
    "    )\n",
    "disrupted_edges_midpoint = model.transport_edges[model.transport_edges['id'].isin(disrupted_edges)].copy()\n",
    "disrupted_edges_midpoint[\"geometry\"] = disrupted_edges_midpoint[\"geometry\"].apply(lambda line: line.interpolate(0.5, normalized=True) if line else None)\n",
    "disrupted_edges_midpoint.plot(ax=ax, color=\"red\", markersize=100, marker=\"o\", label=\"Midpoints\", zorder=10)\n",
    "\n",
    "cond = perturbed_links_gdf['fulfilment_rate'] < 0.95\n",
    "#cond = perturbed_links_gdf[what] > threshold\n",
    "if cond.any():\n",
    "    perturbed_links_gdf[cond].plot(ax=ax, color=\"red\", linewidth=2, label=\"Connections\")\n",
    "\n",
    "legend_patches = [\n",
    "    mpatches.Patch(color=\"green\", label=\"Increase (+)\"),\n",
    "    mpatches.Patch(color=\"orange\", label=\"Decrease (-)\"),\n",
    "    mpatches.Patch(color=\"red\", label=\"Disrupted edges\"),\n",
    "]\n",
    "ax.legend(handles=legend_patches, title=\"Legend\", loc=\"upper right\")\n",
    "\n",
    "plt.show()"
   ]
  },
  {
   "cell_type": "markdown",
   "id": "d31fa300-23e7-4450-8aee-297925aa4ff9",
   "metadata": {},
   "source": [
    "### Perturbed agents"
   ]
  },
  {
   "cell_type": "code",
   "execution_count": null,
   "id": "20d356bb-3c86-4c8c-b9f6-81c29e0a1347",
   "metadata": {},
   "outputs": [],
   "source": [
    "def plot_impact(df, relative=True, agg=True):\n",
    "    agent = ''\n",
    "    if \"country\" in df.columns:\n",
    "        agent = \"country\"\n",
    "        color_col = \"country\"\n",
    "        baseline = \"spending\"\n",
    "    elif \"household\" in df.columns:\n",
    "        agent = \"household\"\n",
    "        color_col = \"region\"\n",
    "        baseline = \"tot_consumption\"\n",
    "    df['baseline_spending'] = df[agent].map(df[df['time_step'] == 0].set_index(agent)[baseline])\n",
    "    if agg:\n",
    "        df = df.groupby('time_step', as_index=False)[['baseline_spending', \"extra_spending\", \"consumption_loss\"]].sum()\n",
    "        color_col = \"time_step\"\n",
    "    else:\n",
    "        color_col = agent\n",
    "    df['relative_extra_spending'] = 1 - df['extra_spending'] / df['baseline_spending']\n",
    "    df['relative_consumption_loss'] = 1 - df['consumption_loss'] / df['baseline_spending']\n",
    "    fig = make_subplots(rows=1, cols=2, subplot_titles=(\"Extra spending\", \"Consumption loss\"))\n",
    "    if relative:\n",
    "        add_full_trace(fig, px.line(df, x=\"time_step\", y=\"relative_extra_spending\", color=color_col).data, (1,1))\n",
    "        add_full_trace(fig, px.line(df, x=\"time_step\", y=\"relative_consumption_loss\", color=color_col).data, (1,2))\n",
    "        fig.update_layout(title_text=\"Impacts\", showlegend=False, height=300)\n",
    "    else:\n",
    "        add_full_trace(fig, px.bar(df, x=\"time_step\", y=\"extra_spending\", color=color_col).data, (1,1))\n",
    "        add_full_trace(fig, px.bar(df, x=\"time_step\", y=\"consumption_loss\", color=color_col).data, (1,2))\n",
    "        fig.update_layout(title_text=\"Relative impacts\", showlegend=False, height=300, barmode=\"stack\")\n",
    "    fig.show()"
   ]
  },
  {
   "cell_type": "code",
   "execution_count": null,
   "id": "c1bfaa4a-e95a-479a-80e9-3e30eb84e707",
   "metadata": {},
   "outputs": [],
   "source": [
    "country_df = pd.DataFrame(simulation.country_data)\n",
    "household_df = pd.DataFrame(simulation.household_data)\n",
    "model.household_table['household'] = 'hh_' + model.household_table['id'].astype(str)\n",
    "household_df['region'] = household_df['household'].map(model.household_table.set_index('household')[\"region\"])"
   ]
  },
  {
   "cell_type": "code",
   "execution_count": null,
   "id": "32da3a3f-7801-471e-a620-efcbd0c3191a",
   "metadata": {},
   "outputs": [],
   "source": [
    "household_df.groupby(['region'])[['extra_spending', 'consumption_loss']].sum()"
   ]
  },
  {
   "cell_type": "code",
   "execution_count": null,
   "id": "b9b78455-5df6-4ea3-9c17-36a21a5e68dc",
   "metadata": {},
   "outputs": [],
   "source": [
    "plot_impact(country_df, relative=True)"
   ]
  },
  {
   "cell_type": "code",
   "execution_count": null,
   "id": "09028eb0-9a88-4e48-954c-c8c9862ac3ae",
   "metadata": {},
   "outputs": [],
   "source": [
    "periods = [30, 90, 180]\n",
    "household_df['total_loss'] = household_df['extra_spending'] + household_df['consumption_loss']\n",
    "ts = household_df.groupby('time_step')['total_loss'].sum()\n",
    "baseline = household_df.loc[household_df['time_step'] == 0, 'tot_consumption'].sum()\n",
    "res2 = {\n",
    "    period: ts[:period].sum() / (baseline * period)\n",
    "    for period in periods\n",
    "}\n",
    "res2"
   ]
  },
  {
   "cell_type": "code",
   "execution_count": null,
   "id": "67602049-e283-4402-bd11-8e8d16e9d2e9",
   "metadata": {},
   "outputs": [],
   "source": [
    "periods = [30, 90, 180]\n",
    "household_df['total_loss'] = household_df['extra_spending'] + household_df['consumption_loss']\n",
    "ts = household_df.groupby('time_step')['total_loss'].sum()\n",
    "baseline = household_df.loc[household_df['time_step'] == 0, 'tot_consumption'].sum()\n",
    "res2 = {\n",
    "    period: ts[:period].sum() / (baseline * period)\n",
    "    for period in periods\n",
    "}\n",
    "res2"
   ]
  },
  {
   "cell_type": "code",
   "execution_count": null,
   "id": "4175c7cd-c03d-4368-8eee-347a149d612d",
   "metadata": {},
   "outputs": [],
   "source": [
    "res1"
   ]
  },
  {
   "cell_type": "code",
   "execution_count": null,
   "id": "8cc78420-83a8-460e-8ab7-6d4745b78cbc",
   "metadata": {},
   "outputs": [],
   "source": [
    "periods = [30, 90, 180]\n",
    "household_df['total_loss'] = household_df['extra_spending'] + household_df['consumption_loss']\n",
    "ts = household_df.groupby('time_step')['total_loss'].sum()\n",
    "baseline = household_df.loc[household_df['time_step'] == 0, 'tot_consumption'].sum()\n",
    "res1 = {\n",
    "    period: ts[:period].sum() / (baseline * period)\n",
    "    for period in periods\n",
    "}"
   ]
  },
  {
   "cell_type": "code",
   "execution_count": null,
   "id": "171d5a31-c65c-4ec7-b0ad-791fb1663a86",
   "metadata": {},
   "outputs": [],
   "source": [
    "plot_impact(household_df, relative=False, agg=True)"
   ]
  },
  {
   "cell_type": "code",
   "execution_count": null,
   "id": "7eebf4f6-961a-49d2-b89e-e699ea8584cc",
   "metadata": {},
   "outputs": [],
   "source": [
    "plot_impact(household_df, relative=True, agg=False)"
   ]
  },
  {
   "cell_type": "code",
   "execution_count": null,
   "id": "abf67e6a-ee6c-431b-a14c-a7856d0918eb",
   "metadata": {},
   "outputs": [],
   "source": [
    "firm_df = pd.DataFrame(simulation.firm_data)\n",
    "model.firm_table['firm'] = model.firm_table['id']\n",
    "firm_df = firm_df.merge(model.firm_table[['firm', 'region', 'sector', \"region_sector\", 'sector_type']], on=\"firm\", how=\"left\")\n",
    "firm_df['baseline_production'] = firm_df[\"firm\"].map(firm_df[firm_df['time_step'] == 0].set_index(\"firm\")[\"production\"])\n",
    "firm_df['relative_production'] = firm_df['production'] / firm_df['baseline_production']"
   ]
  },
  {
   "cell_type": "code",
   "execution_count": null,
   "id": "834e3536-e09d-4657-83cc-cf16b23125e6",
   "metadata": {},
   "outputs": [],
   "source": [
    "sector_df = firm_df.groupby(['region_sector', 'region', \"time_step\"])['production'].sum().reset_index()\n",
    "sector_df['baseline_production'] = sector_df[\"region_sector\"].map(sector_df[sector_df['time_step'] == 0].set_index(\"region_sector\")[\"production\"])\n",
    "sector_df['relative_production'] = sector_df['production'] / sector_df['baseline_production']\n",
    "sector_df = sector_df.sort_values('time_step')"
   ]
  },
  {
   "cell_type": "code",
   "execution_count": null,
   "id": "2ba8e0a8-b8fc-4199-b591-660658222897",
   "metadata": {},
   "outputs": [],
   "source": [
    "px.line(sector_df, x=\"time_step\", y=\"relative_production\", color=\"region_sector\")"
   ]
  },
  {
   "cell_type": "code",
   "execution_count": null,
   "id": "5e6266c0-5505-45f5-a47a-7a52be938631",
   "metadata": {},
   "outputs": [],
   "source": [
    "px.line(firm_df, x=\"time_step\", y=\"relative_production\", color=\"firm\")"
   ]
  },
  {
   "cell_type": "code",
   "execution_count": null,
   "id": "ba84b159-b7d7-477e-9561-861dea40b9b4",
   "metadata": {},
   "outputs": [],
   "source": [
    "inventory_df = [(row['region_sector'], row['time_step'], input_name, inventory) \n",
    "                for _, row in firm_df.iterrows()\n",
    "                for input_name, inventory in row['inventory_duration'].items()]\n",
    "inventory_df = pd.DataFrame(inventory_df, columns=['region_sector', 'time_step', 'input', 'inventory'])\n",
    "inventory_df = inventory_df.groupby(['region_sector', 'time_step', 'input'], as_index=False)['inventory'].sum()\n",
    "inventory_df['id'] = inventory_df['input'] + \"->\" + inventory_df['region_sector']\n",
    "inventory_df['baseline'] = inventory_df[\"id\"].map(inventory_df[inventory_df['time_step'] == 0].set_index(\"id\")[\"inventory\"])\n",
    "inventory_df['relative_inventory'] = inventory_df['inventory'] / inventory_df['baseline']\n",
    "print(inventory_df.shape)\n",
    "inventory_df.head()"
   ]
  },
  {
   "cell_type": "code",
   "execution_count": null,
   "id": "8512f915-bc91-4d85-8087-62592f49d1aa",
   "metadata": {},
   "outputs": [],
   "source": [
    "px.line(inventory_df, x=\"time_step\", y=\"relative_inventory\", color=\"id\")"
   ]
  },
  {
   "cell_type": "markdown",
   "id": "ad63f41c-8312-4d04-a787-80a490ec29be",
   "metadata": {},
   "source": [
    "# Sandbox"
   ]
  },
  {
   "cell_type": "code",
   "execution_count": null,
   "id": "1ac60f54-c07e-4ecd-a61c-d9475623b9e4",
   "metadata": {},
   "outputs": [],
   "source": [
    "capital = pd.concat([pd.DataFrame(model.firms.get_properties('sector'), index=[0]).transpose(), pd.DataFrame(model.firms.get_properties('capital_initial'), index=[0]).transpose()], axis=1)\n",
    "capital.columns = [\"sector\", \"capital\"]\n",
    "capital = capital.groupby('sector')['capital'].sum()\n",
    "capital.head()"
   ]
  },
  {
   "cell_type": "code",
   "execution_count": null,
   "id": "5bf102d9-766b-4560-ad2a-56b04212afe6",
   "metadata": {},
   "outputs": [],
   "source": [
    "output = pd.concat([pd.DataFrame(model.firms.get_properties('sector'), index=[0]).transpose(), pd.DataFrame(model.firms.get_properties('eq_production'), index=[0]).transpose()], axis=1)\n",
    "output.columns = [\"sector\", \"output\"]\n",
    "output = output.groupby('sector')['output'].sum() * 365\n",
    "output.head()"
   ]
  },
  {
   "cell_type": "code",
   "execution_count": null,
   "id": "257e127d-44c7-4d44-a9e0-faff32815795",
   "metadata": {},
   "outputs": [],
   "source": [
    "firm = model.firms[461]\n",
    "print(firm.eq_production, firm.production, firm.rationing, firm.total_order, firm.production_target)\n",
    "df = pd.DataFrame({\"eq_needs\": firm.eq_needs, \"input_needs\": firm.input_needs, \"inventory\": firm.inventory, \"input_mix\": firm.input_mix})\n",
    "df"
   ]
  },
  {
   "cell_type": "code",
   "execution_count": null,
   "id": "edcc3e79-f3d5-4c7c-812f-8f29d2f25cfe",
   "metadata": {},
   "outputs": [],
   "source": [
    "df['inventory'] / df['input_mix']"
   ]
  },
  {
   "cell_type": "code",
   "execution_count": null,
   "id": "24dc6a74-31c0-402f-80fe-4f0dc1a97d83",
   "metadata": {},
   "outputs": [],
   "source": [
    "input_used = {input_id: firm.production * mix for input_id, mix in firm.input_mix.items()}\n",
    "input_used"
   ]
  },
  {
   "cell_type": "code",
   "execution_count": null,
   "id": "7fc93d41-8d47-4b1d-b0dc-d6b3c38e988f",
   "metadata": {},
   "outputs": [],
   "source": [
    "{input_id: quantity - input_used[input_id] for input_id, quantity in firm.inventory.items()}"
   ]
  },
  {
   "cell_type": "code",
   "execution_count": null,
   "id": "9086c018-ecf8-402f-be4a-e154a0f935e8",
   "metadata": {},
   "outputs": [],
   "source": [
    "firm.suppliers"
   ]
  },
  {
   "cell_type": "code",
   "execution_count": null,
   "id": "18b1f0fe-bb13-42ec-bd85-71c61764c5d8",
   "metadata": {},
   "outputs": [],
   "source": [
    "model.firms.select_by_property('region_sector', ['ECU_AYG'])"
   ]
  },
  {
   "cell_type": "code",
   "execution_count": null,
   "id": "fb62b045-1035-44d5-823f-d7708b928ecd",
   "metadata": {},
   "outputs": [],
   "source": [
    "inventory_df[inventory_df['inventory'] < 1e-3]"
   ]
  },
  {
   "cell_type": "code",
   "execution_count": null,
   "id": "eb3d6d53-e1d2-4fe5-a553-6cdcab942711",
   "metadata": {},
   "outputs": [],
   "source": [
    "country_df = pd.DataFrame(simulation.country_data)\n",
    "country_df['baseline_spending'] = country_df['country'].map(country_df[country_df['time_step'] == 0].set_index('country')['spending'])\n",
    "country_df['relative_extra_spending'] = country_df['extra_spending'] / country_df['baseline_spending']\n",
    "country_df['relative_consumption_loss'] = country_df['consumption_loss'] / country_df['baseline_spending']\n",
    "fig = make_subplots(rows=1, cols=2,\n",
    "                    subplot_titles=(\"Extra spending\", \"Consumption loss\"))\n",
    "fig_extra = px.bar(country_df, x=\"time_step\", y=\"relative_extra_spending\", color=\"country\")\n",
    "for trace in fig_extra.data:\n",
    "    fig.add_trace(trace, row=1, col=1)\n",
    "fig_loss = px.bar(country_df, x=\"time_step\", y=\"relative_consumption_loss\", color=\"country\")\n",
    "for trace in fig_loss.data:\n",
    "    fig.add_trace(trace, row=1, col=2)\n",
    "fig.update_layout(title_text=\"Country impacts\", showlegend=True, height=300, barmode=\"stack\")\n",
    "fig.show()"
   ]
  },
  {
   "cell_type": "markdown",
   "id": "c65549bf-420c-4491-996d-4f3c4aecfb7a",
   "metadata": {},
   "source": [
    "# Test transport connectivity"
   ]
  },
  {
   "cell_type": "code",
   "execution_count": null,
   "id": "ceb844ac-72b6-46bf-92f9-42a316aeba63",
   "metadata": {},
   "outputs": [],
   "source": [
    "from itertools import combinations, product\n",
    "import networkx as nx\n",
    "from tqdm import tqdm\n",
    "\n",
    "\n",
    "def identify_unconnected_pairs(graph, pairs):\n",
    "    print(f\"There are {len(pairs)} pairs of nodes\")\n",
    "    pairs_not_connected = []\n",
    "    for node1, node2 in tqdm(pairs, desc=\"Processing pairs\", total=len(pairs)):\n",
    "        if not nx.has_path(model.transport_network, node1, node2):\n",
    "            pairs_not_connected.append((node1, node2))\n",
    "    print(f\"There are {len(pairs_not_connected)} disconnected pairs\")\n",
    "    return pairs_not_connected\n",
    "\n",
    "\n",
    "def identify_unconnected_pairs_two_sets(graph, set1, set2):\n",
    "    pairs = list(product(set1, set2))\n",
    "    return identify_unconnected_pairs(graph, pairs)\n",
    "\n",
    "\n",
    "def identify_unconnected_pairs_one_set(graph, set1):\n",
    "    pairs = list(combinations(set1, 2))\n",
    "    return identify_unconnected_pairs(graph, pairs)"
   ]
  },
  {
   "cell_type": "code",
   "execution_count": null,
   "id": "1a2cd868-a524-411f-a3d8-743fb3232510",
   "metadata": {},
   "outputs": [],
   "source": [
    "countries_not_connected = identify_unconnected_pairs_one_set(model.transport_network, set(model.countries.get_properties('od_point').values()))"
   ]
  },
  {
   "cell_type": "code",
   "execution_count": null,
   "id": "2a2f072b-c56b-46c3-a36c-819ce8f58c82",
   "metadata": {},
   "outputs": [],
   "source": [
    "countries_households_not_connected = identify_unconnected_pairs_two_sets(model.transport_network, \n",
    "                                                              set(model.countries.get_properties('od_point').values()),\n",
    "                                                              set(model.household_table['od_point'].unique())\n",
    "                                                             )"
   ]
  },
  {
   "cell_type": "code",
   "execution_count": null,
   "id": "fe7c0ee5-5bdb-4ffd-9f12-ecb1033b1d1d",
   "metadata": {},
   "outputs": [],
   "source": [
    "firms_households_not_connected = identify_unconnected_pairs_two_sets(model.transport_network, \n",
    "                                                                     set(model.firm_table['od_point'].unique()),\n",
    "                                                                     set(model.household_table['od_point'].unique())\n",
    "                                                                    )"
   ]
  },
  {
   "cell_type": "code",
   "execution_count": null,
   "id": "41525528-444d-40c0-aee8-40ebc809114b",
   "metadata": {},
   "outputs": [],
   "source": [
    "firms_countries_not_connected = identify_unconnected_pairs_two_sets(model.transport_network, \n",
    "                                                                     set(model.firm_table['od_point'].unique()),\n",
    "                                                                     set(model.countries.get_properties('od_point').values())\n",
    "                                                                    )"
   ]
  },
  {
   "cell_type": "code",
   "execution_count": null,
   "id": "43b25add-6903-4c56-b43d-ab8714d88fa5",
   "metadata": {},
   "outputs": [],
   "source": [
    "firms_not_connected = identify_unconnected_pairs_one_set(model.transport_network, set(model.firm_table['od_point'].unique()))"
   ]
  },
  {
   "cell_type": "code",
   "execution_count": null,
   "id": "692535f8-8548-4461-9042-5ca0de971b03",
   "metadata": {},
   "outputs": [],
   "source": [
    "# Create the plot\n",
    "trip = (220, 1453)\n",
    "margin = 1\n",
    "nodes = model.transport_nodes[model.transport_nodes['id'].isin(trip)]\n",
    "minx, miny, maxx, maxy = nodes.total_bounds\n",
    "\n",
    "fig, ax = plt.subplots(figsize=(10, 8))\n",
    "model.transport_edges.plot(column=\"type\", legend=True, ax=ax, cmap=\"tab10\")  # Use a colormap like \"tab10\"*\n",
    "nodes.plot(ax=ax)  # Use a colormap like \"tab10\"*\n",
    "ax.set_xlim(min(minx, maxx) - margin, max(minx, maxx) + margin)\n",
    "ax.set_ylim(min(miny, maxy) - margin, max(miny, maxy) + margin)\n",
    "plt.show()"
   ]
  },
  {
   "cell_type": "code",
   "execution_count": null,
   "id": "3e7f8402-c729-48b6-aa1e-8e64fef4843f",
   "metadata": {},
   "outputs": [],
   "source": [
    "# get nodes disconnected to many pairs\n",
    "import pandas as pd\n",
    "df = pd.DataFrame(firms_not_connected)\n",
    "print(str(df[0].value_counts().iloc[:30].index.to_list()))\n",
    "print(pd.concat([df[0]]).value_counts().index)\n",
    "pd.concat([df[0], df[1]]).value_counts().iloc[:10]"
   ]
  },
  {
   "cell_type": "code",
   "execution_count": null,
   "id": "5e7b499a-3b99-4572-984d-cd360d9345da",
   "metadata": {},
   "outputs": [],
   "source": [
    "country_firm_pairs = product(set(model.country_table['od_point'].unique()), set(model.firm_table['od_point'].unique()))\n",
    "country_firm_not_connected = []\n",
    "for country, firm in tqdm(country_firm_pairs, desc=\"Processing pairs\"):\n",
    "    if not G.has_edge(country, firm):\n",
    "        country_firm_not_connected.append((country, firm))"
   ]
  },
  {
   "cell_type": "code",
   "execution_count": null,
   "id": "901908df-8341-4385-a7b1-b73ce478bb13",
   "metadata": {},
   "outputs": [],
   "source": [
    "country_household_pairs = product(set(model.country_table['od_point'].unique()), set(model.household_table['od_point'].unique()))\n",
    "country_household_not_connected = []\n",
    "for country, firm in tqdm(country_household_pairs, desc=\"Processing pairs\"):\n",
    "    if not G.has_edge(country, firm):\n",
    "        country_household_not_connected.append((country, firm))"
   ]
  },
  {
   "cell_type": "code",
   "execution_count": null,
   "id": "1df979df-25bb-4008-bc8f-b8a2bfeca15a",
   "metadata": {},
   "outputs": [],
   "source": [
    "firm_household_pairs = product(set(model.firm_table['od_point'].unique()), set(model.household_table['od_point'].unique()))\n",
    "firm_household_not_connected = []\n",
    "for country, firm in tqdm(firm_household_pairs, desc=\"Processing pairs\"):\n",
    "    if not G.has_edge(country, firm):\n",
    "        firm_household_not_connected.append((country, firm))"
   ]
  },
  {
   "cell_type": "code",
   "execution_count": null,
   "id": "89d5f57f-19e7-4208-92a8-57ac1ecf33b5",
   "metadata": {},
   "outputs": [],
   "source": [
    "model.transport_edges"
   ]
  },
  {
   "cell_type": "code",
   "execution_count": null,
   "id": "6800b6b0-23e2-495b-9eba-c178320878c0",
   "metadata": {},
   "outputs": [],
   "source": [
    "events = model.parameters.events\n",
    "events[0]"
   ]
  },
  {
   "cell_type": "code",
   "execution_count": null,
   "id": "a5673acc-d6e5-4c8b-b23a-0471da9520d5",
   "metadata": {},
   "outputs": [],
   "source": [
    "from disruptsc.disruption.disruption import DisruptionList, TransportDisruption\n",
    "DisruptionList.from_events_parameter(model.parameters.events,  model.parameters.monetary_units_in_model,\n",
    "                                                                    model.transport_edges, model.firm_table,\n",
    "                                                                    model.firms)"
   ]
  },
  {
   "cell_type": "code",
   "execution_count": null,
   "id": "b9f4b325-456a-4f56-bbb0-3ae8025e7464",
   "metadata": {},
   "outputs": [],
   "source": [
    "disruption_object = TransportDisruption.from_edge_attributes(\n",
    "                        edges=model.transport_edges,\n",
    "                        attribute=events[0]['attribute'],\n",
    "                        values=events[0]['values']\n",
    "                    )\n",
    "disruption_object"
   ]
  },
  {
   "cell_type": "code",
   "execution_count": null,
   "id": "3fbcae6c-7655-4cd6-b310-9e01f26f87bd",
   "metadata": {},
   "outputs": [],
   "source": [
    "condition = [model.transport_edges[events[0]['attribute']].str.contains(value) for value in events[0]['values']]\n",
    "condition"
   ]
  },
  {
   "cell_type": "code",
   "execution_count": null,
   "id": "a243d85d-7001-4fd0-aab8-a5b5d6c13f55",
   "metadata": {},
   "outputs": [],
   "source": [
    "\n",
    "condition = pandas.concat(condition, axis=1)\n",
    "condition = condition.any(axis=1)"
   ]
  }
 ],
 "metadata": {
  "kernelspec": {
   "display_name": "Python 3 (ipykernel)",
   "language": "python",
   "name": "python3"
  },
  "language_info": {
   "codemirror_mode": {
    "name": "ipython",
    "version": 3
   },
   "file_extension": ".py",
   "mimetype": "text/x-python",
   "name": "python",
   "nbconvert_exporter": "python",
   "pygments_lexer": "ipython3",
   "version": "3.13.0"
  }
 },
 "nbformat": 4,
 "nbformat_minor": 5
}
