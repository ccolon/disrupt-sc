{
 "cells": [
  {
   "cell_type": "code",
   "execution_count": 1,
   "id": "3d0a157b-d07f-43a4-86d2-df961d16c5af",
   "metadata": {},
   "outputs": [],
   "source": [
    "import importlib\n",
    "import os\n",
    "import sys\n",
    "sys.path.append(os.path.join('..'))"
   ]
  },
  {
   "cell_type": "code",
   "execution_count": 2,
   "id": "d5319b7f-3221-4559-8408-b52014171fae",
   "metadata": {},
   "outputs": [],
   "source": [
    "%load_ext autoreload\n",
    "%autoreload 2"
   ]
  },
  {
   "cell_type": "code",
   "execution_count": 3,
   "id": "2e994ce7-2d3d-4c49-b99e-e38d2c86560a",
   "metadata": {},
   "outputs": [],
   "source": [
    "from disruptsc.parameters import Parameters\n",
    "from disruptsc.model.model import Model\n",
    "import disruptsc.paths as paths\n",
    "import disruptsc.network.transport_network"
   ]
  },
  {
   "cell_type": "code",
   "execution_count": 4,
   "id": "c346d458-a891-497c-b519-36aa8f7e31d8",
   "metadata": {},
   "outputs": [],
   "source": [
    "scope = \"ECA\"\n",
    "parameters = Parameters.load_parameters(paths.PARAMETER_FOLDER, scope)\n",
    "parameters.export_files = False\n",
    "parameters.adjust_logging_behavior(export_log_file=False)\n",
    "model = Model(parameters)"
   ]
  },
  {
   "cell_type": "code",
   "execution_count": 5,
   "id": "de3020a2-bbc6-46b1-8e60-5916f71172fe",
   "metadata": {},
   "outputs": [],
   "source": [
    "import disruptsc.network.transport_network\n",
    "from disruptsc.network.transport_network import TransportNetwork"
   ]
  },
  {
   "cell_type": "code",
   "execution_count": 6,
   "id": "87c96431-a677-4907-ae54-0f7269ceed63",
   "metadata": {
    "scrolled": true
   },
   "outputs": [
    {
     "name": "stderr",
     "output_type": "stream",
     "text": [
      "2025-02-07 10:56:38,858 - root - INFO - Transport network generated from temp file.\n",
      "2025-02-07 10:56:38,985 - root - INFO - Total length of transport network is: 254197 km\n",
      "2025-02-07 10:56:38,986 - root - INFO - maritime: 93721 km\n",
      "2025-02-07 10:56:38,987 - root - INFO - multimodal: 4 km\n",
      "2025-02-07 10:56:38,987 - root - INFO - railways: 11827 km\n",
      "2025-02-07 10:56:38,988 - root - INFO - roads: 148646 km\n",
      "2025-02-07 10:56:38,992 - root - INFO - Nb of nodes: 11244, nb of edges: 15326\n"
     ]
    }
   ],
   "source": [
    "model.setup_transport_network(True)"
   ]
  },
  {
   "cell_type": "code",
   "execution_count": 7,
   "id": "c3020e11-ac8c-48f3-a39f-064eb397aba3",
   "metadata": {
    "scrolled": true
   },
   "outputs": [
    {
     "name": "stderr",
     "output_type": "stream",
     "text": [
      "2025-02-07 10:56:39,270 - root - INFO - Firms, households, and countries generated from temp file.\n",
      "2025-02-07 10:56:39,271 - root - INFO - Nb firms: 3668\n",
      "2025-02-07 10:56:39,272 - root - INFO - Nb households: 49\n",
      "2025-02-07 10:56:39,272 - root - INFO - Nb countries: 12\n"
     ]
    }
   ],
   "source": [
    "model.setup_agents(True)"
   ]
  },
  {
   "cell_type": "code",
   "execution_count": 8,
   "id": "ebb61c3a-a8d4-4afb-87c4-859fd68fcad5",
   "metadata": {},
   "outputs": [],
   "source": [
    "from disruptsc.network.mrio import Mrio\n",
    "mrio = Mrio.load_mrio_from_filepath(parameters.filepaths['mrio'], \"kUSD\")\n",
    "region_sector_present = list(model.firms.get_properties('region_sector', output_type=\"set\"))\n",
    "#mrio.get_tech_coef_dict(threshold=0.1, selected_region_sectors=region_sector_present)"
   ]
  },
  {
   "cell_type": "code",
   "execution_count": 16,
   "id": "f63b45ed-ac79-49b1-adc6-8621ce998e59",
   "metadata": {
    "scrolled": true
   },
   "outputs": [
    {
     "name": "stderr",
     "output_type": "stream",
     "text": [
      "2025-02-07 11:10:25,808 - root - INFO - The supply chain graph is being created. nb_suppliers_per_input: 3\n",
      "2025-02-07 11:10:25,810 - root - INFO - Households are selecting their retailers (domestic B2C flows and import B2C flows)\n",
      "2025-02-07 11:10:28,110 - root - INFO - Exporters are being selected by purchasing countries (export B2B flows)\n",
      "2025-02-07 11:10:28,110 - root - INFO - and trading countries are being connected (transit flows)\n",
      "2025-02-07 11:10:28,759 - root - INFO - Firms are selecting their domestic and international suppliers (import B2B flows) (domestic B2B flows). Weight localisation is 1\n",
      "2025-02-07 11:10:31,840 - root - INFO - There are 664 firms without clients. Removing associated links\n",
      "2025-02-07 11:10:31,852 - root - INFO - There are 701 firms without clients. Removing associated links\n",
      "2025-02-07 11:10:31,858 - root - INFO - There are 708 firms without clients. Removing associated links\n",
      "2025-02-07 11:10:31,863 - root - INFO - There are 711 firms without clients. Removing associated links\n",
      "2025-02-07 11:10:31,870 - root - INFO - There are 711 firms without clients. Removing associated links\n",
      "2025-02-07 11:10:31,877 - root - INFO - There are 711 firms without clients. Removing associated links\n",
      "2025-02-07 11:10:31,882 - root - INFO - There are 711 firms without clients. Removing associated links\n",
      "2025-02-07 11:10:31,889 - root - INFO - There are 711 firms without clients. Removing associated links\n",
      "2025-02-07 11:10:31,895 - root - INFO - There are 711 firms without clients. Removing associated links\n",
      "2025-02-07 11:10:31,901 - root - INFO - There are 711 firms without clients. Removing associated links\n",
      "2025-02-07 11:10:31,909 - root - INFO - Nb of commercial links: 27403\n",
      "2025-02-07 11:10:31,910 - root - INFO - The nodes and edges of the supplier--buyer have been created\n"
     ]
    },
    {
     "name": "stdout",
     "output_type": "stream",
     "text": [
      "{}\n"
     ]
    },
    {
     "ename": "PicklingError",
     "evalue": "Can't pickle <class 'disruptsc.network.sc_network.ScNetwork'>: it's not the same object as disruptsc.network.sc_network.ScNetwork",
     "output_type": "error",
     "traceback": [
      "\u001b[1;31m---------------------------------------------------------------------------\u001b[0m",
      "\u001b[1;31mPicklingError\u001b[0m                             Traceback (most recent call last)",
      "Cell \u001b[1;32mIn[16], line 1\u001b[0m\n\u001b[1;32m----> 1\u001b[0m \u001b[43mmodel\u001b[49m\u001b[38;5;241;43m.\u001b[39;49m\u001b[43msetup_sc_network\u001b[49m\u001b[43m(\u001b[49m\u001b[38;5;28;43;01mFalse\u001b[39;49;00m\u001b[43m)\u001b[49m\n",
      "File \u001b[1;32m~\\OneDrive\\WorldBank\\Model\\disrupt-sc\\test\\..\\disruptsc\\model\\model.py:392\u001b[0m, in \u001b[0;36mModel.setup_sc_network\u001b[1;34m(self, cached)\u001b[0m\n\u001b[0;32m    385\u001b[0m \u001b[38;5;66;03m# Save to tmp folder\u001b[39;00m\n\u001b[0;32m    386\u001b[0m data_to_cache \u001b[38;5;241m=\u001b[39m {\n\u001b[0;32m    387\u001b[0m     \u001b[38;5;124m\"\u001b[39m\u001b[38;5;124msupply_chain_network\u001b[39m\u001b[38;5;124m\"\u001b[39m: \u001b[38;5;28mself\u001b[39m\u001b[38;5;241m.\u001b[39msc_network,\n\u001b[0;32m    388\u001b[0m     \u001b[38;5;124m'\u001b[39m\u001b[38;5;124mfirms\u001b[39m\u001b[38;5;124m'\u001b[39m: \u001b[38;5;28mself\u001b[39m\u001b[38;5;241m.\u001b[39mfirms,\n\u001b[0;32m    389\u001b[0m     \u001b[38;5;124m'\u001b[39m\u001b[38;5;124mhouseholds\u001b[39m\u001b[38;5;124m'\u001b[39m: \u001b[38;5;28mself\u001b[39m\u001b[38;5;241m.\u001b[39mhouseholds,\n\u001b[0;32m    390\u001b[0m     \u001b[38;5;124m'\u001b[39m\u001b[38;5;124mcountries\u001b[39m\u001b[38;5;124m'\u001b[39m: \u001b[38;5;28mself\u001b[39m\u001b[38;5;241m.\u001b[39mcountries\n\u001b[0;32m    391\u001b[0m }\n\u001b[1;32m--> 392\u001b[0m \u001b[43mcache_sc_network\u001b[49m\u001b[43m(\u001b[49m\u001b[43mdata_to_cache\u001b[49m\u001b[43m)\u001b[49m\n\u001b[0;32m    394\u001b[0m \u001b[38;5;28mself\u001b[39m\u001b[38;5;241m.\u001b[39msc_network_initialized \u001b[38;5;241m=\u001b[39m \u001b[38;5;28;01mTrue\u001b[39;00m\n",
      "File \u001b[1;32m~\\OneDrive\\WorldBank\\Model\\disrupt-sc\\test\\..\\disruptsc\\model\\caching_functions.py:87\u001b[0m, in \u001b[0;36mcache_sc_network\u001b[1;34m(data_dic)\u001b[0m\n\u001b[0;32m     85\u001b[0m \u001b[38;5;28;01mdef\u001b[39;00m \u001b[38;5;21mcache_sc_network\u001b[39m(data_dic):\n\u001b[0;32m     86\u001b[0m     pickle_filename \u001b[38;5;241m=\u001b[39m TMP_FOLDER \u001b[38;5;241m/\u001b[39m \u001b[38;5;124m'\u001b[39m\u001b[38;5;124msupply_chain_pickle\u001b[39m\u001b[38;5;124m'\u001b[39m\n\u001b[1;32m---> 87\u001b[0m     \u001b[43mpickle\u001b[49m\u001b[38;5;241;43m.\u001b[39;49m\u001b[43mdump\u001b[49m\u001b[43m(\u001b[49m\u001b[43mdata_dic\u001b[49m\u001b[43m,\u001b[49m\u001b[43m \u001b[49m\u001b[38;5;28;43mopen\u001b[39;49m\u001b[43m(\u001b[49m\u001b[43mpickle_filename\u001b[49m\u001b[43m,\u001b[49m\u001b[43m \u001b[49m\u001b[38;5;124;43m'\u001b[39;49m\u001b[38;5;124;43mwb\u001b[39;49m\u001b[38;5;124;43m'\u001b[39;49m\u001b[43m)\u001b[49m\u001b[43m)\u001b[49m\n\u001b[0;32m     88\u001b[0m     logging\u001b[38;5;241m.\u001b[39minfo(\u001b[38;5;124mf\u001b[39m\u001b[38;5;124m'\u001b[39m\u001b[38;5;124mSupply chain saved in tmp folder: \u001b[39m\u001b[38;5;132;01m{\u001b[39;00mpickle_filename\u001b[38;5;132;01m}\u001b[39;00m\u001b[38;5;124m'\u001b[39m)\n",
      "\u001b[1;31mPicklingError\u001b[0m: Can't pickle <class 'disruptsc.network.sc_network.ScNetwork'>: it's not the same object as disruptsc.network.sc_network.ScNetwork"
     ]
    }
   ],
   "source": [
    "model.setup_sc_network(False)"
   ]
  },
  {
   "cell_type": "code",
   "execution_count": null,
   "id": "875e7035-4c68-4aa1-b98b-be23b3e54fc0",
   "metadata": {},
   "outputs": [],
   "source": []
  },
  {
   "cell_type": "code",
   "execution_count": 10,
   "id": "b301ed3b-414e-40b7-9b06-55fdb11bf2ca",
   "metadata": {
    "scrolled": true
   },
   "outputs": [
    {
     "name": "stderr",
     "output_type": "stream",
     "text": [
      "2025-02-06 15:19:48,902 - root - INFO - Setting initial conditions to input-output equilibrium\n"
     ]
    }
   ],
   "source": [
    "model.set_initial_conditions()"
   ]
  },
  {
   "cell_type": "code",
   "execution_count": 11,
   "id": "7f136477-eb5c-4ecb-9043-6634d3dd4802",
   "metadata": {},
   "outputs": [
    {
     "name": "stderr",
     "output_type": "stream",
     "text": [
      "2025-02-06 15:20:03,650 - root - INFO - Logistic routes generated from temp file.\n"
     ]
    }
   ],
   "source": [
    "model.setup_logistic_routes(True)"
   ]
  },
  {
   "cell_type": "code",
   "execution_count": 39,
   "id": "82de0c62-6fb9-43ae-befc-a27f61e70848",
   "metadata": {},
   "outputs": [
    {
     "name": "stderr",
     "output_type": "stream",
     "text": [
      "[autoreload of disruptsc.model.model failed: Traceback (most recent call last):\n",
      "  File \"C:\\Users\\Celian\\miniforge3\\envs\\dsc\\Lib\\site-packages\\IPython\\extensions\\autoreload.py\", line 276, in check\n",
      "    superreload(m, reload, self.old_objects)\n",
      "    ~~~~~~~~~~~^^^^^^^^^^^^^^^^^^^^^^^^^^^^^\n",
      "  File \"C:\\Users\\Celian\\miniforge3\\envs\\dsc\\Lib\\site-packages\\IPython\\extensions\\autoreload.py\", line 475, in superreload\n",
      "    module = reload(module)\n",
      "  File \"C:\\Users\\Celian\\miniforge3\\envs\\dsc\\Lib\\importlib\\__init__.py\", line 129, in reload\n",
      "    _bootstrap._exec(spec, module)\n",
      "    ~~~~~~~~~~~~~~~~^^^^^^^^^^^^^^\n",
      "  File \"<frozen importlib._bootstrap>\", line 866, in _exec\n",
      "  File \"<frozen importlib._bootstrap_external>\", line 1018, in exec_module\n",
      "  File \"<frozen importlib._bootstrap_external>\", line 1156, in get_code\n",
      "  File \"<frozen importlib._bootstrap_external>\", line 1086, in source_to_code\n",
      "  File \"<frozen importlib._bootstrap>\", line 488, in _call_with_frames_removed\n",
      "  File \"C:\\Users\\Celian\\OneDrive\\WorldBank\\Model\\disrupt-sc\\test\\..\\disruptsc\\model\\model.py\", line 375\n",
      "    logging.info(f'Nb of commercial links: {}')\n",
      "                                            ^\n",
      "SyntaxError: f-string: valid expression required before '}'\n",
      "]\n"
     ]
    },
    {
     "data": {
      "text/plain": [
       "57071"
      ]
     },
     "execution_count": 39,
     "metadata": {},
     "output_type": "execute_result"
    }
   ],
   "source": [
    "model.sc_network.number_of_edges()"
   ]
  },
  {
   "cell_type": "code",
   "execution_count": 36,
   "id": "8d8380e1-96b9-46f2-b7fa-3180603872df",
   "metadata": {},
   "outputs": [
    {
     "data": {
      "text/plain": [
       "OutEdgeDataView([(<disruptsc.agents.country.Country object at 0x000001CCAA7E9C70>, <disruptsc.agents.firm.Firm object at 0x000001CCA5D7C910>), (<disruptsc.agents.country.Country object at 0x000001CCAA7E9C70>, <disruptsc.agents.firm.Firm object at 0x000001CCA5ABF750>), (<disruptsc.agents.country.Country object at 0x000001CCAA7E9C70>, <disruptsc.agents.firm.Firm object at 0x000001CCA5B72D50>), (<disruptsc.agents.country.Country object at 0x000001CCAA7E9C70>, <disruptsc.agents.firm.Firm object at 0x000001CCA5ABC7D0>), (<disruptsc.agents.country.Country object at 0x000001CCAA7E9C70>, <disruptsc.agents.firm.Firm object at 0x000001CCA5B71590>), (<disruptsc.agents.country.Country object at 0x000001CCAA7E9C70>, <disruptsc.agents.firm.Firm object at 0x000001CCA5B707D0>), (<disruptsc.agents.country.Country object at 0x000001CCAA7E9C70>, <disruptsc.agents.firm.Firm object at 0x000001CCA5B734D0>), (<disruptsc.agents.country.Country object at 0x000001CCAA7E9C70>, <disruptsc.agents.firm.Firm object at 0x000001CCA5B72710>), (<disruptsc.agents.country.Country object at 0x000001CCAA7E9C70>, <disruptsc.agents.firm.Firm object at 0x000001CCA6DA11D0>), (<disruptsc.agents.country.Country object at 0x000001CCAA7E9C70>, <disruptsc.agents.firm.Firm object at 0x000001CCA5B71A90>), (<disruptsc.agents.country.Country object at 0x000001CCAA7E9C70>, <disruptsc.agents.firm.Firm object at 0x000001CCA8A0A990>), (<disruptsc.agents.country.Country object at 0x000001CCAA7E9C70>, <disruptsc.agents.firm.Firm object at 0x000001CCA944A350>), (<disruptsc.agents.country.Country object at 0x000001CCAA7E9C70>, <disruptsc.agents.firm.Firm object at 0x000001CCA8BD3890>), (<disruptsc.agents.country.Country object at 0x000001CCAA7E9C70>, <disruptsc.agents.firm.Firm object at 0x000001CCA872CF50>), (<disruptsc.agents.country.Country object at 0x000001CCAA7E9C70>, <disruptsc.agents.firm.Firm object at 0x000001CCA642A0D0>), (<disruptsc.agents.country.Country object at 0x000001CCAA7E9C70>, <disruptsc.agents.firm.Firm object at 0x000001CCA944AE90>), (<disruptsc.agents.country.Country object at 0x000001CCAA7E9C70>, <disruptsc.agents.firm.Firm object at 0x000001CCA9BC8F50>), (<disruptsc.agents.country.Country object at 0x000001CCAA7E9C70>, <disruptsc.agents.firm.Firm object at 0x000001CCA9BC91D0>), (<disruptsc.agents.country.Country object at 0x000001CCAA7E9C70>, <disruptsc.agents.firm.Firm object at 0x000001CCA9BC9090>), (<disruptsc.agents.country.Country object at 0x000001CCAA7E9C70>, <disruptsc.agents.firm.Firm object at 0x000001CCA98F7250>), (<disruptsc.agents.country.Country object at 0x000001CCAA7E9C70>, <disruptsc.agents.firm.Firm object at 0x000001CCA9A1F890>), (<disruptsc.agents.country.Country object at 0x000001CCAA7E9C70>, <disruptsc.agents.firm.Firm object at 0x000001CCA85DB4D0>), (<disruptsc.agents.country.Country object at 0x000001CCAA7E9C70>, <disruptsc.agents.firm.Firm object at 0x000001CCA9A1FD90>), (<disruptsc.agents.country.Country object at 0x000001CCAA7E9C70>, <disruptsc.agents.firm.Firm object at 0x000001CCA9BC8050>), (<disruptsc.agents.country.Country object at 0x000001CCAA7E9C70>, <disruptsc.agents.firm.Firm object at 0x000001CCA98F6FD0>), (<disruptsc.agents.country.Country object at 0x000001CCAA7E9C70>, <disruptsc.agents.firm.Firm object at 0x000001CCA6DA1310>), (<disruptsc.agents.country.Country object at 0x000001CCAA7E9C70>, <disruptsc.agents.firm.Firm object at 0x000001CCA69FD1D0>), (<disruptsc.agents.country.Country object at 0x000001CCAA7E9C70>, <disruptsc.agents.firm.Firm object at 0x000001CCA6E61810>), (<disruptsc.agents.country.Country object at 0x000001CCAA7E9C70>, <disruptsc.agents.firm.Firm object at 0x000001CCA8D53D90>), (<disruptsc.agents.country.Country object at 0x000001CCAA7E9C70>, <disruptsc.agents.firm.Firm object at 0x000001CCA6375310>), (<disruptsc.agents.country.Country object at 0x000001CCAA7E9C70>, <disruptsc.agents.firm.Firm object at 0x000001CCA822DF90>), (<disruptsc.agents.country.Country object at 0x000001CCAA7E9C70>, <disruptsc.agents.firm.Firm object at 0x000001CCA888C050>), (<disruptsc.agents.country.Country object at 0x000001CCAA7E9C70>, <disruptsc.agents.firm.Firm object at 0x000001CCA8BD3ED0>), (<disruptsc.agents.country.Country object at 0x000001CCAA7E9C70>, <disruptsc.agents.firm.Firm object at 0x000001CCA8D53ED0>), (<disruptsc.agents.country.Country object at 0x000001CCAA7E9C70>, <disruptsc.agents.firm.Firm object at 0x000001CCA5B72E90>), (<disruptsc.agents.country.Country object at 0x000001CCAA7E9C70>, <disruptsc.agents.firm.Firm object at 0x000001CCA944A490>), (<disruptsc.agents.country.Country object at 0x000001CCAA7E9C70>, <disruptsc.agents.firm.Firm object at 0x000001CCA888C190>), (<disruptsc.agents.country.Country object at 0x000001CCAA7E9C70>, <disruptsc.agents.firm.Firm object at 0x000001CCA9A1FED0>), (<disruptsc.agents.country.Country object at 0x000001CCAA7E9C70>, <disruptsc.agents.firm.Firm object at 0x000001CCA6DA1450>), (<disruptsc.agents.country.Country object at 0x000001CCAA7E9C70>, <disruptsc.agents.firm.Firm object at 0x000001CCA5B73610>), (<disruptsc.agents.country.Country object at 0x000001CCAA7E9C70>, <disruptsc.agents.firm.Firm object at 0x000001CCA69FD310>), (<disruptsc.agents.country.Country object at 0x000001CCAA7E9C70>, <disruptsc.agents.firm.Firm object at 0x000001CCA85DB610>)])"
      ]
     },
     "execution_count": 36,
     "metadata": {},
     "output_type": "execute_result"
    }
   ],
   "source": [
    "model.sc_network.out_edges(model.countries['China'])"
   ]
  },
  {
   "cell_type": "code",
   "execution_count": 35,
   "id": "c009e11e-f1ae-4cd2-8981-204dae1cf7df",
   "metadata": {},
   "outputs": [
    {
     "data": {
      "text/plain": [
       "False"
      ]
     },
     "execution_count": 35,
     "metadata": {},
     "output_type": "execute_result"
    }
   ],
   "source": [
    "ll = model.firms.get_properties(\"clients\", \"list\")\n",
    "ll = [list(d.keys()) for d in ll]\n",
    "\"China\" in [item for sublist in ll for item in sublist]"
   ]
  },
  {
   "cell_type": "code",
   "execution_count": 8,
   "id": "fbdca87c-2119-459f-aeb4-1f642932d033",
   "metadata": {},
   "outputs": [
    {
     "data": {
      "text/plain": [
       "<AxesSubplot: >"
      ]
     },
     "execution_count": 8,
     "metadata": {},
     "output_type": "execute_result"
    },
    {
     "data": {
      "image/png": "[encoded data removed]",
      "text/plain": [
       "<Figure size 1000x800 with 1 Axes>"
      ]
     },
     "metadata": {},
     "output_type": "display_data"
    }
   ],
   "source": [
    "import matplotlib.pyplot as plt\n",
    "\n",
    "fig, ax = plt.subplots(figsize=(10, 8))\n",
    "model.transport_edges.plot(column=\"type\", legend=True, ax=ax, cmap=\"tab10\")  # Use a colormap like \"tab10\"\n",
    "model.transport_nodes.plot(ax=ax, color=\"black\", markersize=5, label=\"Nodes\")"
   ]
  },
  {
   "cell_type": "code",
   "execution_count": 34,
   "id": "c6314090-7a98-4c3a-b490-b12d66593ee6",
   "metadata": {},
   "outputs": [
    {
     "data": {
      "text/plain": [
       "40.68659770997405"
      ]
     },
     "execution_count": 34,
     "metadata": {},
     "output_type": "execute_result"
    }
   ],
   "source": [
    "model.transport_network.nodes[0]['geometry'].y"
   ]
  },
  {
   "cell_type": "code",
   "execution_count": 68,
   "id": "be0696c4-fbc6-43d1-a1df-1a46485d81cb",
   "metadata": {},
   "outputs": [
    {
     "name": "stdout",
     "output_type": "stream",
     "text": [
      "There are 587 od points\n"
     ]
    }
   ],
   "source": [
    "all_od_points = set(model.firm_table['od_point'].unique())\n",
    "print(f\"There are {len(all_od_points)} od points\")"
   ]
  },
  {
   "cell_type": "code",
   "execution_count": 75,
   "id": "93c7d619-8d29-4e2b-b901-e00c38e71d08",
   "metadata": {},
   "outputs": [
    {
     "data": {
      "text/plain": [
       "True"
      ]
     },
     "execution_count": 75,
     "metadata": {},
     "output_type": "execute_result"
    }
   ],
   "source": [
    "nx.has_path(model.transport_network, 4117, 4118)"
   ]
  },
  {
   "cell_type": "code",
   "execution_count": 62,
   "id": "b0679e24-2d69-4c8c-8226-9f161f4fdb12",
   "metadata": {},
   "outputs": [
    {
     "data": {
      "text/plain": [
       "False"
      ]
     },
     "execution_count": 62,
     "metadata": {},
     "output_type": "execute_result"
    }
   ],
   "source": [
    "nx.has_path(model.transport_network, 10236, 7584)"
   ]
  },
  {
   "cell_type": "code",
   "execution_count": 33,
   "id": "ceb844ac-72b6-46bf-92f9-42a316aeba63",
   "metadata": {},
   "outputs": [],
   "source": [
    "from itertools import combinations, product\n",
    "import networkx as nx\n",
    "from tqdm import tqdm\n",
    "\n",
    "\n",
    "def identify_unconnected_pairs(graph, pairs):\n",
    "    print(f\"There are {len(pairs)} pairs of nodes\")\n",
    "    pairs_not_connected = []\n",
    "    for node1, node2 in tqdm(pairs, desc=\"Processing pairs\", total=len(pairs)):\n",
    "        if not nx.has_path(model.transport_network, node1, node2):\n",
    "            pairs_not_connected.append((node1, node2))\n",
    "    print(f\"There are {len(pairs_not_connected)} disconnected pairs\")\n",
    "    return pairs_not_connected\n",
    "\n",
    "\n",
    "def identify_unconnected_pairs_two_sets(graph, set1, set2):\n",
    "    pairs = list(product(set1, set2))\n",
    "    return identify_unconnected_pairs(graph, pairs)\n",
    "\n",
    "\n",
    "def identify_unconnected_pairs_one_set(graph, set1):\n",
    "    pairs = list(combinations(set1, 2))\n",
    "    return identify_unconnected_pairs(graph, pairs)"
   ]
  },
  {
   "cell_type": "code",
   "execution_count": 69,
   "id": "1a2cd868-a524-411f-a3d8-743fb3232510",
   "metadata": {},
   "outputs": [
    {
     "name": "stdout",
     "output_type": "stream",
     "text": [
      "There are 28 pairs of nodes\n"
     ]
    },
    {
     "name": "stderr",
     "output_type": "stream",
     "text": [
      "Processing pairs: 100%|██████████████████████████████████████████████████████████████| 28/28 [00:00<00:00, 1559.66it/s]"
     ]
    },
    {
     "name": "stdout",
     "output_type": "stream",
     "text": [
      "There are 0 disconnected pairs\n"
     ]
    },
    {
     "name": "stderr",
     "output_type": "stream",
     "text": [
      "\n"
     ]
    }
   ],
   "source": [
    "countries_not_connected = identify_unconnected_pairs_one_set(model.transport_network, set(model.countries.get_properties('od_point').values()))"
   ]
  },
  {
   "cell_type": "code",
   "execution_count": 70,
   "id": "2a2f072b-c56b-46c3-a36c-819ce8f58c82",
   "metadata": {},
   "outputs": [
    {
     "name": "stdout",
     "output_type": "stream",
     "text": [
      "There are 48 pairs of nodes\n"
     ]
    },
    {
     "name": "stderr",
     "output_type": "stream",
     "text": [
      "Processing pairs: 100%|███████████████████████████████████████████████████████████████| 48/48 [00:00<00:00, 501.33it/s]"
     ]
    },
    {
     "name": "stdout",
     "output_type": "stream",
     "text": [
      "There are 0 disconnected pairs\n"
     ]
    },
    {
     "name": "stderr",
     "output_type": "stream",
     "text": [
      "\n"
     ]
    }
   ],
   "source": [
    "countries_households_not_connected = identify_unconnected_pairs_two_sets(model.transport_network, \n",
    "                                                              set(model.countries.get_properties('od_point').values()),\n",
    "                                                              set(model.household_table['od_point'].unique())\n",
    "                                                             )"
   ]
  },
  {
   "cell_type": "code",
   "execution_count": 71,
   "id": "fe7c0ee5-5bdb-4ffd-9f12-ecb1033b1d1d",
   "metadata": {},
   "outputs": [
    {
     "name": "stdout",
     "output_type": "stream",
     "text": [
      "There are 3522 pairs of nodes\n"
     ]
    },
    {
     "name": "stderr",
     "output_type": "stream",
     "text": [
      "Processing pairs: 100%|███████████████████████████████████████████████████████████| 3522/3522 [00:09<00:00, 357.34it/s]"
     ]
    },
    {
     "name": "stdout",
     "output_type": "stream",
     "text": [
      "There are 6 disconnected pairs\n"
     ]
    },
    {
     "name": "stderr",
     "output_type": "stream",
     "text": [
      "\n"
     ]
    }
   ],
   "source": [
    "firms_households_not_connected = identify_unconnected_pairs_two_sets(model.transport_network, \n",
    "                                                                     set(model.firm_table['od_point'].unique()),\n",
    "                                                                     set(model.household_table['od_point'].unique())\n",
    "                                                                    )"
   ]
  },
  {
   "cell_type": "code",
   "execution_count": 76,
   "id": "41525528-444d-40c0-aee8-40ebc809114b",
   "metadata": {},
   "outputs": [
    {
     "name": "stdout",
     "output_type": "stream",
     "text": [
      "There are 4696 pairs of nodes\n"
     ]
    },
    {
     "name": "stderr",
     "output_type": "stream",
     "text": [
      "Processing pairs: 100%|███████████████████████████████████████████████████████████| 4696/4696 [00:10<00:00, 453.88it/s]"
     ]
    },
    {
     "name": "stdout",
     "output_type": "stream",
     "text": [
      "There are 8 disconnected pairs\n"
     ]
    },
    {
     "name": "stderr",
     "output_type": "stream",
     "text": [
      "\n"
     ]
    }
   ],
   "source": [
    "firms_countries_not_connected = identify_unconnected_pairs_two_sets(model.transport_network, \n",
    "                                                                     set(model.firm_table['od_point'].unique()),\n",
    "                                                                     set(model.countries.get_properties('od_point').values())\n",
    "                                                                    )"
   ]
  },
  {
   "cell_type": "code",
   "execution_count": 78,
   "id": "43b25add-6903-4c56-b43d-ab8714d88fa5",
   "metadata": {},
   "outputs": [
    {
     "name": "stdout",
     "output_type": "stream",
     "text": [
      "There are 171991 pairs of nodes\n"
     ]
    },
    {
     "name": "stderr",
     "output_type": "stream",
     "text": [
      "Processing pairs: 100%|███████████████████████████████████████████████████████| 171991/171991 [08:12<00:00, 349.52it/s]"
     ]
    },
    {
     "name": "stdout",
     "output_type": "stream",
     "text": [
      "There are 586 disconnected pairs\n"
     ]
    },
    {
     "name": "stderr",
     "output_type": "stream",
     "text": [
      "\n"
     ]
    }
   ],
   "source": [
    "firms_not_connected = identify_unconnected_pairs_one_set(model.transport_network, set(model.firm_table['od_point'].unique()))"
   ]
  },
  {
   "cell_type": "code",
   "execution_count": 84,
   "id": "3e7f8402-c729-48b6-aa1e-8e64fef4843f",
   "metadata": {},
   "outputs": [
    {
     "name": "stdout",
     "output_type": "stream",
     "text": [
      "[9887, 3180, 9377, 9379, 9378, 3233, 7316, 7314, 3207, 9348, 1148, 1142, 3184, 9327, 3174, 9385, 7267, 9315, 7257, 1109, 9299, 7250, 1095, 1092, 9282, 9255, 1058, 9243, 3241, 9398]\n",
      "Int64Index([ 9887,  3180,  9377,  9379,  9378,  3233,  7316,  7314,  3207,\n",
      "             9348,\n",
      "            ...\n",
      "             4593,  4589,  6637, 10731,  4583,  4582,  4572,  4570,  4569,\n",
      "              786],\n",
      "           dtype='int64', length=472)\n"
     ]
    },
    {
     "data": {
      "text/plain": [
       "9887    586\n",
       "8194      1\n",
       "5561      1\n",
       "5554      1\n",
       "3507      1\n",
       "1460      1\n",
       "5557      1\n",
       "5556      1\n",
       "1463      1\n",
       "9660      1\n",
       "dtype: int64"
      ]
     },
     "execution_count": 84,
     "metadata": {},
     "output_type": "execute_result"
    }
   ],
   "source": [
    "# get nodes disconnected to many pairs\n",
    "import pandas as pd\n",
    "df = pd.DataFrame(firms_not_connected)\n",
    "print(str(df[0].value_counts().iloc[:30].index.to_list()))\n",
    "print(pd.concat([df[0]]).value_counts().index)\n",
    "pd.concat([df[0], df[1]]).value_counts().iloc[:10]"
   ]
  },
  {
   "cell_type": "code",
   "execution_count": null,
   "id": "5e7b499a-3b99-4572-984d-cd360d9345da",
   "metadata": {},
   "outputs": [
    {
     "name": "stderr",
     "output_type": "stream",
     "text": [
      "Processing node pairs: 53642it [03:19, 252.11it/s] "
     ]
    }
   ],
   "source": [
    "country_firm_pairs = product(set(model.country_table['od_point'].unique()), set(model.firm_table['od_point'].unique()))\n",
    "country_firm_not_connected = []\n",
    "for country, firm in tqdm(country_firm_pairs, desc=\"Processing pairs\"):\n",
    "    if not G.has_edge(country, firm):\n",
    "        country_firm_not_connected.append((country, firm))"
   ]
  },
  {
   "cell_type": "code",
   "execution_count": 24,
   "id": "901908df-8341-4385-a7b1-b73ce478bb13",
   "metadata": {},
   "outputs": [
    {
     "ename": "AttributeError",
     "evalue": "'Model' object has no attribute 'country_table'",
     "output_type": "error",
     "traceback": [
      "\u001b[1;31m---------------------------------------------------------------------------\u001b[0m",
      "\u001b[1;31mAttributeError\u001b[0m                            Traceback (most recent call last)",
      "Cell \u001b[1;32mIn[24], line 1\u001b[0m\n\u001b[1;32m----> 1\u001b[0m country_household_pairs \u001b[38;5;241m=\u001b[39m product(\u001b[38;5;28mset\u001b[39m(\u001b[43mmodel\u001b[49m\u001b[38;5;241;43m.\u001b[39;49m\u001b[43mcountry_table\u001b[49m[\u001b[38;5;124m'\u001b[39m\u001b[38;5;124mod_point\u001b[39m\u001b[38;5;124m'\u001b[39m]\u001b[38;5;241m.\u001b[39munique()), \u001b[38;5;28mset\u001b[39m(model\u001b[38;5;241m.\u001b[39mhousehold_table[\u001b[38;5;124m'\u001b[39m\u001b[38;5;124mod_point\u001b[39m\u001b[38;5;124m'\u001b[39m]\u001b[38;5;241m.\u001b[39munique()))\n\u001b[0;32m      2\u001b[0m country_household_not_connected \u001b[38;5;241m=\u001b[39m []\n\u001b[0;32m      3\u001b[0m \u001b[38;5;28;01mfor\u001b[39;00m country, firm \u001b[38;5;129;01min\u001b[39;00m tqdm(country_household_pairs, desc\u001b[38;5;241m=\u001b[39m\u001b[38;5;124m\"\u001b[39m\u001b[38;5;124mProcessing pairs\u001b[39m\u001b[38;5;124m\"\u001b[39m):\n",
      "\u001b[1;31mAttributeError\u001b[0m: 'Model' object has no attribute 'country_table'"
     ]
    }
   ],
   "source": [
    "country_household_pairs = product(set(model.country_table['od_point'].unique()), set(model.household_table['od_point'].unique()))\n",
    "country_household_not_connected = []\n",
    "for country, firm in tqdm(country_household_pairs, desc=\"Processing pairs\"):\n",
    "    if not G.has_edge(country, firm):\n",
    "        country_household_not_connected.append((country, firm))"
   ]
  },
  {
   "cell_type": "code",
   "execution_count": null,
   "id": "1df979df-25bb-4008-bc8f-b8a2bfeca15a",
   "metadata": {},
   "outputs": [
    {
     "name": "stderr",
     "output_type": "stream",
     "text": [
      "Processing node pairs: 53642it [03:19, 252.11it/s] "
     ]
    }
   ],
   "source": [
    "firm_household_pairs = product(set(model.firm_table['od_point'].unique()), set(model.household_table['od_point'].unique()))\n",
    "firm_household_not_connected = []\n",
    "for country, firm in tqdm(firm_household_pairs, desc=\"Processing pairs\"):\n",
    "    if not G.has_edge(country, firm):\n",
    "        firm_household_not_connected.append((country, firm))"
   ]
  },
  {
   "cell_type": "code",
   "execution_count": null,
   "id": "89d5f57f-19e7-4208-92a8-57ac1ecf33b5",
   "metadata": {},
   "outputs": [],
   "source": [
    "model.transport_edges"
   ]
  },
  {
   "cell_type": "code",
   "execution_count": 19,
   "id": "6800b6b0-23e2-495b-9eba-c178320878c0",
   "metadata": {},
   "outputs": [
    {
     "data": {
      "text/plain": [
       "{'type': 'transport_disruption',\n",
       " 'description_type': 'edge_attributes',\n",
       " 'attribute': 'disruption',\n",
       " 'values': ['flood_1in1000_UZB'],\n",
       " 'start_time': 1,\n",
       " 'duration': 1}"
      ]
     },
     "execution_count": 19,
     "metadata": {},
     "output_type": "execute_result"
    }
   ],
   "source": [
    "events = model.parameters.events\n",
    "events[0]"
   ]
  },
  {
   "cell_type": "code",
   "execution_count": 20,
   "id": "a5673acc-d6e5-4c8b-b23a-0471da9520d5",
   "metadata": {},
   "outputs": [
    {
     "data": {
      "text/plain": [
       "DisruptionList([EventDict(start_time=1, data={})])"
      ]
     },
     "execution_count": 20,
     "metadata": {},
     "output_type": "execute_result"
    }
   ],
   "source": [
    "from disruptsc.disruption.disruption import DisruptionList, TransportDisruption\n",
    "DisruptionList.from_events_parameter(model.parameters.events,  model.parameters.monetary_units_in_model,\n",
    "                                                                    model.transport_edges, model.firm_table,\n",
    "                                                                    model.firms)"
   ]
  },
  {
   "cell_type": "code",
   "execution_count": 22,
   "id": "b9f4b325-456a-4f56-bbb0-3ae8025e7464",
   "metadata": {},
   "outputs": [
    {
     "data": {
      "text/plain": [
       "EventDict(start_time=1, data={})"
      ]
     },
     "execution_count": 22,
     "metadata": {},
     "output_type": "execute_result"
    }
   ],
   "source": [
    "disruption_object = TransportDisruption.from_edge_attributes(\n",
    "                        edges=model.transport_edges,\n",
    "                        attribute=events[0]['attribute'],\n",
    "                        values=events[0]['values']\n",
    "                    )\n",
    "disruption_object"
   ]
  },
  {
   "cell_type": "code",
   "execution_count": 25,
   "id": "3fbcae6c-7655-4cd6-b310-9e01f26f87bd",
   "metadata": {},
   "outputs": [
    {
     "data": {
      "text/plain": [
       "[index\n",
       " 0       None\n",
       " 1       None\n",
       " 2       None\n",
       " 3       None\n",
       " 4       None\n",
       "         ... \n",
       " 1374     NaN\n",
       " 1375     NaN\n",
       " 1376     NaN\n",
       " 1377     NaN\n",
       " 1378     NaN\n",
       " Name: disruption, Length: 1379, dtype: object]"
      ]
     },
     "execution_count": 25,
     "metadata": {},
     "output_type": "execute_result"
    }
   ],
   "source": [
    "condition = [model.transport_edges[events[0]['attribute']].str.contains(value) for value in events[0]['values']]\n",
    "condition"
   ]
  },
  {
   "cell_type": "code",
   "execution_count": null,
   "id": "a243d85d-7001-4fd0-aab8-a5b5d6c13f55",
   "metadata": {},
   "outputs": [],
   "source": [
    "\n",
    "condition = pandas.concat(condition, axis=1)\n",
    "condition = condition.any(axis=1)"
   ]
  }
 ],
 "metadata": {
  "kernelspec": {
   "display_name": "Python 3 (ipykernel)",
   "language": "python",
   "name": "python3"
  },
  "language_info": {
   "codemirror_mode": {
    "name": "ipython",
    "version": 3
   },
   "file_extension": ".py",
   "mimetype": "text/x-python",
   "name": "python",
   "nbconvert_exporter": "python",
   "pygments_lexer": "ipython3",
   "version": "3.13.0"
  }
 },
 "nbformat": 4,
 "nbformat_minor": 5
}
