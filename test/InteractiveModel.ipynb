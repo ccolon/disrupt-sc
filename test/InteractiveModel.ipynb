{
 "cells": [
  {
   "cell_type": "code",
   "execution_count": 1,
   "id": "3d0a157b-d07f-43a4-86d2-df961d16c5af",
   "metadata": {},
   "outputs": [],
   "source": [
    "import importlib\n",
    "import os\n",
    "import sys\n",
    "sys.path.append(os.path.join('..'))"
   ]
  },
  {
   "cell_type": "code",
   "execution_count": 2,
   "id": "d5319b7f-3221-4559-8408-b52014171fae",
   "metadata": {},
   "outputs": [],
   "source": [
    "%load_ext autoreload\n",
    "%autoreload 2"
   ]
  },
  {
   "cell_type": "code",
   "execution_count": 3,
   "id": "2e994ce7-2d3d-4c49-b99e-e38d2c86560a",
   "metadata": {},
   "outputs": [],
   "source": [
    "from disruptsc.parameters import Parameters\n",
    "from disruptsc.model.model import Model\n",
    "import disruptsc.paths as paths\n",
    "import disruptsc.network.transport_network"
   ]
  },
  {
   "cell_type": "code",
   "execution_count": 4,
   "id": "c346d458-a891-497c-b519-36aa8f7e31d8",
   "metadata": {},
   "outputs": [],
   "source": [
    "scope = \"ECA\"\n",
    "parameters = Parameters.load_parameters(paths.PARAMETER_FOLDER, scope)\n",
    "parameters.export_files = False\n",
    "parameters.adjust_logging_behavior()\n",
    "model = Model(parameters)"
   ]
  },
  {
   "cell_type": "code",
   "execution_count": 5,
   "id": "de3020a2-bbc6-46b1-8e60-5916f71172fe",
   "metadata": {},
   "outputs": [],
   "source": [
    "import disruptsc.network.transport_network\n",
    "from disruptsc.network.transport_network import TransportNetwork"
   ]
  },
  {
   "cell_type": "code",
   "execution_count": 110,
   "id": "87c96431-a677-4907-ae54-0f7269ceed63",
   "metadata": {
    "scrolled": true
   },
   "outputs": [
    {
     "name": "stderr",
     "output_type": "stream",
     "text": [
      "2024-12-13 13:36:05,025 - root - INFO - Transport network generated from temp file.\n",
      "2024-12-13 13:36:05,057 - root - INFO - Total length of transport network is: 329841 km\n",
      "2024-12-13 13:36:05,058 - root - INFO - maritime: 202399 km\n",
      "2024-12-13 13:36:05,058 - root - INFO - multimodal: 4 km\n",
      "2024-12-13 13:36:05,059 - root - INFO - railways: 11827 km\n",
      "2024-12-13 13:36:05,059 - root - INFO - roads: 115612 km\n",
      "2024-12-13 13:36:05,061 - root - INFO - Nb of nodes: 1255, nb of edges: 1585\n"
     ]
    }
   ],
   "source": [
    "model.setup_transport_network(True)"
   ]
  },
  {
   "cell_type": "code",
   "execution_count": 111,
   "id": "c3020e11-ac8c-48f3-a39f-064eb397aba3",
   "metadata": {},
   "outputs": [
    {
     "name": "stderr",
     "output_type": "stream",
     "text": [
      "2024-12-13 13:36:06,818 - root - INFO - Firms, households, and countries generated from temp file.\n",
      "2024-12-13 13:36:06,820 - root - INFO - Nb firms: 10542\n",
      "2024-12-13 13:36:06,821 - root - INFO - Nb households: 10\n",
      "2024-12-13 13:36:06,822 - root - INFO - Nb countries: 8\n"
     ]
    }
   ],
   "source": [
    "model.setup_agents(True)"
   ]
  },
  {
   "cell_type": "code",
   "execution_count": 112,
   "id": "f63b45ed-ac79-49b1-adc6-8621ce998e59",
   "metadata": {},
   "outputs": [
    {
     "name": "stderr",
     "output_type": "stream",
     "text": [
      "2024-12-13 13:36:17,725 - root - INFO - Supply chain generated from temp file.\n"
     ]
    }
   ],
   "source": [
    "model.setup_sc_network(True)"
   ]
  },
  {
   "cell_type": "code",
   "execution_count": 113,
   "id": "b301ed3b-414e-40b7-9b06-55fdb11bf2ca",
   "metadata": {},
   "outputs": [
    {
     "name": "stderr",
     "output_type": "stream",
     "text": [
      "2024-12-13 13:36:17,859 - root - INFO - Setting initial conditions to input-output equilibrium\n"
     ]
    }
   ],
   "source": [
    "model.set_initial_conditions()"
   ]
  },
  {
   "cell_type": "code",
   "execution_count": 114,
   "id": "7f136477-eb5c-4ecb-9043-6634d3dd4802",
   "metadata": {},
   "outputs": [
    {
     "name": "stderr",
     "output_type": "stream",
     "text": [
      "2024-12-13 13:36:35,773 - root - INFO - Logistic routes generated from temp file.\n"
     ]
    }
   ],
   "source": [
    "model.setup_logistic_routes(True)"
   ]
  },
  {
   "cell_type": "code",
   "execution_count": 123,
   "id": "e48d86a2-039e-4a3c-9e64-853b1eac0fd4",
   "metadata": {
    "jp-MarkdownHeadingCollapsed": true
   },
   "outputs": [
    {
     "data": {
      "text/plain": [
       "['hh_0',\n",
       " 'hh_1',\n",
       " 'hh_2',\n",
       " 'hh_3',\n",
       " 'hh_4',\n",
       " 'hh_5',\n",
       " 'hh_6',\n",
       " 'hh_7',\n",
       " 'hh_8',\n",
       " 'hh_9']"
      ]
     },
     "execution_count": 123,
     "metadata": {},
     "output_type": "execute_result"
    }
   ],
   "source": [
    "[key for key in model.countries['Africa'].clients.keys() if isinstance(key, str)]"
   ]
  },
  {
   "cell_type": "code",
   "execution_count": 126,
   "id": "81d22b04-bacb-493a-917c-b038779eb38b",
   "metadata": {
    "jp-MarkdownHeadingCollapsed": true
   },
   "outputs": [],
   "source": [
    "edge_list = model.sc_network.generate_edge_list()"
   ]
  },
  {
   "cell_type": "code",
   "execution_count": 128,
   "id": "7693d031-4e63-4df6-ab3e-7556d24747df",
   "metadata": {},
   "outputs": [
    {
     "data": {
      "text/html": [
       "<div>\n",
       "<style scoped>\n",
       "    .dataframe tbody tr th:only-of-type {\n",
       "        vertical-align: middle;\n",
       "    }\n",
       "\n",
       "    .dataframe tbody tr th {\n",
       "        vertical-align: top;\n",
       "    }\n",
       "\n",
       "    .dataframe thead th {\n",
       "        text-align: right;\n",
       "    }\n",
       "</style>\n",
       "<table border=\"1\" class=\"dataframe\">\n",
       "  <thead>\n",
       "    <tr style=\"text-align: right;\">\n",
       "      <th></th>\n",
       "      <th>source_id</th>\n",
       "      <th>source_str_id</th>\n",
       "      <th>source_type</th>\n",
       "      <th>source_od_point</th>\n",
       "      <th>target_id</th>\n",
       "      <th>target_str_id</th>\n",
       "      <th>target_type</th>\n",
       "      <th>target_od_point</th>\n",
       "    </tr>\n",
       "  </thead>\n",
       "  <tbody>\n",
       "    <tr>\n",
       "      <th>0</th>\n",
       "      <td>0</td>\n",
       "      <td>Firm 0 located 77 sector AFS</td>\n",
       "      <td>firm</td>\n",
       "      <td>77</td>\n",
       "      <td>hh_0</td>\n",
       "      <td>Household hh_0 located 77</td>\n",
       "      <td>household</td>\n",
       "      <td>77</td>\n",
       "    </tr>\n",
       "    <tr>\n",
       "      <th>1</th>\n",
       "      <td>0</td>\n",
       "      <td>Firm 0 located 77 sector AFS</td>\n",
       "      <td>firm</td>\n",
       "      <td>77</td>\n",
       "      <td>hh_1</td>\n",
       "      <td>Household hh_1 located 547</td>\n",
       "      <td>household</td>\n",
       "      <td>547</td>\n",
       "    </tr>\n",
       "    <tr>\n",
       "      <th>2</th>\n",
       "      <td>0</td>\n",
       "      <td>Firm 0 located 77 sector AFS</td>\n",
       "      <td>firm</td>\n",
       "      <td>77</td>\n",
       "      <td>hh_2</td>\n",
       "      <td>Household hh_2 located 49</td>\n",
       "      <td>household</td>\n",
       "      <td>49</td>\n",
       "    </tr>\n",
       "    <tr>\n",
       "      <th>3</th>\n",
       "      <td>0</td>\n",
       "      <td>Firm 0 located 77 sector AFS</td>\n",
       "      <td>firm</td>\n",
       "      <td>77</td>\n",
       "      <td>hh_4</td>\n",
       "      <td>Household hh_4 located 37</td>\n",
       "      <td>household</td>\n",
       "      <td>37</td>\n",
       "    </tr>\n",
       "    <tr>\n",
       "      <th>4</th>\n",
       "      <td>0</td>\n",
       "      <td>Firm 0 located 77 sector AFS</td>\n",
       "      <td>firm</td>\n",
       "      <td>77</td>\n",
       "      <td>hh_8</td>\n",
       "      <td>Household hh_8 located 1198</td>\n",
       "      <td>household</td>\n",
       "      <td>1198</td>\n",
       "    </tr>\n",
       "    <tr>\n",
       "      <th>...</th>\n",
       "      <td>...</td>\n",
       "      <td>...</td>\n",
       "      <td>...</td>\n",
       "      <td>...</td>\n",
       "      <td>...</td>\n",
       "      <td>...</td>\n",
       "      <td>...</td>\n",
       "      <td>...</td>\n",
       "    </tr>\n",
       "    <tr>\n",
       "      <th>154569</th>\n",
       "      <td>9970</td>\n",
       "      <td>Firm 9970 located 14 sector OXT</td>\n",
       "      <td>firm</td>\n",
       "      <td>14</td>\n",
       "      <td>9961</td>\n",
       "      <td>Firm 9961 located 450 sector COA</td>\n",
       "      <td>firm</td>\n",
       "      <td>450</td>\n",
       "    </tr>\n",
       "    <tr>\n",
       "      <th>154570</th>\n",
       "      <td>9954</td>\n",
       "      <td>Firm 9954 located 447 sector OXT</td>\n",
       "      <td>firm</td>\n",
       "      <td>447</td>\n",
       "      <td>9959</td>\n",
       "      <td>Firm 9959 located 445 sector COA</td>\n",
       "      <td>firm</td>\n",
       "      <td>445</td>\n",
       "    </tr>\n",
       "    <tr>\n",
       "      <th>154571</th>\n",
       "      <td>9954</td>\n",
       "      <td>Firm 9954 located 447 sector OXT</td>\n",
       "      <td>firm</td>\n",
       "      <td>447</td>\n",
       "      <td>9960</td>\n",
       "      <td>Firm 9960 located 450 sector OXT</td>\n",
       "      <td>firm</td>\n",
       "      <td>450</td>\n",
       "    </tr>\n",
       "    <tr>\n",
       "      <th>154572</th>\n",
       "      <td>9960</td>\n",
       "      <td>Firm 9960 located 450 sector OXT</td>\n",
       "      <td>firm</td>\n",
       "      <td>450</td>\n",
       "      <td>9978</td>\n",
       "      <td>Firm 9978 located 12 sector OXT</td>\n",
       "      <td>firm</td>\n",
       "      <td>12</td>\n",
       "    </tr>\n",
       "    <tr>\n",
       "      <th>154573</th>\n",
       "      <td>9960</td>\n",
       "      <td>Firm 9960 located 450 sector OXT</td>\n",
       "      <td>firm</td>\n",
       "      <td>450</td>\n",
       "      <td>10275</td>\n",
       "      <td>Firm 10275 located 452 sector CNS</td>\n",
       "      <td>firm</td>\n",
       "      <td>452</td>\n",
       "    </tr>\n",
       "  </tbody>\n",
       "</table>\n",
       "<p>154574 rows × 8 columns</p>\n",
       "</div>"
      ],
      "text/plain": [
       "       source_id                     source_str_id source_type  \\\n",
       "0              0      Firm 0 located 77 sector AFS        firm   \n",
       "1              0      Firm 0 located 77 sector AFS        firm   \n",
       "2              0      Firm 0 located 77 sector AFS        firm   \n",
       "3              0      Firm 0 located 77 sector AFS        firm   \n",
       "4              0      Firm 0 located 77 sector AFS        firm   \n",
       "...          ...                               ...         ...   \n",
       "154569      9970   Firm 9970 located 14 sector OXT        firm   \n",
       "154570      9954  Firm 9954 located 447 sector OXT        firm   \n",
       "154571      9954  Firm 9954 located 447 sector OXT        firm   \n",
       "154572      9960  Firm 9960 located 450 sector OXT        firm   \n",
       "154573      9960  Firm 9960 located 450 sector OXT        firm   \n",
       "\n",
       "        source_od_point target_id                      target_str_id  \\\n",
       "0                    77      hh_0          Household hh_0 located 77   \n",
       "1                    77      hh_1         Household hh_1 located 547   \n",
       "2                    77      hh_2          Household hh_2 located 49   \n",
       "3                    77      hh_4          Household hh_4 located 37   \n",
       "4                    77      hh_8        Household hh_8 located 1198   \n",
       "...                 ...       ...                                ...   \n",
       "154569               14      9961   Firm 9961 located 450 sector COA   \n",
       "154570              447      9959   Firm 9959 located 445 sector COA   \n",
       "154571              447      9960   Firm 9960 located 450 sector OXT   \n",
       "154572              450      9978    Firm 9978 located 12 sector OXT   \n",
       "154573              450     10275  Firm 10275 located 452 sector CNS   \n",
       "\n",
       "       target_type  target_od_point  \n",
       "0        household               77  \n",
       "1        household              547  \n",
       "2        household               49  \n",
       "3        household               37  \n",
       "4        household             1198  \n",
       "...            ...              ...  \n",
       "154569        firm              450  \n",
       "154570        firm              445  \n",
       "154571        firm              450  \n",
       "154572        firm               12  \n",
       "154573        firm              452  \n",
       "\n",
       "[154574 rows x 8 columns]"
      ]
     },
     "execution_count": 128,
     "metadata": {},
     "output_type": "execute_result"
    }
   ],
   "source": [
    "edge_list['"
   ]
  }
 ],
 "metadata": {
  "kernelspec": {
   "display_name": "Python 3 (ipykernel)",
   "language": "python",
   "name": "python3"
  },
  "language_info": {
   "codemirror_mode": {
    "name": "ipython",
    "version": 3
   },
   "file_extension": ".py",
   "mimetype": "text/x-python",
   "name": "python",
   "nbconvert_exporter": "python",
   "pygments_lexer": "ipython3",
   "version": "3.13.0"
  }
 },
 "nbformat": 4,
 "nbformat_minor": 5
}
