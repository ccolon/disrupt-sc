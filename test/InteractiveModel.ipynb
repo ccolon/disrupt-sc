{
 "cells": [
  {
   "cell_type": "code",
   "execution_count": 1,
   "id": "3d0a157b-d07f-43a4-86d2-df961d16c5af",
   "metadata": {},
   "outputs": [
    {
     "name": "stdout",
     "output_type": "stream",
     "text": [
      "C:\\Users\\colon\\OneDrive\\WorldBank\\Model\\disrupt-sc\n"
     ]
    },
    {
     "ename": "ModuleNotFoundError",
     "evalue": "No module named 'code.paths'; 'code' is not a package",
     "output_type": "error",
     "traceback": [
      "\u001b[1;31m---------------------------------------------------------------------------\u001b[0m",
      "\u001b[1;31mModuleNotFoundError\u001b[0m                       Traceback (most recent call last)",
      "\u001b[1;32m~\\AppData\\Local\\Temp/ipykernel_12412/1368264038.py\u001b[0m in \u001b[0;36m<module>\u001b[1;34m\u001b[0m\n\u001b[0;32m      5\u001b[0m \u001b[1;32mimport\u001b[0m \u001b[0mpaths\u001b[0m\u001b[1;33m\u001b[0m\u001b[1;33m\u001b[0m\u001b[0m\n\u001b[0;32m      6\u001b[0m \u001b[0mprint\u001b[0m\u001b[1;33m(\u001b[0m\u001b[0mpaths\u001b[0m\u001b[1;33m.\u001b[0m\u001b[0mROOT_FOLDER\u001b[0m\u001b[1;33m)\u001b[0m\u001b[1;33m\u001b[0m\u001b[1;33m\u001b[0m\u001b[0m\n\u001b[1;32m----> 7\u001b[1;33m \u001b[1;32mfrom\u001b[0m \u001b[0mcaching_functions\u001b[0m \u001b[1;32mimport\u001b[0m \u001b[0mgenerate_cache_parameters_from_command_line_argument\u001b[0m\u001b[1;33m\u001b[0m\u001b[1;33m\u001b[0m\u001b[0m\n\u001b[0m\u001b[0;32m      8\u001b[0m \u001b[1;32mfrom\u001b[0m \u001b[0mparameters\u001b[0m \u001b[1;32mimport\u001b[0m \u001b[0mParameters\u001b[0m\u001b[1;33m\u001b[0m\u001b[1;33m\u001b[0m\u001b[0m\n\u001b[0;32m      9\u001b[0m \u001b[1;32mfrom\u001b[0m \u001b[0mhandling_functions\u001b[0m \u001b[1;32mimport\u001b[0m \u001b[0mcheck_script_call\u001b[0m\u001b[1;33m\u001b[0m\u001b[1;33m\u001b[0m\u001b[0m\n",
      "\u001b[1;32m~\\OneDrive\\WorldBank\\Model\\disrupt-sc\\code\\model\\caching_functions.py\u001b[0m in \u001b[0;36m<module>\u001b[1;34m\u001b[0m\n\u001b[0;32m      4\u001b[0m \u001b[1;32mfrom\u001b[0m \u001b[0mtyping\u001b[0m \u001b[1;32mimport\u001b[0m \u001b[0mList\u001b[0m\u001b[1;33m\u001b[0m\u001b[1;33m\u001b[0m\u001b[0m\n\u001b[0;32m      5\u001b[0m \u001b[1;33m\u001b[0m\u001b[0m\n\u001b[1;32m----> 6\u001b[1;33m \u001b[1;32mfrom\u001b[0m \u001b[0mcode\u001b[0m\u001b[1;33m.\u001b[0m\u001b[0mpaths\u001b[0m \u001b[1;32mimport\u001b[0m \u001b[0mTMP_FOLDER\u001b[0m\u001b[1;33m\u001b[0m\u001b[1;33m\u001b[0m\u001b[0m\n\u001b[0m\u001b[0;32m      7\u001b[0m \u001b[1;33m\u001b[0m\u001b[0m\n\u001b[0;32m      8\u001b[0m \u001b[1;33m\u001b[0m\u001b[0m\n",
      "\u001b[1;31mModuleNotFoundError\u001b[0m: No module named 'code.paths'; 'code' is not a package"
     ]
    }
   ],
   "source": [
    "# Import modules\n",
    "import logging\n",
    "import sys\n",
    "import time\n",
    "import paths\n",
    "print(paths.ROOT_FOLDER)\n",
    "from caching_functions import generate_cache_parameters_from_command_line_argument\n",
    "from parameters import Parameters\n",
    "from handling_functions import check_script_call\n",
    "from model import Model"
   ]
  },
  {
   "cell_type": "code",
   "execution_count": 32,
   "id": "2e994ce7-2d3d-4c49-b99e-e38d2c86560a",
   "metadata": {},
   "outputs": [
    {
     "ename": "ModuleNotFoundError",
     "evalue": "No module named 'yaml'",
     "output_type": "error",
     "traceback": [
      "\u001b[1;31m---------------------------------------------------------------------------\u001b[0m",
      "\u001b[1;31mModuleNotFoundError\u001b[0m                       Traceback (most recent call last)",
      "\u001b[1;32m~\\AppData\\Local\\Temp/ipykernel_10828/295814700.py\u001b[0m in \u001b[0;36m<module>\u001b[1;34m\u001b[0m\n\u001b[1;32m----> 1\u001b[1;33m \u001b[1;32mfrom\u001b[0m \u001b[0mparameters\u001b[0m \u001b[1;32mimport\u001b[0m \u001b[0mParameters\u001b[0m\u001b[1;33m\u001b[0m\u001b[1;33m\u001b[0m\u001b[0m\n\u001b[0m",
      "\u001b[1;32m~\\OneDrive\\WorldBank\\Model\\disrupt-sc\\code\\parameters.py\u001b[0m in \u001b[0;36m<module>\u001b[1;34m\u001b[0m\n\u001b[0;32m      5\u001b[0m \u001b[1;32mfrom\u001b[0m \u001b[0mpathlib\u001b[0m \u001b[1;32mimport\u001b[0m \u001b[0mPath\u001b[0m\u001b[1;33m\u001b[0m\u001b[1;33m\u001b[0m\u001b[0m\n\u001b[0;32m      6\u001b[0m \u001b[1;33m\u001b[0m\u001b[0m\n\u001b[1;32m----> 7\u001b[1;33m \u001b[1;32mimport\u001b[0m \u001b[0myaml\u001b[0m\u001b[1;33m\u001b[0m\u001b[1;33m\u001b[0m\u001b[0m\n\u001b[0m\u001b[0;32m      8\u001b[0m \u001b[1;32mfrom\u001b[0m \u001b[0mdataclasses\u001b[0m \u001b[1;32mimport\u001b[0m \u001b[0mdataclass\u001b[0m\u001b[1;33m\u001b[0m\u001b[1;33m\u001b[0m\u001b[0m\n\u001b[0;32m      9\u001b[0m \u001b[1;33m\u001b[0m\u001b[0m\n",
      "\u001b[1;31mModuleNotFoundError\u001b[0m: No module named 'yaml'"
     ]
    }
   ],
   "source": [
    "from parameters import Parameters"
   ]
  },
  {
   "cell_type": "code",
   "execution_count": 37,
   "id": "c346d458-a891-497c-b519-36aa8f7e31d8",
   "metadata": {},
   "outputs": [
    {
     "data": {
      "text/plain": [
       "['C:\\\\Users\\\\colon\\\\OneDrive\\\\WorldBank\\\\Model\\\\disrupt-sc\\\\test',\n",
       " 'C:\\\\Users\\\\colon\\\\OneDrive\\\\WorldBank\\\\Model\\\\disrupt-sc',\n",
       " 'C:\\\\Users\\\\colon\\\\Anaconda3\\\\envs\\\\geo_env\\\\python39.zip',\n",
       " 'C:\\\\Users\\\\colon\\\\Anaconda3\\\\envs\\\\geo_env\\\\DLLs',\n",
       " 'C:\\\\Users\\\\colon\\\\Anaconda3\\\\envs\\\\geo_env\\\\lib',\n",
       " 'C:\\\\Users\\\\colon\\\\Anaconda3\\\\envs\\\\geo_env',\n",
       " '',\n",
       " 'C:\\\\Users\\\\colon\\\\Anaconda3\\\\envs\\\\geo_env\\\\lib\\\\site-packages',\n",
       " 'C:\\\\Users\\\\colon\\\\Anaconda3\\\\envs\\\\geo_env\\\\lib\\\\site-packages\\\\win32',\n",
       " 'C:\\\\Users\\\\colon\\\\Anaconda3\\\\envs\\\\geo_env\\\\lib\\\\site-packages\\\\win32\\\\lib',\n",
       " 'C:\\\\Users\\\\colon\\\\Anaconda3\\\\envs\\\\geo_env\\\\lib\\\\site-packages\\\\Pythonwin',\n",
       " 'C:\\\\Users\\\\colon\\\\Anaconda3\\\\envs\\\\geo_env\\\\lib\\\\site-packages\\\\IPython\\\\extensions',\n",
       " 'C:\\\\Users\\\\colon\\\\.ipython',\n",
       " WindowsPath('C:/Users/colon/OneDrive/WorldBank/Model/disrupt-sc'),\n",
       " WindowsPath('C:/Users/colon/OneDrive/WorldBank/Model/disrupt-sc'),\n",
       " WindowsPath('C:/Users/colon/OneDrive/WorldBank/Model/disrupt-sc/cide'),\n",
       " WindowsPath('C:/Users/colon/OneDrive/WorldBank/Model/disrupt-sc/code'),\n",
       " WindowsPath('C:/Users/colon/OneDrive/WorldBank/Model/disrupt-sc/code'),\n",
       " WindowsPath('C:/Users/colon/OneDrive/WorldBank/Model/disrupt-sc'),\n",
       " WindowsPath('C:/Users/colon/OneDrive/WorldBank/Model/disrupt-sc/code'),\n",
       " 'C:\\\\Users\\\\colon\\\\OneDrive\\\\WorldBank\\\\Model\\\\disrupt-sc',\n",
       " 'C:\\\\Users\\\\colon\\\\OneDrive\\\\WorldBank\\\\Model\\\\disrupt-sc\\\\code',\n",
       " '..',\n",
       " WindowsPath('C:/Users/colon/OneDrive/WorldBank/Model/disrupt-sc/code/parameters'),\n",
       " WindowsPath('C:/Users/colon/OneDrive/WorldBank/Model/disrupt-sc/code/model'),\n",
       " WindowsPath('C:/Users/colon/OneDrive/WorldBank/Model/disrupt-sc/code/model')]"
      ]
     },
     "execution_count": 37,
     "metadata": {},
     "output_type": "execute_result"
    }
   ],
   "source": [
    "sys.path"
   ]
  },
  {
   "cell_type": "code",
   "execution_count": 10,
   "id": "6495c593-8bed-4b73-8801-96339e94052e",
   "metadata": {},
   "outputs": [
    {
     "data": {
      "text/plain": [
       "'C:\\\\Users\\\\colon\\\\OneDrive\\\\WorldBank\\\\Model\\\\disrupt-sc\\\\test'"
      ]
     },
     "execution_count": 10,
     "metadata": {},
     "output_type": "execute_result"
    }
   ],
   "source": [
    "import os \n",
    "#if you want to know current working dir\n",
    "os.getcwd()"
   ]
  },
  {
   "cell_type": "code",
   "execution_count": null,
   "id": "ea158579-eb78-4fce-81b5-c5407406f8de",
   "metadata": {},
   "outputs": [],
   "source": []
  }
 ],
 "metadata": {
  "kernelspec": {
   "display_name": "Python 3 (ipykernel)",
   "language": "python",
   "name": "python3"
  },
  "language_info": {
   "codemirror_mode": {
    "name": "ipython",
    "version": 3
   },
   "file_extension": ".py",
   "mimetype": "text/x-python",
   "name": "python",
   "nbconvert_exporter": "python",
   "pygments_lexer": "ipython3",
   "version": "3.9.6"
  }
 },
 "nbformat": 4,
 "nbformat_minor": 5
}
