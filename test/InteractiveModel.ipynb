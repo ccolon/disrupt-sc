{
 "cells": [
  {
   "cell_type": "code",
   "execution_count": 1,
   "id": "3d0a157b-d07f-43a4-86d2-df961d16c5af",
   "metadata": {},
   "outputs": [],
   "source": [
    "import importlib\n",
    "import os\n",
    "import sys\n",
    "sys.path.append(os.path.join('..'))"
   ]
  },
  {
   "cell_type": "code",
   "execution_count": 2,
   "id": "d5319b7f-3221-4559-8408-b52014171fae",
   "metadata": {},
   "outputs": [],
   "source": [
    "%load_ext autoreload\n",
    "%autoreload 2"
   ]
  },
  {
   "cell_type": "code",
   "execution_count": 3,
   "id": "2e994ce7-2d3d-4c49-b99e-e38d2c86560a",
   "metadata": {},
   "outputs": [],
   "source": [
    "from disruptsc.parameters import Parameters\n",
    "from disruptsc.model.model import Model\n",
    "import disruptsc.paths as paths\n",
    "import disruptsc.network.transport_network"
   ]
  },
  {
   "cell_type": "code",
   "execution_count": 4,
   "id": "c346d458-a891-497c-b519-36aa8f7e31d8",
   "metadata": {},
   "outputs": [],
   "source": [
    "scope = \"ECA\"\n",
    "parameters = Parameters.load_parameters(paths.PARAMETER_FOLDER, scope)\n",
    "parameters.export_files = False\n",
    "parameters.adjust_logging_behavior(export_log_file=False)\n",
    "model = Model(parameters)"
   ]
  },
  {
   "cell_type": "code",
   "execution_count": 5,
   "id": "de3020a2-bbc6-46b1-8e60-5916f71172fe",
   "metadata": {},
   "outputs": [],
   "source": [
    "import disruptsc.network.transport_network\n",
    "from disruptsc.network.transport_network import TransportNetwork"
   ]
  },
  {
   "cell_type": "code",
   "execution_count": 6,
   "id": "87c96431-a677-4907-ae54-0f7269ceed63",
   "metadata": {
    "scrolled": true
   },
   "outputs": [
    {
     "name": "stderr",
     "output_type": "stream",
     "text": [
      "2025-03-07 15:44:25,798 - root - INFO - Transport network generated from temp file.\n",
      "2025-03-07 15:44:25,954 - root - INFO - Total length of transport network is: 249933 km\n",
      "2025-03-07 15:44:25,956 - root - INFO - maritime: 61760 km\n",
      "2025-03-07 15:44:25,957 - root - INFO - multimodal: 6 km\n",
      "2025-03-07 15:44:25,957 - root - INFO - pipelines: 21064 km\n",
      "2025-03-07 15:44:25,958 - root - INFO - railways: 16172 km\n",
      "2025-03-07 15:44:25,959 - root - INFO - roads: 150931 km\n",
      "2025-03-07 15:44:25,964 - root - INFO - Nb of nodes: 8124, nb of edges: 12195\n"
     ]
    }
   ],
   "source": [
    "model.setup_transport_network(True)"
   ]
  },
  {
   "cell_type": "code",
   "execution_count": 7,
   "id": "f5428dcd-4fbe-4f93-8bd9-76bf84642c88",
   "metadata": {},
   "outputs": [],
   "source": [
    "model.transport_network.ingest_logistic_data(parameters.logistics)"
   ]
  },
  {
   "cell_type": "code",
   "execution_count": 8,
   "id": "c3020e11-ac8c-48f3-a39f-064eb397aba3",
   "metadata": {
    "scrolled": true
   },
   "outputs": [
    {
     "name": "stderr",
     "output_type": "stream",
     "text": [
      "2025-03-07 15:44:27,946 - root - INFO - Firms, households, and countries generated from temp file.\n",
      "2025-03-07 15:44:27,948 - root - INFO - Nb firms: 2483\n",
      "2025-03-07 15:44:27,949 - root - INFO - Nb households: 49\n",
      "2025-03-07 15:44:27,950 - root - INFO - Nb countries: 12\n"
     ]
    }
   ],
   "source": [
    "model.setup_agents(True)"
   ]
  },
  {
   "cell_type": "code",
   "execution_count": 17,
   "id": "c3dc6cef-6494-404d-acb9-d8ce4f2b0b12",
   "metadata": {},
   "outputs": [
    {
     "name": "stderr",
     "output_type": "stream",
     "text": [
      "2025-03-07 10:39:07,225 - root - WARNING - Failed to detect the label used for value.?added in the MRIO\n"
     ]
    }
   ],
   "source": [
    "from disruptsc.network.mrio import Mrio\n",
    "filepath = r\"C:\\Users\\Celian\\OneDrive\\WorldBank\\ECA\\Data\\Structured\\MRIO\\mrio_russia_2.csv\"\n",
    "mrio2 = Mrio.load_mrio_from_filepath(filepath, model.parameters.monetary_units_in_data)"
   ]
  },
  {
   "cell_type": "code",
   "execution_count": 53,
   "id": "e2a556ad-0577-42e5-ad1c-9447e5dbb69c",
   "metadata": {},
   "outputs": [],
   "source": [
    "edge_attr = attr\n",
    "logistic_parameters = parameters.logistics"
   ]
  },
  {
   "cell_type": "code",
   "execution_count": 54,
   "id": "27124ee2-c121-4333-a27c-ef985e512033",
   "metadata": {},
   "outputs": [
    {
     "data": {
      "text/plain": [
       "0.001"
      ]
     },
     "execution_count": 54,
     "metadata": {},
     "output_type": "execute_result"
    }
   ],
   "source": [
    "edge_attr['km'] * logistic_parameters['basic_cost'][edge_attr['type']]"
   ]
  },
  {
   "cell_type": "code",
   "execution_count": 56,
   "id": "b38f38b2-b598-41d0-bdb0-ab1cd5a1a0de",
   "metadata": {},
   "outputs": [],
   "source": [
    "def _get_speed(edge_attr: dict, speed_dict: dict) -> float:\n",
    "    if edge_attr['type'] == \"roads\":\n",
    "        if edge_attr['class'] == 'primary':\n",
    "            return speed_dict['roads']['primary']\n",
    "        elif edge_attr['class'] == 'secondary':\n",
    "            return speed_dict['roads']['primary']\n",
    "        elif edge_attr['class'] == 'tertiary':\n",
    "            return speed_dict['roads']['primary']\n",
    "        else:\n",
    "            if edge_attr['surface'] == 'paved':\n",
    "                return speed_dict['roads']['paved']\n",
    "            elif edge_attr['surface'] == 'unpaved':\n",
    "                return speed_dict['roads']['unpaved']\n",
    "            else:\n",
    "                return speed_dict['roads']['paved']\n",
    "    elif edge_attr['type'] in ['railways', 'waterways', 'maritime', 'airways', \"pipelines\"]:\n",
    "        return speed_dict[edge_attr['type']]\n",
    "    elif edge_attr['type'] == \"multimodal\":\n",
    "        return speed_dict['roads']['paved']  # these are very small links, so we assume paved roads\n",
    "\n",
    "\n",
    "def _get_loading_time_and_fee(edge_attr: dict, loading_times: dict, loading_fees: dict) -> (float, float):\n",
    "    if edge_attr['type'] == \"multimodal\":\n",
    "        return loading_times[edge_attr['multimodes']], loading_fees[edge_attr['multimodes']]\n",
    "    else:\n",
    "        return 0.0, 0.0\n",
    "\n",
    "\n",
    "def _get_border_crossing_time_and_fee(edge_attr: dict, border_crossing_times: dict,\n",
    "                                      border_crossing_fees: dict) -> (float, float):\n",
    "    if isinstance(edge_attr['special'], str):\n",
    "        if \"custom\" in edge_attr['special']:\n",
    "            return border_crossing_times[edge_attr['type']], border_crossing_fees[edge_attr['type']]\n",
    "    return 0.0, 0.0\n"
   ]
  },
  {
   "cell_type": "code",
   "execution_count": 61,
   "id": "d22c615c-6fed-486b-a733-0c8dafbd63f1",
   "metadata": {},
   "outputs": [],
   "source": [
    "basic_cost = edge_attr['km'] * logistic_parameters['basic_cost'][edge_attr['type']]\n",
    "transport_time = edge_attr['km'] / _get_speed(edge_attr, logistic_parameters['speeds'])\n",
    "loading_time, loading_fee = _get_loading_time_and_fee(\n",
    "    edge_attr, logistic_parameters['loading_times'], logistic_parameters['loading_fees'])\n",
    "border_crossing_time, border_crossing_fee = _get_border_crossing_time_and_fee(\n",
    "    edge_attr, logistic_parameters['border_crossing_times'], logistic_parameters['border_crossing_fees'])\n",
    "total_time = transport_time + loading_time + border_crossing_time\n",
    "total_fee = loading_fee + border_crossing_fee\n",
    "cost_per_ton = basic_cost + total_fee + total_time * logistic_parameters['cost_of_time']"
   ]
  },
  {
   "cell_type": "code",
   "execution_count": 62,
   "id": "bff12939-3b77-4f4f-b86d-e4ef8447e82e",
   "metadata": {},
   "outputs": [
    {
     "name": "stdout",
     "output_type": "stream",
     "text": [
      "0.001 0.0016666666666666668 12 2.2 0.0 0.0 12.001666666666667 2.2 8.081816666666667\n"
     ]
    }
   ],
   "source": [
    "print(basic_cost, transport_time, loading_time, loading_fee, \n",
    "      border_crossing_time, border_crossing_fee, \n",
    "      total_time, total_fee,\n",
    "      cost_per_ton)"
   ]
  },
  {
   "cell_type": "code",
   "execution_count": 43,
   "id": "1099bef7-b635-4da9-b91c-c1cc57e8930b",
   "metadata": {},
   "outputs": [],
   "source": [
    "for edge, attr in model.transport_network.edges.items():\n",
    "    if attr['type'] == \"multimodal\":\n",
    "        break"
   ]
  },
  {
   "cell_type": "code",
   "execution_count": 35,
   "id": "b253bdab-77ac-49e3-bb4f-f0c4c2615bc2",
   "metadata": {},
   "outputs": [
    {
     "data": {
      "text/plain": [
       "['roads']"
      ]
     },
     "execution_count": 35,
     "metadata": {},
     "output_type": "execute_result"
    }
   ],
   "source": [
    "model.transport_network.provide_shortest_route(896, 362, \"container\", \"cost_per_ton\").transport_modes"
   ]
  },
  {
   "cell_type": "code",
   "execution_count": 39,
   "id": "d76d9507-a4d8-47ed-b847-b35bc64b1e1f",
   "metadata": {},
   "outputs": [
    {
     "data": {
      "text/plain": [
       "{}"
      ]
     },
     "execution_count": 39,
     "metadata": {},
     "output_type": "execute_result"
    }
   ],
   "source": [
    "nx.get_edge_attributes(model.transport_network, \"weight_container\")"
   ]
  },
  {
   "cell_type": "code",
   "execution_count": 37,
   "id": "18df3267-c152-4995-86fb-0d65f8e5bc94",
   "metadata": {},
   "outputs": [
    {
     "data": {
      "text/plain": [
       "['airways', 'multimodal', 'roads']"
      ]
     },
     "execution_count": 37,
     "metadata": {},
     "output_type": "execute_result"
    }
   ],
   "source": [
    "model.transport_network.provide_shortest_route(1117, 1531, \"solid_bulk\", route_weight=\"weight\", noise_level=0).transport_modes"
   ]
  },
  {
   "cell_type": "code",
   "execution_count": 10,
   "id": "3fcf736b-5321-4017-9b6e-7b9f97e9cec9",
   "metadata": {},
   "outputs": [
    {
     "name": "stderr",
     "output_type": "stream",
     "text": [
      "2025-03-07 15:45:47,906 - root - INFO - Supply chain generated from temp file.\n"
     ]
    }
   ],
   "source": [
    "model.setup_sc_network(True)"
   ]
  },
  {
   "cell_type": "code",
   "execution_count": 142,
   "id": "b301ed3b-414e-40b7-9b06-55fdb11bf2ca",
   "metadata": {
    "scrolled": true
   },
   "outputs": [
    {
     "name": "stderr",
     "output_type": "stream",
     "text": [
      "2025-03-07 16:55:41,045 - root - INFO - Setting initial conditions to input-output equilibrium\n"
     ]
    }
   ],
   "source": [
    "model.set_initial_conditions()"
   ]
  },
  {
   "cell_type": "code",
   "execution_count": 70,
   "id": "c3d5ffae-567b-4090-8ea1-f8ba149873f9",
   "metadata": {},
   "outputs": [],
   "source": [
    "import networkx as nx"
   ]
  },
  {
   "cell_type": "code",
   "execution_count": 153,
   "id": "812dd531-1da2-4ebe-80d9-8a91edad8f24",
   "metadata": {},
   "outputs": [
    {
     "data": {
      "text/plain": [
       "2.042892752662475"
      ]
     },
     "execution_count": 153,
     "metadata": {},
     "output_type": "execute_result"
    }
   ],
   "source": [
    "model.households['hh_0'].spending_per_retailer[0]"
   ]
  },
  {
   "cell_type": "code",
   "execution_count": 138,
   "id": "1df06d59-1c84-4ffd-aae5-433d5bf55b1f",
   "metadata": {},
   "outputs": [],
   "source": [
    "model.households['hh_0'].receive_products_and_pay(model.sc_network, model.transport_network, \n",
    "                                                parameters.sectors_no_transport_network, parameters.transport_to_households)"
   ]
  },
  {
   "cell_type": "code",
   "execution_count": 151,
   "id": "7eb94613-9c80-419a-8ced-567d0f6d5f13",
   "metadata": {},
   "outputs": [
    {
     "name": "stdout",
     "output_type": "stream",
     "text": [
      "2.042892752662475 2.042892752662475\n"
     ]
    }
   ],
   "source": [
    "commercial_link = model.sc_network[model.firms[0]][model.households['hh_0']]['object']\n",
    "print(commercial_link.order, commercial_link.delivery)"
   ]
  },
  {
   "cell_type": "code",
   "execution_count": 152,
   "id": "bb6e61df-da03-4ed5-b7aa-00291e02b55e",
   "metadata": {},
   "outputs": [
    {
     "data": {
      "text/plain": [
       "np.float64(-5.9674487573602164e-15)"
      ]
     },
     "execution_count": 152,
     "metadata": {},
     "output_type": "execute_result"
    }
   ],
   "source": [
    "model.firms[0].product_stock"
   ]
  },
  {
   "cell_type": "code",
   "execution_count": null,
   "id": "c15a56fb-b7e5-4e74-818b-949fc87d84ba",
   "metadata": {},
   "outputs": [],
   "source": [
    "sc_network[edge[0]][self]['object'].product_type"
   ]
  },
  {
   "cell_type": "code",
   "execution_count": 131,
   "id": "7967aec8-9af3-4e22-a3b2-3c29b631a41a",
   "metadata": {},
   "outputs": [],
   "source": [
    "model.firms[0].deliver_products(model.sc_network, model.transport_network, model.transport_network,\n",
    "                                   sectors_no_transport_network=parameters.sectors_no_transport_network,\n",
    "                                   rationing_mode=parameters.rationing_mode,\n",
    "                                   explicit_service_firm=parameters.explicit_service_firm,\n",
    "                                   transport_to_households=parameters.transport_to_households,\n",
    "                                   monetary_units_in_model=parameters.monetary_units_in_model,\n",
    "                                   cost_repercussion_mode=parameters.cost_repercussion_mode,\n",
    "                                   price_increase_threshold=parameters.price_increase_threshold,\n",
    "                                   capacity_constraint=parameters.capacity_constraint,\n",
    "                                   transport_cost_noise_level=parameters.transport_cost_noise_level)"
   ]
  },
  {
   "cell_type": "code",
   "execution_count": 78,
   "id": "484e5b57-1621-4529-bab0-371484529a8f",
   "metadata": {},
   "outputs": [],
   "source": [
    "firm_connectivity_matrix = nx.adjacency_matrix(\n",
    "            model.sc_network,\n",
    "            # graph.subgraph(list(graph.nodes)[:-1]),\n",
    "            weight='weight',\n",
    "            nodelist=model.firms.values()\n",
    "        ).todense()\n",
    "import_weight_per_firm = [\n",
    "    sum([\n",
    "        model.sc_network[supply_edge[0]][supply_edge[1]]['weight']\n",
    "        for supply_edge in model.sc_network.in_edges(firm)\n",
    "        if model.sc_network[supply_edge[0]][supply_edge[1]]['object'].category == 'import'\n",
    "    ])\n",
    "    for firm in model.firms.values()\n",
    "]\n",
    "n = len(model.firms)"
   ]
  },
  {
   "cell_type": "code",
   "execution_count": 80,
   "id": "f2f49cdc-f83f-4af2-97d0-fb108077c1eb",
   "metadata": {},
   "outputs": [],
   "source": [
    "import numpy as np"
   ]
  },
  {
   "cell_type": "code",
   "execution_count": 105,
   "id": "afacf453-5893-4b77-b82d-b26535c91a4b",
   "metadata": {},
   "outputs": [],
   "source": [
    "final_demand_vector = np.zeros((len(model.firms), 1))\n",
    "\n",
    "firm_id_to_position_mapping = {firm_id: i for i, firm_id in enumerate(model.firms.get_properties(\"pid\"))}\n",
    "\n",
    "# Collect households final demand\n",
    "for household in model.households.values():\n",
    "    for retailer_id, quantity in household.purchase_plan.items():\n",
    "        if isinstance(retailer_id, int):  # we only consider purchase from firms, not from other countries\n",
    "            final_demand_vector[(firm_id_to_position_mapping[retailer_id], 0)] += quantity\n",
    "\n",
    "# Collect country final demand\n",
    "for country in model.countries.values():\n",
    "    for supplier_id, quantity in country.purchase_plan.items():\n",
    "        if isinstance(supplier_id, int):  # we only consider purchase from firms, not from other countries\n",
    "            final_demand_vector[(firm_id_to_position_mapping[supplier_id], 0)] += quantity"
   ]
  },
  {
   "cell_type": "code",
   "execution_count": 106,
   "id": "468c1016-f24b-49cb-8c82-bba1ac47d850",
   "metadata": {},
   "outputs": [],
   "source": [
    "eq_production_vector = np.linalg.solve(\n",
    "    np.eye(n) - firm_connectivity_matrix,\n",
    "    final_demand_vector  # + 0.01\n",
    ")"
   ]
  },
  {
   "cell_type": "code",
   "execution_count": 107,
   "id": "aeb49de3-200d-4a01-86f6-1b32498bd4be",
   "metadata": {},
   "outputs": [
    {
     "data": {
      "text/plain": [
       "array([[17.22303537],\n",
       "       [ 2.26973036],\n",
       "       [ 0.47751536],\n",
       "       ...,\n",
       "       [ 0.63471084],\n",
       "       [ 0.09462306],\n",
       "       [ 1.620135  ]])"
      ]
     },
     "execution_count": 107,
     "metadata": {},
     "output_type": "execute_result"
    }
   ],
   "source": [
    "eq_production_vector"
   ]
  },
  {
   "cell_type": "code",
   "execution_count": 104,
   "id": "d5436f2c-68d9-4fad-85ff-769707fbc7fb",
   "metadata": {},
   "outputs": [
    {
     "data": {
      "text/plain": [
       "array([[1.16067019e+01],\n",
       "       [1.69970138e+00],\n",
       "       [4.08107921e-01],\n",
       "       ...,\n",
       "       [2.54822104e-03],\n",
       "       [2.54385557e-02],\n",
       "       [3.81211104e-05]])"
      ]
     },
     "execution_count": 104,
     "metadata": {},
     "output_type": "execute_result"
    }
   ],
   "source": [
    "final_demand_vector"
   ]
  },
  {
   "cell_type": "code",
   "execution_count": 95,
   "id": "e2eab63d-2e73-4920-b4f7-42fe0f80aa92",
   "metadata": {},
   "outputs": [
    {
     "data": {
      "text/plain": [
       "5.6163334977675285"
      ]
     },
     "execution_count": 95,
     "metadata": {},
     "output_type": "execute_result"
    }
   ],
   "source": [
    "qty = 0\n",
    "for i in list(range(12)) + [19]:\n",
    "    qty += model.households['hh_'+str(i)].purchase_plan[0]\n",
    "qty"
   ]
  },
  {
   "cell_type": "code",
   "execution_count": 101,
   "id": "6f8434b8-e65f-4d7b-bc2e-2eea985fda4c",
   "metadata": {},
   "outputs": [
    {
     "data": {
      "text/plain": [
       "array([[1.72230354e+01],\n",
       "       [2.26973036e+00],\n",
       "       [4.77515364e-01],\n",
       "       ...,\n",
       "       [3.65201544e-01],\n",
       "       [7.59300109e-02],\n",
       "       [3.81211104e-05]])"
      ]
     },
     "execution_count": 101,
     "metadata": {},
     "output_type": "execute_result"
    }
   ],
   "source": [
    "final_demand_vector"
   ]
  },
  {
   "cell_type": "code",
   "execution_count": 12,
   "id": "7f136477-eb5c-4ecb-9043-6634d3dd4802",
   "metadata": {},
   "outputs": [
    {
     "name": "stderr",
     "output_type": "stream",
     "text": [
      "2025-03-07 15:45:50,217 - root - INFO - Logistic routes generated from temp file.\n"
     ]
    }
   ],
   "source": [
    "model.setup_logistic_routes(True)"
   ]
  },
  {
   "cell_type": "code",
   "execution_count": null,
   "id": "01a0e142-d4d7-45a4-82fb-f9ed42b72984",
   "metadata": {},
   "outputs": [],
   "source": []
  },
  {
   "cell_type": "code",
   "execution_count": 25,
   "id": "417514a5-0e0b-4f37-9e21-3771aab5065e",
   "metadata": {},
   "outputs": [],
   "source": [
    "from disruptsc.simulation.simulation import Simulation"
   ]
  },
  {
   "cell_type": "code",
   "execution_count": 143,
   "id": "de321fbf-fbfb-4907-83ab-15058cff9434",
   "metadata": {},
   "outputs": [],
   "source": [
    "simulation = Simulation(\"criticality\")"
   ]
  },
  {
   "cell_type": "code",
   "execution_count": 150,
   "id": "1129aad6-9167-4297-82b7-4034e150ac44",
   "metadata": {},
   "outputs": [],
   "source": [
    "model.run_one_time_step(time_step=1, current_simulation=simulation)"
   ]
  },
  {
   "cell_type": "code",
   "execution_count": 38,
   "id": "36877b51-cc89-478d-bba1-3b7bd9b8d052",
   "metadata": {},
   "outputs": [
    {
     "data": {
      "text/plain": [
       "np.float64(1.8744642911748487e-13)"
      ]
     },
     "execution_count": 38,
     "metadata": {},
     "output_type": "execute_result"
    }
   ],
   "source": [
    "com.delivery"
   ]
  },
  {
   "cell_type": "code",
   "execution_count": 62,
   "id": "8e272420-f457-47d9-b975-4eae3781c9a3",
   "metadata": {},
   "outputs": [
    {
     "name": "stdout",
     "output_type": "stream",
     "text": [
      "45\n"
     ]
    }
   ],
   "source": [
    "for i, firm in model.firms.items():\n",
    "    if firm.region_sector == 'ARM_TRD':\n",
    "        print(i)"
   ]
  },
  {
   "cell_type": "code",
   "execution_count": 64,
   "id": "8836c638-4e54-41ad-8e65-0a8a2f0680fe",
   "metadata": {},
   "outputs": [
    {
     "name": "stdout",
     "output_type": "stream",
     "text": [
      "1.1877340355781543 1.3856897081745132\n"
     ]
    }
   ],
   "source": [
    "com0 = model.sc_network[model.firms[45]][model.firms[0]]['object']\n",
    "print(com0.order, com0.delivery)"
   ]
  },
  {
   "cell_type": "code",
   "execution_count": 66,
   "id": "c6da49c5-8a8d-494e-9f35-1d40192cbbd6",
   "metadata": {},
   "outputs": [
    {
     "name": "stdout",
     "output_type": "stream",
     "text": [
      "1.3951744745362272e-07 1.8744642911748487e-13\n"
     ]
    }
   ],
   "source": [
    "com = model.sc_network[model.firms[802]][model.firms[762]]['object']\n",
    "print(com.order, com.delivery)"
   ]
  },
  {
   "cell_type": "code",
   "execution_count": 34,
   "id": "ab8a5461-c888-4cb0-be65-ca98b43e9216",
   "metadata": {},
   "outputs": [
    {
     "data": {
      "text/plain": [
       "0"
      ]
     },
     "execution_count": 34,
     "metadata": {},
     "output_type": "execute_result"
    }
   ],
   "source": [
    "com.realized_delivery"
   ]
  },
  {
   "cell_type": "code",
   "execution_count": 13,
   "id": "3d7bb83a-16e5-4d56-9343-82064b363f20",
   "metadata": {},
   "outputs": [],
   "source": [
    "import networkx as nx"
   ]
  },
  {
   "cell_type": "code",
   "execution_count": 14,
   "id": "8d8380e1-96b9-46f2-b7fa-3180603872df",
   "metadata": {},
   "outputs": [
    {
     "name": "stdout",
     "output_type": "stream",
     "text": [
      "(<disruptsc.agents.firm.Firm object at 0x000001AD02640550>, <disruptsc.agents.household.Household object at 0x000001AD7BBCA470>)\n",
      "(<disruptsc.agents.firm.Firm object at 0x000001AD02640550>, <disruptsc.agents.household.Household object at 0x000001AD02289150>)\n"
     ]
    }
   ],
   "source": [
    "k = 0\n",
    "for commercial_link in nx.get_edge_attributes(model.sc_network, \"object\"):\n",
    "    print(commercial_link)\n",
    "    k+=1\n",
    "    if k == 2:\n",
    "        break"
   ]
  },
  {
   "cell_type": "code",
   "execution_count": 11,
   "id": "c5d23906-417b-4cf3-9d8e-4453306d65cf",
   "metadata": {},
   "outputs": [
    {
     "name": "stdout",
     "output_type": "stream",
     "text": [
      "14 China solid_bulk\n",
      "14 Oceania solid_bulk\n",
      "14 Asia solid_bulk\n",
      "4 China container\n",
      "4 Oceania container\n",
      "4 Asia container\n",
      "8 China solid_bulk\n",
      "8 Oceania solid_bulk\n",
      "8 Asia solid_bulk\n",
      "24 China container\n"
     ]
    }
   ],
   "source": [
    "k = 0\n",
    "for edge in model.sc_network.edges:\n",
    "    commercial_link = model.sc_network[edge[0]][edge[1]]['object']\n",
    "    transport_modes = commercial_link.route.transport_modes\n",
    "    if \"pipelines\" in transport_modes:\n",
    "        print(commercial_link.supplier_id, commercial_link.buyer_id, commercial_link.shipment_method)\n",
    "        k+=1\n",
    "        if k == 10:\n",
    "            break"
   ]
  },
  {
   "cell_type": "code",
   "execution_count": 25,
   "id": "198b231b-f569-4f46-80aa-665dbe368a4d",
   "metadata": {},
   "outputs": [
    {
     "name": "stdout",
     "output_type": "stream",
     "text": [
      "Firm 749 located 525 in ecu sector MAQ Firm 695 located 224 in ecu sector MAN\n"
     ]
    }
   ],
   "source": [
    "print(model.firms[749].id_str(), model.firms[695].id_str())"
   ]
  },
  {
   "cell_type": "code",
   "execution_count": 68,
   "id": "fbdca87c-2119-459f-aeb4-1f642932d033",
   "metadata": {},
   "outputs": [
    {
     "data": {
      "text/plain": [
       "<Axes: >"
      ]
     },
     "execution_count": 68,
     "metadata": {},
     "output_type": "execute_result"
    },
    {
     "data": {
      "image/png": "[encoded data removed]",
      "text/plain": [
       "<Figure size 1000x800 with 1 Axes>"
      ]
     },
     "metadata": {},
     "output_type": "display_data"
    }
   ],
   "source": [
    "import matplotlib.pyplot as plt\n",
    "\n",
    "fig, ax = plt.subplots(figsize=(10, 8))\n",
    "model.transport_edges.plot(column=\"type\", legend=True, ax=ax, cmap=\"tab10\")  # Use a colormap like \"tab10\"\n",
    "model.transport_nodes.plot(ax=ax, color=\"black\", markersize=5, label=\"Nodes\")"
   ]
  },
  {
   "cell_type": "code",
   "execution_count": 34,
   "id": "c6314090-7a98-4c3a-b490-b12d66593ee6",
   "metadata": {},
   "outputs": [
    {
     "data": {
      "text/plain": [
       "40.68659770997405"
      ]
     },
     "execution_count": 34,
     "metadata": {},
     "output_type": "execute_result"
    }
   ],
   "source": [
    "model.transport_network.nodes[0]['geometry'].y"
   ]
  },
  {
   "cell_type": "code",
   "execution_count": 68,
   "id": "be0696c4-fbc6-43d1-a1df-1a46485d81cb",
   "metadata": {},
   "outputs": [
    {
     "name": "stdout",
     "output_type": "stream",
     "text": [
      "There are 587 od points\n"
     ]
    }
   ],
   "source": [
    "all_od_points = set(model.firm_table['od_point'].unique())\n",
    "print(f\"There are {len(all_od_points)} od points\")"
   ]
  },
  {
   "cell_type": "code",
   "execution_count": 75,
   "id": "93c7d619-8d29-4e2b-b901-e00c38e71d08",
   "metadata": {},
   "outputs": [
    {
     "data": {
      "text/plain": [
       "True"
      ]
     },
     "execution_count": 75,
     "metadata": {},
     "output_type": "execute_result"
    }
   ],
   "source": [
    "nx.has_path(model.transport_network, 4117, 4118)"
   ]
  },
  {
   "cell_type": "code",
   "execution_count": 62,
   "id": "b0679e24-2d69-4c8c-8226-9f161f4fdb12",
   "metadata": {},
   "outputs": [
    {
     "data": {
      "text/plain": [
       "False"
      ]
     },
     "execution_count": 62,
     "metadata": {},
     "output_type": "execute_result"
    }
   ],
   "source": [
    "nx.has_path(model.transport_network, 10236, 7584)"
   ]
  },
  {
   "cell_type": "code",
   "execution_count": 33,
   "id": "ceb844ac-72b6-46bf-92f9-42a316aeba63",
   "metadata": {},
   "outputs": [],
   "source": [
    "from itertools import combinations, product\n",
    "import networkx as nx\n",
    "from tqdm import tqdm\n",
    "\n",
    "\n",
    "def identify_unconnected_pairs(graph, pairs):\n",
    "    print(f\"There are {len(pairs)} pairs of nodes\")\n",
    "    pairs_not_connected = []\n",
    "    for node1, node2 in tqdm(pairs, desc=\"Processing pairs\", total=len(pairs)):\n",
    "        if not nx.has_path(model.transport_network, node1, node2):\n",
    "            pairs_not_connected.append((node1, node2))\n",
    "    print(f\"There are {len(pairs_not_connected)} disconnected pairs\")\n",
    "    return pairs_not_connected\n",
    "\n",
    "\n",
    "def identify_unconnected_pairs_two_sets(graph, set1, set2):\n",
    "    pairs = list(product(set1, set2))\n",
    "    return identify_unconnected_pairs(graph, pairs)\n",
    "\n",
    "\n",
    "def identify_unconnected_pairs_one_set(graph, set1):\n",
    "    pairs = list(combinations(set1, 2))\n",
    "    return identify_unconnected_pairs(graph, pairs)"
   ]
  },
  {
   "cell_type": "code",
   "execution_count": 69,
   "id": "1a2cd868-a524-411f-a3d8-743fb3232510",
   "metadata": {},
   "outputs": [
    {
     "name": "stdout",
     "output_type": "stream",
     "text": [
      "There are 28 pairs of nodes\n"
     ]
    },
    {
     "name": "stderr",
     "output_type": "stream",
     "text": [
      "Processing pairs: 100%|██████████████████████████████████████████████████████████████| 28/28 [00:00<00:00, 1559.66it/s]"
     ]
    },
    {
     "name": "stdout",
     "output_type": "stream",
     "text": [
      "There are 0 disconnected pairs\n"
     ]
    },
    {
     "name": "stderr",
     "output_type": "stream",
     "text": [
      "\n"
     ]
    }
   ],
   "source": [
    "countries_not_connected = identify_unconnected_pairs_one_set(model.transport_network, set(model.countries.get_properties('od_point').values()))"
   ]
  },
  {
   "cell_type": "code",
   "execution_count": 70,
   "id": "2a2f072b-c56b-46c3-a36c-819ce8f58c82",
   "metadata": {},
   "outputs": [
    {
     "name": "stdout",
     "output_type": "stream",
     "text": [
      "There are 48 pairs of nodes\n"
     ]
    },
    {
     "name": "stderr",
     "output_type": "stream",
     "text": [
      "Processing pairs: 100%|███████████████████████████████████████████████████████████████| 48/48 [00:00<00:00, 501.33it/s]"
     ]
    },
    {
     "name": "stdout",
     "output_type": "stream",
     "text": [
      "There are 0 disconnected pairs\n"
     ]
    },
    {
     "name": "stderr",
     "output_type": "stream",
     "text": [
      "\n"
     ]
    }
   ],
   "source": [
    "countries_households_not_connected = identify_unconnected_pairs_two_sets(model.transport_network, \n",
    "                                                              set(model.countries.get_properties('od_point').values()),\n",
    "                                                              set(model.household_table['od_point'].unique())\n",
    "                                                             )"
   ]
  },
  {
   "cell_type": "code",
   "execution_count": 71,
   "id": "fe7c0ee5-5bdb-4ffd-9f12-ecb1033b1d1d",
   "metadata": {},
   "outputs": [
    {
     "name": "stdout",
     "output_type": "stream",
     "text": [
      "There are 3522 pairs of nodes\n"
     ]
    },
    {
     "name": "stderr",
     "output_type": "stream",
     "text": [
      "Processing pairs: 100%|███████████████████████████████████████████████████████████| 3522/3522 [00:09<00:00, 357.34it/s]"
     ]
    },
    {
     "name": "stdout",
     "output_type": "stream",
     "text": [
      "There are 6 disconnected pairs\n"
     ]
    },
    {
     "name": "stderr",
     "output_type": "stream",
     "text": [
      "\n"
     ]
    }
   ],
   "source": [
    "firms_households_not_connected = identify_unconnected_pairs_two_sets(model.transport_network, \n",
    "                                                                     set(model.firm_table['od_point'].unique()),\n",
    "                                                                     set(model.household_table['od_point'].unique())\n",
    "                                                                    )"
   ]
  },
  {
   "cell_type": "code",
   "execution_count": 76,
   "id": "41525528-444d-40c0-aee8-40ebc809114b",
   "metadata": {},
   "outputs": [
    {
     "name": "stdout",
     "output_type": "stream",
     "text": [
      "There are 4696 pairs of nodes\n"
     ]
    },
    {
     "name": "stderr",
     "output_type": "stream",
     "text": [
      "Processing pairs: 100%|███████████████████████████████████████████████████████████| 4696/4696 [00:10<00:00, 453.88it/s]"
     ]
    },
    {
     "name": "stdout",
     "output_type": "stream",
     "text": [
      "There are 8 disconnected pairs\n"
     ]
    },
    {
     "name": "stderr",
     "output_type": "stream",
     "text": [
      "\n"
     ]
    }
   ],
   "source": [
    "firms_countries_not_connected = identify_unconnected_pairs_two_sets(model.transport_network, \n",
    "                                                                     set(model.firm_table['od_point'].unique()),\n",
    "                                                                     set(model.countries.get_properties('od_point').values())\n",
    "                                                                    )"
   ]
  },
  {
   "cell_type": "code",
   "execution_count": 78,
   "id": "43b25add-6903-4c56-b43d-ab8714d88fa5",
   "metadata": {},
   "outputs": [
    {
     "name": "stdout",
     "output_type": "stream",
     "text": [
      "There are 171991 pairs of nodes\n"
     ]
    },
    {
     "name": "stderr",
     "output_type": "stream",
     "text": [
      "Processing pairs: 100%|███████████████████████████████████████████████████████| 171991/171991 [08:12<00:00, 349.52it/s]"
     ]
    },
    {
     "name": "stdout",
     "output_type": "stream",
     "text": [
      "There are 586 disconnected pairs\n"
     ]
    },
    {
     "name": "stderr",
     "output_type": "stream",
     "text": [
      "\n"
     ]
    }
   ],
   "source": [
    "firms_not_connected = identify_unconnected_pairs_one_set(model.transport_network, set(model.firm_table['od_point'].unique()))"
   ]
  },
  {
   "cell_type": "code",
   "execution_count": 84,
   "id": "3e7f8402-c729-48b6-aa1e-8e64fef4843f",
   "metadata": {},
   "outputs": [
    {
     "name": "stdout",
     "output_type": "stream",
     "text": [
      "[9887, 3180, 9377, 9379, 9378, 3233, 7316, 7314, 3207, 9348, 1148, 1142, 3184, 9327, 3174, 9385, 7267, 9315, 7257, 1109, 9299, 7250, 1095, 1092, 9282, 9255, 1058, 9243, 3241, 9398]\n",
      "Int64Index([ 9887,  3180,  9377,  9379,  9378,  3233,  7316,  7314,  3207,\n",
      "             9348,\n",
      "            ...\n",
      "             4593,  4589,  6637, 10731,  4583,  4582,  4572,  4570,  4569,\n",
      "              786],\n",
      "           dtype='int64', length=472)\n"
     ]
    },
    {
     "data": {
      "text/plain": [
       "9887    586\n",
       "8194      1\n",
       "5561      1\n",
       "5554      1\n",
       "3507      1\n",
       "1460      1\n",
       "5557      1\n",
       "5556      1\n",
       "1463      1\n",
       "9660      1\n",
       "dtype: int64"
      ]
     },
     "execution_count": 84,
     "metadata": {},
     "output_type": "execute_result"
    }
   ],
   "source": [
    "# get nodes disconnected to many pairs\n",
    "import pandas as pd\n",
    "df = pd.DataFrame(firms_not_connected)\n",
    "print(str(df[0].value_counts().iloc[:30].index.to_list()))\n",
    "print(pd.concat([df[0]]).value_counts().index)\n",
    "pd.concat([df[0], df[1]]).value_counts().iloc[:10]"
   ]
  },
  {
   "cell_type": "code",
   "execution_count": null,
   "id": "5e7b499a-3b99-4572-984d-cd360d9345da",
   "metadata": {},
   "outputs": [
    {
     "name": "stderr",
     "output_type": "stream",
     "text": [
      "Processing node pairs: 53642it [03:19, 252.11it/s] "
     ]
    }
   ],
   "source": [
    "country_firm_pairs = product(set(model.country_table['od_point'].unique()), set(model.firm_table['od_point'].unique()))\n",
    "country_firm_not_connected = []\n",
    "for country, firm in tqdm(country_firm_pairs, desc=\"Processing pairs\"):\n",
    "    if not G.has_edge(country, firm):\n",
    "        country_firm_not_connected.append((country, firm))"
   ]
  },
  {
   "cell_type": "code",
   "execution_count": 24,
   "id": "901908df-8341-4385-a7b1-b73ce478bb13",
   "metadata": {},
   "outputs": [
    {
     "ename": "AttributeError",
     "evalue": "'Model' object has no attribute 'country_table'",
     "output_type": "error",
     "traceback": [
      "\u001b[1;31m---------------------------------------------------------------------------\u001b[0m",
      "\u001b[1;31mAttributeError\u001b[0m                            Traceback (most recent call last)",
      "Cell \u001b[1;32mIn[24], line 1\u001b[0m\n\u001b[1;32m----> 1\u001b[0m country_household_pairs \u001b[38;5;241m=\u001b[39m product(\u001b[38;5;28mset\u001b[39m(\u001b[43mmodel\u001b[49m\u001b[38;5;241;43m.\u001b[39;49m\u001b[43mcountry_table\u001b[49m[\u001b[38;5;124m'\u001b[39m\u001b[38;5;124mod_point\u001b[39m\u001b[38;5;124m'\u001b[39m]\u001b[38;5;241m.\u001b[39munique()), \u001b[38;5;28mset\u001b[39m(model\u001b[38;5;241m.\u001b[39mhousehold_table[\u001b[38;5;124m'\u001b[39m\u001b[38;5;124mod_point\u001b[39m\u001b[38;5;124m'\u001b[39m]\u001b[38;5;241m.\u001b[39munique()))\n\u001b[0;32m      2\u001b[0m country_household_not_connected \u001b[38;5;241m=\u001b[39m []\n\u001b[0;32m      3\u001b[0m \u001b[38;5;28;01mfor\u001b[39;00m country, firm \u001b[38;5;129;01min\u001b[39;00m tqdm(country_household_pairs, desc\u001b[38;5;241m=\u001b[39m\u001b[38;5;124m\"\u001b[39m\u001b[38;5;124mProcessing pairs\u001b[39m\u001b[38;5;124m\"\u001b[39m):\n",
      "\u001b[1;31mAttributeError\u001b[0m: 'Model' object has no attribute 'country_table'"
     ]
    }
   ],
   "source": [
    "country_household_pairs = product(set(model.country_table['od_point'].unique()), set(model.household_table['od_point'].unique()))\n",
    "country_household_not_connected = []\n",
    "for country, firm in tqdm(country_household_pairs, desc=\"Processing pairs\"):\n",
    "    if not G.has_edge(country, firm):\n",
    "        country_household_not_connected.append((country, firm))"
   ]
  },
  {
   "cell_type": "code",
   "execution_count": null,
   "id": "1df979df-25bb-4008-bc8f-b8a2bfeca15a",
   "metadata": {},
   "outputs": [
    {
     "name": "stderr",
     "output_type": "stream",
     "text": [
      "Processing node pairs: 53642it [03:19, 252.11it/s] "
     ]
    }
   ],
   "source": [
    "firm_household_pairs = product(set(model.firm_table['od_point'].unique()), set(model.household_table['od_point'].unique()))\n",
    "firm_household_not_connected = []\n",
    "for country, firm in tqdm(firm_household_pairs, desc=\"Processing pairs\"):\n",
    "    if not G.has_edge(country, firm):\n",
    "        firm_household_not_connected.append((country, firm))"
   ]
  },
  {
   "cell_type": "code",
   "execution_count": null,
   "id": "89d5f57f-19e7-4208-92a8-57ac1ecf33b5",
   "metadata": {},
   "outputs": [],
   "source": [
    "model.transport_edges"
   ]
  },
  {
   "cell_type": "code",
   "execution_count": 19,
   "id": "6800b6b0-23e2-495b-9eba-c178320878c0",
   "metadata": {},
   "outputs": [
    {
     "data": {
      "text/plain": [
       "{'type': 'transport_disruption',\n",
       " 'description_type': 'edge_attributes',\n",
       " 'attribute': 'disruption',\n",
       " 'values': ['flood_1in1000_UZB'],\n",
       " 'start_time': 1,\n",
       " 'duration': 1}"
      ]
     },
     "execution_count": 19,
     "metadata": {},
     "output_type": "execute_result"
    }
   ],
   "source": [
    "events = model.parameters.events\n",
    "events[0]"
   ]
  },
  {
   "cell_type": "code",
   "execution_count": 20,
   "id": "a5673acc-d6e5-4c8b-b23a-0471da9520d5",
   "metadata": {},
   "outputs": [
    {
     "data": {
      "text/plain": [
       "DisruptionList([EventDict(start_time=1, data={})])"
      ]
     },
     "execution_count": 20,
     "metadata": {},
     "output_type": "execute_result"
    }
   ],
   "source": [
    "from disruptsc.disruption.disruption import DisruptionList, TransportDisruption\n",
    "DisruptionList.from_events_parameter(model.parameters.events,  model.parameters.monetary_units_in_model,\n",
    "                                                                    model.transport_edges, model.firm_table,\n",
    "                                                                    model.firms)"
   ]
  },
  {
   "cell_type": "code",
   "execution_count": 22,
   "id": "b9f4b325-456a-4f56-bbb0-3ae8025e7464",
   "metadata": {},
   "outputs": [
    {
     "data": {
      "text/plain": [
       "EventDict(start_time=1, data={})"
      ]
     },
     "execution_count": 22,
     "metadata": {},
     "output_type": "execute_result"
    }
   ],
   "source": [
    "disruption_object = TransportDisruption.from_edge_attributes(\n",
    "                        edges=model.transport_edges,\n",
    "                        attribute=events[0]['attribute'],\n",
    "                        values=events[0]['values']\n",
    "                    )\n",
    "disruption_object"
   ]
  },
  {
   "cell_type": "code",
   "execution_count": 25,
   "id": "3fbcae6c-7655-4cd6-b310-9e01f26f87bd",
   "metadata": {},
   "outputs": [
    {
     "data": {
      "text/plain": [
       "[index\n",
       " 0       None\n",
       " 1       None\n",
       " 2       None\n",
       " 3       None\n",
       " 4       None\n",
       "         ... \n",
       " 1374     NaN\n",
       " 1375     NaN\n",
       " 1376     NaN\n",
       " 1377     NaN\n",
       " 1378     NaN\n",
       " Name: disruption, Length: 1379, dtype: object]"
      ]
     },
     "execution_count": 25,
     "metadata": {},
     "output_type": "execute_result"
    }
   ],
   "source": [
    "condition = [model.transport_edges[events[0]['attribute']].str.contains(value) for value in events[0]['values']]\n",
    "condition"
   ]
  },
  {
   "cell_type": "code",
   "execution_count": null,
   "id": "a243d85d-7001-4fd0-aab8-a5b5d6c13f55",
   "metadata": {},
   "outputs": [],
   "source": [
    "\n",
    "condition = pandas.concat(condition, axis=1)\n",
    "condition = condition.any(axis=1)"
   ]
  }
 ],
 "metadata": {
  "kernelspec": {
   "display_name": "Python 3 (ipykernel)",
   "language": "python",
   "name": "python3"
  },
  "language_info": {
   "codemirror_mode": {
    "name": "ipython",
    "version": 3
   },
   "file_extension": ".py",
   "mimetype": "text/x-python",
   "name": "python",
   "nbconvert_exporter": "python",
   "pygments_lexer": "ipython3",
   "version": "3.13.0"
  }
 },
 "nbformat": 4,
 "nbformat_minor": 5
}
