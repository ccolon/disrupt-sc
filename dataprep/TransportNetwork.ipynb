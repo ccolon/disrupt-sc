{
 "cells": [
  {
   "cell_type": "markdown",
   "metadata": {},
   "source": [
    "This notebook aims to produce transport layers that are fit for the model.\n",
    "\n",
    "Transport modes are among: roads, railways, waterways, maritime, and multimodal. Roads are required. Note that the multimodal is required if there are more than 2 transport modes.\n",
    "\n",
    "### Input\n",
    "- For each mode, a `raw_<mode>_edges.geojson` and and a `raw_<mode>_nodes.geoson`, except for multimodal for which there is only a edge layer\n",
    "- Required attributes :\n",
    "    - `raw_roads_edges.geojson`: \"class\" (\"primary\", \"seconday\", etc.), \"surface\" (\"paved, \"unpaved\")\n",
    "    - `raw_multimodal_edges.geojson`: \"multimodes\" (\"roads-railways\", \"roads-maritime\", etc.)\n",
    "    - For the countri\n",
    "- Optional attributes :\n",
    "    - `raw_<mode>_edges.geojson`: \"capacity\" (float, max daily tonnage on the edge)\n",
    "- Other requirements :\n",
    "    - the location of countries should be placed in the nodes layers\n",
    "    - concretely, there should be a \"name\" attribute in `raw_<mode>_nodes.geoson`, with the trigram of the country in the selected node\n",
    "       \n",
    "### Output\n",
    "- For each mode, a `<mode>_edges.geojson` and a `<mode>_nodes.geoson`\n",
    "- New attributes :\n",
    "    - `<mode>_edges.geojson` and `<mode>_nodes.geoson`: 'id' (integer)\n",
    "    - `<mode>_edges.geojson`: 'end1' and 'end2' (integer, id of nodes located at the end of the edges), 'km' (float, length of edge)\n",
    "    - Note that the end1 and end2 of edges are found with looking at the node of `<mode>_nodes.geoson` which is the closed to the ends of the dege\n",
    "- Modification on the geometry\n",
    "    - (optional) `<mode>_nodes.geoson`: if the end1 or end2 nodes are not located at the ends of the edges, they are moved to the ends of the edges\n",
    "    - (optional) `<mode>_nodes.geoson`: if there are several points very close to each others (distance epsilon), merge them\n",
    "\n",
    "### Folder path\n",
    "- input files : in the input_folder, there should be one subfolder per mode, named `<Mode>` with the files\n",
    "- output : defined by output_folder\n",
    "\n",
    "### Points to improve\n",
    "- we could think of not using a `raw_<mode>_nodes.geoson` and generate the nodes directly from the ends of edges\n",
    "- but we need to say where the countries are"
   ]
  },
  {
   "cell_type": "code",
   "execution_count": 1,
   "metadata": {},
   "outputs": [],
   "source": [
    "region = \"Cambodia\""
   ]
  },
  {
   "cell_type": "code",
   "execution_count": 2,
   "metadata": {},
   "outputs": [],
   "source": [
    "import os\n",
    "import time\n",
    "import math\n",
    "import numpy as np\n",
    "import pandas as pd\n",
    "import geopandas as gpd\n",
    "from shapely.geometry import Point, LineString\n",
    "import shapely.wkt\n",
    "from tqdm import tqdm\n",
    "\n",
    "input_folder = os.path.join('..', '..', '..', region, 'Data', 'Structured', \"Transport\")\n",
    "output_folder = os.path.join('..', 'input', region, 'Transport')"
   ]
  },
  {
   "cell_type": "code",
   "execution_count": 3,
   "metadata": {},
   "outputs": [],
   "source": [
    "projected_crs = {\n",
    "    'Cambodia': 3857,\n",
    "    'Ecuador': 31986,\n",
    "    'ECA': 3857\n",
    "}\n",
    "projected_crs = projected_crs[region]"
   ]
  },
  {
   "cell_type": "code",
   "execution_count": 4,
   "metadata": {},
   "outputs": [],
   "source": [
    "def loadShp(filename):\n",
    "    gpdf = gpd.read_file(filename)\n",
    "    gpdf = gpdf[~gpdf['geometry'].isnull()]\n",
    "    gpdf = gpdf.to_crs(epsg=4326)\n",
    "    return gpdf"
   ]
  },
  {
   "cell_type": "code",
   "execution_count": 5,
   "metadata": {},
   "outputs": [],
   "source": [
    "def createNodes(df_links):\n",
    "    all_coords = df_links['geometry'].apply(getEndCoordsFromLine).to_list()\n",
    "    all_coords = list(set([item for sublist in all_coords for item in sublist]))\n",
    "    return gpd.GeoDataFrame({\"geometry\": [Point(coords) for coords in all_coords], \"id\": range(len(all_coords))}, crs=4326)\n",
    "\n",
    "def getEndCoordsFromLine(linestring_obj):\n",
    "    end1Coord = linestring_obj.coords[0]\n",
    "    end2Coord = linestring_obj.coords[-1]\n",
    "    return [end1Coord, end2Coord]\n",
    "\n",
    "def getEndPointsFromLine(linestring_obj):\n",
    "    end1Coord = linestring_obj.coords[0]\n",
    "    end2Coord = linestring_obj.coords[-1]\n",
    "    return Point(*end1Coord), Point(*end2Coord)\n",
    "\n",
    "def getIndexClosestPoint(point, df_with_points):\n",
    "    distList = [point.distance(item) for item in df_with_points['geometry'].tolist()]\n",
    "    return int(df_with_points.index[distList.index(min(distList))])\n",
    "\n",
    "def updateLineString(linestring_obj, newEnd1, newEnd2):\n",
    "    return LineString([newEnd1.coords[0]] + linestring_obj.coords[1:-1]+[newEnd2.coords[0]])\n",
    "\n",
    "def assignEndpointsAndUpdate(df_links, id_link, df_nodes, update=False):\n",
    "    p1, p2 = getEndPointsFromLine(df_links.loc[id_link, 'geometry'])\n",
    "    id_closest_point1 = getIndexClosestPoint(p1, df_nodes)\n",
    "    id_closest_point2 = getIndexClosestPoint(p2, df_nodes)\n",
    "    df_links.loc[id_link, 'end1'] = id_closest_point1\n",
    "    df_links.loc[id_link, 'end2'] = id_closest_point2\n",
    "    if update:\n",
    "        df_links.loc[id_link, 'geometry'] = updateLineString(df_links.loc[id_link, 'geometry'], df_nodes.loc[id_closest_point1, 'geometry'], df_nodes.loc[id_closest_point2, 'geometry'])\n",
    "    return df_links\n",
    "\n",
    "def assignEndpointsAndUpdateFullDf(df_links, df_nodes, update=False):\n",
    "    print('Assigning end nodes to linestring')\n",
    "    if update:\n",
    "        print('Stag liens to endnodes')\n",
    "    res = df_links.copy()\n",
    "    for i in tqdm(res.index):\n",
    "        res = assignEndpointsAndUpdate(res, i, df_nodes, update=update)\n",
    "    res['end1'] = res['end1'].astype(int)\n",
    "    res['end2'] = res['end2'].astype(int)\n",
    "    return res\n",
    "\n",
    "def getAllEndpoints(df_links):\n",
    "    all_endpoints = [getEndPointsFromLine(item) for item in df_links['geometry']]\n",
    "    return [item for sublist in all_endpoints for item in sublist]\n",
    "\n",
    "def mergePoints(df_nodes, df_links, epsilon):\n",
    "    print(\"Nb of original nodes:\", df_nodes.shape[0])\n",
    "    \n",
    "    all_endpoints = getAllEndpoints(df_links)\n",
    "    print(\"Nb of endpoints:\", len(all_endpoints))\n",
    "    \n",
    "    all_points_gpd = gpd.GeoDataFrame({\"geometry\": df_nodes['geometry'].tolist()+getAllEndpoints(df_links)}, crs={'epsg':'4326'})\n",
    "    buffered_polygons = gpd.GeoDataFrame({\"geometry\": all_points_gpd.buffer(distance=epsilon)}, crs={'epsg':'4326'})\n",
    "    multipolygon = buffered_polygons.unary_union\n",
    "    centroids_each_polygon = [polygon.centroid for polygon in multipolygon]\n",
    "    print(\"Nb of grouped points:\", len(centroids_each_polygon))\n",
    "    \n",
    "    return gpd.GeoDataFrame({\"id\":range(len(multipolygon)), \"geometry\":centroids_each_polygon}, crs={'epsg':'4326'})\n",
    "\n",
    "def assignEndpointsOneEdge(row, df_nodes):\n",
    "    p1, p2 = getEndPointsFromLine(row['geometry'])\n",
    "    id_closest_point1 = getIndexClosestPoint(p1, df_nodes)\n",
    "    id_closest_point2 = getIndexClosestPoint(p2, df_nodes)\n",
    "    row['end1'] = id_closest_point1\n",
    "    row['end2'] = id_closest_point2\n",
    "    return row\n",
    "\n",
    "def assignEndpoints(df_links, df_nodes):\n",
    "    return df_links.apply(lambda row: assignEndpointsOneEdge(row, df_nodes), axis=1)"
   ]
  },
  {
   "cell_type": "code",
   "execution_count": 6,
   "metadata": {},
   "outputs": [],
   "source": [
    "def loadAndFormatGeojson(transport_mode, nodeedge, subfolder):\n",
    "    if nodeedge == \"nodes\":\n",
    "        nodes = gpd.read_file(os.path.join(subfolder, \"raw_\"+transport_mode+\"_nodes.geojson\"))\n",
    "        if 'index' in nodes.columns:\n",
    "            nodes = nodes.drop('index', axis=1)\n",
    "        nodes['id']=range(nodes.shape[0])\n",
    "        nodes.index = nodes['id']\n",
    "        nodes.index.name = \"index\"\n",
    "        print(\"There are\", nodes.shape[0], \"nodes\")\n",
    "        print(nodes.crs)\n",
    "        return nodes\n",
    "    \n",
    "    if nodeedge == \"edges\":\n",
    "        edges = gpd.read_file(os.path.join(subfolder, \"raw_\"+transport_mode+\"_edges.geojson\"))\n",
    "        edges = edges[~edges['geometry'].isnull()]\n",
    "        if 'index' in edges.columns:\n",
    "            edges = edges.drop('index', axis=1)\n",
    "        edges['id']=range(edges.shape[0])\n",
    "        edges['end1'] = None\n",
    "        edges['end2'] = None\n",
    "        if \"capacity\" not in edges.columns:\n",
    "            edges['capacity'] = None\n",
    "        edges.index = edges['id']\n",
    "        edges.index.name = \"index\"\n",
    "        print(\"There are\", edges.shape[0], \"edges\")\n",
    "        print(edges.crs)\n",
    "        return edges\n",
    "    \n",
    "    \n",
    "def addKm(edges, crs):\n",
    "    # Project the layer. Watch out, the CRS should be adapted to the country\n",
    "    edges['km'] = edges.to_crs({'init': 'epsg:'+str(crs)}).length/1000\n",
    "    return edges"
   ]
  },
  {
   "cell_type": "markdown",
   "metadata": {},
   "source": [
    "# Roads"
   ]
  },
  {
   "cell_type": "code",
   "execution_count": 9,
   "metadata": {},
   "outputs": [
    {
     "name": "stdout",
     "output_type": "stream",
     "text": [
      "There are 8632 edges\n",
      "epsg:4326\n"
     ]
    },
    {
     "name": "stderr",
     "output_type": "stream",
     "text": [
      "C:\\Users\\colon\\Anaconda3\\envs\\geo_env\\lib\\site-packages\\pyproj\\crs\\crs.py:68: FutureWarning: '+init=<authority>:<code>' syntax is deprecated. '<authority>:<code>' is the preferred initialization method. When making the change, be mindful of axis order changes: https://pyproj4.github.io/pyproj/stable/gotchas.html#axis-order-changes-in-proj-6\n",
      "  return _prepare_from_string(\" \".join(pjargs))\n"
     ]
    },
    {
     "name": "stdout",
     "output_type": "stream",
     "text": [
      "528379.745174192\n",
      "Assigning end nodes to linestring\n"
     ]
    },
    {
     "name": "stderr",
     "output_type": "stream",
     "text": [
      "100%|██████████████████████████████████████████████████████████████████████████████| 8632/8632 [10:50<00:00, 13.27it/s]\n"
     ]
    },
    {
     "name": "stdout",
     "output_type": "stream",
     "text": [
      "                     geometry  id\n",
      "0  POINT (121.12024 27.88813)   0\n",
      "1   POINT (37.88515 50.74885)   1\n",
      "2   POINT (44.35610 33.30235)   2\n",
      "3   POINT (69.36676 55.29093)   3\n",
      "4  POINT (109.30862 25.00105)   4\n",
      "       OBJECTID ISO_CC Name1 Name2 Name3 Name4 Name5 Shield        TYPE  RANK  \\\n",
      "index                                                                           \n",
      "0       26259.0     CN   315                            315  Major road   2.0   \n",
      "1           NaN   None  None  None  None  None  None   None        None   NaN   \n",
      "2           1.0     AF                                       Major road   1.0   \n",
      "3           2.0     AF                                          Highway   1.0   \n",
      "4           3.0     AF                                       Local road   2.0   \n",
      "\n",
      "       ... id  end1  end2  capacity  surface  class disruption  name special  \\\n",
      "index  ...                                                                     \n",
      "0      ...  0  7110  2926      None    paved   None       None  None    None   \n",
      "1      ...  1  2447  7102      None    paved   None       None  None    None   \n",
      "2      ...  2   742   537      None    paved   None       None  None    None   \n",
      "3      ...  3  4781  5612      None    paved   None       None  None    None   \n",
      "4      ...  4  1375  4247      None    paved   None       None  None    None   \n",
      "\n",
      "               km  \n",
      "index              \n",
      "0      421.623338  \n",
      "1      421.623615  \n",
      "2        0.365940  \n",
      "3        0.964284  \n",
      "4        0.289488  \n",
      "\n",
      "[5 rows x 23 columns]\n",
      "ATT\n"
     ]
    }
   ],
   "source": [
    "transport_mode = 'roads'\n",
    "special_suffix = \"\"  # _ximena leave empty \"\" otherwise\n",
    "subfolder = os.path.join(input_folder, transport_mode.capitalize()+special_suffix)\n",
    "\n",
    "#nodes['special'] = nodes['name'] #should do it in QGIS but for obscure reasons it does not work\n",
    "edges = loadAndFormatGeojson(transport_mode, \"edges\", subfolder)\n",
    "create_nodes = True\n",
    "if create_nodes:\n",
    "    nodes = createNodes(edges)\n",
    "else:\n",
    "    nodes = loadAndFormatGeojson(transport_mode, \"nodes\", subfolder)\n",
    "if \"surface\" not in edges.columns:\n",
    "    edges['surface'] = 'paved'\n",
    "if \"class\" not in edges.columns:\n",
    "    edges['class'] = None\n",
    "if \"disruption\" not in edges.columns:\n",
    "    edges['disruption'] = None\n",
    "if \"name\" not in edges.columns:\n",
    "    edges['name'] = None\n",
    "if \"special\" not in edges.columns:\n",
    "    edges['special'] = None\n",
    "    \n",
    "edges = addKm(edges, projected_crs)\n",
    "print(edges['km'].sum())\n",
    "edges = assignEndpointsAndUpdateFullDf(edges, nodes)\n",
    "\n",
    "print(nodes.head())\n",
    "print(edges.head())\n",
    "\n",
    "nodes.to_file(os.path.join(output_folder, transport_mode+\"_nodes\"+special_suffix+\".geojson\"), driver=\"GeoJSON\", index=False)\n",
    "edges.to_file(os.path.join(output_folder, transport_mode+\"_edges\"+special_suffix+\".geojson\"), driver=\"GeoJSON\", index=False)\n",
    "\n",
    "if (edges['end1'] == edges['end2']).any():\n",
    "    print('ATT')\n",
    "    edges[edges['end1'] == edges['end2']]"
   ]
  },
  {
   "cell_type": "markdown",
   "metadata": {},
   "source": [
    "# Maritime"
   ]
  },
  {
   "cell_type": "code",
   "execution_count": 7,
   "metadata": {},
   "outputs": [
    {
     "name": "stderr",
     "output_type": "stream",
     "text": [
      "C:\\Users\\colon\\AppData\\Local\\miniforge3\\lib\\site-packages\\pyproj\\crs\\crs.py:141: FutureWarning: '+init=<authority>:<code>' syntax is deprecated. '<authority>:<code>' is the preferred initialization method. When making the change, be mindful of axis order changes: https://pyproj4.github.io/pyproj/stable/gotchas.html#axis-order-changes-in-proj-6\n",
      "  in_crs_string = _prepare_from_proj_string(in_crs_string)\n"
     ]
    },
    {
     "name": "stdout",
     "output_type": "stream",
     "text": [
      "There are 21 nodes\n",
      "EPSG:4326\n",
      "There are 17 edges\n",
      "EPSG:4326\n",
      "Assigning end nodes to linestring\n"
     ]
    },
    {
     "name": "stderr",
     "output_type": "stream",
     "text": [
      "100%|█████████████████████████████████████████████████████████████████████████████████| 17/17 [00:00<00:00, 568.19it/s]"
     ]
    },
    {
     "name": "stdout",
     "output_type": "stream",
     "text": [
      "                                   name special                     geometry  \\\n",
      "index                                                                          \n",
      "0      Sihanoukville international port    port   POINT (103.51631 10.65094)   \n",
      "1                                  None     ASI   POINT (113.25973 19.97663)   \n",
      "2                          Cai Mep Port    port   POINT (107.02588 10.53712)   \n",
      "3                                  None     OCE  POINT (138.57498 -11.10568)   \n",
      "4                                  None     AFR        POINT (39.461 -6.961)   \n",
      "\n",
      "       id  \n",
      "index      \n",
      "0       0  \n",
      "1       1  \n",
      "2       2  \n",
      "3       3  \n",
      "4       4  \n",
      "       FID special                                           geometry  id  \\\n",
      "index                                                                       \n",
      "0      1.0    None  LINESTRING (103.51549 10.65113, 103.43294 10.6...   0   \n",
      "1      2.0    None  LINESTRING (103.51549 10.65113, 103.43294 10.6...   1   \n",
      "2      NaN    None  LINESTRING (6.00739 43.16967, 6.15844 40.03731...   2   \n",
      "3      NaN    None  LINESTRING (107.06404 10.10882, 107.23602 9.87...   3   \n",
      "4      NaN    None  LINESTRING (8.20278 38.19438, 10.24712 37.8721...   4   \n",
      "\n",
      "       end1  end2 capacity            km  \n",
      "index                                     \n",
      "0        13     6     None   1094.285208  \n",
      "1        13    20     None    949.907780  \n",
      "2         5     9     None    570.233653  \n",
      "3        18    19     None     34.159109  \n",
      "4         9    10     None  10000.414228  \n"
     ]
    },
    {
     "name": "stderr",
     "output_type": "stream",
     "text": [
      "\n"
     ]
    }
   ],
   "source": [
    "transport_mode = 'maritime'\n",
    "subfolder = os.path.join(input_folder, transport_mode.capitalize())\n",
    "\n",
    "nodes = loadAndFormatGeojson(transport_mode, \"nodes\", subfolder)\n",
    "edges = loadAndFormatGeojson(transport_mode, \"edges\", subfolder)\n",
    "\n",
    "edges = addKm(edges, crs=3975) #for maritime we use 3975, which is projection for the whole world\n",
    "edges = assignEndpointsAndUpdateFullDf(edges, nodes)\n",
    "\n",
    "print(nodes.head())\n",
    "print(edges.head())\n",
    "\n",
    "nodes.to_file(os.path.join(output_folder, transport_mode+\"_nodes.geojson\"), driver=\"GeoJSON\", index=False)\n",
    "edges.to_file(os.path.join(output_folder, transport_mode+\"_edges.geojson\"), driver=\"GeoJSON\", index=False)\n",
    "\n",
    "if (edges['end1'] == edges['end2']).any():\n",
    "    print('ATT')"
   ]
  },
  {
   "cell_type": "markdown",
   "metadata": {},
   "source": [
    "# Airways"
   ]
  },
  {
   "cell_type": "code",
   "execution_count": 19,
   "metadata": {},
   "outputs": [
    {
     "name": "stdout",
     "output_type": "stream",
     "text": [
      "There are 3 nodes\n",
      "epsg:4326\n",
      "There are 3 edges\n",
      "epsg:4326\n"
     ]
    },
    {
     "name": "stderr",
     "output_type": "stream",
     "text": [
      "C:\\Users\\colon\\Anaconda3\\envs\\geo_env\\lib\\site-packages\\pyproj\\crs\\crs.py:68: FutureWarning: '+init=<authority>:<code>' syntax is deprecated. '<authority>:<code>' is the preferred initialization method. When making the change, be mindful of axis order changes: https://pyproj4.github.io/pyproj/stable/gotchas.html#axis-order-changes-in-proj-6\n",
      "  return _prepare_from_string(\" \".join(pjargs))\n"
     ]
    },
    {
     "name": "stdout",
     "output_type": "stream",
     "text": [
      "Assigning end nodes to linestring\n",
      "                                         name special  \\\n",
      "index                                                   \n",
      "0      Aeropuerto Ecologico Galapagos Seymour    None   \n",
      "1                        Aeropuerto Guayaquil    None   \n",
      "2             Aeropuerto Quito Mariscal Sucre    None   \n",
      "\n",
      "                         geometry  id  \n",
      "index                                  \n",
      "0      POINT (-90.26504 -0.45506)   0  \n",
      "1      POINT (-79.88713 -2.15896)   1  \n",
      "2      POINT (-78.35621 -0.12718)   2  \n",
      "      special capacity                                           geometry  id  \\\n",
      "index                                                                           \n",
      "0        None     None  LINESTRING (-90.26504 -0.45506, -78.35621 -0.1...   0   \n",
      "1        None     None  LINESTRING (-78.35621 -0.12718, -79.88713 -2.1...   1   \n",
      "2        None     None  LINESTRING (-79.88713 -2.15896, -90.26504 -0.4...   2   \n",
      "\n",
      "       end1  end2           km  \n",
      "index                           \n",
      "0         0     2  1330.291233  \n",
      "1         2     1   282.009344  \n",
      "2         1     0  1174.341862  \n"
     ]
    }
   ],
   "source": [
    "transport_mode = 'airways'\n",
    "subfolder = os.path.join(input_folder, transport_mode.capitalize())\n",
    "\n",
    "nodes = loadAndFormatGeojson(transport_mode, \"nodes\", subfolder)\n",
    "edges = loadAndFormatGeojson(transport_mode, \"edges\", subfolder)\n",
    "\n",
    "edges = addKm(edges, projected_crs) #for maritime we use 3975, which is projection for the whole world\n",
    "edges = assignEndpointsAndUpdateFullDf(edges, nodes)\n",
    "\n",
    "print(nodes.head())\n",
    "print(edges.head())\n",
    "\n",
    "nodes.to_file(os.path.join(output_folder, transport_mode+\"_nodes.geojson\"), driver=\"GeoJSON\", index=False)\n",
    "edges.to_file(os.path.join(output_folder, transport_mode+\"_edges.geojson\"), driver=\"GeoJSON\", index=False)\n",
    "\n",
    "if (edges['end1'] == edges['end2']).any():\n",
    "    print('ATT')"
   ]
  },
  {
   "cell_type": "markdown",
   "metadata": {},
   "source": [
    "# Waterways"
   ]
  },
  {
   "cell_type": "code",
   "execution_count": 11,
   "metadata": {},
   "outputs": [
    {
     "name": "stdout",
     "output_type": "stream",
     "text": [
      "There are 22 nodes\n",
      "epsg:4326\n",
      "There are 20 edges\n",
      "epsg:4326\n",
      "Assigning end nodes to linestring\n"
     ]
    },
    {
     "name": "stderr",
     "output_type": "stream",
     "text": [
      "C:\\Users\\colon\\Anaconda3\\envs\\geo_env\\lib\\site-packages\\pyproj\\crs\\crs.py:68: FutureWarning: '+init=<authority>:<code>' syntax is deprecated. '<authority>:<code>' is the preferred initialization method. When making the change, be mindful of axis order changes: https://pyproj4.github.io/pyproj/stable/gotchas.html#axis-order-changes-in-proj-6\n",
      "  return _prepare_from_string(\" \".join(pjargs))\n",
      "100%|████████████████████████████████████████████████████████████████████████████████| 20/20 [00:00<00:00, 1250.87it/s]\n"
     ]
    },
    {
     "name": "stdout",
     "output_type": "stream",
     "text": [
      "       id                      name                    geometry\n",
      "index                                                          \n",
      "0       0          Chong Kneas Port  POINT (103.82202 13.26983)\n",
      "1       1      Kampong Chlnang Port  POINT (104.68121 12.26825)\n",
      "2       2  Kampong Chlnang Junction  POINT (104.69201 12.27107)\n",
      "3       3         Kratie River Port  POINT (106.01621 12.48460)\n",
      "4       4           Kratie Junction  POINT (106.01220 12.48335)\n",
      "       end1  end2 special  capacity  id  \\\n",
      "index                                     \n",
      "0         2     0    None  200000.0   0   \n",
      "1        10     6    None   20000.0   1   \n",
      "2         6     5    None   20000.0   2   \n",
      "3         6     4    None   20000.0   3   \n",
      "4         4     3    None       NaN   4   \n",
      "\n",
      "                                                geometry          km  \n",
      "index                                                                 \n",
      "0      LINESTRING (104.69187 12.27092, 104.67544 12.3...  156.544324  \n",
      "1      LINESTRING (104.95104 11.55619, 104.94254 11.5...  102.755312  \n",
      "2      LINESTRING (105.46912 11.98240, 105.46508 11.9...    0.458697  \n",
      "3      LINESTRING (105.46912 11.98240, 105.47277 12.0...  114.395339  \n",
      "4      LINESTRING (106.01220 12.48335, 106.01621 12.4...    0.468008  \n"
     ]
    }
   ],
   "source": [
    "transport_mode = 'waterways'\n",
    "subfolder = os.path.join(input_folder, transport_mode.capitalize())\n",
    "\n",
    "nodes = loadAndFormatGeojson(transport_mode, \"nodes\", subfolder)\n",
    "edges = loadAndFormatGeojson(transport_mode, \"edges\", subfolder)\n",
    "edges = addKm(edges, projected_crs)\n",
    "edges = assignEndpointsAndUpdateFullDf(edges, nodes)\n",
    "\n",
    "print(nodes.head())\n",
    "print(edges.head())\n",
    "\n",
    "nodes.to_file(os.path.join(output_folder, transport_mode+\"_nodes.geojson\"), driver=\"GeoJSON\", index=False)\n",
    "edges.to_file(os.path.join(output_folder, transport_mode+\"_edges.geojson\"), driver=\"GeoJSON\", index=False)\n",
    "\n",
    "if (edges['end1'] == edges['end2']).any():\n",
    "    print('ATT')"
   ]
  },
  {
   "cell_type": "markdown",
   "metadata": {},
   "source": [
    "# Multimodality"
   ]
  },
  {
   "cell_type": "code",
   "execution_count": 8,
   "metadata": {},
   "outputs": [
    {
     "name": "stdout",
     "output_type": "stream",
     "text": [
      "There are 14 edges\n",
      "EPSG:4326\n",
      "               multimodes special   capacity  \\\n",
      "index                                          \n",
      "0          roads-railways    None  1000000.0   \n",
      "1       railways-maritime                NaN   \n",
      "2      roads-maritime-shv              334.0   \n",
      "3         roads-waterways    None        NaN   \n",
      "4         roads-waterways    None        NaN   \n",
      "\n",
      "                                                geometry  id  end1  end2   km  \n",
      "index                                                                          \n",
      "0      LINESTRING (104.91654 11.57265, 104.91811 11.5...   0  None  None  0.1  \n",
      "1      LINESTRING (103.50217 10.64288, 103.51631 10.6...   1  None  None  0.1  \n",
      "2      LINESTRING (103.51222 10.64248, 103.51631 10.6...   2  None  None  0.1  \n",
      "3      LINESTRING (104.92095 11.58301, 104.92194 11.5...   3  None  None  0.1  \n",
      "4      LINESTRING (105.46532 11.98568, 105.46508 11.9...   4  None  None  0.1  \n"
     ]
    }
   ],
   "source": [
    "transport_mode = 'multimodal'\n",
    "special_suffix = \"\"  # leave empty \"\" otherwise\n",
    "subfolder = os.path.join(input_folder, transport_mode.capitalize()+special_suffix)\n",
    "\n",
    "edges = loadAndFormatGeojson(transport_mode, \"edges\", subfolder)\n",
    "edges['km'] = 0.1 #no impact\n",
    "\n",
    "print(edges.head())\n",
    "\n",
    "edges.to_file(os.path.join(output_folder, transport_mode+\"_edges\"+special_suffix+\".geojson\"), driver=\"GeoJSON\", index=False)"
   ]
  },
  {
   "cell_type": "markdown",
   "metadata": {},
   "source": [
    "# Railways"
   ]
  },
  {
   "cell_type": "code",
   "execution_count": 37,
   "metadata": {},
   "outputs": [
    {
     "name": "stderr",
     "output_type": "stream",
     "text": [
      "C:\\Users\\colon\\Anaconda3\\envs\\geo_env\\lib\\site-packages\\pyproj\\crs\\crs.py:68: FutureWarning: '+init=<authority>:<code>' syntax is deprecated. '<authority>:<code>' is the preferred initialization method. When making the change, be mindful of axis order changes: https://pyproj4.github.io/pyproj/stable/gotchas.html#axis-order-changes-in-proj-6\n",
      "  return _prepare_from_string(\" \".join(pjargs))\n"
     ]
    },
    {
     "name": "stdout",
     "output_type": "stream",
     "text": [
      "Assigning end nodes to linestring\n"
     ]
    },
    {
     "name": "stderr",
     "output_type": "stream",
     "text": [
      "100%|██████████████████████████████████████████████████████████████████████████████████████████████████████████████████| 177/177 [00:00<00:00, 276.61it/s]\n"
     ]
    },
    {
     "name": "stdout",
     "output_type": "stream",
     "text": [
      "                     geometry  id\n",
      "0  POINT (119.06567 37.00389)   0\n",
      "1   POINT (39.60605 40.81612)   1\n",
      "2  POINT (118.55905 24.87561)   2\n",
      "3  POINT (120.70911 27.98787)   3\n",
      "4   POINT (38.24080 47.16110)   4\n",
      "       id      multimodes special capacity        km  end1  end2  name  \\\n",
      "index                                                                    \n",
      "0       0  roads-maritime    None     None  2.284587    81    55  None   \n",
      "1       1  roads-railways    None     None  2.244781   223   243  None   \n",
      "2       2  roads-railways    None     None  3.613893    59   295  None   \n",
      "3       3  roads-maritime    None     None  5.692818    83   225  None   \n",
      "4       4  roads-railways    None     None  1.716334   218   244  None   \n",
      "\n",
      "                                                geometry disruption  \n",
      "index                                                                \n",
      "0      LINESTRING (48.02159 46.38468, 48.01296 46.37183)       None  \n",
      "1      LINESTRING (48.05829 46.36522, 48.03825 46.36367)       None  \n",
      "2      LINESTRING (44.46661 48.67487, 44.46868 48.69626)       None  \n",
      "3      LINESTRING (39.67938 47.19478, 39.72299 47.21293)       None  \n",
      "4      LINESTRING (39.74949 47.14259, 39.75757 47.15152)       None  \n"
     ]
    }
   ],
   "source": [
    "transport_mode = 'railways'\n",
    "create_nodes = True\n",
    "\n",
    "subfolder = os.path.join(input_folder, transport_mode.capitalize())\n",
    "#edges = loadAndFormatGeojson(transport_mode, \"edges\", subfolder)\n",
    "\n",
    "if create_nodes:\n",
    "    nodes = createNodes(edges)\n",
    "else:\n",
    "    nodes = loadAndFormatGeojson(transport_mode, \"nodes\", subfolder)\n",
    "edges = addKm(edges, projected_crs)\n",
    "edges = assignEndpointsAndUpdateFullDf(edges, nodes)\n",
    "edges['disruption'] = None\n",
    "\n",
    "print(nodes.head())\n",
    "print(edges.head())\n",
    "\n",
    "nodes.to_file(os.path.join(output_folder, transport_mode+\"_nodes.geojson\"), driver=\"GeoJSON\")\n",
    "edges.to_file(os.path.join(output_folder, transport_mode+\"_edges.geojson\"), driver=\"GeoJSON\")\n",
    "\n",
    "if (edges['end1'] == edges['end2']).any():\n",
    "    print('ATT')"
   ]
  },
  {
   "cell_type": "markdown",
   "metadata": {},
   "source": [
    "# Other stuff, may be useful"
   ]
  },
  {
   "cell_type": "markdown",
   "metadata": {},
   "source": [
    "### Transition from shp to geojson"
   ]
  },
  {
   "cell_type": "code",
   "execution_count": 47,
   "metadata": {},
   "outputs": [],
   "source": [
    "for edge_node in [\"node\", \"edge\"]:    \n",
    "    transport_mode = 'roads'\n",
    "    version = \"v8\"\n",
    "    subfolder = os.path.join(folder, 'Data', \"Structured\", transport_mode.capitalize(), version)\n",
    "\n",
    "    filename = \"raw_\"+transport_mode+\"_\"+edge_node+\"s.shp\"\n",
    "    df = gpd.read_file(os.path.join(subfolder, filename))\n",
    "\n",
    "    version = \"current_version\"\n",
    "    subfolder = os.path.join(folder, 'Data', \"Structured\", transport_mode.capitalize(), version)\n",
    "    df.to_file(os.path.join(subfolder, \"raw_\"+transport_mode+\"_\"+edge_node+\"s.geojson\"), driver=\"GeoJSON\")"
   ]
  },
  {
   "cell_type": "markdown",
   "metadata": {
    "tags": []
   },
   "source": [
    "### Change to CRS 4326"
   ]
  },
  {
   "cell_type": "code",
   "execution_count": 76,
   "metadata": {},
   "outputs": [],
   "source": [
    "for edge_node in [\"node\", \"edge\"]:    \n",
    "    transport_mode = 'multimodal'\n",
    "    version = \"current_version\"\n",
    "    subfolder = os.path.join(folder, 'Data', \"Structured\", transport_mode.capitalize(), version)\n",
    "    \n",
    "    filename = \"raw_\"+transport_mode+\"_\"+edge_node+\"s.shp\"\n",
    "    df = gpd.read_file(os.path.join(subfolder, \"raw_\"+transport_mode+\"_\"+edge_node+\"s.geojson\"))\n",
    "    \n",
    "    df = df.to_crs(4326)\n",
    "    \n",
    "    df.to_file(os.path.join(subfolder, \"raw_\"+transport_mode+\"_\"+edge_node+\"s.geojson\"), driver=\"GeoJSON\")"
   ]
  }
 ],
 "metadata": {
  "kernelspec": {
   "display_name": "Python 3 (ipykernel)",
   "language": "python",
   "name": "python3"
  },
  "language_info": {
   "codemirror_mode": {
    "name": "ipython",
    "version": 3
   },
   "file_extension": ".py",
   "mimetype": "text/x-python",
   "name": "python",
   "nbconvert_exporter": "python",
   "pygments_lexer": "ipython3",
   "version": "3.10.14"
  }
 },
 "nbformat": 4,
 "nbformat_minor": 4
}
