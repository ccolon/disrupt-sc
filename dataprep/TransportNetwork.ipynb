{
 "cells": [
  {
   "cell_type": "markdown",
   "metadata": {},
   "source": [
    "This notebook aims to produce transport layers that are fit for the model.\n",
    "\n",
    "Transport modes are among: roads, railways, waterways, maritime, and multimodal. Roads are required. Note that the multimodal is required if there are more than 2 transport modes.\n",
    "\n",
    "### Input\n",
    "- For each mode, a `raw_<mode>_edges.geojson` and and a `raw_<mode>_nodes.geoson`, except for multimodal for which there is only a edge layer\n",
    "- Required attributes :\n",
    "    - `raw_roads_edges.geojson`: \"class\" (\"primary\", \"seconday\", etc.), \"surface\" (\"paved, \"unpaved\")\n",
    "    - `raw_multimodal_edges.geojson`: \"multimodes\" (\"roads-railways\", \"roads-maritime\", etc.)\n",
    "    - For the countri\n",
    "- Optional attributes :\n",
    "    - `raw_<mode>_edges.geojson`: \"capacity\" (float, max daily tonnage on the edge)\n",
    "- Other requirements :\n",
    "    - the location of countries should be placed in the nodes layers\n",
    "    - concretely, there should be a \"name\" attribute in `raw_<mode>_nodes.geoson`, with the trigram of the country in the selected node\n",
    "       \n",
    "### Output\n",
    "- For each mode, a `<mode>_edges.geojson` and a `<mode>_nodes.geoson`\n",
    "- New attributes :\n",
    "    - `<mode>_edges.geojson` and `<mode>_nodes.geoson`: 'id' (integer)\n",
    "    - `<mode>_edges.geojson`: 'end1' and 'end2' (integer, id of nodes located at the end of the edges), 'km' (float, length of edge)\n",
    "    - Note that the end1 and end2 of edges are found with looking at the node of `<mode>_nodes.geoson` which is the closed to the ends of the dege\n",
    "- Modification on the geometry\n",
    "    - (optional) `<mode>_nodes.geoson`: if the end1 or end2 nodes are not located at the ends of the edges, they are moved to the ends of the edges\n",
    "    - (optional) `<mode>_nodes.geoson`: if there are several points very close to each others (distance epsilon), merge them\n",
    "\n",
    "### Folder path\n",
    "- input files : in the input_folder, there should be one subfolder per mode, named `<Mode>` with the files\n",
    "- output : defined by output_folder\n",
    "\n",
    "### Points to improve\n",
    "- we could think of not using a `raw_<mode>_nodes.geoson` and generate the nodes directly from the ends of edges\n",
    "- but we need to say where the countries are"
   ]
  },
  {
   "cell_type": "code",
   "execution_count": 1,
   "metadata": {},
   "outputs": [],
   "source": [
    "region = \"ECA\""
   ]
  },
  {
   "cell_type": "code",
   "execution_count": 3,
   "metadata": {},
   "outputs": [],
   "source": [
    "import os\n",
    "import time\n",
    "import math\n",
    "import numpy as np\n",
    "import pandas as pd\n",
    "import geopandas as gpd\n",
    "from shapely.geometry import Point, LineString\n",
    "import shapely.wkt\n",
    "from tqdm import tqdm\n",
    "\n",
    "if region == \"Italia\":\n",
    "    input_folder = os.path.join('..', '..', '..', '..', 'Research', 'Elisa', \"disruptsc-ita\", \"input\", \"Italy\", \"Transport\")\n",
    "else:\n",
    "    input_folder = os.path.join('..', '..', '..', region, 'Data', 'Structured', \"Transport\")\n",
    "\n",
    "output_folder = os.path.join('..', 'input', region, 'Transport')"
   ]
  },
  {
   "cell_type": "code",
   "execution_count": 4,
   "metadata": {},
   "outputs": [],
   "source": [
    "projected_crs = {\n",
    "    'Cambodia': 3857,\n",
    "    'Ecuador': 31986,\n",
    "    'ECA': 3857,\n",
    "    'Italia': 32633\n",
    "}\n",
    "projected_crs = projected_crs[region]"
   ]
  },
  {
   "cell_type": "code",
   "execution_count": 5,
   "metadata": {},
   "outputs": [],
   "source": [
    "def loadShp(filename):\n",
    "    gpdf = gpd.read_file(filename)\n",
    "    gpdf = gpdf[~gpdf['geometry'].isnull()]\n",
    "    gpdf = gpdf.to_crs(epsg=4326)\n",
    "    return gpdf"
   ]
  },
  {
   "cell_type": "code",
   "execution_count": 6,
   "metadata": {},
   "outputs": [],
   "source": [
    "def createNodes(df_links):\n",
    "    all_coords = df_links['geometry'].apply(getEndCoordsFromLine).to_list()\n",
    "    all_coords = list(set([item for sublist in all_coords for item in sublist]))\n",
    "    return gpd.GeoDataFrame({\"geometry\": [Point(coords) for coords in all_coords], \"id\": range(len(all_coords))}, crs=4326)\n",
    "\n",
    "def getEndCoordsFromLine(linestring_obj):\n",
    "    end1Coord = linestring_obj.coords[0]\n",
    "    end2Coord = linestring_obj.coords[-1]\n",
    "    return [end1Coord, end2Coord]\n",
    "\n",
    "def getEndPointsFromLine(linestring_obj):\n",
    "    end1Coord = linestring_obj.coords[0]\n",
    "    end2Coord = linestring_obj.coords[-1]\n",
    "    return Point(*end1Coord), Point(*end2Coord)\n",
    "\n",
    "def getIndexClosestPoint(point, df_with_points):\n",
    "    distList = [point.distance(item) for item in df_with_points['geometry'].tolist()]\n",
    "    return int(df_with_points.index[distList.index(min(distList))])\n",
    "\n",
    "def updateLineString(linestring_obj, newEnd1, newEnd2):\n",
    "    return LineString([newEnd1.coords[0]] + linestring_obj.coords[1:-1]+[newEnd2.coords[0]])\n",
    "\n",
    "def assignEndpointsAndUpdate(df_links, id_link, df_nodes, update=False):\n",
    "    p1, p2 = getEndPointsFromLine(df_links.loc[id_link, 'geometry'])\n",
    "    id_closest_point1 = getIndexClosestPoint(p1, df_nodes)\n",
    "    id_closest_point2 = getIndexClosestPoint(p2, df_nodes)\n",
    "    df_links.loc[id_link, 'end1'] = id_closest_point1\n",
    "    df_links.loc[id_link, 'end2'] = id_closest_point2\n",
    "    if update:\n",
    "        df_links.loc[id_link, 'geometry'] = updateLineString(df_links.loc[id_link, 'geometry'], df_nodes.loc[id_closest_point1, 'geometry'], df_nodes.loc[id_closest_point2, 'geometry'])\n",
    "    return df_links\n",
    "\n",
    "def assignEndpointsAndUpdateFullDf(df_links, df_nodes, update=False):\n",
    "    print('Assigning end nodes to linestring')\n",
    "    if update:\n",
    "        print('Stag liens to endnodes')\n",
    "    res = df_links.copy()\n",
    "    for i in tqdm(res.index):\n",
    "        res = assignEndpointsAndUpdate(res, i, df_nodes, update=update)\n",
    "    res['end1'] = res['end1'].astype(int)\n",
    "    res['end2'] = res['end2'].astype(int)\n",
    "    return res\n",
    "\n",
    "def getAllEndpoints(df_links):\n",
    "    all_endpoints = [getEndPointsFromLine(item) for item in df_links['geometry']]\n",
    "    return [item for sublist in all_endpoints for item in sublist]\n",
    "\n",
    "def mergePoints(df_nodes, df_links, epsilon):\n",
    "    print(\"Nb of original nodes:\", df_nodes.shape[0])\n",
    "    \n",
    "    all_endpoints = getAllEndpoints(df_links)\n",
    "    print(\"Nb of endpoints:\", len(all_endpoints))\n",
    "    \n",
    "    all_points_gpd = gpd.GeoDataFrame({\"geometry\": df_nodes['geometry'].tolist()+getAllEndpoints(df_links)}, crs={'epsg':'4326'})\n",
    "    buffered_polygons = gpd.GeoDataFrame({\"geometry\": all_points_gpd.buffer(distance=epsilon)}, crs={'epsg':'4326'})\n",
    "    multipolygon = buffered_polygons.unary_union\n",
    "    centroids_each_polygon = [polygon.centroid for polygon in multipolygon]\n",
    "    print(\"Nb of grouped points:\", len(centroids_each_polygon))\n",
    "    \n",
    "    return gpd.GeoDataFrame({\"id\":range(len(multipolygon)), \"geometry\":centroids_each_polygon}, crs={'epsg':'4326'})\n",
    "\n",
    "def assignEndpointsOneEdge(row, df_nodes):\n",
    "    p1, p2 = getEndPointsFromLine(row['geometry'])\n",
    "    id_closest_point1 = getIndexClosestPoint(p1, df_nodes)\n",
    "    id_closest_point2 = getIndexClosestPoint(p2, df_nodes)\n",
    "    row['end1'] = id_closest_point1\n",
    "    row['end2'] = id_closest_point2\n",
    "    return row\n",
    "\n",
    "def assignEndpoints(df_links, df_nodes):\n",
    "    return df_links.apply(lambda row: assignEndpointsOneEdge(row, df_nodes), axis=1)"
   ]
  },
  {
   "cell_type": "code",
   "execution_count": 7,
   "metadata": {},
   "outputs": [],
   "source": [
    "def loadAndFormatGeojson(transport_mode, nodeedge, subfolder, suffix=\"\"):\n",
    "    if nodeedge == \"nodes\":\n",
    "        nodes = gpd.read_file(os.path.join(subfolder, \"raw_\"+transport_mode+\"_nodes\"+suffix+\".geojson\"))\n",
    "        if 'index' in nodes.columns:\n",
    "            nodes = nodes.drop('index', axis=1)\n",
    "        nodes['id']=range(nodes.shape[0])\n",
    "        nodes.index = nodes['id']\n",
    "        nodes.index.name = \"index\"\n",
    "        print(\"There are\", nodes.shape[0], \"nodes\")\n",
    "        print(nodes.crs)\n",
    "        return nodes\n",
    "    \n",
    "    if nodeedge == \"edges\":\n",
    "        edges = gpd.read_file(os.path.join(subfolder, \"raw_\"+transport_mode+\"_edges\"+suffix+\".geojson\"))\n",
    "        edges = edges[~edges['geometry'].isnull()]\n",
    "        if 'index' in edges.columns:\n",
    "            edges = edges.drop('index', axis=1)\n",
    "        edges['id']=range(edges.shape[0])\n",
    "        edges['end1'] = None\n",
    "        edges['end2'] = None\n",
    "        if \"capacity\" not in edges.columns:\n",
    "            edges['capacity'] = None\n",
    "        edges.index = edges['id']\n",
    "        edges.index.name = \"index\"\n",
    "        print(\"There are\", edges.shape[0], \"edges\")\n",
    "        print(edges.crs)\n",
    "        return edges\n",
    "    \n",
    "    \n",
    "def addKm(edges, crs):\n",
    "    # Project the layer. Watch out, the CRS should be adapted to the country\n",
    "    edges['km'] = edges.to_crs({'init': 'epsg:'+str(crs)}).length/1000\n",
    "    return edges\n",
    "\n",
    "\n",
    "def create_nodes_from_edges(gpd_edges):\n",
    "    endpoints = gpd.GeoDataFrame(\n",
    "        {\"geometry\": gpd_edges.geometry.apply(lambda line: [Point(line.coords[0]), Point(line.coords[-1])]).explode()}\n",
    "    ).reset_index(drop=True)\n",
    "    tolerance = 6\n",
    "\n",
    "    # Round the x and y coordinates and create a new column for duplicate detection\n",
    "    endpoints['rounded_geometry'] = endpoints.geometry.apply(lambda geom: (round(geom.x, tolerance), round(geom.y, tolerance)))\n",
    "    \n",
    "    # Drop duplicates based on the rounded coordinates\n",
    "    unique_endpoints = endpoints.drop_duplicates(subset='rounded_geometry')['geometry']\n",
    "\n",
    "    nodes = gpd.GeoDataFrame(geometry=unique_endpoints.values, crs=gpd_edges.crs)\n",
    "    nodes['id'] = range(nodes.shape[0])\n",
    "    return nodes"
   ]
  },
  {
   "cell_type": "markdown",
   "metadata": {},
   "source": [
    "# Roads"
   ]
  },
  {
   "cell_type": "code",
   "execution_count": 12,
   "metadata": {},
   "outputs": [
    {
     "name": "stderr",
     "output_type": "stream",
     "text": [
      "C:\\Users\\Celian\\miniforge3\\Lib\\site-packages\\pyogrio\\raw.py:198: RuntimeWarning: Several features with id = 11652 have been found. Altering it to be unique. This warning will not be emitted anymore for this layer\n",
      "  return ogr_read(\n",
      "C:\\Users\\Celian\\miniforge3\\Lib\\site-packages\\pyproj\\crs\\crs.py:143: FutureWarning: '+init=<authority>:<code>' syntax is deprecated. '<authority>:<code>' is the preferred initialization method. When making the change, be mindful of axis order changes: https://pyproj4.github.io/pyproj/stable/gotchas.html#axis-order-changes-in-proj-6\n",
      "  in_crs_string = _prepare_from_proj_string(in_crs_string)\n"
     ]
    },
    {
     "name": "stdout",
     "output_type": "stream",
     "text": [
      "There are 508 edges\n",
      "EPSG:4326\n",
      "77515.21279862858\n",
      "Assigning end nodes to linestring\n"
     ]
    },
    {
     "name": "stderr",
     "output_type": "stream",
     "text": [
      "100%|████████████████████████████████████████████████████████████████████████████████| 508/508 [00:07<00:00, 70.90it/s]\n"
     ]
    },
    {
     "name": "stdout",
     "output_type": "stream",
     "text": [
      "                    geometry  id\n",
      "0  POINT (25.22646 42.19327)   0\n",
      "1  POINT (16.38534 48.35147)   1\n",
      "2    POINT (80.4087 44.1841)   2\n",
      "3  POINT (81.59412 44.28747)   3\n",
      "4  POINT (75.02899 40.65067)   4\n",
      "       id  end1  end2           km surface class disruption special capacity  \\\n",
      "index                                                                          \n",
      "0       0     0     1  1385.760126   paved  None       None    None     None   \n",
      "1       1     2     3   132.934330   paved  None       None    None     None   \n",
      "2       2     4     5     9.908933   paved  None       None    None     None   \n",
      "3       3     6     7     0.914980   paved  None       None  custom     None   \n",
      "4       4     8     9    59.918420   paved  None       None    None     None   \n",
      "\n",
      "       name                                           geometry  \n",
      "index                                                           \n",
      "0      None  LINESTRING (25.22646 42.19327, 16.38534 48.35147)  \n",
      "1      None    LINESTRING (80.4087 44.1841, 81.59412 44.28747)  \n",
      "2      None  LINESTRING (75.02899 40.65067, 75.05619 40.71495)  \n",
      "3      None  LINESTRING (73.92475 39.69426, 73.91859 39.69008)  \n",
      "4      None  LINESTRING (69.32793 40.51502, 69.63493 40.403...  \n"
     ]
    }
   ],
   "source": [
    "transport_mode = 'roads'\n",
    "special_suffix = \"\"  # _ximena leave empty \"\" otherwise\n",
    "subfolder = os.path.join(input_folder, transport_mode.capitalize())\n",
    "\n",
    "#nodes['special'] = nodes['name'] #should do it in QGIS but for obscure reasons it does not work\n",
    "edges = loadAndFormatGeojson(transport_mode, \"edges\", subfolder, special_suffix)\n",
    "nodes = create_nodes_from_edges(edges)\n",
    "\n",
    "edges['surface'] = 'paved'\n",
    "if \"surface\" not in edges.columns:\n",
    "    edges['surface'] = 'paved'\n",
    "if \"class\" not in edges.columns:\n",
    "    edges['class'] = None\n",
    "if \"disruption\" not in edges.columns:\n",
    "    edges['disruption'] = None\n",
    "if \"name\" not in edges.columns:\n",
    "    edges['name'] = None\n",
    "if \"special\" not in edges.columns:\n",
    "    edges['special'] = None\n",
    "    \n",
    "edges = addKm(edges, projected_crs)\n",
    "print(edges['km'].sum())\n",
    "edges = assignEndpointsAndUpdateFullDf(edges, nodes)\n",
    "\n",
    "print(nodes.head())\n",
    "print(edges.head())\n",
    "\n",
    "nodes.to_file(os.path.join(output_folder, transport_mode+\"_nodes\"+special_suffix+\".geojson\"), driver=\"GeoJSON\", index=False)\n",
    "edges.to_file(os.path.join(output_folder, transport_mode+\"_edges\"+special_suffix+\".geojson\"), driver=\"GeoJSON\", index=False)\n",
    "\n",
    "if (edges['end1'] == edges['end2']).any():\n",
    "    print('ATT')\n",
    "    edges[edges['end1'] == edges['end2']]"
   ]
  },
  {
   "cell_type": "markdown",
   "metadata": {},
   "source": [
    "# Maritime"
   ]
  },
  {
   "cell_type": "code",
   "execution_count": 47,
   "metadata": {
    "scrolled": true
   },
   "outputs": [
    {
     "name": "stderr",
     "output_type": "stream",
     "text": [
      "C:\\Users\\colon\\AppData\\Local\\miniforge3\\lib\\site-packages\\pyproj\\crs\\crs.py:141: FutureWarning: '+init=<authority>:<code>' syntax is deprecated. '<authority>:<code>' is the preferred initialization method. When making the change, be mindful of axis order changes: https://pyproj4.github.io/pyproj/stable/gotchas.html#axis-order-changes-in-proj-6\n",
      "  in_crs_string = _prepare_from_proj_string(in_crs_string)\n"
     ]
    },
    {
     "name": "stdout",
     "output_type": "stream",
     "text": [
      "There are 804 edges\n",
      "EPSG:4326\n",
      "Assigning end nodes to linestring\n"
     ]
    },
    {
     "name": "stderr",
     "output_type": "stream",
     "text": [
      "100%|████████████████████████████████████████████████████████████████████████████████| 804/804 [00:18<00:00, 43.40it/s]\n"
     ]
    },
    {
     "name": "stdout",
     "output_type": "stream",
     "text": [
      "                     geometry\n",
      "0   POINT (-9.99999 -0.00002)\n",
      "1   POINT (-78.12841 8.63057)\n",
      "2              POINT (-20 30)\n",
      "3    POINT (179.99983 7.9243)\n",
      "4  POINT (114.41737 21.84882)\n",
      "      from_infra to_infra  distance  length  id            km capacity  end1  \\\n",
      "index                                                                          \n",
      "0           None     None       NaN     NaN   0   7223.033494     None     0   \n",
      "1           None     None       NaN     NaN   1   6337.468767     None     1   \n",
      "2           None     None       NaN     NaN   2  24857.328586     None     3   \n",
      "3           None     None       NaN     NaN   3   6546.422559     None     3   \n",
      "4           None     None       NaN     NaN   4    650.655375     None     5   \n",
      "\n",
      "       end2 special  name                                           geometry  \n",
      "index                                                                         \n",
      "0         1    None  None  LINESTRING (-9.99999 -0.00002, -57.72181 11.89...  \n",
      "1         2    None  None  LINESTRING (-78.12841 8.63057, -74.56912 13.86...  \n",
      "2         1    None  None   LINESTRING (179.99983 7.9243, -78.12841 8.63057)  \n",
      "3         4    None  None  LINESTRING (179.99983 7.9243, 114.41737 21.84882)  \n",
      "4         6    None  None  LINESTRING (27.2 36.20001, 28.35773 36.47135, ...  \n"
     ]
    }
   ],
   "source": [
    "transport_mode = 'maritime'\n",
    "subfolder = os.path.join(input_folder, transport_mode.capitalize())\n",
    "\n",
    "#nodes = loadAndFormatGeojson(transport_mode, \"nodes\", subfolder)\n",
    "edges = loadAndFormatGeojson(transport_mode, \"edges\", subfolder)\n",
    "nodes = create_nodes_from_edges(edges)\n",
    "\n",
    "\n",
    "edges = addKm(edges, crs=3975) #for maritime we use 3975, which is projection for the whole world\n",
    "edges = assignEndpointsAndUpdateFullDf(edges, nodes)\n",
    "\n",
    "print(nodes.head())\n",
    "print(edges.head())\n",
    "\n",
    "nodes.to_file(os.path.join(output_folder, transport_mode+\"_nodes.geojson\"), driver=\"GeoJSON\", index=False)\n",
    "edges.to_file(os.path.join(output_folder, transport_mode+\"_edges.geojson\"), driver=\"GeoJSON\", index=False)\n",
    "\n",
    "if (edges['end1'] == edges['end2']).any():\n",
    "    print('ATT')"
   ]
  },
  {
   "cell_type": "markdown",
   "metadata": {},
   "source": [
    "# Airways"
   ]
  },
  {
   "cell_type": "code",
   "execution_count": 19,
   "metadata": {},
   "outputs": [
    {
     "name": "stdout",
     "output_type": "stream",
     "text": [
      "There are 3 nodes\n",
      "epsg:4326\n",
      "There are 3 edges\n",
      "epsg:4326\n"
     ]
    },
    {
     "name": "stderr",
     "output_type": "stream",
     "text": [
      "C:\\Users\\colon\\Anaconda3\\envs\\geo_env\\lib\\site-packages\\pyproj\\crs\\crs.py:68: FutureWarning: '+init=<authority>:<code>' syntax is deprecated. '<authority>:<code>' is the preferred initialization method. When making the change, be mindful of axis order changes: https://pyproj4.github.io/pyproj/stable/gotchas.html#axis-order-changes-in-proj-6\n",
      "  return _prepare_from_string(\" \".join(pjargs))\n"
     ]
    },
    {
     "name": "stdout",
     "output_type": "stream",
     "text": [
      "Assigning end nodes to linestring\n",
      "                                         name special  \\\n",
      "index                                                   \n",
      "0      Aeropuerto Ecologico Galapagos Seymour    None   \n",
      "1                        Aeropuerto Guayaquil    None   \n",
      "2             Aeropuerto Quito Mariscal Sucre    None   \n",
      "\n",
      "                         geometry  id  \n",
      "index                                  \n",
      "0      POINT (-90.26504 -0.45506)   0  \n",
      "1      POINT (-79.88713 -2.15896)   1  \n",
      "2      POINT (-78.35621 -0.12718)   2  \n",
      "      special capacity                                           geometry  id  \\\n",
      "index                                                                           \n",
      "0        None     None  LINESTRING (-90.26504 -0.45506, -78.35621 -0.1...   0   \n",
      "1        None     None  LINESTRING (-78.35621 -0.12718, -79.88713 -2.1...   1   \n",
      "2        None     None  LINESTRING (-79.88713 -2.15896, -90.26504 -0.4...   2   \n",
      "\n",
      "       end1  end2           km  \n",
      "index                           \n",
      "0         0     2  1330.291233  \n",
      "1         2     1   282.009344  \n",
      "2         1     0  1174.341862  \n"
     ]
    }
   ],
   "source": [
    "transport_mode = 'airways'\n",
    "subfolder = os.path.join(input_folder, transport_mode.capitalize())\n",
    "\n",
    "nodes = loadAndFormatGeojson(transport_mode, \"nodes\", subfolder)\n",
    "edges = loadAndFormatGeojson(transport_mode, \"edges\", subfolder)\n",
    "\n",
    "edges = addKm(edges, projected_crs) #for maritime we use 3975, which is projection for the whole world\n",
    "edges = assignEndpointsAndUpdateFullDf(edges, nodes)\n",
    "\n",
    "print(nodes.head())\n",
    "print(edges.head())\n",
    "\n",
    "nodes.to_file(os.path.join(output_folder, transport_mode+\"_nodes.geojson\"), driver=\"GeoJSON\", index=False)\n",
    "edges.to_file(os.path.join(output_folder, transport_mode+\"_edges.geojson\"), driver=\"GeoJSON\", index=False)\n",
    "\n",
    "if (edges['end1'] == edges['end2']).any():\n",
    "    print('ATT')"
   ]
  },
  {
   "cell_type": "markdown",
   "metadata": {},
   "source": [
    "# Waterways"
   ]
  },
  {
   "cell_type": "code",
   "execution_count": 11,
   "metadata": {},
   "outputs": [
    {
     "name": "stdout",
     "output_type": "stream",
     "text": [
      "There are 22 nodes\n",
      "epsg:4326\n",
      "There are 20 edges\n",
      "epsg:4326\n",
      "Assigning end nodes to linestring\n"
     ]
    },
    {
     "name": "stderr",
     "output_type": "stream",
     "text": [
      "C:\\Users\\colon\\Anaconda3\\envs\\geo_env\\lib\\site-packages\\pyproj\\crs\\crs.py:68: FutureWarning: '+init=<authority>:<code>' syntax is deprecated. '<authority>:<code>' is the preferred initialization method. When making the change, be mindful of axis order changes: https://pyproj4.github.io/pyproj/stable/gotchas.html#axis-order-changes-in-proj-6\n",
      "  return _prepare_from_string(\" \".join(pjargs))\n",
      "100%|████████████████████████████████████████████████████████████████████████████████| 20/20 [00:00<00:00, 1250.87it/s]\n"
     ]
    },
    {
     "name": "stdout",
     "output_type": "stream",
     "text": [
      "       id                      name                    geometry\n",
      "index                                                          \n",
      "0       0          Chong Kneas Port  POINT (103.82202 13.26983)\n",
      "1       1      Kampong Chlnang Port  POINT (104.68121 12.26825)\n",
      "2       2  Kampong Chlnang Junction  POINT (104.69201 12.27107)\n",
      "3       3         Kratie River Port  POINT (106.01621 12.48460)\n",
      "4       4           Kratie Junction  POINT (106.01220 12.48335)\n",
      "       end1  end2 special  capacity  id  \\\n",
      "index                                     \n",
      "0         2     0    None  200000.0   0   \n",
      "1        10     6    None   20000.0   1   \n",
      "2         6     5    None   20000.0   2   \n",
      "3         6     4    None   20000.0   3   \n",
      "4         4     3    None       NaN   4   \n",
      "\n",
      "                                                geometry          km  \n",
      "index                                                                 \n",
      "0      LINESTRING (104.69187 12.27092, 104.67544 12.3...  156.544324  \n",
      "1      LINESTRING (104.95104 11.55619, 104.94254 11.5...  102.755312  \n",
      "2      LINESTRING (105.46912 11.98240, 105.46508 11.9...    0.458697  \n",
      "3      LINESTRING (105.46912 11.98240, 105.47277 12.0...  114.395339  \n",
      "4      LINESTRING (106.01220 12.48335, 106.01621 12.4...    0.468008  \n"
     ]
    }
   ],
   "source": [
    "transport_mode = 'waterways'\n",
    "subfolder = os.path.join(input_folder, transport_mode.capitalize())\n",
    "\n",
    "nodes = loadAndFormatGeojson(transport_mode, \"nodes\", subfolder)\n",
    "edges = loadAndFormatGeojson(transport_mode, \"edges\", subfolder)\n",
    "edges = addKm(edges, projected_crs)\n",
    "edges = assignEndpointsAndUpdateFullDf(edges, nodes)\n",
    "\n",
    "print(nodes.head())\n",
    "print(edges.head())\n",
    "\n",
    "nodes.to_file(os.path.join(output_folder, transport_mode+\"_nodes.geojson\"), driver=\"GeoJSON\", index=False)\n",
    "edges.to_file(os.path.join(output_folder, transport_mode+\"_edges.geojson\"), driver=\"GeoJSON\", index=False)\n",
    "\n",
    "if (edges['end1'] == edges['end2']).any():\n",
    "    print('ATT')"
   ]
  },
  {
   "cell_type": "markdown",
   "metadata": {},
   "source": [
    "# Multimodality"
   ]
  },
  {
   "cell_type": "code",
   "execution_count": 49,
   "metadata": {},
   "outputs": [
    {
     "name": "stdout",
     "output_type": "stream",
     "text": [
      "There are 36 edges\n",
      "EPSG:4326\n",
      "       id      multimodes special capacity   km  end1  end2  name  \\\n",
      "index                                                               \n",
      "0       0  roads-maritime    None     None  0.1  None  None  None   \n",
      "1       1  roads-maritime    None     None  0.1  None  None  None   \n",
      "2       2  roads-maritime    None     None  0.1  None  None  None   \n",
      "3       3  roads-maritime    None     None  0.1  None  None  None   \n",
      "4       4  roads-maritime    None     None  0.1  None  None  None   \n",
      "\n",
      "                                                geometry  \n",
      "index                                                     \n",
      "0      LINESTRING (49.73252 40.28461, 49.96125 40.40953)  \n",
      "1        LINESTRING (52.86402 39.9982, 53.00618 40.0096)  \n",
      "2      LINESTRING (51.50857 36.65505, 51.36299 36.66567)  \n",
      "3      LINESTRING (53.36527 36.85068, 52.77789 36.56732)  \n",
      "4       LINESTRING (49.46996 37.47515, 49.50345 37.3067)  \n"
     ]
    }
   ],
   "source": [
    "transport_mode = 'multimodal'\n",
    "special_suffix = \"\"  # leave empty \"\" otherwise\n",
    "subfolder = os.path.join(input_folder, transport_mode.capitalize()+special_suffix)\n",
    "\n",
    "edges = loadAndFormatGeojson(transport_mode, \"edges\", subfolder)\n",
    "edges['km'] = 0.1 #no impact\n",
    "\n",
    "print(edges.head())\n",
    "\n",
    "edges.to_file(os.path.join(output_folder, transport_mode+\"_edges\"+special_suffix+\".geojson\"), driver=\"GeoJSON\", index=False)"
   ]
  },
  {
   "cell_type": "markdown",
   "metadata": {},
   "source": [
    "# Railways"
   ]
  },
  {
   "cell_type": "code",
   "execution_count": 11,
   "metadata": {},
   "outputs": [
    {
     "name": "stderr",
     "output_type": "stream",
     "text": [
      "C:\\Users\\Celian\\miniforge3\\Lib\\site-packages\\pyproj\\crs\\crs.py:143: FutureWarning: '+init=<authority>:<code>' syntax is deprecated. '<authority>:<code>' is the preferred initialization method. When making the change, be mindful of axis order changes: https://pyproj4.github.io/pyproj/stable/gotchas.html#axis-order-changes-in-proj-6\n",
      "  in_crs_string = _prepare_from_proj_string(in_crs_string)\n"
     ]
    },
    {
     "name": "stdout",
     "output_type": "stream",
     "text": [
      "There are 31 edges\n",
      "EPSG:4326\n",
      "Assigning end nodes to linestring\n"
     ]
    },
    {
     "name": "stderr",
     "output_type": "stream",
     "text": [
      "100%|█████████████████████████████████████████████████████████████████████████████████| 31/31 [00:00<00:00, 396.25it/s]"
     ]
    },
    {
     "name": "stdout",
     "output_type": "stream",
     "text": [
      "                    geometry  id\n",
      "0  POINT (51.22432 43.59837)   0\n",
      "1  POINT (59.66091 47.81512)   1\n",
      "2  POINT (61.32664 47.03795)   2\n",
      "3  POINT (72.84318 48.85557)   3\n",
      "4  POINT (73.40321 47.18942)   4\n",
      "      OBJECTID NAME1 NAME2 NAME3 ISO_CC RR_FEATURE Shape_Length special  \\\n",
      "index                                                                     \n",
      "0         None  None  None  None   None       None         None    None   \n",
      "1         None  None  None  None   None       None         None    None   \n",
      "2         None  None  None  None   None       None         None    None   \n",
      "3         None  None  None  None   None       None         None    None   \n",
      "4         None  None  None  None   None       None         None    None   \n",
      "\n",
      "                                                geometry  id  end1  end2  \\\n",
      "index                                                                      \n",
      "0      LINESTRING (51.22432 43.59837, 51.22589 43.606...   0     0     1   \n",
      "1      LINESTRING (59.66091 47.81512, 60.19222 47.646...   1     1     2   \n",
      "2      LINESTRING (61.32664 47.03795, 62.43952 47.350...   2     2     3   \n",
      "3      LINESTRING (72.84318 48.85557, 72.82164 48.371...   3     3     4   \n",
      "4      LINESTRING (73.40321 47.18942, 74.39403 47.023...   4     4     5   \n",
      "\n",
      "      capacity           km disruption  \n",
      "index                                   \n",
      "0         None  1215.189748       None  \n",
      "1         None   227.723486       None  \n",
      "2         None  1354.618627       None  \n",
      "3         None   296.515030       None  \n",
      "4         None   711.893409       None  \n"
     ]
    },
    {
     "name": "stderr",
     "output_type": "stream",
     "text": [
      "\n"
     ]
    }
   ],
   "source": [
    "transport_mode = 'railways'\n",
    "\n",
    "subfolder = os.path.join(input_folder, transport_mode.capitalize())\n",
    "edges = loadAndFormatGeojson(transport_mode, \"edges\", subfolder)\n",
    "nodes = create_nodes_from_edges(edges)\n",
    "\n",
    "edges = addKm(edges, projected_crs)\n",
    "edges = assignEndpointsAndUpdateFullDf(edges, nodes)\n",
    "edges['disruption'] = None\n",
    "\n",
    "print(nodes.head())\n",
    "print(edges.head())\n",
    "\n",
    "nodes.to_file(os.path.join(output_folder, transport_mode+\"_nodes.geojson\"), driver=\"GeoJSON\")\n",
    "edges.to_file(os.path.join(output_folder, transport_mode+\"_edges.geojson\"), driver=\"GeoJSON\")\n",
    "\n",
    "if (edges['end1'] == edges['end2']).any():\n",
    "    print('ATT')"
   ]
  },
  {
   "cell_type": "markdown",
   "metadata": {},
   "source": [
    "# Other stuff, may be useful"
   ]
  },
  {
   "cell_type": "markdown",
   "metadata": {},
   "source": [
    "### Transition from shp to geojson"
   ]
  },
  {
   "cell_type": "code",
   "execution_count": 47,
   "metadata": {},
   "outputs": [],
   "source": [
    "for edge_node in [\"node\", \"edge\"]:    \n",
    "    transport_mode = 'roads'\n",
    "    version = \"v8\"\n",
    "    subfolder = os.path.join(folder, 'Data', \"Structured\", transport_mode.capitalize(), version)\n",
    "\n",
    "    filename = \"raw_\"+transport_mode+\"_\"+edge_node+\"s.shp\"\n",
    "    df = gpd.read_file(os.path.join(subfolder, filename))\n",
    "\n",
    "    version = \"current_version\"\n",
    "    subfolder = os.path.join(folder, 'Data', \"Structured\", transport_mode.capitalize(), version)\n",
    "    df.to_file(os.path.join(subfolder, \"raw_\"+transport_mode+\"_\"+edge_node+\"s.geojson\"), driver=\"GeoJSON\")"
   ]
  },
  {
   "cell_type": "markdown",
   "metadata": {
    "tags": []
   },
   "source": [
    "### Change to CRS 4326"
   ]
  },
  {
   "cell_type": "code",
   "execution_count": 76,
   "metadata": {},
   "outputs": [],
   "source": [
    "for edge_node in [\"node\", \"edge\"]:    \n",
    "    transport_mode = 'multimodal'\n",
    "    version = \"current_version\"\n",
    "    subfolder = os.path.join(folder, 'Data', \"Structured\", transport_mode.capitalize(), version)\n",
    "    \n",
    "    filename = \"raw_\"+transport_mode+\"_\"+edge_node+\"s.shp\"\n",
    "    df = gpd.read_file(os.path.join(subfolder, \"raw_\"+transport_mode+\"_\"+edge_node+\"s.geojson\"))\n",
    "    \n",
    "    df = df.to_crs(4326)\n",
    "    \n",
    "    df.to_file(os.path.join(subfolder, \"raw_\"+transport_mode+\"_\"+edge_node+\"s.geojson\"), driver=\"GeoJSON\")"
   ]
  }
 ],
 "metadata": {
  "kernelspec": {
   "display_name": "Python 3 (ipykernel)",
   "language": "python",
   "name": "python3"
  },
  "language_info": {
   "codemirror_mode": {
    "name": "ipython",
    "version": 3
   },
   "file_extension": ".py",
   "mimetype": "text/x-python",
   "name": "python",
   "nbconvert_exporter": "python",
   "pygments_lexer": "ipython3",
   "version": "3.12.6"
  }
 },
 "nbformat": 4,
 "nbformat_minor": 4
}
