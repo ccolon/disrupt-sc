{
 "cells": [
  {
   "cell_type": "markdown",
   "metadata": {},
   "source": [
    "This notebook aims to produce transport layers that are fit for the model.\n",
    "\n",
    "Transport modes are among: roads, railways, waterways, maritime, and multimodal. Roads are required. Note that the multimodal is required if there are more than 2 transport modes.\n",
    "\n",
    "### Input\n",
    "- For each mode, a `raw_<mode>_edges.geojson` and and a `raw_<mode>_nodes.geoson`, except for multimodal for which there is only a edge layer\n",
    "- Required attributes :\n",
    "    - `raw_roads_edges.geojson`: \"class\" (\"primary\", \"seconday\", etc.), \"surface\" (\"paved, \"unpaved\")\n",
    "    - `raw_multimodal_edges.geojson`: \"multimodes\" (\"roads-railways\", \"roads-maritime\", etc.)\n",
    "    - For the countri\n",
    "- Optional attributes :\n",
    "    - `raw_<mode>_edges.geojson`: \"capacity\" (float, max daily tonnage on the edge)\n",
    "- Other requirements :\n",
    "    - the location of countries should be placed in the nodes layers\n",
    "    - concretely, there should be a \"name\" attribute in `raw_<mode>_nodes.geoson`, with the trigram of the country in the selected node\n",
    "       \n",
    "### Output\n",
    "- For each mode, a `<mode>_edges.geojson` and a `<mode>_nodes.geoson`\n",
    "- New attributes :\n",
    "    - `<mode>_edges.geojson` and `<mode>_nodes.geoson`: 'id' (integer)\n",
    "    - `<mode>_edges.geojson`: 'end1' and 'end2' (integer, id of nodes located at the end of the edges), 'km' (float, length of edge)\n",
    "    - Note that the end1 and end2 of edges are found with looking at the node of `<mode>_nodes.geoson` which is the closed to the ends of the dege\n",
    "- Modification on the geometry\n",
    "    - (optional) `<mode>_nodes.geoson`: if the end1 or end2 nodes are not located at the ends of the edges, they are moved to the ends of the edges\n",
    "    - (optional) `<mode>_nodes.geoson`: if there are several points very close to each others (distance epsilon), merge them\n",
    "\n",
    "### Folder path\n",
    "- input files : in the input_folder, there should be one subfolder per mode, named `<Mode>` with the files\n",
    "- output : defined by output_folder\n",
    "\n",
    "### Points to improve\n",
    "- we could think of not using a `raw_<mode>_nodes.geoson` and generate the nodes directly from the ends of edges\n",
    "- but we need to say where the countries are"
   ]
  },
  {
   "cell_type": "code",
   "execution_count": 1,
   "metadata": {},
   "outputs": [],
   "source": [
    "region = \"ECA\""
   ]
  },
  {
   "cell_type": "code",
   "execution_count": 2,
   "metadata": {},
   "outputs": [],
   "source": [
    "import os\n",
    "import time\n",
    "import math\n",
    "import numpy as np\n",
    "import pandas as pd\n",
    "import geopandas as gpd\n",
    "from shapely.geometry import Point, LineString\n",
    "import shapely.wkt\n",
    "from tqdm import tqdm\n",
    "\n",
    "if region == \"Italia\":\n",
    "    input_folder = os.path.join('..', '..', '..', '..', 'Research', 'Elisa', \"disruptsc-ita\", \"input\", \"Italy\", \"Transport\")\n",
    "else:\n",
    "    input_folder = os.path.join('..', '..', '..', region, 'Data', 'Structured', \"Transport\")\n",
    "\n",
    "output_folder = os.path.join('..', 'input', region, 'Transport')"
   ]
  },
  {
   "cell_type": "code",
   "execution_count": 3,
   "metadata": {},
   "outputs": [],
   "source": [
    "projected_crs = {\n",
    "    'Cambodia': 3857,\n",
    "    'Ecuador': 31986,\n",
    "    'ECA': 3857,\n",
    "    'Italia': 32633\n",
    "}\n",
    "projected_crs = projected_crs[region]"
   ]
  },
  {
   "cell_type": "code",
   "execution_count": 4,
   "metadata": {},
   "outputs": [],
   "source": [
    "def loadShp(filename):\n",
    "    gpdf = gpd.read_file(filename)\n",
    "    gpdf = gpdf[~gpdf['geometry'].isnull()]\n",
    "    gpdf = gpdf.to_crs(epsg=4326)\n",
    "    return gpdf"
   ]
  },
  {
   "cell_type": "code",
   "execution_count": 18,
   "metadata": {},
   "outputs": [],
   "source": [
    "def createNodes(df_links):\n",
    "    all_coords = df_links['geometry'].apply(getEndCoordsFromLine).to_list()\n",
    "    all_coords = list(set([item for sublist in all_coords for item in sublist]))\n",
    "    return gpd.GeoDataFrame({\"geometry\": [Point(coords) for coords in all_coords], \"id\": range(len(all_coords))}, crs=4326)\n",
    "\n",
    "def getEndCoordsFromLine(linestring_obj):\n",
    "    end1Coord = linestring_obj.coords[0]\n",
    "    end2Coord = linestring_obj.coords[-1]\n",
    "    return [end1Coord, end2Coord]\n",
    "\n",
    "def getEndPointsFromLine(linestring_obj):\n",
    "    end1Coord = linestring_obj.coords[0]\n",
    "    end2Coord = linestring_obj.coords[-1]\n",
    "    return Point(*end1Coord), Point(*end2Coord)\n",
    "\n",
    "def getIndexClosestPoint(point, df_with_points):\n",
    "    distList = [point.distance(item) for item in df_with_points['geometry'].tolist()]\n",
    "    return int(df_with_points.index[distList.index(min(distList))])\n",
    "\n",
    "def updateLineString(linestring_obj, newEnd1, newEnd2):\n",
    "    return LineString([newEnd1.coords[0]] + linestring_obj.coords[1:-1]+[newEnd2.coords[0]])\n",
    "\n",
    "def assignEndpointsAndUpdate(df_links, id_link, df_nodes, update=False):\n",
    "    p1, p2 = getEndPointsFromLine(df_links.loc[id_link, 'geometry'])\n",
    "    id_closest_point1 = getIndexClosestPoint(p1, df_nodes)\n",
    "    id_closest_point2 = getIndexClosestPoint(p2, df_nodes)\n",
    "    df_links.loc[id_link, 'end1'] = id_closest_point1\n",
    "    df_links.loc[id_link, 'end2'] = id_closest_point2\n",
    "    if update:\n",
    "        df_links.loc[id_link, 'geometry'] = updateLineString(df_links.loc[id_link, 'geometry'], df_nodes.loc[id_closest_point1, 'geometry'], df_nodes.loc[id_closest_point2, 'geometry'])\n",
    "    return df_links\n",
    "\n",
    "def assignEndpointsAndUpdateFullDf(df_links, df_nodes, update=False):\n",
    "    print('Assigning end nodes to linestring')\n",
    "    if update:\n",
    "        print('Stag liens to endnodes')\n",
    "    res = df_links.copy()\n",
    "    for i in tqdm(res.index):\n",
    "        res = assignEndpointsAndUpdate(res, i, df_nodes, update=update)\n",
    "    res['end1'] = res['end1'].astype(int)\n",
    "    res['end2'] = res['end2'].astype(int)\n",
    "    return res\n",
    "\n",
    "def getAllEndpoints(df_links):\n",
    "    all_endpoints = [getEndPointsFromLine(item) for item in df_links['geometry']]\n",
    "    return [item for sublist in all_endpoints for item in sublist]\n",
    "\n",
    "def mergePoints(df_nodes, df_links, epsilon):\n",
    "    print(\"Nb of original nodes:\", df_nodes.shape[0])\n",
    "    \n",
    "    all_endpoints = getAllEndpoints(df_links)\n",
    "    print(\"Nb of endpoints:\", len(all_endpoints))\n",
    "    \n",
    "    all_points_gpd = gpd.GeoDataFrame({\"geometry\": df_nodes['geometry'].tolist()+getAllEndpoints(df_links)}, crs={'epsg':'4326'})\n",
    "    buffered_polygons = gpd.GeoDataFrame({\"geometry\": all_points_gpd.buffer(distance=epsilon)}, crs={'epsg':'4326'})\n",
    "    multipolygon = buffered_polygons.unary_union\n",
    "    centroids_each_polygon = [polygon.centroid for polygon in multipolygon]\n",
    "    print(\"Nb of grouped points:\", len(centroids_each_polygon))\n",
    "    \n",
    "    return gpd.GeoDataFrame({\"id\":range(len(multipolygon)), \"geometry\":centroids_each_polygon}, crs={'epsg':'4326'})\n",
    "\n",
    "def assignEndpointsOneEdge(row, df_nodes):\n",
    "    p1, p2 = getEndPointsFromLine(row['geometry'])\n",
    "    id_closest_point1 = getIndexClosestPoint(p1, df_nodes)\n",
    "    id_closest_point2 = getIndexClosestPoint(p2, df_nodes)\n",
    "    row['end1'] = id_closest_point1\n",
    "    row['end2'] = id_closest_point2\n",
    "    return row\n",
    "\n",
    "def assignEndpoints(df_links, df_nodes):\n",
    "    return df_links.apply(lambda row: assignEndpointsOneEdge(row, df_nodes), axis=1)"
   ]
  },
  {
   "cell_type": "code",
   "execution_count": 19,
   "metadata": {},
   "outputs": [],
   "source": [
    "def loadAndFormatGeojson(transport_mode, nodeedge, subfolder, suffix=\"\"):\n",
    "    if nodeedge == \"nodes\":\n",
    "        nodes = gpd.read_file(os.path.join(subfolder, \"raw_\"+transport_mode+\"_nodes\"+suffix+\".geojson\"))\n",
    "        if 'index' in nodes.columns:\n",
    "            nodes = nodes.drop('index', axis=1)\n",
    "        nodes['id']=range(nodes.shape[0])\n",
    "        nodes.index = nodes['id']\n",
    "        nodes.index.name = \"index\"\n",
    "        print(\"There are\", nodes.shape[0], \"nodes\")\n",
    "        print(nodes.crs)\n",
    "        return nodes\n",
    "    \n",
    "    if nodeedge == \"edges\":\n",
    "        edges = gpd.read_file(os.path.join(subfolder, \"raw_\"+transport_mode+\"_edges\"+suffix+\".geojson\"))\n",
    "        edges = edges[~edges['geometry'].isnull()]\n",
    "        if 'index' in edges.columns:\n",
    "            edges = edges.drop('index', axis=1)\n",
    "        edges['id']=range(edges.shape[0])\n",
    "        edges['end1'] = None\n",
    "        edges['end2'] = None\n",
    "        if \"capacity\" not in edges.columns:\n",
    "            edges['capacity'] = None\n",
    "        edges.index = edges['id']\n",
    "        edges.index.name = \"index\"\n",
    "        print(\"There are\", edges.shape[0], \"edges\")\n",
    "        print(edges.crs)\n",
    "        return edges\n",
    "    \n",
    "    \n",
    "def addKm(edges, crs):\n",
    "    # Project the layer. Watch out, the CRS should be adapted to the country\n",
    "    edges['km'] = edges.to_crs({'init': 'epsg:'+str(crs)}).length/1000\n",
    "    return edges\n",
    "\n",
    "\n",
    "def create_nodes_from_edges(gpd_edges):\n",
    "    endpoints = gpd.GeoDataFrame(\n",
    "        {\"geometry\": gpd_edges.geometry.apply(lambda line: [Point(line.coords[0]), Point(line.coords[-1])]).explode()}\n",
    "    ).reset_index(drop=True)\n",
    "    tolerance = 6\n",
    "\n",
    "    # Round the x and y coordinates and create a new column for duplicate detection\n",
    "    endpoints['rounded_geometry'] = endpoints.geometry.apply(lambda geom: (round(geom.x, tolerance), round(geom.y, tolerance)))\n",
    "    \n",
    "    # Drop duplicates based on the rounded coordinates\n",
    "    unique_endpoints = endpoints.drop_duplicates(subset='rounded_geometry')['geometry']\n",
    "\n",
    "    nodes = gpd.GeoDataFrame(geometry=unique_endpoints.values, crs=gpd_edges.crs)\n",
    "    nodes['id'] = range(nodes.shape[0])\n",
    "    return nodes"
   ]
  },
  {
   "cell_type": "code",
   "execution_count": 20,
   "metadata": {},
   "outputs": [],
   "source": [
    "from shapely.ops import linemerge, unary_union\n",
    "\n",
    "\n",
    "def export(nodes, edges, input_folder, output_folder, transport_mode, special_suffix):\n",
    "    subfolder = os.path.join(input_folder, transport_mode.capitalize())\n",
    "    \n",
    "    filename = os.path.join(output_folder, transport_mode+\"_edges\"+special_suffix+\".geojson\")\n",
    "    edges.to_file(filename, driver=\"GeoJSON\", index=False)\n",
    "    print(filename + ' exported')\n",
    "    \n",
    "    filename = os.path.join(subfolder, \"treated_\"+transport_mode+\"_edges\"+special_suffix+\".geojson\")\n",
    "    edges.to_file(filename, driver=\"GeoJSON\", index=False)\n",
    "    print(filename + ' exported')\n",
    "    \n",
    "    filename = os.path.join(subfolder, \"treated_\"+transport_mode+\"_nodes\"+special_suffix+\".geojson\")\n",
    "    nodes.to_file(filename, driver=\"GeoJSON\", index=False)\n",
    "    print(filename + ' exported')\n",
    "\n",
    "\n",
    "def create_nodes_and_update_edges(edges):\n",
    "    # create nodes from endpoints\n",
    "    endpoints = gpd.GeoDataFrame({\"end1\": edges.geometry.apply(lambda line: Point(line.coords[0])), \"end2\": edges.geometry.apply(lambda line: Point(line.coords[-1]))})\n",
    "    all_endpoints = gpd.GeoDataFrame(pd.concat([endpoints['end1'], endpoints['end2']]), columns=[\"geometry\"], crs=edges.crs)\n",
    "    all_endpoints['geometry_wkt'] = all_endpoints['geometry'].to_wkt()\n",
    "    nodes = all_endpoints.drop_duplicates('geometry_wkt').copy()\n",
    "    nodes['id'] = range(nodes.shape[0])\n",
    "    nodes.index = nodes['id']\n",
    "    \n",
    "    # add nodes_id into end1 and end2 columns of edges\n",
    "    edges['end1'] = endpoints['end1'].to_wkt().map(nodes.set_index('geometry_wkt')['id'])\n",
    "    edges['end2'] = endpoints['end2'].to_wkt().map(nodes.set_index('geometry_wkt')['id'])\n",
    "\n",
    "    return nodes, edges"
   ]
  },
  {
   "cell_type": "markdown",
   "metadata": {},
   "source": [
    "# Roads"
   ]
  },
  {
   "cell_type": "code",
   "execution_count": 201,
   "metadata": {},
   "outputs": [
    {
     "name": "stdout",
     "output_type": "stream",
     "text": [
      "Nb degree 2 nodes: 3013\n",
      "Check that they are actually 2 edges associated: True\n"
     ]
    },
    {
     "name": "stderr",
     "output_type": "stream",
     "text": [
      "  0%|▏                                                                               | 8/3013 [00:00<00:19, 157.81it/s]"
     ]
    },
    {
     "name": "stdout",
     "output_type": "stream",
     "text": [
      "[18, 876]\n",
      "[73, 78]\n",
      "[108, 858]\n",
      "[110, 423]\n",
      "[125, 241]\n",
      "[142, 324]\n",
      "[146, 530]\n",
      "[152, 153]\n",
      "[157, 1422]\n",
      "id\n",
      "157     LINESTRING (46.53166 38.89632, 46.53053 38.898...\n",
      "1422    LINESTRING (46.53166 38.89632, 46.53053 38.898...\n",
      "Name: geometry, dtype: geometry\n",
      "MULTILINESTRING ((46.49164150349149 38.890866281292595, 46.4911860911759 38.89070078615641, 46.48898660011175 38.89108300012184, 46.487667599999895 38.891661, 46.4836334999999 38.8944834, 46.482557905059835 38.89494783931255, 46.48116409999998 38.89532079999997, 46.479830538890134 38.89564102057518, 46.47800719999994 38.89597559999995, 46.47472000113206 38.89531860609513, 46.47416829999995 38.89309849999997, 46.47251410620896 38.89180122811302, 46.4700658999999 38.891044, 46.46902 38.8909813, 46.465695 38.8915274, 46.46432169999991 38.8923958, 46.46320589999991 38.8935315, 46.460341299999904 38.8978151, 46.458378499999924 38.898795200000116, 46.45617966764101 38.89951347450105, 46.45372375000035 38.89973790022023, 46.45013175038911 38.89972805811846, 46.44754622975308 38.900386266567786), (46.49164150349149 38.890866281292595, 46.491186091175855 38.89070078615636), (46.495360708359826 38.89194703748289, 46.49375440000003 38.89163409999985, 46.49164150349149 38.890866281292595), (46.495360708359826 38.89194703748289, 46.49375439999994 38.891634099999976, 46.49164150349149 38.890866281292595), (46.4956069 38.891995, 46.495360708359826 38.89194703748289), (46.4956069 38.891995, 46.4956068999999 38.891995, 46.495360708359826 38.89194703748289), (46.495685171135435 38.8919922268769, 46.49560690000001 38.891995, 46.4956069 38.891995), (46.495685171135435 38.8919922268769, 46.4956069 38.891995), (46.49904141349706 38.891161113497304, 46.49899730000001 38.89119329999992, 46.4970463504441 38.89194400069797, 46.495685171135435 38.8919922268769), (46.49904141349706 38.891161113497304, 46.49899729999991 38.8911933, 46.49704635044407 38.89194400069804, 46.495685171135435 38.8919922268769), (46.50328879999992 38.88778619999999, 46.50328879999988 38.8877862, 46.500370599999876 38.8901913, 46.49904141349706 38.891161113497304), (46.50328879999992 38.88778619999999, 46.50037059999999 38.89019129999993, 46.49904141349706 38.891161113497304), (46.50539106656586 38.887138147674335, 46.50539106656582 38.88713814767433, 46.5032888 38.88778619999992, 46.50328879999992 38.88778619999999), (46.50539106656586 38.887138147674335, 46.50328879999992 38.88778619999999), (46.506423724293036 38.88726998117168, 46.50539106656586 38.887138147674335), (46.506423724293036 38.88726998117168, 46.505391066565885 38.88713814767433, 46.50539106656586 38.887138147674335), (46.51479378579901 38.89157509673424, 46.51494403671113 38.890807864393686, 46.512816 38.88931439999992, 46.5083743 38.887519, 46.506423724293036 38.88726998117168), (46.51479378579901 38.89157509673424, 46.51494403671107 38.89080786439377, 46.51281599999988 38.8893144, 46.50837429999988 38.887519, 46.506423724293036 38.88726998117168), (46.51570559999997 38.89831429999999, 46.51570559999992 38.89831429999996, 46.513927505721604 38.897921018984086, 46.51243329999992 38.898364399999956, 46.51092107465656 38.89823625326863, 46.5114105 38.89686319999993, 46.512353538911825 38.89602285110191), (46.51570559999997 38.89831429999999, 46.51392750572157 38.897921018984164, 46.51243329999998 38.898364399999984, 46.510921074656515 38.8982362532687, 46.51141049999989 38.8968632, 46.512353538911825 38.89602285110191), (46.512353538911825 38.89602285110191, 46.513474 38.89502439999995, 46.51367633611034 38.8947463279517), (46.512353538911825 38.89602285110191, 46.513474 38.895024399999976, 46.51367633611034 38.8947463279517), (46.51367633611034 38.8947463279517, 46.51423219999989 38.89398240000001, 46.51439112919573 38.89342227016082), (46.51367633611034 38.8947463279517, 46.5142322 38.893982399999935, 46.51439112919573 38.89342227016082), (46.51439112919573 38.89342227016082, 46.514523199999914 38.89295679999996, 46.51479378579901 38.89157509673424), (46.51439112919573 38.89342227016082, 46.51452319999998 38.8929568, 46.51479378579901 38.89157509673424), (46.51573264990512 38.8983290604443, 46.515705599999976 38.89831429999999, 46.51570559999997 38.89831429999999), (46.51573264990512 38.8983290604443, 46.51570559999997 38.89831429999999), (46.52494474950956 38.90106800060075, 46.51972540000001 38.89984409999991, 46.51719330000001 38.89912609999992, 46.51573264990512 38.8983290604443), (46.52494474950956 38.90106800060075, 46.52494474950949 38.901068000600816, 46.5197253999999 38.8998441, 46.517193299999896 38.8991261, 46.51573264990512 38.8983290604443), (46.5316618158228 38.896320142671684, 46.530525336000224 38.898583688861756, 46.5288768 38.89843540000017, 46.52687428836697 38.89943876274303, 46.52494474950961 38.901068000600766, 46.52494474950956 38.90106800060075), (46.5316618158227 38.8963201426715, 46.5305253360001 38.89858368886154, 46.52887679999998 38.89843539999994, 46.52687428836688 38.89943876274292, 46.52494474950956 38.90106800060075))\n"
     ]
    },
    {
     "name": "stderr",
     "output_type": "stream",
     "text": [
      "\n"
     ]
    },
    {
     "ename": "ValueError",
     "evalue": "Merged geometry is: MultiLineString",
     "output_type": "error",
     "traceback": [
      "\u001b[1;31m---------------------------------------------------------------------------\u001b[0m",
      "\u001b[1;31mValueError\u001b[0m                                Traceback (most recent call last)",
      "Cell \u001b[1;32mIn[201], line 92\u001b[0m\n\u001b[0;32m     89\u001b[0m     edges \u001b[38;5;241m=\u001b[39m edges\u001b[38;5;241m.\u001b[39mreset_index()\n\u001b[0;32m     90\u001b[0m     \u001b[38;5;28;01mreturn\u001b[39;00m edges\n\u001b[1;32m---> 92\u001b[0m s \u001b[38;5;241m=\u001b[39m \u001b[43mremove_degree_2_nodes\u001b[49m\u001b[43m(\u001b[49m\u001b[43medges\u001b[49m\u001b[43m)\u001b[49m\n",
      "Cell \u001b[1;32mIn[201], line 79\u001b[0m, in \u001b[0;36mremove_degree_2_nodes\u001b[1;34m(edges)\u001b[0m\n\u001b[0;32m     77\u001b[0m edge_ids \u001b[38;5;241m=\u001b[39m merge_nodes_with_edges_ids\u001b[38;5;241m.\u001b[39mpop(merged_node)\n\u001b[0;32m     78\u001b[0m \u001b[38;5;28mprint\u001b[39m(edge_ids)\n\u001b[1;32m---> 79\u001b[0m merged_attributes \u001b[38;5;241m=\u001b[39m \u001b[43mmerge_edges_attributes\u001b[49m\u001b[43m(\u001b[49m\u001b[43medges\u001b[49m\u001b[38;5;241;43m.\u001b[39;49m\u001b[43mloc\u001b[49m\u001b[43m[\u001b[49m\u001b[43medge_ids\u001b[49m\u001b[43m]\u001b[49m\u001b[43m)\u001b[49m\n\u001b[0;32m     80\u001b[0m old_id \u001b[38;5;241m=\u001b[39m \u001b[38;5;28mmax\u001b[39m(edge_ids)\n\u001b[0;32m     81\u001b[0m new_id \u001b[38;5;241m=\u001b[39m \u001b[38;5;28mmin\u001b[39m(edge_ids)\n",
      "Cell \u001b[1;32mIn[201], line 28\u001b[0m, in \u001b[0;36mmerge_edges_attributes\u001b[1;34m(gdf)\u001b[0m\n\u001b[0;32m     26\u001b[0m     \u001b[38;5;28mprint\u001b[39m(gdf\u001b[38;5;241m.\u001b[39mgeometry)\n\u001b[0;32m     27\u001b[0m     \u001b[38;5;28mprint\u001b[39m(new_data[\u001b[38;5;124m'\u001b[39m\u001b[38;5;124mgeometry\u001b[39m\u001b[38;5;124m'\u001b[39m])\n\u001b[1;32m---> 28\u001b[0m     \u001b[38;5;28;01mraise\u001b[39;00m \u001b[38;5;167;01mValueError\u001b[39;00m(\u001b[38;5;124mf\u001b[39m\u001b[38;5;124m\"\u001b[39m\u001b[38;5;124mMerged geometry is: \u001b[39m\u001b[38;5;132;01m{\u001b[39;00mnew_data[\u001b[38;5;124m'\u001b[39m\u001b[38;5;124mgeometry\u001b[39m\u001b[38;5;124m'\u001b[39m]\u001b[38;5;241m.\u001b[39mgeom_type\u001b[38;5;132;01m}\u001b[39;00m\u001b[38;5;124m\"\u001b[39m)\n\u001b[0;32m     30\u001b[0m \u001b[38;5;28;01mdef\u001b[39;00m \u001b[38;5;21mstring_to_list\u001b[39m(s):\n\u001b[0;32m     31\u001b[0m     \u001b[38;5;28;01mreturn\u001b[39;00m \u001b[38;5;28mlist\u001b[39m(\u001b[38;5;28mmap\u001b[39m(\u001b[38;5;28mint\u001b[39m, re\u001b[38;5;241m.\u001b[39mfindall(\u001b[38;5;124mr\u001b[39m\u001b[38;5;124m'\u001b[39m\u001b[38;5;124m\\\u001b[39m\u001b[38;5;124md+\u001b[39m\u001b[38;5;124m'\u001b[39m, s)))\n",
      "\u001b[1;31mValueError\u001b[0m: Merged geometry is: MultiLineString"
     ]
    }
   ],
   "source": [
    "import re\n",
    "from tqdm import tqdm\n",
    "\n",
    "\n",
    "def get_merge_nodes(edges):\n",
    "    end_points_connectivity = pd.concat([edges['end1'], edges['end2']]).value_counts()\n",
    "    merge_points = end_points_connectivity[end_points_connectivity == 2].index.sort_values().to_list()\n",
    "    return merge_points\n",
    "\n",
    "\n",
    "def get_edges_from_endpoints(edges, endpoints: list):\n",
    "    merged_df_end1 = pd.merge(pd.DataFrame({'endpoint': endpoints}), edges[['id', 'end1']].rename(columns={'id': 'edge_id', 'end1': 'endpoint'}), on='endpoint', how='left').dropna().astype(int)\n",
    "    merged_df_end2 = pd.merge(pd.DataFrame({'endpoint': endpoints}), edges[['id', 'end2']].rename(columns={'id': 'edge_id', 'end2': 'endpoint'}), on='endpoint', how='left').dropna().astype(int)\n",
    "    merged_df = pd.concat([merged_df_end1, merged_df_end2])\n",
    "    return merged_df.groupby(\"endpoint\")['edge_id'].apply(list).to_dict()\n",
    "\n",
    "\n",
    "def check_degree2(node_id_to_edges_ids: dict):\n",
    "    return (pd.Series(node_id_to_edges_ids).apply(len) == 2).all()\n",
    "    \n",
    "\n",
    "def merge_edges_attributes(gdf):\n",
    "    new_data = {}\n",
    "    new_data['geometry'] = linemerge(unary_union(gdf.geometry))\n",
    "    if new_data['geometry'].geom_type != \"LineString\":\n",
    "        print(gdf.geometry)\n",
    "        print(new_data['geometry'])\n",
    "        raise ValueError(f\"Merged geometry is: {new_data['geometry'].geom_type}\")\n",
    "\n",
    "    def string_to_list(s):\n",
    "        return list(map(int, re.findall(r'\\d+', s)))\n",
    "    def merge_or_unique(column):\n",
    "        unique_vals = gdf[column].dropna().unique()\n",
    "        return unique_vals[0] if len(unique_vals) == 1 else ', '.join(unique_vals)\n",
    "        \n",
    "    # Aggregate columns based on given rules\n",
    "    if 'km' in gdf.columns:\n",
    "        new_data['km'] = gdf['km'].sum()\n",
    "    if 'osmids' in gdf.columns:\n",
    "        new_data['osmids'] = str(string_to_list(', '.join(map(str, gdf['osmids'].fillna('')))))\n",
    "    if 'name' in gdf.columns:\n",
    "        new_data['name'] = ', '.join(filter(None, gdf['name'].astype(str)))  # Ignore None values\n",
    "    if 'capacity' in gdf.columns:\n",
    "        new_data['capacity'] = gdf['capacity'].min()\n",
    "    for col in ['end1', 'end2']:\n",
    "        if col in gdf.columns:\n",
    "            new_data[col] = None\n",
    "    for col in ['special', 'class', 'surface', 'disruption']:\n",
    "        if col in gdf.columns:\n",
    "            new_data[col] = merge_or_unique(col)\n",
    "\n",
    "    # Create a new row with the merged data\n",
    "    return new_data\n",
    "\n",
    "def update_gdf(gdf, new_data, old_ids, new_id):\n",
    "    for col, value in new_data.items():\n",
    "        gdf.at[new_id, col] = value\n",
    "    gdf.loc[list(set(old_ids) - {new_id}), 'to_keep'] = False\n",
    "\n",
    "\n",
    "def update_dict(my_dict, old_value, new_value):\n",
    "    for key, value_list in my_dict.items():\n",
    "        if old_value in value_list:\n",
    "            my_dict[key] = [new_value if v == old_value else v for v in value_list]\n",
    "    return my_dict\n",
    "\n",
    "\n",
    "def remove_degree_2_nodes(edges):\n",
    "    merge_nodes = get_merge_nodes(edges)\n",
    "    print(f\"Nb degree 2 nodes: {len(merge_nodes)}\")\n",
    "    merge_nodes_with_edges_ids = get_edges_from_endpoints(edges, merge_nodes)\n",
    "    print(f\"Check that they are actually 2 edges associated: {check_degree2(merge_nodes_with_edges_ids)}\")\n",
    "    \n",
    "    edges['to_keep'] = True\n",
    "    edges = edges.set_index('id')\n",
    "    for merged_node in tqdm(list(merge_nodes_with_edges_ids.keys())):\n",
    "        edge_ids = merge_nodes_with_edges_ids.pop(merged_node)\n",
    "        print(edge_ids)\n",
    "        merged_attributes = merge_edges_attributes(edges.loc[edge_ids])\n",
    "        old_id = max(edge_ids)\n",
    "        new_id = min(edge_ids)\n",
    "        update_gdf(edges, merged_attributes, edge_ids, new_id)\n",
    "        merge_nodes_with_edges_ids = update_dict(merge_nodes_with_edges_ids, old_id, new_id)\n",
    "    \n",
    "    print(f\"Check that all resulting geometries are LineString: {edges['geometry'].apply(lambda geom: geom.geom_type == 'LineString').all()}\")\n",
    "    \n",
    "    edges = edges[edges['to_keep']]\n",
    "    edges = edges.drop(columns=['to_keep'])\n",
    "    edges = edges.reset_index()\n",
    "    return edges\n",
    "\n",
    "s = remove_degree_2_nodes(edges)"
   ]
  },
  {
   "cell_type": "code",
   "execution_count": null,
   "metadata": {},
   "outputs": [],
   "source": [
    "import geopandas as gpd\n",
    "from shapely.ops import split\n",
    "from shapely.geometry import LineString, MultiPoint\n",
    "\n",
    "def split_lines_at_intersections(gdf):\n",
    "    intersection_points = []\n",
    "\n",
    "    # Step 1: Find all intersection points\n",
    "    for i, line1 in gdf.geometry.items():\n",
    "        for j, line2 in gdf.geometry.items():\n",
    "            if i < j:  # Avoid duplicate checks\n",
    "                intersection = line1.intersection(line2)\n",
    "                if intersection.is_empty:\n",
    "                    continue\n",
    "                if \"Point\" in intersection.geom_type:  # Single intersection point\n",
    "                    intersection_points.append(intersection)\n",
    "                elif \"MultiPoint\" in intersection.geom_type:  # Multiple intersection points\n",
    "                    intersection_points.extend(list(intersection.geoms))\n",
    "                elif \"LineString\" in intersection.geom_type:  # Multiple intersection points\n",
    "                    intersection_points.extend(list(intersection.geoms))\n",
    "\n",
    "    intersection_points = MultiPoint(intersection_points)  # Convert list to MultiPoint\n",
    "\n",
    "    # Step 2: Split each LineString at the intersection points\n",
    "    new_geometries = []\n",
    "    for line in gdf.geometry:\n",
    "        split_result = split(line, intersection_points)\n",
    "        new_geometries.extend(split_result.geoms)  # Store split segments\n",
    "\n",
    "    # Step 3: Create a new GeoDataFrame with split lines\n",
    "    new_gdf = gpd.GeoDataFrame(geometry=new_geometries, crs=gdf.crs)\n",
    "    \n",
    "    return new_gdf\n",
    "\n",
    "# Example usage\n",
    "gdf = gpd.read_file(\"your_lines.geojson\")  # Load your line data\n",
    "split_gdf = split_lines_at_intersections(gdf)\n",
    "\n",
    "# Save or visualize the result\n",
    "split_gdf.to_file(\"split_lines.geojson\", driver=\"GeoJSON\")\n",
    "print(split_gdf)\n"
   ]
  },
  {
   "cell_type": "code",
   "execution_count": 276,
   "metadata": {
    "scrolled": true
   },
   "outputs": [
    {
     "name": "stdout",
     "output_type": "stream",
     "text": [
      "True\n"
     ]
    },
    {
     "data": {
      "text/plain": [
       "'GEOMETRYCOLLECTION (LINESTRING (3 3, 4 4), LINESTRING (6 6, 7 7), POINT (0.6666666666666666 0.6666666666666666))'"
      ]
     },
     "execution_count": 276,
     "metadata": {},
     "output_type": "execute_result"
    }
   ],
   "source": [
    "line1 = LineString([(0, 0), (2, 2), (3, 3), (4, 4), (5, 6), (6, 6), (7, 7)])  # Diagonal line\n",
    "line2 = LineString([(0, 1), (2, 0), (3, 3), (4, 4), (5, 5), (6, 6), (7, 7)])  # Another diagonal line crossing the first\n",
    "\n",
    "# Check intersection\n",
    "print(line1.overlaps(line2))\n",
    "intersection = line1.intersection(line2)\n",
    "intersection.wkt"
   ]
  },
  {
   "cell_type": "code",
   "execution_count": 267,
   "metadata": {},
   "outputs": [
    {
     "name": "stdout",
     "output_type": "stream",
     "text": [
      "True\n"
     ]
    },
    {
     "data": {
      "text/plain": [
       "'LINESTRING (6 6, 7 7)'"
      ]
     },
     "execution_count": 267,
     "metadata": {},
     "output_type": "execute_result"
    }
   ],
   "source": [
    "line1 = LineString([(5, 6), (6, 6), (7, 7)])  # Diagonal line\n",
    "line2 = LineString([(5, 5), (6, 6), (7, 7)])  # Another diagonal line crossing the first\n",
    "\n",
    "# Check intersection\n",
    "print(line1.overlaps(line2))\n",
    "intersection = line1.intersection(line2)\n",
    "intersection.wkt"
   ]
  },
  {
   "cell_type": "code",
   "execution_count": 251,
   "metadata": {},
   "outputs": [
    {
     "name": "stdout",
     "output_type": "stream",
     "text": [
      "MULTILINESTRING ((0 0, 2 2, 3 3), (4 4, 5 6, 6 7, 7 7))\n",
      "[<LINESTRING (0 0, 2 2, 3 3)>, <LINESTRING (4 4, 5 6, 6 7, 7 7)>]\n",
      "LINESTRING (0 2, 2 0, 3 3, 4 4, 5 5, 6 6, 7 7)\n"
     ]
    }
   ],
   "source": [
    "new_geom = line1.difference(intersection)\n",
    "print(new_geom.wkt)\n",
    "linestring_list = [geom for geom in new_geom.geoms]\n",
    "print(linestring_list)\n",
    "print(line2.wkt)"
   ]
  },
  {
   "cell_type": "code",
   "execution_count": 263,
   "metadata": {},
   "outputs": [
    {
     "ename": "ValueError",
     "evalue": "Input geometry segment overlaps with the splitter.",
     "output_type": "error",
     "traceback": [
      "\u001b[1;31m---------------------------------------------------------------------------\u001b[0m",
      "\u001b[1;31mValueError\u001b[0m                                Traceback (most recent call last)",
      "Cell \u001b[1;32mIn[263], line 1\u001b[0m\n\u001b[1;32m----> 1\u001b[0m \u001b[43msplit\u001b[49m\u001b[43m(\u001b[49m\u001b[43mline1\u001b[49m\u001b[43m,\u001b[49m\u001b[43m \u001b[49m\u001b[43mLineString\u001b[49m\u001b[43m(\u001b[49m\u001b[43m[\u001b[49m\u001b[43m(\u001b[49m\u001b[38;5;241;43m3\u001b[39;49m\u001b[43m,\u001b[49m\u001b[43m \u001b[49m\u001b[38;5;241;43m3\u001b[39;49m\u001b[43m)\u001b[49m\u001b[43m,\u001b[49m\u001b[43m \u001b[49m\u001b[43m(\u001b[49m\u001b[38;5;241;43m4\u001b[39;49m\u001b[43m,\u001b[49m\u001b[43m \u001b[49m\u001b[38;5;241;43m4\u001b[39;49m\u001b[43m)\u001b[49m\u001b[43m]\u001b[49m\u001b[43m)\u001b[49m\u001b[43m)\u001b[49m\n",
      "File \u001b[1;32m~\\miniforge3\\Lib\\site-packages\\shapely\\ops.py:544\u001b[0m, in \u001b[0;36mSplitOp.split\u001b[1;34m(geom, splitter)\u001b[0m\n\u001b[0;32m    539\u001b[0m \u001b[38;5;28;01melse\u001b[39;00m:\n\u001b[0;32m    540\u001b[0m     \u001b[38;5;28;01mraise\u001b[39;00m GeometryTypeError(\n\u001b[0;32m    541\u001b[0m         \u001b[38;5;124mf\u001b[39m\u001b[38;5;124m\"\u001b[39m\u001b[38;5;124mSplitting \u001b[39m\u001b[38;5;132;01m{\u001b[39;00mgeom\u001b[38;5;241m.\u001b[39mgeom_type\u001b[38;5;132;01m}\u001b[39;00m\u001b[38;5;124m geometry is not supported\u001b[39m\u001b[38;5;124m\"\u001b[39m\n\u001b[0;32m    542\u001b[0m     )\n\u001b[1;32m--> 544\u001b[0m \u001b[38;5;28;01mreturn\u001b[39;00m GeometryCollection(\u001b[43msplit_func\u001b[49m\u001b[43m(\u001b[49m\u001b[43mgeom\u001b[49m\u001b[43m,\u001b[49m\u001b[43m \u001b[49m\u001b[43msplitter\u001b[49m\u001b[43m)\u001b[49m)\n",
      "File \u001b[1;32m~\\miniforge3\\Lib\\site-packages\\shapely\\ops.py:409\u001b[0m, in \u001b[0;36mSplitOp._split_line_with_line\u001b[1;34m(line, splitter)\u001b[0m\n\u001b[0;32m    406\u001b[0m relation \u001b[38;5;241m=\u001b[39m splitter\u001b[38;5;241m.\u001b[39mrelate(line)\n\u001b[0;32m    407\u001b[0m \u001b[38;5;28;01mif\u001b[39;00m relation[\u001b[38;5;241m0\u001b[39m] \u001b[38;5;241m==\u001b[39m \u001b[38;5;124m\"\u001b[39m\u001b[38;5;124m1\u001b[39m\u001b[38;5;124m\"\u001b[39m:\n\u001b[0;32m    408\u001b[0m     \u001b[38;5;66;03m# The lines overlap at some segment (linear intersection of interiors)\u001b[39;00m\n\u001b[1;32m--> 409\u001b[0m     \u001b[38;5;28;01mraise\u001b[39;00m \u001b[38;5;167;01mValueError\u001b[39;00m(\u001b[38;5;124m\"\u001b[39m\u001b[38;5;124mInput geometry segment overlaps with the splitter.\u001b[39m\u001b[38;5;124m\"\u001b[39m)\n\u001b[0;32m    410\u001b[0m \u001b[38;5;28;01melif\u001b[39;00m relation[\u001b[38;5;241m0\u001b[39m] \u001b[38;5;241m==\u001b[39m \u001b[38;5;124m\"\u001b[39m\u001b[38;5;124m0\u001b[39m\u001b[38;5;124m\"\u001b[39m \u001b[38;5;129;01mor\u001b[39;00m relation[\u001b[38;5;241m3\u001b[39m] \u001b[38;5;241m==\u001b[39m \u001b[38;5;124m\"\u001b[39m\u001b[38;5;124m0\u001b[39m\u001b[38;5;124m\"\u001b[39m:\n\u001b[0;32m    411\u001b[0m     \u001b[38;5;66;03m# The splitter crosses or touches the line's interior --> return multilinestring from the split\u001b[39;00m\n\u001b[0;32m    412\u001b[0m     \u001b[38;5;28;01mreturn\u001b[39;00m line\u001b[38;5;241m.\u001b[39mdifference(splitter)\n",
      "\u001b[1;31mValueError\u001b[0m: Input geometry segment overlaps with the splitter."
     ]
    }
   ],
   "source": [
    "split(line1, LineString([(3, 3), (4, 4)]))"
   ]
  },
  {
   "cell_type": "code",
   "execution_count": 272,
   "metadata": {},
   "outputs": [
    {
     "data": {
      "text/html": [
       "<div>\n",
       "<style scoped>\n",
       "    .dataframe tbody tr th:only-of-type {\n",
       "        vertical-align: middle;\n",
       "    }\n",
       "\n",
       "    .dataframe tbody tr th {\n",
       "        vertical-align: top;\n",
       "    }\n",
       "\n",
       "    .dataframe thead th {\n",
       "        text-align: right;\n",
       "    }\n",
       "</style>\n",
       "<table border=\"1\" class=\"dataframe\">\n",
       "  <thead>\n",
       "    <tr style=\"text-align: right;\">\n",
       "      <th></th>\n",
       "      <th>geometry</th>\n",
       "    </tr>\n",
       "  </thead>\n",
       "  <tbody>\n",
       "    <tr>\n",
       "      <th>0</th>\n",
       "      <td>LINESTRING (5 6, 6 6, 7 7)</td>\n",
       "    </tr>\n",
       "    <tr>\n",
       "      <th>1</th>\n",
       "      <td>None</td>\n",
       "    </tr>\n",
       "  </tbody>\n",
       "</table>\n",
       "</div>"
      ],
      "text/plain": [
       "                     geometry\n",
       "0  LINESTRING (5 6, 6 6, 7 7)\n",
       "1                        None"
      ]
     },
     "execution_count": 272,
     "metadata": {},
     "output_type": "execute_result"
    }
   ],
   "source": [
    "t = gpd.GeoDataFrame({\"geometry\":[line1, line2]})\n",
    "t.loc[1, \"geometry\"] = None\n",
    "t"
   ]
  },
  {
   "cell_type": "code",
   "execution_count": 300,
   "metadata": {},
   "outputs": [
    {
     "name": "stdout",
     "output_type": "stream",
     "text": [
      "MULTILINESTRING ((0 0, 0.6666666666666666 0.6666666666666666), (0.6666666666666666 0.6666666666666666, 2 2, 3 3), (4 4, 5 6, 6 6))\n"
     ]
    },
    {
     "data": {
      "text/plain": [
       "([<LINESTRING (3 3, 4 4)>, <LINESTRING (6 6, 7 7)>],\n",
       " [<LINESTRING (0 0, 0.7 0.7)>,\n",
       "  <LINESTRING (0.7 0.7, 2 2, 3 3)>,\n",
       "  <LINESTRING (4 4, 5 6, 6 6)>])"
      ]
     },
     "execution_count": 300,
     "metadata": {},
     "output_type": "execute_result"
    }
   ],
   "source": [
    "treat_overlapping_linestrings(line1, line2)"
   ]
  },
  {
   "cell_type": "code",
   "execution_count": 298,
   "metadata": {},
   "outputs": [
    {
     "name": "stdout",
     "output_type": "stream",
     "text": [
      "LINESTRING (0 0, 2 2, 3 3, 4 4, 5 6, 6 6, 7 7) LINESTRING (0 1, 2 0, 3 3, 4 4, 5 5, 6 6, 7 7)\n"
     ]
    }
   ],
   "source": [
    "print(line1.wkt, line2.wkt)"
   ]
  },
  {
   "cell_type": "code",
   "execution_count": 297,
   "metadata": {},
   "outputs": [
    {
     "data": {
      "text/plain": [
       "'MULTILINESTRING ((0 0, 0.6666666666666666 0.6666666666666666), (0.6666666666666666 0.6666666666666666, 2 2, 3 3), (4 4, 5 6, 6 6))'"
      ]
     },
     "execution_count": 297,
     "metadata": {},
     "output_type": "execute_result"
    }
   ],
   "source": [
    "line1.difference(line2).wkt"
   ]
  },
  {
   "cell_type": "code",
   "execution_count": 291,
   "metadata": {},
   "outputs": [
    {
     "data": {
      "text/plain": [
       "array([<MULTILINESTRING ((0 0, 2 2, 3 3), (4 4, 5 6, 6 6, 7 7))>,\n",
       "       <LINESTRING (0 0, 2 2, 3 3, 4 4, 5 6, 6 6)>], dtype=object)"
      ]
     },
     "execution_count": 291,
     "metadata": {},
     "output_type": "execute_result"
    }
   ],
   "source": [
    "overlapping_parts = geometry_to_list_of_single_geom(line1.intersection(line2), \"LineString\")\n",
    "line1.difference(overlapping_parts)"
   ]
  },
  {
   "cell_type": "code",
   "execution_count": 284,
   "metadata": {},
   "outputs": [],
   "source": [
    "def geometry_to_list_of_single_geom(geom, target_type: str):\n",
    "    if (geom.geom_type == \"Linestring\") and (target_type== \"LineString\"):\n",
    "        return [geom]\n",
    "    if (geom.geom_type == \"Point\") and (target_type == \"Point\"):\n",
    "        return [geom]\n",
    "    if (geom.geom_type == \"MultiLineString\") and (target_type == \"LineString\"):\n",
    "        return [single_geom for single_geom in geom.geoms]\n",
    "    if (geom.geom_type == \"MultiPoint\") and (target_type == \"Point\"):\n",
    "        return [single_geom for single_geom in geom.geoms]\n",
    "    if geom.geom_type == \"GeometryCollection\":\n",
    "        single_geoms = [single_geom for single_geom in geom.geoms]\n",
    "        return [single_geom for single_geom in geom.geoms if single_geom.geom_type == target_type]"
   ]
  },
  {
   "cell_type": "code",
   "execution_count": 310,
   "metadata": {},
   "outputs": [],
   "source": [
    "def treat_overlapping_linestrings(line0, line1):\n",
    "    if line0.within(line1):\n",
    "        return None, line1\n",
    "    elif line1.within(line0):\n",
    "        return line0, None\n",
    "    elif line0.overlaps(line1):\n",
    "        overlapping_parts = geometry_to_list_of_single_geom(line0.intersection(line1), \"LineString\")\n",
    "        new_line0 = overlapping_parts\n",
    "        remaining_geom = line0.difference(line1)\n",
    "        if remaining_geom.geom_type == \"LineString\":\n",
    "            new_line1 = [remaining_geom]\n",
    "        elif remaining_geom.geom_type == \"MultiLineString\":\n",
    "            new_line1 = [geom for geom in remaining_geom.geoms]\n",
    "        return new_line0, new_line1\n",
    "    else:\n",
    "        return False"
   ]
  },
  {
   "cell_type": "code",
   "execution_count": 314,
   "metadata": {},
   "outputs": [
    {
     "name": "stderr",
     "output_type": "stream",
     "text": [
      "Processing overlapping edges: 100%|█████████████████████████████████████████████████████| 2/2 [00:00<00:00, 997.10it/s]"
     ]
    },
    {
     "name": "stdout",
     "output_type": "stream",
     "text": [
      "Removing 2 edges due to the removal of overlapping parts\n",
      "Adding 5 edges\n"
     ]
    },
    {
     "name": "stderr",
     "output_type": "stream",
     "text": [
      "\n"
     ]
    },
    {
     "data": {
      "text/html": [
       "<div>\n",
       "<style scoped>\n",
       "    .dataframe tbody tr th:only-of-type {\n",
       "        vertical-align: middle;\n",
       "    }\n",
       "\n",
       "    .dataframe tbody tr th {\n",
       "        vertical-align: top;\n",
       "    }\n",
       "\n",
       "    .dataframe thead th {\n",
       "        text-align: right;\n",
       "    }\n",
       "</style>\n",
       "<table border=\"1\" class=\"dataframe\">\n",
       "  <thead>\n",
       "    <tr style=\"text-align: right;\">\n",
       "      <th></th>\n",
       "      <th>geometry</th>\n",
       "      <th>id</th>\n",
       "    </tr>\n",
       "    <tr>\n",
       "      <th>id</th>\n",
       "      <th></th>\n",
       "      <th></th>\n",
       "    </tr>\n",
       "  </thead>\n",
       "  <tbody>\n",
       "    <tr>\n",
       "      <th>0</th>\n",
       "      <td>LINESTRING (3 3, 4 4)</td>\n",
       "      <td>0</td>\n",
       "    </tr>\n",
       "    <tr>\n",
       "      <th>1</th>\n",
       "      <td>LINESTRING (6 6, 7 7)</td>\n",
       "      <td>1</td>\n",
       "    </tr>\n",
       "    <tr>\n",
       "      <th>2</th>\n",
       "      <td>LINESTRING (0 0, 0.66667 0.66667)</td>\n",
       "      <td>2</td>\n",
       "    </tr>\n",
       "    <tr>\n",
       "      <th>3</th>\n",
       "      <td>LINESTRING (0.66667 0.66667, 2 2, 3 3)</td>\n",
       "      <td>3</td>\n",
       "    </tr>\n",
       "    <tr>\n",
       "      <th>4</th>\n",
       "      <td>LINESTRING (4 4, 5 6, 6 6)</td>\n",
       "      <td>4</td>\n",
       "    </tr>\n",
       "  </tbody>\n",
       "</table>\n",
       "</div>"
      ],
      "text/plain": [
       "                                  geometry  id\n",
       "id                                            \n",
       "0                    LINESTRING (3 3, 4 4)   0\n",
       "1                    LINESTRING (6 6, 7 7)   1\n",
       "2        LINESTRING (0 0, 0.66667 0.66667)   2\n",
       "3   LINESTRING (0.66667 0.66667, 2 2, 3 3)   3\n",
       "4               LINESTRING (4 4, 5 6, 6 6)   4"
      ]
     },
     "execution_count": 314,
     "metadata": {},
     "output_type": "execute_result"
    }
   ],
   "source": [
    "from shapely.geometry import LineString, MultiPoint\n",
    "\n",
    "def treat_overlapping_edges(edges):\n",
    "    # Build a spatial index\n",
    "    spatial_index = edges.sindex\n",
    "    \n",
    "    # Identify LineStrings whose coordinates are fully within another LineString\n",
    "    cond_fully_within = pd.Series(False, index=edges.index)\n",
    "    new_geometries = {}  #index: new geom\n",
    "    for i, row1 in tqdm(edges.iterrows(), total=len(edges), desc=\"Processing overlapping edges\"):\n",
    "        if i in new_geometries.keys():\n",
    "            continue\n",
    "        # Use the spatial index to find potential candidates\n",
    "        possible_matches_index = list(spatial_index.intersection(row1.geometry.bounds))\n",
    "        possible_matches = edges.iloc[possible_matches_index]\n",
    "        \n",
    "        # Compare only with potential candidates\n",
    "        for j, row2 in possible_matches.iterrows():\n",
    "            if i != j:\n",
    "                if j in new_geometries.keys():\n",
    "                    continue\n",
    "                new_geoms = treat_overlapping_linestrings(row1.geometry, row2.geometry)\n",
    "                if new_geoms:\n",
    "                    new_geometries[i], new_geometries[j] = new_geoms\n",
    "\n",
    "    new_edges_list = []\n",
    "    for i, new_geom in new_geometries.items():\n",
    "        new_edges = gpd.GeoDataFrame(geometry=new_geometries[i], crs=edges.crs)\n",
    "        row_data = edges.loc[[i]].drop(columns=[\"geometry\"])  # Keep original structure\n",
    "        row_data_repeated = row_data.loc[row_data.index.repeat(len(new_geometries[i]))]  # Repeat for each part\n",
    "        new_edges = pd.concat([new_edges, row_data_repeated.reset_index(drop=True)], axis=1)\n",
    "        new_edges_list += [new_edges]\n",
    "    all_new_edges = pd.concat(new_edges_list)\n",
    "    all_new_edges = all_new_edges[~all_new_edges['geometry'].isnull()]\n",
    "\n",
    "    print(f'Removing {len(new_geometries.keys())} edges due to the removal of overlapping parts')\n",
    "    edges = edges.drop(index=list(new_geometries.keys()))\n",
    "    print(f'Adding {all_new_edges.shape[0]} edges')\n",
    "    edges = pd.concat([edges, all_new_edges], ignore_index=True)\n",
    "\n",
    "    edges['id'] = list(range(edges.shape[0]))\n",
    "    edges.index = edges['id']\n",
    "    \n",
    "    return edges\n",
    "\n",
    "treat_overlapping_edges(gpd.GeoDataFrame({\"geometry\":[line1, line2]}))"
   ]
  },
  {
   "cell_type": "code",
   "execution_count": 208,
   "metadata": {},
   "outputs": [],
   "source": [
    "def treat_overlapping_edges(edges):\n",
    "    # Build a spatial index\n",
    "    spatial_index = edges.sindex\n",
    "    \n",
    "    # Identify LineStrings whose coordinates are fully within another LineString\n",
    "    cond_fully_within = pd.Series(False, index=edges.index)\n",
    "    new_geometries = {}  #index: new geom\n",
    "    for i, row1 in tqdm(edges.iterrows(), total=len(edges), desc=\"Processing overlapping edges\"):\n",
    "        # Use the spatial index to find potential candidates\n",
    "        possible_matches_index = list(spatial_index.intersection(row1.geometry.bounds))\n",
    "        possible_matches = edges.iloc[possible_matches_index]\n",
    "        \n",
    "        # Compare only with potential candidates\n",
    "        for j, row2 in possible_matches.iterrows():\n",
    "            if i != j:\n",
    "                if row1.geometry.within(row2.geometry):  # Check if row1 is fully within row2\n",
    "                    cond_fully_within[i] = True\n",
    "                elif row1.geometry.overlaps(row2.geometry):\n",
    "                    overlapping_part = row1.geometry.intersection(row2.geometry)\n",
    "                    if not overlapping_part.is_empty:  # Ensure there's an actual overlap\n",
    "                        new_geometries[i] = row1.geometry.difference(overlapping_part)  # Remove overlap from row1\n",
    "                        \n",
    "    print(f'There are {cond_fully_within.sum()} edges fully contained by another, and {cond_partially_within.sum()} partially')\n",
    "    print('Updating the partially overlapping geometries')\n",
    "    new_edges_list = []  # Store new rows to append later\n",
    "    for i, new_geom in new_geometries.items():\n",
    "        if new_geom.geom_type == \"LineString\":  # ✅ Correct isinstance usage\n",
    "            edges.loc[i, \"geometry\"] = new_geom\n",
    "        elif new_geom.geom_type == \"MultiLineString\":\n",
    "            linestring_list = [geom for geom in new_geom.geoms]\n",
    "            edges.loc[i, \"geometry\"] = linestring_list[0]  # Keep first part\n",
    "            new_edges = gpd.GeoDataFrame(geometry=list(linestring_list[1:]), crs=edges.crs)  # Create a new GeoDataFrame for remaining parts\n",
    "            row_data = edges.loc[[i]].drop(columns=[\"geometry\"])  # Keep original structure\n",
    "            row_data_repeated = row_data.loc[row_data.index.repeat(len(linestring_list[1:]))]  # Repeat for each part\n",
    "            new_edges = pd.concat([new_edges, row_data_repeated.reset_index(drop=True)], axis=1)\n",
    "            new_edges_list.append(new_edges)\n",
    "        else:\n",
    "            raise ValueError(f\"Unexpected geometry type: {new_geom.geom_type}\")\n",
    "            \n",
    "    print('Removing the fully overlapping edges')\n",
    "    edges = edges[~cond_fully_within]\n",
    "    if new_edges_list:\n",
    "        new_edges_df = pd.concat(new_edges_list, ignore_index=True)\n",
    "        print(f'Adding {new_edges_df.shape[0]} edges due to the removal of overlapping parts')\n",
    "        edges = pd.concat([edges, new_edges_df], ignore_index=True)\n",
    "\n",
    "    edges['id'] = list(range(edges.shape[0]))\n",
    "    edges.index = edges['id']\n",
    "\n",
    "    return edges"
   ]
  },
  {
   "cell_type": "code",
   "execution_count": 172,
   "metadata": {},
   "outputs": [
    {
     "data": {
      "image/png": "[encoded data removed]",
      "text/plain": [
       "<Figure size 1000x600 with 1 Axes>"
      ]
     },
     "metadata": {},
     "output_type": "display_data"
    }
   ],
   "source": [
    "import matplotlib.pyplot as plt\n",
    "\n",
    "# Plot each LineString with a different color\n",
    "fig, ax = plt.subplots(figsize=(10, 6))\n",
    "gdf = gpd.GeoDataFrame({\"geometry\":linestrings}, crs=edges.crs).iloc[[4, 5]]\n",
    "# Use a colormap to assign unique colors\n",
    "for i, line in enumerate(gdf[\"geometry\"]):\n",
    "    gdf.iloc[[i]].plot(ax=ax, color=plt.cm.tab10(i), label=f\"Line {i + 1}\")\n",
    "\n",
    "gdf.iloc[[1]].plot(ax=ax, color='black', linewidth=3)\n",
    "# Add legend and labels\n",
    "ax.set_title(\"LineStrings with Different Colors\")\n",
    "plt.show()"
   ]
  },
  {
   "cell_type": "code",
   "execution_count": 229,
   "metadata": {},
   "outputs": [
    {
     "data": {
      "image/svg+xml": [
       "<svg xmlns=\"http://www.w3.org/2000/svg\" xmlns:xlink=\"http://www.w3.org/1999/xlink\" width=\"100.0\" height=\"100.0\" viewBox=\"46.444181606310295 38.88377352423154 0.09084483295519163 0.02065909981205749\" preserveAspectRatio=\"xMinYMin meet\"><g transform=\"matrix(1,0,0,-1,0,77.78820614827515)\"><polyline fill=\"none\" stroke=\"#66cc99\" stroke-width=\"0.0018168966591038326\" points=\"46.5316618158227,38.8963201426715 46.5305253360001,38.89858368886154 46.52887679999998,38.89843539999994 46.52687428836688,38.89943876274292 46.52494474950949,38.901068000600816 46.5197253999999,38.8998441 46.517193299999896,38.8991261 46.515705599999976,38.89831429999999 46.51392750572157,38.897921018984164 46.51243329999998,38.898364399999984 46.510921074656515,38.8982362532687 46.51141049999989,38.8968632 46.513474,38.895024399999976 46.51423219999989,38.89398240000001 46.51452319999998,38.8929568 46.51494403671107,38.89080786439377 46.51281599999988,38.8893144 46.50837429999988,38.887519 46.505391066565885,38.88713814767433 46.50328879999988,38.8877862 46.500370599999876,38.8901913 46.49899729999991,38.8911933 46.49704635044407,38.89194400069804 46.4956068999999,38.891995 46.49375440000003,38.89163409999985 46.4911860911759,38.89070078615641 46.48898660011175,38.89108300012184 46.487667599999895,38.891661 46.4836334999999,38.8944834 46.482557905059835,38.89494783931255 46.48116409999998,38.89532079999997 46.479830538890134,38.89564102057518 46.47800719999994,38.89597559999995 46.47472000113206,38.89531860609513 46.47416829999995,38.89309849999997 46.47251410620896,38.89180122811302 46.4700658999999,38.891044 46.46902,38.8909813 46.465695,38.8915274 46.46432169999991,38.8923958 46.46320589999991,38.8935315 46.460341299999904,38.8978151 46.458378499999924,38.898795200000116 46.45617966764101,38.89951347450105 46.45372375000035,38.89973790022023 46.45013175038911,38.89972805811846 46.44754622975308,38.900386266567786\" opacity=\"0.8\" /></g></svg>"
      ],
      "text/plain": [
       "<LINESTRING (46.532 38.896, 46.531 38.899, 46.529 38.898, 46.527 38.899, 46....>"
      ]
     },
     "execution_count": 229,
     "metadata": {},
     "output_type": "execute_result"
    }
   ],
   "source": [
    "edges.loc[153].geometry.difference(edges.loc[153].geometry.intersection(edges.loc[1406].geometry))"
   ]
  },
  {
   "cell_type": "code",
   "execution_count": 315,
   "metadata": {},
   "outputs": [
    {
     "name": "stdout",
     "output_type": "stream",
     "text": [
      "There are 15294 edges\n",
      "EPSG:4326\n",
      "Removing 37 self-loops\n",
      "Removing 61 duplicated edges\n",
      "Removing 171 edges that have the same endpoints\n"
     ]
    },
    {
     "name": "stderr",
     "output_type": "stream",
     "text": [
      "Processing overlapping edges: 100%|████████████████████████████████████████████| 15025/15025 [00:14<00:00, 1071.60it/s]\n"
     ]
    },
    {
     "ename": "ValueError",
     "evalue": "Assigning CRS to a GeoDataFrame without a geometry column is not supported. Supply geometry using the 'geometry=' keyword argument, or by providing a DataFrame with column name 'geometry'",
     "output_type": "error",
     "traceback": [
      "\u001b[1;31m---------------------------------------------------------------------------\u001b[0m",
      "\u001b[1;31mValueError\u001b[0m                                Traceback (most recent call last)",
      "Cell \u001b[1;32mIn[315], line 30\u001b[0m\n\u001b[0;32m     27\u001b[0m edges[\u001b[38;5;124m'\u001b[39m\u001b[38;5;124mid\u001b[39m\u001b[38;5;124m'\u001b[39m] \u001b[38;5;241m=\u001b[39m \u001b[38;5;28mlist\u001b[39m(\u001b[38;5;28mrange\u001b[39m(edges\u001b[38;5;241m.\u001b[39mshape[\u001b[38;5;241m0\u001b[39m]))\n\u001b[0;32m     28\u001b[0m edges\u001b[38;5;241m.\u001b[39mindex \u001b[38;5;241m=\u001b[39m edges[\u001b[38;5;124m'\u001b[39m\u001b[38;5;124mid\u001b[39m\u001b[38;5;124m'\u001b[39m]\n\u001b[1;32m---> 30\u001b[0m edges \u001b[38;5;241m=\u001b[39m \u001b[43mtreat_overlapping_edges\u001b[49m\u001b[43m(\u001b[49m\u001b[43medges\u001b[49m\u001b[43m)\u001b[49m\n\u001b[0;32m     31\u001b[0m \u001b[38;5;28mprint\u001b[39m(\u001b[38;5;124mf\u001b[39m\u001b[38;5;124m\"\u001b[39m\u001b[38;5;124mCheck that all resulting geometries are LineString: \u001b[39m\u001b[38;5;132;01m{\u001b[39;00medges[\u001b[38;5;124m'\u001b[39m\u001b[38;5;124mgeometry\u001b[39m\u001b[38;5;124m'\u001b[39m]\u001b[38;5;241m.\u001b[39mapply(\u001b[38;5;28;01mlambda\u001b[39;00m\u001b[38;5;250m \u001b[39mgeom:\u001b[38;5;250m \u001b[39mgeom\u001b[38;5;241m.\u001b[39mgeom_type\u001b[38;5;250m \u001b[39m\u001b[38;5;241m==\u001b[39m\u001b[38;5;250m \u001b[39m\u001b[38;5;124m'\u001b[39m\u001b[38;5;124mLineString\u001b[39m\u001b[38;5;124m'\u001b[39m)\u001b[38;5;241m.\u001b[39mall()\u001b[38;5;132;01m}\u001b[39;00m\u001b[38;5;124m\"\u001b[39m)\n\u001b[0;32m     33\u001b[0m \u001b[38;5;66;03m# add columns\u001b[39;00m\n",
      "Cell \u001b[1;32mIn[314], line 28\u001b[0m, in \u001b[0;36mtreat_overlapping_edges\u001b[1;34m(edges)\u001b[0m\n\u001b[0;32m     26\u001b[0m new_edges_list \u001b[38;5;241m=\u001b[39m []\n\u001b[0;32m     27\u001b[0m \u001b[38;5;28;01mfor\u001b[39;00m i, new_geom \u001b[38;5;129;01min\u001b[39;00m new_geometries\u001b[38;5;241m.\u001b[39mitems():\n\u001b[1;32m---> 28\u001b[0m     new_edges \u001b[38;5;241m=\u001b[39m \u001b[43mgpd\u001b[49m\u001b[38;5;241;43m.\u001b[39;49m\u001b[43mGeoDataFrame\u001b[49m\u001b[43m(\u001b[49m\u001b[43mgeometry\u001b[49m\u001b[38;5;241;43m=\u001b[39;49m\u001b[43mnew_geometries\u001b[49m\u001b[43m[\u001b[49m\u001b[43mi\u001b[49m\u001b[43m]\u001b[49m\u001b[43m,\u001b[49m\u001b[43m \u001b[49m\u001b[43mcrs\u001b[49m\u001b[38;5;241;43m=\u001b[39;49m\u001b[43medges\u001b[49m\u001b[38;5;241;43m.\u001b[39;49m\u001b[43mcrs\u001b[49m\u001b[43m)\u001b[49m\n\u001b[0;32m     29\u001b[0m     row_data \u001b[38;5;241m=\u001b[39m edges\u001b[38;5;241m.\u001b[39mloc[[i]]\u001b[38;5;241m.\u001b[39mdrop(columns\u001b[38;5;241m=\u001b[39m[\u001b[38;5;124m\"\u001b[39m\u001b[38;5;124mgeometry\u001b[39m\u001b[38;5;124m\"\u001b[39m])  \u001b[38;5;66;03m# Keep original structure\u001b[39;00m\n\u001b[0;32m     30\u001b[0m     row_data_repeated \u001b[38;5;241m=\u001b[39m row_data\u001b[38;5;241m.\u001b[39mloc[row_data\u001b[38;5;241m.\u001b[39mindex\u001b[38;5;241m.\u001b[39mrepeat(\u001b[38;5;28mlen\u001b[39m(new_geometries[i]))]  \u001b[38;5;66;03m# Repeat for each part\u001b[39;00m\n",
      "File \u001b[1;32m~\\miniforge3\\Lib\\site-packages\\geopandas\\geodataframe.py:212\u001b[0m, in \u001b[0;36mGeoDataFrame.__init__\u001b[1;34m(self, data, geometry, crs, *args, **kwargs)\u001b[0m\n\u001b[0;32m    209\u001b[0m     \u001b[38;5;28mself\u001b[39m\u001b[38;5;241m.\u001b[39mset_geometry(geometry, inplace\u001b[38;5;241m=\u001b[39m\u001b[38;5;28;01mTrue\u001b[39;00m, crs\u001b[38;5;241m=\u001b[39mcrs)\n\u001b[0;32m    211\u001b[0m \u001b[38;5;28;01mif\u001b[39;00m geometry \u001b[38;5;129;01mis\u001b[39;00m \u001b[38;5;28;01mNone\u001b[39;00m \u001b[38;5;129;01mand\u001b[39;00m crs:\n\u001b[1;32m--> 212\u001b[0m     \u001b[38;5;28;01mraise\u001b[39;00m \u001b[38;5;167;01mValueError\u001b[39;00m(\n\u001b[0;32m    213\u001b[0m         \u001b[38;5;124m\"\u001b[39m\u001b[38;5;124mAssigning CRS to a GeoDataFrame without a geometry column is not \u001b[39m\u001b[38;5;124m\"\u001b[39m\n\u001b[0;32m    214\u001b[0m         \u001b[38;5;124m\"\u001b[39m\u001b[38;5;124msupported. Supply geometry using the \u001b[39m\u001b[38;5;124m'\u001b[39m\u001b[38;5;124mgeometry=\u001b[39m\u001b[38;5;124m'\u001b[39m\u001b[38;5;124m keyword argument, \u001b[39m\u001b[38;5;124m\"\u001b[39m\n\u001b[0;32m    215\u001b[0m         \u001b[38;5;124m\"\u001b[39m\u001b[38;5;124mor by providing a DataFrame with column name \u001b[39m\u001b[38;5;124m'\u001b[39m\u001b[38;5;124mgeometry\u001b[39m\u001b[38;5;124m'\u001b[39m\u001b[38;5;124m\"\u001b[39m,\n\u001b[0;32m    216\u001b[0m     )\n",
      "\u001b[1;31mValueError\u001b[0m: Assigning CRS to a GeoDataFrame without a geometry column is not supported. Supply geometry using the 'geometry=' keyword argument, or by providing a DataFrame with column name 'geometry'"
     ]
    }
   ],
   "source": [
    "transport_mode = 'roads'\n",
    "special_suffix = \"_osmsimp\"  # _ximena leave empty \"\" otherwise\n",
    "subfolder = os.path.join(input_folder, transport_mode.capitalize())\n",
    "edges = loadAndFormatGeojson(transport_mode, \"edges\", subfolder, special_suffix)\n",
    "\n",
    "nodes, edges = create_nodes_and_update_edges(edges)\n",
    "\n",
    "# remove selfloop\n",
    "cond = edges['end1'] == edges['end2']\n",
    "if cond.sum() > 0:\n",
    "    print(f\"Removing {cond.sum()} self-loops\")\n",
    "    edges = edges[~cond]\n",
    "\n",
    "# remove duplicated edges\n",
    "cond = edges['geometry'].to_wkt().duplicated()\n",
    "if cond.sum() > 0:\n",
    "    print(f\"Removing {cond.sum()} duplicated edges\")\n",
    "    edges = edges[~cond]\n",
    "\n",
    "# if several edges have the same start and end points, keep only one\n",
    "edges['end_set'] = edges.apply(lambda row: frozenset([row['end1'], row['end2']]), axis=1)  # Create a set representation of each row's end1 and end2\n",
    "cond = edges['end_set'].duplicated()\n",
    "if cond.sum() > 0:\n",
    "    print(f\"Removing {cond.sum()} edges that have the same endpoints\")\n",
    "    edges = edges[~cond]\n",
    "edges = edges.drop(columns=['end_set'])  # Drop the temporary column\n",
    "edges['id'] = list(range(edges.shape[0]))\n",
    "edges.index = edges['id']\n",
    "    \n",
    "edges = treat_overlapping_edges(edges)\n",
    "print(f\"Check that all resulting geometries are LineString: {edges['geometry'].apply(lambda geom: geom.geom_type == 'LineString').all()}\")\n",
    "\n",
    "# add columns\n",
    "edges['surface'] = 'paved'\n",
    "if \"surface\" not in edges.columns:\n",
    "    edges['surface'] = 'paved'\n",
    "if \"class\" not in edges.columns:\n",
    "    edges['class'] = None\n",
    "if \"disruption\" not in edges.columns:\n",
    "    edges['disruption'] = None\n",
    "if \"name\" not in edges.columns:\n",
    "    edges['name'] = None\n",
    "if \"special\" not in edges.columns:\n",
    "    edges['special'] = None\n",
    "\n",
    "#nodes, edges = create_nodes_and_update_edges(edges)\n",
    "#edges = remove_degree_2_nodes(edges)\n",
    "#edges = addKm(edges, projected_crs)\n",
    "\n",
    "print(f\"There are {edges.shape[0]} edges\")\n",
    "print(edges.head())\n",
    "\n",
    "# Exports\n",
    "#export(nodes, edges, input_folder, output_folder, transport_mode, special_suffix)"
   ]
  },
  {
   "cell_type": "code",
   "execution_count": 212,
   "metadata": {},
   "outputs": [
    {
     "data": {
      "text/plain": [
       "<Axes: >"
      ]
     },
     "execution_count": 212,
     "metadata": {},
     "output_type": "execute_result"
    },
    {
     "data": {
      "image/png": "[encoded data removed]",
      "text/plain": [
       "<Figure size 640x480 with 1 Axes>"
      ]
     },
     "metadata": {},
     "output_type": "display_data"
    }
   ],
   "source": [
    "edges.loc[[153, 1406]].plot()"
   ]
  },
  {
   "cell_type": "code",
   "execution_count": null,
   "metadata": {},
   "outputs": [],
   "source": []
  },
  {
   "cell_type": "code",
   "execution_count": 223,
   "metadata": {},
   "outputs": [
    {
     "data": {
      "text/plain": [
       "'LINESTRING (46.5316618158227 38.8963201426715, 46.5305253360001 38.89858368886154, 46.52887679999998 38.89843539999994, 46.52687428836688 38.89943876274292, 46.52494474950949 38.901068000600816, 46.5197253999999 38.8998441, 46.517193299999896 38.8991261, 46.515705599999976 38.89831429999999, 46.51392750572157 38.897921018984164, 46.51243329999998 38.898364399999984, 46.510921074656515 38.8982362532687, 46.51141049999989 38.8968632, 46.513474 38.895024399999976, 46.51423219999989 38.89398240000001, 46.51452319999998 38.8929568, 46.51494403671107 38.89080786439377, 46.51281599999988 38.8893144, 46.50837429999988 38.887519, 46.505391066565885 38.88713814767433, 46.50328879999988 38.8877862, 46.500370599999876 38.8901913, 46.49899729999991 38.8911933, 46.49704635044407 38.89194400069804, 46.4956068999999 38.891995, 46.49375440000003 38.89163409999985, 46.4911860911759 38.89070078615641, 46.48898660011175 38.89108300012184, 46.487667599999895 38.891661, 46.4836334999999 38.8944834, 46.482557905059835 38.89494783931255, 46.48116409999998 38.89532079999997, 46.479830538890134 38.89564102057518, 46.47800719999994 38.89597559999995, 46.47472000113206 38.89531860609513, 46.47416829999995 38.89309849999997, 46.47251410620896 38.89180122811302, 46.4700658999999 38.891044, 46.46902 38.8909813, 46.465695 38.8915274, 46.46432169999991 38.8923958, 46.46320589999991 38.8935315, 46.460341299999904 38.8978151, 46.458378499999924 38.898795200000116, 46.45617966764101 38.89951347450105, 46.45372375000035 38.89973790022023, 46.45013175038911 38.89972805811846, 46.44754622975308 38.900386266567786)'"
      ]
     },
     "execution_count": 223,
     "metadata": {},
     "output_type": "execute_result"
    }
   ],
   "source": [
    "edges.loc[153, \"geometry\"].wkt"
   ]
  },
  {
   "cell_type": "code",
   "execution_count": 224,
   "metadata": {},
   "outputs": [
    {
     "data": {
      "text/plain": [
       "'LINESTRING (46.5316618158228 38.896320142671684, 46.530525336000224 38.898583688861756, 46.5288768 38.89843540000017, 46.52687428836697 38.89943876274303, 46.52494474950961 38.901068000600766, 46.51972540000001 38.89984409999991, 46.51719330000001 38.89912609999992, 46.51570559999992 38.89831429999996, 46.513927505721604 38.897921018984086, 46.51243329999992 38.898364399999956, 46.51092107465656 38.89823625326863, 46.5114105 38.89686319999993, 46.513474 38.89502439999995, 46.5142322 38.893982399999935, 46.514523199999914 38.89295679999996, 46.51494403671113 38.890807864393686, 46.512816 38.88931439999992, 46.5083743 38.887519, 46.50539106656582 38.88713814767433, 46.5032888 38.88778619999992, 46.50037059999999 38.89019129999993, 46.49899730000001 38.89119329999992, 46.4970463504441 38.89194400069797, 46.49560690000001 38.891995, 46.49375439999994 38.891634099999976, 46.491186091175855 38.89070078615636)'"
      ]
     },
     "execution_count": 224,
     "metadata": {},
     "output_type": "execute_result"
    }
   ],
   "source": [
    "edges.loc[1406, \"geometry\"].wkt"
   ]
  },
  {
   "cell_type": "markdown",
   "metadata": {},
   "source": [
    "# Maritime"
   ]
  },
  {
   "cell_type": "code",
   "execution_count": 43,
   "metadata": {
    "scrolled": true
   },
   "outputs": [
    {
     "name": "stdout",
     "output_type": "stream",
     "text": [
      "There are 112 edges\n",
      "EPSG:4326\n",
      "                    geometry  id\n",
      "0        POINT (51 13.00001)   0\n",
      "1          POINT (19.8 38.6)   1\n",
      "2  POINT (33.75001 27.89998)   2\n",
      "3          POINT (32.6 29.7)   3\n",
      "4      POINT (41.2 16.29999)   4\n",
      "      from_infra  to_infra    distance    length  id            km capacity  \\\n",
      "index                                                                         \n",
      "0           None      None         NaN       NaN   0   7223.033494     None   \n",
      "1           None      None         NaN       NaN   1   6337.468767     None   \n",
      "2           None      None         NaN       NaN   2  24857.328586     None   \n",
      "3           None      None         NaN       NaN   3   6546.422559     None   \n",
      "4       maritime  maritime  532.647058  5.009238   4    585.160733     None   \n",
      "\n",
      "       end1  end2 special  name  \\\n",
      "index                             \n",
      "0        42    77    None  None   \n",
      "1        77    62    None  None   \n",
      "2        61    77    None  None   \n",
      "3        61    82    None  None   \n",
      "4        71     4    None  None   \n",
      "\n",
      "                                                geometry  \n",
      "index                                                     \n",
      "0      LINESTRING (-9.99999 -2e-5, -57.72181 11.89893...  \n",
      "1      LINESTRING (-78.12841 8.63057, -74.56912 13.86...  \n",
      "2       LINESTRING (179.99983 7.9243, -78.12841 8.63057)  \n",
      "3      LINESTRING (179.99983 7.9243, 114.41737 21.84882)  \n",
      "4          LINESTRING (38.90001 20.74999, 41.2 16.29999)  \n",
      "..\\input\\ECA\\Transport\\maritime_nodes_mc.geojson exported\n",
      "..\\..\\..\\ECA\\Data\\Structured\\Transport\\Maritime\\treated_maritime_nodes_mc.geojson exported\n",
      "..\\input\\ECA\\Transport\\maritime_edges_mc.geojson exported\n",
      "..\\..\\..\\ECA\\Data\\Structured\\Transport\\Maritime\\treated_maritime_edges_mc.geojson exported\n"
     ]
    },
    {
     "name": "stderr",
     "output_type": "stream",
     "text": [
      "C:\\Users\\Celian\\miniforge3\\Lib\\site-packages\\pyproj\\crs\\crs.py:143: FutureWarning: '+init=<authority>:<code>' syntax is deprecated. '<authority>:<code>' is the preferred initialization method. When making the change, be mindful of axis order changes: https://pyproj4.github.io/pyproj/stable/gotchas.html#axis-order-changes-in-proj-6\n",
      "  in_crs_string = _prepare_from_proj_string(in_crs_string)\n"
     ]
    }
   ],
   "source": [
    "transport_mode = 'maritime'\n",
    "special_suffix = \"_mc\"  # _ximena leave empty \"\" otherwise\n",
    "subfolder = os.path.join(input_folder, transport_mode.capitalize())\n",
    "edges = loadAndFormatGeojson(transport_mode, \"edges\", subfolder, special_suffix)\n",
    "\n",
    "# create nodes from endpoints\n",
    "endpoints = gpd.GeoDataFrame({\"end1\": edges.geometry.apply(lambda line: Point(line.coords[0])), \"end2\": edges.geometry.apply(lambda line: Point(line.coords[-1]))})\n",
    "unique_endpoints = list(set(endpoints['end1'].to_list()) | set(endpoints['end2'].to_list()))\n",
    "nodes = gpd.GeoDataFrame(geometry=unique_endpoints, crs=edges.crs)\n",
    "nodes['id'] = range(nodes.shape[0])\n",
    "\n",
    "# add nodes_id into end1 and end2 columns of edges\n",
    "edges['end1'] = endpoints['end1'].map(nodes.set_index('geometry')['id'])\n",
    "edges['end2'] = endpoints['end2'].map(nodes.set_index('geometry')['id'])\n",
    "\n",
    "edges = addKm(edges, crs=3975) #for maritime we use 3975, which is projection for the whole world\n",
    "\n",
    "print(nodes.head())\n",
    "print(edges.head())\n",
    "\n",
    "export(nodes, edges, input_folder, output_folder, transport_mode, special_suffix)\n",
    "\n",
    "if (edges['end1'] == edges['end2']).any():\n",
    "    print('ATT')"
   ]
  },
  {
   "cell_type": "markdown",
   "metadata": {},
   "source": [
    "# Airways"
   ]
  },
  {
   "cell_type": "code",
   "execution_count": 19,
   "metadata": {},
   "outputs": [
    {
     "name": "stdout",
     "output_type": "stream",
     "text": [
      "There are 3 nodes\n",
      "epsg:4326\n",
      "There are 3 edges\n",
      "epsg:4326\n"
     ]
    },
    {
     "name": "stderr",
     "output_type": "stream",
     "text": [
      "C:\\Users\\colon\\Anaconda3\\envs\\geo_env\\lib\\site-packages\\pyproj\\crs\\crs.py:68: FutureWarning: '+init=<authority>:<code>' syntax is deprecated. '<authority>:<code>' is the preferred initialization method. When making the change, be mindful of axis order changes: https://pyproj4.github.io/pyproj/stable/gotchas.html#axis-order-changes-in-proj-6\n",
      "  return _prepare_from_string(\" \".join(pjargs))\n"
     ]
    },
    {
     "name": "stdout",
     "output_type": "stream",
     "text": [
      "Assigning end nodes to linestring\n",
      "                                         name special  \\\n",
      "index                                                   \n",
      "0      Aeropuerto Ecologico Galapagos Seymour    None   \n",
      "1                        Aeropuerto Guayaquil    None   \n",
      "2             Aeropuerto Quito Mariscal Sucre    None   \n",
      "\n",
      "                         geometry  id  \n",
      "index                                  \n",
      "0      POINT (-90.26504 -0.45506)   0  \n",
      "1      POINT (-79.88713 -2.15896)   1  \n",
      "2      POINT (-78.35621 -0.12718)   2  \n",
      "      special capacity                                           geometry  id  \\\n",
      "index                                                                           \n",
      "0        None     None  LINESTRING (-90.26504 -0.45506, -78.35621 -0.1...   0   \n",
      "1        None     None  LINESTRING (-78.35621 -0.12718, -79.88713 -2.1...   1   \n",
      "2        None     None  LINESTRING (-79.88713 -2.15896, -90.26504 -0.4...   2   \n",
      "\n",
      "       end1  end2           km  \n",
      "index                           \n",
      "0         0     2  1330.291233  \n",
      "1         2     1   282.009344  \n",
      "2         1     0  1174.341862  \n"
     ]
    }
   ],
   "source": [
    "transport_mode = 'airways'\n",
    "subfolder = os.path.join(input_folder, transport_mode.capitalize())\n",
    "\n",
    "nodes = loadAndFormatGeojson(transport_mode, \"nodes\", subfolder)\n",
    "edges = loadAndFormatGeojson(transport_mode, \"edges\", subfolder)\n",
    "\n",
    "edges = addKm(edges, projected_crs) #for maritime we use 3975, which is projection for the whole world\n",
    "edges = assignEndpointsAndUpdateFullDf(edges, nodes)\n",
    "\n",
    "print(nodes.head())\n",
    "print(edges.head())\n",
    "\n",
    "nodes.to_file(os.path.join(output_folder, transport_mode+\"_nodes.geojson\"), driver=\"GeoJSON\", index=False)\n",
    "edges.to_file(os.path.join(output_folder, transport_mode+\"_edges.geojson\"), driver=\"GeoJSON\", index=False)\n",
    "\n",
    "if (edges['end1'] == edges['end2']).any():\n",
    "    print('ATT')"
   ]
  },
  {
   "cell_type": "markdown",
   "metadata": {},
   "source": [
    "# Waterways"
   ]
  },
  {
   "cell_type": "code",
   "execution_count": 11,
   "metadata": {},
   "outputs": [
    {
     "name": "stdout",
     "output_type": "stream",
     "text": [
      "There are 22 nodes\n",
      "epsg:4326\n",
      "There are 20 edges\n",
      "epsg:4326\n",
      "Assigning end nodes to linestring\n"
     ]
    },
    {
     "name": "stderr",
     "output_type": "stream",
     "text": [
      "C:\\Users\\colon\\Anaconda3\\envs\\geo_env\\lib\\site-packages\\pyproj\\crs\\crs.py:68: FutureWarning: '+init=<authority>:<code>' syntax is deprecated. '<authority>:<code>' is the preferred initialization method. When making the change, be mindful of axis order changes: https://pyproj4.github.io/pyproj/stable/gotchas.html#axis-order-changes-in-proj-6\n",
      "  return _prepare_from_string(\" \".join(pjargs))\n",
      "100%|████████████████████████████████████████████████████████████████████████████████| 20/20 [00:00<00:00, 1250.87it/s]\n"
     ]
    },
    {
     "name": "stdout",
     "output_type": "stream",
     "text": [
      "       id                      name                    geometry\n",
      "index                                                          \n",
      "0       0          Chong Kneas Port  POINT (103.82202 13.26983)\n",
      "1       1      Kampong Chlnang Port  POINT (104.68121 12.26825)\n",
      "2       2  Kampong Chlnang Junction  POINT (104.69201 12.27107)\n",
      "3       3         Kratie River Port  POINT (106.01621 12.48460)\n",
      "4       4           Kratie Junction  POINT (106.01220 12.48335)\n",
      "       end1  end2 special  capacity  id  \\\n",
      "index                                     \n",
      "0         2     0    None  200000.0   0   \n",
      "1        10     6    None   20000.0   1   \n",
      "2         6     5    None   20000.0   2   \n",
      "3         6     4    None   20000.0   3   \n",
      "4         4     3    None       NaN   4   \n",
      "\n",
      "                                                geometry          km  \n",
      "index                                                                 \n",
      "0      LINESTRING (104.69187 12.27092, 104.67544 12.3...  156.544324  \n",
      "1      LINESTRING (104.95104 11.55619, 104.94254 11.5...  102.755312  \n",
      "2      LINESTRING (105.46912 11.98240, 105.46508 11.9...    0.458697  \n",
      "3      LINESTRING (105.46912 11.98240, 105.47277 12.0...  114.395339  \n",
      "4      LINESTRING (106.01220 12.48335, 106.01621 12.4...    0.468008  \n"
     ]
    }
   ],
   "source": [
    "transport_mode = 'waterways'\n",
    "subfolder = os.path.join(input_folder, transport_mode.capitalize())\n",
    "\n",
    "nodes = loadAndFormatGeojson(transport_mode, \"nodes\", subfolder)\n",
    "edges = loadAndFormatGeojson(transport_mode, \"edges\", subfolder)\n",
    "edges = addKm(edges, projected_crs)\n",
    "edges = assignEndpointsAndUpdateFullDf(edges, nodes)\n",
    "\n",
    "print(nodes.head())\n",
    "print(edges.head())\n",
    "\n",
    "nodes.to_file(os.path.join(output_folder, transport_mode+\"_nodes.geojson\"), driver=\"GeoJSON\", index=False)\n",
    "edges.to_file(os.path.join(output_folder, transport_mode+\"_edges.geojson\"), driver=\"GeoJSON\", index=False)\n",
    "\n",
    "if (edges['end1'] == edges['end2']).any():\n",
    "    print('ATT')"
   ]
  },
  {
   "cell_type": "markdown",
   "metadata": {},
   "source": [
    "# Multimodality"
   ]
  },
  {
   "cell_type": "code",
   "execution_count": 24,
   "metadata": {},
   "outputs": [],
   "source": [
    "def find_anchor_points(nodes, mode):\n",
    "    if mode == 'roads':\n",
    "        return nodes\n",
    "    elif mode == 'maritime':\n",
    "        return nodes[nodes['port']]\n",
    "    elif mode == 'railways':\n",
    "        return nodes[nodes['station']]\n",
    "    elif mode == 'airways':\n",
    "        return nodes[nodes['airport']]\n",
    "    elif mode == 'waterways':\n",
    "        return nodes[nodes['port']]\n",
    "    else:\n",
    "        raise ValueError(\"Wrong mode choosen\")\n",
    "\n",
    "\n",
    "def build_multimodal_links(from_nodes, from_mode, to_nodes, to_mode):\n",
    "    anchor_from_nodes = find_anchor_points(from_nodes, from_mode)\n",
    "    anchor_to_nodes = find_anchor_points(to_nodes, to_mode)\n",
    "\n",
    "    # Find the closest road for each port\n",
    "    links = []\n",
    "    projected_anchor_from_nodes = anchor_from_nodes.to_crs(epsg=3857)\n",
    "    projected_anchor_to_nodes = anchor_to_nodes.to_crs(epsg=3857)\n",
    "    for _, target_node in projected_anchor_to_nodes.iterrows():\n",
    "        # Find the closest road point to the current port\n",
    "        closest_from_nodes = projected_anchor_from_nodes.distance(target_node.geometry).idxmin()\n",
    "        closest_point = projected_anchor_from_nodes.loc[closest_from_nodes].geometry\n",
    "    \n",
    "        # Create a LineString from port to closest road point\n",
    "        link = LineString([target_node.geometry, closest_point])\n",
    "        links.append({\"geometry\": link})\n",
    "    \n",
    "    # Create a new GeoDataFrame for the links\n",
    "    links_gdf = gpd.GeoDataFrame(links, crs=projected_anchor_to_nodes.crs)\n",
    "    links_gdf = links_gdf.to_crs(epsg=4326)\n",
    "    links_gdf['multimodes'] = from_mode + '-' + to_mode\n",
    "    return links_gdf"
   ]
  },
  {
   "cell_type": "code",
   "execution_count": 25,
   "metadata": {},
   "outputs": [
    {
     "name": "stdout",
     "output_type": "stream",
     "text": [
      "                                            geometry      multimodes   km  id  \\\n",
      "0   LINESTRING (41.66864 41.6486, 41.66877 41.64588)  roads-maritime  0.1   0   \n",
      "1  LINESTRING (51.22857 43.60237, 51.22302 43.60393)  roads-maritime  0.1   1   \n",
      "2  LINESTRING (41.65711 42.15927, 41.66985 42.16787)  roads-maritime  0.1   2   \n",
      "3  LINESTRING (49.73252 40.28461, 49.71417 40.28648)  roads-maritime  0.1   3   \n",
      "0  LINESTRING (71.39464 42.94935, 71.37812 42.94671)  roads-railways  0.1   4   \n",
      "\n",
      "  capacity  \n",
      "0     None  \n",
      "1     None  \n",
      "2     None  \n",
      "3     None  \n",
      "0     None  \n",
      "(38, 5)\n"
     ]
    }
   ],
   "source": [
    "# automaed creationg of multimodal split\n",
    "import geopandas as gpd\n",
    "from shapely.geometry import LineString\n",
    "\n",
    "multimode = [\"roads\", \"maritime\"]\n",
    "suffix0 = \"_osmsimp\"\n",
    "suffix1 = \"_mc\"\n",
    "\n",
    "roads_nodes = gpd.read_file(os.path.join(input_folder, \"Roads\", \"treated_roads_nodes_osmsimp.geojson\"))\n",
    "maritime_nodes = gpd.read_file(os.path.join(input_folder, \"Maritime\", \"treated_maritime_nodes_mc.geojson\"))\n",
    "maritime_nodes['port'] = maritime_nodes['port'].map(lambda x: bool(x) if pd.notna(x) else False)\n",
    "railways_nodes = gpd.read_file(os.path.join(input_folder, \"Railways\", \"treated_railways_nodes.geojson\"))\n",
    "railways_nodes['station'] = railways_nodes['station'].map(lambda x: bool(x) if pd.notna(x) else False)\n",
    "\n",
    "multimodal_edges = pd.concat([\n",
    "    build_multimodal_links(roads_nodes, \"roads\", maritime_nodes, \"maritime\"),\n",
    "    build_multimodal_links(roads_nodes, \"roads\", railways_nodes, \"railways\"),\n",
    "    build_multimodal_links(railways_nodes, \"railways\", maritime_nodes, \"maritime\")\n",
    "])\n",
    "multimodal_edges['km'] = 0.1  # no impact\n",
    "multimodal_edges['id'] = range(multimodal_edges.shape[0])\n",
    "multimodal_edges['capacity'] = None\n",
    "multimodal_edges.to_file(os.path.join(output_folder, \"multimodal_edges_osmsimp.geojson\"), driver=\"GeoJSON\", index=False)\n",
    "\n",
    "print(multimodal_edges.head())\n",
    "print(multimodal_edges.shape)"
   ]
  },
  {
   "cell_type": "markdown",
   "metadata": {},
   "source": [
    "# Railways"
   ]
  },
  {
   "cell_type": "code",
   "execution_count": 72,
   "metadata": {},
   "outputs": [
    {
     "name": "stdout",
     "output_type": "stream",
     "text": [
      "There are 31 edges\n",
      "EPSG:4326\n",
      "                    geometry  id\n",
      "0  POINT (71.39464 42.94935)   0\n",
      "1   POINT (45.2105 41.37973)   1\n",
      "2  POINT (44.87981 41.65591)   2\n",
      "3  POINT (82.60064 45.07896)   3\n",
      "4  POINT (43.64281 40.74461)   4\n",
      "      OBJECTID NAME1 NAME2 NAME3 ISO_CC RR_FEATURE Shape_Length special  \\\n",
      "index                                                                     \n",
      "0         None  None  None  None   None       None         None    None   \n",
      "1         None  None  None  None   None       None         None    None   \n",
      "2         None  None  None  None   None       None         None    None   \n",
      "3         None  None  None  None   None       None         None    None   \n",
      "4         None  None  None  None   None       None         None    None   \n",
      "\n",
      "                                                geometry  id  end1  end2  \\\n",
      "index                                                                      \n",
      "0      LINESTRING (51.22432 43.59837, 51.22589 43.606...   0    33    27   \n",
      "1      LINESTRING (59.66091 47.81512, 60.19222 47.646...   1    27     7   \n",
      "2      LINESTRING (61.32664 47.03795, 62.43952 47.350...   2     7    13   \n",
      "3      LINESTRING (72.84318 48.85557, 72.82164 48.371...   3    13    28   \n",
      "4      LINESTRING (73.40321 47.18942, 74.39403 47.023...   4    28     9   \n",
      "\n",
      "      capacity           km disruption  \n",
      "index                                   \n",
      "0         None  1215.189748       None  \n",
      "1         None   227.723486       None  \n",
      "2         None  1354.618627       None  \n",
      "3         None   296.515030       None  \n",
      "4         None   711.893409       None  \n",
      "..\\input\\ECA\\Transport\\railways_nodes.geojson exported\n",
      "..\\..\\..\\ECA\\Data\\Structured\\Transport\\Railways\\treated_railways_nodes.geojson exported\n",
      "..\\input\\ECA\\Transport\\railways_edges.geojson exported\n",
      "..\\..\\..\\ECA\\Data\\Structured\\Transport\\Railways\\treated_railways_edges.geojson exported\n"
     ]
    },
    {
     "name": "stderr",
     "output_type": "stream",
     "text": [
      "C:\\Users\\Celian\\miniforge3\\Lib\\site-packages\\pyproj\\crs\\crs.py:143: FutureWarning: '+init=<authority>:<code>' syntax is deprecated. '<authority>:<code>' is the preferred initialization method. When making the change, be mindful of axis order changes: https://pyproj4.github.io/pyproj/stable/gotchas.html#axis-order-changes-in-proj-6\n",
      "  in_crs_string = _prepare_from_proj_string(in_crs_string)\n"
     ]
    }
   ],
   "source": [
    "transport_mode = 'railways'\n",
    "\n",
    "subfolder = os.path.join(input_folder, transport_mode.capitalize())\n",
    "edges = loadAndFormatGeojson(transport_mode, \"edges\", subfolder)\n",
    "nodes, edges = create_nodes_and_update_edges(edges)\n",
    "\n",
    "edges = addKm(edges, projected_crs)\n",
    "edges['disruption'] = None\n",
    "\n",
    "print(nodes.head())\n",
    "print(edges.head())\n",
    "\n",
    "if (edges['end1'] == edges['end2']).any():\n",
    "    print('ATT')\n",
    "\n",
    "export(nodes, edges, input_folder, output_folder, transport_mode, special_suffix=\"\")"
   ]
  },
  {
   "cell_type": "markdown",
   "metadata": {},
   "source": [
    "# Other stuff, may be useful"
   ]
  },
  {
   "cell_type": "markdown",
   "metadata": {},
   "source": [
    "### Transition from shp to geojson"
   ]
  },
  {
   "cell_type": "code",
   "execution_count": 47,
   "metadata": {},
   "outputs": [],
   "source": [
    "for edge_node in [\"node\", \"edge\"]:    \n",
    "    transport_mode = 'roads'\n",
    "    version = \"v8\"\n",
    "    subfolder = os.path.join(folder, 'Data', \"Structured\", transport_mode.capitalize(), version)\n",
    "\n",
    "    filename = \"raw_\"+transport_mode+\"_\"+edge_node+\"s.shp\"\n",
    "    df = gpd.read_file(os.path.join(subfolder, filename))\n",
    "\n",
    "    version = \"current_version\"\n",
    "    subfolder = os.path.join(folder, 'Data', \"Structured\", transport_mode.capitalize(), version)\n",
    "    df.to_file(os.path.join(subfolder, \"raw_\"+transport_mode+\"_\"+edge_node+\"s.geojson\"), driver=\"GeoJSON\")"
   ]
  },
  {
   "cell_type": "markdown",
   "metadata": {
    "tags": []
   },
   "source": [
    "### Change to CRS 4326"
   ]
  },
  {
   "cell_type": "code",
   "execution_count": 76,
   "metadata": {},
   "outputs": [],
   "source": [
    "for edge_node in [\"node\", \"edge\"]:    \n",
    "    transport_mode = 'multimodal'\n",
    "    version = \"current_version\"\n",
    "    subfolder = os.path.join(folder, 'Data', \"Structured\", transport_mode.capitalize(), version)\n",
    "    \n",
    "    filename = \"raw_\"+transport_mode+\"_\"+edge_node+\"s.shp\"\n",
    "    df = gpd.read_file(os.path.join(subfolder, \"raw_\"+transport_mode+\"_\"+edge_node+\"s.geojson\"))\n",
    "    \n",
    "    df = df.to_crs(4326)\n",
    "    \n",
    "    df.to_file(os.path.join(subfolder, \"raw_\"+transport_mode+\"_\"+edge_node+\"s.geojson\"), driver=\"GeoJSON\")"
   ]
  }
 ],
 "metadata": {
  "kernelspec": {
   "display_name": "Python 3 (ipykernel)",
   "language": "python",
   "name": "python3"
  },
  "language_info": {
   "codemirror_mode": {
    "name": "ipython",
    "version": 3
   },
   "file_extension": ".py",
   "mimetype": "text/x-python",
   "name": "python",
   "nbconvert_exporter": "python",
   "pygments_lexer": "ipython3",
   "version": "3.12.6"
  }
 },
 "nbformat": 4,
 "nbformat_minor": 4
}
