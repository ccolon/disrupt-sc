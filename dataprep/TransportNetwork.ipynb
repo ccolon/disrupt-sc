{
 "cells": [
  {
   "cell_type": "markdown",
   "metadata": {},
   "source": [
    "This notebook aims to produce transport layers that are fit for the model.\n",
    "\n",
    "Transport modes are among: roads, railways, waterways, maritime, and multimodal. Roads are required. Note that the multimodal is required if there are more than 2 transport modes.\n",
    "\n",
    "### Input\n",
    "- For each mode, a `raw_<mode>_edges.geojson` and and a `raw_<mode>_nodes.geoson`, except for multimodal for which there is only a edge layer\n",
    "- Required attributes :\n",
    "    - `raw_roads_edges.geojson`: \"class\" (\"primary\", \"seconday\", etc.), \"surface\" (\"paved, \"unpaved\")\n",
    "    - `raw_multimodal_edges.geojson`: \"multimodes\" (\"roads-railways\", \"roads-maritime\", etc.)\n",
    "    - For the countri\n",
    "- Optional attributes :\n",
    "    - `raw_<mode>_edges.geojson`: \"capacity\" (float, max annual tonnage on the edge)\n",
    "- Other requirements :\n",
    "    - the location of countries should be placed in the nodes layers\n",
    "    - concretely, there should be a \"name\" attribute in `raw_<mode>_nodes.geoson`, with the trigram of the country in the selected node\n",
    "       \n",
    "### Output\n",
    "- For each mode, a `<mode>_edges.geojson` and a `<mode>_nodes.geoson`\n",
    "- New attributes :\n",
    "    - `<mode>_edges.geojson` and `<mode>_nodes.geoson`: 'id' (integer)\n",
    "    - `<mode>_edges.geojson`: 'end1' and 'end2' (integer, id of nodes located at the end of the edges), 'km' (float, length of edge)\n",
    "    - Note that the end1 and end2 of edges are found with looking at the node of `<mode>_nodes.geoson` which is the closed to the ends of the dege\n",
    "- Modification on the geometry\n",
    "    - (optional) `<mode>_nodes.geoson`: if the end1 or end2 nodes are not located at the ends of the edges, they are moved to the ends of the edges\n",
    "    - (optional) `<mode>_nodes.geoson`: if there are several points very close to each others (distance epsilon), merge them\n",
    "\n",
    "### Folder path\n",
    "- input files : in the input_folder, there should be one subfolder per mode, named `<Mode>` with the files\n",
    "- output : defined by output_folder\n",
    "\n",
    "### Points to improve\n",
    "- we could think of not using a `raw_<mode>_nodes.geoson` and generate the nodes directly from the ends of edges\n",
    "- but we need to say where the countries are"
   ]
  },
  {
   "cell_type": "code",
   "execution_count": 1,
   "metadata": {},
   "outputs": [],
   "source": [
    "import os\n",
    "import time\n",
    "import math\n",
    "import numpy as np\n",
    "import pandas as pd\n",
    "import geopandas as gpd\n",
    "from shapely.geometry import Point, LineString\n",
    "import shapely.wkt\n",
    "\n",
    "\n",
    "input_folder = os.path.join('..', '..', '..', 'Ecuador', 'Data', 'Structured', \"Transport\")\n",
    "output_folder = os.path.join('..', 'input', 'Ecuador', 'Transport')"
   ]
  },
  {
   "cell_type": "code",
   "execution_count": 2,
   "metadata": {},
   "outputs": [],
   "source": [
    "projected_crs = {\n",
    "    'Cambodia': 3857,\n",
    "    'Ecuador': 31986\n",
    "}\n",
    "projected_crs = projected_crs['Ecuador']"
   ]
  },
  {
   "cell_type": "code",
   "execution_count": 3,
   "metadata": {},
   "outputs": [],
   "source": [
    "def loadShp(filename):\n",
    "    gpdf = gpd.read_file(filename)\n",
    "    gpdf = gpdf[~gpdf['geometry'].isnull()]\n",
    "    gpdf = gpdf.to_crs(epsg=4326)\n",
    "    return gpdf"
   ]
  },
  {
   "cell_type": "code",
   "execution_count": 4,
   "metadata": {},
   "outputs": [],
   "source": [
    "def getEndPointsFromLine(linestring_obj):\n",
    "    end1Coord = linestring_obj.coords[0]\n",
    "    end2Coord = linestring_obj.coords[-1]\n",
    "    return Point(*end1Coord), Point(*end2Coord)\n",
    "\n",
    "def getIndexClosestPoint(point, df_with_points):\n",
    "    distList = [point.distance(item) for item in df_with_points['geometry'].tolist()]\n",
    "    return int(df_with_points.index[distList.index(min(distList))])\n",
    "\n",
    "def updateLineString(linestring_obj, newEnd1, newEnd2):\n",
    "    return LineString([newEnd1.coords[0]] + linestring_obj.coords[1:-1]+[newEnd2.coords[0]])\n",
    "\n",
    "def assignEndpointsAndUpdate(df_links, id_link, df_nodes, update=False):\n",
    "    p1, p2 = getEndPointsFromLine(df_links.loc[id_link, 'geometry'])\n",
    "    id_closest_point1 = getIndexClosestPoint(p1, df_nodes)\n",
    "    id_closest_point2 = getIndexClosestPoint(p2, df_nodes)\n",
    "    df_links.loc[id_link, 'end1'] = id_closest_point1\n",
    "    df_links.loc[id_link, 'end2'] = id_closest_point2\n",
    "    if update:\n",
    "        df_links.loc[id_link, 'geometry'] = updateLineString(df_links.loc[id_link, 'geometry'], df_nodes.loc[id_closest_point1, 'geometry'], df_nodes.loc[id_closest_point2, 'geometry'])\n",
    "    return df_links\n",
    "\n",
    "def assignEndpointsAndUpdateFullDf(df_links, df_nodes, update=False):\n",
    "    print('Assigning end nodes to linestring')\n",
    "    if update:\n",
    "        print('Stag liens to endnodes')\n",
    "    res = df_links.copy()\n",
    "    for i in res.index:\n",
    "        res = assignEndpointsAndUpdate(res, i, df_nodes, update=update)\n",
    "    res['end1'] = res['end1'].astype(int)\n",
    "    res['end2'] = res['end2'].astype(int)\n",
    "    return res\n",
    "\n",
    "def getAllEndpoints(df_links):\n",
    "    all_endpoints = [getEndPointsFromLine(item) for item in df_links['geometry']]\n",
    "    return [item for sublist in all_endpoints for item in sublist]\n",
    "\n",
    "def mergePoints(df_nodes, df_links, epsilon):\n",
    "    print(\"Nb of original nodes:\", df_nodes.shape[0])\n",
    "    \n",
    "    all_endpoints = getAllEndpoints(df_links)\n",
    "    print(\"Nb of endpoints:\", len(all_endpoints))\n",
    "    \n",
    "    all_points_gpd = gpd.GeoDataFrame({\"geometry\": df_nodes['geometry'].tolist()+getAllEndpoints(df_links)}, crs={'epsg':'4326'})\n",
    "    buffered_polygons = gpd.GeoDataFrame({\"geometry\": all_points_gpd.buffer(distance=epsilon)}, crs={'epsg':'4326'})\n",
    "    multipolygon = buffered_polygons.unary_union\n",
    "    centroids_each_polygon = [polygon.centroid for polygon in multipolygon]\n",
    "    print(\"Nb of grouped points:\", len(centroids_each_polygon))\n",
    "    \n",
    "    return gpd.GeoDataFrame({\"id\":range(len(multipolygon)), \"geometry\":centroids_each_polygon}, crs={'epsg':'4326'})\n",
    "\n",
    "def assignEndpointsOneEdge(row, df_nodes):\n",
    "    p1, p2 = getEndPointsFromLine(row['geometry'])\n",
    "    id_closest_point1 = getIndexClosestPoint(p1, df_nodes)\n",
    "    id_closest_point2 = getIndexClosestPoint(p2, df_nodes)\n",
    "    row['end1'] = id_closest_point1\n",
    "    row['end2'] = id_closest_point2\n",
    "    return row\n",
    "\n",
    "def assignEndpoints(df_links, df_nodes):\n",
    "    return df_links.apply(lambda row: assignEndpointsOneEdge(row, df_nodes), axis=1)"
   ]
  },
  {
   "cell_type": "code",
   "execution_count": 5,
   "metadata": {},
   "outputs": [],
   "source": [
    "def loadAndFormatGeojson(transport_mode, nodeedge, subfolder):\n",
    "    if nodeedge == \"nodes\":\n",
    "        nodes = gpd.read_file(os.path.join(subfolder, \"raw_\"+transport_mode+\"_nodes.geojson\"))\n",
    "        if 'index' in nodes.columns:\n",
    "            nodes = nodes.drop('index', axis=1)\n",
    "        nodes['id']=range(nodes.shape[0])\n",
    "        nodes.index = nodes['id']\n",
    "        nodes.index.name = \"index\"\n",
    "        print(\"There are\", nodes.shape[0], \"nodes\")\n",
    "        print(nodes.crs)\n",
    "        return nodes\n",
    "    \n",
    "    if nodeedge == \"edges\":\n",
    "        edges = gpd.read_file(os.path.join(subfolder, \"raw_\"+transport_mode+\"_edges.geojson\"))\n",
    "        edges = edges[~edges['geometry'].isnull()]\n",
    "        if 'index' in edges.columns:\n",
    "            edges = edges.drop('index', axis=1)\n",
    "        edges['id']=range(edges.shape[0])\n",
    "        edges['end1'] = None\n",
    "        edges['end2'] = None\n",
    "        if \"capacity\" not in edges.columns:\n",
    "            edges['capacity'] = None\n",
    "        edges.index = edges['id']\n",
    "        edges.index.name = \"index\"\n",
    "        print(\"There are\", edges.shape[0], \"edges\")\n",
    "        print(edges.crs)\n",
    "        return edges\n",
    "    \n",
    "    \n",
    "def addKm(edges, crs):\n",
    "    # Project the layer. Watch out, the CRS should be adapted to the country\n",
    "    edges['km'] = edges.to_crs({'init': 'epsg:'+str(crs)}).length/1000\n",
    "    return edges"
   ]
  },
  {
   "cell_type": "markdown",
   "metadata": {},
   "source": [
    "# Maritime"
   ]
  },
  {
   "cell_type": "code",
   "execution_count": 20,
   "metadata": {},
   "outputs": [
    {
     "name": "stdout",
     "output_type": "stream",
     "text": [
      "There are 16 nodes\n",
      "epsg:4326\n",
      "There are 13 edges\n",
      "epsg:4326\n",
      "Assigning end nodes to linestring"
     ]
    },
    {
     "name": "stderr",
     "output_type": "stream",
     "text": [
      "C:\\Users\\colon\\Anaconda3\\envs\\geo_env\\lib\\site-packages\\pyproj\\crs\\crs.py:68: FutureWarning: '+init=<authority>:<code>' syntax is deprecated. '<authority>:<code>' is the preferred initialization method. When making the change, be mindful of axis order changes: https://pyproj4.github.io/pyproj/stable/gotchas.html#axis-order-changes-in-proj-6\n",
      "  return _prepare_from_string(\" \".join(pjargs))\n"
     ]
    },
    {
     "name": "stdout",
     "output_type": "stream",
     "text": [
      "\n",
      "       name special                     geometry  id\n",
      "index                                               \n",
      "0      None     ASI   POINT (113.73721 22.37291)   0\n",
      "1      None     OCE   POINT (120.12959 -7.86443)   1\n",
      "2      None     AFR      POINT (6.65334 4.34548)   2\n",
      "3      None     EUR     POINT (4.56087 52.44929)   3\n",
      "4      None     NAM  POINT (-118.14754 33.67455)   4\n",
      "        FID special                                           geometry  id  \\\n",
      "index                                                                        \n",
      "0      None    None  LINESTRING (-79.90491 -2.28268, -79.90574 -2.2...   0   \n",
      "1      None    None  LINESTRING (-80.59454 -2.93901, -81.10867 -3.3...   1   \n",
      "2      None    None  LINESTRING (-80.59454 -2.93901, -80.93897 -3.0...   2   \n",
      "3      None    None  LINESTRING (-79.50790 8.96201, -75.76302 14.19...   3   \n",
      "4      None    None  LINESTRING (-79.50790 8.96201, -73.96901 13.86...   4   \n",
      "\n",
      "       end1  end2 capacity           km  \n",
      "index                                    \n",
      "0         8     9     None   114.960147  \n",
      "1         9     6     None  3802.214988  \n",
      "2         9     7     None  1642.520974  \n",
      "3         7     3     None  9810.880141  \n",
      "4         7     2     None  9734.354238  \n"
     ]
    }
   ],
   "source": [
    "transport_mode = 'maritime'\n",
    "subfolder = os.path.join(input_folder, transport_mode.capitalize())\n",
    "\n",
    "nodes = loadAndFormatGeojson(transport_mode, \"nodes\", subfolder)\n",
    "edges = loadAndFormatGeojson(transport_mode, \"edges\", subfolder)\n",
    "\n",
    "edges = addKm(edges, crs=3975) #for maritime we use 3975, which is projection for the whole world\n",
    "edges = assignEndpointsAndUpdateFullDf(edges, nodes)\n",
    "\n",
    "print(nodes.head())\n",
    "print(edges.head())\n",
    "\n",
    "nodes.to_file(os.path.join(output_folder, transport_mode+\"_nodes.geojson\"), driver=\"GeoJSON\", index=False)\n",
    "edges.to_file(os.path.join(output_folder, transport_mode+\"_edges.geojson\"), driver=\"GeoJSON\", index=False)\n",
    "\n",
    "if (edges['end1'] == edges['end2']).any():\n",
    "    print('ATT')"
   ]
  },
  {
   "cell_type": "markdown",
   "metadata": {},
   "source": [
    "# Airways"
   ]
  },
  {
   "cell_type": "code",
   "execution_count": 19,
   "metadata": {},
   "outputs": [
    {
     "name": "stdout",
     "output_type": "stream",
     "text": [
      "There are 3 nodes\n",
      "epsg:4326\n",
      "There are 3 edges\n",
      "epsg:4326\n"
     ]
    },
    {
     "name": "stderr",
     "output_type": "stream",
     "text": [
      "C:\\Users\\colon\\Anaconda3\\envs\\geo_env\\lib\\site-packages\\pyproj\\crs\\crs.py:68: FutureWarning: '+init=<authority>:<code>' syntax is deprecated. '<authority>:<code>' is the preferred initialization method. When making the change, be mindful of axis order changes: https://pyproj4.github.io/pyproj/stable/gotchas.html#axis-order-changes-in-proj-6\n",
      "  return _prepare_from_string(\" \".join(pjargs))\n"
     ]
    },
    {
     "name": "stdout",
     "output_type": "stream",
     "text": [
      "Assigning end nodes to linestring\n",
      "                                         name special  \\\n",
      "index                                                   \n",
      "0      Aeropuerto Ecologico Galapagos Seymour    None   \n",
      "1                        Aeropuerto Guayaquil    None   \n",
      "2             Aeropuerto Quito Mariscal Sucre    None   \n",
      "\n",
      "                         geometry  id  \n",
      "index                                  \n",
      "0      POINT (-90.26504 -0.45506)   0  \n",
      "1      POINT (-79.88713 -2.15896)   1  \n",
      "2      POINT (-78.35621 -0.12718)   2  \n",
      "      special capacity                                           geometry  id  \\\n",
      "index                                                                           \n",
      "0        None     None  LINESTRING (-90.26504 -0.45506, -78.35621 -0.1...   0   \n",
      "1        None     None  LINESTRING (-78.35621 -0.12718, -79.88713 -2.1...   1   \n",
      "2        None     None  LINESTRING (-79.88713 -2.15896, -90.26504 -0.4...   2   \n",
      "\n",
      "       end1  end2           km  \n",
      "index                           \n",
      "0         0     2  1330.291233  \n",
      "1         2     1   282.009344  \n",
      "2         1     0  1174.341862  \n"
     ]
    }
   ],
   "source": [
    "transport_mode = 'airways'\n",
    "subfolder = os.path.join(input_folder, transport_mode.capitalize())\n",
    "\n",
    "nodes = loadAndFormatGeojson(transport_mode, \"nodes\", subfolder)\n",
    "edges = loadAndFormatGeojson(transport_mode, \"edges\", subfolder)\n",
    "\n",
    "edges = addKm(edges, projected_crs) #for maritime we use 3975, which is projection for the whole world\n",
    "edges = assignEndpointsAndUpdateFullDf(edges, nodes)\n",
    "\n",
    "print(nodes.head())\n",
    "print(edges.head())\n",
    "\n",
    "nodes.to_file(os.path.join(output_folder, transport_mode+\"_nodes.geojson\"), driver=\"GeoJSON\", index=False)\n",
    "edges.to_file(os.path.join(output_folder, transport_mode+\"_edges.geojson\"), driver=\"GeoJSON\", index=False)\n",
    "\n",
    "if (edges['end1'] == edges['end2']).any():\n",
    "    print('ATT')"
   ]
  },
  {
   "cell_type": "markdown",
   "metadata": {},
   "source": [
    "# Waterways"
   ]
  },
  {
   "cell_type": "code",
   "execution_count": 6,
   "metadata": {},
   "outputs": [
    {
     "name": "stdout",
     "output_type": "stream",
     "text": [
      "There are 2 nodes\n",
      "epsg:4326\n",
      "There are 1 edges\n",
      "epsg:4326\n"
     ]
    },
    {
     "name": "stderr",
     "output_type": "stream",
     "text": [
      "C:\\Users\\colon\\Anaconda3\\envs\\geo_env\\lib\\site-packages\\pyproj\\crs\\crs.py:68: FutureWarning: '+init=<authority>:<code>' syntax is deprecated. '<authority>:<code>' is the preferred initialization method. When making the change, be mindful of axis order changes: https://pyproj4.github.io/pyproj/stable/gotchas.html#axis-order-changes-in-proj-6\n",
      "  return _prepare_from_string(\" \".join(pjargs))\n"
     ]
    },
    {
     "name": "stdout",
     "output_type": "stream",
     "text": [
      "Assigning end nodes to linestring\n",
      "       name special                    geometry  id\n",
      "index                                              \n",
      "0      None    None  POINT (-76.61785 -0.44142)   0\n",
      "1      None    None  POINT (-76.61159 -0.44775)   1\n",
      "        FID special                                           geometry  id  \\\n",
      "index                                                                        \n",
      "0      None    None  LINESTRING (-76.61785 -0.44142, -76.61159 -0.4...   0   \n",
      "\n",
      "       end1  end2 capacity        km  \n",
      "index                                 \n",
      "0         0     1     None  0.989868  \n"
     ]
    }
   ],
   "source": [
    "transport_mode = 'waterways'\n",
    "subfolder = os.path.join(input_folder, transport_mode.capitalize())\n",
    "\n",
    "nodes = loadAndFormatGeojson(transport_mode, \"nodes\", subfolder)\n",
    "edges = loadAndFormatGeojson(transport_mode, \"edges\", subfolder)\n",
    "edges = addKm(edges, projected_crs)\n",
    "edges = assignEndpointsAndUpdateFullDf(edges, nodes)\n",
    "\n",
    "print(nodes.head())\n",
    "print(edges.head())\n",
    "\n",
    "nodes.to_file(os.path.join(output_folder, transport_mode+\"_nodes.geojson\"), driver=\"GeoJSON\", index=False)\n",
    "edges.to_file(os.path.join(output_folder, transport_mode+\"_edges.geojson\"), driver=\"GeoJSON\", index=False)\n",
    "\n",
    "if (edges['end1'] == edges['end2']).any():\n",
    "    print('ATT')"
   ]
  },
  {
   "cell_type": "markdown",
   "metadata": {},
   "source": [
    "# Multimodality"
   ]
  },
  {
   "cell_type": "code",
   "execution_count": 7,
   "metadata": {},
   "outputs": [
    {
     "name": "stdout",
     "output_type": "stream",
     "text": [
      "There are 11 edges\n",
      "epsg:4326\n",
      "               multimodes     special capacity  \\\n",
      "index                                            \n",
      "0          roads-maritime        None     None   \n",
      "1      roads-maritime-dom  gallapagos     None   \n",
      "2      roads-maritime-dom  gallapagos     None   \n",
      "3      roads-maritime-dom  gallapagos     None   \n",
      "4      roads-maritime-dom  gallapagos     None   \n",
      "\n",
      "                                                geometry  id  end1  end2   km  \n",
      "index                                                                          \n",
      "0      LINESTRING (-79.90643 -2.27615, -79.90491 -2.2...   0  None  None  0.1  \n",
      "1      LINESTRING (-89.61089 -0.90312, -89.61101 -0.9...   1  None  None  0.1  \n",
      "2      LINESTRING (-90.31505 -0.74425, -90.31255 -0.7...   2  None  None  0.1  \n",
      "3      LINESTRING (-90.96601 -0.95719, -90.96711 -0.9...   3  None  None  0.1  \n",
      "4      LINESTRING (-90.27732 -0.48326, -90.27739 -0.4...   4  None  None  0.1  \n"
     ]
    }
   ],
   "source": [
    "transport_mode = 'multimodal'\n",
    "subfolder = os.path.join(input_folder, transport_mode.capitalize())\n",
    "\n",
    "edges = loadAndFormatGeojson(transport_mode, \"edges\", subfolder)\n",
    "edges['km'] = 0.1 #no impact\n",
    "\n",
    "print(edges.head())\n",
    "\n",
    "edges.to_file(os.path.join(output_folder, transport_mode+\"_edges.geojson\"), driver=\"GeoJSON\", index=False)"
   ]
  },
  {
   "cell_type": "markdown",
   "metadata": {},
   "source": [
    "# Railways"
   ]
  },
  {
   "cell_type": "code",
   "execution_count": 17,
   "metadata": {},
   "outputs": [
    {
     "name": "stdout",
     "output_type": "stream",
     "text": [
      "There are 10 nodes\n",
      "{'init': 'epsg:4326'}\n",
      "There are 10 edges\n",
      "{'init': 'epsg:4326'}\n"
     ]
    },
    {
     "name": "stderr",
     "output_type": "stream",
     "text": [
      "C:\\Users\\celian\\anaconda3\\envs\\DisruptSupplyChain\\lib\\site-packages\\pyproj\\crs\\crs.py:55: FutureWarning: '+init=<authority>:<code>' syntax is deprecated. '<authority>:<code>' is the preferred initialization method. When making the change, be mindful of axis order changes: https://pyproj4.github.io/pyproj/stable/gotchas.html#axis-order-changes-in-proj-6\n",
      "  return _prepare_from_string(\" \".join(pjargs))\n",
      "C:\\Users\\celian\\anaconda3\\envs\\DisruptSupplyChain\\lib\\site-packages\\pyproj\\crs\\crs.py:55: FutureWarning: '+init=<authority>:<code>' syntax is deprecated. '<authority>:<code>' is the preferred initialization method. When making the change, be mindful of axis order changes: https://pyproj4.github.io/pyproj/stable/gotchas.html#axis-order-changes-in-proj-6\n",
      "  return _prepare_from_string(\" \".join(pjargs))\n"
     ]
    },
    {
     "name": "stdout",
     "output_type": "stream",
     "text": [
      "Assigning end nodes to linestring\n",
      "          name                                     geometry  id\n",
      "index                                                          \n",
      "0      station  POINT (104.9165417310334 11.57264782123487)   0\n",
      "1         None  POINT (102.9310145520781 13.58146756607205)   1\n",
      "2         None  POINT (104.8218771869167 11.56651961957141)   2\n",
      "3         None  POINT (104.6969901718489 11.69402940521593)   3\n",
      "4         None  POINT (102.5439458929634 13.66549038485579)   4\n",
      "            From_                         To special  capacity  \\\n",
      "index                                                            \n",
      "0      Phnom Penh              Svay Sisaphon  unused       NaN   \n",
      "1      Phnom Penh             Preah Sihanouk    used  700000.0   \n",
      "2           Snoul                Laos Border  unused       NaN   \n",
      "3       Bat Doeng  Loch Ninh ,Viet Nam Borde  unused       NaN   \n",
      "4       Bat Doeng  Loch Ninh ,Viet Nam Borde  unused       NaN   \n",
      "\n",
      "                                                geometry  id  end1  end2  \\\n",
      "index                                                                      \n",
      "0      LINESTRING (102.5439458929634 13.6654903848557...   0     4     1   \n",
      "1      LINESTRING (103.5021688860371 10.6428842124675...   1     9     2   \n",
      "2      LINESTRING (106.4212240815225 12.0680595577848...   2     7     8   \n",
      "3      LINESTRING (104.6969889783977 11.6940316669897...   3     3     5   \n",
      "4      LINESTRING (105.0682451727648 12.0582239452954...   4     5     7   \n",
      "\n",
      "               km  \n",
      "index              \n",
      "0       44.972336  \n",
      "1      259.756303  \n",
      "2      267.520177  \n",
      "3       64.302303  \n",
      "4      179.791995  \n"
     ]
    },
    {
     "name": "stderr",
     "output_type": "stream",
     "text": [
      "C:\\Users\\celian\\anaconda3\\envs\\DisruptSupplyChain\\lib\\site-packages\\geopandas\\io\\file.py:62: FionaDeprecationWarning: Use fiona.Env() instead.\n",
      "  with fiona.drivers():\n"
     ]
    }
   ],
   "source": [
    "transport_mode = 'railways'\n",
    "version = \"current_version\"\n",
    "subfolder = os.path.join(folder, 'Data', \"Structured\", transport_mode.capitalize(), version)\n",
    "\n",
    "nodes = loadAndFormatGeojson(transport_mode, \"nodes\", subfolder)\n",
    "edges = loadAndFormatGeojson(transport_mode, \"edges\", subfolder)\n",
    "edges = addKm(edges, projected_crs)\n",
    "edges = assignEndpointsAndUpdateFullDf(edges, nodes)\n",
    "\n",
    "print(nodes.head())\n",
    "print(edges.head())\n",
    "\n",
    "nodes.to_file(os.path.join(output_folder, transport_mode+\"_nodes.geojson\"), driver=\"GeoJSON\")\n",
    "edges.to_file(os.path.join(output_folder, transport_mode+\"_edges.geojson\"), driver=\"GeoJSON\")\n",
    "\n",
    "if (edges['end1'] == edges['end2']).any():\n",
    "    print('ATT')"
   ]
  },
  {
   "cell_type": "markdown",
   "metadata": {},
   "source": [
    "# Roads"
   ]
  },
  {
   "cell_type": "code",
   "execution_count": 8,
   "metadata": {},
   "outputs": [
    {
     "data": {
      "text/html": [
       "<div>\n",
       "<style scoped>\n",
       "    .dataframe tbody tr th:only-of-type {\n",
       "        vertical-align: middle;\n",
       "    }\n",
       "\n",
       "    .dataframe tbody tr th {\n",
       "        vertical-align: top;\n",
       "    }\n",
       "\n",
       "    .dataframe thead th {\n",
       "        text-align: right;\n",
       "    }\n",
       "</style>\n",
       "<table border=\"1\" class=\"dataframe\">\n",
       "  <thead>\n",
       "    <tr style=\"text-align: right;\">\n",
       "      <th></th>\n",
       "      <th>infra_type</th>\n",
       "      <th>length</th>\n",
       "      <th>Type</th>\n",
       "      <th>special</th>\n",
       "      <th>id</th>\n",
       "      <th>disruption</th>\n",
       "      <th>geometry</th>\n",
       "      <th>end1</th>\n",
       "      <th>end2</th>\n",
       "      <th>capacity</th>\n",
       "      <th>surface</th>\n",
       "      <th>class</th>\n",
       "      <th>name</th>\n",
       "      <th>km</th>\n",
       "    </tr>\n",
       "    <tr>\n",
       "      <th>index</th>\n",
       "      <th></th>\n",
       "      <th></th>\n",
       "      <th></th>\n",
       "      <th></th>\n",
       "      <th></th>\n",
       "      <th></th>\n",
       "      <th></th>\n",
       "      <th></th>\n",
       "      <th></th>\n",
       "      <th></th>\n",
       "      <th></th>\n",
       "      <th></th>\n",
       "      <th></th>\n",
       "      <th></th>\n",
       "    </tr>\n",
       "  </thead>\n",
       "  <tbody>\n",
       "  </tbody>\n",
       "</table>\n",
       "</div>"
      ],
      "text/plain": [
       "Empty GeoDataFrame\n",
       "Columns: [infra_type, length, Type, special, id, disruption, geometry, end1, end2, capacity, surface, class, name, km]\n",
       "Index: []"
      ]
     },
     "execution_count": 8,
     "metadata": {},
     "output_type": "execute_result"
    }
   ],
   "source": [
    "edges[edges['end1'] == edges['end2']]"
   ]
  },
  {
   "cell_type": "code",
   "execution_count": 6,
   "metadata": {},
   "outputs": [
    {
     "name": "stdout",
     "output_type": "stream",
     "text": [
      "There are 1518 nodes\n",
      "epsg:4326\n",
      "There are 2168 edges\n",
      "epsg:4326\n"
     ]
    },
    {
     "name": "stderr",
     "output_type": "stream",
     "text": [
      "C:\\Users\\colon\\Anaconda3\\envs\\geo_env\\lib\\site-packages\\pyproj\\crs\\crs.py:68: FutureWarning: '+init=<authority>:<code>' syntax is deprecated. '<authority>:<code>' is the preferred initialization method. When making the change, be mindful of axis order changes: https://pyproj4.github.io/pyproj/stable/gotchas.html#axis-order-changes-in-proj-6\n",
      "  return _prepare_from_string(\" \".join(pjargs))\n"
     ]
    },
    {
     "name": "stdout",
     "output_type": "stream",
     "text": [
      "Assigning end nodes to linestring\n",
      "       name                    geometry  id special\n",
      "index                                              \n",
      "0      None  POINT (-79.96508 -4.39275)   0    None\n",
      "1      None  POINT (-77.89086 -1.55776)   1    None\n",
      "2      None   POINT (-77.80381 0.81533)   2    None\n",
      "3      None  POINT (-79.84806 -4.45338)   3    None\n",
      "4      None   POINT (-77.94515 0.40815)   4    None\n",
      "      infra_type        length        Type special  id  road_index  \\\n",
      "index                                                                \n",
      "0           None           NaN        None  border   0           0   \n",
      "1      Carretera  10499.463640  legitimate    None   1           1   \n",
      "2      Carretera  11450.214973  legitimate    None   2           2   \n",
      "3      Carretera   9729.416225  legitimate    None   3           3   \n",
      "4      Carretera  10492.111143  legitimate    None   4           4   \n",
      "\n",
      "          disruption                                           geometry  end1  \\\n",
      "index                                                                           \n",
      "0                     LINESTRING (-79.96462 -4.39216, -79.96508 -4.3...   996   \n",
      "1      Scenario 2_50  LINESTRING (-77.91916 -1.64582, -77.91924 -1.6...   841   \n",
      "2                     LINESTRING (-77.89086 -1.55776, -77.89112 -1.5...     1   \n",
      "3                     LINESTRING (-77.84048 -1.62851, -77.84213 -1.6...   135   \n",
      "4                     LINESTRING (-77.80381 0.81533, -77.80363 0.815...     2   \n",
      "\n",
      "       end2 capacity surface class  name         km  \n",
      "index                                                \n",
      "0         0     None   paved  None  None   0.083249  \n",
      "1         1     None   paved  None  None  10.499464  \n",
      "2      1190     None   paved  None  None  11.450215  \n",
      "3         1     None   paved  None  None   9.729416  \n",
      "4       947     None   paved  None  None  10.492111  \n"
     ]
    }
   ],
   "source": [
    "transport_mode = 'roads'\n",
    "subfolder = os.path.join(input_folder, transport_mode.capitalize())\n",
    "\n",
    "nodes = loadAndFormatGeojson(transport_mode, \"nodes\", subfolder)\n",
    "nodes['special'] = nodes['name'] #should do it in QGIS but for obscure reasons it does not work\n",
    "edges = loadAndFormatGeojson(transport_mode, \"edges\", subfolder)\n",
    "edges['surface'] = 'paved'\n",
    "edges['class'] = None\n",
    "edges['name'] = None\n",
    "edges = addKm(edges, projected_crs)\n",
    "edges = assignEndpointsAndUpdateFullDf(edges, nodes)\n",
    "\n",
    "print(nodes.head())\n",
    "print(edges.head())\n",
    "\n",
    "nodes.to_file(os.path.join(output_folder, transport_mode+\"_nodes.geojson\"), driver=\"GeoJSON\", index=False)\n",
    "edges.to_file(os.path.join(output_folder, transport_mode+\"_edges.geojson\"), driver=\"GeoJSON\", index=False)\n",
    "\n",
    "if (edges['end1'] == edges['end2']).any():\n",
    "    print('ATT')\n",
    "    edges[edges['end1'] == edges['end2']]"
   ]
  },
  {
   "cell_type": "markdown",
   "metadata": {},
   "source": [
    "# Other stuff, may be useful"
   ]
  },
  {
   "cell_type": "markdown",
   "metadata": {},
   "source": [
    "### Transition from shp to geojson"
   ]
  },
  {
   "cell_type": "code",
   "execution_count": 47,
   "metadata": {},
   "outputs": [],
   "source": [
    "for edge_node in [\"node\", \"edge\"]:    \n",
    "    transport_mode = 'roads'\n",
    "    version = \"v8\"\n",
    "    subfolder = os.path.join(folder, 'Data', \"Structured\", transport_mode.capitalize(), version)\n",
    "\n",
    "    filename = \"raw_\"+transport_mode+\"_\"+edge_node+\"s.shp\"\n",
    "    df = gpd.read_file(os.path.join(subfolder, filename))\n",
    "\n",
    "    version = \"current_version\"\n",
    "    subfolder = os.path.join(folder, 'Data', \"Structured\", transport_mode.capitalize(), version)\n",
    "    df.to_file(os.path.join(subfolder, \"raw_\"+transport_mode+\"_\"+edge_node+\"s.geojson\"), driver=\"GeoJSON\")"
   ]
  },
  {
   "cell_type": "markdown",
   "metadata": {
    "tags": []
   },
   "source": [
    "### Change to CRS 4326"
   ]
  },
  {
   "cell_type": "code",
   "execution_count": 76,
   "metadata": {},
   "outputs": [],
   "source": [
    "for edge_node in [\"node\", \"edge\"]:    \n",
    "    transport_mode = 'multimodal'\n",
    "    version = \"current_version\"\n",
    "    subfolder = os.path.join(folder, 'Data', \"Structured\", transport_mode.capitalize(), version)\n",
    "    \n",
    "    filename = \"raw_\"+transport_mode+\"_\"+edge_node+\"s.shp\"\n",
    "    df = gpd.read_file(os.path.join(subfolder, \"raw_\"+transport_mode+\"_\"+edge_node+\"s.geojson\"))\n",
    "    \n",
    "    df = df.to_crs(4326)\n",
    "    \n",
    "    df.to_file(os.path.join(subfolder, \"raw_\"+transport_mode+\"_\"+edge_node+\"s.geojson\"), driver=\"GeoJSON\")"
   ]
  }
 ],
 "metadata": {
  "kernelspec": {
   "display_name": "Python 3 (ipykernel)",
   "language": "python",
   "name": "python3"
  },
  "language_info": {
   "codemirror_mode": {
    "name": "ipython",
    "version": 3
   },
   "file_extension": ".py",
   "mimetype": "text/x-python",
   "name": "python",
   "nbconvert_exporter": "python",
   "pygments_lexer": "ipython3",
   "version": "3.9.6"
  }
 },
 "nbformat": 4,
 "nbformat_minor": 4
}
