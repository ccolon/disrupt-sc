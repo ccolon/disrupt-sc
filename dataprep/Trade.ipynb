{
 "cells": [
  {
   "cell_type": "code",
   "execution_count": 1,
   "metadata": {},
   "outputs": [],
   "source": [
    "import os\n",
    "import sys\n",
    "import time\n",
    "import math\n",
    "import numpy as np\n",
    "import pandas as pd\n",
    "import geopandas as gpd\n",
    "\n",
    "\n",
    "input_folder = os.path.join('..', '..', '..', 'Cambodia', 'Data')\n",
    "output_folder = os.path.join('..', 'input', 'Ecuador', 'Trade')"
   ]
  },
  {
   "cell_type": "markdown",
   "metadata": {},
   "source": [
    "# Produce export table"
   ]
  },
  {
   "cell_type": "code",
   "execution_count": 5,
   "metadata": {},
   "outputs": [
    {
     "name": "stdout",
     "output_type": "stream",
     "text": [
      "Check unmapped sectors\n",
      "     region  Commodity Code  Trade Value (US$) sector\n",
      "213     AFR            6908              72005    NaN\n",
      "622     ASI            5304             435704    NaN\n",
      "1041    CAR            6908             218371    NaN\n",
      "1377    COL            6908             536781    NaN\n",
      "1902    EUR            6908              73369    NaN\n",
      "2559    NAM            6908            4991111    NaN\n",
      "3170    PER            6908             214240    NaN\n",
      "Represents 0.04%\n",
      "Skip them\n"
     ]
    }
   ],
   "source": [
    "input_folder = os.path.join('..', '..', '..', 'Ecuador', 'Data')\n",
    "trade_data = pd.read_csv(os.path.join(input_folder, \"Raw\", \"Trade\", \"comtrade_2016_AG4_imports_Ecuador_as_partner.csv\"))\n",
    "\n",
    "# because we chose \"Cambodia as Partner\", the \"Trade Flow\" (import/export) is to be understood from the point of view of the \"Reporting Country\"\n",
    "# so we select 'import' as trade flow\n",
    "export_data = trade_data.loc[trade_data['Trade Flow']==\"Import\", ['Reporter ISO', 'Commodity Code', 'Commodity', 'Trade Value (US$)']]\n",
    "\n",
    "# groupby country region\n",
    "country_grouping_modified = pd.read_csv(os.path.join(input_folder, \"Structured\", \"Trade\", \"country_grouping_ecuador.csv\"))\n",
    "export_data = export_data.merge(country_grouping_modified[['alpha-3', \"region\"]], how=\"left\", left_on=\"Reporter ISO\", right_on=\"alpha-3\")\n",
    "export_data = export_data.groupby(['region', \"Commodity Code\"])['Trade Value (US$)'].sum().reset_index()\n",
    "\n",
    "# map sectors\n",
    "H3_to_Sector = pd.read_csv(os.path.join(input_folder, \"Structured\", \"Trade\", \"HS17lvl4_to_59sectors.csv\")).set_index('hs17_lvl4_code')['trigram']\n",
    "export_data['sector'] = export_data['Commodity Code'].map(H3_to_Sector)\n",
    "print(\"Check unmapped sectors\")\n",
    "print(export_data[export_data[\"sector\"].isnull()])\n",
    "print(\"Represents \"+\"{:,.2f}%\".format(100*export_data.loc[export_data[\"sector\"].isnull(), 'Trade Value (US$)'].sum()/export_data['Trade Value (US$)'].sum()))\n",
    "print(\"Skip them\")\n",
    "export_data = export_data[~export_data['sector'].isnull()]\n",
    "\n",
    "# aggregate\n",
    "export_data = export_data.groupby(['region', 'sector'])['Trade Value (US$)'].sum().unstack(level=0)\n",
    "\n",
    "# add other sectors with 0\n",
    "all_sectors = pd.read_csv(os.path.join(input_folder, \"Structured\", \"Sectors\", \"61sector_table.csv\"))[['trigram']].set_index('trigram')\n",
    "export_data = pd.concat([all_sectors, export_data], axis=1).fillna(0)\n",
    "\n",
    "# turn into kUSD\n",
    "export_data = export_data / 1000\n",
    "\n",
    "# export\n",
    "export_data.transpose().to_csv(os.path.join(output_folder, \"59sector_export_table.csv\"))"
   ]
  },
  {
   "cell_type": "markdown",
   "metadata": {
    "tags": []
   },
   "source": [
    "### Legacy - Cambodia"
   ]
  },
  {
   "cell_type": "code",
   "execution_count": 17,
   "metadata": {},
   "outputs": [
    {
     "name": "stdout",
     "output_type": "stream",
     "text": [
      "Check unmapped sectors\n",
      "       region  Commodity Code  Trade Value (US$)  sector_code\n",
      "49     Africa              99             121512          NaN\n",
      "120  Americas              99            8180178          NaN\n",
      "209      Asia              99            8708586          NaN\n",
      "302    Europe              99            1846239          NaN\n",
      "362   Oceania              99                530          NaN\n",
      "499  Viet Nam              99               2456          NaN\n",
      "Represents 0.13%\n",
      "Skip them\n",
      "   region  Commodity Code  Trade Value (US$)  sector_code sector\n",
      "0  Africa               1                  7            2    LIV\n",
      "1  Africa               9               2777            1    CRO\n",
      "2  Africa              10             127529            1    CRO\n",
      "3  Africa              12               2749            6    MFO\n",
      "4  Africa              21              32969            6    MFO\n"
     ]
    },
    {
     "data": {
      "text/html": [
       "<div>\n",
       "<style scoped>\n",
       "    .dataframe tbody tr th:only-of-type {\n",
       "        vertical-align: middle;\n",
       "    }\n",
       "\n",
       "    .dataframe tbody tr th {\n",
       "        vertical-align: top;\n",
       "    }\n",
       "\n",
       "    .dataframe thead th {\n",
       "        text-align: right;\n",
       "    }\n",
       "</style>\n",
       "<table border=\"1\" class=\"dataframe\">\n",
       "  <thead>\n",
       "    <tr style=\"text-align: right;\">\n",
       "      <th></th>\n",
       "      <th>AFR</th>\n",
       "      <th>AME</th>\n",
       "      <th>ASI</th>\n",
       "      <th>EUR</th>\n",
       "      <th>LAO</th>\n",
       "      <th>OCE</th>\n",
       "      <th>THA</th>\n",
       "      <th>VNM</th>\n",
       "    </tr>\n",
       "    <tr>\n",
       "      <th>sector</th>\n",
       "      <th></th>\n",
       "      <th></th>\n",
       "      <th></th>\n",
       "      <th></th>\n",
       "      <th></th>\n",
       "      <th></th>\n",
       "      <th></th>\n",
       "      <th></th>\n",
       "    </tr>\n",
       "  </thead>\n",
       "  <tbody>\n",
       "    <tr>\n",
       "      <th>CRO</th>\n",
       "      <td>130306.0</td>\n",
       "      <td>23438572.0</td>\n",
       "      <td>146717966.0</td>\n",
       "      <td>217210367.0</td>\n",
       "      <td>1800.0</td>\n",
       "      <td>1986544.0</td>\n",
       "      <td>206368817.0</td>\n",
       "      <td>360326875.0</td>\n",
       "    </tr>\n",
       "    <tr>\n",
       "      <th>LIV</th>\n",
       "      <td>7.0</td>\n",
       "      <td>2072398.0</td>\n",
       "      <td>5116148.0</td>\n",
       "      <td>288.0</td>\n",
       "      <td>323750.0</td>\n",
       "      <td>0.0</td>\n",
       "      <td>23795.0</td>\n",
       "      <td>0.0</td>\n",
       "    </tr>\n",
       "    <tr>\n",
       "      <th>FOR</th>\n",
       "      <td>0.0</td>\n",
       "      <td>0.0</td>\n",
       "      <td>0.0</td>\n",
       "      <td>0.0</td>\n",
       "      <td>0.0</td>\n",
       "      <td>0.0</td>\n",
       "      <td>0.0</td>\n",
       "      <td>0.0</td>\n",
       "    </tr>\n",
       "    <tr>\n",
       "      <th>FIS</th>\n",
       "      <td>0.0</td>\n",
       "      <td>0.0</td>\n",
       "      <td>2576544.0</td>\n",
       "      <td>129.0</td>\n",
       "      <td>0.0</td>\n",
       "      <td>0.0</td>\n",
       "      <td>4118128.0</td>\n",
       "      <td>0.0</td>\n",
       "    </tr>\n",
       "    <tr>\n",
       "      <th>MIN</th>\n",
       "      <td>0.0</td>\n",
       "      <td>1946.0</td>\n",
       "      <td>39743466.0</td>\n",
       "      <td>10876.0</td>\n",
       "      <td>22265.0</td>\n",
       "      <td>0.0</td>\n",
       "      <td>1383227.0</td>\n",
       "      <td>1762471.0</td>\n",
       "    </tr>\n",
       "    <tr>\n",
       "      <th>...</th>\n",
       "      <td>...</td>\n",
       "      <td>...</td>\n",
       "      <td>...</td>\n",
       "      <td>...</td>\n",
       "      <td>...</td>\n",
       "      <td>...</td>\n",
       "      <td>...</td>\n",
       "      <td>...</td>\n",
       "    </tr>\n",
       "    <tr>\n",
       "      <th>SPO</th>\n",
       "      <td>0.0</td>\n",
       "      <td>0.0</td>\n",
       "      <td>0.0</td>\n",
       "      <td>0.0</td>\n",
       "      <td>0.0</td>\n",
       "      <td>0.0</td>\n",
       "      <td>0.0</td>\n",
       "      <td>0.0</td>\n",
       "    </tr>\n",
       "    <tr>\n",
       "      <th>AMO</th>\n",
       "      <td>0.0</td>\n",
       "      <td>0.0</td>\n",
       "      <td>0.0</td>\n",
       "      <td>0.0</td>\n",
       "      <td>0.0</td>\n",
       "      <td>0.0</td>\n",
       "      <td>0.0</td>\n",
       "      <td>0.0</td>\n",
       "    </tr>\n",
       "    <tr>\n",
       "      <th>REP</th>\n",
       "      <td>0.0</td>\n",
       "      <td>0.0</td>\n",
       "      <td>0.0</td>\n",
       "      <td>0.0</td>\n",
       "      <td>0.0</td>\n",
       "      <td>0.0</td>\n",
       "      <td>0.0</td>\n",
       "      <td>0.0</td>\n",
       "    </tr>\n",
       "    <tr>\n",
       "      <th>OPS</th>\n",
       "      <td>0.0</td>\n",
       "      <td>0.0</td>\n",
       "      <td>0.0</td>\n",
       "      <td>0.0</td>\n",
       "      <td>0.0</td>\n",
       "      <td>0.0</td>\n",
       "      <td>0.0</td>\n",
       "      <td>0.0</td>\n",
       "    </tr>\n",
       "    <tr>\n",
       "      <th>IMP</th>\n",
       "      <td>0.0</td>\n",
       "      <td>0.0</td>\n",
       "      <td>0.0</td>\n",
       "      <td>0.0</td>\n",
       "      <td>0.0</td>\n",
       "      <td>0.0</td>\n",
       "      <td>0.0</td>\n",
       "      <td>0.0</td>\n",
       "    </tr>\n",
       "  </tbody>\n",
       "</table>\n",
       "<p>61 rows × 8 columns</p>\n",
       "</div>"
      ],
      "text/plain": [
       "             AFR         AME          ASI          EUR       LAO        OCE  \\\n",
       "sector                                                                        \n",
       "CRO     130306.0  23438572.0  146717966.0  217210367.0    1800.0  1986544.0   \n",
       "LIV          7.0   2072398.0    5116148.0        288.0  323750.0        0.0   \n",
       "FOR          0.0         0.0          0.0          0.0       0.0        0.0   \n",
       "FIS          0.0         0.0    2576544.0        129.0       0.0        0.0   \n",
       "MIN          0.0      1946.0   39743466.0      10876.0   22265.0        0.0   \n",
       "...          ...         ...          ...          ...       ...        ...   \n",
       "SPO          0.0         0.0          0.0          0.0       0.0        0.0   \n",
       "AMO          0.0         0.0          0.0          0.0       0.0        0.0   \n",
       "REP          0.0         0.0          0.0          0.0       0.0        0.0   \n",
       "OPS          0.0         0.0          0.0          0.0       0.0        0.0   \n",
       "IMP          0.0         0.0          0.0          0.0       0.0        0.0   \n",
       "\n",
       "                THA          VNM  \n",
       "sector                            \n",
       "CRO     206368817.0  360326875.0  \n",
       "LIV         23795.0          0.0  \n",
       "FOR             0.0          0.0  \n",
       "FIS       4118128.0          0.0  \n",
       "MIN       1383227.0    1762471.0  \n",
       "...             ...          ...  \n",
       "SPO             0.0          0.0  \n",
       "AMO             0.0          0.0  \n",
       "REP             0.0          0.0  \n",
       "OPS             0.0          0.0  \n",
       "IMP             0.0          0.0  \n",
       "\n",
       "[61 rows x 8 columns]"
      ]
     },
     "execution_count": 17,
     "metadata": {},
     "output_type": "execute_result"
    }
   ],
   "source": [
    "trade_data = pd.read_csv(os.path.join(input_folder, \"Raw\", \"Trade\", \"comtrade_2015_CambodiaAsPartner_HS07_H3.csv\"))\n",
    "\n",
    "# because we chose \"Cambodia as Partner\", the \"Trade Flow\" (import/export) is to be understood from the point of view of the \"Reporting Country\"\n",
    "export_data = trade_data.loc[trade_data['Trade Flow']==\"Import\", ['Reporter ISO', 'Commodity Code', 'Commodity', 'Trade Value (US$)']]\n",
    "\n",
    "# groupby country region\n",
    "country_grouping_modified = pd.read_csv(os.path.join(input_folder, \"Structured\", \"Trade\", \"country_grouping_modified.csv\"))\n",
    "export_data = export_data.merge(country_grouping_modified[['alpha-3', \"region\"]], how=\"left\", left_on=\"Reporter ISO\", right_on=\"alpha-3\")\n",
    "export_data = export_data.groupby(['region', \"Commodity Code\"])['Trade Value (US$)'].sum().reset_index()\n",
    "\n",
    "# map sectors\n",
    "H3_to_Sector = pd.read_csv(os.path.join(input_folder, \"Structured\", \"Trade\", \"H3_to_Sector.csv\")).set_index('Commodity Code')['sector_code']\n",
    "sector_to_trigram = pd.read_csv(os.path.join(input_folder, \"Structured\", \"Sectors\", \"sector_trigram.csv\")).set_index('id')['trigram']\n",
    "export_data['sector_code'] = export_data['Commodity Code'].map(H3_to_Sector)\n",
    "\n",
    "print(\"Check unmapped sectors\")\n",
    "print(export_data[export_data[\"sector_code\"].isnull()])\n",
    "print(\"Represents \"+\"{:,.2f}%\".format(100*export_data.loc[export_data[\"sector_code\"].isnull(), 'Trade Value (US$)'].sum()/export_data['Trade Value (US$)'].sum()))\n",
    "print(\"Skip them\")\n",
    "export_data = export_data[~export_data['sector_code'].isnull()]\n",
    "export_data['sector_code'] = export_data['sector_code'].astype(int)\n",
    "export_data['sector'] = export_data['sector_code'].map(sector_to_trigram)\n",
    "print(export_data.head())\n",
    "export_data = export_data.groupby(['region', 'sector'])['Trade Value (US$)'].sum().unstack(level=0)\n",
    "\n",
    "# map country name\n",
    "country_dic = pd.read_csv(os.path.join(input_folder, \"Structured\", \"Trade\", \"country_table.csv\")).set_index('country_name')['trigram'].to_dict()\n",
    "country_dic['Americas'] = country_dic['America'] #there is an S in the orignal table\n",
    "export_data = export_data.rename(columns=country_dic)\n",
    "export_data = export_data[export_data.columns.sort_values()]\n",
    "\n",
    "# get all sector, set to 0\n",
    "all_sectors = pd.read_csv(os.path.join(input_folder, \"Structured\", \"Sectors\", \"sector_table.csv\"))[['sector']]\n",
    "export_data = export_data.reset_index().merge(all_sectors, how=\"right\", on=\"sector\")\n",
    "export_data = export_data.set_index('sector').fillna(0)\n",
    "export_data\n",
    "\n",
    "# export\n",
    "#export_data.transpose().to_csv(os.path.join(folder, \"Data\", \"Structured\", \"Trade\", \"export_table.csv\"))"
   ]
  },
  {
   "cell_type": "markdown",
   "metadata": {},
   "source": [
    "# Produce import table"
   ]
  },
  {
   "cell_type": "code",
   "execution_count": 41,
   "metadata": {},
   "outputs": [
    {
     "data": {
      "text/plain": [
       "(16190, 35)"
      ]
     },
     "execution_count": 41,
     "metadata": {},
     "output_type": "execute_result"
    }
   ],
   "source": [
    "# Get data from multiple files\n",
    "input_folder = os.path.join('..', '..', '..', 'Ecuador', 'Data')\n",
    "trade_data_folder = os.path.join(input_folder, \"Raw\", \"Trade\", \"AG4_multiple_extract\")\n",
    "trade_data = [filename for filename in os.listdir(trade_data_folder) if filename[-4:] == \".csv\"]\n",
    "trade_data = pd.concat([pd.read_csv(os.path.join(trade_data_folder, filename)) for filename in trade_data])\n",
    "condition = trade_data['Classification'] != \"No data matches your query or your query is too complex. Request JSON or XML format for more information.\"\n",
    "trade_data = trade_data[condition]\n",
    "trade_data.shape"
   ]
  },
  {
   "cell_type": "code",
   "execution_count": 46,
   "metadata": {},
   "outputs": [],
   "source": [
    "#trade_data.to_csv(os.path.join(input_folder, \"Raw\", \"Trade\", \"comtrade_2016_AG4_exports_Ecuador_as_partner.csv\"), index=False)"
   ]
  },
  {
   "cell_type": "code",
   "execution_count": 6,
   "metadata": {},
   "outputs": [
    {
     "name": "stdout",
     "output_type": "stream",
     "text": [
      "Check unmapped sectors\n",
      "     region  Commodity Code  Trade Value (US$) sector\n",
      "63      AFR          6908.0             1516.0    NaN\n",
      "635     ASI          6908.0          1399296.0    NaN\n",
      "840     ASI          8469.0             9186.0    NaN\n",
      "2051    COL          6908.0          8216421.0    NaN\n",
      "2936    EUR          6908.0          5604465.0    NaN\n",
      "3915    NAM          6908.0             6716.0    NaN\n",
      "4892    PER          6908.0          5375183.0    NaN\n",
      "5545    SAM          6908.0           252455.0    NaN\n",
      "Represents 0.14%\n",
      "Skip them\n"
     ]
    }
   ],
   "source": [
    "input_folder = os.path.join('..', '..', '..', 'Ecuador', 'Data')\n",
    "trade_data = pd.read_csv(os.path.join(input_folder, \"Raw\", \"Trade\", \"comtrade_2016_AG4_exports_Ecuador_as_partner.csv\"))\n",
    "\n",
    "# because we chose \"Cambodia as Partner\", the \"Trade Flow\" (import/export) is to be understood from the point of view of the \"Reporting Country\"\n",
    "# so we select 'export' as trade flow\n",
    "export_data = trade_data.loc[trade_data['Trade Flow']==\"Export\", ['Reporter ISO', 'Commodity Code', 'Commodity', 'Trade Value (US$)']]\n",
    "\n",
    "# groupby country region\n",
    "country_grouping_modified = pd.read_csv(os.path.join(input_folder, \"Structured\", \"Trade\", \"country_grouping_ecuador.csv\"))\n",
    "export_data = export_data.merge(country_grouping_modified[['alpha-3', \"region\"]], how=\"left\", left_on=\"Reporter ISO\", right_on=\"alpha-3\")\n",
    "export_data = export_data.groupby(['region', \"Commodity Code\"])['Trade Value (US$)'].sum().reset_index()\n",
    "\n",
    "# map sectors\n",
    "H3_to_Sector = pd.read_csv(os.path.join(input_folder, \"Structured\", \"Trade\", \"HS17lvl4_to_59sectors.csv\")).set_index('hs17_lvl4_code')['trigram']\n",
    "export_data['sector'] = export_data['Commodity Code'].map(H3_to_Sector)\n",
    "print(\"Check unmapped sectors\")\n",
    "print(export_data[export_data[\"sector\"].isnull()])\n",
    "print(\"Represents \"+\"{:,.2f}%\".format(100*export_data.loc[export_data[\"sector\"].isnull(), 'Trade Value (US$)'].sum()/export_data['Trade Value (US$)'].sum()))\n",
    "print(\"Skip them\")\n",
    "export_data = export_data[~export_data['sector'].isnull()]\n",
    "\n",
    "# aggregate\n",
    "export_data = export_data.groupby(['region', 'sector'])['Trade Value (US$)'].sum().unstack(level=0)\n",
    "\n",
    "# add other sectors with 0\n",
    "all_sectors = pd.read_csv(os.path.join(input_folder, \"Structured\", \"Sectors\", \"61sector_table.csv\"))[['trigram']].set_index('trigram')\n",
    "export_data = pd.concat([all_sectors, export_data], axis=1).fillna(0)\n",
    "\n",
    "# turn into kUSD\n",
    "export_data = export_data / 1000\n",
    "\n",
    "# export\n",
    "export_data.transpose().to_csv(os.path.join(output_folder, \"59sector_import_table.csv\"))"
   ]
  },
  {
   "cell_type": "markdown",
   "metadata": {
    "tags": []
   },
   "source": [
    "### Legacy - Cambodia"
   ]
  },
  {
   "cell_type": "code",
   "execution_count": 49,
   "metadata": {},
   "outputs": [
    {
     "name": "stdout",
     "output_type": "stream",
     "text": [
      "Check unmapped sectors\n",
      "       region  Commodity Code  Trade Value (US$)  sector_code\n",
      "41     Africa              99              11944          NaN\n",
      "124  Americas              99            3611327          NaN\n",
      "221      Asia              99           18524435          NaN\n",
      "312    Europe              99            4215140          NaN\n",
      "385   Oceania              99            1633929          NaN\n",
      "564  Viet Nam              99             243218          NaN\n",
      "Represents 0.15%\n",
      "Skip them\n"
     ]
    }
   ],
   "source": [
    "trade_data = pd.read_csv(os.path.join(folder, \"Data\", \"Raw\", \"Trade\", \"comtrade_2015_CambodiaAsPartner_HS07_H3.csv\"))\n",
    "\n",
    "# because we chose \"Cambodia as Partner\", the \"Trade Flow\" (import/export) is to be understood from the point of view of the \"Reporting Country\"\n",
    "import_data = trade_data.loc[trade_data['Trade Flow']==\"Export\", ['Reporter ISO', 'Commodity Code', 'Commodity', 'Trade Value (US$)']]\n",
    "\n",
    "# groupby country region\n",
    "country_grouping_modified = pd.read_csv(os.path.join(folder, \"Data\", \"Raw\", \"Trade\", \"country_grouping_modified.csv\"))\n",
    "import_data = import_data.merge(country_grouping_modified[['alpha-3', \"region\"]], how=\"left\", left_on=\"Reporter ISO\", right_on=\"alpha-3\")\n",
    "import_data = import_data.groupby(['region', \"Commodity Code\"])['Trade Value (US$)'].sum().reset_index()\n",
    "\n",
    "# map sectors\n",
    "H3_to_Sector = pd.read_csv(os.path.join(folder, \"Data\", \"Raw\", \"Trade\", \"H3_to_Sector.csv\")).set_index('Commodity Code')['sector_code']\n",
    "sector_to_trigram = pd.read_csv(os.path.join(folder, \"Data\", \"Structured\", \"InputOutputTable\", \"sector_trigram.csv\")).set_index('id')['trigram']\n",
    "import_data['sector_code'] = import_data['Commodity Code'].map(H3_to_Sector)\n",
    "print(\"Check unmapped sectors\")\n",
    "print(import_data[import_data[\"sector_code\"].isnull()])\n",
    "print(\"Represents \"+\"{:,.2f}%\".format(100*import_data.loc[import_data[\"sector_code\"].isnull(), 'Trade Value (US$)'].sum()/import_data['Trade Value (US$)'].sum()))\n",
    "print(\"Skip them\")\n",
    "import_data = import_data[~import_data['sector_code'].isnull()]\n",
    "import_data['sector_code'] = import_data['sector_code'].astype(int)\n",
    "import_data['sector'] = import_data['sector_code'].map(sector_to_trigram)\n",
    "import_data = import_data.groupby(['region', 'sector'])['Trade Value (US$)'].sum().unstack(level=0)\n",
    "\n",
    "# map country name\n",
    "country_dic = pd.read_csv(os.path.join(folder, \"Data\", \"Structured\", \"Trade\", \"country_table.csv\")).set_index('country_name')['trigram'].to_dict()\n",
    "country_dic['Americas'] = country_dic['America'] #there is an S in the orignal table\n",
    "import_data = import_data.rename(columns=country_dic)\n",
    "import_data = import_data[import_data.columns.sort_values()]\n",
    "\n",
    "# get all sector, set to 0\n",
    "all_sectors = pd.read_csv(os.path.join(folder, \"Data\", \"Structured\", \"InputOutputTable\", \"sector_table.csv\"))[['sector']]\n",
    "import_data = import_data.reset_index().merge(all_sectors, how=\"right\", on=\"sector\")\n",
    "import_data = import_data.set_index('sector').fillna(0)\n",
    "export_data\n",
    "\n",
    "# export\n",
    "import_data.transpose().to_csv(os.path.join(folder, \"Data\", \"Structured\", \"Trade\", \"import_table.csv\"))"
   ]
  },
  {
   "cell_type": "markdown",
   "metadata": {},
   "source": [
    "#  USD per ton"
   ]
  },
  {
   "cell_type": "code",
   "execution_count": 16,
   "metadata": {},
   "outputs": [
    {
     "data": {
      "text/html": [
       "<div>\n",
       "<style scoped>\n",
       "    .dataframe tbody tr th:only-of-type {\n",
       "        vertical-align: middle;\n",
       "    }\n",
       "\n",
       "    .dataframe tbody tr th {\n",
       "        vertical-align: top;\n",
       "    }\n",
       "\n",
       "    .dataframe thead th {\n",
       "        text-align: right;\n",
       "    }\n",
       "</style>\n",
       "<table border=\"1\" class=\"dataframe\">\n",
       "  <thead>\n",
       "    <tr style=\"text-align: right;\">\n",
       "      <th></th>\n",
       "      <th>isic4_map</th>\n",
       "      <th>Description</th>\n",
       "    </tr>\n",
       "  </thead>\n",
       "  <tbody>\n",
       "    <tr>\n",
       "      <th>56</th>\n",
       "      <td>05</td>\n",
       "      <td>Mining of coal and lignite</td>\n",
       "    </tr>\n",
       "    <tr>\n",
       "      <th>57</th>\n",
       "      <td>051</td>\n",
       "      <td>Mining of hard coal</td>\n",
       "    </tr>\n",
       "    <tr>\n",
       "      <th>58</th>\n",
       "      <td>0510</td>\n",
       "      <td>Mining of hard coal</td>\n",
       "    </tr>\n",
       "    <tr>\n",
       "      <th>59</th>\n",
       "      <td>052</td>\n",
       "      <td>Mining of lignite</td>\n",
       "    </tr>\n",
       "    <tr>\n",
       "      <th>60</th>\n",
       "      <td>0520</td>\n",
       "      <td>Mining of lignite</td>\n",
       "    </tr>\n",
       "    <tr>\n",
       "      <th>95</th>\n",
       "      <td>105</td>\n",
       "      <td>Manufacture of dairy products</td>\n",
       "    </tr>\n",
       "    <tr>\n",
       "      <th>96</th>\n",
       "      <td>1050</td>\n",
       "      <td>Manufacture of dairy products</td>\n",
       "    </tr>\n",
       "  </tbody>\n",
       "</table>\n",
       "</div>"
      ],
      "text/plain": [
       "   isic4_map                    Description\n",
       "56        05     Mining of coal and lignite\n",
       "57       051            Mining of hard coal\n",
       "58      0510            Mining of hard coal\n",
       "59       052              Mining of lignite\n",
       "60      0520              Mining of lignite\n",
       "95       105  Manufacture of dairy products\n",
       "96      1050  Manufacture of dairy products"
      ]
     },
     "execution_count": 16,
     "metadata": {},
     "output_type": "execute_result"
    }
   ],
   "source": [
    "isic[isic['isic4_map'].str.contains('05')]"
   ]
  },
  {
   "cell_type": "code",
   "execution_count": 2,
   "metadata": {},
   "outputs": [
    {
     "ename": "FileNotFoundError",
     "evalue": "[Errno 2] No such file or directory: '..\\\\..\\\\..\\\\Cambodia\\\\Data\\\\Raw\\\\Trade\\\\ISIC_Rev4.csv'",
     "output_type": "error",
     "traceback": [
      "\u001b[1;31m---------------------------------------------------------------------------\u001b[0m",
      "\u001b[1;31mFileNotFoundError\u001b[0m                         Traceback (most recent call last)",
      "\u001b[1;32m~\\AppData\\Local\\Temp/ipykernel_6868/3166490292.py\u001b[0m in \u001b[0;36m<module>\u001b[1;34m\u001b[0m\n\u001b[1;32m----> 1\u001b[1;33m \u001b[0misic\u001b[0m \u001b[1;33m=\u001b[0m \u001b[0mpd\u001b[0m\u001b[1;33m.\u001b[0m\u001b[0mread_csv\u001b[0m\u001b[1;33m(\u001b[0m\u001b[0mos\u001b[0m\u001b[1;33m.\u001b[0m\u001b[0mpath\u001b[0m\u001b[1;33m.\u001b[0m\u001b[0mjoin\u001b[0m\u001b[1;33m(\u001b[0m\u001b[0minput_folder\u001b[0m\u001b[1;33m,\u001b[0m \u001b[1;34m\"Raw\"\u001b[0m\u001b[1;33m,\u001b[0m \u001b[1;34m\"Trade\"\u001b[0m\u001b[1;33m,\u001b[0m \u001b[1;34m\"ISIC_Rev4.csv\"\u001b[0m\u001b[1;33m)\u001b[0m\u001b[1;33m)\u001b[0m\u001b[1;33m.\u001b[0m\u001b[0mrename\u001b[0m\u001b[1;33m(\u001b[0m\u001b[0mcolumns\u001b[0m\u001b[1;33m=\u001b[0m\u001b[1;33m{\u001b[0m\u001b[1;34m\"Code\"\u001b[0m\u001b[1;33m:\u001b[0m \u001b[1;34m\"isic4_map\"\u001b[0m\u001b[1;33m}\u001b[0m\u001b[1;33m)\u001b[0m\u001b[1;33m\u001b[0m\u001b[1;33m\u001b[0m\u001b[0m\n\u001b[0m\u001b[0;32m      2\u001b[0m \u001b[0mjose_mapping\u001b[0m \u001b[1;33m=\u001b[0m \u001b[0mpd\u001b[0m\u001b[1;33m.\u001b[0m\u001b[0mread_csv\u001b[0m\u001b[1;33m(\u001b[0m\u001b[0mos\u001b[0m\u001b[1;33m.\u001b[0m\u001b[0mpath\u001b[0m\u001b[1;33m.\u001b[0m\u001b[0mjoin\u001b[0m\u001b[1;33m(\u001b[0m\u001b[0minput_folder\u001b[0m\u001b[1;33m,\u001b[0m \u001b[1;34m\"Structured\"\u001b[0m\u001b[1;33m,\u001b[0m \u001b[1;34m\"JoseCanton\"\u001b[0m\u001b[1;33m,\u001b[0m \u001b[1;34m\"v2\"\u001b[0m\u001b[1;33m,\u001b[0m \u001b[1;34m\"merged_mapping.csv\"\u001b[0m\u001b[1;33m)\u001b[0m\u001b[1;33m)\u001b[0m\u001b[1;33m.\u001b[0m\u001b[0mdrop\u001b[0m\u001b[1;33m(\u001b[0m\u001b[0mcolumns\u001b[0m\u001b[1;33m=\u001b[0m\u001b[1;33m[\u001b[0m\u001b[1;34m'Unnamed: 0'\u001b[0m\u001b[1;33m]\u001b[0m\u001b[1;33m)\u001b[0m\u001b[1;33m\u001b[0m\u001b[1;33m\u001b[0m\u001b[0m\n\u001b[0;32m      3\u001b[0m \u001b[0mjose_mapping\u001b[0m\u001b[1;33m[\u001b[0m\u001b[1;34m'isic4_map'\u001b[0m\u001b[1;33m]\u001b[0m \u001b[1;33m=\u001b[0m \u001b[0mjose_mapping\u001b[0m\u001b[1;33m[\u001b[0m\u001b[1;34m'isic4'\u001b[0m\u001b[1;33m]\u001b[0m\u001b[1;33m.\u001b[0m\u001b[0mstr\u001b[0m\u001b[1;33m[\u001b[0m\u001b[1;36m1\u001b[0m\u001b[1;33m:\u001b[0m\u001b[1;33m]\u001b[0m\u001b[1;33m\u001b[0m\u001b[1;33m\u001b[0m\u001b[0m\n\u001b[0;32m      4\u001b[0m pd.merge(\n\u001b[0;32m      5\u001b[0m     \u001b[0mjose_mapping\u001b[0m\u001b[1;33m,\u001b[0m\u001b[1;33m\u001b[0m\u001b[1;33m\u001b[0m\u001b[0m\n",
      "\u001b[1;32m~\\Anaconda3\\envs\\geo_env\\lib\\site-packages\\pandas\\util\\_decorators.py\u001b[0m in \u001b[0;36mwrapper\u001b[1;34m(*args, **kwargs)\u001b[0m\n\u001b[0;32m    309\u001b[0m                     \u001b[0mstacklevel\u001b[0m\u001b[1;33m=\u001b[0m\u001b[0mstacklevel\u001b[0m\u001b[1;33m,\u001b[0m\u001b[1;33m\u001b[0m\u001b[1;33m\u001b[0m\u001b[0m\n\u001b[0;32m    310\u001b[0m                 )\n\u001b[1;32m--> 311\u001b[1;33m             \u001b[1;32mreturn\u001b[0m \u001b[0mfunc\u001b[0m\u001b[1;33m(\u001b[0m\u001b[1;33m*\u001b[0m\u001b[0margs\u001b[0m\u001b[1;33m,\u001b[0m \u001b[1;33m**\u001b[0m\u001b[0mkwargs\u001b[0m\u001b[1;33m)\u001b[0m\u001b[1;33m\u001b[0m\u001b[1;33m\u001b[0m\u001b[0m\n\u001b[0m\u001b[0;32m    312\u001b[0m \u001b[1;33m\u001b[0m\u001b[0m\n\u001b[0;32m    313\u001b[0m         \u001b[1;32mreturn\u001b[0m \u001b[0mwrapper\u001b[0m\u001b[1;33m\u001b[0m\u001b[1;33m\u001b[0m\u001b[0m\n",
      "\u001b[1;32m~\\Anaconda3\\envs\\geo_env\\lib\\site-packages\\pandas\\io\\parsers\\readers.py\u001b[0m in \u001b[0;36mread_csv\u001b[1;34m(filepath_or_buffer, sep, delimiter, header, names, index_col, usecols, squeeze, prefix, mangle_dupe_cols, dtype, engine, converters, true_values, false_values, skipinitialspace, skiprows, skipfooter, nrows, na_values, keep_default_na, na_filter, verbose, skip_blank_lines, parse_dates, infer_datetime_format, keep_date_col, date_parser, dayfirst, cache_dates, iterator, chunksize, compression, thousands, decimal, lineterminator, quotechar, quoting, doublequote, escapechar, comment, encoding, encoding_errors, dialect, error_bad_lines, warn_bad_lines, on_bad_lines, delim_whitespace, low_memory, memory_map, float_precision, storage_options)\u001b[0m\n\u001b[0;32m    584\u001b[0m     \u001b[0mkwds\u001b[0m\u001b[1;33m.\u001b[0m\u001b[0mupdate\u001b[0m\u001b[1;33m(\u001b[0m\u001b[0mkwds_defaults\u001b[0m\u001b[1;33m)\u001b[0m\u001b[1;33m\u001b[0m\u001b[1;33m\u001b[0m\u001b[0m\n\u001b[0;32m    585\u001b[0m \u001b[1;33m\u001b[0m\u001b[0m\n\u001b[1;32m--> 586\u001b[1;33m     \u001b[1;32mreturn\u001b[0m \u001b[0m_read\u001b[0m\u001b[1;33m(\u001b[0m\u001b[0mfilepath_or_buffer\u001b[0m\u001b[1;33m,\u001b[0m \u001b[0mkwds\u001b[0m\u001b[1;33m)\u001b[0m\u001b[1;33m\u001b[0m\u001b[1;33m\u001b[0m\u001b[0m\n\u001b[0m\u001b[0;32m    587\u001b[0m \u001b[1;33m\u001b[0m\u001b[0m\n\u001b[0;32m    588\u001b[0m \u001b[1;33m\u001b[0m\u001b[0m\n",
      "\u001b[1;32m~\\Anaconda3\\envs\\geo_env\\lib\\site-packages\\pandas\\io\\parsers\\readers.py\u001b[0m in \u001b[0;36m_read\u001b[1;34m(filepath_or_buffer, kwds)\u001b[0m\n\u001b[0;32m    480\u001b[0m \u001b[1;33m\u001b[0m\u001b[0m\n\u001b[0;32m    481\u001b[0m     \u001b[1;31m# Create the parser.\u001b[0m\u001b[1;33m\u001b[0m\u001b[1;33m\u001b[0m\u001b[1;33m\u001b[0m\u001b[0m\n\u001b[1;32m--> 482\u001b[1;33m     \u001b[0mparser\u001b[0m \u001b[1;33m=\u001b[0m \u001b[0mTextFileReader\u001b[0m\u001b[1;33m(\u001b[0m\u001b[0mfilepath_or_buffer\u001b[0m\u001b[1;33m,\u001b[0m \u001b[1;33m**\u001b[0m\u001b[0mkwds\u001b[0m\u001b[1;33m)\u001b[0m\u001b[1;33m\u001b[0m\u001b[1;33m\u001b[0m\u001b[0m\n\u001b[0m\u001b[0;32m    483\u001b[0m \u001b[1;33m\u001b[0m\u001b[0m\n\u001b[0;32m    484\u001b[0m     \u001b[1;32mif\u001b[0m \u001b[0mchunksize\u001b[0m \u001b[1;32mor\u001b[0m \u001b[0miterator\u001b[0m\u001b[1;33m:\u001b[0m\u001b[1;33m\u001b[0m\u001b[1;33m\u001b[0m\u001b[0m\n",
      "\u001b[1;32m~\\Anaconda3\\envs\\geo_env\\lib\\site-packages\\pandas\\io\\parsers\\readers.py\u001b[0m in \u001b[0;36m__init__\u001b[1;34m(self, f, engine, **kwds)\u001b[0m\n\u001b[0;32m    809\u001b[0m             \u001b[0mself\u001b[0m\u001b[1;33m.\u001b[0m\u001b[0moptions\u001b[0m\u001b[1;33m[\u001b[0m\u001b[1;34m\"has_index_names\"\u001b[0m\u001b[1;33m]\u001b[0m \u001b[1;33m=\u001b[0m \u001b[0mkwds\u001b[0m\u001b[1;33m[\u001b[0m\u001b[1;34m\"has_index_names\"\u001b[0m\u001b[1;33m]\u001b[0m\u001b[1;33m\u001b[0m\u001b[1;33m\u001b[0m\u001b[0m\n\u001b[0;32m    810\u001b[0m \u001b[1;33m\u001b[0m\u001b[0m\n\u001b[1;32m--> 811\u001b[1;33m         \u001b[0mself\u001b[0m\u001b[1;33m.\u001b[0m\u001b[0m_engine\u001b[0m \u001b[1;33m=\u001b[0m \u001b[0mself\u001b[0m\u001b[1;33m.\u001b[0m\u001b[0m_make_engine\u001b[0m\u001b[1;33m(\u001b[0m\u001b[0mself\u001b[0m\u001b[1;33m.\u001b[0m\u001b[0mengine\u001b[0m\u001b[1;33m)\u001b[0m\u001b[1;33m\u001b[0m\u001b[1;33m\u001b[0m\u001b[0m\n\u001b[0m\u001b[0;32m    812\u001b[0m \u001b[1;33m\u001b[0m\u001b[0m\n\u001b[0;32m    813\u001b[0m     \u001b[1;32mdef\u001b[0m \u001b[0mclose\u001b[0m\u001b[1;33m(\u001b[0m\u001b[0mself\u001b[0m\u001b[1;33m)\u001b[0m\u001b[1;33m:\u001b[0m\u001b[1;33m\u001b[0m\u001b[1;33m\u001b[0m\u001b[0m\n",
      "\u001b[1;32m~\\Anaconda3\\envs\\geo_env\\lib\\site-packages\\pandas\\io\\parsers\\readers.py\u001b[0m in \u001b[0;36m_make_engine\u001b[1;34m(self, engine)\u001b[0m\n\u001b[0;32m   1038\u001b[0m             )\n\u001b[0;32m   1039\u001b[0m         \u001b[1;31m# error: Too many arguments for \"ParserBase\"\u001b[0m\u001b[1;33m\u001b[0m\u001b[1;33m\u001b[0m\u001b[1;33m\u001b[0m\u001b[0m\n\u001b[1;32m-> 1040\u001b[1;33m         \u001b[1;32mreturn\u001b[0m \u001b[0mmapping\u001b[0m\u001b[1;33m[\u001b[0m\u001b[0mengine\u001b[0m\u001b[1;33m]\u001b[0m\u001b[1;33m(\u001b[0m\u001b[0mself\u001b[0m\u001b[1;33m.\u001b[0m\u001b[0mf\u001b[0m\u001b[1;33m,\u001b[0m \u001b[1;33m**\u001b[0m\u001b[0mself\u001b[0m\u001b[1;33m.\u001b[0m\u001b[0moptions\u001b[0m\u001b[1;33m)\u001b[0m  \u001b[1;31m# type: ignore[call-arg]\u001b[0m\u001b[1;33m\u001b[0m\u001b[1;33m\u001b[0m\u001b[0m\n\u001b[0m\u001b[0;32m   1041\u001b[0m \u001b[1;33m\u001b[0m\u001b[0m\n\u001b[0;32m   1042\u001b[0m     \u001b[1;32mdef\u001b[0m \u001b[0m_failover_to_python\u001b[0m\u001b[1;33m(\u001b[0m\u001b[0mself\u001b[0m\u001b[1;33m)\u001b[0m\u001b[1;33m:\u001b[0m\u001b[1;33m\u001b[0m\u001b[1;33m\u001b[0m\u001b[0m\n",
      "\u001b[1;32m~\\Anaconda3\\envs\\geo_env\\lib\\site-packages\\pandas\\io\\parsers\\c_parser_wrapper.py\u001b[0m in \u001b[0;36m__init__\u001b[1;34m(self, src, **kwds)\u001b[0m\n\u001b[0;32m     49\u001b[0m \u001b[1;33m\u001b[0m\u001b[0m\n\u001b[0;32m     50\u001b[0m         \u001b[1;31m# open handles\u001b[0m\u001b[1;33m\u001b[0m\u001b[1;33m\u001b[0m\u001b[1;33m\u001b[0m\u001b[0m\n\u001b[1;32m---> 51\u001b[1;33m         \u001b[0mself\u001b[0m\u001b[1;33m.\u001b[0m\u001b[0m_open_handles\u001b[0m\u001b[1;33m(\u001b[0m\u001b[0msrc\u001b[0m\u001b[1;33m,\u001b[0m \u001b[0mkwds\u001b[0m\u001b[1;33m)\u001b[0m\u001b[1;33m\u001b[0m\u001b[1;33m\u001b[0m\u001b[0m\n\u001b[0m\u001b[0;32m     52\u001b[0m         \u001b[1;32massert\u001b[0m \u001b[0mself\u001b[0m\u001b[1;33m.\u001b[0m\u001b[0mhandles\u001b[0m \u001b[1;32mis\u001b[0m \u001b[1;32mnot\u001b[0m \u001b[1;32mNone\u001b[0m\u001b[1;33m\u001b[0m\u001b[1;33m\u001b[0m\u001b[0m\n\u001b[0;32m     53\u001b[0m \u001b[1;33m\u001b[0m\u001b[0m\n",
      "\u001b[1;32m~\\Anaconda3\\envs\\geo_env\\lib\\site-packages\\pandas\\io\\parsers\\base_parser.py\u001b[0m in \u001b[0;36m_open_handles\u001b[1;34m(self, src, kwds)\u001b[0m\n\u001b[0;32m    220\u001b[0m         \u001b[0mLet\u001b[0m \u001b[0mthe\u001b[0m \u001b[0mreaders\u001b[0m \u001b[0mopen\u001b[0m \u001b[0mIOHandles\u001b[0m \u001b[0mafter\u001b[0m \u001b[0mthey\u001b[0m \u001b[0mare\u001b[0m \u001b[0mdone\u001b[0m \u001b[1;32mwith\u001b[0m \u001b[0mtheir\u001b[0m \u001b[0mpotential\u001b[0m \u001b[0mraises\u001b[0m\u001b[1;33m.\u001b[0m\u001b[1;33m\u001b[0m\u001b[1;33m\u001b[0m\u001b[0m\n\u001b[0;32m    221\u001b[0m         \"\"\"\n\u001b[1;32m--> 222\u001b[1;33m         self.handles = get_handle(\n\u001b[0m\u001b[0;32m    223\u001b[0m             \u001b[0msrc\u001b[0m\u001b[1;33m,\u001b[0m\u001b[1;33m\u001b[0m\u001b[1;33m\u001b[0m\u001b[0m\n\u001b[0;32m    224\u001b[0m             \u001b[1;34m\"r\"\u001b[0m\u001b[1;33m,\u001b[0m\u001b[1;33m\u001b[0m\u001b[1;33m\u001b[0m\u001b[0m\n",
      "\u001b[1;32m~\\Anaconda3\\envs\\geo_env\\lib\\site-packages\\pandas\\io\\common.py\u001b[0m in \u001b[0;36mget_handle\u001b[1;34m(path_or_buf, mode, encoding, compression, memory_map, is_text, errors, storage_options)\u001b[0m\n\u001b[0;32m    699\u001b[0m         \u001b[1;32mif\u001b[0m \u001b[0mioargs\u001b[0m\u001b[1;33m.\u001b[0m\u001b[0mencoding\u001b[0m \u001b[1;32mand\u001b[0m \u001b[1;34m\"b\"\u001b[0m \u001b[1;32mnot\u001b[0m \u001b[1;32min\u001b[0m \u001b[0mioargs\u001b[0m\u001b[1;33m.\u001b[0m\u001b[0mmode\u001b[0m\u001b[1;33m:\u001b[0m\u001b[1;33m\u001b[0m\u001b[1;33m\u001b[0m\u001b[0m\n\u001b[0;32m    700\u001b[0m             \u001b[1;31m# Encoding\u001b[0m\u001b[1;33m\u001b[0m\u001b[1;33m\u001b[0m\u001b[1;33m\u001b[0m\u001b[0m\n\u001b[1;32m--> 701\u001b[1;33m             handle = open(\n\u001b[0m\u001b[0;32m    702\u001b[0m                 \u001b[0mhandle\u001b[0m\u001b[1;33m,\u001b[0m\u001b[1;33m\u001b[0m\u001b[1;33m\u001b[0m\u001b[0m\n\u001b[0;32m    703\u001b[0m                 \u001b[0mioargs\u001b[0m\u001b[1;33m.\u001b[0m\u001b[0mmode\u001b[0m\u001b[1;33m,\u001b[0m\u001b[1;33m\u001b[0m\u001b[1;33m\u001b[0m\u001b[0m\n",
      "\u001b[1;31mFileNotFoundError\u001b[0m: [Errno 2] No such file or directory: '..\\\\..\\\\..\\\\Cambodia\\\\Data\\\\Raw\\\\Trade\\\\ISIC_Rev4.csv'"
     ]
    }
   ],
   "source": [
    "isic = pd.read_csv(os.path.join(input_folder, \"Raw\", \"Trade\", \"ISIC_Rev4.csv\")).rename(columns={\"Code\": \"isic4_map\"})\n",
    "jose_mapping = pd.read_csv(os.path.join(input_folder, \"Structured\", \"JoseCanton\", \"v2\", \"merged_mapping.csv\")).drop(columns=['Unnamed: 0'])\n",
    "jose_mapping['isic4_map'] = jose_mapping['isic4'].str[1:]\n",
    "pd.merge(\n",
    "    jose_mapping,\n",
    "    isic,\n",
    "    on=\"isic4_map\",\n",
    "    how=\"left\"\n",
    ").to_excel('jose_mapping.xlsx')"
   ]
  },
  {
   "cell_type": "code",
   "execution_count": 4,
   "metadata": {},
   "outputs": [
    {
     "data": {
      "text/html": [
       "<div>\n",
       "<style scoped>\n",
       "    .dataframe tbody tr th:only-of-type {\n",
       "        vertical-align: middle;\n",
       "    }\n",
       "\n",
       "    .dataframe tbody tr th {\n",
       "        vertical-align: top;\n",
       "    }\n",
       "\n",
       "    .dataframe thead th {\n",
       "        text-align: right;\n",
       "    }\n",
       "</style>\n",
       "<table border=\"1\" class=\"dataframe\">\n",
       "  <thead>\n",
       "    <tr style=\"text-align: right;\">\n",
       "      <th></th>\n",
       "      <th>Netweight (kg)</th>\n",
       "      <th>Trade Value (US$)</th>\n",
       "      <th>Commodity Code</th>\n",
       "      <th>Commodity</th>\n",
       "      <th>trigram</th>\n",
       "    </tr>\n",
       "  </thead>\n",
       "  <tbody>\n",
       "    <tr>\n",
       "      <th>0</th>\n",
       "      <td>55965.0</td>\n",
       "      <td>1090985</td>\n",
       "      <td>101</td>\n",
       "      <td>Horses, asses, mules and hinnies; live</td>\n",
       "      <td>GAN</td>\n",
       "    </tr>\n",
       "    <tr>\n",
       "      <th>1</th>\n",
       "      <td>220792.0</td>\n",
       "      <td>2335760</td>\n",
       "      <td>102</td>\n",
       "      <td>Bovine animals; live</td>\n",
       "      <td>GAN</td>\n",
       "    </tr>\n",
       "    <tr>\n",
       "      <th>2</th>\n",
       "      <td>25602.0</td>\n",
       "      <td>603215</td>\n",
       "      <td>103</td>\n",
       "      <td>Swine; live</td>\n",
       "      <td>GAN</td>\n",
       "    </tr>\n",
       "    <tr>\n",
       "      <th>3</th>\n",
       "      <td>165170.0</td>\n",
       "      <td>2928106</td>\n",
       "      <td>104</td>\n",
       "      <td>Sheep and goats; live</td>\n",
       "      <td>GAN</td>\n",
       "    </tr>\n",
       "    <tr>\n",
       "      <th>4</th>\n",
       "      <td>263443.0</td>\n",
       "      <td>19037864</td>\n",
       "      <td>105</td>\n",
       "      <td>Poultry; live, fowls of the species Gallus dom...</td>\n",
       "      <td>GAN</td>\n",
       "    </tr>\n",
       "    <tr>\n",
       "      <th>...</th>\n",
       "      <td>...</td>\n",
       "      <td>...</td>\n",
       "      <td>...</td>\n",
       "      <td>...</td>\n",
       "      <td>...</td>\n",
       "    </tr>\n",
       "    <tr>\n",
       "      <th>2020</th>\n",
       "      <td>4326229.0</td>\n",
       "      <td>14650349</td>\n",
       "      <td>9619</td>\n",
       "      <td>Sanitary towels (pads) and tampons, napkins an...</td>\n",
       "      <td>MAN</td>\n",
       "    </tr>\n",
       "    <tr>\n",
       "      <th>2021</th>\n",
       "      <td>602.0</td>\n",
       "      <td>11126</td>\n",
       "      <td>9701</td>\n",
       "      <td>Paintings, drawings, pastels, executed entirel...</td>\n",
       "      <td>MAN</td>\n",
       "    </tr>\n",
       "    <tr>\n",
       "      <th>2022</th>\n",
       "      <td>866.0</td>\n",
       "      <td>9600</td>\n",
       "      <td>9703</td>\n",
       "      <td>Sculptures and statuary; original, in any mate...</td>\n",
       "      <td>MAN</td>\n",
       "    </tr>\n",
       "    <tr>\n",
       "      <th>2023</th>\n",
       "      <td>27094.0</td>\n",
       "      <td>281466</td>\n",
       "      <td>9705</td>\n",
       "      <td>Collections and collectors' pieces; of zoologi...</td>\n",
       "      <td>MAN</td>\n",
       "    </tr>\n",
       "    <tr>\n",
       "      <th>2024</th>\n",
       "      <td>NaN</td>\n",
       "      <td>2948284</td>\n",
       "      <td>9999</td>\n",
       "      <td>Commodities not specified according to kind</td>\n",
       "      <td>MAN</td>\n",
       "    </tr>\n",
       "  </tbody>\n",
       "</table>\n",
       "<p>2025 rows × 5 columns</p>\n",
       "</div>"
      ],
      "text/plain": [
       "      Netweight (kg)  Trade Value (US$)  Commodity Code  \\\n",
       "0            55965.0            1090985             101   \n",
       "1           220792.0            2335760             102   \n",
       "2            25602.0             603215             103   \n",
       "3           165170.0            2928106             104   \n",
       "4           263443.0           19037864             105   \n",
       "...              ...                ...             ...   \n",
       "2020       4326229.0           14650349            9619   \n",
       "2021           602.0              11126            9701   \n",
       "2022           866.0               9600            9703   \n",
       "2023         27094.0             281466            9705   \n",
       "2024             NaN            2948284            9999   \n",
       "\n",
       "                                              Commodity trigram  \n",
       "0                Horses, asses, mules and hinnies; live     GAN  \n",
       "1                                  Bovine animals; live     GAN  \n",
       "2                                           Swine; live     GAN  \n",
       "3                                 Sheep and goats; live     GAN  \n",
       "4     Poultry; live, fowls of the species Gallus dom...     GAN  \n",
       "...                                                 ...     ...  \n",
       "2020  Sanitary towels (pads) and tampons, napkins an...     MAN  \n",
       "2021  Paintings, drawings, pastels, executed entirel...     MAN  \n",
       "2022  Sculptures and statuary; original, in any mate...     MAN  \n",
       "2023  Collections and collectors' pieces; of zoologi...     MAN  \n",
       "2024        Commodities not specified according to kind     MAN  \n",
       "\n",
       "[2025 rows x 5 columns]"
      ]
     },
     "execution_count": 4,
     "metadata": {},
     "output_type": "execute_result"
    }
   ],
   "source": [
    "df"
   ]
  },
  {
   "cell_type": "code",
   "execution_count": 16,
   "metadata": {},
   "outputs": [
    {
     "data": {
      "application/vnd.plotly.v1+json": {
       "config": {
        "plotlyServerURL": "https://plot.ly"
       },
       "data": [
        {
         "customdata": [
          [
           "Horses, asses, mules and hinnies; live"
          ],
          [
           "Bovine animals; live"
          ],
          [
           "Swine; live"
          ],
          [
           "Sheep and goats; live"
          ],
          [
           "Poultry; live, fowls of the species Gallus domesticus, ducks, geese, turkeys and guinea fowls"
          ],
          [
           "Animals; live, n.e.c. in chapter 01"
          ],
          [
           "Meat of bovine animals; fresh or chilled"
          ],
          [
           "Meat of bovine animals; frozen"
          ],
          [
           "Meat of swine; fresh, chilled or frozen"
          ],
          [
           "Meat of sheep or goats; fresh, chilled or frozen"
          ],
          [
           "Edible offal of bovine animals, swine, sheep, goats, horses, asses, mules or hinnies; fresh, chilled or frozen"
          ],
          [
           "Pig fat, free of lean meat, and poultry fat, not rendered or otherwise extracted, fresh, chilled, frozen, salted, in brine, dried or smoked"
          ],
          [
           "Meat and edible meat offal; salted, in brine, dried or smoked; edible flours and meals of meat or meat offal"
          ],
          [
           "Fish; fresh or chilled, excluding fish fillets and other fish meat of heading 0304"
          ],
          [
           "Fish; frozen, excluding fish fillets and other fish meat of heading 0304"
          ],
          [
           "Fish fillets and other fish meat (whether or not minced); fresh, chilled or frozen"
          ],
          [
           "Fish, dried, salted or in brine; smoked fish, whether or not cooked before or during the smoking process; flours, meals and pellets of fish, fit for human consumption"
          ],
          [
           "Crustaceans; in shell or not, live, fresh, chilled, frozen, dried, salted or in brine; smoked, cooked or not before or during smoking; in shell, steamed or boiled, whether or not chilled, frozen, dried, salted or in brine; edible flours, meals, pellets"
          ],
          [
           "Molluscs; whether in shell or not, live, fresh, chilled, frozen, dried, salted or in brine; smoked molluscs, whether in shell or not, cooked or not before or during the smoking process; flours, meals and pellets of molluscs, fit for human consumption"
          ],
          [
           "Milk and cream; concentrated or containing added sugar or other sweetening matter"
          ],
          [
           "Whey and products consisting of natural milk constituents; whether or not containing added sugar or other sweetening matter, not elsewhere specified or included"
          ],
          [
           "Butter and other fats and oils derived from milk; dairy spreads"
          ],
          [
           "Cheese and curd"
          ],
          [
           "Birds' eggs, in shell; fresh, preserved or cooked"
          ],
          [
           "Birds' eggs, not in shell; egg yolks, fresh, dried, cooked by steaming or boiling in water, moulded, frozen or otherwise preserved, whether or not containing added sugar or other sweetening matter"
          ],
          [
           "Pigs', hogs' or boars' bristles and hair; and waste thereof"
          ],
          [
           "Guts, bladders and stomachs of animals (other than fish); whole and pieces thereof, fresh, chilled, frozen, salted, in brine, dried or smoked"
          ],
          [
           "Coral and similar materials, unworked or simply prepared, shells of molluscs, crustaceans or echinoderms and cuttle-bone, not cut to shape powder and waste thereof"
          ],
          [
           "Animal products not elsewhere specified or included; dead animals of chapter 1 or 3, unfit for human consumption"
          ],
          [
           "Bulbs, tubers, tuberous roots, corms, crowns and rhizomes; dormant, in growth or in flower; chicory plants and roots other than roots of heading no. 1212"
          ],
          [
           "Plants, live; n.e.c. in heading no. 0601, (including their roots) cuttings and slips; mushroom spawn"
          ],
          [
           "Flowers; cut flowers and flower buds of a kind suitable for bouquets or for ornamental purposes, fresh, dried, dyed, bleached, impregnated or otherwise prepared"
          ],
          [
           "Foliage, branches and other parts of plants, without flowers or flower buds, and grasses, mosses and lichens; suitable for bouquets or for ornamental purposes, fresh, dried, dyed, bleached, impregnated etc."
          ],
          [
           "Onions, shallots, garlic, leeks and other alliaceous vegetables; fresh or chilled"
          ],
          [
           "Leguminous vegetables; shelled or unshelled, fresh or chilled"
          ],
          [
           "Vegetables; n.e.c. in chapter 07, fresh or chilled"
          ],
          [
           "Vegetables (uncooked or cooked by steaming or boiling in water); frozen"
          ],
          [
           "Vegetables provisionally preserved; (e.g. by sulphur dioxide gas, in brine, in sulphur water or in other preservative solutions), but unsuitable in that state for immediate consumption"
          ],
          [
           "Vegetables, dried; whole, cut, sliced, broken or in powder, but not further prepared"
          ],
          [
           "Vegetables, leguminous; shelled, whether or not skinned or split, dried"
          ],
          [
           "Manioc, arrowroot, salep, Jerusalem artichokes, sweet potatoes and similar roots and tubers with high starch or inulin content; fresh, chilled, frozen or dried, whether or not sliced or in the form of pellets; sago pith"
          ],
          [
           "Nuts, edible; coconuts, Brazil nuts and cashew nuts, fresh or dried, whether or not shelled or peeled"
          ],
          [
           "Nuts (excluding coconuts, Brazils and cashew nuts); fresh or dried, whether or not shelled or peeled"
          ],
          [
           "Bananas, including plantains; fresh or dried"
          ],
          [
           "Dates, figs, pineapples, avocados, guavas, mangoes and mangosteens; fresh or dried"
          ],
          [
           "Citrus fruit; fresh or dried"
          ],
          [
           "Grapes; fresh or dried"
          ],
          [
           "Melons (including watermelons) and papaws (papayas); fresh"
          ],
          [
           "Apples, pears and quinces; fresh"
          ],
          [
           "Apricots, cherries, peaches (including nectarines), plums and sloes, fresh"
          ],
          [
           "Fruit, fresh; n.e.c. in chapter 08"
          ],
          [
           "Fruit and nuts; uncooked or cooked by steaming or boiling in water, frozen, whether or not containing added sugar or other sweetening matter"
          ],
          [
           "Fruit, dried, other than that of heading no. 0801 to 0806; mixtures of nuts or dried fruits of this chapter"
          ],
          [
           "Peel of citrus fruit or melons (including watermelons); fresh, frozen dried or provisionally preserved in brine, in sulphur water or in other preservative solutions"
          ],
          [
           "Coffee, whether or not roasted or decaffeinated; husks and skins; coffee substitutes containing coffee in any proportion"
          ],
          [
           "Tea"
          ],
          [
           "Mate"
          ],
          [
           "Pepper of the genus piper; dried or crushed or ground fruits of the genus capsicum or of the genus pimenta"
          ],
          [
           "Cinnamon and cinnamon-tree flowers"
          ],
          [
           "Cloves (whole fruit, cloves and stems)"
          ],
          [
           "Nutmeg, mace and cardamoms"
          ],
          [
           "Seeds of anise, badian, fennel, coriander, cumin, caraway or juniper"
          ],
          [
           "Ginger, saffron, tumeric (curcuma), thyme, bay leaves, curry and other spices"
          ],
          [
           "Wheat and meslin"
          ],
          [
           "Barley"
          ],
          [
           "Oats"
          ],
          [
           "Maize (corn)"
          ],
          [
           "Rice"
          ],
          [
           "Buckwheat, millet and canary seeds; other cereals"
          ],
          [
           "Wheat or meslin flour"
          ],
          [
           "Cereal flours; other than of wheat or meslin"
          ],
          [
           "Cereal groats; meal and pellets"
          ],
          [
           "Cereal grains otherwise worked (e.g. hulled, rolled, flaked, pearled, sliced or kibbled) except rice of heading no. 1006; germ of cereals whole, rolled, flaked or ground"
          ],
          [
           "Flour, meal, powder, flakes, granules and pellets of potatoes"
          ],
          [
           "Flour, meal and powder; of the dried leguminous vegetables of heading no. 0713, of sago or of roots or tubers of heading no. 0714 or of the products of chapter 8"
          ],
          [
           "Malt; whether or not roasted"
          ],
          [
           "Starches; inulin"
          ],
          [
           "Wheat gluten; whether or not dried"
          ],
          [
           "Soya beans, whether or not broken"
          ],
          [
           "Ground-nuts; not roasted or otherwise cooked, whether or not shelled or broken"
          ],
          [
           "Oil seeds; linseed, whether or not broken"
          ],
          [
           "Rape or colza seeds; whether or not broken"
          ],
          [
           "Sunflower seeds; whether or not broken"
          ],
          [
           "Oil seeds and oleaginous fruits, n.e.c. in chapter 12; whether or not broken"
          ],
          [
           "Seeds, fruit and spores; of a kind used for sowing"
          ],
          [
           "Hop cones, fresh or dried, whether or not ground, powdered or in the form of pellets; lupulin"
          ],
          [
           "Plants and parts of plants (including seeds and fruits), used primarily in perfumery, pharmacy; for insecticidal, fungicidal or similar purposes, fresh or dried, whether or not crushed or powdered"
          ],
          [
           "Locust beans, seaweeds and other algae, sugar beet, sugar cane, fresh, chilled, frozen or dried, whether or not ground; fruit stones, kernels and other vegetable products (including unroasted chicory roots) used primarily for human consumption, n.e.c."
          ],
          [
           "Swedes, mangolds, fodder roots, hay, lucerne (alfalfa), clover, sainfoin, forage kale, lupines, vetches and similar forage products, whether or not in the form of pellets"
          ],
          [
           "Lac; natural gums, resins, gum-resins and oleoresins (for example, balsams)"
          ],
          [
           "Vegetable saps and extracts; pectic substances, pectinates and pectates; agar-agar and other mucilages and thickeners, whether or not modified, derived from vegetable products"
          ],
          [
           "Vegetable products not elsewhere specified or included"
          ],
          [
           "Pig fat (including lard) and poultry fat, other than that of heading 0209 or 1503"
          ],
          [
           "Fats and oils and their fractions of fish or marine mammals; whether or not refined, but not chemically modified"
          ],
          [
           "Wool grease and fatty substances derived therefrom (including lanolin)"
          ],
          [
           "Animal fats and oils and their fractions; whether or not refined, but not chemically modified, n.e.c. in chapter 15"
          ],
          [
           "Soya-bean oil and its fractions; whether or not refined, but not chemically modified"
          ],
          [
           "Olive oil and its fractions; whether or not refined, but not chemically modified"
          ],
          [
           "Oils and their fractions n.e.c. in chapter 15, obtained solely from olives, whether or not refined, but not chemically modified, including blends of these oils or fractions with oils or fractions of heading no. 1509"
          ],
          [
           "Palm oil and its fractions; whether or not refined, but not chemically modified"
          ],
          [
           "Sun-flower seed, safflower or cotton-seed oil and their fractions; whether or not refined, but not chemically modified"
          ],
          [
           "Coconut (copra), palm kernel or babassu oil and their fractions; whether or not refined but not chemically modified"
          ],
          [
           "Rape, colza or mustard oil and their fractions; whether or not refined, but not chemically modified"
          ],
          [
           "Fixed vegetable fats and oils (including jojoba oil) and their fractions, whether or not refined; but not chemically modified"
          ],
          [
           "Animal or vegetable fats and oils and their fractions; partly or wholly hydrogenated, inter-esterified, re-esterified or elaidinised, whether or not refined, but not further prepared"
          ],
          [
           "Margarine; edible mixtures or preparations of animal or vegetable fats or oils or of fractions of different fats or oils of this chapter, other than edible fats or oils of heading no. 1516"
          ],
          [
           "Animal or vegetable fats, oils, fractions, modified in any way, excluding heading no. 1516; inedible versions of animal or vegetable fats, oils or fractions of this chapter, n.e.c. or included"
          ],
          [
           "Vegetable waxes (other than triglycerides), beeswax, other insect waxes and spermaceti; whether or not refined or coloured"
          ],
          [
           "Degras; residues resulting from the treatment of fatty substances or animal or vegetable waxes"
          ],
          [
           "Sausages and similar products of meat, meat offal or blood; food preparations based on these products"
          ],
          [
           "Prepared or preserved meat, meat offal or blood"
          ],
          [
           "Extracts and juices of meat, fish or crustaceans, molluscs or other aquatic invertebrates"
          ],
          [
           "Prepared or preserved fish; caviar and caviar substitutes prepared from fish eggs"
          ],
          [
           "Crustaceans, molluscs and other aquatic invertebrates, prepared or preserved"
          ],
          [
           "Cane or beet sugar and chemically pure sucrose, in solid form"
          ],
          [
           "Sugars, including lactose, maltose, glucose or fructose in solid form; sugar syrups without added flavouring or colouring matter; artificial honey, whether or not mixed with natural honey; caramel"
          ],
          [
           "Molasses; resulting from the extraction or refining of sugar"
          ],
          [
           "Sugar confectionery (including white chocolate), not containing cocoa"
          ],
          [
           "Cocoa beans; whole or broken, raw or roasted"
          ],
          [
           "Cocoa; paste; whether or not defatted"
          ],
          [
           "Cocoa; butter, fat and oil"
          ],
          [
           "Cocoa; powder, not containing added sugar or other sweetening matter"
          ],
          [
           "Chocolate and other food preparations containing cocoa"
          ],
          [
           "Malt extract; flour/groats/meal/starch/malt extract products, no cocoa (or less than 40% by weight) and food preparations of goods of headings 04.01 to 04.04, no cocoa (or less than 5% by weight), weights calculated on a totally defatted basis, n.e.c."
          ],
          [
           "Pasta; whether or not cooked or stuffed with meat or other substance, or otherwise prepared, egg spaghetti, macaroni, noodles, lasagne, gnocchi, ravioli, cannelloni; couscous, whether or not prepared"
          ],
          [
           "Tapioca and substitutes therefor prepared from starch; in the form of flakes, grains, pearls, siftings or similar forms"
          ],
          [
           "Prepared foods obtained by swelling or roasting cereals or cereal products (e.g. corn flakes); cereals (other than maize (corn)) in grain form or in the form of flakes or other worked grains (not flour and meal), pre-cooked or otherwise prepared, n.e.c."
          ],
          [
           "Bread, pastry, cakes, biscuits, other bakers' wares, whether or not containing cocoa; communion wafers, empty cachets suitable for pharmaceutical use, sealing wafers, rice paper and similar products"
          ],
          [
           "Vegetables, fruit, nuts and other edible parts of plants; prepared or preserved by vinegar or acetic acid"
          ],
          [
           "Tomatoes; prepared or preserved otherwise than by vinegar or acetic acid"
          ],
          [
           "Mushrooms and truffles, prepared or preserved other than by vinegar or acetic acid"
          ],
          [
           "Vegetables preparations n.e.c.; prepared or preserved otherwise than by vinegar or acetic acid, frozen, other than products of heading no. 2006"
          ],
          [
           "Vegetables preparations n.e.c.; prepared or preserved otherwise than by vinegar or acetic acid, not frozen, other than products of heading no. 2006"
          ],
          [
           "Vegetables, fruit, nuts, fruit-peel and other parts of plants, preserved by sugar (drained, glace or crystallised)"
          ],
          [
           "Jams, fruit jellies, marmalades, fruit or nut puree and fruit or nut pastes, being cooked preparations; whether or not containing added sugar or other sweetening matter"
          ],
          [
           "Fruit, nuts and other edible parts of plants; prepared or preserved in ways n.e.c., whether or not containing added sugar or other sweetening matter or spirit, not elsewhere specified or included"
          ],
          [
           "Fruit juices (including grape must) and vegetable juices, unfermented, not containing added spirit; whether or not containing added sugar or other sweetening matter"
          ],
          [
           "Extracts, essences, concentrates of coffee, tea or mate; preparations with a basis of these products or with a basis of coffee, tea or mate; roasted chicory and other roasted coffee substitutes and extracts, essences and concentrates thereof"
          ],
          [
           "Yeasts (active or inactive); other single-cell micro-organisms, dead (but not including vaccines of heading no. 3002); prepared baking powders"
          ],
          [
           "Sauces and preparations therefor; mixed condiments and mixed seasonings, mustard flour and meal and prepared mustard"
          ],
          [
           "Soups and broths and preparations therefor; homogenised composite food preparations"
          ],
          [
           "Ice cream and other edible ice; whether or not containing cocoa"
          ],
          [
           "Food preparations not elsewhere specified or included"
          ],
          [
           "Waters, including natural or artificial mineral waters and aerated waters, not containing added sugar or other sweetening matter nor flavoured; ice and snow"
          ],
          [
           "Waters, including mineral and aerated waters, containing added sugar or sweetening matter, flavoured; other non-alcoholic beverages, not including fruit or vegetable juices of heading no. 2009"
          ],
          [
           "Beer made from malt"
          ],
          [
           "Wine of fresh grapes, including fortified wines; grape must other than that of heading no. 2009"
          ],
          [
           "Vermouth and other wine of fresh grapes, flavoured with plants or aromatic substances"
          ],
          [
           "Fermented beverages, n.e.c. in chapter 22; (e.g. cider, perry, mead)"
          ],
          [
           "Ethyl alcohol, undenatured; of an alcoholic strength by volume of 80% vol. or higher; ethyl alcohol and other spirits, denatured, of any strength"
          ],
          [
           "Ethyl alcohol, undenatured; of an alcoholic strength by volume of less than 80% volume; spirits, liqueurs and other spirituous beverages"
          ],
          [
           "Vinegar and substitutes for vinegar obtained from acetic acid"
          ],
          [
           "Flours, meal and pellets, of meat or meat offal, of fish or of crustaceans, molluscs or other aquatic invertebrates, unfit for human consumption; greaves"
          ],
          [
           "Bran, sharps and other residues; whether or not in the form of pellets derived from the sifting, milling or other working of cereals or of leguminous plants"
          ],
          [
           "Residues of starch manufacture, similar residues; beet-pulp, bagasse and other waste of sugar manufacture, brewing or distilling dregs and waste, whether or not in the form of pellets"
          ],
          [
           "Oil-cake and other solid residues; whether or not ground or in the form of pellets, resulting from the extraction of soya-bean oil"
          ],
          [
           "Oil-cake and other solid residues; whether or not ground or in the form of pellets, resulting from the extraction of vegetable fats or oils other than those of heading no. 2304 or 2305"
          ],
          [
           "Vegetable materials and vegetable waste, vegetable residues and bi-products; whether or not in the form of pellets, of a kind used in animal feeding, not elsewhere specified or included"
          ],
          [
           "Preparations of a kind used in animal feeding"
          ],
          [
           "Tobacco, unmanufactured; tobacco refuse"
          ],
          [
           "Manufactured tobacco and manufactured tobacco substitutes n.e.c; homogenised or reconstituted tobacco; tobacco extracts and essences"
          ],
          [
           "Salt (including table salt and denatured salt); pure sodium chloride whether or not in aqueous solution; sea water"
          ],
          [
           "Iron pyrites; unroasted"
          ],
          [
           "Sulphur of all kinds; other than sublimed, precipitated and colloidal sulphur"
          ],
          [
           "Graphite; natural"
          ],
          [
           "Sands of all kinds; natural, whether or not coloured, other than metal-bearing sands of chapter 26"
          ],
          [
           "Quartz; (other than natural sands), quartzite, whether or not roughly trimmed or merely cut, by sawing or otherwise, into blocks or slabs of a rectangular (including square) shape"
          ],
          [
           "Kaolin and other kaolinic clays; whether or not calcined"
          ],
          [
           "Clays; (not including expanded clays of heading no. 6806), andalusite kyanite and sillimanite, whether or not calcined; mullite; chamotte or dinas earth"
          ],
          [
           "Chalk"
          ],
          [
           "Natural calcium phosphates; natural aluminium calcium phosphates and phosphatic chalk"
          ],
          [
           "Natural barium sulphate (barytes); natural barium carbonate, (witherite) whether or not calcined, other than barium oxide of heading no. 2816"
          ],
          [
           "Siliceous fossil meals (e.g. kieselguhr, tripolite and diatomite) and similar siliceous earths; whether or not calcined, of an apparent specific gravity of 1 or less"
          ],
          [
           "Pumice stone; emery; natural corundum, natural garnet and other natural abrasives, whether or not heat treated"
          ],
          [
           "Slate, whether or not roughly trimmed or merely cut, by sawing or otherwise, into blocks or slabs of a rectangular (including square) shape"
          ],
          [
           "Marble, travertine, ecaussine and other calcareous stone; of an apparent specific gravity of less than 2.5, alabaster, whether cut by sawing etc, into blocks, slabs of a rectangular (square) shape"
          ],
          [
           "Granite, porphyry, basalt, sandstone, other monumental and building stone, whether or not roughly trimmed, cut, by sawing etc, into blocks or slabs of a rectangular (including square) shape"
          ],
          [
           "Pebbles, gravel, crushed stone for concrete aggregates for road or railway ballast, shingle or flint; macadam of slag, dross etc tarred granules, chippings, powder of stones of heading no. 2515 and 2516"
          ],
          [
           "Dolomite, whether or not calcined or sintered; including dolomite roughly trimmed, or merely cut by sawing or otherwise into blocks or slabs of rectangular (including square) shape; dolomite ramming mix"
          ],
          [
           "Natural magnesium carbonate (magnesite); fused magnesia; dead-burned (sintered) magnesia, whether or not containing small quantities of other oxides added before sintering; magnesium oxide, pure or not"
          ],
          [
           "Gypsum; anhydrite; plasters (consisting of calcined gypsum or calcium sulphate), coloured or not, with or without small quantities of accelerators or retarders"
          ],
          [
           "Limestone flux; limestone and other calcareous stone, of a kind used for the manufacture of lime or cement"
          ],
          [
           "Quicklime, slaked lime and hydraulic lime; other than calcium oxide and hydroxide of heading no. 2825"
          ],
          [
           "Portland cement, aluminous cement (ciment fondu), slag cement, supersulphate cement and similar hydraulic cements, whether or not coloured or in the form of clinkers"
          ],
          [
           "Asbestos"
          ],
          [
           "Mica, including splittings; mica waste"
          ],
          [
           "Natural steatite; whether or not roughly trimmed or merely cut, by sawing or otherwise, into blocks or slabs of a rectangular (including square) shape; talc"
          ],
          [
           "Natural borates and concentrates thereof (whether or not calcined), but not including borates separated from natural brine; natural boric acid containing not more than 85 % of H3BO3 calculated on the dry weight"
          ],
          [
           "Feldspar; leucite; nepheline and nepheline syenite; fluorspar"
          ],
          [
           "Mineral substances not elsewhere specified or included"
          ],
          [
           "Nickel ores and concentrates"
          ],
          [
           "Aluminium ores and concentrates"
          ],
          [
           "Tin ores and concentrates"
          ],
          [
           "Chromium ores and concentrates"
          ],
          [
           "Titanium ores and concentrates"
          ],
          [
           "Niobium, tantalum, vanadium or zirconium ores and concentrates"
          ],
          [
           "Precious metal ores and concentrates"
          ],
          [
           "Slag and ash n.e.c. in chapter 26; including seaweed ash (kelp) and ash and residues from the incineration of municipal waste"
          ],
          [
           "Coal; briquettes, ovoids and similar solid fuels manufactured from coal"
          ],
          [
           "Peat; (including peat litter), whether or not agglomerated"
          ],
          [
           "Coke and semi-coke; of coal, lignite or peat, whether or not agglomerated; retort carbon"
          ],
          [
           "Tar distilled from coal, from lignite, peat and other mineral tars, whether or not dehydrated or partially distilled; including reconstituted tars"
          ],
          [
           "Oils and other products of the distillation of high temperature coal tar; similar products in which the weight of the aromatic constituents exceeds that of the non-aromatic constituents"
          ],
          [
           "Pitch and pitch coke; obtained from coal tar or from other mineral tars"
          ],
          [
           "Petroleum oils and oils obtained from bituminous minerals; crude"
          ],
          [
           "Petroleum oils and oils from bituminous minerals, not crude; preparations n.e.c, containing by weight 70% or more of petroleum oils or oils from bituminous minerals; these being the basic constituents of the preparations; waste oils"
          ],
          [
           "Petroleum gases and other gaseous hydrocarbons"
          ],
          [
           "Petroleum jelly; paraffin wax, micro-crystalline petroleum wax, slack wax, ozokerite, lignite wax, peat wax, other mineral waxes, similar products obtained by synthesis, other processes; coloured or not"
          ],
          [
           "Petroleum coke, petroleum bitumen; other residues of petroleum oils or oils obtained from bituminous minerals"
          ],
          [
           "Bitumen and asphalt, natural; bituminous or oil shale and tar sands; asphaltites and asphaltic rocks"
          ],
          [
           "Bituminous mixtures based on natural asphalt; on natural bitumen, on petroleum bitumen, on mineral tar or on mineral tar pitch (e.g. bituminous mastics, cut-backs)"
          ],
          [
           "Fluorine, chlorine, bromine and iodine"
          ],
          [
           "Sulphur; sublimed or precipitated, colloidal sulphur"
          ],
          [
           "Carbon; carbon blacks and other forms of carbon n.e.c."
          ],
          [
           "Hydrogen, rare gases and other non-metals"
          ],
          [
           "Alkali or alkaline-earth metals; rare-earth metals, scandium and yttrium, whether or not intermixed or interalloyed; mercury"
          ],
          [
           "Hydrogen chloride (hydrochloric acid); chlorosulphuric acid"
          ],
          [
           "Sulphuric acid; oleum"
          ],
          [
           "Nitric acid; sulphonitric acids"
          ],
          [
           "Diphosphorus pentoxide; phosphoric acid and polyphosphoric acids"
          ],
          [
           "Oxides of boron; boric acids"
          ],
          [
           "Inorganic acids and other inorganic oxygen compounds of non-metals; n.e.c. in heading no. 2806 to 2810"
          ],
          [
           "Halides and halide oxides of non-metals"
          ],
          [
           "Sulphides of non-metals; commercial phosphorus trisulphide"
          ],
          [
           "Ammonia; anhydrous or in aqueous solution"
          ],
          [
           "Sodium hydroxide (caustic soda); potassium hydroxide (caustic potash) peroxides of sodium or potassium"
          ],
          [
           "Hydroxide and peroxide of magnesium; oxides, hydroxides and peroxides of strontium or barium"
          ],
          [
           "Zinc; oxide and peroxide"
          ],
          [
           "Aluminium oxide (including artificial corundum); aluminium hydroxide"
          ],
          [
           "Chromium oxides and hydroxides"
          ],
          [
           "Manganese oxides"
          ],
          [
           "Iron oxides and hydroxides; earth colours containing 70% or more by weight of combined iron evaluated as Fe2o3"
          ],
          [
           "Cobalt oxides and hydroxides; commercial cobalt oxides"
          ],
          [
           "Titanium oxides"
          ],
          [
           "Lead oxides; red lead and orange lead"
          ],
          [
           "Hydrazine and hydroxylamine and their inorganic salts; other inorganic bases; other metal oxides, hydroxides and peroxides"
          ],
          [
           "Fluorides; fluorosilicates, fluoroaluminates and other complex fluorine salts"
          ],
          [
           "Chlorides; chloride oxides and chloride hydroxides; bromides and bromide oxides; iodides and iodide oxides"
          ],
          [
           "Hypochlorites; commercial calcium hypochlorite; chlorites; hypobromites"
          ],
          [
           "Chlorates and perchlorates; bromates and perbromates; iodates and periodates"
          ],
          [
           "Sulphides; polysulphides whether or not chemically defined"
          ],
          [
           "Dithionites and sulphoxylates"
          ],
          [
           "Sulphites; thiosulphates"
          ],
          [
           "Sulphates; alums; peroxosulphates (persulphates)"
          ],
          [
           "Nitrites; nitrates"
          ],
          [
           "Phosphinates (hypophosphites), phosphonates (phosphites), and phosphates; and polyphosphates, whether or not chemically defined"
          ],
          [
           "Carbonates; peroxocarbonates (percarbonates); commercial ammonium carbonate containing ammonium carbamate"
          ],
          [
           "Cyanides, cyanide oxides and complex cyanides"
          ],
          [
           "Silicates; commercial alkali metal silicates"
          ],
          [
           "Borates; peroxoborates (perborates)"
          ],
          [
           "Salts of oxometallic or peroxometallic acids"
          ],
          [
           "Salts of inorganic acids or peroxoacids, n.e.c. including aluminosilicates whether or not chemically defined, but excluding azides"
          ],
          [
           "Colloidal precious metals; inorganic or organic compounds of precious metals, whether or not chemically defined; amalgams of precious metals"
          ],
          [
           "Radioactive chemical elements and radioactive isotopes (including the fissile or fertile chemical elements and isotopes); and their compounds; mixtures and residues containing these products"
          ],
          [
           "Isotopes other than those of heading no. 2844; compounds, inorganic or organic, of such isotopes, whether or not chemically defined"
          ],
          [
           "Compounds, inorganic or organic, of rare-earth metals; of yttrium or of scandium or of mixtures of these metals"
          ],
          [
           "Hydrogen peroxide; whether or not solidified with urea"
          ],
          [
           "Carbides, whether or not chemically defined"
          ],
          [
           "Hydrides, nitrides, azides, silicides and borides, whether or not chemically defined, other than compounds which are also carbides of heading no. 2849"
          ],
          [
           "Inorganic or organic compounds of mercury, excluding amalgams, whether or not chemically defined"
          ],
          [
           "Inorganic compounds n.e.c. (including distilled or conductivity water and water of similar purity); liquid air (rare gases removed or not); compressed air; amalgams, other than precious metal amalgams"
          ],
          [
           "Acyclic hydrocarbons"
          ],
          [
           "Cyclic hydrocarbons"
          ],
          [
           "Halogenated derivatives of hydrocarbons"
          ],
          [
           "Sulphonated, nitrated or nitrosated derivatives of hydrocarbons; whether or not halogenated"
          ],
          [
           "Acyclic alcohols and their halogenated, sulphonated, nitrated or nitrosated derivatives"
          ],
          [
           "Alcohols; cyclic, and their halogenated, sulphonated, nitrated or nitrosated derivatives"
          ],
          [
           "Phenols; monophenols, polyphenols, and phenol-alcohols"
          ],
          [
           "Phenols or phenol-alcohols; halogenated, sulphonated, nitrated or nitrosated derivatives"
          ],
          [
           "Ethers, ether-alcohols, ether-phenols, ether-alcohol-phenols, alcohol peroxides, ether peroxides, ketone peroxides (chemically defined or not); halogenated, sulphonated, nitrated, nitrosated derivative"
          ],
          [
           "Epoxides, epoxyalcohols, epoxyphenols and epoxyethers; with a three-membered ring and their halogenated, sulphonated, nitrated or nitrosated derivatives"
          ],
          [
           "Acetals and hemiacetals; whether or not with other oxygen function, and their halogenated, sulphonated, nitrated or nitrostated derivatives"
          ],
          [
           "Aldehydes, whether or not with other oxygen function; cyclic polymers of aldehydes; paraformaldehyde"
          ],
          [
           "Aldehydes; halogenated, sulphonated, nitrated or nitrosated derivatives of products of heading no. 2912"
          ],
          [
           "Ketones and quinones; whether or not with other oxygen function, and their halogenated, sulphonated, nitrated or nitrostated derivatives"
          ],
          [
           "Acids; saturated acyclic monocarboxylic acids and their anhydrides, halides, peroxides and peroxyacids; their halogenated, sulphonated, nitrated or nitrosated derivatives"
          ],
          [
           "Acids; unsaturated acyclic monocarboxylic, cyclic monocarboxylic, their anhydrides, halides, peroxides and peroxyacids; their halogenated, sulphonated, nitrated or nitrosated derivatives"
          ],
          [
           "Acids; polycarboxylic acids, their anhydrides, halides, peroxides and peroxy-acids; their halogenated, sulphonated, nitrated or nitrosated derivatives"
          ],
          [
           "Acids; carboxylic acid with additional oxygen function and their anhydrides, halides, peroxides, peroxyacids; their halogenated, sulphonated, nitrated or nitrosated derivatives"
          ],
          [
           "Esters; phosphoric, and their salts, including lactophosphates, their halogenated, sulphonated, nitrated or nitrosated derivatives"
          ],
          [
           "Esters of other inorganic acids of non-metals (other than of hydrogen halides) and their salts, their halogenated, sulphonated, nitrated or nitrosated derivatives"
          ],
          [
           "Amine-function compounds"
          ],
          [
           "Oxygen-function amino-compounds"
          ],
          [
           "Quaternary ammonium salts and hydroxides; lecithins and other phosphoaminolipids, whether or not chemically defined"
          ],
          [
           "Carboxyamide-function compounds; amide-function compounds of carbonic acid"
          ],
          [
           "Carboxyimide-function compounds (including saccharin and its salts) and imine-function compounds"
          ],
          [
           "Nitrile-function compounds"
          ],
          [
           "Diazo-, azo- or azoxy-compounds"
          ],
          [
           "Organic derivatives of hydrazine or of hydroxylamine"
          ],
          [
           "Nitrogen-function compounds, n.e.c. in chapter 29"
          ],
          [
           "Organo-sulphur compounds"
          ],
          [
           "Other organo-inorganic compounds"
          ],
          [
           "Heterocyclic compounds with oxygen hetero-atom(s) only"
          ],
          [
           "Heterocyclic compounds with nitrogen hetero-atom(s) only"
          ],
          [
           "Nucleic acids and their salts, whether or not chemically defined; other heterocyclic compounds"
          ],
          [
           "Sulphonamides"
          ],
          [
           "Provitamins, vitamins; natural or reproduced by synthesis (including natural concentrates) derivatives thereof used as vitamins, and intermixtures of the fore-going, whether or not in any solvent"
          ],
          [
           "Hormones, prostaglandins, thromboxanes and leukotrienes, natural or reproduced by synthesis; derivatives and structural analogues thereof, including chain modified polypeptides, used primarily as hormones."
          ],
          [
           "Glycosides, natural or reproduced by synthesis, and their salts, ethers, esters and other derivatives"
          ],
          [
           "Alkaloids, vegetable; natural or reproduced by synthesis, and their salts, ethers, esters and other derivatives"
          ],
          [
           "Sugars, chemically pure, other than sucrose, lactose, maltose, glucose and fructose; sugar ethers, sugar acetals and sugar esters, and their salts, other than the products of heading 29.37, 29.38, or 29.39"
          ],
          [
           "Antibiotics"
          ],
          [
           "Organic compounds; n.e.c. in chapter 29"
          ],
          [
           "Glands and other organs (extracts, secretions thereof) for organo-therapeutic uses, dried, powdered or not; heparin and its salts; other human or animal substances for therapeutic or prophylactic uses n.e.c."
          ],
          [
           "Human blood; animal blood for therapeutic, prophylactic or diagnostic uses; antisera, other blood fractions, immunological products, modified or obtained by biotechnological processes; vaccines, toxins, cultures of micro-organisms (excluding yeasts) etc"
          ],
          [
           "Medicaments; (not goods of heading no. 3002, 3005 or 3006) of two or more constituents mixed together for therapeutic or prophylactic use not in measured doses or in forms or packings for retail sale"
          ],
          [
           "Medicaments; (not goods of heading no. 3002, 3005 or 3006) consisting of mixed or unmixed products for therapeutic or prophylactic use, put up in measured doses (incl. those in the form of transdermal admin. systems) or packed for retail sale"
          ],
          [
           "Wadding, gauze, bandages (dressings, adhesive plasters, poultices), impregnated or coated with pharmaceutical substances or in forms or packings for retail sale, for medical, surgical or veterinary use"
          ],
          [
           "Pharmaceutical goods"
          ],
          [
           "Fertilizers; animal or vegetable, whether or not mixed together or chemically treated; fertilizers produced by the mixing or chemical treatment of animal or vegetable products"
          ],
          [
           "Fertilizers; mineral or chemical, nitrogenous"
          ],
          [
           "Fertilizers; mineral or chemical, phosphatic"
          ],
          [
           "Fertilizers; mineral or chemical, potassic"
          ],
          [
           "Fertilizers; mineral or chemical, containing 2 or 3 of the elements nitrogen, phosphorus, potassium; other fertilisers; goods of chapter 31 in tablets or packages of gross weight not exceeding 10kg"
          ],
          [
           "Tanning extracts of vegetable origin; tannins and their salts, ethers, esters and other derivatives"
          ],
          [
           "Tanning substances; synthetic organic or inorganic tanning substances; tanning preparations, whether or not containing natural tanning substances, enzymatic preparations for pre-tanning"
          ],
          [
           "Colouring matter of vegetable or animal origin (including dyeing extracts, not animal black); whether or not chemically defined; preparations based on colouring matter of vegetable or animal origin"
          ],
          [
           "Synthetic organic colouring matter and preparations based thereon; synthetic organic products used as fluorescent brightening agents or as luminophores; whether or not chemically defined"
          ],
          [
           "Colour lakes; preparations based on colour lakes as specified in note 3 to this chapter"
          ],
          [
           "Colouring matter and preparations thereof n.e.c. in heading no. 3203, 3204, 3205; inorganic products, kind used as luminophores whether or not chemically defined"
          ],
          [
           "Pigments, prepared; opacifiers, colours, vitrifiable enamels, glazes, engobes (slips), liquid lustres etc as used in the ceramic enamelling or glass industry; glass frit and powder, granules or flakes"
          ],
          [
           "Paints, varnishes; (enamels and lacquers) based on synthetic polymers or chemically modified natural polymers, dispersed or dissolved in a non-aqueous medium"
          ],
          [
           "Paints and varnishes (including enamels and lacquers) based on synthetic or chemically modified natural polymers, dispersed or dissolved in an aqueous medium"
          ],
          [
           "Paints and varnishes (including enamels, lacquers and distempers), excluding those of heading no. 3209, prepared water pigments of a kind used for finishing leather"
          ],
          [
           "Driers; prepared"
          ],
          [
           "Pigments (metallic powders and flakes) dispersed in non-aqueous media in liquid or paste form, as used in manufacture of paints (including enamels); stamping foils, dyes etc in forms, packing for retail sale"
          ],
          [
           "Colours; artists, students, or signboard painters, modifying tints, amusement colours and the like; in tablets, tubes, jars, bottles, pan or in similar forms or packings"
          ],
          [
           "Glaziers' putty, grafting putty, resin cements, caulking compounds and other mastics; painters' fillings; non-refractory surfacing preparations for facades, indoor walls, floors, ceilings or the like"
          ],
          [
           "Ink; printing, writing or drawing ink and other inks; whether or not concentrated or solid"
          ],
          [
           "Oils; essential (concretes, absolutes); concentrates thereof in fats, fixed oils, waxes or the like (obtained by enfleurage or maceration); aqueous distillates, solutions and terpenic by-products thereof; resinoids; extracted oleoresins"
          ],
          [
           "Odoriferous substances and mixtures (including alcoholic solutions) with a basis of one or more of these substances, of a kind used as raw materials in industry; other preparations based on odoriferous substances, of a kind used for beverage manufacture"
          ],
          [
           "Perfumes and toilet waters"
          ],
          [
           "Cosmetic and toilet preparations; beauty, make-up and skin care preparations (excluding medicaments, including sunscreen or sun tan preparations), manicure or pedicure preparations"
          ],
          [
           "Hair preparations; for use on the hair"
          ],
          [
           "Oral or dental hygiene preparations; including fixative pastes and powders; yarn used to clean between the teeth (dental floss), in individual retail packages"
          ],
          [
           "Perfumery, cosmetic or toilet preparations; pre-shave, shaving, after-shave, bath preparations; personal deodorants and depilatories; room deodorisers, perfumed or not with disinfectant properties or not"
          ],
          [
           "Soap; organic surface-active preparations used as soap, skin washing, in bars, cakes, moulded pieces, shapes, liquid or cream, containing soap or not; for retail, paper, wadding, felt and nonwovens, impregnated, coated or covered with soap or detergent"
          ],
          [
           "Organic surface-active agents (not soap); surface-active, washing (including auxiliary washing) and cleaning preparations, containing soap or not, excluding those of heading no. 3401"
          ],
          [
           "Lubricating preparations and those used in oil or grease treatment of textile and similar materials; excluding preparations containing 70% or more (by weight) of petroleum or bituminous mineral oils"
          ],
          [
           "Waxes; artificial, prepared"
          ],
          [
           "Polishes, creams, scouring pastes, powders and similar; in any form, (including articles impregnated, coated or covered with such), for furniture, footwear, floors, coachwork, glass or metal"
          ],
          [
           "Candles, tapers and the like"
          ],
          [
           "Modelling pastes, including those for children; dental wax, impression compounds, in sets or packings for retail sale or in plates and similar forms; dentistry preparations with plaster base"
          ],
          [
           "Casein, caseinates and other casein derivatives; casein glues"
          ],
          [
           "Albumins (including concentrates of two or more whey proteins, containing by weight more than 80% whey proteins, calculated on the dry matter), albuminates and other albumin derivatives"
          ],
          [
           "Gelatin (including gelatin in rectangular sheets, whether or not surface-worked or coloured) and gelatin derivatives; isinglass; other glues of animal origin, excluding casein glues of heading no. 3501"
          ],
          [
           "Peptones and their derivatives; other protein substances and their derivatives n.e.c. or included; hide powder, whether or not chromed"
          ],
          [
           "Dextrins and other modified starches (e.g. pregelatinised or esterified starches); glues based on starches or on dextrins or other modified starches"
          ],
          [
           "Prepared glues and other prepared adhesives, n.e.c. or included; products suitable for use as glues or adhesives, put up for retail sale as glues or adhesives, not exceeding 1kg net weight"
          ],
          [
           "Enzymes; prepared enzymes not elsewhere specified or included"
          ],
          [
           "Explosives; propellent powders"
          ],
          [
           "Prepared explosives, other than propellent powders"
          ],
          [
           "Safety fuses; detonating fuses; percussion or detonating caps; igniters; electric detonators"
          ],
          [
           "Fireworks, signalling flares, rain rockets, fog signals and other pyrotechnic articles"
          ],
          [
           "Matches; other than pyrotechnic articles of heading no. 3604"
          ],
          [
           "Ferro-cerium and other pyrophoric alloys in all forms; articles of combustible materials n.e.c. in chapter 36"
          ],
          [
           "Photographic plates and film in the flat, sensitised, unexposed, of any material other than paper, paperboard or textiles; instant print film in the flat, sensitised, unexposed, whether or not in packs"
          ],
          [
           "Photographic film in rolls, sensitised, unexposed, of any material other than paper, paperboard or textiles; instant print film in rolls, sensitised, unexposed"
          ],
          [
           "Photographic paper, paperboard and textiles; sensitised, unexposed"
          ],
          [
           "Photographic plates, film, paper, paperboard and textiles, exposed but not developed"
          ],
          [
           "Photographic plates and film; exposed and developed, other than cinematographic film"
          ],
          [
           "Chemical preparations for photographic uses (other than varnishes, glues, adhesives and similar preparations); unmixed products for photographic uses, put up in measured portions or for retail sale"
          ],
          [
           "Artificial graphite; colloidal or semi-colloidal graphite; preparations based on graphite or other carbon in the form of pastes, blocks, plates or other semi-manufactures"
          ],
          [
           "Activated carbon; activated natural mineral products; animal black, including spent animal black"
          ],
          [
           "Residual lyes from the manufacture of wood pulp, whether or not concentrated, desugared or chemically treated, including lignin sulphonates, but excluding tall oil of heading no. 3803"
          ],
          [
           "Gum, wood or sulphate turpentine, other terpenic oils; crude dipentene; sulphite turpentine, other crude para-cymene; pine oil containing alpha-terpineol as the main constituent"
          ],
          [
           "Rosin and resin acids and derivatives thereof; rosin spirit and rosin oils; run gums"
          ],
          [
           "Wood tar; wood tar oils; wood creosote; wood naphtha; vegetable pitch; brewers' pitch and similar preparations based on rosin, resin acids or on vegetable pitch"
          ],
          [
           "Insecticides, rodenticides, fungicides, herbicides, anti-sprouting products, plant growth regulators, disinfectants and the like, put up in forms or packings for retail sale or as preparations or articles"
          ],
          [
           "Finishing agents, dye carriers to accelerate the dyeing, fixing of dyestuffs, other products and preparations, of a kind used in the textile, paper, leather or like industries, n.e.c. or included"
          ],
          [
           "Metal-pickling preparations; fluxes etc for soldering, brazing; welding powders, pastes of metal and other materials; preparations used as cores or coatings for welding electrodes or rods"
          ],
          [
           "Anti-knock preparations, oxidation and gum inhibitors, viscosity improvers, anti-corrosive preparations and the like, for mineral oils (including gasoline) or other liquids used for the same purposes"
          ],
          [
           "Prepared rubber accelerators; compound plasticisers for rubber or plastics, n.e.c. or included; anti-oxidising preparations and other compound stabilisers for rubber or plastics"
          ],
          [
           "Preparations and charges for fire extinguishers; charged fire-extinguishing grenades"
          ],
          [
           "Organic composite solvents and thinners, not elsewhere specified or included; prepared paint or varnish removers"
          ],
          [
           "Reaction initiators, reaction accelerators and catalytic preparations n.e.c. or included"
          ],
          [
           "Refractory cements, mortars, concretes and similar compositions; other than products of heading no. 3801"
          ],
          [
           "Mixed alkylbenzenes and mixed alkylnaphthalenes, other than those of heading no. 2707 or 2902"
          ],
          [
           "Chemical elements doped for use in electronics, in the form of discs, wafers or similar forms; chemical compounds doped for use in electronics"
          ],
          [
           "Hydraulic brake fluids and other prepared liquids for hydraulic transmission, not containing or containing less than 70% by weight of petroleum oils or oils obtained from bituminous minerals"
          ],
          [
           "Anti-freezing preparations and prepared de-icing fluids"
          ],
          [
           "Prepared culture media for the development or maintenance of micro-organisms (including viruses and the like) or of plant, human or animal cells"
          ],
          [
           "Reagents; diagnostic or laboratory reagents on a backing and prepared diagnostic or laboratory reagents whether or not on a backing, other than those of heading no. 3002 or 3006; certified reference material"
          ],
          [
           "Industrial monocarboxylic fatty acids; acid oils from refining; industrial fatty alcohols"
          ],
          [
           "Prepared binders for foundry moulds or cores; chemical products and preparations of the chemical or allied industries (including those consisting of mixtures of natural products), not elsewhere specified or included"
          ],
          [
           "Residual products of the chemical or allied industries, not elsewhere specified or included; municipal waste; sewage sludge; other residual products."
          ],
          [
           "Biodiesel and mixtures thereof; not containing or containing less than 70% by weight of petroleum oils or oils obtained from bituminous minerals"
          ],
          [
           "Polymers of ethylene, in primary forms"
          ],
          [
           "Polymers of propylene or of other olefins, in primary forms"
          ],
          [
           "Polymers of styrene, in primary forms"
          ],
          [
           "Polymers of vinyl chloride or of other halogenated olefins, in primary forms"
          ],
          [
           "Polymers of vinyl acetate or of other vinyl esters, in primary forms; other vinyl polymers in primary forms"
          ],
          [
           "Acrylic polymers in primary forms"
          ],
          [
           "Polyacetals, other polyethers and epoxide resins, in primary forms; polycarbonates, alkyd resins, polyallyl esters and other polyesters, in primary forms"
          ],
          [
           "Polyamides in primary forms"
          ],
          [
           "Amino-resins, phenolic resins and polyurethanes, in primary forms"
          ],
          [
           "Silicones in primary forms"
          ],
          [
           "Petroleum resins, coumarone-indene resins, polyterpenes, polysulphides, polysulphones and similar products of chemical synthesis n.e.c. in chapter 39, in primary forms"
          ],
          [
           "Cellulose and its chemical derivatives, n.e.c. or included, in primary forms"
          ],
          [
           "Natural polymers (e.g. alginic acid) and modified natural polymers (e.g. hardened proteins, chemical derivatives of natural rubber), n.e.c. or included, in primary forms"
          ],
          [
           "Ion-exchangers; based on polymers of heading no. 3901 to 3913, in primary forms"
          ],
          [
           "Waste, parings and scrap, of plastics"
          ],
          [
           "Monofilament of which any cross-sectional dimension exceeds 1mm, rods, sticks and profile shapes, whether or not surface-worked but not otherwise worked, of plastics"
          ],
          [
           "Tubes, pipes and hoses and fittings thereof (for example, joints, elbows, flanges), of plastics"
          ],
          [
           "Floor coverings of plastics, self-adhesive or not, in rolls or tiles; wall or ceiling coverings of plastics, in rolls of a width not less than 45cm"
          ],
          [
           "Self-adhesive plates, sheets, film, foil, tape, strip and other flat shapes, of plastics, whether or not in rolls"
          ],
          [
           "Plastics; plates, sheets, film, foil and strip (not self-adhesive); non-cellular and not reinforced, laminated, supported or similarly combined with other materials, n.e.c. in chapter 39"
          ],
          [
           "Plastic plates, sheets, film, foil and strip n.e.c. in chapter 39"
          ],
          [
           "Sanitary ware; baths, shower-baths, sinks, wash-basins, bidets, lavatory pans, seats and covers, flushing cisterns and sanitary ware, of plastics"
          ],
          [
           "Plastic articles for the conveyance or packing of goods; stoppers, lids, caps and other closures of plastics"
          ],
          [
           "Tableware, kitchenware, other household articles and hygienic or toilet articles, of plastics"
          ],
          [
           "Plastics; builders' wares n.e.c. or included"
          ],
          [
           "Articles of plastics and articles of other materials of heading no. 3901 to 3914, n.e.c. in chapter 39"
          ],
          [
           "Natural rubber, balata, gutta-percha, guayule, chicle and similar gums; in primary forms or in plates, sheets or strip"
          ],
          [
           "Synthetic rubber and factice derived from oils, in primary forms or in plates, sheets or strip; mixtures of heading no. 4001 and 4002, in primary forms or in plates, sheets or strip"
          ],
          [
           "Reclaimed rubber in primary forms or in plates, sheets or strip"
          ],
          [
           "Waste, parings and scrap of rubber (other than hard rubber) and powders and granules obtained therefrom"
          ],
          [
           "Compounded rubber, unvulcanised, in primary forms or in plates, sheets or strip"
          ],
          [
           "Unvulcanised rubber in other forms (e.g. rods, tubes and profile shapes) and articles (e.g. discs and rings)"
          ],
          [
           "Vulcanised rubber thread and cord"
          ],
          [
           "Plates, sheets, strip, rods and profile shapes, of vulcanised rubber other than hard rubber"
          ],
          [
           "Tubes, pipes and hoses, of vulcanised rubber (other than hard rubber), with or without their fittings (e.g. joints, elbows, flanges)"
          ],
          [
           "Conveyor or transmission belts or belting, of vulcanised rubber"
          ],
          [
           "New pneumatic tyres, of rubber"
          ],
          [
           "Retreaded or used pneumatic tyres of rubber; solid or cushion tyres, tyre treads and tyre flaps, of rubber"
          ],
          [
           "Inner tubes, of rubber"
          ],
          [
           "Hygienic or pharmaceutical articles (including teats), of vulcanised rubber other than hard rubber, with or without fittings of hard rubber"
          ],
          [
           "Articles of apparel and clothing accessories (including gloves, mittens and mitts), for all purposes, of vulcanised rubber other than hard rubber"
          ],
          [
           "Articles of vulcanised rubber other than hard rubber, n.e.c. in chapter 40"
          ],
          [
           "Hard rubber (e.g. ebonite) in all forms, including waste and scrap; articles of hard rubber"
          ],
          [
           "Tanned or crust hides and skins of bovine (including buffalo) or equine animals, without hair on, whether or not split, but not further prepared"
          ],
          [
           "Leather further prepared after tanning or crusting, including parchment-dressed leather, of bovine (including buffalo) or equine animals, without hair on, whether or not split, other than leather of heading 41.14"
          ],
          [
           "Leather further prepared after tanning or crusting, including parchment dressed leather, of sheep or lamb, without wool on, whether or not split, other than leather of heading 41.14"
          ],
          [
           "Leather further prepared after tanning or crusting, including parchment-dressed leather, of animals (other than ovine), without wool or hair on, whether or not split, other than leather of heading 41.14"
          ],
          [
           "Chamois (including combination chamois) leather; patent leather and patent laminated leather; metallised leather"
          ],
          [
           "Composition leather with a basis of leather or leather fibre, in slabs, sheets or strip, in rolls or not; parings and other waste of leather or of composition leather, not suitable for the manufacture of leather articles; leather dust, powder and flour"
          ],
          [
           "Saddlery and harness for any animal (including traces, leads, knee pads, muzzles, saddle cloths, saddle bags, dog coats and the like) of any material"
          ],
          [
           "Trunks; suit, camera, jewellery, cutlery cases; travel, tool, similar bags; wholly or mainly covered by leather, composition leather, plastic sheeting, textile materials, vulcanised fibre, paperboard"
          ],
          [
           "Articles of apparel and clothing accessories, of leather or of composition leather"
          ],
          [
           "Leather or composition leather articles n.e.c. in chapter 42"
          ],
          [
           "Articles of gut (other than silk-worm gut), of goldbeater's skin, of bladders or of tendons"
          ],
          [
           "Tanned or dressed furskins (including heads, tails, paws, other pieces, cuttings), unassembled, or assembled (without addition of other materials), excluding those of heading no. 4303"
          ],
          [
           "Articles of apparel, clothing accessories and other articles of furskin"
          ],
          [
           "Artificial fur and articles thereof"
          ],
          [
           "Fuel wood, in logs, billets, twigs, faggots or similar forms; wood in chip or particles; sawdust and wood waste and scrap, whether or not agglomerated in logs, briquettes, pellets or similar forms"
          ],
          [
           "Wood charcoal (including shell or nut charcoal), whether or not agglomerated"
          ],
          [
           "Wood in the rough, whether or not stripped of bark or sapwood, or roughly squared"
          ],
          [
           "Wood sawn or chipped lengthwise, sliced or peeled, whether or not planed, sanded or end-jointed, of a thickness exceeding 6mm"
          ],
          [
           "Sheets for veneering (including those obtained by slicing laminated wood), for plywood or for similar laminated wood and other wood, sawn lengthwise, sliced or peeled, planed or not, sanded, spliced or end-jointed, of a thickness not exceeding 6 mm"
          ],
          [
           "Wood (including strips, friezes for parquet flooring, not assembled), continuously shaped (tongued, grooved, v-jointed, beaded or the like) along any edges, ends or faces, whether or not planed, sanded or end-jointed"
          ],
          [
           "Particle board, oriented strand board (OSB) and similar board (e.g. waferboard) of wood or other ligneous materials, whether or not agglomerated with resins or other organic binding substances"
          ],
          [
           "Fibreboard of wood or other ligneous materials, whether or not bonded with resins or other organic substances"
          ],
          [
           "Plywood, veneered panels and similar laminated wood"
          ],
          [
           "Densified wood, in blocks, plates, strips or profile shapes"
          ],
          [
           "Wooden frames; for paintings, photographs, mirrors or similar objects"
          ],
          [
           "Packing cases, boxes, crates, drums and similar packings, of wood; cable-drums of wood; pallets, box pallets and other load boards, of wood; pallet collars of wood"
          ],
          [
           "Casks, barrels, vats, tubs and other coopers' products and parts thereof, of wood, including staves"
          ],
          [
           "Tools, tool bodies, tool handles, broom or brush bodies and handles, of wood; boot or shoe lasts and trees, of wood"
          ],
          [
           "Builders' joinery and carpentry of wood, including cellular wood panels, assembled flooring panels, shingles and shakes"
          ],
          [
           "Tableware and kitchenware, of wood"
          ],
          [
           "Wood marquetry and inlaid wood; caskets and cases for jewellery or cutlery, and similar articles of wood; statuettes and other ornaments of wood; wooden articles of furniture not falling in chapter 94"
          ],
          [
           "Wooden articles n.e.c. in heading no. 4414 to 4420"
          ],
          [
           "Natural cork, raw or simply prepared; waste cork; crushed, granulated or ground cork"
          ],
          [
           "Cork; articles of natural cork"
          ],
          [
           "Agglomerated cork (with or without a binding substance) and articles of agglomerated cork"
          ],
          [
           "Plaits and similar products of plaiting materials, assembled into strips or not; plaiting materials, plaits and the like bound together in parallel strands or woven in sheet form, finished articles or not"
          ],
          [
           "Basketwork, wickerwork and other articles, made directly to shape from plaiting materials or made up from goods of heading no. 4601; articles of loofah"
          ],
          [
           "Wood pulp, mechanical wood pulp"
          ],
          [
           "Chemical wood pulp, dissolving grades"
          ],
          [
           "Chemical wood pulp, soda or sulphate, other than dissolving grades"
          ],
          [
           "Pulps of fibres derived from recovered (waste and scrap) paper or paperboard or of other fibrous cellulosic material"
          ],
          [
           "Waste and scrap of paper and paperboard"
          ],
          [
           "Newsprint, in rolls or sheets"
          ],
          [
           "Uncoated paper and paperboard, used for writing, printing or other graphics, non perforated punch-cards and punch tape paper, in rolls or rectangular sheets, of any size, other than paper of heading 4801 or 4803; hand-made paper and paperboard"
          ],
          [
           "Tissue, towel, napkin stock or similar; for household or sanitary uses, cellulose wadding, webs of cellulose fibres, in rolls over 36cm in width or rectangular sheets with one side exceeding 36cm when unfolded"
          ],
          [
           "Uncoated kraft paper and paperboard, in rolls or sheets, other than that of heading no. 4802 or 4803"
          ],
          [
           "Uncoated paper and paperboard n.e.c., in rolls or sheets"
          ],
          [
           "Vegetable parchment, greaseproof papers, tracing papers, glassine and other glazed transparent or translucent papers, in rolls or sheets"
          ],
          [
           "Composite paper and paperboard, (made by sticking layers together with an adhesive), not surface-coated or impregnated, whether or not internally reinforced, in rolls or sheets"
          ],
          [
           "Paper and paperboard, corrugated (with or without glued flat surface sheets), creped, crinkled, embossed or perforated, in rolls or sheets other than paper of the kind described in heading 4803"
          ],
          [
           "Carbon paper, self copy paper, and other copying or transfer papers (including coated or impregnated paper for duplicator stencils or offset plates), whether or not printed, in rolls or sheets"
          ],
          [
           "Paper and paperboard, coated one or both sides with kaolin (china clay) or inorganic substances, with binder or not, no other coating, surface coloured or not, surface decorated or printed, in rolls or rectangular (including square) sheets, of any size"
          ],
          [
           "Paper, paperboard, cellulose wadding and webs of cellulose fibres, coated, impregnated, covered, surface-coloured, decorated or printed, rolls or sheets, other than goods of heading no. 4803, 4809, or 4810"
          ],
          [
           "Filter blocks, slabs and plates of paper pulp"
          ],
          [
           "Cigarette paper, whether or not cut to size or in the form of booklets or tubes"
          ],
          [
           "Wallpaper and similar wall coverings; window transparencies of paper"
          ],
          [
           "Carbon paper, self-copy paper and other copying or transfer papers, (other than those of heading no. 4809), duplicator stencils and offset plates, of paper whether or not put up in boxes"
          ],
          [
           "Envelopes, letter cards, plain postcards and correspondence cards, of paper, paperboard; boxes, pouches, wallets and writing compendiums, of paper or paperboard containing assortment of paper stationery"
          ],
          [
           "Toilet paper, width 36cm or less or cut to size/shape; handkerchiefs, tissues, towels, serviettes, bed sheets and similar household or hospital articles, apparel and clothing accessories of paper pulp, paper, cellulose wadding or webs of cellulose fibres"
          ],
          [
           "Cartons, boxes, cases, bags and the like, of paper, paperboard, cellulose wadding or fibres; box files, letter trays and the like, of paper or paperboard, of a kind used in offices, shops or the like"
          ],
          [
           "Registers, account books, diaries and similar; albums for samples or collections, of paper or paperboard"
          ],
          [
           "Paper or paperboard labels of all kinds, whether or not printed"
          ],
          [
           "Bobbins, spools, cops and similar supports of paper pulp, paper or paperboard (whether or not perforated or hardened)"
          ],
          [
           "Paper, paperboard, cellulose wadding and webs of cellulose fibres; cut to size or shape, articles of paper pulp, paper and paper-board, cellulose wadding or webs of cellulose fibres, n.e.c. in chapter 48"
          ],
          [
           "Printed books, brochures, leaflets and similar printed matter, whether or not in single sheets"
          ],
          [
           "Newspapers, journals and periodicals, whether or not illustrated or containing advertising material"
          ],
          [
           "Children's picture, drawing or colouring books"
          ],
          [
           "Music, printed or in manuscript, whether or not bound or illustrated"
          ],
          [
           "Maps and hydrographic or similar charts of all kinds, including atlases, wall maps, topographical plans and globes, printed"
          ],
          [
           "Plans and drawings; for architectural, engineering, industrial, commercial, topographical or similar, being originals drawn by hand; hand-written texts; photo- graphic reproductions; their carbon copies"
          ],
          [
           "Unused postage, revenue or similar stamps of current or new issue in the country in which they have, or will have, a recognised face value; stamp-impressed paper; cheque forms; banknotes, stock, share or bond certificates and the like of similar title"
          ],
          [
           "Transfers (decalcomanias)"
          ],
          [
           "Printed or illustrated postcards; printed cards bearing personal greetings, messages or announcements, whether or not illustrated, with or without envelopes or trimmings"
          ],
          [
           "Calendars of any kind, printed, including calendar blocks"
          ],
          [
           "Printed matter, n.e.c., including printed pictures and photographs"
          ],
          [
           "Woven fabrics of silk or of silk waste"
          ],
          [
           "Wool, not carded or combed"
          ],
          [
           "Waste of wool or of fine or coarse animal hair, including yarn waste but excluding garnetted stock"
          ],
          [
           "Wool and fine or coarse animal hair; carded or combed (including combed wool in fragments)"
          ],
          [
           "Yarn of combed wool, not put up for retail sale"
          ],
          [
           "Yarn of fine animal hair (carded or combed), not put up for retail sale"
          ],
          [
           "Yarn of wool or of fine animal hair, put up for retail sale"
          ],
          [
           "Yarn of coarse animal hair or of horsehair (including gimped horsehair yarn), whether or not put up for retail sale"
          ],
          [
           "Woven fabrics of carded wool or of carded fine animal hair"
          ],
          [
           "Woven fabrics of combed wool or of combed fine animal hair"
          ],
          [
           "Woven fabrics of coarse animal hair or of horsehair"
          ],
          [
           "Cotton; not carded or combed"
          ],
          [
           "Cotton waste (including yarn waste and garnetted stock)"
          ],
          [
           "Cotton, carded or combed"
          ],
          [
           "Cotton sewing thread, whether or not put up for retail sale"
          ],
          [
           "Cotton yarn (other than sewing thread), containing 85% or more by weight of cotton, not put up for retail sale"
          ],
          [
           "Cotton yarn (other than sewing thread), containing less than 85% by weight of cotton, not put up for retail sale"
          ],
          [
           "Cotton yarn (other than sewing thread), put up for retail sale"
          ],
          [
           "Woven fabrics of cotton, containing 85% or more by weight of cotton, weighing not more than 200 g/m2"
          ],
          [
           "Woven fabrics of cotton, containing 85% or more by weight of cotton, weighing more than 200g/m2"
          ],
          [
           "Woven fabrics of cotton, containing less than 85% by weight of cotton, mixed mainly or solely with man-made fibres, weighing not more than 200 g/m2"
          ],
          [
           "Woven fabrics of cotton, containing less than 85% by weight of cotton, mixed mainly or solely with man-made fibres, weighing more than 200g/m2"
          ],
          [
           "Other woven fabrics of cotton, n.e.c. in chapter 52"
          ],
          [
           "Flax yarn"
          ],
          [
           "Yarn of jute or of other textile bast fibres of heading no. 5305"
          ],
          [
           "Yarn of other vegetable textile fibres; paper yarn"
          ],
          [
           "Woven fabrics of flax"
          ],
          [
           "Woven fabrics of jute, other textile bast fibres of heading no. 5303"
          ],
          [
           "Sewing thread of man-made filaments, whether or not put up for retail sale"
          ],
          [
           "Synthetic filament yarn (other than sewing thread), not put up for retail sale, including synthetic monofilament of less than 67 decitex"
          ],
          [
           "Artificial filament yarn (other than sewing thread), not put up for retail sale, including artificial monofilament of less than 67 decitex"
          ],
          [
           "Synthetic monofilament of 67 decitex or more, of which no cross-sectional dimension exceeds 1mm; strip and the like (e.g. artificial straw) of synthetic textile materials of an apparent width not exceeding 5mm"
          ],
          [
           "Artificial monofilament of 67 decitex or more, no cross-sectional dimension exceeds 1mm; strip and the like (e.g. artificial straw), of artificial textile materials of a width not exceeding 5mm"
          ],
          [
           "Man-made filament yarn (other than sewing thread), put up for retail sale"
          ],
          [
           "Woven fabrics of synthetic filament yarn, including woven fabrics obtained from materials of heading no. 5404"
          ],
          [
           "Woven fabrics of artificial filament yarn including woven fabrics obtained from materials of heading no. 5404"
          ],
          [
           "Synthetic filament tow"
          ],
          [
           "Artificial filament tow"
          ],
          [
           "Synthetic staple fibres, not carded, combed or otherwise processed for spinning"
          ],
          [
           "Artificial staple fibres, not carded, combed or otherwise processed for spinning"
          ],
          [
           "Waste (including noils, yarn waste and garnetted stock), of man-made fibres"
          ],
          [
           "Synthetic staple fibres, carded, combed or otherwise processed for spinning"
          ],
          [
           "Artificial staple fibres, carded, combed or otherwise processed for spinning"
          ],
          [
           "Sewing thread of man-made staple fibres, whether or not put up for retail sale"
          ],
          [
           "Yarn (other than sewing thread) of synthetic staple fibres, not put up for retail sale"
          ],
          [
           "Yarn (other than sewing thread) of artificial staple fibres, not put up for retail sale"
          ],
          [
           "Yarn (not sewing thread), of man-made staple fibres, put up for retail sale"
          ],
          [
           "Woven fabrics of synthetic staple fibres, containing 85% or more by weight of synthetic staple fibres"
          ],
          [
           "Woven fabrics of synthetic staple fibres, containing less than 85% by weight of such fibres, mixed mainly or solely with cotton, of a weight not exceeding 170g/m2"
          ],
          [
           "Woven fabrics of synthetic staple fibres, containing less than 85% by weight of such fibres, mixed mainly or solely with cotton, of a weight exceeding 170g/m2"
          ],
          [
           "Woven fabrics of synthetic staple fibres, n.e.c. in chapter 55"
          ],
          [
           "Woven fabrics of artificial staple fibres"
          ],
          [
           "Wadding of textile materials and articles thereof; textile fibres, not exceeding 5 mm in length (flock), textile dust and mill neps"
          ],
          [
           "Felt; whether or not impregnated, coated, covered or laminated"
          ],
          [
           "Nonwovens; whether or not impregnated, coated, covered or laminated"
          ],
          [
           "Rubber thread and cord, textile covered; textile yarn and strip and the like of heading no. 5404, 5405; impregnated, coated, covered or sheathed with rubber or plastics"
          ],
          [
           "Yarn; metallised, whether or not gimped, of textile yarn, or strip or the like of heading no. 5404 or 5405, combined with metal in the form of thread, strip or powder or covered with metal"
          ],
          [
           "Yarn and strip and the like of heading no. 5404 or 5405, gimped (other than those of heading no. 5606 and gimped horsehair yarn); chenille yarn (including flock chenille yarn); loop wale-yarn"
          ],
          [
           "Twine, cordage, ropes and cables, whether or not plaited or braided; whether or not impregnated, coated, covered or sheathed with rubber or plastics"
          ],
          [
           "Twine, cordage or rope; knotted netting, made up fishing nets and other made up nets, of textile materials"
          ],
          [
           "Articles of yarn, strip or the like of heading no. 5404 or 5405; twine, cordage, rope or cables n.e.c. or included"
          ],
          [
           "Carpets and other textile floor coverings; knotted, whether or not made up"
          ],
          [
           "Carpets and other textile floor coverings; woven, (not tufted or flocked), whether or not made up, including kelem, schumacks, karamanie and similar hand-woven rugs"
          ],
          [
           "Carpets and other textile floor coverings; tufted, whether or not made up"
          ],
          [
           "Carpets and other textile floor coverings; of felt, (not tufted or flocked), whether or not made up"
          ],
          [
           "Carpets and other textile floor coverings; n.e.c. in chapter 57, whether or not made up"
          ],
          [
           "Fabrics; woven pile and chenille fabrics, other than fabrics of heading no. 5802 or 5806"
          ],
          [
           "Fabrics; terry towelling and similar woven terry fabrics other than narrow fabrics of heading no. 5806; tufted textile fabrics, excluding products of heading no. 5703"
          ],
          [
           "Gauze; other than narrow fabrics of heading no. 5806"
          ],
          [
           "Tulles and other net fabrics; not including woven, knitted or crocheted fabrics; lace in the piece, in strips or in motifs, (other than fabrics of headings 60.02 to 60.06)"
          ],
          [
           "Tapestries; hand-woven, (Gobelins, Flanders, Aubusson, Beauvais and the like) and needle-worked tapestries (e.g. petit point, cross-stitch) whether or not made up"
          ],
          [
           "Fabrics; narrow woven, other than goods of heading no. 5807; narrow fabrics consisting of warp without weft assembled by means of an adhesive (bolducs)"
          ],
          [
           "Labels, badges and similar articles; of textile materials, in the piece, in strips or cut to shape or size, not embroidered"
          ],
          [
           "Braids in the piece; ornamental trimmings in the piece, without embroidery, other than knitted or crocheted; tassels, pompons and similar articles"
          ],
          [
           "Fabrics, woven; of metal thread and metallised yarn of heading no. 5605, of a kind used in apparel, as furnishing fabrics or similar purposes; n.e.c. or included"
          ],
          [
           "Embroidery; in the piece, in strips or in motifs"
          ],
          [
           "Quilted textile products; in the piece, composed of one or more layers of textile materials assembled with padding by stitching or otherwise (excluding embroidery of heading no. 5810)"
          ],
          [
           "Textile fabrics, gum or amylaceous substance coated, used for outer book covers and like; tracing cloth, prepared painting canvas; buckram and similar stiffened textile fabrics used for hat foundation"
          ],
          [
           "Textile fabrics; tyrecord of high tenacity yarn of nylon or other polyamides polyesters or viscose rayon"
          ],
          [
           "Textile fabrics impregnated, coated, covered or laminated with plastics, other than those of heading no. 5902"
          ],
          [
           "Linoleum, whether or not cut to shape; floor coverings consisting of a coating or covering applied on a textile backing, whether or not cut to shape"
          ],
          [
           "Textile wall coverings"
          ],
          [
           "Textile fabrics, rubberised; other than those of heading no. 5902"
          ],
          [
           "Textile fabrics; otherwise impregnated, coated or covered; painted canvas being theatrical scenery, studio back-cloths or the like"
          ],
          [
           "Textile wicks, woven, plaited or knitted; for lamps, stoves, lighters, candles or the like; incandescent gas mantles and tubular knitted gas mantle fabric therefor, whether or not impregnated"
          ],
          [
           "Textile hose piping and similar textile tubing; with or without lining, armour or accessories of other materials"
          ],
          [
           "Textiles; transmission or conveyor belts or belting, of textile material, whether or not impregnated, coated, covered or laminated with plastics, or reinforced with metal or other material"
          ],
          [
           "Textile products and articles for technical uses; specified in note 7 to this chapter"
          ],
          [
           "Fabrics; pile fabrics, including long pile fabrics and terry fabrics, knitted or crocheted"
          ],
          [
           "Fabrics; knitted or crocheted, other than those of heading 60.01, of a width not exceeding 30cm, containing by weight 5% or more of elastomeric yarn or rubber thread"
          ],
          [
           "Fabrics; knitted or crocheted fabrics, other than those of heading 60.01 and 60.02, of a width not exceeding 30 cm,"
          ],
          [
           "Fabrics; knitted or crocheted fabrics of a width exceeding 30 cm, other than those of heading 60.01, containing by weight 5% or more of elastomeric yarn or rubber thread"
          ],
          [
           "Fabrics; warp knit (including those made on galloon knitting machines), other than those of headings 60.01 to 60.04"
          ],
          [
           "Fabrics; knitted or crocheted fabrics, other than those of headings 60.01 to 60.04"
          ],
          [
           "Coats; men's or boys' overcoats, car-coats, capes, cloaks, anoraks, ski-jackets, wind-cheaters, wind-jackets and similar articles; knitted or crocheted, other than those of heading no. 6103"
          ],
          [
           "Coats; women's or girls' overcoats, car-coats, capes, cloaks, anoraks, ski-jackets, wind-cheaters, wind-jackets and similar articles, knitted or crocheted, other than those of heading no. 6104"
          ],
          [
           "Suits, ensembles, jackets, blazers, trousers, bib and brace overalls, breeches, shorts (not swimwear); men's or boys', knitted or crocheted"
          ],
          [
           "Suits, ensembles, jackets, dresses, skirts, divided skirts, trousers, bib and brace overalls, breeches and shorts (not swimwear), women's or girls', knitted or crocheted"
          ],
          [
           "Shirts; men's or boys', knitted or crocheted"
          ],
          [
           "Blouses, shirts and shirt-blouses; women's or girls', knitted or crocheted"
          ],
          [
           "Underpants, briefs, nightshirts, pyjamas, bathrobes, dressing gowns and similar articles; men's or boys', knitted or crocheted"
          ],
          [
           "Slips, petticoats, briefs, panties, nightdresses, pyjamas, negligees, bathrobes, dressing gowns and similar articles; women's or girls', knitted or crocheted"
          ],
          [
           "T-shirts, singlets and other vests; knitted or crocheted"
          ],
          [
           "Jerseys, pullovers, cardigans, waistcoats and similar articles; knitted or crocheted"
          ],
          [
           "Garments and clothing accessories, babies'; knitted or crocheted"
          ],
          [
           "Track suits, ski suits and swimwear; knitted or crocheted"
          ],
          [
           "Garments; knitted or crocheted, n.e.c. in chapter 61"
          ],
          [
           "Hosiery; panty hose, tights, stockings, socks and other hosiery, including graduated compression hosiery (for example, stockings for varicose veins) and footwear without applied soles, knitted or crocheted"
          ],
          [
           "Gloves, mittens and mitts; knitted or crocheted"
          ],
          [
           "Clothing accessories; made up, knitted or crocheted, knitted or crocheted parts of garments or of clothing accessories"
          ],
          [
           "Overcoats, car-coats, capes, cloaks, anoraks (including ski-jackets), wind-cheaters, wind-jackets and similar articles, men's or boys', other than those of heading no. 6203 (not knitted or crocheted)"
          ],
          [
           "Coats; women's or girls' overcoats, carcoats, capes, cloaks, anoraks, ski-jackets, wind-cheaters, wind-jackets and similar articles, other than those of heading no. 6204 (not knitted or crocheted)"
          ],
          [
           "Suits, ensembles, jackets, blazers, trousers, bib and brace overalls, breeches and shorts (other than swimwear); men's or boys' (not knitted or crocheted)"
          ],
          [
           "Suits, ensembles, jackets, dresses, skirts, divided skirts, trousers, bib and brace overalls, breeches and shorts (other than swimwear); women's or girls' (not knitted or crocheted)"
          ],
          [
           "Shirts; men's or boys' (not knitted or crocheted)"
          ],
          [
           "Blouses, shirts and shirt-blouses; women's or girls' (not knitted or crocheted)"
          ],
          [
           "Singlets and other vests, underpants, briefs, night-shirts, pyjamas, bathrobes, dressing gowns and similar articles; men's or boys' (not knitted or crocheted)"
          ],
          [
           "Singlets and other vests, slips, petticoats, briefs, panties, nightdresses, pyjamas, negligees, bathrobes, dressing gowns and similar articles; women's or girls' (not knitted or crocheted)"
          ],
          [
           "Garments and clothing accessories; babies' (not knitted or crocheted)"
          ],
          [
           "Garments made up of fabrics of heading no. 5602, 5603, 5903, 5906 or 5907 (not knitted or crocheted)"
          ],
          [
           "Track suits, swimwear and other garments (not knitted or crocheted)"
          ],
          [
           "Brassieres, girdles, corsets, braces, suspenders, garters and similar articles and parts thereof; whether or not knitted or crocheted"
          ],
          [
           "Handkerchiefs (not knitted or crocheted)"
          ],
          [
           "Shawls, scarves, mufflers, mantillas, veils and the like (not knitted or crocheted)"
          ],
          [
           "Ties, bow ties and cravats (not knitted or crocheted)"
          ],
          [
           "Gloves, mittens and mitts (not knitted or crocheted)"
          ],
          [
           "Clothing accessories n.e.c.; parts of garments or accessories other than those of heading no. 6212 (not knitted or crocheted)"
          ],
          [
           "Blankets and travelling rugs"
          ],
          [
           "Bed linen, table linen, toilet linen and kitchen linen"
          ],
          [
           "Curtains (including drapes) and interior blinds; curtain or bed valances"
          ],
          [
           "Furnishing articles; excluding those of heading no. 9404"
          ],
          [
           "Sacks and bags, of a kind used for the packing of goods"
          ],
          [
           "Tarpaulins, awnings and sunblinds; tents; sails for boats, sailboards or landcraft; camping goods"
          ],
          [
           "Textiles; made up articles n.e.c. in chapter 63, including dress patterns"
          ],
          [
           "Rags; used or new, scrap twine, cordage, rope and cables and worn out articles of twine, cordage, rope or cables, of textile materials"
          ],
          [
           "Footwear; waterproof, with outer soles and uppers of rubber or plastics, (uppers not fixed to the sole nor assembled by stitch, rivet, nail, screw, plug or similar)"
          ],
          [
           "Footwear; with outer soles and uppers of rubber or plastics (excluding waterproof footwear)"
          ],
          [
           "Footwear; with outer soles of rubber, plastics, leather or composition leather and uppers of leather"
          ],
          [
           "Footwear; with outer soles of rubber, plastics, leather or composition leather and uppers of textile materials"
          ],
          [
           "Footwear; other footwear n.e.c. in chapter 64"
          ],
          [
           "Footwear; parts of footwear; removable in-soles, heel cushions and similar articles; gaiters, le.g.ings and similar articles, and parts thereof"
          ],
          [
           "Hat-forms, hat bodies and hoods of felt, neither blocked to shape nor with made brims; plateaux and manchons (including slit manchons) of felt"
          ],
          [
           "Hat-shapes; plaited or made by assembling strips of any material, neither blocked to shape, nor with made brims, nor lined, nor trimmed"
          ],
          [
           "Hats and other headgear; plaited or made by assembling strips of any material, whether or not lined or trimmed"
          ],
          [
           "Hats and other headgear; knitted or crocheted, or made up from lace, felt or other textile fabric, in the piece (but not in strips), whether or not lined or trimmed; hair-nets of any material, whether or not lined or trimmed"
          ],
          [
           "Headgear; n.e.c. in chapter 65, whether or not lined or trimmed"
          ],
          [
           "Head-bands, linings, covers, hat foundations, hat frames, peaks and chinstraps, for headgear"
          ],
          [
           "Umbrellas; sun umbrellas (including walking stick umbrellas, garden umbrellas and similar umbrellas)"
          ],
          [
           "Walking-sticks, seat-sticks, whips, riding-crops and the like"
          ],
          [
           "Trimmings, parts and accessories of articles of heading no. 6601 or 6602"
          ],
          [
           "Skin and other parts of birds with their feather or down; feathers, parts of feather, down and articles thereof (other than goods of heading no. 0505 and worked quills and scapes)"
          ],
          [
           "Flowers, foliage and fruit, artificial, and parts thereof; articles made of artificial flowers, foliage or fruit"
          ],
          [
           "Human hair, dressed, thinned, bleached or otherwise worked; wool or other animal hair or other textile materials, prepared for use in making wigs or the like"
          ],
          [
           "Wigs, false beards, eyebrows and eyelashes, switches and the like, of human or animal hair or of textile materials; articles of human hair, n.e.c. or included"
          ],
          [
           "Stone; setts, curbstones and flagstones, of natural stone (except slate)"
          ],
          [
           "Monumental or building stone, worked (except slate) and articles thereof (not of heading no. 6801) mosaic cubes etc., of natural stone including slate; artificially coloured granules of natural stone"
          ],
          [
           "Slate, worked; and articles of slate or of agglomerated slate"
          ],
          [
           "Millstones, grindstones, grinding wheels, etc without frameworks, for grinding, sharpening, polishing, etc and parts thereof, natural stone, agglomerated natural or artificial abrasives or of ceramics"
          ],
          [
           "Abrasive powder or grain; natural or artificial, on a base of textile material, of paper, paperboard or of other material, whether or not cut to shape or sewn or otherwise made up"
          ],
          [
           "Slag, rock wool and similar mineral wools; exfoliated vermiculite, expanded clays, foamed slag, mixtures and articles of heat, sound insulating or sound-absorbing mineral materials"
          ],
          [
           "Asphalt or similar material; articles (e.g. petroleum bitumen or coal tar pitch)"
          ],
          [
           "Panels, boards, tiles, blocks and the like; of vegetable fibre, of straw, shavings, chips, particles, sawdust or other waste, of wood, agglomerated with cement, plaster or other mineral binders"
          ],
          [
           "Plaster or compositions based on plaster; articles thereof"
          ],
          [
           "Cement, concrete or artificial stone; whether or not reinforced, articles thereof"
          ],
          [
           "Asbestos-cement, of cellulose fibre-cement or the like"
          ],
          [
           "Fabricated asbestos fibres; mixtures with a basis of asbestos or of asbestos and magnesium carbonate; articles of such mixtures or of asbestos (e.g. thread, woven fabric, clothing, footwear), whether or not reinforced, not goods of heading 6811 or 6813"
          ],
          [
           "Friction material and articles thereof (e.g. sheets, rolls, strips, segments, discs, washers, pads) not mounted; for brakes, clutches or the like, with a basis of asbestos, other mineral substances, or cellulose"
          ],
          [
           "Mica; worked, articles of, including agglomerated or reconstituted mica; whether or not on a support of paper, paperboard or other materials"
          ],
          [
           "Stone or other mineral substances; articles thereof (including articles of peat), n.e.c. or included"
          ],
          [
           "Bricks, blocks, tiles and other ceramic goods of siliceous fossil meals (e.g. kieselguhr, tripolite or diatomite) or of similar siliceous earths"
          ],
          [
           "Refractory bricks, blocks, tiles and similar refractory ceramic constructional goods; other than those of siliceous fossil meals or similar siliceous earths"
          ],
          [
           "Ceramic goods; (e.g. retorts, crucibles, muffles, nozzles, plugs, supports cupels, tubes, pipes, sheaths, rods) excluding those of siliceous fossil meals or of similar siliceous earths"
          ],
          [
           "Ceramic building bricks, floor blocks, support or filler tiles and the like"
          ],
          [
           "Roofing tiles, chimney-pots, cowls, chimney liners, architectural ornaments and other ceramic constructional goods"
          ],
          [
           "Ceramic flags and paving, hearth or wall tiles, unglazed; unglazed ceramic mosaic cubes and the like, whether or not on a backing"
          ],
          [
           "Ceramic flags and paving, hearth or wall tiles, glazed; glazed ceramic mosaic cubes and the like, whether or not on a backing"
          ],
          [
           "Ceramic ware for laboratory, chemical, other technical uses; ceramic troughs, tubs, similar receptacles used in agriculture; ceramic pots, jars and similar used in the conveyance or packing of goods"
          ],
          [
           "Ceramic sinks, wash basins, wash basin pedestals, baths, bidets, water closet pans, flushing cisterns, urinals and similar sanitary fixtures"
          ],
          [
           "Tableware, kitchenware, other household articles and toilet articles; of porcelain or china"
          ],
          [
           "Ceramic tableware, kitchenware, other household articles and toilet articles; other than of porcelain or china"
          ],
          [
           "Statuettes and other ornamental ceramic articles"
          ],
          [
           "Ceramic articles; n.e.c. in chapter 69"
          ],
          [
           "Glass; cullet and other waste and scrap of glass, glass in the mass"
          ],
          [
           "Glass in balls (other than microspheres of heading no. 7018), rods or tubes, unworked"
          ],
          [
           "Glass; cast glass and rolled glass in sheets or profiles, whether or not having an absorbent, reflecting or non-reflecting layer, but not otherwise worked"
          ],
          [
           "Glass; drawn glass and blown glass, in sheets, whether or not having an absorbent, reflecting or non-reflecting layer, but not otherwise worked"
          ],
          [
           "Glass; float glass and surface ground or polished glass, in sheets, whether or not having an absorbent, reflecting or non-reflecting layer, but not otherwise worked"
          ],
          [
           "Glass of heading no. 7003, 7004 or 7005, bent, edge-worked, engraved, drilled, enamelled or otherwise worked, not framed or fitted with other materials"
          ],
          [
           "Safety glass, consisting of toughened (tempered) or laminated glass"
          ],
          [
           "Glass; multiple-walled insulating units of glass"
          ],
          [
           "Glass mirrors; whether or not framed, including rear-view mirrors"
          ],
          [
           "Carboys, bottles, flasks, jars, pots, phials, ampoules, containers of glass of a kind used for the conveyance or packing of goods; preserving jars of glass; stoppers, lids and other closures of glass"
          ],
          [
           "Glass envelopes (including bulbs and tubes), open and glass parts thereof, without fittings, for electric lamps, cathode-ray tubes or the like"
          ],
          [
           "Glassware of a kind used for table, kitchen, toilet, office, indoor decoration or similar purposes (other than of heading no. 7010 or 7018)"
          ],
          [
           "Signalling glassware and optical elements of glass (other than those of heading no. 7015), not optically worked"
          ],
          [
           "Clock, watch and similar glasses, glasses for non-corrective or corrective spectacles, curved, bent, hallowed etc, not optically worked; hollow glass spheres and their segments for manufacture"
          ],
          [
           "Glass; paving blocks, slabs, bricks, tiles etc, of pressed, moulded glass, whether or not wired, glass smallwares for decorative purposes leaded lights and the like; multicellular or foam glass"
          ],
          [
           "Laboratory, hygienic or pharmaceutical glassware, whether or not graduated or calibrated"
          ],
          [
           "Glass beads, imitation pearls, precious or semi-precious stones and similar glass smallwares, statuettes and other ornaments of worked glass; glass microspheres not exceeding 1mm in diameter"
          ],
          [
           "Glass fibres (including glass wool) and articles thereof (e.g. yarn, woven fabrics)"
          ],
          [
           "Glass; articles n.e.c. in chapter 70"
          ],
          [
           "Pearls; natural or cultured, whether or not worked or graded but not strung, mounted or set; pearls, natural or cultured, temporarily strung for the convenience of transport"
          ],
          [
           "Diamonds, whether or not worked, but not mounted or set"
          ],
          [
           "Precious (excluding diamond) and semi-precious stone; worked, graded, not strung, mounted, set; ungraded precious (excluding diamond) and semi-precious stone, temporarily strung for convenience of transport"
          ],
          [
           "Synthetic, reconstructed precious, semi-precious stone worked, graded or not, not strung or mounted, set; ungraded synthetic, reconstructed precious, semi-precious stones, temporarily strung for transport"
          ],
          [
           "Dust and powder of natural or synthetic precious or semi-precious stone"
          ],
          [
           "Silver (including silver plated with gold or platinum); unwrought or in semi-manufactured forms, or in powder form"
          ],
          [
           "Base metals clad with silver; not further worked than semi-manufactured"
          ],
          [
           "Platinum; unwrought or in semi-manufactured forms, or in powder form"
          ],
          [
           "Waste and scrap of precious metal or of metal clad with precious metal; other waste and scrap containing precious metal compounds, of a kind uses principally for the recovery of precious metal"
          ],
          [
           "Jewellery articles and parts thereof, of precious metal or of metal clad with precious metal"
          ],
          [
           "Articles of goldsmiths' or silversmiths' wares and parts thereof, of precious metal or of metal clad with precious metal"
          ],
          [
           "Articles of precious metal or of metal clad with precious metal"
          ],
          [
           "Articles of natural or cultured pearls, precious or semi-precious stones (natural, synthetic or reconstructed)"
          ],
          [
           "Imitation jewellery"
          ],
          [
           "Coin"
          ],
          [
           "Pig iron and spiegeleisen in pigs, blocks or other primary forms"
          ],
          [
           "Ferro-alloys"
          ],
          [
           "Ferrous waste and scrap; remelting scrap ingots of iron or steel"
          ],
          [
           "Granules and powders, of pig iron, spiegeleisen, iron or steel"
          ],
          [
           "Iron and non-alloy steel in ingots or other primary forms (excluding iron of heading no. 7203)"
          ],
          [
           "Iron or non-alloy steel; semi-finished products thereof"
          ],
          [
           "Iron or non-alloy steel; flat-rolled products of a width of 600mm or more, hot-rolled, not clad, plated or coated"
          ],
          [
           "Iron or non-alloy steel; flat-rolled products, width 600mm or more, cold-rolled (cold-reduced), not clad, plated or coated"
          ],
          [
           "Iron or non-alloy steel; flat-rolled products, width 600mm or more, clad, plated or coated"
          ],
          [
           "Iron or non-alloy steel; flat-rolled products, width less than 600mm, not clad, plated or coated"
          ],
          [
           "Iron or non-alloy steel; flat-rolled products, width less than 600mm, clad, plated or coated"
          ],
          [
           "Iron or non-alloy steel; bars and rods, hot-rolled, in irregularly wound coils"
          ],
          [
           "Iron or non-alloy steel; bars and rods, not further worked than forged, hot-rolled, hot drawn or hot-extruded, but including those twisted after rolling"
          ],
          [
           "Iron or non-alloy steel; bars and rods, n.e.c. in chapter 72"
          ],
          [
           "Iron or non-alloy steel, angles, shapes and sections"
          ],
          [
           "Wire of iron or non-alloy steel"
          ],
          [
           "Stainless steel in ingots or other primary forms; semi-finished products of stainless steel"
          ],
          [
           "Stainless steel; flat-rolled products of width of 600mm or more"
          ],
          [
           "Stainless steel; flat-rolled products of width less than 600mm"
          ],
          [
           "Stainless steel bars and rods, angles, shapes and sections"
          ],
          [
           "Stainless steel wire"
          ],
          [
           "Alloy steel in ingots or other primary forms, semi-finished products of other alloy steel"
          ],
          [
           "Alloy steel flat-rolled products, of a width 600mm or more"
          ],
          [
           "Alloy steel flat-rolled products, of a width of less than 600mm"
          ],
          [
           "Steel, alloy; bars and rods, hot-rolled, in irregularly wound coils"
          ],
          [
           "Alloy steel bars, rods, shapes and sections; hollow drill bars and rods, of alloy or non-alloy steel"
          ],
          [
           "Wire of other alloy steel"
          ],
          [
           "Iron or steel sheet piling, whether or not drilled, punched or made from assembled elements; welded angles, shapes and sections, of iron or steel"
          ],
          [
           "Railway or tramway track constructions of iron or steel; rails, check and track rails, switch blades, crossing frogs, point rods, sleepers, fish-plates, chair wedges, sole plates, bedplates, ties and the like"
          ],
          [
           "Tubes, pipes and hollow profiles, of cast iron"
          ],
          [
           "Tubes, pipes and hollow profiles, seamless, of iron (other than cast iron) or steel"
          ],
          [
           "Iron or steel (excluding cast iron); tubes and pipes (e.g. welded, riveted or similarly closed), having circular cross-sections, external diameter of which exceeds 406.4mm, not seamless"
          ],
          [
           "Iron or steel (excluding cast iron); tubes, pipes and hollow profiles (not seamless), n.e.c. in chapter 73"
          ],
          [
           "Tube or pipe fittings (e.g. couplings, elbows, sleeves), of iron or steel"
          ],
          [
           "Structures of iron or steel and parts thereof; plates, rods, angles, shapes, sections, tubes and the like, prepared for use in structures"
          ],
          [
           "Reservoirs, tanks, vats and similar containers; for any material (excluding compressed or liquefied gas), of iron or steel, capacity exceeding 300l, whether or not lined or heat insulated"
          ],
          [
           "Tanks, casks, drums, cans, boxes and similar containers, for any material (excluding compressed or liquefied gas), of iron or steel, capacity not exceeding 300l, whether or not lined or heat-insulated"
          ],
          [
           "Containers for compressed or liquefied gas, of iron or steel"
          ],
          [
           "Stranded wire, ropes, cables, plaited bands, slings and the like, of iron or steel, not electrically insulated"
          ],
          [
           "Barbed wire of iron or steel; twisted hoop or single flat wire, barbed or not and loosely twisted double wire, of a kind used for fencing, of iron or steel"
          ],
          [
           "Cloth (including endless bands), grill, netting and fencing, of iron or steel wire; expanded metal of iron or steel"
          ],
          [
           "Chain and parts thereof, of iron or steel"
          ],
          [
           "Anchors, grapnels and parts thereof, of iron or steel"
          ],
          [
           "Nails, tacks, drawing pins, corrugated nails, staples (not those of heading no. 8305) and the like, of iron or steel, with heads of other material or not, but excluding articles with heads of copper"
          ],
          [
           "Screws, bolts, nuts, coach screws, screw hooks, rivets, cotters, cotter-pins, washers (including spring washers) and similar articles, of iron or steel"
          ],
          [
           "Sewing and knitting needles, bodkins, crochet hooks, embroidery stilettos and similar articles, for use in the hand, of iron or steel; safety pins and other pins of iron or steel, not elsewhere specified or included"
          ],
          [
           "Springs and leaves for springs, of iron or steel"
          ],
          [
           "Stoves, ranges, grates, cookers (those with subsidiary boilers for central heating), barbecues, braziers, gas-rings, plate warmers and similar non-electric domestic appliances and parts, of iron or steel"
          ],
          [
           "Radiators for central heating, not electrically heated and parts thereof, of iron or steel; air heaters, hot air distributors not electrically heated, with motor fan or blower"
          ],
          [
           "Table, kitchen, other household articles and parts, of iron or steel; iron or steel wool; pot scourers and scouring or polishing pads, gloves and the like, of iron or steel"
          ],
          [
           "Sanitary ware and parts thereof, of iron or steel"
          ],
          [
           "Iron or steel; cast articles"
          ],
          [
           "Iron or steel; articles, n.e.c. in chapter 73"
          ],
          [
           "Copper; unrefined, copper anodes for electrolytic refining"
          ],
          [
           "Copper; refined and copper alloys, unwrought"
          ],
          [
           "Copper; waste and scrap"
          ],
          [
           "Copper; master alloys"
          ],
          [
           "Copper; powders and flakes"
          ],
          [
           "Copper; bars, rods and profiles"
          ],
          [
           "Copper wire"
          ],
          [
           "Copper plates, sheets and strip; of a thickness exceeding 0.15mm"
          ],
          [
           "Copper foil (whether or not printed or backed with paper, paperboard, plastics or similar backing materials) of a thickness (excluding any backing) not exceeding 0.15mm"
          ],
          [
           "Copper tubes and pipes"
          ],
          [
           "Copper; tube or pipe fittings (e.g. couplings, elbows, sleeves)"
          ],
          [
           "Copper; stranded wire, cables, plaited bands and the like, not electrically insulated"
          ],
          [
           "Copper, nails, tacks, drawing pins, staples (not those of heading no. 8305) and the like, of copper or iron or steel with heads of copper; screws bolts, nuts, screws hooks, rivets, cotters, washers"
          ],
          [
           "Copper; table, kitchen or other household articles and parts thereof; pot scourers, scouring, polishing pads, gloves and the like; sanitary ware and parts thereof"
          ],
          [
           "Copper; articles thereof n.e.c. in chapter 74"
          ],
          [
           "Nickel; unwrought"
          ],
          [
           "Nickel; powders and flakes"
          ],
          [
           "Nickel; bars, rods, profiles and wire"
          ],
          [
           "Nickel; plates, sheets, strip and foil"
          ],
          [
           "Nickel; tubes, pipes and tube or pipe fittings (e.g. couplings, elbows, sleeves)"
          ],
          [
           "Nickel; articles thereof n.e.c. in chapter 75"
          ],
          [
           "Aluminium; unwrought"
          ],
          [
           "Aluminium; waste and scrap"
          ],
          [
           "Aluminium; powders and flakes"
          ],
          [
           "Aluminium; bars, rods and profiles"
          ],
          [
           "Aluminium wire"
          ],
          [
           "Aluminium; plates, sheets and strip, thickness exceeding 0.2mm"
          ],
          [
           "Aluminium foil (whether or not printed or backed with paper, paperboard, plastics or similar backing materials) of a thickness (excluding any backing) not exceeding 0.2mm"
          ],
          [
           "Aluminium; tubes and pipes"
          ],
          [
           "Aluminium; tube or pipe fittings (e.g. couplings, elbows, sleeves)"
          ],
          [
           "Aluminium; structures (excluding prefabricated buildings of heading no. 9406) and parts (e.g. bridges and sections, towers, lattice masts, etc) plates, rods, profiles and tubes for structures"
          ],
          [
           "Aluminium; reservoirs, tanks, vats and the like for material (not compressed or liquefied gas) of capacity over 300l, whether or not lined, heat-insulated, not fitted with mechanical, thermal equipment"
          ],
          [
           "Aluminium casks, drums, cans, boxes etc (including rigid, collapsible tubular containers), for materials other than compressed, liquefied gas, 300l capacity or less, lined, heat-insulated or not"
          ],
          [
           "Aluminium; containers for compressed or liquefied gas"
          ],
          [
           "Aluminium; stranded wire, cables, plaited bands and the like, (not electrically insulated)"
          ],
          [
           "Aluminium; table, kitchen or other household articles and parts thereof, pot scourers and scouring or polishing pads, gloves and the like, sanitary ware and parts thereof"
          ],
          [
           "Aluminium; articles n.e.c. in chapter 76"
          ],
          [
           "Lead; unwrought"
          ],
          [
           "Lead; plates, sheets, strip and foil, lead powders and flakes"
          ],
          [
           "Lead; articles n.e.c. in chapter 78"
          ],
          [
           "Zinc; unwrought"
          ],
          [
           "Zinc; dust, powders and flakes"
          ],
          [
           "Zinc; bars, rods, profiles and wire"
          ],
          [
           "Zinc; plates, sheets, strip and foil"
          ],
          [
           "Zinc; articles n.e.c. in chapter 79"
          ],
          [
           "Tin; unwrought"
          ],
          [
           "Tin; bars, rods, profiles and wire"
          ],
          [
           "Tin; articles n.e.c. in chapter 80"
          ],
          [
           "Tungsten (wolfram); articles thereof, including waste and scrap"
          ],
          [
           "Molybdenum; articles thereof, including waste and scrap"
          ],
          [
           "Magnesium; articles thereof, including waste and scrap"
          ],
          [
           "Cobalt; mattes and other intermediate products of cobalt metallurgy, cobalt and articles thereof, including waste and scrap"
          ],
          [
           "Bismuth; articles thereof, including waste and scrap"
          ],
          [
           "Cadmium; articles thereof, including waste and scrap"
          ],
          [
           "Titanium; articles thereof, including waste and scrap"
          ],
          [
           "Zirconium; articles thereof, including waste and scrap"
          ],
          [
           "Manganese; articles thereof, including waste and scrap"
          ],
          [
           "Beryllium, chromium, germanium, vanadium, gallium, hafnium, indium, niobium (columbium), rhenium and thallium; and articles of these metals, including waste and scrap"
          ],
          [
           "Cermets; articles thereof, including waste and scrap"
          ],
          [
           "Tools, hand; spades, shovels, mattocks, picks, hoes, forks, rakes; axes, bill hooks etc; secateurs and pruners of any kind; scythes, sickles, hay knives, hedge shears, timber wedges and other tools used in agriculture, horticulture, forestry"
          ],
          [
           "Tools, hand; saws and blades for saws of all kinds (including slitting, slotting or toothless blades)"
          ],
          [
           "Tools, hand; files, rasps, pliers (including cutting pliers), pincers, tweezers, metal cutting shears, pipe cutters, bolt croppers, perforating punches and similar"
          ],
          [
           "Tools, hand; hand-operated spanners and wrenches (including torque meter wrenches but not including tap wrenches), interchangeable spanner sockets, with or without handles"
          ],
          [
           "Tools, hand; (including glaziers' diamonds) n.e.c.; blow lamps; vices, clamps etc, other than accessories for and parts of, machine tools; anvils; portable forges; hand or pedal operated grinding wheels with frameworks"
          ],
          [
           "Tools, hand; two or more of heading no. 8202 to 8205, put up in sets for retail sale"
          ],
          [
           "Tools, interchangeable; for hand tools, whether or not power-operated, or for machine tools (pressing, stamping, punching, drilling etc), including dies for drawing or extruding metal, and rock drilling or earth boring tools"
          ],
          [
           "Knives and cutting blades, for machines or for mechanical appliances"
          ],
          [
           "Tools; plates, sticks, tips and the like for tools, unmounted, of sintered metal carbides or cermets"
          ],
          [
           "Tools; hand-operated mechanical appliances, weighing 10kg or less, used in the preparation, conditioning or serving of food or drink"
          ],
          [
           "Knives; with cutting blades, serrated or not (including pruning knives), other than knives of heading no. 8208, and blades therefore"
          ],
          [
           "Razors and razor blades; (including razor blade blanks in strips)"
          ],
          [
           "Scissors; tailors' shears and similar shears, and blades therefore"
          ],
          [
           "Cutlery; other articles, (e.g. hair clippers, butchers' or kitchen cleavers, choppers and mincing knives, paper knives), manicure or pedicure sets and instruments (including nail files)"
          ],
          [
           "Cutlery; spoons, forks, ladles, skimmers, cake-servers, fish-knives, butter knives, sugar tongs and similar kitchen or tableware"
          ],
          [
           "Padlocks and locks (key, combination, electrically operated) of base metal; clasps and frames with clasps incorporating locks, of base metal, keys for any or the foregoing articles, of base metal"
          ],
          [
           "Base metal mountings, fittings and similar articles for furniture, doors, staircases, windows, trunks, chests etc, castors with mountings of base metal, automatic door closers of base metal"
          ],
          [
           "Safes; armoured or reinforced, strong-boxes, doors and safe deposit lockers for strong-rooms, cash or deed boxes and the like, of base metal"
          ],
          [
           "Office equipment; filing cabinets, card-index cabinets, paper trays and rests, pen trays, office-stamp stands and the like, of base metal, other than office furniture of heading no. 9403"
          ],
          [
           "Stationery; fittings for loose-leaf binders or files, letter clips, letter corners, paper clips, indexing tags and the like, staples in strips (for offices, upholstery, packaging), of base metal"
          ],
          [
           "Bells, gongs and the like; non-electric, statuettes, other ornaments, photograph, picture, similar frames, mirrors, of base metal"
          ],
          [
           "Tubing; flexible, with or without fittings, of base metal"
          ],
          [
           "Clasps; frames with clasps, buckles, hooks, eyes, eyelets etc used for clothing, footwear, awnings, handbags, travel goods or other articles, tubular, bifurcated rivets, beads, spangles, of base metal"
          ],
          [
           "Stoppers, caps, lids (including crown corks, screw caps, pouring stoppers); capsules for bottles, threaded bungs, bung covers, seals and other packaging accessories, of base metal"
          ],
          [
           "Sign plates, name plates, address plates and similar plates, numbers, letters and other symbols, of base metal, excluding those of heading no. 9405"
          ],
          [
           "Wires, rods, tubes, plates, electrodes of base metal or metal carbides; of a kind used for soldering, brazing, welding; wires and rods for metal spraying"
          ],
          [
           "Nuclear reactors; fuel elements (cartridges), non-irradiated, for nuclear reactors, machinery and apparatus for isotopic separation"
          ],
          [
           "Boilers; steam or other vapour generating (other than central heating hot water boilers, capable also of producing low pressure steam), super heated water boilers"
          ],
          [
           "Central heating boilers; excluding those of heading no. 8402"
          ],
          [
           "Auxiliary plant for use with boilers of heading no. 8402 or 8403; e.g. economisers, super-heaters, soot removers, gas recoverers), condensers for steam or other vapour power units"
          ],
          [
           "Generators for producer or water gas with or without their purifiers acetylene gas generators and similar water process gas generators, with or without their purifiers"
          ],
          [
           "Turbines; steam and other vapour turbines"
          ],
          [
           "Reciprocating or rotary internal combustion piston engines"
          ],
          [
           "Compression-ignition internal combustion piston engines (diesel or semi-diesel engines)"
          ],
          [
           "Parts suitable for use solely or principally with the engines of heading no. 8407 or 8408"
          ],
          [
           "Turbines; hydraulic water wheels and regulators therefor"
          ],
          [
           "Turbo-jets, turbo-propellers and other gas turbines"
          ],
          [
           "Engines and motors; n.e.c. (e.g. reaction engines, hydraulic power engines, pneumatic power engines)"
          ],
          [
           "Pumps; for liquids, whether or not fitted with measuring device, liquid elevators"
          ],
          [
           "Air or vacuum pumps, air or other gas compressors and fans; ventilating or recycling hoods incorporating a fan whether or not fitted with filters"
          ],
          [
           "Air conditioning machines; comprising a motor driven fan and elements for changing the temperature and humidity, including those machines in which the humidity cannot be separately regulated"
          ],
          [
           "Furnace burners for liquid fuel, for pulverised solid fuel or for gas; mechanical grates, mechanical ash dischargers and similar appliances"
          ],
          [
           "Furnaces and ovens; industrial or laboratory, including incinerators, non-electric"
          ],
          [
           "Refrigerators, freezers and other refrigerating or freezing equipment, electric or other; heat pumps other than air conditioning machines of heading no. 8415"
          ],
          [
           "Machinery, plant (not domestic), or laboratory equipment; electrically heated or not, (excluding items in 85.14) for the treatment of materials by a process involving change of temperature; including instantaneous or non electric storage water heaters"
          ],
          [
           "Machines; calendering or other rolling machines, for other than metal or glass and cylinders therefor"
          ],
          [
           "Centrifuges, including centrifugal dryers; filtering or purifying machinery and apparatus for liquids or gases"
          ],
          [
           "Dish washing machines; machinery for cleaning, drying, filling, closing, sealing, capsuling or labelling bottles, cans, boxes, bags, etc, machinery for aerating beverages"
          ],
          [
           "Weighing machines; excluding balances of a sensitivity of 5cg or better, including weight operated counting or checking machines and weights of all kinds"
          ],
          [
           "Mechanical appliances for projecting, dispersing or spraying liquids or powders; fire extinguishers, spray guns, steam, sand blasting machines"
          ],
          [
           "Pulley tackle and hoists other than skip hoists; winches and capstans; jacks"
          ],
          [
           "Derricks, cranes, including cable cranes, mobile lifting frames, straddle carriers and works trucks fitted with a crane"
          ],
          [
           "Fork-lift and other works trucks; fitted with lifting or handling equipment"
          ],
          [
           "Lifting, handling, loading or unloading machinery; n.e.c. in heading no. 8425, 8426 or 8427 (e.g. lifts, escalators, conveyors, teleferics)"
          ],
          [
           "Bulldozers, graders, levellers, scrapers, angledozers, mechanical shovels, excavators, shovel loaders, tamping machines and road rollers, self-propelled"
          ],
          [
           "Moving, grading, levelling, scraping, excavating, tamping, compacting, extracting or boring machinery, for earth, minerals, or ores; pile drivers and extractors; snow ploughs and snow blowers"
          ],
          [
           "Machinery parts; used solely or principally with the machinery of heading no. 8425 to 8430"
          ],
          [
           "Agricultural, horticultural or forestry machinery for soil preparation or cultivation; lawn or sports-ground rollers"
          ],
          [
           "Harvesting and threshing machinery, straw and fodder balers, grass or hay mowers; machines for cleaning, sorting or grading eggs, fruit or other agricultural produce, other than machinery of heading no 8437"
          ],
          [
           "Milking machines and dairy machinery"
          ],
          [
           "Presses, crushers and similar machinery; used in the manufacture of wine, cider, fruit juices or similar beverages"
          ],
          [
           "Agricultural, horticultural, forestry, poultry-keeping, bee-keeping machinery; including germination plant fitted with mechanical or thermal equipment; poultry incubators and brooders"
          ],
          [
           "Machines for cleaning, sorting, grading seed, grain, dried leguminous vegetables; machinery used in the milling industry for the working of cereals or dried leguminous vegetables, not farm type machinery"
          ],
          [
           "Machinery n.e.c. in this chapter, for the industrial preparation or manufacture of food or drink; other than machinery for extraction or preparation of animal or fixed vegetable fats or oils"
          ],
          [
           "Machinery; for making pulp of fibrous cellulosic material, or for making or finishing paper or paperboard"
          ],
          [
           "Book-binding machinery; including book-sewing machines"
          ],
          [
           "Machines; for making up paper pulp, paper or paperboard, including cutting machines of all kinds"
          ],
          [
           "Machinery, apparatus and equipment (excluding machine-tools of heading no. 8456 to 8465) for preparing or making printing components; plates, cylinders and other printing components; lithographic stones prepared for printing purposes"
          ],
          [
           "Printing machinery; used for printing by means of plates, cylinders and other printing components of heading 84.42; other printers, copying machines and facsimile machines, whether or not combined; parts and accessories thereof"
          ],
          [
           "Textile machinery; for extruding, drawing, texturing or cutting man-made textile materials"
          ],
          [
           "Textile machinery; spinning, doubling, twisting machines, textile reeling or winding machines and machines for preparing textile yarns for use on machines of heading no. 8446 and 8447"
          ],
          [
           "Weaving machines (looms)"
          ],
          [
           "Knitting machines, stitch-bonding machines and machines for making gimped yarn, tulle, lace, embroidery, trimmings, braid or net and machines for tufting"
          ],
          [
           "Machinery, auxiliary; for use with machines of heading no. 8444 to 8447 (e.g. dobbies, jacquards, automatic stop motions, shuttle changing mechanisms) parts, accessories for machines of heading no. 8444, 8447"
          ],
          [
           "Machinery; for manufacture or finishing felt or non-wovens in the piece or in shapes, including machinery for making felt hats, blocks for making hats"
          ],
          [
           "Household or laundry-type washing machines; including machines which both wash and dry"
          ],
          [
           "Machinery (not of heading no. 8450) for washing, cleaning, wringing, drying, ironing, pressing, bleaching, dyeing, dressing, finishing, coating or impregnating textile yarn, fabrics or made up articles"
          ],
          [
           "Sewing machines; other than book-sewing machines of heading no. 8440; furniture, bases and covers specially designed for sewing machines; sewing machine needles"
          ],
          [
           "Machinery for preparing, tanning or working hides, skins or leather or for making or repairing footwear or other articles of hides, skins or leather, other than sewing machines"
          ],
          [
           "Converters, ladles, ingot moulds and casting machines; of a kind used metallurgy or in metal foundries"
          ],
          [
           "Metal-rolling mills and rolls therefor"
          ],
          [
           "Machine-tools; for working any material by removal of material, by laser or other light or photon beam, ultrasonic, electro-discharge, electro-chemical, electron beam, ionic-beam, or plasma arc processes; water-jet cutting machines"
          ],
          [
           "Machining centres, unit construction machines (single station) and multi-station transfer machines for working metal"
          ],
          [
           "Lathes for removing metal"
          ],
          [
           "Machine-tools; (including way-type unit head machines) for drilling, boring, milling, threading or tapping by removing metal, other than lathes of heading no. 8458"
          ],
          [
           "Machine-tools; for deburring, sharpening, grinding, honing, lapping, polishing or otherwise finishing metal, sintered metal carbides or cermets by means of grinding stones, abrasives or polishing products"
          ],
          [
           "Machine-tools; for planing, shaping, slotting, broaching, gear cutting and grinding, finishing, sawing, cutting off and other tools working by removing metal, sintered metal carbides or cermets n.e.c."
          ],
          [
           "Machine-tools; (including presses) for working metal by forging, hammering or die-stamping, for bending, folding, straightening, flattening, shearing or punching metal"
          ],
          [
           "Machine-tools; n.e.c. for working metal, sintered metal carbides or cermets without removing material"
          ],
          [
           "Machine-tools; for working stone, ceramics, concrete, asbestos-cement or like mineral materials or for cold working glass"
          ],
          [
           "Machine-tools; (including machines for nailing, stapling, glueing or otherwise assembling) for working wood, cork, bone, hard plastics or rubber or similar hard materials"
          ],
          [
           "Machine-tools; parts and accessories suitable for use solely or principally with the machines of headings 8456 to 8465, and tool holders for any type of tool for working in the hand"
          ],
          [
           "Tools; for working in the hand, pneumatic, hydraulic or with self-contained electric or non-electric motor"
          ],
          [
           "Machinery and apparatus for soldering, brazing, welding, whether or not capable of cutting, other than those of heading no. 8515; gas-operated surface tempering machines and appliances"
          ],
          [
           "Typewriters (other than printers of heading no. 8443) and word-processing machines"
          ],
          [
           "Calculating machines and pocket-size data recording, reproducing and displaying machines with calculating functions; accounting machines, postage-franking machines, ticket-issuing machines and similar, incorporating a calculating device; cash registers"
          ],
          [
           "Automatic data processing machines and units thereof, magnetic or optical readers, machines for transcribing data onto data media in coded form and machines for processing such data, not elsewhere specified or included"
          ],
          [
           "Office machines; not elsewhere classified"
          ],
          [
           "Machinery; parts and accessories (not covers, carrying cases and the like) suitable for use solely or principally with machines of heading no. 8469 to 8472"
          ],
          [
           "Machinery for sorting, screening, separating, washing, crushing, grinding, mixing or kneading earth, stone, ores in solid form, shaping, moulding machinery for solid mineral fuels"
          ],
          [
           "Machines; for assembling electric or electronic lamps, tubes, valves, flashbulbs, in glass envelopes, machines for manufacturing or hot working glass or glassware"
          ],
          [
           "Automatic goods-vending machines (e.g. postage stamp, cigarette, food or beverage machines), including money-changing machines"
          ],
          [
           "Machinery; for working rubber or plastics or for the manufacture of products from these materials, n.e.c. in this chapter"
          ],
          [
           "Machinery; for preparing or making up tobacco, n.e.c. in this chapter"
          ],
          [
           "Machinery and mechanical appliances; having individual functions, n.e.c. in this chapter"
          ],
          [
           "Moulding boxes for metal foundry, moulding patterns, moulds for metals (excluding ingot moulds), metal carbides, glass, mineral materials, rubber or plastics"
          ],
          [
           "Taps, cocks, valves and similar appliances for pipes, boiler shells, tanks, vats or the like, including pressure-reducing valves and thermostatically controlled valves"
          ],
          [
           "Ball or roller bearings"
          ],
          [
           "Transmission shafts (including cam and crank) and cranks; bearing housings and plain shaft bearings; gears and gearing; ball or roller screws; gear boxes and other speed changers; flywheels and pulleys; clutches and shaft couplings"
          ],
          [
           "Gaskets and similar joints of metal sheeting combined with other material or of two or more layers of metal; sets or assortments of gaskets and similar joints, dissimilar in composition, put up in pouches, envelopes or similar packings; mechanical seals"
          ],
          [
           "Machines and apparatus of a kind used solely or principally for the manufacture of semiconductor boules or wafers, semiconductor devices, electronic integrated circuits or flat panel displays; machines and apparatus specified in note 9-C to this Chapter"
          ],
          [
           "Machinery parts; not containing electrical connectors, insulators, coils, contacts or other electrical features, n.e.c. in this chapter"
          ],
          [
           "Electric motors and generators (excluding generating sets)"
          ],
          [
           "Electric generating sets and rotary converters"
          ],
          [
           "Electric motors and generators; parts suitable for use solely or principally with the machines of heading no. 8501 or 8502"
          ],
          [
           "Electric transformers, static converters (e.g. rectifiers) and inductors"
          ],
          [
           "Electro-magnets; permanent magnets, intended permanent magnets; electro-magnetic, permanent magnet chucks, clamps, similar; electromagnetic couplings, clutches, brakes; electro-magnetic lifting heads"
          ],
          [
           "Cells and batteries; primary"
          ],
          [
           "Electric accumulators, including separators therefor; whether or not rectangular (including square)"
          ],
          [
           "Vacuum cleaners"
          ],
          [
           "Electro-mechanical domestic appliances; with self-contained electric motor, other than vacuum cleaners of heading 85.08."
          ],
          [
           "Shavers, hair clippers and hair removing appliances, with self-contained electric motor"
          ],
          [
           "Ignition or starting equipment; used for spark-ignition or compression-ignition internal combustion engines; generators and cut outs used in conjunction with such engines"
          ],
          [
           "Lighting or visual signalling equipment (excluding articles of heading no. 8539), windscreen wipers, defrosters and demisters; electrical, of a kind used for cycles or motor vehicles"
          ],
          [
           "Lamps; portable, electric, designed to function by their own source of energy (e.g. dry batteries, accumulators, magnetos), excluding lighting equipment of heading no. 8512"
          ],
          [
           "Industrial or laboratory electric furnaces and ovens (including those functioning by induction or dielectric loss); other industrial or laboratory equipment for the heat treatment of materials by induction or dielectric loss"
          ],
          [
           "Electric (electrically heated gas) soldering, brazing, welding machines and apparatus, capable or not of cutting, electric machines and apparatus for hot spraying of metals or sintered carbides"
          ],
          [
           "Electric water, space, soil heaters; electro-thermic hair-dressing apparatus; hand dryers, irons; electro-thermic appliances for domestic purposes; electro heating resistors, not of heading no. 8545"
          ],
          [
           "Telephone sets, including telephones for cellular networks or for other wireless networks; other apparatus for the transmission or reception of voice, images or other data (including wired/wireless networks), excluding items of 8443, 8525, 8527, or 8528"
          ],
          [
           "Microphones and their stands; loudspeakers, mounted or not in their enclosures; headphones and earphones, combined or not with a microphone, and sets of a microphone and one or more loudspeakers; audio frequency and electric sound amplifiers and sets"
          ],
          [
           "Sound recording or reproducing apparatus"
          ],
          [
           "Video recording or reproducing apparatus"
          ],
          [
           "Sound or video recording apparatus; parts and accessories suitable for use solely or principally with the apparatus of heading 8519 or 8521"
          ],
          [
           "Discs, tapes, solid-state non-volatile storage devices, smart cards and other media for the recording of sound or of other phenomena, whether or not recorded, including matrices and masters for the production of discs, excluding products of Chapter 37"
          ],
          [
           "Transmission apparatus for radio-broadcasting or television, whether or not incorporating reception apparatus or sound recording or reproducing apparatus; television cameras, digital cameras and video camera recorders"
          ],
          [
           "Radar apparatus, radio navigational aid apparatus and radio remote control apparatus"
          ],
          [
           "Reception apparatus for radio-broadcasting, whether or not combined, in the same housing, with sound recording or reproducing apparatus or a clock."
          ],
          [
           "Monitors and projectors, not incorporating television reception apparatus; reception apparatus for television, whether or not incorporating radio-broadcast receivers or sound or video recording or reproducing apparatus"
          ],
          [
           "Transmission apparatus; parts suitable for use solely or principally with the apparatus of heading no. 8525 to 8528"
          ],
          [
           "Signalling, safety or traffic control equipment; for railways, tramways, roads, inland waterways, parking facilities, port installations, airfields, excluding those of heading no. 8608"
          ],
          [
           "Signalling apparatus; electric sound or visual (e.g. bells, sirens, indicator panels, burglar or fire alarms), excluding those of heading no. 8512 or 8530"
          ],
          [
           "Electrical capacitors; fixed, variable or adjustable (pre-set)"
          ],
          [
           "Electrical resistors (including rheostats and potentiometers), excluding heating resistors"
          ],
          [
           "Circuits; printed"
          ],
          [
           "Electrical apparatus for switching, protecting electrical circuits, for making connections to or in electrical circuits; for a voltage exceeding 1000 volts"
          ],
          [
           "Electrical apparatus for switching, protecting electrical circuits, for making connections to or in electrical circuits, for a voltage not exceeding 1000 volts; connectors for optical fibres, optical fibre bundles or cables"
          ],
          [
           "Boards, panels, consoles, desks, cabinets, bases with apparatus of heading no. 8535, 8536 for electricity control and distribution, (other than switching apparatus of heading no. 8517)"
          ],
          [
           "Electrical apparatus; parts suitable for use solely or principally with the apparatus of heading no. 8535, 8536 and 8537"
          ],
          [
           "Lamps; electric filament or discharge lamps, including sealed beam lamp units and ultra-violet or infra-red lamps, arc-lamps"
          ],
          [
           "Thermionic, cold cathode or photo-cathode valves and tubes (e.g. vacuum, vapour, gas filled valves and tubes, mercury arc rectifying valves and tubes, cathode-ray and television camera tubes)"
          ],
          [
           "Diodes, transistors, similar semiconductor devices; including photovoltaic cells assembled or not in modules, panels, light emitting mounted piezo-electric crystals"
          ],
          [
           "Electronic integrated circuits"
          ],
          [
           "Electrical machines and apparatus; having individual functions, not specified or included elsewhere in this chapter"
          ],
          [
           "Insulated wire, cable and other electric conductors, connector fitted or not; optical fibre cables of individually sheathed fibres, whether or not assembled with electric conductors or fitted with connectors"
          ],
          [
           "Carbon electrodes, carbon brushes, lamp carbons, battery carbons and other articles of graphite or other carbon; with or without metal, of a kind used for electrical purposes"
          ],
          [
           "Electrical insulators of any material"
          ],
          [
           "Insulating fittings; for electrical machines, appliances, equipment, excluding insulators of heading no. 8546, electrical conduit tubing and joints therefore"
          ],
          [
           "Waste and scrap of primary cells, primary batteries and electric accumulators; spent primary cells, spent primary batteries and spent electric accumulators; electrical parts of machinery or apparatus, n.e.c. or included elsewhere in chapter 85"
          ],
          [
           "Rail locomotives; powered from an external source of electricity or by electric accumulators"
          ],
          [
           "Rail locomotives; (other than those of heading no. 8601), locomotive tenders"
          ],
          [
           "Railway or tramway goods vans and wagons; not self-propelled"
          ],
          [
           "Railway or tramway locomotives or rolling stock; parts thereof"
          ],
          [
           "Railway or tramway track fixtures and fittings; mechanical (including electro-mechanical) signalling, safety or traffic control equipment for railways, tramways, roads, inland waterways, parking facilities, port installations or airfields; parts thereof"
          ],
          [
           "Containers; (including containers for transport of fluids) specially designed and equipped for carriage by one or more modes of transport"
          ],
          [
           "Tractors; (other than tractors of heading no 8709)"
          ],
          [
           "Vehicles; public transport passenger type"
          ],
          [
           "Motor cars and other motor vehicles; principally designed for the transport of persons (other than those of heading no. 8702), including station wagons and racing cars"
          ],
          [
           "Vehicles; for the transport of goods"
          ],
          [
           "Special purpose motor vehicles; not those for the transport of persons or goods (e.g. breakdown lorries, road sweeper lorries, spraying lorries, mobile workshops, mobile radiological units etc)"
          ],
          [
           "Chassis; fitted with engines, for the motor vehicles of heading no. 8701 to 8705"
          ],
          [
           "Bodies; (including cabs) for the motor vehicles of heading no. 8701 to 8705"
          ],
          [
           "Motor vehicles; parts and accessories, of heading no. 8701 to 8705"
          ],
          [
           "Works trucks, self-propelled, (not fitted with lifting or handling equipment), for factories, warehouses etc, for short distance transport of goods, tractors used on railway station platforms; parts thereof"
          ],
          [
           "Motorcycles (including mopeds) and cycles; fitted with an auxiliary motor, with or without side-cars; side-cars"
          ],
          [
           "Bicycles and other cycles; including delivery tricycles, not motorised"
          ],
          [
           "Carriages for disabled persons; whether or not motorised or otherwise mechanically propelled"
          ],
          [
           "Vehicles; parts and accessories of heading no. 8711 to 8713"
          ],
          [
           "Baby carriages and parts thereof"
          ],
          [
           "Trailers and semi-trailers; other vehicles, not mechanically propelled; parts thereof"
          ],
          [
           "Balloons and dirigibles; gliders, hang gliders and other non-powered aircraft."
          ],
          [
           "Aircraft n.e.c. in heading no. 8801 (e.g. helicopters, aeroplanes); spacecraft (including satellites) and suborbital and spacecraft launch vehicles"
          ],
          [
           "Aircraft; parts of heading no. 8801 or 8802"
          ],
          [
           "Parachutes (including dirigible parachutes and paragliders) and rotochutes; parts thereof and accessories thereto"
          ],
          [
           "Aircraft launching gear, deck-arrestor or similar gear, ground flying trainers; parts of the foregoing articles"
          ],
          [
           "Cruise ships, excursion boats, ferry-boats, cargo ships, barges and similar vessels for the transport of persons or goods"
          ],
          [
           "Fishing vessels, factory ships and other vessels; for processing or preserving fishery products"
          ],
          [
           "Yachts and other vessels; for pleasure or sports, rowing boats and canoes"
          ],
          [
           "Tugs and pusher craft"
          ],
          [
           "Light-vessels, fire-floats, dredgers, floating cranes, other vessels; the navigability of which is subsidiary to main function; floating docks, floating, submersible drilling, production platforms"
          ],
          [
           "Vessels; other, including warships and lifeboats, other than rowing boats"
          ],
          [
           "Boats, floating structures, other (for e.g. rafts, tanks, coffer-dams, landing stages, buoys and beacons)"
          ],
          [
           "Vessels and other floating structures; for breaking up"
          ],
          [
           "Optical fibres and optical fibre bundles; optical fibre cables not of heading no. 8544; sheets, plates of polarising material; lenses, prisms, mirrors, of any material; unmounted; not non optical glass"
          ],
          [
           "Lenses, prisms, mirrors and other optical elements, of any material, mounted, being parts or fittings for instruments or apparatus, other than such elements of glass not optically worked"
          ],
          [
           "Frames and mountings; for spectacles, goggles or the like, and parts"
          ],
          [
           "Spectacles, goggles and the like; corrective, protective or other"
          ],
          [
           "Binoculars, monoculars, other optical telescopes, mountings therefore; other astronomical instruments, mountings therefore, but not including instruments for radio-astronomy"
          ],
          [
           "Cameras, photographic (excluding cinematographic); photographic flashlight apparatus and flashbulbs other than discharge lamps of heading no. 8539"
          ],
          [
           "Cinematographic cameras and projectors, whether or not incorporating sound recording or reproducing apparatus"
          ],
          [
           "Image projectors, other than cinematographic; photographic (other than cinematographic) enlargers and reducers"
          ],
          [
           "Photographic (including cinematographic) laboratory apparatus and equipment, n.e.c. in chapter 90; negatoscopes; projection screens"
          ],
          [
           "Microscopes, compound optical; including those for photomicrography, cinephotomicrography or microprojection"
          ],
          [
           "Microscopes (excluding optical microscopes); diffraction apparatus"
          ],
          [
           "Liquid crystal devices not constituting articles provided for more specifically in other headings; lasers, not laser diodes; other optical appliances and instruments n.e.c. in this chapter"
          ],
          [
           "Navigational instruments and appliances; direction finding compasses"
          ],
          [
           "Surveying (including photogrammetrical surveying), hydrographic, oceanographic, hydrological, meteorological or geophysical instruments and appliances, excluding compasses, rangefinders"
          ],
          [
           "Balances; of a sensitivity of 5cg or better, with or without weights"
          ],
          [
           "Drawing, marking-out, mathematical calculating instruments (drafting machines, protractors, drawing sets etc); instruments for measuring length (e.g. measuring rods, tapes, micrometers, callipers) n.e.c."
          ],
          [
           "Instruments and appliances used in medical, surgical, dental or veterinary sciences, including scintigraphic apparatus, other electro-medical apparatus and sight testing instruments"
          ],
          [
           "Mechano-therapy, massage appliances; psychological aptitude testing apparatus; ozone, oxygen, aerosol therapy, artificial respiration or other therapeutic respiration apparatus"
          ],
          [
           "Breathing appliances and gas masks; excluding protective masks having neither mechanical parts nor replaceable filters and excluding apparatus of item no. 9019.20"
          ],
          [
           "Orthopaedic appliances; including crutches, surgical belts and trusses; splints and other fracture appliances; artificial parts of the body; hearing aids and other which are worn, carried or implanted in the body to compensate for a defect or disability"
          ],
          [
           "X-ray, alpha, beta, gamma radiation apparatus; x-ray tubes, x-ray generators, high tension generators, control panels and desks, screens, examination or treatment tables, chairs and the like"
          ],
          [
           "Instruments, apparatus and models, designed for demonstrational purposes (in education or exhibitions), unsuitable for other uses"
          ],
          [
           "Machines and appliances for testing the hardness, strength, compressibility, elasticity of other mechanical properties of materials (e.g. metals, wood, textiles, paper, plastics)"
          ],
          [
           "Hydrometers and similar floating instruments, thermometers, pyrometers, barometers, hygrometers and psychrometers, recording or not"
          ],
          [
           "Instruments, apparatus for measuring or checking the flow, level, pressure of liquids, gases (e.g. flow meters, heat meters etc), not instruments and apparatus of heading no. 9014, 9015, 9028 or 9032"
          ],
          [
           "Instruments and apparatus; for physical or chemical analysis (e.g. polarimeters, spectrometers), for measuring or checking viscosity, porosity, etc, for measuring quantities of heat, sound or light"
          ],
          [
           "Gas, liquid or electricity supply or production meters, including calibrating meters therefor"
          ],
          [
           "Revolution counter, production counters, taximeters, mileometers, pedometers and the like, speed indicators and tachometers, other than those of heading no. 9015, stroboscopes"
          ],
          [
           "Instruments, apparatus for measuring, checking electrical quantities not meters of heading no. 9028; instruments, apparatus for measuring or detecting alpha, beta, gamma, x-ray, cosmic and other radiations"
          ],
          [
           "Measuring or checking instruments, appliances and machines, n.e.c. or included in this chapter; profile projectors"
          ],
          [
           "Regulating or controlling instruments and apparatus; automatic type"
          ],
          [
           "Machines and appliances, instruments or apparatus of chapter 90; parts and accessories n.e.c. in chapter 90"
          ],
          [
           "Wrist-watches, pocket-watches, stop-watches and other watches; with case of precious metal or of metal clad with precious metal"
          ],
          [
           "Wrist-watches, pocket-watches, stop-watches and other watches, other than those of heading no. 9101"
          ],
          [
           "Clocks; with watch movements, excluding clocks of heading no. 9104"
          ],
          [
           "Instrument panel clocks and clocks of a similar type for vehicles, aircraft, spacecraft or vessels"
          ],
          [
           "Clocks, other, n.e.c."
          ],
          [
           "Time of day recording apparatus and apparatus for measuring, recording or otherwise indicating intervals of time, with clock, watch movement or synchronous motor"
          ],
          [
           "Time switches; with clock, watch movement or synchronous motor"
          ],
          [
           "Watch movements; complete and assembled"
          ],
          [
           "Clock movements; complete and assembled"
          ],
          [
           "Watch or clock movements, complete, unassembled or partly assembled (movement sets); incomplete watch or clock movements, assembled; rough watch or clock movements"
          ],
          [
           "Watch cases and parts thereof"
          ],
          [
           "Clock cases and cases of a similar type for other goods of this chapter and parts thereof"
          ],
          [
           "Watch straps, watch bands, watch bracelets and parts thereof"
          ],
          [
           "Clock or watch parts; n.e.c. in chapter 91"
          ],
          [
           "Pianos; including automatic pianos, harpsichords and other keyboard stringed instruments"
          ],
          [
           "Musical instruments; string, n.e.c. in heading no. 9201, (e.g. guitars, violins, harps)"
          ],
          [
           "Musical instruments; wind (e.g. keyboard pipe organs, accordions, clarinets, trumpets, bagpipes), other than fairground organs and mechanical street organs"
          ],
          [
           "Musical instruments; percussion (e.g. drums, xylophones, cymbals, castanets, maracas)"
          ],
          [
           "Musical instruments; the sound of which is produced or must be amplified, electrically (e.g. organs, guitars, accordions)"
          ],
          [
           "Musical boxes, fairground and mechanical street organs, mechanical singing birds, musical saws and musical instruments n.e.c. in chapter 92; decoy calls of all kinds; whistles; call horns and other mouth-blown sound signalling instruments"
          ],
          [
           "Musical instrument parts (for example, mechanisms for musical boxes) and accessories (for example, cards, discs and rolls for mechanical instruments); metronomes, tuning forks and pitch pipes"
          ],
          [
           "Revolvers and pistols; other than those of heading no. 9303 or 9304"
          ],
          [
           "Firearms; other similar devices (e.g. sporting shotguns and rifles, muzzle-loading firearms, very pistols, devices for firing flares or blank ammunition, captive bolt humane killers, line throwing guns)"
          ],
          [
           "Firearms; (e.g. spring, air or gas guns and pistols, truncheons), excluding those of heading no. 9307"
          ],
          [
           "Firearms; parts and accessories of articles of heading no. 9301 to 9304"
          ],
          [
           "Bombs, grenades, torpedoes, mines, missiles and similar munitions of war and parts thereof; cartridges and other ammunition, projectiles and parts thereof, including shot and cartridge wads"
          ],
          [
           "Arms; swords, cutlasses, bayonets, lances and the like, parts thereof and scabbards and sheaths therefor"
          ],
          [
           "Seats (not those of heading no. 9402), whether or not convertible into beds and parts thereof"
          ],
          [
           "Furniture; medical, surgical, dental or veterinary (e.g. operating tables, hospital beds, dentists' chairs) barbers' chairs; parts"
          ],
          [
           "Furniture and parts thereof, n.e.c. in chapter 94"
          ],
          [
           "Mattress supports; articles of bedding (e.g. mattresses, quilts, eiderdowns, cushions pouffes and pillows), fitted with springs or stuffed, whether or not covered"
          ],
          [
           "Lamps, light fittings; including searchlights, spotlights and parts thereof, n.e.c.; illuminated signs, name-plates and the like, having permanently fixed light source and parts thereof n.e.c. or included"
          ],
          [
           "Buildings; prefabricated"
          ],
          [
           "Tricycles, scooters, pedal cars and similar wheeled toys; dolls' carriages; dolls; other toys; reduced-size (scale) models and similar recreational models, working or not; puzzles of all kinds"
          ],
          [
           "Video game consoles and machines, articles for funfair, table or parlour games, including pintables, billiards, special tables for casino games and automatic bowling alley equipment"
          ],
          [
           "Festive, carnival or other entertainment articles, including conjuring tricks and novelty jokes"
          ],
          [
           "Gymnastics, athletics, other sports (including table tennis) or outdoor games equipment, n.e.c. in this chapter, swimming pools and paddling pools"
          ],
          [
           "Fishing rods, fish-hooks and other line fishing tackle; fish landing nets and the like; decoy birds (not those of heading no. 9208 or 9705) and similar hunting or shooting requisites"
          ],
          [
           "Roundabouts, swings, shooting galleries, other fairground amusements, travelling circuses, travelling menageries and travelling theatres"
          ],
          [
           "Vegetable, mineral carving material and articles of these materials, moulded or carved articles of wax, stearin, natural gums, resins or modelling pastes, worked unhardened gelatin (not heading no. 3503)"
          ],
          [
           "Brooms, brushes (including parts of machines), hand operated floor sweepers, mops and feather dusters; knots and tufts for broom or brush making; paint pads and rollers; squeegees"
          ],
          [
           "Hand sieves and hand riddles"
          ],
          [
           "Travel sets; for personal toilet, sewing, shoe or clothes cleaning"
          ],
          [
           "Buttons, press-fasteners, snap-fasteners and press-studs, button moulds and other parts of these articles; button blanks"
          ],
          [
           "Slide fasteners and parts thereof"
          ],
          [
           "Pens; ball-point, felt tipped, other porous tipped pens; fountain pens, stylograph pens duplicating stylos, propelling or sliding pencils; parts of the foregoing, excluding those of heading no. 9609"
          ],
          [
           "Pencils (not of heading no. 9608), crayons, pencil leads, pastels, drawing charcoals, writing or drawing chalks and tailors' chalks"
          ],
          [
           "Slates and boards, with writing or drawing surfaces, whether or not framed"
          ],
          [
           "Stamps; date, numbering, sealing stamps and the like (including devices for printing or embossing labels), designed for operating by hand; hand operated composing sticks and printing sets"
          ],
          [
           "Typewriter, similar ribbons, inked, otherwise prepared for giving impressions, whether or not on spools or in cartridges; ink pads, whether or not inked, with or without boxes"
          ],
          [
           "Cigarette lighters and other lighters, whether or not mechanical or electrical and parts thereof other than flints and wicks"
          ],
          [
           "Smoking pipes (including pipe bowls) and cigar or cigarette holders, and parts thereof"
          ],
          [
           "Combs, hair-slides and similar; hairpins, curling pins, curling grips and hair curlers and the like, other than those of heading no. 8516 and parts thereof"
          ],
          [
           "Scent sprays and similar toilet sprays and mounts and heads therefor; powder-puffs and pads for the application of cosmetics or toilet preparations"
          ],
          [
           "Vacuum flasks and other vacuum vessels, complete with cases; parts thereof other than glass inners"
          ],
          [
           "Tailors' dummies and other lay figures; automata and other animated displays used for shop window dressing"
          ],
          [
           "Sanitary towels (pads) and tampons, napkins and napkin liners for babies and similar articles, of any material"
          ],
          [
           "Paintings, drawings, pastels, executed entirely by hand; not drawings of heading no. 4906 and not hand-painted, hand-decorated manufactured articles; collages and similar decorative plaques"
          ],
          [
           "Engravings, prints and lithographs; original"
          ],
          [
           "Sculptures and statuary; original, in any material"
          ],
          [
           "Stamps, postage or revenue; stamp-postmarks, first-day covers, postal stationery (stamped paper) and like, used or unused, other than those of heading 4907"
          ],
          [
           "Collections and collectors' pieces; of zoological, botanical, mineralogical, anatomical, historical, archaeological, palaeontological, ethnographic or numismatic interest"
          ],
          [
           "Horses, asses, mules and hinnies; live"
          ],
          [
           "Poultry; live, fowls of the species Gallus domesticus, ducks, geese, turkeys and guinea fowls"
          ],
          [
           "Animals; live, n.e.c. in chapter 01"
          ],
          [
           "Meat and edible meat offal, n.e.c. in chapter 2; fresh, chilled or frozen"
          ],
          [
           "Fish; live"
          ],
          [
           "Fish; fresh or chilled, excluding fish fillets and other fish meat of heading 0304"
          ],
          [
           "Fish; frozen, excluding fish fillets and other fish meat of heading 0304"
          ],
          [
           "Fish fillets and other fish meat (whether or not minced); fresh, chilled or frozen"
          ],
          [
           "Fish, dried, salted or in brine; smoked fish, whether or not cooked before or during the smoking process; flours, meals and pellets of fish, fit for human consumption"
          ],
          [
           "Crustaceans; in shell or not, live, fresh, chilled, frozen, dried, salted or in brine; smoked, cooked or not before or during smoking; in shell, steamed or boiled, whether or not chilled, frozen, dried, salted or in brine; edible flours, meals, pellets"
          ],
          [
           "Molluscs; whether in shell or not, live, fresh, chilled, frozen, dried, salted or in brine; smoked molluscs, whether in shell or not, cooked or not before or during the smoking process; flours, meals and pellets of molluscs, fit for human consumption"
          ],
          [
           "Aquatic invertebrates, other than crustaceans and molluscs; live, fresh, chilled, frozen, dried, salted or in brine, smoked, whether or not cooked before or during the smoking process; flours, meals, and pellets, fit for human consumption"
          ],
          [
           "Milk and cream; not concentrated, not containing added sugar or other sweetening matter"
          ],
          [
           "Milk and cream; concentrated or containing added sugar or other sweetening matter"
          ],
          [
           "Buttermilk, curdled milk and cream, yoghurt, kephir, fermented or acidified milk or cream, whether or not concentrated, containing added sugar, sweetening matter, flavoured or added fruit or cocoa"
          ],
          [
           "Butter and other fats and oils derived from milk; dairy spreads"
          ],
          [
           "Cheese and curd"
          ],
          [
           "Honey; natural"
          ],
          [
           "Bones and horn-cores, unworked, defatted, simply prepared (but not cut to shape), treated with acid or degelatinised; powder and waste of these products"
          ],
          [
           "Ambergris, castoreum, civet and musk; cantharides; bile, dried or not glands, other animal products used in preparation of pharmaceutical products, fresh chilled, frozen or otherwise provisionally preserved"
          ],
          [
           "Animal products not elsewhere specified or included; dead animals of chapter 1 or 3, unfit for human consumption"
          ],
          [
           "Bulbs, tubers, tuberous roots, corms, crowns and rhizomes; dormant, in growth or in flower; chicory plants and roots other than roots of heading no. 1212"
          ],
          [
           "Plants, live; n.e.c. in heading no. 0601, (including their roots) cuttings and slips; mushroom spawn"
          ],
          [
           "Flowers; cut flowers and flower buds of a kind suitable for bouquets or for ornamental purposes, fresh, dried, dyed, bleached, impregnated or otherwise prepared"
          ],
          [
           "Foliage, branches and other parts of plants, without flowers or flower buds, and grasses, mosses and lichens; suitable for bouquets or for ornamental purposes, fresh, dried, dyed, bleached, impregnated etc."
          ],
          [
           "Potatoes; fresh or chilled"
          ],
          [
           "Onions, shallots, garlic, leeks and other alliaceous vegetables; fresh or chilled"
          ],
          [
           "Cabbages, cauliflowers, kohlrabi, kale and similar edible brassicas; fresh or chilled"
          ],
          [
           "Carrots, turnips, salad beetroot, salsify, celeriac, radishes and similar edible roots; fresh or chilled"
          ],
          [
           "Cucumbers and gherkins; fresh or chilled"
          ],
          [
           "Leguminous vegetables; shelled or unshelled, fresh or chilled"
          ],
          [
           "Vegetables; n.e.c. in chapter 07, fresh or chilled"
          ],
          [
           "Vegetables (uncooked or cooked by steaming or boiling in water); frozen"
          ],
          [
           "Vegetables provisionally preserved; (e.g. by sulphur dioxide gas, in brine, in sulphur water or in other preservative solutions), but unsuitable in that state for immediate consumption"
          ],
          [
           "Vegetables, dried; whole, cut, sliced, broken or in powder, but not further prepared"
          ],
          [
           "Vegetables, leguminous; shelled, whether or not skinned or split, dried"
          ],
          [
           "Manioc, arrowroot, salep, Jerusalem artichokes, sweet potatoes and similar roots and tubers with high starch or inulin content; fresh, chilled, frozen or dried, whether or not sliced or in the form of pellets; sago pith"
          ],
          [
           "Nuts, edible; coconuts, Brazil nuts and cashew nuts, fresh or dried, whether or not shelled or peeled"
          ],
          [
           "Bananas, including plantains; fresh or dried"
          ],
          [
           "Dates, figs, pineapples, avocados, guavas, mangoes and mangosteens; fresh or dried"
          ],
          [
           "Citrus fruit; fresh or dried"
          ],
          [
           "Grapes; fresh or dried"
          ],
          [
           "Melons (including watermelons) and papaws (papayas); fresh"
          ],
          [
           "Apricots, cherries, peaches (including nectarines), plums and sloes, fresh"
          ],
          [
           "Fruit, fresh; n.e.c. in chapter 08"
          ],
          [
           "Fruit and nuts; uncooked or cooked by steaming or boiling in water, frozen, whether or not containing added sugar or other sweetening matter"
          ],
          [
           "Fruit and nuts provisionally preserved; e.g. by sulphur dioxide gas, brine, in sulphur water or in other preservative solutions, but unsuitable in that state for immediate consumption"
          ],
          [
           "Fruit, dried, other than that of heading no. 0801 to 0806; mixtures of nuts or dried fruits of this chapter"
          ],
          [
           "Peel of citrus fruit or melons (including watermelons); fresh, frozen dried or provisionally preserved in brine, in sulphur water or in other preservative solutions"
          ],
          [
           "Coffee, whether or not roasted or decaffeinated; husks and skins; coffee substitutes containing coffee in any proportion"
          ],
          [
           "Tea"
          ],
          [
           "Mate"
          ],
          [
           "Pepper of the genus piper; dried or crushed or ground fruits of the genus capsicum or of the genus pimenta"
          ],
          [
           "Vanilla"
          ],
          [
           "Cinnamon and cinnamon-tree flowers"
          ],
          [
           "Nutmeg, mace and cardamoms"
          ],
          [
           "Seeds of anise, badian, fennel, coriander, cumin, caraway or juniper"
          ],
          [
           "Ginger, saffron, tumeric (curcuma), thyme, bay leaves, curry and other spices"
          ],
          [
           "Barley"
          ],
          [
           "Oats"
          ],
          [
           "Maize (corn)"
          ],
          [
           "Rice"
          ],
          [
           "Buckwheat, millet and canary seeds; other cereals"
          ],
          [
           "Wheat or meslin flour"
          ],
          [
           "Cereal flours; other than of wheat or meslin"
          ],
          [
           "Cereal groats; meal and pellets"
          ],
          [
           "Cereal grains otherwise worked (e.g. hulled, rolled, flaked, pearled, sliced or kibbled) except rice of heading no. 1006; germ of cereals whole, rolled, flaked or ground"
          ],
          [
           "Flour, meal, powder, flakes, granules and pellets of potatoes"
          ],
          [
           "Flour, meal and powder; of the dried leguminous vegetables of heading no. 0713, of sago or of roots or tubers of heading no. 0714 or of the products of chapter 8"
          ],
          [
           "Starches; inulin"
          ],
          [
           "Wheat gluten; whether or not dried"
          ],
          [
           "Ground-nuts; not roasted or otherwise cooked, whether or not shelled or broken"
          ],
          [
           "Oil seeds; linseed, whether or not broken"
          ],
          [
           "Oil seeds and oleaginous fruits, n.e.c. in chapter 12; whether or not broken"
          ],
          [
           "Seeds, fruit and spores; of a kind used for sowing"
          ],
          [
           "Hop cones, fresh or dried, whether or not ground, powdered or in the form of pellets; lupulin"
          ],
          [
           "Plants and parts of plants (including seeds and fruits), used primarily in perfumery, pharmacy; for insecticidal, fungicidal or similar purposes, fresh or dried, whether or not crushed or powdered"
          ],
          [
           "Locust beans, seaweeds and other algae, sugar beet, sugar cane, fresh, chilled, frozen or dried, whether or not ground; fruit stones, kernels and other vegetable products (including unroasted chicory roots) used primarily for human consumption, n.e.c."
          ],
          [
           "Swedes, mangolds, fodder roots, hay, lucerne (alfalfa), clover, sainfoin, forage kale, lupines, vetches and similar forage products, whether or not in the form of pellets"
          ],
          [
           "Lac; natural gums, resins, gum-resins and oleoresins (for example, balsams)"
          ],
          [
           "Vegetable saps and extracts; pectic substances, pectinates and pectates; agar-agar and other mucilages and thickeners, whether or not modified, derived from vegetable products"
          ],
          [
           "Vegetable materials of a kind used primarily for plaiting; (e.g. bamboos, rattans, reeds, rushes, osier, raffia, cleaned, bleached or dyed cereal straw and lime bark)"
          ],
          [
           "Vegetable products not elsewhere specified or included"
          ],
          [
           "Fats and oils and their fractions of fish or marine mammals; whether or not refined, but not chemically modified"
          ],
          [
           "Wool grease and fatty substances derived therefrom (including lanolin)"
          ],
          [
           "Soya-bean oil and its fractions; whether or not refined, but not chemically modified"
          ],
          [
           "Olive oil and its fractions; whether or not refined, but not chemically modified"
          ],
          [
           "Palm oil and its fractions; whether or not refined, but not chemically modified"
          ],
          [
           "Sun-flower seed, safflower or cotton-seed oil and their fractions; whether or not refined, but not chemically modified"
          ],
          [
           "Coconut (copra), palm kernel or babassu oil and their fractions; whether or not refined but not chemically modified"
          ],
          [
           "Rape, colza or mustard oil and their fractions; whether or not refined, but not chemically modified"
          ],
          [
           "Fixed vegetable fats and oils (including jojoba oil) and their fractions, whether or not refined; but not chemically modified"
          ],
          [
           "Animal or vegetable fats and oils and their fractions; partly or wholly hydrogenated, inter-esterified, re-esterified or elaidinised, whether or not refined, but not further prepared"
          ],
          [
           "Margarine; edible mixtures or preparations of animal or vegetable fats or oils or of fractions of different fats or oils of this chapter, other than edible fats or oils of heading no. 1516"
          ],
          [
           "Animal or vegetable fats, oils, fractions, modified in any way, excluding heading no. 1516; inedible versions of animal or vegetable fats, oils or fractions of this chapter, n.e.c. or included"
          ],
          [
           "Glycerol, crude; glycerol waters and glycerol lyes"
          ],
          [
           "Sausages and similar products of meat, meat offal or blood; food preparations based on these products"
          ],
          [
           "Prepared or preserved meat, meat offal or blood"
          ],
          [
           "Prepared or preserved fish; caviar and caviar substitutes prepared from fish eggs"
          ],
          [
           "Crustaceans, molluscs and other aquatic invertebrates, prepared or preserved"
          ],
          [
           "Cane or beet sugar and chemically pure sucrose, in solid form"
          ],
          [
           "Sugars, including lactose, maltose, glucose or fructose in solid form; sugar syrups without added flavouring or colouring matter; artificial honey, whether or not mixed with natural honey; caramel"
          ],
          [
           "Molasses; resulting from the extraction or refining of sugar"
          ],
          [
           "Sugar confectionery (including white chocolate), not containing cocoa"
          ],
          [
           "Cocoa beans; whole or broken, raw or roasted"
          ],
          [
           "Cocoa; shells, husks, skins and other cocoa waste"
          ],
          [
           "Cocoa; paste; whether or not defatted"
          ],
          [
           "Cocoa; butter, fat and oil"
          ],
          [
           "Cocoa; powder, not containing added sugar or other sweetening matter"
          ],
          [
           "Chocolate and other food preparations containing cocoa"
          ],
          [
           "Malt extract; flour/groats/meal/starch/malt extract products, no cocoa (or less than 40% by weight) and food preparations of goods of headings 04.01 to 04.04, no cocoa (or less than 5% by weight), weights calculated on a totally defatted basis, n.e.c."
          ],
          [
           "Pasta; whether or not cooked or stuffed with meat or other substance, or otherwise prepared, egg spaghetti, macaroni, noodles, lasagne, gnocchi, ravioli, cannelloni; couscous, whether or not prepared"
          ],
          [
           "Tapioca and substitutes therefor prepared from starch; in the form of flakes, grains, pearls, siftings or similar forms"
          ],
          [
           "Prepared foods obtained by swelling or roasting cereals or cereal products (e.g. corn flakes); cereals (other than maize (corn)) in grain form or in the form of flakes or other worked grains (not flour and meal), pre-cooked or otherwise prepared, n.e.c."
          ],
          [
           "Bread, pastry, cakes, biscuits, other bakers' wares, whether or not containing cocoa; communion wafers, empty cachets suitable for pharmaceutical use, sealing wafers, rice paper and similar products"
          ],
          [
           "Vegetables, fruit, nuts and other edible parts of plants; prepared or preserved by vinegar or acetic acid"
          ],
          [
           "Tomatoes; prepared or preserved otherwise than by vinegar or acetic acid"
          ],
          [
           "Mushrooms and truffles, prepared or preserved other than by vinegar or acetic acid"
          ],
          [
           "Vegetables preparations n.e.c.; prepared or preserved otherwise than by vinegar or acetic acid, frozen, other than products of heading no. 2006"
          ],
          [
           "Vegetables preparations n.e.c.; prepared or preserved otherwise than by vinegar or acetic acid, not frozen, other than products of heading no. 2006"
          ],
          [
           "Vegetables, fruit, nuts, fruit-peel and other parts of plants, preserved by sugar (drained, glace or crystallised)"
          ],
          [
           "Jams, fruit jellies, marmalades, fruit or nut puree and fruit or nut pastes, being cooked preparations; whether or not containing added sugar or other sweetening matter"
          ],
          [
           "Fruit, nuts and other edible parts of plants; prepared or preserved in ways n.e.c., whether or not containing added sugar or other sweetening matter or spirit, not elsewhere specified or included"
          ],
          [
           "Fruit juices (including grape must) and vegetable juices, unfermented, not containing added spirit; whether or not containing added sugar or other sweetening matter"
          ],
          [
           "Extracts, essences, concentrates of coffee, tea or mate; preparations with a basis of these products or with a basis of coffee, tea or mate; roasted chicory and other roasted coffee substitutes and extracts, essences and concentrates thereof"
          ],
          [
           "Yeasts (active or inactive); other single-cell micro-organisms, dead (but not including vaccines of heading no. 3002); prepared baking powders"
          ],
          [
           "Sauces and preparations therefor; mixed condiments and mixed seasonings, mustard flour and meal and prepared mustard"
          ],
          [
           "Soups and broths and preparations therefor; homogenised composite food preparations"
          ],
          [
           "Ice cream and other edible ice; whether or not containing cocoa"
          ],
          [
           "Food preparations not elsewhere specified or included"
          ],
          [
           "Waters, including natural or artificial mineral waters and aerated waters, not containing added sugar or other sweetening matter nor flavoured; ice and snow"
          ],
          [
           "Waters, including mineral and aerated waters, containing added sugar or sweetening matter, flavoured; other non-alcoholic beverages, not including fruit or vegetable juices of heading no. 2009"
          ],
          [
           "Beer made from malt"
          ],
          [
           "Wine of fresh grapes, including fortified wines; grape must other than that of heading no. 2009"
          ],
          [
           "Vermouth and other wine of fresh grapes, flavoured with plants or aromatic substances"
          ],
          [
           "Ethyl alcohol, undenatured; of an alcoholic strength by volume of 80% vol. or higher; ethyl alcohol and other spirits, denatured, of any strength"
          ],
          [
           "Ethyl alcohol, undenatured; of an alcoholic strength by volume of less than 80% volume; spirits, liqueurs and other spirituous beverages"
          ],
          [
           "Vinegar and substitutes for vinegar obtained from acetic acid"
          ],
          [
           "Flours, meal and pellets, of meat or meat offal, of fish or of crustaceans, molluscs or other aquatic invertebrates, unfit for human consumption; greaves"
          ],
          [
           "Bran, sharps and other residues; whether or not in the form of pellets derived from the sifting, milling or other working of cereals or of leguminous plants"
          ],
          [
           "Residues of starch manufacture, similar residues; beet-pulp, bagasse and other waste of sugar manufacture, brewing or distilling dregs and waste, whether or not in the form of pellets"
          ],
          [
           "Oil-cake and other solid residues; whether or not ground or in the form of pellets, resulting from the extraction of soya-bean oil"
          ],
          [
           "Oil-cake and other solid residues; whether or not ground or in the form of pellets, resulting from the extraction of vegetable fats or oils other than those of heading no. 2304 or 2305"
          ],
          [
           "Vegetable materials and vegetable waste, vegetable residues and bi-products; whether or not in the form of pellets, of a kind used in animal feeding, not elsewhere specified or included"
          ],
          [
           "Preparations of a kind used in animal feeding"
          ],
          [
           "Tobacco, unmanufactured; tobacco refuse"
          ],
          [
           "Cigars, cheroots, cigarillos and cigarettes; of tobacco or of tobacco substitutes"
          ],
          [
           "Salt (including table salt and denatured salt); pure sodium chloride whether or not in aqueous solution; sea water"
          ],
          [
           "Sulphur of all kinds; other than sublimed, precipitated and colloidal sulphur"
          ],
          [
           "Graphite; natural"
          ],
          [
           "Sands of all kinds; natural, whether or not coloured, other than metal-bearing sands of chapter 26"
          ],
          [
           "Quartz; (other than natural sands), quartzite, whether or not roughly trimmed or merely cut, by sawing or otherwise, into blocks or slabs of a rectangular (including square) shape"
          ],
          [
           "Kaolin and other kaolinic clays; whether or not calcined"
          ],
          [
           "Clays; (not including expanded clays of heading no. 6806), andalusite kyanite and sillimanite, whether or not calcined; mullite; chamotte or dinas earth"
          ],
          [
           "Natural calcium phosphates; natural aluminium calcium phosphates and phosphatic chalk"
          ],
          [
           "Pumice stone; emery; natural corundum, natural garnet and other natural abrasives, whether or not heat treated"
          ],
          [
           "Marble, travertine, ecaussine and other calcareous stone; of an apparent specific gravity of less than 2.5, alabaster, whether cut by sawing etc, into blocks, slabs of a rectangular (square) shape"
          ],
          [
           "Granite, porphyry, basalt, sandstone, other monumental and building stone, whether or not roughly trimmed, cut, by sawing etc, into blocks or slabs of a rectangular (including square) shape"
          ],
          [
           "Pebbles, gravel, crushed stone for concrete aggregates for road or railway ballast, shingle or flint; macadam of slag, dross etc tarred granules, chippings, powder of stones of heading no. 2515 and 2516"
          ],
          [
           "Natural magnesium carbonate (magnesite); fused magnesia; dead-burned (sintered) magnesia, whether or not containing small quantities of other oxides added before sintering; magnesium oxide, pure or not"
          ],
          [
           "Limestone flux; limestone and other calcareous stone, of a kind used for the manufacture of lime or cement"
          ],
          [
           "Quicklime, slaked lime and hydraulic lime; other than calcium oxide and hydroxide of heading no. 2825"
          ],
          [
           "Portland cement, aluminous cement (ciment fondu), slag cement, supersulphate cement and similar hydraulic cements, whether or not coloured or in the form of clinkers"
          ],
          [
           "Mica, including splittings; mica waste"
          ],
          [
           "Feldspar; leucite; nepheline and nepheline syenite; fluorspar"
          ],
          [
           "Mineral substances not elsewhere specified or included"
          ],
          [
           "Copper ores and concentrates"
          ],
          [
           "Cobalt ores and concentrates"
          ],
          [
           "Chromium ores and concentrates"
          ],
          [
           "Precious metal ores and concentrates"
          ],
          [
           "Ores and concentrates; n.e.c. in heading no. 2601"
          ],
          [
           "Slag, ash and residues; (not from the manufacture of iron or steel) containing metals, arsenic or their compounds"
          ],
          [
           "Slag and ash n.e.c. in chapter 26; including seaweed ash (kelp) and ash and residues from the incineration of municipal waste"
          ],
          [
           "Lignite; whether or not agglomerated, excluding jet"
          ],
          [
           "Oils and other products of the distillation of high temperature coal tar; similar products in which the weight of the aromatic constituents exceeds that of the non-aromatic constituents"
          ],
          [
           "Pitch and pitch coke; obtained from coal tar or from other mineral tars"
          ],
          [
           "Petroleum oils and oils obtained from bituminous minerals; crude"
          ],
          [
           "Petroleum oils and oils from bituminous minerals, not crude; preparations n.e.c, containing by weight 70% or more of petroleum oils or oils from bituminous minerals; these being the basic constituents of the preparations; waste oils"
          ],
          [
           "Petroleum gases and other gaseous hydrocarbons"
          ],
          [
           "Petroleum jelly; paraffin wax, micro-crystalline petroleum wax, slack wax, ozokerite, lignite wax, peat wax, other mineral waxes, similar products obtained by synthesis, other processes; coloured or not"
          ],
          [
           "Petroleum coke, petroleum bitumen; other residues of petroleum oils or oils obtained from bituminous minerals"
          ],
          [
           "Bitumen and asphalt, natural; bituminous or oil shale and tar sands; asphaltites and asphaltic rocks"
          ],
          [
           "Bituminous mixtures based on natural asphalt; on natural bitumen, on petroleum bitumen, on mineral tar or on mineral tar pitch (e.g. bituminous mastics, cut-backs)"
          ],
          [
           "Fluorine, chlorine, bromine and iodine"
          ],
          [
           "Carbon; carbon blacks and other forms of carbon n.e.c."
          ],
          [
           "Hydrogen, rare gases and other non-metals"
          ],
          [
           "Sulphuric acid; oleum"
          ],
          [
           "Nitric acid; sulphonitric acids"
          ],
          [
           "Diphosphorus pentoxide; phosphoric acid and polyphosphoric acids"
          ],
          [
           "Inorganic acids and other inorganic oxygen compounds of non-metals; n.e.c. in heading no. 2806 to 2810"
          ],
          [
           "Zinc; oxide and peroxide"
          ],
          [
           "Aluminium oxide (including artificial corundum); aluminium hydroxide"
          ],
          [
           "Iron oxides and hydroxides; earth colours containing 70% or more by weight of combined iron evaluated as Fe2o3"
          ],
          [
           "Titanium oxides"
          ],
          [
           "Lead oxides; red lead and orange lead"
          ],
          [
           "Hydrazine and hydroxylamine and their inorganic salts; other inorganic bases; other metal oxides, hydroxides and peroxides"
          ],
          [
           "Fluorides; fluorosilicates, fluoroaluminates and other complex fluorine salts"
          ],
          [
           "Chlorides; chloride oxides and chloride hydroxides; bromides and bromide oxides; iodides and iodide oxides"
          ],
          [
           "Hypochlorites; commercial calcium hypochlorite; chlorites; hypobromites"
          ],
          [
           "Dithionites and sulphoxylates"
          ],
          [
           "Sulphites; thiosulphates"
          ],
          [
           "Sulphates; alums; peroxosulphates (persulphates)"
          ],
          [
           "Nitrites; nitrates"
          ],
          [
           "Carbonates; peroxocarbonates (percarbonates); commercial ammonium carbonate containing ammonium carbamate"
          ],
          [
           "Silicates; commercial alkali metal silicates"
          ],
          [
           "Salts of oxometallic or peroxometallic acids"
          ],
          [
           "Salts of inorganic acids or peroxoacids, n.e.c. including aluminosilicates whether or not chemically defined, but excluding azides"
          ],
          [
           "Colloidal precious metals; inorganic or organic compounds of precious metals, whether or not chemically defined; amalgams of precious metals"
          ],
          [
           "Radioactive chemical elements and radioactive isotopes (including the fissile or fertile chemical elements and isotopes); and their compounds; mixtures and residues containing these products"
          ],
          [
           "Hydrogen peroxide; whether or not solidified with urea"
          ],
          [
           "Inorganic compounds n.e.c. (including distilled or conductivity water and water of similar purity); liquid air (rare gases removed or not); compressed air; amalgams, other than precious metal amalgams"
          ],
          [
           "Acyclic hydrocarbons"
          ],
          [
           "Cyclic hydrocarbons"
          ],
          [
           "Halogenated derivatives of hydrocarbons"
          ],
          [
           "Sulphonated, nitrated or nitrosated derivatives of hydrocarbons; whether or not halogenated"
          ],
          [
           "Acyclic alcohols and their halogenated, sulphonated, nitrated or nitrosated derivatives"
          ],
          [
           "Alcohols; cyclic, and their halogenated, sulphonated, nitrated or nitrosated derivatives"
          ],
          [
           "Phenols; monophenols, polyphenols, and phenol-alcohols"
          ],
          [
           "Ethers, ether-alcohols, ether-phenols, ether-alcohol-phenols, alcohol peroxides, ether peroxides, ketone peroxides (chemically defined or not); halogenated, sulphonated, nitrated, nitrosated derivative"
          ],
          [
           "Epoxides, epoxyalcohols, epoxyphenols and epoxyethers; with a three-membered ring and their halogenated, sulphonated, nitrated or nitrosated derivatives"
          ],
          [
           "Aldehydes, whether or not with other oxygen function; cyclic polymers of aldehydes; paraformaldehyde"
          ],
          [
           "Ketones and quinones; whether or not with other oxygen function, and their halogenated, sulphonated, nitrated or nitrostated derivatives"
          ],
          [
           "Acids; saturated acyclic monocarboxylic acids and their anhydrides, halides, peroxides and peroxyacids; their halogenated, sulphonated, nitrated or nitrosated derivatives"
          ],
          [
           "Acids; unsaturated acyclic monocarboxylic, cyclic monocarboxylic, their anhydrides, halides, peroxides and peroxyacids; their halogenated, sulphonated, nitrated or nitrosated derivatives"
          ],
          [
           "Acids; carboxylic acid with additional oxygen function and their anhydrides, halides, peroxides, peroxyacids; their halogenated, sulphonated, nitrated or nitrosated derivatives"
          ],
          [
           "Amine-function compounds"
          ],
          [
           "Oxygen-function amino-compounds"
          ],
          [
           "Quaternary ammonium salts and hydroxides; lecithins and other phosphoaminolipids, whether or not chemically defined"
          ],
          [
           "Carboxyamide-function compounds; amide-function compounds of carbonic acid"
          ],
          [
           "Nitrogen-function compounds, n.e.c. in chapter 29"
          ],
          [
           "Heterocyclic compounds with oxygen hetero-atom(s) only"
          ],
          [
           "Heterocyclic compounds with nitrogen hetero-atom(s) only"
          ],
          [
           "Nucleic acids and their salts, whether or not chemically defined; other heterocyclic compounds"
          ],
          [
           "Sulphonamides"
          ],
          [
           "Provitamins, vitamins; natural or reproduced by synthesis (including natural concentrates) derivatives thereof used as vitamins, and intermixtures of the fore-going, whether or not in any solvent"
          ],
          [
           "Hormones, prostaglandins, thromboxanes and leukotrienes, natural or reproduced by synthesis; derivatives and structural analogues thereof, including chain modified polypeptides, used primarily as hormones."
          ],
          [
           "Glycosides, natural or reproduced by synthesis, and their salts, ethers, esters and other derivatives"
          ],
          [
           "Alkaloids, vegetable; natural or reproduced by synthesis, and their salts, ethers, esters and other derivatives"
          ],
          [
           "Antibiotics"
          ],
          [
           "Organic compounds; n.e.c. in chapter 29"
          ],
          [
           "Glands and other organs (extracts, secretions thereof) for organo-therapeutic uses, dried, powdered or not; heparin and its salts; other human or animal substances for therapeutic or prophylactic uses n.e.c."
          ],
          [
           "Human blood; animal blood for therapeutic, prophylactic or diagnostic uses; antisera, other blood fractions, immunological products, modified or obtained by biotechnological processes; vaccines, toxins, cultures of micro-organisms (excluding yeasts) etc"
          ],
          [
           "Medicaments; (not goods of heading no. 3002, 3005 or 3006) of two or more constituents mixed together for therapeutic or prophylactic use not in measured doses or in forms or packings for retail sale"
          ],
          [
           "Medicaments; (not goods of heading no. 3002, 3005 or 3006) consisting of mixed or unmixed products for therapeutic or prophylactic use, put up in measured doses (incl. those in the form of transdermal admin. systems) or packed for retail sale"
          ],
          [
           "Wadding, gauze, bandages (dressings, adhesive plasters, poultices), impregnated or coated with pharmaceutical substances or in forms or packings for retail sale, for medical, surgical or veterinary use"
          ],
          [
           "Pharmaceutical goods"
          ],
          [
           "Fertilizers; animal or vegetable, whether or not mixed together or chemically treated; fertilizers produced by the mixing or chemical treatment of animal or vegetable products"
          ],
          [
           "Fertilizers; mineral or chemical, nitrogenous"
          ],
          [
           "Fertilizers; mineral or chemical, phosphatic"
          ],
          [
           "Fertilizers; mineral or chemical, potassic"
          ],
          [
           "Fertilizers; mineral or chemical, containing 2 or 3 of the elements nitrogen, phosphorus, potassium; other fertilisers; goods of chapter 31 in tablets or packages of gross weight not exceeding 10kg"
          ],
          [
           "Tanning substances; synthetic organic or inorganic tanning substances; tanning preparations, whether or not containing natural tanning substances, enzymatic preparations for pre-tanning"
          ],
          [
           "Colouring matter of vegetable or animal origin (including dyeing extracts, not animal black); whether or not chemically defined; preparations based on colouring matter of vegetable or animal origin"
          ],
          [
           "Synthetic organic colouring matter and preparations based thereon; synthetic organic products used as fluorescent brightening agents or as luminophores; whether or not chemically defined"
          ],
          [
           "Colour lakes; preparations based on colour lakes as specified in note 3 to this chapter"
          ],
          [
           "Colouring matter and preparations thereof n.e.c. in heading no. 3203, 3204, 3205; inorganic products, kind used as luminophores whether or not chemically defined"
          ],
          [
           "Pigments, prepared; opacifiers, colours, vitrifiable enamels, glazes, engobes (slips), liquid lustres etc as used in the ceramic enamelling or glass industry; glass frit and powder, granules or flakes"
          ],
          [
           "Paints, varnishes; (enamels and lacquers) based on synthetic polymers or chemically modified natural polymers, dispersed or dissolved in a non-aqueous medium"
          ],
          [
           "Paints and varnishes (including enamels and lacquers) based on synthetic or chemically modified natural polymers, dispersed or dissolved in an aqueous medium"
          ],
          [
           "Paints and varnishes (including enamels, lacquers and distempers), excluding those of heading no. 3209, prepared water pigments of a kind used for finishing leather"
          ],
          [
           "Pigments (metallic powders and flakes) dispersed in non-aqueous media in liquid or paste form, as used in manufacture of paints (including enamels); stamping foils, dyes etc in forms, packing for retail sale"
          ],
          [
           "Colours; artists, students, or signboard painters, modifying tints, amusement colours and the like; in tablets, tubes, jars, bottles, pan or in similar forms or packings"
          ],
          [
           "Glaziers' putty, grafting putty, resin cements, caulking compounds and other mastics; painters' fillings; non-refractory surfacing preparations for facades, indoor walls, floors, ceilings or the like"
          ],
          [
           "Ink; printing, writing or drawing ink and other inks; whether or not concentrated or solid"
          ],
          [
           "Oils; essential (concretes, absolutes); concentrates thereof in fats, fixed oils, waxes or the like (obtained by enfleurage or maceration); aqueous distillates, solutions and terpenic by-products thereof; resinoids; extracted oleoresins"
          ],
          [
           "Odoriferous substances and mixtures (including alcoholic solutions) with a basis of one or more of these substances, of a kind used as raw materials in industry; other preparations based on odoriferous substances, of a kind used for beverage manufacture"
          ],
          [
           "Perfumes and toilet waters"
          ],
          [
           "Cosmetic and toilet preparations; beauty, make-up and skin care preparations (excluding medicaments, including sunscreen or sun tan preparations), manicure or pedicure preparations"
          ],
          [
           "Hair preparations; for use on the hair"
          ],
          [
           "Oral or dental hygiene preparations; including fixative pastes and powders; yarn used to clean between the teeth (dental floss), in individual retail packages"
          ],
          [
           "Perfumery, cosmetic or toilet preparations; pre-shave, shaving, after-shave, bath preparations; personal deodorants and depilatories; room deodorisers, perfumed or not with disinfectant properties or not"
          ],
          [
           "Soap; organic surface-active preparations used as soap, skin washing, in bars, cakes, moulded pieces, shapes, liquid or cream, containing soap or not; for retail, paper, wadding, felt and nonwovens, impregnated, coated or covered with soap or detergent"
          ],
          [
           "Organic surface-active agents (not soap); surface-active, washing (including auxiliary washing) and cleaning preparations, containing soap or not, excluding those of heading no. 3401"
          ],
          [
           "Lubricating preparations and those used in oil or grease treatment of textile and similar materials; excluding preparations containing 70% or more (by weight) of petroleum or bituminous mineral oils"
          ],
          [
           "Waxes; artificial, prepared"
          ],
          [
           "Polishes, creams, scouring pastes, powders and similar; in any form, (including articles impregnated, coated or covered with such), for furniture, footwear, floors, coachwork, glass or metal"
          ],
          [
           "Candles, tapers and the like"
          ],
          [
           "Gelatin (including gelatin in rectangular sheets, whether or not surface-worked or coloured) and gelatin derivatives; isinglass; other glues of animal origin, excluding casein glues of heading no. 3501"
          ],
          [
           "Peptones and their derivatives; other protein substances and their derivatives n.e.c. or included; hide powder, whether or not chromed"
          ],
          [
           "Dextrins and other modified starches (e.g. pregelatinised or esterified starches); glues based on starches or on dextrins or other modified starches"
          ],
          [
           "Prepared glues and other prepared adhesives, n.e.c. or included; products suitable for use as glues or adhesives, put up for retail sale as glues or adhesives, not exceeding 1kg net weight"
          ],
          [
           "Enzymes; prepared enzymes not elsewhere specified or included"
          ],
          [
           "Fireworks, signalling flares, rain rockets, fog signals and other pyrotechnic articles"
          ],
          [
           "Matches; other than pyrotechnic articles of heading no. 3604"
          ],
          [
           "Ferro-cerium and other pyrophoric alloys in all forms; articles of combustible materials n.e.c. in chapter 36"
          ],
          [
           "Photographic plates and film in the flat, sensitised, unexposed, of any material other than paper, paperboard or textiles; instant print film in the flat, sensitised, unexposed, whether or not in packs"
          ],
          [
           "Photographic film in rolls, sensitised, unexposed, of any material other than paper, paperboard or textiles; instant print film in rolls, sensitised, unexposed"
          ],
          [
           "Chemical preparations for photographic uses (other than varnishes, glues, adhesives and similar preparations); unmixed products for photographic uses, put up in measured portions or for retail sale"
          ],
          [
           "Artificial graphite; colloidal or semi-colloidal graphite; preparations based on graphite or other carbon in the form of pastes, blocks, plates or other semi-manufactures"
          ],
          [
           "Activated carbon; activated natural mineral products; animal black, including spent animal black"
          ],
          [
           "Residual lyes from the manufacture of wood pulp, whether or not concentrated, desugared or chemically treated, including lignin sulphonates, but excluding tall oil of heading no. 3803"
          ],
          [
           "Rosin and resin acids and derivatives thereof; rosin spirit and rosin oils; run gums"
          ],
          [
           "Insecticides, rodenticides, fungicides, herbicides, anti-sprouting products, plant growth regulators, disinfectants and the like, put up in forms or packings for retail sale or as preparations or articles"
          ],
          [
           "Finishing agents, dye carriers to accelerate the dyeing, fixing of dyestuffs, other products and preparations, of a kind used in the textile, paper, leather or like industries, n.e.c. or included"
          ],
          [
           "Metal-pickling preparations; fluxes etc for soldering, brazing; welding powders, pastes of metal and other materials; preparations used as cores or coatings for welding electrodes or rods"
          ],
          [
           "Anti-knock preparations, oxidation and gum inhibitors, viscosity improvers, anti-corrosive preparations and the like, for mineral oils (including gasoline) or other liquids used for the same purposes"
          ],
          [
           "Prepared rubber accelerators; compound plasticisers for rubber or plastics, n.e.c. or included; anti-oxidising preparations and other compound stabilisers for rubber or plastics"
          ],
          [
           "Organic composite solvents and thinners, not elsewhere specified or included; prepared paint or varnish removers"
          ],
          [
           "Reaction initiators, reaction accelerators and catalytic preparations n.e.c. or included"
          ],
          [
           "Refractory cements, mortars, concretes and similar compositions; other than products of heading no. 3801"
          ],
          [
           "Mixed alkylbenzenes and mixed alkylnaphthalenes, other than those of heading no. 2707 or 2902"
          ],
          [
           "Hydraulic brake fluids and other prepared liquids for hydraulic transmission, not containing or containing less than 70% by weight of petroleum oils or oils obtained from bituminous minerals"
          ],
          [
           "Anti-freezing preparations and prepared de-icing fluids"
          ],
          [
           "Prepared culture media for the development or maintenance of micro-organisms (including viruses and the like) or of plant, human or animal cells"
          ],
          [
           "Reagents; diagnostic or laboratory reagents on a backing and prepared diagnostic or laboratory reagents whether or not on a backing, other than those of heading no. 3002 or 3006; certified reference material"
          ],
          [
           "Industrial monocarboxylic fatty acids; acid oils from refining; industrial fatty alcohols"
          ],
          [
           "Prepared binders for foundry moulds or cores; chemical products and preparations of the chemical or allied industries (including those consisting of mixtures of natural products), not elsewhere specified or included"
          ],
          [
           "Biodiesel and mixtures thereof; not containing or containing less than 70% by weight of petroleum oils or oils obtained from bituminous minerals"
          ],
          [
           "Polymers of ethylene, in primary forms"
          ],
          [
           "Polymers of propylene or of other olefins, in primary forms"
          ],
          [
           "Polymers of styrene, in primary forms"
          ],
          [
           "Polymers of vinyl chloride or of other halogenated olefins, in primary forms"
          ],
          [
           "Polymers of vinyl acetate or of other vinyl esters, in primary forms; other vinyl polymers in primary forms"
          ],
          [
           "Acrylic polymers in primary forms"
          ],
          [
           "Polyacetals, other polyethers and epoxide resins, in primary forms; polycarbonates, alkyd resins, polyallyl esters and other polyesters, in primary forms"
          ],
          [
           "Polyamides in primary forms"
          ],
          [
           "Amino-resins, phenolic resins and polyurethanes, in primary forms"
          ],
          [
           "Silicones in primary forms"
          ],
          [
           "Petroleum resins, coumarone-indene resins, polyterpenes, polysulphides, polysulphones and similar products of chemical synthesis n.e.c. in chapter 39, in primary forms"
          ],
          [
           "Cellulose and its chemical derivatives, n.e.c. or included, in primary forms"
          ],
          [
           "Natural polymers (e.g. alginic acid) and modified natural polymers (e.g. hardened proteins, chemical derivatives of natural rubber), n.e.c. or included, in primary forms"
          ],
          [
           "Ion-exchangers; based on polymers of heading no. 3901 to 3913, in primary forms"
          ],
          [
           "Waste, parings and scrap, of plastics"
          ],
          [
           "Monofilament of which any cross-sectional dimension exceeds 1mm, rods, sticks and profile shapes, whether or not surface-worked but not otherwise worked, of plastics"
          ],
          [
           "Tubes, pipes and hoses and fittings thereof (for example, joints, elbows, flanges), of plastics"
          ],
          [
           "Floor coverings of plastics, self-adhesive or not, in rolls or tiles; wall or ceiling coverings of plastics, in rolls of a width not less than 45cm"
          ],
          [
           "Self-adhesive plates, sheets, film, foil, tape, strip and other flat shapes, of plastics, whether or not in rolls"
          ],
          [
           "Plastics; plates, sheets, film, foil and strip (not self-adhesive); non-cellular and not reinforced, laminated, supported or similarly combined with other materials, n.e.c. in chapter 39"
          ],
          [
           "Plastic plates, sheets, film, foil and strip n.e.c. in chapter 39"
          ],
          [
           "Sanitary ware; baths, shower-baths, sinks, wash-basins, bidets, lavatory pans, seats and covers, flushing cisterns and sanitary ware, of plastics"
          ],
          [
           "Plastic articles for the conveyance or packing of goods; stoppers, lids, caps and other closures of plastics"
          ],
          [
           "Tableware, kitchenware, other household articles and hygienic or toilet articles, of plastics"
          ],
          [
           "Plastics; builders' wares n.e.c. or included"
          ],
          [
           "Articles of plastics and articles of other materials of heading no. 3901 to 3914, n.e.c. in chapter 39"
          ],
          [
           "Natural rubber, balata, gutta-percha, guayule, chicle and similar gums; in primary forms or in plates, sheets or strip"
          ],
          [
           "Synthetic rubber and factice derived from oils, in primary forms or in plates, sheets or strip; mixtures of heading no. 4001 and 4002, in primary forms or in plates, sheets or strip"
          ],
          [
           "Waste, parings and scrap of rubber (other than hard rubber) and powders and granules obtained therefrom"
          ],
          [
           "Compounded rubber, unvulcanised, in primary forms or in plates, sheets or strip"
          ],
          [
           "Unvulcanised rubber in other forms (e.g. rods, tubes and profile shapes) and articles (e.g. discs and rings)"
          ],
          [
           "Plates, sheets, strip, rods and profile shapes, of vulcanised rubber other than hard rubber"
          ],
          [
           "Tubes, pipes and hoses, of vulcanised rubber (other than hard rubber), with or without their fittings (e.g. joints, elbows, flanges)"
          ],
          [
           "Conveyor or transmission belts or belting, of vulcanised rubber"
          ],
          [
           "New pneumatic tyres, of rubber"
          ],
          [
           "Retreaded or used pneumatic tyres of rubber; solid or cushion tyres, tyre treads and tyre flaps, of rubber"
          ],
          [
           "Inner tubes, of rubber"
          ],
          [
           "Articles of apparel and clothing accessories (including gloves, mittens and mitts), for all purposes, of vulcanised rubber other than hard rubber"
          ],
          [
           "Articles of vulcanised rubber other than hard rubber, n.e.c. in chapter 40"
          ],
          [
           "Tanned or crust hides and skins of bovine (including buffalo) or equine animals, without hair on, whether or not split, but not further prepared"
          ],
          [
           "Tanned or crust skins of sheep and lambs, without wool on, whether or not split, but not further prepared"
          ],
          [
           "Leather further prepared after tanning or crusting, including parchment-dressed leather, of bovine (including buffalo) or equine animals, without hair on, whether or not split, other than leather of heading 41.14"
          ],
          [
           "Composition leather with a basis of leather or leather fibre, in slabs, sheets or strip, in rolls or not; parings and other waste of leather or of composition leather, not suitable for the manufacture of leather articles; leather dust, powder and flour"
          ],
          [
           "Saddlery and harness for any animal (including traces, leads, knee pads, muzzles, saddle cloths, saddle bags, dog coats and the like) of any material"
          ],
          [
           "Trunks; suit, camera, jewellery, cutlery cases; travel, tool, similar bags; wholly or mainly covered by leather, composition leather, plastic sheeting, textile materials, vulcanised fibre, paperboard"
          ],
          [
           "Articles of apparel and clothing accessories, of leather or of composition leather"
          ],
          [
           "Leather or composition leather articles n.e.c. in chapter 42"
          ],
          [
           "Articles of gut (other than silk-worm gut), of goldbeater's skin, of bladders or of tendons"
          ],
          [
           "Articles of apparel, clothing accessories and other articles of furskin"
          ],
          [
           "Fuel wood, in logs, billets, twigs, faggots or similar forms; wood in chip or particles; sawdust and wood waste and scrap, whether or not agglomerated in logs, briquettes, pellets or similar forms"
          ],
          [
           "Wood charcoal (including shell or nut charcoal), whether or not agglomerated"
          ],
          [
           "Wood in the rough, whether or not stripped of bark or sapwood, or roughly squared"
          ],
          [
           "Wood sawn or chipped lengthwise, sliced or peeled, whether or not planed, sanded or end-jointed, of a thickness exceeding 6mm"
          ],
          [
           "Sheets for veneering (including those obtained by slicing laminated wood), for plywood or for similar laminated wood and other wood, sawn lengthwise, sliced or peeled, planed or not, sanded, spliced or end-jointed, of a thickness not exceeding 6 mm"
          ],
          [
           "Wood (including strips, friezes for parquet flooring, not assembled), continuously shaped (tongued, grooved, v-jointed, beaded or the like) along any edges, ends or faces, whether or not planed, sanded or end-jointed"
          ],
          [
           "Particle board, oriented strand board (OSB) and similar board (e.g. waferboard) of wood or other ligneous materials, whether or not agglomerated with resins or other organic binding substances"
          ],
          [
           "Fibreboard of wood or other ligneous materials, whether or not bonded with resins or other organic substances"
          ],
          [
           "Plywood, veneered panels and similar laminated wood"
          ],
          [
           "Densified wood, in blocks, plates, strips or profile shapes"
          ],
          [
           "Wooden frames; for paintings, photographs, mirrors or similar objects"
          ],
          [
           "Packing cases, boxes, crates, drums and similar packings, of wood; cable-drums of wood; pallets, box pallets and other load boards, of wood; pallet collars of wood"
          ],
          [
           "Casks, barrels, vats, tubs and other coopers' products and parts thereof, of wood, including staves"
          ],
          [
           "Tools, tool bodies, tool handles, broom or brush bodies and handles, of wood; boot or shoe lasts and trees, of wood"
          ],
          [
           "Builders' joinery and carpentry of wood, including cellular wood panels, assembled flooring panels, shingles and shakes"
          ],
          [
           "Tableware and kitchenware, of wood"
          ],
          [
           "Wood marquetry and inlaid wood; caskets and cases for jewellery or cutlery, and similar articles of wood; statuettes and other ornaments of wood; wooden articles of furniture not falling in chapter 94"
          ],
          [
           "Wooden articles n.e.c. in heading no. 4414 to 4420"
          ],
          [
           "Agglomerated cork (with or without a binding substance) and articles of agglomerated cork"
          ],
          [
           "Basketwork, wickerwork and other articles, made directly to shape from plaiting materials or made up from goods of heading no. 4601; articles of loofah"
          ],
          [
           "Chemical wood pulp, soda or sulphate, other than dissolving grades"
          ],
          [
           "Waste and scrap of paper and paperboard"
          ],
          [
           "Newsprint, in rolls or sheets"
          ],
          [
           "Uncoated paper and paperboard, used for writing, printing or other graphics, non perforated punch-cards and punch tape paper, in rolls or rectangular sheets, of any size, other than paper of heading 4801 or 4803; hand-made paper and paperboard"
          ],
          [
           "Tissue, towel, napkin stock or similar; for household or sanitary uses, cellulose wadding, webs of cellulose fibres, in rolls over 36cm in width or rectangular sheets with one side exceeding 36cm when unfolded"
          ],
          [
           "Uncoated kraft paper and paperboard, in rolls or sheets, other than that of heading no. 4802 or 4803"
          ],
          [
           "Uncoated paper and paperboard n.e.c., in rolls or sheets"
          ],
          [
           "Vegetable parchment, greaseproof papers, tracing papers, glassine and other glazed transparent or translucent papers, in rolls or sheets"
          ],
          [
           "Composite paper and paperboard, (made by sticking layers together with an adhesive), not surface-coated or impregnated, whether or not internally reinforced, in rolls or sheets"
          ],
          [
           "Paper and paperboard, corrugated (with or without glued flat surface sheets), creped, crinkled, embossed or perforated, in rolls or sheets other than paper of the kind described in heading 4803"
          ],
          [
           "Carbon paper, self copy paper, and other copying or transfer papers (including coated or impregnated paper for duplicator stencils or offset plates), whether or not printed, in rolls or sheets"
          ],
          [
           "Paper and paperboard, coated one or both sides with kaolin (china clay) or inorganic substances, with binder or not, no other coating, surface coloured or not, surface decorated or printed, in rolls or rectangular (including square) sheets, of any size"
          ],
          [
           "Paper, paperboard, cellulose wadding and webs of cellulose fibres, coated, impregnated, covered, surface-coloured, decorated or printed, rolls or sheets, other than goods of heading no. 4803, 4809, or 4810"
          ],
          [
           "Cigarette paper, whether or not cut to size or in the form of booklets or tubes"
          ],
          [
           "Wallpaper and similar wall coverings; window transparencies of paper"
          ],
          [
           "Envelopes, letter cards, plain postcards and correspondence cards, of paper, paperboard; boxes, pouches, wallets and writing compendiums, of paper or paperboard containing assortment of paper stationery"
          ],
          [
           "Toilet paper, width 36cm or less or cut to size/shape; handkerchiefs, tissues, towels, serviettes, bed sheets and similar household or hospital articles, apparel and clothing accessories of paper pulp, paper, cellulose wadding or webs of cellulose fibres"
          ],
          [
           "Cartons, boxes, cases, bags and the like, of paper, paperboard, cellulose wadding or fibres; box files, letter trays and the like, of paper or paperboard, of a kind used in offices, shops or the like"
          ],
          [
           "Registers, account books, diaries and similar; albums for samples or collections, of paper or paperboard"
          ],
          [
           "Paper or paperboard labels of all kinds, whether or not printed"
          ],
          [
           "Bobbins, spools, cops and similar supports of paper pulp, paper or paperboard (whether or not perforated or hardened)"
          ],
          [
           "Paper, paperboard, cellulose wadding and webs of cellulose fibres; cut to size or shape, articles of paper pulp, paper and paper-board, cellulose wadding or webs of cellulose fibres, n.e.c. in chapter 48"
          ],
          [
           "Printed books, brochures, leaflets and similar printed matter, whether or not in single sheets"
          ],
          [
           "Newspapers, journals and periodicals, whether or not illustrated or containing advertising material"
          ],
          [
           "Children's picture, drawing or colouring books"
          ],
          [
           "Music, printed or in manuscript, whether or not bound or illustrated"
          ],
          [
           "Maps and hydrographic or similar charts of all kinds, including atlases, wall maps, topographical plans and globes, printed"
          ],
          [
           "Plans and drawings; for architectural, engineering, industrial, commercial, topographical or similar, being originals drawn by hand; hand-written texts; photo- graphic reproductions; their carbon copies"
          ],
          [
           "Transfers (decalcomanias)"
          ],
          [
           "Printed or illustrated postcards; printed cards bearing personal greetings, messages or announcements, whether or not illustrated, with or without envelopes or trimmings"
          ],
          [
           "Calendars of any kind, printed, including calendar blocks"
          ],
          [
           "Printed matter, n.e.c., including printed pictures and photographs"
          ],
          [
           "Wool, not carded or combed"
          ],
          [
           "Wool and fine or coarse animal hair; carded or combed (including combed wool in fragments)"
          ],
          [
           "Yarn of combed wool, not put up for retail sale"
          ],
          [
           "Yarn of wool or of fine animal hair, put up for retail sale"
          ],
          [
           "Woven fabrics of carded wool or of carded fine animal hair"
          ],
          [
           "Woven fabrics of combed wool or of combed fine animal hair"
          ],
          [
           "Cotton waste (including yarn waste and garnetted stock)"
          ],
          [
           "Cotton sewing thread, whether or not put up for retail sale"
          ],
          [
           "Cotton yarn (other than sewing thread), containing 85% or more by weight of cotton, not put up for retail sale"
          ],
          [
           "Cotton yarn (other than sewing thread), put up for retail sale"
          ],
          [
           "Woven fabrics of cotton, containing 85% or more by weight of cotton, weighing not more than 200 g/m2"
          ],
          [
           "Woven fabrics of cotton, containing 85% or more by weight of cotton, weighing more than 200g/m2"
          ],
          [
           "Woven fabrics of cotton, containing less than 85% by weight of cotton, mixed mainly or solely with man-made fibres, weighing more than 200g/m2"
          ],
          [
           "Coconut, abaca (Manila hemp or Musa textilis Nee), ramie and other vegetable textile fibres n.e.c., raw or processed but not spun; tow, noils and waste of these fibres (including yarn waste and garnetted stock)"
          ],
          [
           "Yarn of other vegetable textile fibres; paper yarn"
          ],
          [
           "Sewing thread of man-made filaments, whether or not put up for retail sale"
          ],
          [
           "Synthetic filament yarn (other than sewing thread), not put up for retail sale, including synthetic monofilament of less than 67 decitex"
          ],
          [
           "Synthetic monofilament of 67 decitex or more, of which no cross-sectional dimension exceeds 1mm; strip and the like (e.g. artificial straw) of synthetic textile materials of an apparent width not exceeding 5mm"
          ],
          [
           "Man-made filament yarn (other than sewing thread), put up for retail sale"
          ],
          [
           "Woven fabrics of synthetic filament yarn, including woven fabrics obtained from materials of heading no. 5404"
          ],
          [
           "Artificial filament tow"
          ],
          [
           "Synthetic staple fibres, not carded, combed or otherwise processed for spinning"
          ],
          [
           "Waste (including noils, yarn waste and garnetted stock), of man-made fibres"
          ],
          [
           "Sewing thread of man-made staple fibres, whether or not put up for retail sale"
          ],
          [
           "Yarn (other than sewing thread) of synthetic staple fibres, not put up for retail sale"
          ],
          [
           "Yarn (other than sewing thread) of artificial staple fibres, not put up for retail sale"
          ],
          [
           "Yarn (not sewing thread), of man-made staple fibres, put up for retail sale"
          ],
          [
           "Woven fabrics of synthetic staple fibres, containing 85% or more by weight of synthetic staple fibres"
          ],
          [
           "Woven fabrics of synthetic staple fibres, containing less than 85% by weight of such fibres, mixed mainly or solely with cotton, of a weight not exceeding 170g/m2"
          ],
          [
           "Woven fabrics of synthetic staple fibres, containing less than 85% by weight of such fibres, mixed mainly or solely with cotton, of a weight exceeding 170g/m2"
          ],
          [
           "Woven fabrics of synthetic staple fibres, n.e.c. in chapter 55"
          ],
          [
           "Woven fabrics of artificial staple fibres"
          ],
          [
           "Wadding of textile materials and articles thereof; textile fibres, not exceeding 5 mm in length (flock), textile dust and mill neps"
          ],
          [
           "Felt; whether or not impregnated, coated, covered or laminated"
          ],
          [
           "Nonwovens; whether or not impregnated, coated, covered or laminated"
          ],
          [
           "Rubber thread and cord, textile covered; textile yarn and strip and the like of heading no. 5404, 5405; impregnated, coated, covered or sheathed with rubber or plastics"
          ],
          [
           "Yarn and strip and the like of heading no. 5404 or 5405, gimped (other than those of heading no. 5606 and gimped horsehair yarn); chenille yarn (including flock chenille yarn); loop wale-yarn"
          ],
          [
           "Twine, cordage, ropes and cables, whether or not plaited or braided; whether or not impregnated, coated, covered or sheathed with rubber or plastics"
          ],
          [
           "Twine, cordage or rope; knotted netting, made up fishing nets and other made up nets, of textile materials"
          ],
          [
           "Articles of yarn, strip or the like of heading no. 5404 or 5405; twine, cordage, rope or cables n.e.c. or included"
          ],
          [
           "Carpets and other textile floor coverings; woven, (not tufted or flocked), whether or not made up, including kelem, schumacks, karamanie and similar hand-woven rugs"
          ],
          [
           "Carpets and other textile floor coverings; tufted, whether or not made up"
          ],
          [
           "Carpets and other textile floor coverings; of felt, (not tufted or flocked), whether or not made up"
          ],
          [
           "Carpets and other textile floor coverings; n.e.c. in chapter 57, whether or not made up"
          ],
          [
           "Fabrics; woven pile and chenille fabrics, other than fabrics of heading no. 5802 or 5806"
          ],
          [
           "Tulles and other net fabrics; not including woven, knitted or crocheted fabrics; lace in the piece, in strips or in motifs, (other than fabrics of headings 60.02 to 60.06)"
          ],
          [
           "Tapestries; hand-woven, (Gobelins, Flanders, Aubusson, Beauvais and the like) and needle-worked tapestries (e.g. petit point, cross-stitch) whether or not made up"
          ],
          [
           "Fabrics; narrow woven, other than goods of heading no. 5807; narrow fabrics consisting of warp without weft assembled by means of an adhesive (bolducs)"
          ],
          [
           "Labels, badges and similar articles; of textile materials, in the piece, in strips or cut to shape or size, not embroidered"
          ],
          [
           "Quilted textile products; in the piece, composed of one or more layers of textile materials assembled with padding by stitching or otherwise (excluding embroidery of heading no. 5810)"
          ],
          [
           "Textile fabrics, gum or amylaceous substance coated, used for outer book covers and like; tracing cloth, prepared painting canvas; buckram and similar stiffened textile fabrics used for hat foundation"
          ],
          [
           "Textile fabrics impregnated, coated, covered or laminated with plastics, other than those of heading no. 5902"
          ],
          [
           "Textile fabrics, rubberised; other than those of heading no. 5902"
          ],
          [
           "Textile hose piping and similar textile tubing; with or without lining, armour or accessories of other materials"
          ],
          [
           "Textiles; transmission or conveyor belts or belting, of textile material, whether or not impregnated, coated, covered or laminated with plastics, or reinforced with metal or other material"
          ],
          [
           "Textile products and articles for technical uses; specified in note 7 to this chapter"
          ],
          [
           "Fabrics; pile fabrics, including long pile fabrics and terry fabrics, knitted or crocheted"
          ],
          [
           "Fabrics; knitted or crocheted fabrics of a width exceeding 30 cm, other than those of heading 60.01, containing by weight 5% or more of elastomeric yarn or rubber thread"
          ],
          [
           "Fabrics; warp knit (including those made on galloon knitting machines), other than those of headings 60.01 to 60.04"
          ],
          [
           "Fabrics; knitted or crocheted fabrics, other than those of headings 60.01 to 60.04"
          ],
          [
           "Coats; men's or boys' overcoats, car-coats, capes, cloaks, anoraks, ski-jackets, wind-cheaters, wind-jackets and similar articles; knitted or crocheted, other than those of heading no. 6103"
          ],
          [
           "Coats; women's or girls' overcoats, car-coats, capes, cloaks, anoraks, ski-jackets, wind-cheaters, wind-jackets and similar articles, knitted or crocheted, other than those of heading no. 6104"
          ],
          [
           "Suits, ensembles, jackets, blazers, trousers, bib and brace overalls, breeches, shorts (not swimwear); men's or boys', knitted or crocheted"
          ],
          [
           "Suits, ensembles, jackets, dresses, skirts, divided skirts, trousers, bib and brace overalls, breeches and shorts (not swimwear), women's or girls', knitted or crocheted"
          ],
          [
           "Shirts; men's or boys', knitted or crocheted"
          ],
          [
           "Blouses, shirts and shirt-blouses; women's or girls', knitted or crocheted"
          ],
          [
           "Underpants, briefs, nightshirts, pyjamas, bathrobes, dressing gowns and similar articles; men's or boys', knitted or crocheted"
          ],
          [
           "Slips, petticoats, briefs, panties, nightdresses, pyjamas, negligees, bathrobes, dressing gowns and similar articles; women's or girls', knitted or crocheted"
          ],
          [
           "T-shirts, singlets and other vests; knitted or crocheted"
          ],
          [
           "Jerseys, pullovers, cardigans, waistcoats and similar articles; knitted or crocheted"
          ],
          [
           "Garments and clothing accessories, babies'; knitted or crocheted"
          ],
          [
           "Track suits, ski suits and swimwear; knitted or crocheted"
          ],
          [
           "Garments; knitted or crocheted, n.e.c. in chapter 61"
          ],
          [
           "Hosiery; panty hose, tights, stockings, socks and other hosiery, including graduated compression hosiery (for example, stockings for varicose veins) and footwear without applied soles, knitted or crocheted"
          ],
          [
           "Gloves, mittens and mitts; knitted or crocheted"
          ],
          [
           "Clothing accessories; made up, knitted or crocheted, knitted or crocheted parts of garments or of clothing accessories"
          ],
          [
           "Coats; women's or girls' overcoats, carcoats, capes, cloaks, anoraks, ski-jackets, wind-cheaters, wind-jackets and similar articles, other than those of heading no. 6204 (not knitted or crocheted)"
          ],
          [
           "Suits, ensembles, jackets, blazers, trousers, bib and brace overalls, breeches and shorts (other than swimwear); men's or boys' (not knitted or crocheted)"
          ],
          [
           "Suits, ensembles, jackets, dresses, skirts, divided skirts, trousers, bib and brace overalls, breeches and shorts (other than swimwear); women's or girls' (not knitted or crocheted)"
          ],
          [
           "Shirts; men's or boys' (not knitted or crocheted)"
          ],
          [
           "Blouses, shirts and shirt-blouses; women's or girls' (not knitted or crocheted)"
          ],
          [
           "Singlets and other vests, underpants, briefs, night-shirts, pyjamas, bathrobes, dressing gowns and similar articles; men's or boys' (not knitted or crocheted)"
          ],
          [
           "Singlets and other vests, slips, petticoats, briefs, panties, nightdresses, pyjamas, negligees, bathrobes, dressing gowns and similar articles; women's or girls' (not knitted or crocheted)"
          ],
          [
           "Garments and clothing accessories; babies' (not knitted or crocheted)"
          ],
          [
           "Garments made up of fabrics of heading no. 5602, 5603, 5903, 5906 or 5907 (not knitted or crocheted)"
          ],
          [
           "Track suits, swimwear and other garments (not knitted or crocheted)"
          ],
          [
           "Brassieres, girdles, corsets, braces, suspenders, garters and similar articles and parts thereof; whether or not knitted or crocheted"
          ],
          [
           "Shawls, scarves, mufflers, mantillas, veils and the like (not knitted or crocheted)"
          ],
          [
           "Ties, bow ties and cravats (not knitted or crocheted)"
          ],
          [
           "Gloves, mittens and mitts (not knitted or crocheted)"
          ],
          [
           "Clothing accessories n.e.c.; parts of garments or accessories other than those of heading no. 6212 (not knitted or crocheted)"
          ],
          [
           "Blankets and travelling rugs"
          ],
          [
           "Bed linen, table linen, toilet linen and kitchen linen"
          ],
          [
           "Curtains (including drapes) and interior blinds; curtain or bed valances"
          ],
          [
           "Furnishing articles; excluding those of heading no. 9404"
          ],
          [
           "Sacks and bags, of a kind used for the packing of goods"
          ],
          [
           "Tarpaulins, awnings and sunblinds; tents; sails for boats, sailboards or landcraft; camping goods"
          ],
          [
           "Textiles; made up articles n.e.c. in chapter 63, including dress patterns"
          ],
          [
           "Textiles; sets of woven fabric and yarn, with or without accessories, for making into rugs, tapestries, embroidered tablecloths, serviettes and similar textile articles, in packings for retail sale"
          ],
          [
           "Textiles; worn clothing and other worn articles"
          ],
          [
           "Rags; used or new, scrap twine, cordage, rope and cables and worn out articles of twine, cordage, rope or cables, of textile materials"
          ],
          [
           "Footwear; waterproof, with outer soles and uppers of rubber or plastics, (uppers not fixed to the sole nor assembled by stitch, rivet, nail, screw, plug or similar)"
          ],
          [
           "Footwear; with outer soles and uppers of rubber or plastics (excluding waterproof footwear)"
          ],
          [
           "Footwear; with outer soles of rubber, plastics, leather or composition leather and uppers of leather"
          ],
          [
           "Footwear; other footwear n.e.c. in chapter 64"
          ],
          [
           "Footwear; parts of footwear; removable in-soles, heel cushions and similar articles; gaiters, le.g.ings and similar articles, and parts thereof"
          ],
          [
           "Hat-forms, hat bodies and hoods of felt, neither blocked to shape nor with made brims; plateaux and manchons (including slit manchons) of felt"
          ],
          [
           "Hat-shapes; plaited or made by assembling strips of any material, neither blocked to shape, nor with made brims, nor lined, nor trimmed"
          ],
          [
           "Hats and other headgear; plaited or made by assembling strips of any material, whether or not lined or trimmed"
          ],
          [
           "Hats and other headgear; knitted or crocheted, or made up from lace, felt or other textile fabric, in the piece (but not in strips), whether or not lined or trimmed; hair-nets of any material, whether or not lined or trimmed"
          ],
          [
           "Headgear; n.e.c. in chapter 65, whether or not lined or trimmed"
          ],
          [
           "Head-bands, linings, covers, hat foundations, hat frames, peaks and chinstraps, for headgear"
          ],
          [
           "Umbrellas; sun umbrellas (including walking stick umbrellas, garden umbrellas and similar umbrellas)"
          ],
          [
           "Walking-sticks, seat-sticks, whips, riding-crops and the like"
          ],
          [
           "Skin and other parts of birds with their feather or down; feathers, parts of feather, down and articles thereof (other than goods of heading no. 0505 and worked quills and scapes)"
          ],
          [
           "Flowers, foliage and fruit, artificial, and parts thereof; articles made of artificial flowers, foliage or fruit"
          ],
          [
           "Wigs, false beards, eyebrows and eyelashes, switches and the like, of human or animal hair or of textile materials; articles of human hair, n.e.c. or included"
          ],
          [
           "Stone; setts, curbstones and flagstones, of natural stone (except slate)"
          ],
          [
           "Monumental or building stone, worked (except slate) and articles thereof (not of heading no. 6801) mosaic cubes etc., of natural stone including slate; artificially coloured granules of natural stone"
          ],
          [
           "Millstones, grindstones, grinding wheels, etc without frameworks, for grinding, sharpening, polishing, etc and parts thereof, natural stone, agglomerated natural or artificial abrasives or of ceramics"
          ],
          [
           "Abrasive powder or grain; natural or artificial, on a base of textile material, of paper, paperboard or of other material, whether or not cut to shape or sewn or otherwise made up"
          ],
          [
           "Asphalt or similar material; articles (e.g. petroleum bitumen or coal tar pitch)"
          ],
          [
           "Cement, concrete or artificial stone; whether or not reinforced, articles thereof"
          ],
          [
           "Fabricated asbestos fibres; mixtures with a basis of asbestos or of asbestos and magnesium carbonate; articles of such mixtures or of asbestos (e.g. thread, woven fabric, clothing, footwear), whether or not reinforced, not goods of heading 6811 or 6813"
          ],
          [
           "Friction material and articles thereof (e.g. sheets, rolls, strips, segments, discs, washers, pads) not mounted; for brakes, clutches or the like, with a basis of asbestos, other mineral substances, or cellulose"
          ],
          [
           "Mica; worked, articles of, including agglomerated or reconstituted mica; whether or not on a support of paper, paperboard or other materials"
          ],
          [
           "Stone or other mineral substances; articles thereof (including articles of peat), n.e.c. or included"
          ],
          [
           "Refractory bricks, blocks, tiles and similar refractory ceramic constructional goods; other than those of siliceous fossil meals or similar siliceous earths"
          ],
          [
           "Ceramic goods; (e.g. retorts, crucibles, muffles, nozzles, plugs, supports cupels, tubes, pipes, sheaths, rods) excluding those of siliceous fossil meals or of similar siliceous earths"
          ],
          [
           "Ceramic pipes, conduits, guttering and pipe fittings"
          ],
          [
           "Ceramic flags and paving, hearth or wall tiles, unglazed; unglazed ceramic mosaic cubes and the like, whether or not on a backing"
          ],
          [
           "Ceramic flags and paving, hearth or wall tiles, glazed; glazed ceramic mosaic cubes and the like, whether or not on a backing"
          ],
          [
           "Ceramic ware for laboratory, chemical, other technical uses; ceramic troughs, tubs, similar receptacles used in agriculture; ceramic pots, jars and similar used in the conveyance or packing of goods"
          ],
          [
           "Ceramic sinks, wash basins, wash basin pedestals, baths, bidets, water closet pans, flushing cisterns, urinals and similar sanitary fixtures"
          ],
          [
           "Tableware, kitchenware, other household articles and toilet articles; of porcelain or china"
          ],
          [
           "Ceramic tableware, kitchenware, other household articles and toilet articles; other than of porcelain or china"
          ],
          [
           "Statuettes and other ornamental ceramic articles"
          ],
          [
           "Ceramic articles; n.e.c. in chapter 69"
          ],
          [
           "Glass; cullet and other waste and scrap of glass, glass in the mass"
          ],
          [
           "Glass in balls (other than microspheres of heading no. 7018), rods or tubes, unworked"
          ],
          [
           "Glass; drawn glass and blown glass, in sheets, whether or not having an absorbent, reflecting or non-reflecting layer, but not otherwise worked"
          ],
          [
           "Glass of heading no. 7003, 7004 or 7005, bent, edge-worked, engraved, drilled, enamelled or otherwise worked, not framed or fitted with other materials"
          ],
          [
           "Safety glass, consisting of toughened (tempered) or laminated glass"
          ],
          [
           "Glass mirrors; whether or not framed, including rear-view mirrors"
          ],
          [
           "Carboys, bottles, flasks, jars, pots, phials, ampoules, containers of glass of a kind used for the conveyance or packing of goods; preserving jars of glass; stoppers, lids and other closures of glass"
          ],
          [
           "Glassware of a kind used for table, kitchen, toilet, office, indoor decoration or similar purposes (other than of heading no. 7010 or 7018)"
          ],
          [
           "Glass; paving blocks, slabs, bricks, tiles etc, of pressed, moulded glass, whether or not wired, glass smallwares for decorative purposes leaded lights and the like; multicellular or foam glass"
          ],
          [
           "Laboratory, hygienic or pharmaceutical glassware, whether or not graduated or calibrated"
          ],
          [
           "Glass beads, imitation pearls, precious or semi-precious stones and similar glass smallwares, statuettes and other ornaments of worked glass; glass microspheres not exceeding 1mm in diameter"
          ],
          [
           "Glass fibres (including glass wool) and articles thereof (e.g. yarn, woven fabrics)"
          ],
          [
           "Glass; articles n.e.c. in chapter 70"
          ],
          [
           "Silver (including silver plated with gold or platinum); unwrought or in semi-manufactured forms, or in powder form"
          ],
          [
           "Gold (including gold plated with platinum) unwrought or in semi-manufactured forms, or in powder form"
          ],
          [
           "Platinum; unwrought or in semi-manufactured forms, or in powder form"
          ],
          [
           "Waste and scrap of precious metal or of metal clad with precious metal; other waste and scrap containing precious metal compounds, of a kind uses principally for the recovery of precious metal"
          ],
          [
           "Jewellery articles and parts thereof, of precious metal or of metal clad with precious metal"
          ],
          [
           "Articles of precious metal or of metal clad with precious metal"
          ],
          [
           "Imitation jewellery"
          ],
          [
           "Pig iron and spiegeleisen in pigs, blocks or other primary forms"
          ],
          [
           "Ferro-alloys"
          ],
          [
           "Ferrous products obtained by direct reduction of iron ore and other spongy ferrous products, in lumps, pellets or the like; iron having a minimum purity of 99.94%, in lumps, pellets or similar forms"
          ],
          [
           "Ferrous waste and scrap; remelting scrap ingots of iron or steel"
          ],
          [
           "Iron or non-alloy steel; flat-rolled products of a width of 600mm or more, hot-rolled, not clad, plated or coated"
          ],
          [
           "Iron or non-alloy steel; flat-rolled products, width 600mm or more, cold-rolled (cold-reduced), not clad, plated or coated"
          ],
          [
           "Iron or non-alloy steel; flat-rolled products, width 600mm or more, clad, plated or coated"
          ],
          [
           "Iron or non-alloy steel; flat-rolled products, width less than 600mm, not clad, plated or coated"
          ],
          [
           "Iron or non-alloy steel; flat-rolled products, width less than 600mm, clad, plated or coated"
          ],
          [
           "Iron or non-alloy steel; bars and rods, hot-rolled, in irregularly wound coils"
          ],
          [
           "Iron or non-alloy steel; bars and rods, not further worked than forged, hot-rolled, hot drawn or hot-extruded, but including those twisted after rolling"
          ],
          [
           "Iron or non-alloy steel; bars and rods, n.e.c. in chapter 72"
          ],
          [
           "Iron or non-alloy steel, angles, shapes and sections"
          ],
          [
           "Wire of iron or non-alloy steel"
          ],
          [
           "Stainless steel in ingots or other primary forms; semi-finished products of stainless steel"
          ],
          [
           "Stainless steel; flat-rolled products of width of 600mm or more"
          ],
          [
           "Stainless steel; flat-rolled products of width less than 600mm"
          ],
          [
           "Stainless steel bars and rods, angles, shapes and sections"
          ],
          [
           "Stainless steel wire"
          ],
          [
           "Alloy steel flat-rolled products, of a width of less than 600mm"
          ],
          [
           "Alloy steel bars, rods, shapes and sections; hollow drill bars and rods, of alloy or non-alloy steel"
          ],
          [
           "Wire of other alloy steel"
          ],
          [
           "Iron or steel sheet piling, whether or not drilled, punched or made from assembled elements; welded angles, shapes and sections, of iron or steel"
          ],
          [
           "Railway or tramway track constructions of iron or steel; rails, check and track rails, switch blades, crossing frogs, point rods, sleepers, fish-plates, chair wedges, sole plates, bedplates, ties and the like"
          ],
          [
           "Tubes, pipes and hollow profiles, seamless, of iron (other than cast iron) or steel"
          ],
          [
           "Iron or steel (excluding cast iron); tubes and pipes (e.g. welded, riveted or similarly closed), having circular cross-sections, external diameter of which exceeds 406.4mm, not seamless"
          ],
          [
           "Iron or steel (excluding cast iron); tubes, pipes and hollow profiles (not seamless), n.e.c. in chapter 73"
          ],
          [
           "Tube or pipe fittings (e.g. couplings, elbows, sleeves), of iron or steel"
          ],
          [
           "Structures of iron or steel and parts thereof; plates, rods, angles, shapes, sections, tubes and the like, prepared for use in structures"
          ],
          [
           "Reservoirs, tanks, vats and similar containers; for any material (excluding compressed or liquefied gas), of iron or steel, capacity exceeding 300l, whether or not lined or heat insulated"
          ],
          [
           "Tanks, casks, drums, cans, boxes and similar containers, for any material (excluding compressed or liquefied gas), of iron or steel, capacity not exceeding 300l, whether or not lined or heat-insulated"
          ],
          [
           "Containers for compressed or liquefied gas, of iron or steel"
          ],
          [
           "Stranded wire, ropes, cables, plaited bands, slings and the like, of iron or steel, not electrically insulated"
          ],
          [
           "Barbed wire of iron or steel; twisted hoop or single flat wire, barbed or not and loosely twisted double wire, of a kind used for fencing, of iron or steel"
          ],
          [
           "Cloth (including endless bands), grill, netting and fencing, of iron or steel wire; expanded metal of iron or steel"
          ],
          [
           "Chain and parts thereof, of iron or steel"
          ],
          [
           "Nails, tacks, drawing pins, corrugated nails, staples (not those of heading no. 8305) and the like, of iron or steel, with heads of other material or not, but excluding articles with heads of copper"
          ],
          [
           "Screws, bolts, nuts, coach screws, screw hooks, rivets, cotters, cotter-pins, washers (including spring washers) and similar articles, of iron or steel"
          ],
          [
           "Sewing and knitting needles, bodkins, crochet hooks, embroidery stilettos and similar articles, for use in the hand, of iron or steel; safety pins and other pins of iron or steel, not elsewhere specified or included"
          ],
          [
           "Springs and leaves for springs, of iron or steel"
          ],
          [
           "Stoves, ranges, grates, cookers (those with subsidiary boilers for central heating), barbecues, braziers, gas-rings, plate warmers and similar non-electric domestic appliances and parts, of iron or steel"
          ],
          [
           "Radiators for central heating, not electrically heated and parts thereof, of iron or steel; air heaters, hot air distributors not electrically heated, with motor fan or blower"
          ],
          [
           "Table, kitchen, other household articles and parts, of iron or steel; iron or steel wool; pot scourers and scouring or polishing pads, gloves and the like, of iron or steel"
          ],
          [
           "Sanitary ware and parts thereof, of iron or steel"
          ],
          [
           "Iron or steel; cast articles"
          ],
          [
           "Iron or steel; articles, n.e.c. in chapter 73"
          ],
          [
           "Copper; refined and copper alloys, unwrought"
          ],
          [
           "Copper; waste and scrap"
          ],
          [
           "Copper; bars, rods and profiles"
          ],
          [
           "Copper wire"
          ],
          [
           "Copper foil (whether or not printed or backed with paper, paperboard, plastics or similar backing materials) of a thickness (excluding any backing) not exceeding 0.15mm"
          ],
          [
           "Copper tubes and pipes"
          ],
          [
           "Copper; tube or pipe fittings (e.g. couplings, elbows, sleeves)"
          ],
          [
           "Copper; stranded wire, cables, plaited bands and the like, not electrically insulated"
          ],
          [
           "Copper, nails, tacks, drawing pins, staples (not those of heading no. 8305) and the like, of copper or iron or steel with heads of copper; screws bolts, nuts, screws hooks, rivets, cotters, washers"
          ],
          [
           "Copper; table, kitchen or other household articles and parts thereof; pot scourers, scouring, polishing pads, gloves and the like; sanitary ware and parts thereof"
          ],
          [
           "Copper; articles thereof n.e.c. in chapter 74"
          ],
          [
           "Nickel; unwrought"
          ],
          [
           "Nickel; waste and scrap"
          ],
          [
           "Nickel; tubes, pipes and tube or pipe fittings (e.g. couplings, elbows, sleeves)"
          ],
          [
           "Nickel; articles thereof n.e.c. in chapter 75"
          ],
          [
           "Aluminium; waste and scrap"
          ],
          [
           "Aluminium; bars, rods and profiles"
          ],
          [
           "Aluminium wire"
          ],
          [
           "Aluminium; plates, sheets and strip, thickness exceeding 0.2mm"
          ],
          [
           "Aluminium foil (whether or not printed or backed with paper, paperboard, plastics or similar backing materials) of a thickness (excluding any backing) not exceeding 0.2mm"
          ],
          [
           "Aluminium; tubes and pipes"
          ],
          [
           "Aluminium; tube or pipe fittings (e.g. couplings, elbows, sleeves)"
          ],
          [
           "Aluminium; structures (excluding prefabricated buildings of heading no. 9406) and parts (e.g. bridges and sections, towers, lattice masts, etc) plates, rods, profiles and tubes for structures"
          ],
          [
           "Aluminium casks, drums, cans, boxes etc (including rigid, collapsible tubular containers), for materials other than compressed, liquefied gas, 300l capacity or less, lined, heat-insulated or not"
          ],
          [
           "Aluminium; containers for compressed or liquefied gas"
          ],
          [
           "Aluminium; stranded wire, cables, plaited bands and the like, (not electrically insulated)"
          ],
          [
           "Aluminium; table, kitchen or other household articles and parts thereof, pot scourers and scouring or polishing pads, gloves and the like, sanitary ware and parts thereof"
          ],
          [
           "Aluminium; articles n.e.c. in chapter 76"
          ],
          [
           "Lead; unwrought"
          ],
          [
           "Lead; plates, sheets, strip and foil, lead powders and flakes"
          ],
          [
           "Lead; articles n.e.c. in chapter 78"
          ],
          [
           "Zinc; unwrought"
          ],
          [
           "Zinc; waste and scrap"
          ],
          [
           "Zinc; dust, powders and flakes"
          ],
          [
           "Zinc; bars, rods, profiles and wire"
          ],
          [
           "Tin; bars, rods, profiles and wire"
          ],
          [
           "Tungsten (wolfram); articles thereof, including waste and scrap"
          ],
          [
           "Magnesium; articles thereof, including waste and scrap"
          ],
          [
           "Titanium; articles thereof, including waste and scrap"
          ],
          [
           "Zirconium; articles thereof, including waste and scrap"
          ],
          [
           "Manganese; articles thereof, including waste and scrap"
          ],
          [
           "Tools, hand; spades, shovels, mattocks, picks, hoes, forks, rakes; axes, bill hooks etc; secateurs and pruners of any kind; scythes, sickles, hay knives, hedge shears, timber wedges and other tools used in agriculture, horticulture, forestry"
          ],
          [
           "Tools, hand; saws and blades for saws of all kinds (including slitting, slotting or toothless blades)"
          ],
          [
           "Tools, hand; files, rasps, pliers (including cutting pliers), pincers, tweezers, metal cutting shears, pipe cutters, bolt croppers, perforating punches and similar"
          ],
          [
           "Tools, hand; hand-operated spanners and wrenches (including torque meter wrenches but not including tap wrenches), interchangeable spanner sockets, with or without handles"
          ],
          [
           "Tools, hand; (including glaziers' diamonds) n.e.c.; blow lamps; vices, clamps etc, other than accessories for and parts of, machine tools; anvils; portable forges; hand or pedal operated grinding wheels with frameworks"
          ],
          [
           "Tools, hand; two or more of heading no. 8202 to 8205, put up in sets for retail sale"
          ],
          [
           "Tools, interchangeable; for hand tools, whether or not power-operated, or for machine tools (pressing, stamping, punching, drilling etc), including dies for drawing or extruding metal, and rock drilling or earth boring tools"
          ],
          [
           "Knives and cutting blades, for machines or for mechanical appliances"
          ],
          [
           "Tools; plates, sticks, tips and the like for tools, unmounted, of sintered metal carbides or cermets"
          ],
          [
           "Knives; with cutting blades, serrated or not (including pruning knives), other than knives of heading no. 8208, and blades therefore"
          ],
          [
           "Razors and razor blades; (including razor blade blanks in strips)"
          ],
          [
           "Scissors; tailors' shears and similar shears, and blades therefore"
          ],
          [
           "Cutlery; other articles, (e.g. hair clippers, butchers' or kitchen cleavers, choppers and mincing knives, paper knives), manicure or pedicure sets and instruments (including nail files)"
          ],
          [
           "Cutlery; spoons, forks, ladles, skimmers, cake-servers, fish-knives, butter knives, sugar tongs and similar kitchen or tableware"
          ],
          [
           "Padlocks and locks (key, combination, electrically operated) of base metal; clasps and frames with clasps incorporating locks, of base metal, keys for any or the foregoing articles, of base metal"
          ],
          [
           "Base metal mountings, fittings and similar articles for furniture, doors, staircases, windows, trunks, chests etc, castors with mountings of base metal, automatic door closers of base metal"
          ],
          [
           "Safes; armoured or reinforced, strong-boxes, doors and safe deposit lockers for strong-rooms, cash or deed boxes and the like, of base metal"
          ],
          [
           "Stationery; fittings for loose-leaf binders or files, letter clips, letter corners, paper clips, indexing tags and the like, staples in strips (for offices, upholstery, packaging), of base metal"
          ],
          [
           "Bells, gongs and the like; non-electric, statuettes, other ornaments, photograph, picture, similar frames, mirrors, of base metal"
          ],
          [
           "Tubing; flexible, with or without fittings, of base metal"
          ],
          [
           "Clasps; frames with clasps, buckles, hooks, eyes, eyelets etc used for clothing, footwear, awnings, handbags, travel goods or other articles, tubular, bifurcated rivets, beads, spangles, of base metal"
          ],
          [
           "Stoppers, caps, lids (including crown corks, screw caps, pouring stoppers); capsules for bottles, threaded bungs, bung covers, seals and other packaging accessories, of base metal"
          ],
          [
           "Sign plates, name plates, address plates and similar plates, numbers, letters and other symbols, of base metal, excluding those of heading no. 9405"
          ],
          [
           "Wires, rods, tubes, plates, electrodes of base metal or metal carbides; of a kind used for soldering, brazing, welding; wires and rods for metal spraying"
          ],
          [
           "Nuclear reactors; fuel elements (cartridges), non-irradiated, for nuclear reactors, machinery and apparatus for isotopic separation"
          ],
          [
           "Central heating boilers; excluding those of heading no. 8402"
          ],
          [
           "Generators for producer or water gas with or without their purifiers acetylene gas generators and similar water process gas generators, with or without their purifiers"
          ],
          [
           "Turbines; steam and other vapour turbines"
          ],
          [
           "Reciprocating or rotary internal combustion piston engines"
          ],
          [
           "Compression-ignition internal combustion piston engines (diesel or semi-diesel engines)"
          ],
          [
           "Parts suitable for use solely or principally with the engines of heading no. 8407 or 8408"
          ],
          [
           "Turbines; hydraulic water wheels and regulators therefor"
          ],
          [
           "Turbo-jets, turbo-propellers and other gas turbines"
          ],
          [
           "Engines and motors; n.e.c. (e.g. reaction engines, hydraulic power engines, pneumatic power engines)"
          ],
          [
           "Pumps; for liquids, whether or not fitted with measuring device, liquid elevators"
          ],
          [
           "Air or vacuum pumps, air or other gas compressors and fans; ventilating or recycling hoods incorporating a fan whether or not fitted with filters"
          ],
          [
           "Air conditioning machines; comprising a motor driven fan and elements for changing the temperature and humidity, including those machines in which the humidity cannot be separately regulated"
          ],
          [
           "Furnace burners for liquid fuel, for pulverised solid fuel or for gas; mechanical grates, mechanical ash dischargers and similar appliances"
          ],
          [
           "Furnaces and ovens; industrial or laboratory, including incinerators, non-electric"
          ],
          [
           "Refrigerators, freezers and other refrigerating or freezing equipment, electric or other; heat pumps other than air conditioning machines of heading no. 8415"
          ],
          [
           "Machinery, plant (not domestic), or laboratory equipment; electrically heated or not, (excluding items in 85.14) for the treatment of materials by a process involving change of temperature; including instantaneous or non electric storage water heaters"
          ],
          [
           "Machines; calendering or other rolling machines, for other than metal or glass and cylinders therefor"
          ],
          [
           "Centrifuges, including centrifugal dryers; filtering or purifying machinery and apparatus for liquids or gases"
          ],
          [
           "Dish washing machines; machinery for cleaning, drying, filling, closing, sealing, capsuling or labelling bottles, cans, boxes, bags, etc, machinery for aerating beverages"
          ],
          [
           "Weighing machines; excluding balances of a sensitivity of 5cg or better, including weight operated counting or checking machines and weights of all kinds"
          ],
          [
           "Mechanical appliances for projecting, dispersing or spraying liquids or powders; fire extinguishers, spray guns, steam, sand blasting machines"
          ],
          [
           "Pulley tackle and hoists other than skip hoists; winches and capstans; jacks"
          ],
          [
           "Derricks, cranes, including cable cranes, mobile lifting frames, straddle carriers and works trucks fitted with a crane"
          ],
          [
           "Fork-lift and other works trucks; fitted with lifting or handling equipment"
          ],
          [
           "Lifting, handling, loading or unloading machinery; n.e.c. in heading no. 8425, 8426 or 8427 (e.g. lifts, escalators, conveyors, teleferics)"
          ],
          [
           "Bulldozers, graders, levellers, scrapers, angledozers, mechanical shovels, excavators, shovel loaders, tamping machines and road rollers, self-propelled"
          ],
          [
           "Moving, grading, levelling, scraping, excavating, tamping, compacting, extracting or boring machinery, for earth, minerals, or ores; pile drivers and extractors; snow ploughs and snow blowers"
          ],
          [
           "Machinery parts; used solely or principally with the machinery of heading no. 8425 to 8430"
          ],
          [
           "Agricultural, horticultural or forestry machinery for soil preparation or cultivation; lawn or sports-ground rollers"
          ],
          [
           "Harvesting and threshing machinery, straw and fodder balers, grass or hay mowers; machines for cleaning, sorting or grading eggs, fruit or other agricultural produce, other than machinery of heading no 8437"
          ],
          [
           "Agricultural, horticultural, forestry, poultry-keeping, bee-keeping machinery; including germination plant fitted with mechanical or thermal equipment; poultry incubators and brooders"
          ],
          [
           "Machines for cleaning, sorting, grading seed, grain, dried leguminous vegetables; machinery used in the milling industry for the working of cereals or dried leguminous vegetables, not farm type machinery"
          ],
          [
           "Machinery n.e.c. in this chapter, for the industrial preparation or manufacture of food or drink; other than machinery for extraction or preparation of animal or fixed vegetable fats or oils"
          ],
          [
           "Machinery; for making pulp of fibrous cellulosic material, or for making or finishing paper or paperboard"
          ],
          [
           "Machines; for making up paper pulp, paper or paperboard, including cutting machines of all kinds"
          ],
          [
           "Machinery, apparatus and equipment (excluding machine-tools of heading no. 8456 to 8465) for preparing or making printing components; plates, cylinders and other printing components; lithographic stones prepared for printing purposes"
          ],
          [
           "Printing machinery; used for printing by means of plates, cylinders and other printing components of heading 84.42; other printers, copying machines and facsimile machines, whether or not combined; parts and accessories thereof"
          ],
          [
           "Textile machinery; for extruding, drawing, texturing or cutting man-made textile materials"
          ],
          [
           "Textile machinery; spinning, doubling, twisting machines, textile reeling or winding machines and machines for preparing textile yarns for use on machines of heading no. 8446 and 8447"
          ],
          [
           "Weaving machines (looms)"
          ],
          [
           "Knitting machines, stitch-bonding machines and machines for making gimped yarn, tulle, lace, embroidery, trimmings, braid or net and machines for tufting"
          ],
          [
           "Machinery, auxiliary; for use with machines of heading no. 8444 to 8447 (e.g. dobbies, jacquards, automatic stop motions, shuttle changing mechanisms) parts, accessories for machines of heading no. 8444, 8447"
          ],
          [
           "Household or laundry-type washing machines; including machines which both wash and dry"
          ],
          [
           "Machinery (not of heading no. 8450) for washing, cleaning, wringing, drying, ironing, pressing, bleaching, dyeing, dressing, finishing, coating or impregnating textile yarn, fabrics or made up articles"
          ],
          [
           "Sewing machines; other than book-sewing machines of heading no. 8440; furniture, bases and covers specially designed for sewing machines; sewing machine needles"
          ],
          [
           "Machinery for preparing, tanning or working hides, skins or leather or for making or repairing footwear or other articles of hides, skins or leather, other than sewing machines"
          ],
          [
           "Machine-tools; for working any material by removal of material, by laser or other light or photon beam, ultrasonic, electro-discharge, electro-chemical, electron beam, ionic-beam, or plasma arc processes; water-jet cutting machines"
          ],
          [
           "Lathes for removing metal"
          ],
          [
           "Machine-tools; (including way-type unit head machines) for drilling, boring, milling, threading or tapping by removing metal, other than lathes of heading no. 8458"
          ],
          [
           "Machine-tools; for deburring, sharpening, grinding, honing, lapping, polishing or otherwise finishing metal, sintered metal carbides or cermets by means of grinding stones, abrasives or polishing products"
          ],
          [
           "Machine-tools; for planing, shaping, slotting, broaching, gear cutting and grinding, finishing, sawing, cutting off and other tools working by removing metal, sintered metal carbides or cermets n.e.c."
          ],
          [
           "Machine-tools; (including presses) for working metal by forging, hammering or die-stamping, for bending, folding, straightening, flattening, shearing or punching metal"
          ],
          [
           "Machine-tools; n.e.c. for working metal, sintered metal carbides or cermets without removing material"
          ],
          [
           "Machine-tools; for working stone, ceramics, concrete, asbestos-cement or like mineral materials or for cold working glass"
          ],
          [
           "Machine-tools; (including machines for nailing, stapling, glueing or otherwise assembling) for working wood, cork, bone, hard plastics or rubber or similar hard materials"
          ],
          [
           "Machine-tools; parts and accessories suitable for use solely or principally with the machines of headings 8456 to 8465, and tool holders for any type of tool for working in the hand"
          ],
          [
           "Tools; for working in the hand, pneumatic, hydraulic or with self-contained electric or non-electric motor"
          ],
          [
           "Machinery and apparatus for soldering, brazing, welding, whether or not capable of cutting, other than those of heading no. 8515; gas-operated surface tempering machines and appliances"
          ],
          [
           "Calculating machines and pocket-size data recording, reproducing and displaying machines with calculating functions; accounting machines, postage-franking machines, ticket-issuing machines and similar, incorporating a calculating device; cash registers"
          ],
          [
           "Automatic data processing machines and units thereof, magnetic or optical readers, machines for transcribing data onto data media in coded form and machines for processing such data, not elsewhere specified or included"
          ],
          [
           "Office machines; not elsewhere classified"
          ],
          [
           "Machinery; parts and accessories (not covers, carrying cases and the like) suitable for use solely or principally with machines of heading no. 8469 to 8472"
          ],
          [
           "Machinery for sorting, screening, separating, washing, crushing, grinding, mixing or kneading earth, stone, ores in solid form, shaping, moulding machinery for solid mineral fuels"
          ],
          [
           "Machines; for assembling electric or electronic lamps, tubes, valves, flashbulbs, in glass envelopes, machines for manufacturing or hot working glass or glassware"
          ],
          [
           "Automatic goods-vending machines (e.g. postage stamp, cigarette, food or beverage machines), including money-changing machines"
          ],
          [
           "Machinery; for working rubber or plastics or for the manufacture of products from these materials, n.e.c. in this chapter"
          ],
          [
           "Machinery; for preparing or making up tobacco, n.e.c. in this chapter"
          ],
          [
           "Machinery and mechanical appliances; having individual functions, n.e.c. in this chapter"
          ],
          [
           "Moulding boxes for metal foundry, moulding patterns, moulds for metals (excluding ingot moulds), metal carbides, glass, mineral materials, rubber or plastics"
          ],
          [
           "Taps, cocks, valves and similar appliances for pipes, boiler shells, tanks, vats or the like, including pressure-reducing valves and thermostatically controlled valves"
          ],
          [
           "Ball or roller bearings"
          ],
          [
           "Transmission shafts (including cam and crank) and cranks; bearing housings and plain shaft bearings; gears and gearing; ball or roller screws; gear boxes and other speed changers; flywheels and pulleys; clutches and shaft couplings"
          ],
          [
           "Gaskets and similar joints of metal sheeting combined with other material or of two or more layers of metal; sets or assortments of gaskets and similar joints, dissimilar in composition, put up in pouches, envelopes or similar packings; mechanical seals"
          ],
          [
           "Machinery parts; not containing electrical connectors, insulators, coils, contacts or other electrical features, n.e.c. in this chapter"
          ],
          [
           "Electric motors and generators (excluding generating sets)"
          ],
          [
           "Electric generating sets and rotary converters"
          ],
          [
           "Electric motors and generators; parts suitable for use solely or principally with the machines of heading no. 8501 or 8502"
          ],
          [
           "Electric transformers, static converters (e.g. rectifiers) and inductors"
          ],
          [
           "Electro-magnets; permanent magnets, intended permanent magnets; electro-magnetic, permanent magnet chucks, clamps, similar; electromagnetic couplings, clutches, brakes; electro-magnetic lifting heads"
          ],
          [
           "Cells and batteries; primary"
          ],
          [
           "Electric accumulators, including separators therefor; whether or not rectangular (including square)"
          ],
          [
           "Vacuum cleaners"
          ],
          [
           "Electro-mechanical domestic appliances; with self-contained electric motor, other than vacuum cleaners of heading 85.08."
          ],
          [
           "Shavers, hair clippers and hair removing appliances, with self-contained electric motor"
          ],
          [
           "Ignition or starting equipment; used for spark-ignition or compression-ignition internal combustion engines; generators and cut outs used in conjunction with such engines"
          ],
          [
           "Lighting or visual signalling equipment (excluding articles of heading no. 8539), windscreen wipers, defrosters and demisters; electrical, of a kind used for cycles or motor vehicles"
          ],
          [
           "Lamps; portable, electric, designed to function by their own source of energy (e.g. dry batteries, accumulators, magnetos), excluding lighting equipment of heading no. 8512"
          ],
          [
           "Industrial or laboratory electric furnaces and ovens (including those functioning by induction or dielectric loss); other industrial or laboratory equipment for the heat treatment of materials by induction or dielectric loss"
          ],
          [
           "Electric (electrically heated gas) soldering, brazing, welding machines and apparatus, capable or not of cutting, electric machines and apparatus for hot spraying of metals or sintered carbides"
          ],
          [
           "Electric water, space, soil heaters; electro-thermic hair-dressing apparatus; hand dryers, irons; electro-thermic appliances for domestic purposes; electro heating resistors, not of heading no. 8545"
          ],
          [
           "Telephone sets, including telephones for cellular networks or for other wireless networks; other apparatus for the transmission or reception of voice, images or other data (including wired/wireless networks), excluding items of 8443, 8525, 8527, or 8528"
          ],
          [
           "Microphones and their stands; loudspeakers, mounted or not in their enclosures; headphones and earphones, combined or not with a microphone, and sets of a microphone and one or more loudspeakers; audio frequency and electric sound amplifiers and sets"
          ],
          [
           "Video recording or reproducing apparatus"
          ],
          [
           "Sound or video recording apparatus; parts and accessories suitable for use solely or principally with the apparatus of heading 8519 or 8521"
          ],
          [
           "Discs, tapes, solid-state non-volatile storage devices, smart cards and other media for the recording of sound or of other phenomena, whether or not recorded, including matrices and masters for the production of discs, excluding products of Chapter 37"
          ],
          [
           "Transmission apparatus for radio-broadcasting or television, whether or not incorporating reception apparatus or sound recording or reproducing apparatus; television cameras, digital cameras and video camera recorders"
          ],
          [
           "Radar apparatus, radio navigational aid apparatus and radio remote control apparatus"
          ],
          [
           "Reception apparatus for radio-broadcasting, whether or not combined, in the same housing, with sound recording or reproducing apparatus or a clock."
          ],
          [
           "Monitors and projectors, not incorporating television reception apparatus; reception apparatus for television, whether or not incorporating radio-broadcast receivers or sound or video recording or reproducing apparatus"
          ],
          [
           "Transmission apparatus; parts suitable for use solely or principally with the apparatus of heading no. 8525 to 8528"
          ],
          [
           "Signalling, safety or traffic control equipment; for railways, tramways, roads, inland waterways, parking facilities, port installations, airfields, excluding those of heading no. 8608"
          ],
          [
           "Signalling apparatus; electric sound or visual (e.g. bells, sirens, indicator panels, burglar or fire alarms), excluding those of heading no. 8512 or 8530"
          ],
          [
           "Electrical capacitors; fixed, variable or adjustable (pre-set)"
          ],
          [
           "Electrical resistors (including rheostats and potentiometers), excluding heating resistors"
          ],
          [
           "Electrical apparatus for switching, protecting electrical circuits, for making connections to or in electrical circuits; for a voltage exceeding 1000 volts"
          ],
          [
           "Electrical apparatus for switching, protecting electrical circuits, for making connections to or in electrical circuits, for a voltage not exceeding 1000 volts; connectors for optical fibres, optical fibre bundles or cables"
          ],
          [
           "Boards, panels, consoles, desks, cabinets, bases with apparatus of heading no. 8535, 8536 for electricity control and distribution, (other than switching apparatus of heading no. 8517)"
          ],
          [
           "Electrical apparatus; parts suitable for use solely or principally with the apparatus of heading no. 8535, 8536 and 8537"
          ],
          [
           "Lamps; electric filament or discharge lamps, including sealed beam lamp units and ultra-violet or infra-red lamps, arc-lamps"
          ],
          [
           "Thermionic, cold cathode or photo-cathode valves and tubes (e.g. vacuum, vapour, gas filled valves and tubes, mercury arc rectifying valves and tubes, cathode-ray and television camera tubes)"
          ],
          [
           "Diodes, transistors, similar semiconductor devices; including photovoltaic cells assembled or not in modules, panels, light emitting mounted piezo-electric crystals"
          ],
          [
           "Electronic integrated circuits"
          ],
          [
           "Electrical machines and apparatus; having individual functions, not specified or included elsewhere in this chapter"
          ],
          [
           "Insulated wire, cable and other electric conductors, connector fitted or not; optical fibre cables of individually sheathed fibres, whether or not assembled with electric conductors or fitted with connectors"
          ],
          [
           "Carbon electrodes, carbon brushes, lamp carbons, battery carbons and other articles of graphite or other carbon; with or without metal, of a kind used for electrical purposes"
          ],
          [
           "Electrical insulators of any material"
          ],
          [
           "Insulating fittings; for electrical machines, appliances, equipment, excluding insulators of heading no. 8546, electrical conduit tubing and joints therefore"
          ],
          [
           "Waste and scrap of primary cells, primary batteries and electric accumulators; spent primary cells, spent primary batteries and spent electric accumulators; electrical parts of machinery or apparatus, n.e.c. or included elsewhere in chapter 85"
          ],
          [
           "Rail locomotives; (other than those of heading no. 8601), locomotive tenders"
          ],
          [
           "Railway or tramway maintenance or service vehicles; whether or not self-propelled (e.g. workshops, cranes, ballast tampers, trackliners, testing coaches and track inspection vehicles)"
          ],
          [
           "Railway or tramway locomotives or rolling stock; parts thereof"
          ],
          [
           "Containers; (including containers for transport of fluids) specially designed and equipped for carriage by one or more modes of transport"
          ],
          [
           "Tractors; (other than tractors of heading no 8709)"
          ],
          [
           "Motor cars and other motor vehicles; principally designed for the transport of persons (other than those of heading no. 8702), including station wagons and racing cars"
          ],
          [
           "Vehicles; for the transport of goods"
          ],
          [
           "Special purpose motor vehicles; not those for the transport of persons or goods (e.g. breakdown lorries, road sweeper lorries, spraying lorries, mobile workshops, mobile radiological units etc)"
          ],
          [
           "Bodies; (including cabs) for the motor vehicles of heading no. 8701 to 8705"
          ],
          [
           "Motor vehicles; parts and accessories, of heading no. 8701 to 8705"
          ],
          [
           "Works trucks, self-propelled, (not fitted with lifting or handling equipment), for factories, warehouses etc, for short distance transport of goods, tractors used on railway station platforms; parts thereof"
          ],
          [
           "Bicycles and other cycles; including delivery tricycles, not motorised"
          ],
          [
           "Carriages for disabled persons; whether or not motorised or otherwise mechanically propelled"
          ],
          [
           "Vehicles; parts and accessories of heading no. 8711 to 8713"
          ],
          [
           "Trailers and semi-trailers; other vehicles, not mechanically propelled; parts thereof"
          ],
          [
           "Balloons and dirigibles; gliders, hang gliders and other non-powered aircraft."
          ],
          [
           "Aircraft n.e.c. in heading no. 8801 (e.g. helicopters, aeroplanes); spacecraft (including satellites) and suborbital and spacecraft launch vehicles"
          ],
          [
           "Aircraft; parts of heading no. 8801 or 8802"
          ],
          [
           "Yachts and other vessels; for pleasure or sports, rowing boats and canoes"
          ],
          [
           "Vessels; other, including warships and lifeboats, other than rowing boats"
          ],
          [
           "Boats, floating structures, other (for e.g. rafts, tanks, coffer-dams, landing stages, buoys and beacons)"
          ],
          [
           "Optical fibres and optical fibre bundles; optical fibre cables not of heading no. 8544; sheets, plates of polarising material; lenses, prisms, mirrors, of any material; unmounted; not non optical glass"
          ],
          [
           "Lenses, prisms, mirrors and other optical elements, of any material, mounted, being parts or fittings for instruments or apparatus, other than such elements of glass not optically worked"
          ],
          [
           "Frames and mountings; for spectacles, goggles or the like, and parts"
          ],
          [
           "Spectacles, goggles and the like; corrective, protective or other"
          ],
          [
           "Binoculars, monoculars, other optical telescopes, mountings therefore; other astronomical instruments, mountings therefore, but not including instruments for radio-astronomy"
          ],
          [
           "Cameras, photographic (excluding cinematographic); photographic flashlight apparatus and flashbulbs other than discharge lamps of heading no. 8539"
          ],
          [
           "Cinematographic cameras and projectors, whether or not incorporating sound recording or reproducing apparatus"
          ],
          [
           "Image projectors, other than cinematographic; photographic (other than cinematographic) enlargers and reducers"
          ],
          [
           "Photographic (including cinematographic) laboratory apparatus and equipment, n.e.c. in chapter 90; negatoscopes; projection screens"
          ],
          [
           "Microscopes, compound optical; including those for photomicrography, cinephotomicrography or microprojection"
          ],
          [
           "Liquid crystal devices not constituting articles provided for more specifically in other headings; lasers, not laser diodes; other optical appliances and instruments n.e.c. in this chapter"
          ],
          [
           "Navigational instruments and appliances; direction finding compasses"
          ],
          [
           "Surveying (including photogrammetrical surveying), hydrographic, oceanographic, hydrological, meteorological or geophysical instruments and appliances, excluding compasses, rangefinders"
          ],
          [
           "Balances; of a sensitivity of 5cg or better, with or without weights"
          ],
          [
           "Drawing, marking-out, mathematical calculating instruments (drafting machines, protractors, drawing sets etc); instruments for measuring length (e.g. measuring rods, tapes, micrometers, callipers) n.e.c."
          ],
          [
           "Instruments and appliances used in medical, surgical, dental or veterinary sciences, including scintigraphic apparatus, other electro-medical apparatus and sight testing instruments"
          ],
          [
           "Mechano-therapy, massage appliances; psychological aptitude testing apparatus; ozone, oxygen, aerosol therapy, artificial respiration or other therapeutic respiration apparatus"
          ],
          [
           "Breathing appliances and gas masks; excluding protective masks having neither mechanical parts nor replaceable filters and excluding apparatus of item no. 9019.20"
          ],
          [
           "Orthopaedic appliances; including crutches, surgical belts and trusses; splints and other fracture appliances; artificial parts of the body; hearing aids and other which are worn, carried or implanted in the body to compensate for a defect or disability"
          ],
          [
           "X-ray, alpha, beta, gamma radiation apparatus; x-ray tubes, x-ray generators, high tension generators, control panels and desks, screens, examination or treatment tables, chairs and the like"
          ],
          [
           "Instruments, apparatus and models, designed for demonstrational purposes (in education or exhibitions), unsuitable for other uses"
          ],
          [
           "Machines and appliances for testing the hardness, strength, compressibility, elasticity of other mechanical properties of materials (e.g. metals, wood, textiles, paper, plastics)"
          ],
          [
           "Hydrometers and similar floating instruments, thermometers, pyrometers, barometers, hygrometers and psychrometers, recording or not"
          ],
          [
           "Instruments, apparatus for measuring or checking the flow, level, pressure of liquids, gases (e.g. flow meters, heat meters etc), not instruments and apparatus of heading no. 9014, 9015, 9028 or 9032"
          ],
          [
           "Instruments and apparatus; for physical or chemical analysis (e.g. polarimeters, spectrometers), for measuring or checking viscosity, porosity, etc, for measuring quantities of heat, sound or light"
          ],
          [
           "Gas, liquid or electricity supply or production meters, including calibrating meters therefor"
          ],
          [
           "Revolution counter, production counters, taximeters, mileometers, pedometers and the like, speed indicators and tachometers, other than those of heading no. 9015, stroboscopes"
          ],
          [
           "Instruments, apparatus for measuring, checking electrical quantities not meters of heading no. 9028; instruments, apparatus for measuring or detecting alpha, beta, gamma, x-ray, cosmic and other radiations"
          ],
          [
           "Measuring or checking instruments, appliances and machines, n.e.c. or included in this chapter; profile projectors"
          ],
          [
           "Regulating or controlling instruments and apparatus; automatic type"
          ],
          [
           "Machines and appliances, instruments or apparatus of chapter 90; parts and accessories n.e.c. in chapter 90"
          ],
          [
           "Wrist-watches, pocket-watches, stop-watches and other watches; with case of precious metal or of metal clad with precious metal"
          ],
          [
           "Wrist-watches, pocket-watches, stop-watches and other watches, other than those of heading no. 9101"
          ],
          [
           "Clocks; with watch movements, excluding clocks of heading no. 9104"
          ],
          [
           "Instrument panel clocks and clocks of a similar type for vehicles, aircraft, spacecraft or vessels"
          ],
          [
           "Clocks, other, n.e.c."
          ],
          [
           "Time of day recording apparatus and apparatus for measuring, recording or otherwise indicating intervals of time, with clock, watch movement or synchronous motor"
          ],
          [
           "Time switches; with clock, watch movement or synchronous motor"
          ],
          [
           "Watch cases and parts thereof"
          ],
          [
           "Pianos; including automatic pianos, harpsichords and other keyboard stringed instruments"
          ],
          [
           "Musical instruments; string, n.e.c. in heading no. 9201, (e.g. guitars, violins, harps)"
          ],
          [
           "Musical instruments; wind (e.g. keyboard pipe organs, accordions, clarinets, trumpets, bagpipes), other than fairground organs and mechanical street organs"
          ],
          [
           "Musical instruments; percussion (e.g. drums, xylophones, cymbals, castanets, maracas)"
          ],
          [
           "Musical instruments; the sound of which is produced or must be amplified, electrically (e.g. organs, guitars, accordions)"
          ],
          [
           "Musical boxes, fairground and mechanical street organs, mechanical singing birds, musical saws and musical instruments n.e.c. in chapter 92; decoy calls of all kinds; whistles; call horns and other mouth-blown sound signalling instruments"
          ],
          [
           "Military weapons; other than revolvers, pistols and arms of heading no. 9307"
          ],
          [
           "Firearms; parts and accessories of articles of heading no. 9301 to 9304"
          ],
          [
           "Bombs, grenades, torpedoes, mines, missiles and similar munitions of war and parts thereof; cartridges and other ammunition, projectiles and parts thereof, including shot and cartridge wads"
          ],
          [
           "Seats (not those of heading no. 9402), whether or not convertible into beds and parts thereof"
          ],
          [
           "Furniture; medical, surgical, dental or veterinary (e.g. operating tables, hospital beds, dentists' chairs) barbers' chairs; parts"
          ],
          [
           "Furniture and parts thereof, n.e.c. in chapter 94"
          ],
          [
           "Mattress supports; articles of bedding (e.g. mattresses, quilts, eiderdowns, cushions pouffes and pillows), fitted with springs or stuffed, whether or not covered"
          ],
          [
           "Lamps, light fittings; including searchlights, spotlights and parts thereof, n.e.c.; illuminated signs, name-plates and the like, having permanently fixed light source and parts thereof n.e.c. or included"
          ],
          [
           "Buildings; prefabricated"
          ],
          [
           "Tricycles, scooters, pedal cars and similar wheeled toys; dolls' carriages; dolls; other toys; reduced-size (scale) models and similar recreational models, working or not; puzzles of all kinds"
          ],
          [
           "Video game consoles and machines, articles for funfair, table or parlour games, including pintables, billiards, special tables for casino games and automatic bowling alley equipment"
          ],
          [
           "Festive, carnival or other entertainment articles, including conjuring tricks and novelty jokes"
          ],
          [
           "Gymnastics, athletics, other sports (including table tennis) or outdoor games equipment, n.e.c. in this chapter, swimming pools and paddling pools"
          ],
          [
           "Fishing rods, fish-hooks and other line fishing tackle; fish landing nets and the like; decoy birds (not those of heading no. 9208 or 9705) and similar hunting or shooting requisites"
          ],
          [
           "Roundabouts, swings, shooting galleries, other fairground amusements, travelling circuses, travelling menageries and travelling theatres"
          ],
          [
           "Ivory, bone, tortoise-shell, horn, antlers, coral, mother-of-pearl and other animal carving material and articles of these materials; worked, (including articles obtained by moulding)"
          ],
          [
           "Vegetable, mineral carving material and articles of these materials, moulded or carved articles of wax, stearin, natural gums, resins or modelling pastes, worked unhardened gelatin (not heading no. 3503)"
          ],
          [
           "Brooms, brushes (including parts of machines), hand operated floor sweepers, mops and feather dusters; knots and tufts for broom or brush making; paint pads and rollers; squeegees"
          ],
          [
           "Travel sets; for personal toilet, sewing, shoe or clothes cleaning"
          ],
          [
           "Buttons, press-fasteners, snap-fasteners and press-studs, button moulds and other parts of these articles; button blanks"
          ],
          [
           "Slide fasteners and parts thereof"
          ],
          [
           "Pens; ball-point, felt tipped, other porous tipped pens; fountain pens, stylograph pens duplicating stylos, propelling or sliding pencils; parts of the foregoing, excluding those of heading no. 9609"
          ],
          [
           "Pencils (not of heading no. 9608), crayons, pencil leads, pastels, drawing charcoals, writing or drawing chalks and tailors' chalks"
          ],
          [
           "Slates and boards, with writing or drawing surfaces, whether or not framed"
          ],
          [
           "Stamps; date, numbering, sealing stamps and the like (including devices for printing or embossing labels), designed for operating by hand; hand operated composing sticks and printing sets"
          ],
          [
           "Typewriter, similar ribbons, inked, otherwise prepared for giving impressions, whether or not on spools or in cartridges; ink pads, whether or not inked, with or without boxes"
          ],
          [
           "Cigarette lighters and other lighters, whether or not mechanical or electrical and parts thereof other than flints and wicks"
          ],
          [
           "Smoking pipes (including pipe bowls) and cigar or cigarette holders, and parts thereof"
          ],
          [
           "Combs, hair-slides and similar; hairpins, curling pins, curling grips and hair curlers and the like, other than those of heading no. 8516 and parts thereof"
          ],
          [
           "Scent sprays and similar toilet sprays and mounts and heads therefor; powder-puffs and pads for the application of cosmetics or toilet preparations"
          ],
          [
           "Vacuum flasks and other vacuum vessels, complete with cases; parts thereof other than glass inners"
          ],
          [
           "Tailors' dummies and other lay figures; automata and other animated displays used for shop window dressing"
          ],
          [
           "Sanitary towels (pads) and tampons, napkins and napkin liners for babies and similar articles, of any material"
          ],
          [
           "Paintings, drawings, pastels, executed entirely by hand; not drawings of heading no. 4906 and not hand-painted, hand-decorated manufactured articles; collages and similar decorative plaques"
          ],
          [
           "Sculptures and statuary; original, in any material"
          ],
          [
           "Collections and collectors' pieces; of zoological, botanical, mineralogical, anatomical, historical, archaeological, palaeontological, ethnographic or numismatic interest"
          ]
         ],
         "hovertemplate": "Netweight (kg)=%{x}<br>usd_per_ton=%{y}<br>Commodity=%{customdata[0]}<extra></extra>",
         "legendgroup": "",
         "marker": {
          "color": "#636efa",
          "symbol": "circle"
         },
         "mode": "markers",
         "name": "",
         "showlegend": false,
         "type": "scattergl",
         "x": [
          55965,
          220792,
          25602,
          165170,
          263443,
          2891,
          110,
          51513,
          561756,
          5224,
          2154804,
          997829,
          78815,
          15795157,
          46918610,
          1428291,
          94642,
          28824,
          1893479,
          2223106,
          45665,
          33601,
          32284,
          2599677,
          267231,
          29625,
          471753,
          101,
          28552507,
          2220568,
          2655741,
          1128,
          139567,
          12069865,
          126,
          34250,
          504208,
          223450,
          3041585,
          27437137,
          1017349,
          151760,
          1065969,
          500,
          10845,
          13603349,
          9149956,
          7397642,
          49766280,
          2949081,
          2551339,
          51949,
          702457,
          52,
          484524,
          46504,
          22002,
          153152,
          877516,
          46189,
          10450,
          1584878,
          80906,
          936338479,
          25088920,
          26452634,
          76573072,
          94974,
          1096389,
          3217116,
          520674,
          5746301,
          12177552,
          12600,
          8648,
          18380957,
          12417367,
          737682,
          12664,
          2614707,
          1020460,
          500,
          810800,
          916527,
          1522338,
          83637,
          352203,
          31571,
          671852,
          113046,
          674087,
          689676,
          203429,
          1470924,
          7821,
          27170,
          102674992,
          1099255,
          144216,
          70618,
          22769437,
          1288714,
          1205862,
          504306,
          365351,
          205887,
          158058,
          127152,
          195408,
          7687,
          880553,
          260,
          50833,
          63907,
          47342170,
          13871752,
          6585390,
          10394381,
          30000,
          14022,
          27,
          23684,
          5546261,
          6760972,
          4654546,
          80630,
          3757286,
          13167619,
          87169,
          5748010,
          359534,
          8449256,
          559583,
          4660,
          5575194,
          6078483,
          1260914,
          1690487,
          6938688,
          2703320,
          134521,
          121070,
          11712901,
          95962,
          3223850,
          2550864,
          5744748,
          450,
          115603,
          3805440,
          1595428,
          155812,
          26546732,
          39151114,
          3518944,
          918262086,
          1311309,
          211538,
          145138768,
          900,
          91524,
          2962949,
          42806,
          6497362,
          107801,
          1267824,
          158769,
          6612241,
          16502534,
          9024109,
          1096706,
          1405009,
          458480,
          41608,
          680125,
          198700,
          1036880,
          2596038,
          6811200,
          4408852,
          170554057,
          18202,
          98540,
          16257769,
          3084512,
          10696,
          6829679,
          961002,
          8676336,
          9146245,
          17,
          11860739,
          50,
          60000,
          15851,
          1070820,
          81,
          1026,
          12804530,
          4648328,
          947809,
          3949,
          1859547552,
          27800,
          48223,
          2992254415,
          840443779,
          8414097,
          218971033,
          425535,
          112330,
          977730,
          225947,
          7230951,
          847977,
          8465,
          1712842,
          8135679,
          4528830,
          3059299,
          933944,
          3137416,
          9033,
          3000,
          546415,
          19262928,
          21051,
          357741,
          2421582,
          35207,
          160833,
          1115225,
          3402,
          491338,
          20772,
          1868137,
          216025,
          5580288,
          3412094,
          144920,
          436237,
          309513,
          10127309,
          61447445,
          10554260,
          29966477,
          54809831,
          3380481,
          4003214,
          1389655,
          161794,
          2473173,
          2291,
          17122,
          0,
          253,
          7301771,
          1472666,
          24705,
          28,
          45663,
          145683,
          9774480,
          2498762,
          856536,
          19332137,
          137406,
          313592,
          298,
          2957823,
          5625,
          2,
          700875,
          8707,
          1686793,
          20622314,
          3424992,
          12723921,
          5458669,
          38904,
          38940,
          2000657,
          10883774,
          10374059,
          789749,
          491402,
          311375,
          32266,
          24333,
          6428691,
          5744881,
          2232292,
          270531,
          2566444,
          353952,
          111496,
          1510482,
          714,
          33454,
          11731,
          270999,
          649725,
          8970,
          492,
          1004566,
          72133,
          26760446,
          773171,
          399411,
          289452,
          457076104,
          2379107,
          159982995,
          124582974,
          258566,
          475494,
          780101,
          4714508,
          35596,
          11112321,
          6284112,
          3963155,
          2831016,
          715273,
          308054,
          431020,
          382579,
          5377381,
          2829434,
          102419,
          2796342,
          289978,
          5247543,
          13063914,
          6407961,
          5889047,
          8187250,
          54092907,
          2824647,
          220667,
          1490561,
          114046,
          782629,
          24257,
          52852,
          194044,
          6073917,
          3666734,
          6443735,
          962215,
          62200,
          1654941,
          237959,
          671719,
          140938,
          2284,
          1098224,
          64245,
          160017,
          763,
          106,
          282002,
          37309,
          9982920,
          997503,
          31137,
          360021,
          43,
          42479657,
          24216997,
          422913,
          7705214,
          9328714,
          379186,
          373866,
          1294838,
          6023149,
          11482859,
          2156,
          823171,
          1645527,
          60714,
          1013301,
          564755,
          25460389,
          3006,
          8,
          151865963,
          91958537,
          18139276,
          75878141,
          4343781,
          12964501,
          67239678,
          1574771,
          5030787,
          2107346,
          2408936,
          2886108,
          1052474,
          147597,
          1377522,
          1181771,
          4096333,
          7930645,
          8593075,
          23720174,
          7707759,
          550679,
          14674945,
          4216810,
          3054708,
          6798951,
          5416673,
          8328156,
          1059761,
          276782,
          986311,
          145063,
          370002,
          545701,
          1426707,
          1001728,
          37433598,
          4378286,
          1658830,
          229179,
          2231899,
          2333045,
          103949,
          67194,
          2527,
          275,
          1065,
          53401,
          1373086,
          55407,
          3820540,
          126020,
          35680,
          19,
          5515,
          24,
          493,
          260,
          1286,
          126400,
          1785300,
          1199226,
          176125,
          12323016,
          34945550,
          616127,
          203687,
          22624,
          714352,
          25220,
          5017,
          1497455,
          100240,
          199184,
          704451,
          4910,
          923,
          66233,
          902,
          19522,
          164220,
          1530,
          18353764,
          325997,
          65198813,
          19363687,
          77060808,
          20420553,
          18097005,
          16678414,
          271259,
          1474965,
          384340,
          5142823,
          53627175,
          20430266,
          6887,
          95628,
          48255,
          311657,
          53104,
          4764822,
          6213289,
          540008,
          402751,
          323109,
          4900657,
          2882253,
          52359,
          24249,
          36,
          7008,
          1287,
          2503,
          113182,
          26300,
          73271,
          277033,
          597,
          32186,
          84703,
          55588,
          3399,
          2268,
          2055,
          1,
          1236,
          12310,
          427,
          10930795,
          176310,
          107374,
          102252,
          1436054,
          798979,
          38562,
          669178,
          3855448,
          434244,
          2431876,
          2085,
          198,
          38,
          17005,
          4736,
          4500,
          331465,
          10420236,
          13574,
          205738,
          991,
          11637,
          10857168,
          11667,
          3713207,
          83785,
          10805774,
          14389,
          79,
          736546,
          23133,
          692940,
          5280251,
          204501,
          20315,
          386449,
          1802124,
          1256295,
          1708513,
          480279,
          114335,
          920507,
          8955897,
          81757,
          7880,
          352505,
          1460452,
          2113954,
          33577,
          13797,
          186247,
          229324,
          38941,
          214059,
          295692,
          329468,
          10459,
          161018,
          98,
          522929,
          25059,
          89676,
          226,
          58495,
          195123,
          31932,
          1014783,
          3227928,
          33188,
          567,
          187881,
          59968,
          5337,
          57128,
          25003,
          171271,
          1981283,
          50911,
          19976,
          2502529,
          2538932,
          5527875,
          30629,
          22888,
          87230,
          395564,
          124834,
          206160,
          44330,
          217502,
          439610,
          217717,
          85066,
          25336,
          40224,
          355728,
          56870,
          44864,
          78719,
          106386,
          423039,
          783255,
          310323,
          630085,
          36526,
          253659,
          52614,
          45839,
          167210,
          590866,
          3363,
          31337,
          19614,
          13606,
          20012,
          48853,
          325443,
          96486,
          10840,
          1480018,
          93208,
          450904,
          703,
          167223,
          1897276,
          669721,
          1349587,
          118222,
          1680209,
          5447,
          462,
          81532,
          432506,
          436599,
          22593,
          716717,
          7187,
          12826,
          5208,
          407894,
          10623,
          135073,
          600,
          30832435,
          1005223,
          1316675,
          1175284,
          2376972,
          353523,
          2122224,
          52676070,
          846924,
          13996322,
          118195,
          1779168,
          13095,
          1815795,
          9281,
          3148527,
          876423,
          17062,
          135313,
          33952197,
          71252202,
          143544,
          1723777,
          3828752,
          1818312,
          405777,
          135383,
          322811,
          90679,
          2628834,
          3610,
          74739186,
          580146,
          3271215,
          16039,
          2268173,
          7944581,
          311,
          8487184,
          491,
          14122,
          2151253,
          171438,
          623248,
          3770323,
          712821,
          749,
          1,
          1623,
          24915,
          13,
          9502,
          33,
          203,
          0,
          3342,
          397,
          889,
          1393,
          530268,
          184,
          8878935,
          6147908,
          154017998,
          354912,
          89714,
          32265347,
          305354879,
          35820794,
          167127084,
          703987,
          2850064,
          65042252,
          4795664,
          867945,
          7575593,
          4964378,
          231189,
          11622318,
          1054647,
          1084882,
          166133,
          75768,
          25952676,
          2501966,
          106618528,
          16331361,
          994599,
          21405,
          2000430,
          3079221,
          64035323,
          4459921,
          2782481,
          4845408,
          25736790,
          231752,
          2375101,
          1218458,
          4819631,
          5944,
          1691607,
          1681921,
          10197,
          1499602,
          10159065,
          43187,
          974592,
          530161,
          32189,
          3416357,
          847635,
          458221,
          8230507,
          3681,
          3311313,
          11549,
          1,
          6223,
          1371843,
          5965617,
          269490,
          67183,
          1254270,
          394196,
          472019,
          200866,
          29189,
          150343,
          17634,
          187,
          1315,
          101,
          49545,
          14456,
          7256882,
          4470356,
          7036,
          1984607,
          5878459,
          5410925,
          2365432,
          581845,
          81575,
          574879,
          14031,
          784629,
          271735,
          4522079,
          3281484,
          1415208,
          1675793,
          48485,
          91956,
          5087410,
          21048,
          33615,
          5284,
          216438,
          10758,
          29595,
          13419,
          4800,
          1209,
          199176,
          1182,
          394,
          33,
          3541,
          259,
          32,
          1192,
          144,
          1198732,
          660979,
          592282,
          844380,
          1424573,
          89580,
          895452,
          384041,
          18104,
          95276,
          448829,
          8347617,
          206794,
          335498,
          773106,
          3131730,
          6065348,
          171049,
          8933,
          1380432,
          317739,
          589946,
          404977,
          2468892,
          80479,
          5997823,
          935,
          320953,
          6492,
          9592,
          15049,
          13297,
          931364,
          2198882,
          3116924,
          680967,
          40991,
          318292,
          6036087,
          15715495,
          8968974,
          315869,
          484172,
          14836947,
          3027940,
          146555,
          9087919,
          1332065,
          919369,
          4163012,
          1809496,
          1561177,
          3300213,
          3955500,
          6591524,
          338868,
          4492576,
          1078580,
          1986902,
          135133,
          20830,
          2651109,
          1013670,
          2328453,
          344626,
          67697,
          991924,
          83638,
          3974095,
          29994,
          143364,
          52449,
          184204,
          109012,
          51328,
          8034252,
          1270816,
          1067413,
          160752,
          937991,
          2640159,
          216206,
          118084,
          455318,
          335452,
          246703,
          121072,
          1421125,
          299705,
          134291,
          597978,
          351995,
          2057063,
          67078,
          97,
          181161,
          2703340,
          662501,
          707014,
          3733063,
          319926,
          30957,
          3540531,
          1354,
          7051878,
          1413835,
          4577589,
          1895767,
          2424392,
          713916,
          1766,
          504339,
          9530795,
          3795031,
          641142,
          7985303,
          253568,
          1063479,
          6437330,
          287700,
          2092601,
          75170,
          1359752,
          2024628,
          427452,
          2339367,
          1324541,
          10315562,
          2732336,
          4246285,
          37222,
          264731,
          15145,
          827575,
          210558,
          127150,
          1109681,
          5475013,
          2268900,
          33326,
          346805,
          288065,
          158712,
          31913,
          2375754,
          4961258,
          658745,
          1103240,
          2185467,
          5297,
          607256,
          209979,
          1985098,
          25015955,
          1223568,
          4170775,
          1276499,
          146,
          127352,
          89565,
          11000,
          54550,
          16581,
          5715518,
          4255569,
          6960601,
          50832440,
          21954825,
          685487,
          6528249,
          952818,
          29166428,
          68905,
          6752234,
          1724647,
          321676,
          5256755,
          791439,
          2295054,
          1921,
          54427,
          11069,
          1088,
          81,
          2724891,
          3796260,
          70534,
          343698,
          134013,
          46799,
          48667,
          10839000,
          238110,
          7237,
          162215,
          415274,
          13189,
          9204,
          6892,
          17608,
          51550,
          13093,
          2911,
          27933,
          28971,
          95818,
          54231,
          683261,
          4013800,
          723497,
          132331,
          254986,
          213910,
          26475,
          40192,
          165215,
          523684,
          405971,
          590247,
          91654,
          139436,
          392373,
          658658,
          67095,
          23475,
          261293,
          5898,
          3903,
          246033,
          33752,
          63156,
          282,
          12,
          55,
          1186,
          56,
          4227,
          2199,
          17498,
          50040,
          59702,
          43185,
          73224,
          15735,
          110103,
          98,
          2324,
          164,
          74,
          13641,
          461,
          5071502,
          953952,
          6622491,
          351131,
          5021185,
          4821218,
          7511157,
          983610,
          1638076,
          4026404,
          50392,
          303867,
          122835,
          2598499,
          24536,
          11372,
          166877,
          751065,
          1740212,
          800527,
          44747,
          44611,
          120668,
          76929,
          4515,
          671557,
          230377,
          216497,
          65061,
          7029199,
          43814,
          3084,
          502,
          116,
          473,
          5550,
          4350,
          136360,
          13546,
          221127,
          6521199,
          49645918,
          12261733,
          1894111,
          370984809,
          5622281,
          445135,
          267875,
          393513,
          2858,
          2453,
          109880,
          158,
          219203,
          18182,
          2525887,
          53438,
          239596,
          143182968,
          503857,
          338956,
          477439,
          110,
          189,
          315682,
          47111,
          2137736,
          68978877,
          5,
          264563,
          6044949,
          20029030,
          9222,
          6176269156,
          137384885,
          659052,
          158742,
          3182931,
          25016,
          1762186,
          19093564,
          1367647,
          180226,
          99,
          5289230,
          697418,
          80331,
          2499203,
          334,
          2358,
          1153,
          8251,
          980186,
          36000,
          41066,
          158604,
          210287,
          1787629,
          176909,
          38059,
          39958,
          268369,
          1053,
          901984,
          1710888,
          150,
          28022,
          75,
          424985,
          32436,
          2522,
          656548,
          740015,
          8257,
          619,
          75995,
          4464909,
          441602,
          14446999,
          46,
          3591,
          1670,
          312803080,
          13200,
          22565398,
          69,
          144405,
          21058548,
          3101695,
          78719,
          621210,
          144,
          23,
          247532172,
          2841795,
          107585196,
          21378,
          62000,
          8865219,
          227213683,
          339808,
          12415055,
          6320240,
          4944987,
          1784247,
          471373,
          769084,
          14766,
          57957,
          2703077,
          115,
          22444,
          250,
          179838,
          9341457,
          2232,
          79561967,
          66930886,
          12947654,
          19416493,
          3000,
          903243,
          54357,
          41157,
          1267897,
          1130493,
          3016461,
          38949,
          13038,
          16782,
          15766116,
          98539,
          162,
          113743963,
          801,
          78640,
          9000,
          3940,
          5970,
          38172489,
          4822684,
          45649,
          3754333,
          280000,
          8,
          111071,
          3340,
          130000,
          110540,
          1348,
          1099270,
          8401109,
          309,
          180,
          11619,
          1,
          10,
          123775292,
          15,
          120,
          3655000,
          8072498,
          4,
          3000,
          26490116,
          45182,
          414432,
          264356,
          8656,
          60831726,
          301,
          20218096183,
          1799279206,
          1018,
          62183,
          21610,
          35297,
          285532,
          2,
          2000,
          353138,
          2,
          1500,
          12163,
          60967,
          2566210,
          27000,
          7,
          4,
          9,
          47000,
          1743,
          25,
          5015,
          25,
          6,
          813583,
          10,
          1664386,
          6432,
          16523,
          50391,
          20,
          10821,
          690,
          0,
          205,
          7961,
          1271,
          4740,
          462,
          3657,
          157,
          30414,
          433,
          9197,
          16826,
          22855,
          465606,
          121805,
          9704,
          64401,
          29216,
          1668,
          319,
          414,
          5327,
          120,
          720,
          198021,
          173,
          1000,
          422,
          1116,
          347,
          4,
          23798,
          2804,
          912017,
          55766,
          1516,
          303226,
          134187,
          19058,
          9452,
          866317,
          8000,
          41472,
          23250,
          600,
          9684,
          206435,
          683379,
          836123,
          10458,
          1255,
          268,
          427182,
          65375,
          6323,
          46294,
          39154,
          83009,
          119930,
          58135,
          159376,
          3429642,
          8855718,
          18541,
          20495,
          2205,
          21478,
          881153,
          62,
          33,
          728572,
          2089,
          3,
          162354,
          59,
          3771,
          71,
          65,
          3,
          36096,
          3200,
          1388,
          967081,
          40481,
          12,
          35339,
          26516,
          843,
          15788,
          65,
          19950,
          2987,
          1672,
          4,
          414,
          9282822,
          995380,
          16259445,
          1538244,
          3816776,
          258522,
          2208051,
          45975,
          218215,
          19642265,
          3281,
          5239,
          2283,
          6173,
          91330,
          35825,
          10400,
          17624070,
          325350,
          112700,
          86082,
          235934,
          14655106,
          2347490,
          748747,
          12440519,
          1511310,
          700142,
          1972126,
          850635,
          6071,
          184910,
          6303,
          17,
          544,
          11889,
          3905,
          11908399,
          16102,
          13,
          45126,
          230125,
          1694678,
          3107,
          333195,
          26999,
          174,
          105001,
          8073,
          2224,
          39,
          164,
          118938280,
          60000,
          370283150,
          33218808,
          103872,
          240750,
          156431790,
          15500352,
          40192663,
          604930,
          350,
          30897,
          16414,
          185,
          288385,
          714,
          24348,
          8023650,
          1,
          4658,
          77053,
          8819510,
          88,
          53889,
          1353650,
          948440,
          43569932,
          1461,
          9566,
          1717820,
          369,
          56099,
          132509,
          659,
          352,
          7418,
          1002365,
          9237106,
          1316556,
          20191,
          3,
          173880,
          834483,
          5403,
          914,
          307,
          2669,
          11,
          4129,
          852,
          2081,
          628291,
          3911,
          9393,
          371,
          19,
          806,
          15790,
          296925,
          1,
          42321,
          550,
          16524,
          737743,
          4233337,
          11710756,
          816,
          74077,
          372515,
          28828,
          2006,
          3498140,
          4076,
          2250,
          46713,
          856,
          481408,
          174,
          3763,
          706,
          178804,
          1955,
          16907,
          5,
          21,
          24145,
          330474,
          2591,
          1513,
          326988,
          1181096,
          9627,
          306,
          282,
          3878,
          538,
          11272,
          2994,
          463,
          211059,
          86,
          10,
          215,
          159484,
          597,
          5227,
          40,
          27312,
          720,
          2783,
          13639,
          279504,
          24802,
          46634,
          6315,
          45023,
          3353,
          7738,
          6937,
          1494,
          44203,
          140907,
          2191,
          849,
          3766,
          478773,
          9957,
          33257,
          92658,
          100879,
          32949,
          25284,
          12576,
          1686,
          1335,
          219,
          4790,
          3370,
          4291,
          66478,
          65,
          496,
          2760,
          86243,
          85290,
          370,
          753,
          6322862,
          74157,
          276325,
          31,
          255,
          162690,
          3950330,
          59976,
          150568,
          1139,
          1007301,
          71825,
          51443,
          60700,
          49833,
          6975,
          33,
          124,
          1777,
          8843,
          1,
          17,
          3568870,
          105139,
          15497,
          1098,
          777882,
          134001,
          310,
          431945,
          33,
          112,
          0,
          68,
          17,
          119324,
          18155518,
          33,
          13863708,
          101898,
          124504,
          19349,
          10333,
          303,
          10,
          13,
          3815,
          1370191,
          5357,
          18161093,
          17731,
          54,
          104,
          6558,
          57596,
          529,
          702,
          7540,
          1,
          46605619,
          49,
          9,
          14061,
          698,
          1,
          207,
          1992888,
          44,
          502109,
          697383,
          323,
          365830,
          776413,
          89330,
          29659,
          5143579,
          6320273,
          213,
          81522,
          3830,
          113498,
          99,
          100,
          8740,
          12130,
          1558,
          77,
          871967,
          3520,
          25530724,
          55429,
          4864409,
          618003,
          1528059,
          25646,
          63598,
          1308415,
          2174936,
          21859,
          489232,
          407781,
          40,
          50393,
          17044920,
          56,
          97651,
          4515,
          370094,
          2589745,
          1573559,
          6692385,
          798,
          27184,
          2,
          2,
          3694,
          26915,
          2469,
          2999,
          32,
          3419,
          2160,
          63,
          17,
          8302264,
          5294017,
          16819,
          216,
          4418,
          1724337,
          12,
          44473,
          34217,
          872,
          161461,
          436607,
          5621,
          18724763,
          26251,
          301,
          41871,
          39202,
          713914,
          100,
          1,
          22,
          10177,
          40,
          150,
          10358,
          58585,
          9354,
          18188,
          13603,
          11194,
          6921,
          39677,
          1288,
          123,
          5066,
          1267,
          9002,
          1254,
          150,
          47940,
          67117,
          270458,
          98,
          1622,
          1602,
          20,
          1216930,
          126,
          111944,
          240,
          13,
          9,
          22270,
          8108,
          8217,
          79560,
          1217,
          3859,
          67415,
          506578,
          122036,
          7039,
          1241,
          4008,
          1565974,
          71312,
          12800,
          105437,
          36720,
          1508,
          10787,
          33325,
          78988,
          85989,
          20585,
          662629,
          3702660,
          1723073,
          27941,
          24597,
          671,
          127678,
          31957,
          26968,
          746021,
          57,
          93486,
          18000,
          280433,
          407692,
          5133,
          200,
          56995,
          6000,
          6033,
          135650,
          1967,
          27,
          1060,
          304,
          937,
          20680,
          2626,
          251,
          22007,
          13525,
          104048,
          248,
          83,
          17010,
          2225,
          6981,
          373785,
          779,
          8,
          391150,
          255,
          145241,
          69217,
          600601,
          52198,
          148442,
          3189,
          3878,
          94346,
          95593,
          17944,
          904123,
          3861,
          1440,
          5295420,
          88,
          824,
          320,
          112021,
          2289,
          233,
          401,
          14967,
          36383,
          47460,
          1292,
          17,
          65,
          7082,
          449,
          192966,
          1673,
          1582,
          25655,
          171,
          6601,
          132,
          392,
          578,
          21601,
          27170,
          8300,
          6854,
          17,
          1533,
          30047,
          59446,
          5257640,
          72,
          189,
          224,
          142327,
          5200,
          218,
          471,
          706089,
          57835,
          57743,
          1851580,
          93001,
          4168,
          257014,
          1001,
          356,
          142,
          60,
          11029,
          304,
          39500,
          103026,
          18020,
          39,
          2592,
          43,
          366,
          162,
          4806,
          844,
          970,
          824,
          12,
          4,
          5,
          165,
          2705,
          43311,
          549,
          3970,
          15315,
          36,
          58,
          682,
          10296,
          16251,
          2367,
          17289,
          14437,
          7656,
          496,
          186,
          20201,
          14168,
          2143,
          3897,
          1894,
          4686,
          11,
          14,
          1188,
          688,
          277,
          21,
          304,
          475,
          3344,
          10413,
          1555,
          31,
          3,
          20,
          0,
          305406,
          846,
          826298,
          202146,
          22736,
          622977,
          41448,
          5641,
          60845,
          3898,
          50,
          30367,
          167,
          23425,
          7894,
          99,
          909683,
          17,
          563756,
          5552,
          54,
          6,
          131,
          28,
          170,
          12519,
          540,
          254,
          361,
          4326229,
          602,
          866,
          27094
         ],
         "xaxis": "x",
         "y": [
          19494.058786741713,
          10579.006485742237,
          23561.24521521756,
          17727.83193073803,
          72265.59065907996,
          73837.42649602213,
          11327.272727272728,
          7457.282627686215,
          1847.4569029970307,
          15168.261868300153,
          1246.108230725393,
          1213.626783747516,
          4927.2473513925015,
          189.61444954298335,
          1461.9472102860677,
          4300.542396472428,
          1315.8534265970711,
          16704.93338884263,
          185.9476656461466,
          1523.2683461787246,
          2971.0938355414432,
          7397.964346299217,
          8614.298104324123,
          4394.290521476321,
          3484.3225523984866,
          23045.772151898735,
          3078.233736722395,
          9396.039603960395,
          632.2877006912213,
          3467.102561146517,
          2534.587145357925,
          6220.744680851064,
          8281.742818861192,
          1345.9751206827914,
          158.73015873015873,
          2285.78102189781,
          1048.4423095230538,
          1580.447527411054,
          982.9993243654213,
          998.1160570798622,
          172.52388315120965,
          1185.8131259884028,
          7687.312670443512,
          5612,
          6600.553250345781,
          250.3038773760785,
          1433.4566199006858,
          191.30339099945633,
          785.96186011894,
          1443.853525895016,
          881.0977294667624,
          1084.4867081175769,
          1995.74778242654,
          192.30769230769232,
          3576.7144661564753,
          4090.8093927404097,
          1929.3700572675211,
          3027.7175616381114,
          9791.032870055931,
          7874.450626772608,
          15013.014354066987,
          2257.0443907985346,
          3000.7910414555163,
          244.33252091095574,
          223.15910768578323,
          257.7385299324067,
          568.1158253648227,
          1385.9266746688568,
          660.3158185643964,
          472.9894725586519,
          996.9942804902877,
          545.7855409941108,
          544.0391467841813,
          1433.4920634920636,
          9617.136910268271,
          573.0394233553781,
          488.4412291269156,
          1675.7803497984225,
          3768.714466203411,
          841.3237123700667,
          658.1081081081081,
          6318,
          2007.3408978786385,
          2004.7210829577305,
          10419.963240752055,
          7267.393617657257,
          2449.7235969029225,
          10082.544106933577,
          296.85258062787636,
          4269.155918829503,
          9629.083486256226,
          858.5393721109622,
          843.2376898082377,
          1043.8907788573713,
          9693.13387034906,
          2651.085756348914,
          879.6530609907426,
          4981.405588330278,
          2236.554889887391,
          1842.4622617462971,
          1060.747878834246,
          1331.3396145304544,
          1133.7549404492388,
          1873.824622352302,
          2052.1553246056533,
          2000.2282805616674,
          1432.2210833997647,
          3502.618912797282,
          190.4783836895112,
          7274.489397684402,
          4763.080700423484,
          18092.30769230769,
          8764.680424133929,
          5867.1819988420675,
          530.7978489367936,
          686.2942763105915,
          183.31533895486828,
          2229.2539594228847,
          4110.7,
          5222.792754243332,
          13000,
          3841.58081405168,
          4646.90752923456,
          6154.8580588708255,
          1136.458206665054,
          1309.9094629790402,
          2388.8184184009415,
          2119.951070880772,
          2486.962108088885,
          985.1285923302152,
          1799.059337920753,
          867.7088254871198,
          1859.3720681293034,
          939.9141630901287,
          1094.3054178921846,
          1683.520049328097,
          2085.1017595173025,
          10303.263497441862,
          1155.6494541907634,
          2761.73445984937,
          3279.9042528675823,
          3232.3366647394073,
          12042.908157424023,
          726.6730580854921,
          1184.5945065682336,
          1208.2267027956018,
          1765.2596771868846,
          1526.6666666666667,
          1671.6521197546776,
          812.2406344601412,
          3349.605246993283,
          1460.7989115087412,
          920.0444333411735,
          238.0053860025541,
          556.2475560850073,
          394.8012082032101,
          421.60695915302955,
          2210.3073679433483,
          1360.0345911713953,
          7515.555555555556,
          4660.416939819063,
          241.90088995794392,
          707.237303181797,
          163.12312597020144,
          1874.2590514002652,
          390.7159037847524,
          402.1250999880329,
          373.7400073590784,
          228.6026497506383,
          167.53997541474732,
          125.41829806712101,
          323.70682323031383,
          771.3815215494677,
          1484.2578350317249,
          318.1694541444587,
          749.9949672873679,
          316.5631509914358,
          194.17550898715658,
          186.26438806671365,
          322.21993389662435,
          32.80990261052541,
          3113.3941325129103,
          643.0891008727419,
          176.90237817993355,
          819.414870164227,
          6135.658189977562,
          312.30252549204727,
          357.4883298890117,
          153.1742200855292,
          269.39284919658286,
          65882.35294117646,
          128.46164138676352,
          467520,
          414,
          1172.796668979875,
          1130.8361816178256,
          81061.72839506173,
          627.6803118908382,
          117.98293260275855,
          375.0591610574813,
          149.48686918988952,
          2841.478855406432,
          522.9494975560593,
          557.2661870503597,
          3939.738299151857,
          446.6200304695682,
          357.0047092941835,
          1278.590322883133,
          66.047982702808,
          766.8182405677559,
          748.0103267159263,
          908.0195964120974,
          2208.234674503313,
          755.3605327985213,
          1640.60935614999,
          8006.497341996456,
          250.36751784461146,
          127.36318628107131,
          376.28990269009876,
          934.1535430175344,
          793.4629913570835,
          1792.9745370075245,
          13636.554854422673,
          21761.333333333332,
          907.9984993091332,
          307.08581789850433,
          1959.194337561161,
          2225.492744751091,
          464.0297128075779,
          4762.575624165649,
          890.3085809504269,
          1692.8395615234595,
          20075.24985302763,
          2299.2481753904644,
          5378.971692663201,
          268.27850419963846,
          1955.7828954982062,
          485.0523843930636,
          1272.1328896566156,
          3515.077284018769,
          1020.0716582958346,
          1557.0040676805177,
          483.55767558785857,
          231.7951869276257,
          710.1920930505786,
          714.6541116595054,
          393.59282096673496,
          1864.789951489152,
          468.651688368396,
          660.4768809524667,
          3064.4152440758,
          954.9174279356924,
          492156.26364033174,
          99748.9195187478,
          null,
          72913.04347826086,
          640.1485338283001,
          953.1957687622313,
          2769.3989071038254,
          49357.142857142855,
          2035.105008431334,
          2883.7956384753197,
          1014.5596492089605,
          2036.6565523247111,
          1273.1315437996768,
          794.9129990129907,
          68439.1438510691,
          5164.803311308962,
          18473.15436241611,
          4258.993185190595,
          19513.6,
          91500,
          2769.2855359372215,
          2124.2678304812216,
          2340.8651802562617,
          1133.4389050617697,
          2263.7416379366723,
          1094.589395831678,
          1577.1998631900926,
          4670.41949413942,
          1959.6302003081664,
          3082.274472835674,
          2418.9780125901184,
          883.1654032428388,
          8068.0406053062425,
          15558.504035392612,
          6947.38819751104,
          4864.532325048039,
          12087.453252784286,
          2255.541291376425,
          3952.949939258968,
          3799.126637554585,
          22665.125253667786,
          18002.685817418966,
          66098.27038694512,
          77356.24596398078,
          12770.667243965834,
          2550876.75070028,
          29484.486160100434,
          151665.16068536357,
          16797.080432031114,
          59420.58409327023,
          22001.672240802673,
          3177849.593495935,
          178781.14130878408,
          24409.576754051544,
          26800.16297187274,
          14119.338412847868,
          88561.83980911893,
          1523.2266489780689,
          250.87216329296444,
          517.6227887186243,
          316.1673839147717,
          674.9359426914949,
          1948.813842500561,
          2044.2949858462987,
          5930.007781043737,
          5328.2414623116565,
          31307.815484885945,
          2199.9766745399093,
          1318.671755054652,
          4278.951996578483,
          1985.236748926887,
          4097.45929176692,
          3530.088880520948,
          7089.666372790126,
          3981.5933441197767,
          1601.1437538087778,
          7733.521262556397,
          13284.64445073668,
          17275.053623626867,
          14324.203905123837,
          12909.9281320801,
          4544.43308490855,
          3032.974139511773,
          4830.738318101384,
          2018.4223029710831,
          1276.6107393710602,
          2914.039170204277,
          5167.342647518659,
          3008.7953461817397,
          4321.484313347246,
          2982.9408314795387,
          5669.250113369337,
          10184.439567093015,
          6080.33229576797,
          1714.2195061275943,
          960.9682622191847,
          3058.2880891284326,
          13628.102866822903,
          7143.617363344051,
          3614.4273421227704,
          20933.303636340715,
          1760.9699889388269,
          2358.2497268302377,
          7694.833625218915,
          13347.438227538281,
          28784.559109658338,
          7109.3821281488845,
          3290.956749672346,
          54103.77358490566,
          4909.748867029311,
          4878.233134096331,
          680.6908199204241,
          614.0512860612951,
          3950.6053890869384,
          2629.099413645315,
          8209.302325581397,
          5895.526039675886,
          928.1160252858767,
          4630.366056375661,
          3767.596201740795,
          1060.8425770154386,
          2486.66089992774,
          4962.986738564085,
          4837.543383805541,
          808.9529247906701,
          1371.3825973130906,
          46704.081632653055,
          3585.603720247676,
          1580.2129044373019,
          41077.77448364463,
          28466.653047811065,
          1351.9490752627246,
          2187.93510971101,
          391.55023286759814,
          58250,
          1290.4872700145459,
          1135.6651857129916,
          1445.0474759852598,
          867.5112902410194,
          2126.9907483825727,
          2217.018765319236,
          1293.8252767956444,
          2640.0105158146803,
          2750.243053422854,
          3873.3995271777867,
          1558.4158317198962,
          4331.7083075200235,
          2525.864771956362,
          3848.1405448620226,
          422.42664726951733,
          4590.81497176695,
          5795.8010249655,
          1602.0695668511198,
          4209.631243763146,
          2960.061212029895,
          3284.2517520332435,
          4964.794372038883,
          4004.8156909617037,
          4338.997488622916,
          3683.539965194709,
          5140.504616079746,
          1371.6249808692532,
          1592.8070991945874,
          759.9647467683751,
          546.278298444263,
          3644.8625230784205,
          5432.129488567037,
          2712.474527164718,
          4449.618014260556,
          7692.874570602092,
          15374.493874584718,
          3288.0244372982797,
          3528.2286264533655,
          2184.545734041463,
          12828.780123833336,
          4460.487235309483,
          8239.964938524547,
          3326.4004463727406,
          3035.360300026788,
          28182.429758607042,
          14490.90909090909,
          16353.05164319249,
          11490.945862437033,
          1206.962273302619,
          8695.110726081542,
          6391.5920262580685,
          10134.177114743692,
          6965.807174887893,
          1798157.8947368423,
          13123.118766999094,
          21208.333333333332,
          1182.5557809330628,
          8615.384615384615,
          11268.273716951788,
          569.1693037974683,
          941.6854310199967,
          2466.426678540992,
          1505.4364797728886,
          498.6444876806133,
          538.5926963518959,
          1117.9821692605583,
          2506.6499089288955,
          4840.037128712872,
          1295.0016238493067,
          8031.324345757336,
          1330.2770580027905,
          3098.1779085181192,
          4870.859936153232,
          3758.0126917824728,
          1684.3527796823341,
          1986.7617107942972,
          24653.304442036835,
          6691.150936844171,
          4120.842572062084,
          8553.273230201825,
          655.2307879673608,
          1984.313725490196,
          685.3688431430196,
          1629.754261542284,
          214.07681149041778,
          555.3674772784749,
          892.5285600431284,
          1240.2459424091012,
          868.8928913928022,
          654.1712539333776,
          3064.775730943489,
          635.3296518900448,
          3048.6678461778633,
          1635.6112197522643,
          868.3939998704014,
          2920.166041890987,
          7918.6873820241035,
          5106.799263813946,
          6301.233032846337,
          1931.2128397565273,
          2171.550165712564,
          2291.547722034527,
          2099.6984045004183,
          2861.5113109435415,
          10237.62572904847,
          911.051688439505,
          1436.1815160701922,
          13398.87060573794,
          9032.735537347924,
          6190.152171223556,
          13361.111111111111,
          4684.075342465753,
          15264.957264957266,
          207022.37315221733,
          6968.890813026806,
          9694.25855513308,
          1662.2401768776188,
          11639.385921532814,
          29284.757118927973,
          7695.581930031691,
          6131.294050978124,
          10587.554867957113,
          11482.78905560459,
          36668.87125220459,
          12222.871046228709,
          35000,
          16981.391585760517,
          38651.584077985375,
          17088.992974238878,
          1725.4011259016384,
          1102.5523226135783,
          1350.5038463687672,
          4040.8304972029887,
          3027.24827896444,
          2331.195187858504,
          3621.0258804003943,
          8777.93501878424,
          5073.054804525959,
          5783.61013623677,
          5218.424788105972,
          6694.964028776979,
          26782.828282828283,
          4210.526315789474,
          2222.6992061158485,
          25686.02195945946,
          3277.3333333333335,
          4947.400177997677,
          1841.5058929567429,
          5050.611463091203,
          4333.744859967532,
          9312.815338042381,
          6607.458967087737,
          3463.4487556976187,
          7561.326819233736,
          1972.142409512855,
          5561.472817330071,
          1194.8511046038905,
          2673.9175759260547,
          39392.40506329114,
          2412.8364012566763,
          4114.079453594432,
          2911.8942476982133,
          2373.995289239091,
          3278.169788900788,
          10749.49544671425,
          4966.124896169999,
          4858.087456800975,
          3964.2575987327814,
          3946.8485168096468,
          5840.017989543578,
          6835.212314689291,
          1558.2488780639367,
          3233.834422168991,
          6709.150286825593,
          11038.197969543147,
          4329.938582431455,
          4006.534963148395,
          6175.004281077071,
          7775.203264139143,
          3182.2860042038124,
          4230.682910328756,
          4849.278749716558,
          2631.9046763051792,
          4432.184584623866,
          5636.713201574611,
          3733.925601272354,
          2145.998661439908,
          11374.343241128321,
          19500,
          8493.493380554532,
          26984.716070074624,
          2913.075962353361,
          11690.265486725664,
          10264.244807248484,
          7301.261255720751,
          4946.417386947263,
          4036.965538445165,
          3113.8975218778114,
          3080.8123418102928,
          18580.24691358025,
          3369.1059766554363,
          4995.947838847385,
          7979.576541127974,
          7567.742613079401,
          11452.585689717234,
          24604.264586532456,
          3309.9622820162494,
          2018.7582251379858,
          6937.324789747698,
          7309.217195884643,
          2468.4327898502206,
          4354.471293218461,
          34860.39374449052,
          29994.975533030407,
          33213.87137452711,
          28648.24655428704,
          28448.65180960315,
          25063.198486612342,
          30144.19129257839,
          19840.11641272264,
          37231.32094356361,
          32233.05024412425,
          37296.55796675522,
          50612.64603725924,
          37838.23090692124,
          15688.930868528763,
          22318.357657816072,
          18385.409236804568,
          40632.93486959946,
          28457.59780422236,
          41115.12177364262,
          28364.214719344276,
          36102.10973727375,
          22072.817159589576,
          16662.815528664512,
          7183.462837904431,
          40238.73873873874,
          11421.257008224438,
          14826.738831409604,
          18516.157639803274,
          20186.738031519475,
          13972.17346906213,
          32426.532068930355,
          30178.89166544172,
          25514.691185288826,
          13799.234438007901,
          10258.718116536536,
          8337.416827311734,
          10890.682656826568,
          1986.5616499258792,
          6402.776585700798,
          12073.736316377766,
          11152.204836415363,
          5501.62358048833,
          22905.18406388949,
          27568.318747657606,
          26076.835357779826,
          27803.91974421005,
          5400.6781299231225,
          111187.25904167432,
          12573.593073593072,
          3750.5641956532404,
          9473.251238133113,
          7469.032224077472,
          9686.00894082238,
          2495.718672781586,
          4113.260052873243,
          2290.3477311710585,
          7764.400921658986,
          4119.648732268678,
          8728.890144027111,
          7221.591287674072,
          1010,
          473.7167531529702,
          439.3094865517403,
          7331.077904570225,
          7497.220246340458,
          1291.5120581984136,
          803.1075771590532,
          374.81057607491005,
          223.49021101991855,
          1396.4003853946754,
          287.9716542674568,
          4044.5534921104954,
          2847.3972103814817,
          3813.8220694921724,
          2128.229232925523,
          3065.510182092447,
          1274.493437725006,
          2416.37770802455,
          285.72265853944435,
          360.1206092540998,
          294.4403273814652,
          343.04529984911903,
          2777.3574653068044,
          1831.4532564247,
          1289.4721308666635,
          1395.6972180791856,
          3617.127141262319,
          2055.0438385912557,
          108.65490952910527,
          2325.312365597327,
          447.48356115296747,
          5972.853185595568,
          355.5343110105588,
          656.9932396327821,
          1929.7814420635757,
          2605.9604713510817,
          2167.965582872206,
          1975.255460294256,
          3180.064308681672,
          1519.408911130005,
          10576.374745417515,
          2517.136382948591,
          1303.3938825419418,
          6212.519978067873,
          1433.5786075526917,
          3646.3714116801134,
          2755.2414982162422,
          17591.455273698266,
          42202000,
          12248.921749845964,
          3250.3712622917924,
          693538.4615384616,
          47404.23068827615,
          6848.484848484848,
          12512.31527093596,
          null,
          597631.3584679832,
          124267.00251889168,
          5106.861642294713,
          398231.1557788945,
          18746.9392835321,
          37521.739130434784,
          419.08821271920567,
          950.3413193561126,
          213.06382647565644,
          1201.7345144711928,
          3601.8124261542234,
          349.23566760338883,
          415.83115166140834,
          520.2457544631758,
          679.9082487432139,
          864.7475024396758,
          1133.6489285854634,
          459.72179745559856,
          722.8164858922561,
          711.9690763815679,
          572.6308158318432,
          1696.2648694358086,
          2496.234682445964,
          1645.892927727498,
          2194.390160878474,
          2326.864119784456,
          2792.7142710960493,
          904.5375356350966,
          470.5754813106749,
          2528.547550206518,
          359.4189088785769,
          744.2001925007964,
          1154.7236625011687,
          5777.528614809624,
          1703.7321975775208,
          1079.654886739211,
          1348.4546490067678,
          630.7584820448612,
          2193.074813448861,
          3945.638220764897,
          2049.2447970395688,
          5539.309261624495,
          3947.2262442734013,
          2101.4060394367307,
          2934.694793024611,
          2118.102288021534,
          1596.4015282509472,
          3755.09551280946,
          6367.166813768756,
          1501.778471887874,
          2658.7946823846482,
          3653.205825827217,
          4055.033285723667,
          3002.542623844455,
          7573.581037000217,
          4299.430650836549,
          7378.976800155728,
          2570.955936109432,
          3491.8667829332994,
          4684.868242325455,
          5338.221726547747,
          6260.801801021734,
          187000,
          11299.533986823077,
          3896.3766261882733,
          5082.062760649904,
          7261.820475713384,
          6120.982986767485,
          6360.397681519928,
          9366.568914956011,
          6265.413044813874,
          4894.596397598399,
          14338.072561581417,
          12143.338898385693,
          17893.33106498809,
          40427.80748663101,
          19232.699619771865,
          75861.38613861386,
          10745.282066807951,
          12828.099059214168,
          1843.077509045896,
          1610.6853682346552,
          8978.254690164867,
          3249.387914080722,
          2116.10202605819,
          2719.9595263286774,
          5185.732246794666,
          3758.208801313064,
          10049.843702114618,
          12096.842987828742,
          9948.328700734088,
          6216.9420197316185,
          2646.6741494470716,
          5238.348777188546,
          5443.971690856942,
          6179.319930356527,
          1860.780537930401,
          3790.285655357327,
          6048.414459089129,
          2229.321403228755,
          3799.0307867730903,
          4216.034508403986,
          1262.112036336109,
          5381.069867583326,
          26219.092768172526,
          15086.19699273526,
          10042.104478724197,
          22832.708333333336,
          8884.20181968569,
          1956.9124794151908,
          45346.869712351945,
          36451.77664974619,
          13000,
          20796.950014120306,
          165899.6138996139,
          2312.5,
          22060.40268456376,
          354145.8333333334,
          3757.19760546978,
          12425.550584814342,
          8505.848565379329,
          7121.5815154314405,
          5987.881280917159,
          14366.867604375977,
          15503.913107570255,
          17143.21647949047,
          32574.62439239947,
          4252.498005793695,
          8838.842855519586,
          1570.683944891099,
          5306.7738909252685,
          5255.378571556314,
          3619.3368050435515,
          7714.9524384286005,
          3032.1396233159253,
          4013.487363270174,
          4258.367849546625,
          2017.6307127044288,
          4971.209074114289,
          4594.973099232811,
          5214.891216044368,
          4543.336039000491,
          13005.417562345458,
          1951.6993082323368,
          365367.91443850263,
          7312.425806893845,
          12356.900800985828,
          48583.611342785654,
          17982.72310452522,
          339407.68594419793,
          18421.99075764148,
          7378.093958657172,
          21366.087848147727,
          72608.01624748336,
          188290.7955404845,
          19915.69062370402,
          17694.155998745544,
          4762.7850729487045,
          8949.481958583,
          11177.500799382022,
          6417.878357277992,
          5886.181368714197,
          15531.172017939589,
          14778.212957592712,
          11266.992146386869,
          38178.95372973541,
          8448.602247846076,
          7947.196645121369,
          4914.883481367187,
          5241.034168451111,
          4834.261909761582,
          9683.9795221843,
          8045.375090798425,
          9409.89706906524,
          8891.502558888264,
          5187.902612694469,
          7999.253611904362,
          20789.09666772735,
          27402.064330292847,
          7787.696017025328,
          9071.530182406503,
          19767.395777368063,
          22488.213309500734,
          12063.075173198222,
          14540.05750440558,
          22266.14696668978,
          21901.309857967663,
          6823.231312929252,
          10014.013280879439,
          15249.19445556636,
          18583.364096327983,
          31679.264668109932,
          4812.402587281796,
          4827.975522799135,
          8073.947762697353,
          6909.175736102146,
          6273.9188314919875,
          9300.459172849207,
          4213.306471314796,
          17455.92629251732,
          9473.086955048948,
          7371.9993499049015,
          6892.193219894351,
          9573.166925412337,
          8495.622439540108,
          5319.985222974756,
          13125.276521913216,
          13695.780059721053,
          11930.90882942182,
          18389.687353513546,
          14187.434220536756,
          15490.622856972479,
          23113.402061855668,
          27994.85540486087,
          73634.00275215103,
          14121.31604329654,
          29783.316879156566,
          6919.903575160665,
          12249.60459606284,
          16335.303808508575,
          13531.54964608416,
          55212.70310192023,
          14477.598591467407,
          15191.483447502715,
          17998.64666749243,
          17350.607959733446,
          18753.05189919782,
          22303.170120854553,
          52523.7825594564,
          16506.829731589267,
          15380.418002905319,
          15478.981331114292,
          37638.50441867792,
          15268.725432209649,
          13117.33736118122,
          5996.703272937218,
          4050.380514902918,
          12611.873479318736,
          6049.358668948356,
          20722.06997472396,
          14195.985003147633,
          8775.248094958679,
          5903.465184394973,
          10466.399243898028,
          12635.432953755302,
          7114.191645593328,
          137383.37525106722,
          6024.563353613806,
          16663.290527107623,
          27345.07481179008,
          11891.383294816771,
          48779.88460260399,
          71646.8573979616,
          93829.90955564294,
          10045.139098533722,
          24213.91236879255,
          7385.05443166292,
          30569.61531536938,
          38182.85491847003,
          11350.229982816378,
          19629.29709158728,
          106160.84354338357,
          21456.175176386107,
          14459.82853542388,
          38148.31232115614,
          13579.911895870346,
          8101.894011668902,
          53457.806305455924,
          14111.58555864413,
          153584.22985155656,
          15782.076250139791,
          6450.936172534688,
          2753.390902671531,
          3498.8844998831155,
          2770.8842701796084,
          49835.61643835617,
          4797.388340976192,
          9980.360631943282,
          1762.3636363636363,
          47202.87809349221,
          23208.793197032748,
          706.250946983283,
          6607.307271953527,
          11622.450848712633,
          9455.719438217013,
          8495.123236008485,
          11354.460405521913,
          9621.428349316946,
          4839.159209838605,
          7307.328651969312,
          4508.9471010811985,
          6526.448876031251,
          2710.820823043788,
          5026.750519155921,
          3304.282584978756,
          3178.5886214856737,
          2501.801264806841,
          31374.284226965123,
          180196.46498980286,
          228970.54837835394,
          25591.91176470588,
          140827.16049382716,
          7977.896363560964,
          6274.970102153172,
          10890.492528426006,
          3390.557989863194,
          23945.10234081768,
          84628.62454325947,
          14333.552509914316,
          123.15315065965495,
          45018.92402671034,
          107813.73497305514,
          56049.477545233174,
          14497.567870851533,
          10710.288877094548,
          45468.81790525858,
          52895.38595473012,
          4052.703316674239,
          22040.193986420953,
          94297.48720690445,
          64256.26932325661,
          16578.562990011815,
          87530.49601325464,
          68774.47869920057,
          10523.132525677196,
          6331.252625277895,
          31388.13418705466,
          14571.474380681608,
          35950.76739388352,
          139750.75102162472,
          96376.18157168903,
          75226.44003777148,
          49000.24880573248,
          39213.10413703356,
          47651.94659374738,
          85126.57800680344,
          21050.634734272266,
          19322.899164248152,
          63597.69356550675,
          34068.182571175894,
          23410.457323831182,
          73598.06244876668,
          28757.018104366347,
          26019.06671820523,
          6390.132248219736,
          23087.88111708942,
          4297.618612137397,
          26500.56292960417,
          18239.64468934068,
          100680.8510638298,
          89750,
          40145.454545454544,
          9040.472175379427,
          1589.2857142857142,
          18963.567541991953,
          33814.91587085039,
          6580.066293290662,
          11027.59792166267,
          6911.510502160731,
          6926.594882482343,
          16821.984595214682,
          3556.9113441372738,
          10477.516507270466,
          22867.34693877551,
          52168.674698795185,
          94737.80487804877,
          49175.67567567568,
          6160.54541455905,
          91436.00867678958,
          3430.2431508456466,
          7422.396514709336,
          2588.3967226229524,
          9529.235527481198,
          7581.274539774973,
          1098.3162346112538,
          6138.881000623473,
          3787.5529935645227,
          3795.65783272571,
          3686.597271411413,
          8850.789807906016,
          13326.76137915601,
          16194.219888468271,
          5630.284637400284,
          6507.621454189762,
          5547.485051002463,
          5498.420992707203,
          5480.883811654117,
          5125.984650146074,
          6520.42092271716,
          4231.479205309854,
          18972.966308757932,
          20878.683660954022,
          11532.283014207906,
          5228.571428571429,
          3319.6109935567642,
          20028.969905849975,
          4906.174219504196,
          6712.116321605877,
          4137.211651000349,
          5063.906513899667,
          15543.774319066148,
          21509.96015936255,
          13189.655172413792,
          54625.792811839325,
          5045.045045045045,
          46551.724137931036,
          6915.488413024346,
          6673.925882179242,
          8563.698688988681,
          9725.678360681832,
          1779.1094526643662,
          7462.03093804114,
          2116.0079847485176,
          6974.500637841481,
          831.7375100959913,
          1669.12060386175,
          1824.8623425104993,
          3136.1047792576105,
          1048.2855143456964,
          2337.1381981247455,
          4421.350564251911,
          13664.556962025315,
          599.964416545394,
          23525.629743702564,
          824.6132942605904,
          13743.553276694487,
          10676.367718993639,
          5604.281683838262,
          2339.000946697178,
          1222.7339241671484,
          390.21738902770824,
          527.2727272727273,
          724.8677248677249,
          2745.487547595365,
          2321.262550147524,
          872.3238042489812,
          1409.7625857260623,
          2000,
          6304.041003466094,
          962.9214406937098,
          1438.8874049317417,
          3769.7896334851443,
          443.9581784314323,
          602.2337246197061,
          910.5412016047292,
          2480.843129102569,
          1069.7454641649474,
          1613.64726574992,
          5842.151169059339,
          1657.3396145423662,
          820.2343148487878,
          10048.306015780186,
          2515.151515151515,
          3596.0100052370576,
          1922.8224680177455,
          7190.349927176308,
          6754.054792667903,
          204362.27544910178,
          18184.90245971162,
          7372.072853425845,
          476.4270997454854,
          216.15285262184932,
          1050,
          1877.0515755125894,
          3841.4415777660083,
          1094.5992857380627,
          2712.9684067555404,
          1452.6790609861569,
          2007.698573267821,
          2059.387356724561,
          1895.9678651409065,
          6278.2526115859455,
          1777.4084684428992,
          67.11134802511913,
          2646.666666666667,
          4734.6370708728855,
          4400,
          4110.130945798087,
          2717.9676902207425,
          32059.87311657415,
          3817.259362605628,
          4699.84392208266,
          4036.9383553348675,
          3957.9967689822292,
          4259.188104480558,
          137.3862266845752,
          877.5979275456181,
          1785.2326285895085,
          17760.869565217392,
          1507.936507936508,
          6322.754491017964,
          729.3749793000759,
          2539.69696969697,
          1274.2832632511067,
          1942.0289855072463,
          3682.8710917212006,
          1254.3608894592353,
          1202.9493551106732,
          780.3198719495929,
          165.22914956294971,
          5048.611111111111,
          8043.478260869565,
          3621.123629133752,
          5390.407823224406,
          615.9234584654193,
          2136.542239685658,
          74,
          4123.633719595648,
          2737.379174475157,
          1012.0067802994632,
          3915.704441099939,
          6621.611204637798,
          2717.824738467462,
          13346.135372512887,
          6038.3475506658215,
          1573.828086398885,
          4083.0963023161316,
          6659.868523215488,
          2213.231069629167,
          3930.4347826086955,
          3101.987168062734,
          2740,
          1897.6189681824753,
          1599.9172291859825,
          2524.1935483870966,
          558.7808808196006,
          1786.518543920067,
          4334.426375619862,
          6672.561363166871,
          16265.333333333334,
          2780.5551772889467,
          2821.734091285391,
          705.7851641276089,
          3356.3672758907073,
          486.0543143566568,
          842.3924592428015,
          1474.338237181956,
          2192.667587053229,
          1486.5927779764033,
          1035.144990687624,
          3400.785475801459,
          9969.135802469136,
          1387.0116781494592,
          2599.250936329588,
          336.30467955239067,
          3000,
          4656.852791878173,
          2099.6649916247907,
          1266.8227109843426,
          11226.7417894268,
          13494.928695042607,
          82.41011119684907,
          105,
          19250,
          629.8763853751204,
          166.4670658682635,
          192.23076923076923,
          478.4512393703636,
          1018.5459940652819,
          19.99963612215379,
          1.6685892303028087,
          122.97734627831716,
          22.22222222222222,
          1664.9453481366727,
          70000,
          13700,
          111.75854870938215,
          76933.33333333334,
          1075,
          62.71545827633379,
          1184.434483600987,
          32000,
          633,
          904.1060824346711,
          125.22686025408348,
          1139.513840630067,
          680.9491745978908,
          97.27356746765248,
          374.73753416103955,
          1392.0265780730897,
          249.9709852626731,
          211.64317729574205,
          16087.426326129666,
          1811.4758052844024,
          2057.797316057381,
          1243.9584100631782,
          846.8823109143634,
          1500,
          1495.5,
          952.3727268093494,
          1000,
          1210,
          105.07276165419715,
          190.56210736956058,
          31.797085975037117,
          422.962962962963,
          109285.71428571429,
          12000,
          5555.555555555556,
          170.2127659574468,
          1435.4561101549052,
          1800,
          891.7248255234298,
          8520,
          37166.666666666664,
          388.560232944887,
          118400,
          237.2838992877854,
          9578.202736318408,
          2274.707982811838,
          743.4065606953623,
          386600,
          86618.14989372516,
          2130.434782608696,
          null,
          14892.68292682927,
          3303.479462379098,
          10841.070023603463,
          3051.898734177215,
          29731.60173160173,
          83972.38173366147,
          21082.8025477707,
          2388.4066548300125,
          15157.043879907622,
          700.771990866587,
          6558.599786045405,
          2591.642966528112,
          2014.896715248515,
          5370.3378350642415,
          2547.3000824402307,
          2429.9933230850456,
          1002.1221248630886,
          27883.693045563552,
          3379.310344827586,
          83086.95652173914,
          62111.50741505538,
          7216.666666666667,
          9041.666666666668,
          5721.287136212826,
          161271.67630057805,
          44000,
          429203.79146919434,
          152546.59498207885,
          2210.3746397694526,
          2500,
          38815.74081855619,
          86978.24536376605,
          53065.928595629244,
          1521.3929634544347,
          115064.6437994723,
          464.4819375647207,
          1880.8602919805942,
          770.4900829048169,
          2752.8565382987726,
          2453.5660733888403,
          1865,
          81391.05902777778,
          15863.440860215054,
          2133.3333333333335,
          4389.9215200330445,
          2061.1524208588658,
          4029.5721700549766,
          1068.89416987692,
          6693.727290112832,
          13863.74501992032,
          14940.298507462685,
          492.76186730714306,
          3816.5965583173997,
          280277.3999683694,
          10678.25204130125,
          27063.033151146752,
          9349.950005421098,
          3742.433085966814,
          10284.819815945644,
          6799.223220560185,
          1058.6282766539482,
          1329.899506736777,
          4665.821692465347,
          2463.674066845572,
          13482.539682539682,
          1546.698947760499,
          6205.34685803714,
          28983.870967741936,
          34545.454545454544,
          4529.76095705023,
          13158.44901866922,
          72000,
          2710.004065190879,
          338.98305084745766,
          9718.90745160435,
          61957.74647887325,
          15061.538461538461,
          39333.333333333336,
          953.1527039007093,
          920,
          3036.0230547550436,
          7061.947241234188,
          3720.115609792248,
          52166.666666666664,
          2484.676985766434,
          4723.902549404133,
          3895.6109134045078,
          8117.49429946795,
          892.3076923076923,
          1356.9924812030076,
          361.56678942082357,
          2101.6746411483255,
          2230000,
          64055.55555555556,
          474.854306158192,
          2684.5586610138844,
          864.6141365833828,
          1008.6137179797224,
          906.9167276256192,
          560.2037737600668,
          1933.2243684588807,
          2164.8939641109296,
          2430.194991178425,
          641.305419716107,
          3004.876562023773,
          3140.1030731055544,
          26589.57512045554,
          4603.434310707921,
          3172.0245264425707,
          3984.0055826936496,
          1590,
          414.40257556852646,
          567.4627324419855,
          3838.500443655723,
          1662.7517948003067,
          3983.9658548577145,
          2760.731038042304,
          3089.7737583546686,
          3336.001346249134,
          1832.125653278613,
          3573.456140699129,
          759.1874219801125,
          3210.6569255716927,
          1444.4855901767503,
          11091.912370284961,
          102.10372613703964,
          6444.074250356973,
          60705.882352941175,
          10580.882352941177,
          14905.87938430482,
          11963.636363636364,
          4162.026986163296,
          12465.159607502173,
          90230.76923076923,
          8155.586579798786,
          2866.324823465508,
          2709.7124055425274,
          804.6346958480849,
          9417.431233962094,
          456.5354272380459,
          25114.942528735635,
          7844.344339577718,
          18726.000247739375,
          23384.442446043162,
          6666.666666666667,
          4530.487804878048,
          89.81652500776033,
          305,
          95.72671346238681,
          3680.729603542668,
          4214.870224892175,
          2366.878504672897,
          579.5188113618082,
          435.10721562968376,
          943.7056708583852,
          2412.5006199064355,
          19088.57142857143,
          201.70243065669808,
          1258.9862312659923,
          1427.027027027027,
          4333.446607833279,
          20558.823529411766,
          10371.488417939872,
          3779.199366871686,
          15000,
          115662.73078574495,
          782.7339623376118,
          167.90433935672164,
          56.81818181818182,
          1808.3282302510715,
          192.0614634506704,
          659.8878157817046,
          464.3413719351226,
          3360.027378507871,
          866.7154505540456,
          688.8847492752442,
          7479.674796747968,
          1319.4531096810995,
          2292.1461938434372,
          8132.018209408194,
          27127.84090909091,
          1662.4427069290914,
          2346.3059863423005,
          1168.992864215264,
          2237.42856361598,
          6434.1538309147645,
          3000,
          1597.0439383482862,
          5514.849313886562,
          3640.0148065889325,
          9396.061269146609,
          3908.7947882736157,
          13282.128137879356,
          21545.454545454548,
          6741.099539840156,
          1852.1126760563382,
          6662.181643440654,
          5186.375421580127,
          437.228330350294,
          680.1873735760672,
          7002.695417789758,
          31210.526315789473,
          13379.652605459056,
          26589.360354654847,
          140.00168392691756,
          50000,
          3833.72321069918,
          181.8181818181818,
          5644.33551198257,
          4353.3832242393355,
          5346.806313789806,
          2147.130808634387,
          6165.441176470588,
          13131.673798884944,
          3936.687113270607,
          2594.803663105314,
          8159.022931206382,
          2178.198985746711,
          7042.198233562317,
          2927.1111111111113,
          300.00214073170207,
          6877.336448598131,
          6203.665082424886,
          1425.287356321839,
          9370.714855168748,
          1998.5835694050993,
          7235.83365025391,
          7277.7493606138105,
          17391.731235582894,
          134400,
          47095.23809523809,
          1282.004555808656,
          1861.78035185824,
          5319.567734465457,
          8374.752148050231,
          3575.8009468237365,
          2643.6453937698543,
          5202.1398151033545,
          1349.673202614379,
          19141.843971631206,
          40739.29860752965,
          5362.453531598513,
          5660.841022001419,
          35285.57114228456,
          13315.334773218143,
          1037.453982061888,
          11406.976744186048,
          2900,
          8269.767441860466,
          2553.3721251034585,
          47872.69681742044,
          4448.823416873924,
          22450,
          360.0981253661394,
          9625,
          8819.9784405318,
          9507.66185204194,
          6274.024700898734,
          6970.163696476091,
          9595.037955140027,
          33174.66349960412,
          20922.395220220773,
          36084.402028034594,
          23254.329284052725,
          23919.994233818652,
          38890.896921017404,
          42133.99543017442,
          19677.908123797966,
          6451.392058420813,
          42769.14016489988,
          32334.306956983535,
          13016.840966386993,
          17527.869840313346,
          8493.279610307605,
          7324.213775389065,
          12088.7994528098,
          22730.098030289235,
          15341.955386805887,
          24403.069338422392,
          12650.05931198102,
          16390.262172284645,
          74031.96347031964,
          15487.056367432151,
          34322.255192878336,
          46521.09065485901,
          16885.796804958034,
          167646.15384615384,
          14000,
          13926.8115942029,
          8516.123047667637,
          6917.3173877359595,
          12621.621621621622,
          9022.57636122178,
          2325.982917229571,
          6349.339913966315,
          1285.3885822853524,
          15161.290322580646,
          40349.01960784314,
          585.7090171491794,
          2638.1623813706706,
          9769.224356409231,
          15407.237925721267,
          11826.163301141352,
          2843.5820077613344,
          30942.791507135396,
          149516.16352079,
          156369.68698517297,
          22017.699115044248,
          12698.20788530466,
          17818.181818181816,
          13217.741935483871,
          337.64772087788407,
          7568.132986543028,
          8000,
          38823.529411764706,
          105.69423935307255,
          8320.12859167388,
          1783.3774278892688,
          11370.673952641166,
          1545.5056165330989,
          380.9001425362497,
          11641.935483870968,
          3414.967183321951,
          454696.96969696967,
          4910.714285714285,
          null,
          27882.35294117647,
          337352.94117647054,
          423.40183031075054,
          290.4079630225918,
          34727.27272727273,
          1319.68135797436,
          1752.9392137235275,
          2887.658227848101,
          5174.117525453512,
          2068.1312300396785,
          35881.18811881188,
          2000,
          1153.8461538461538,
          5521.8872870249015,
          2269.9565243093843,
          15454.545454545454,
          537.8019924241344,
          13209.802041622017,
          9629.62962962963,
          32413.46153846154,
          5978.347057029582,
          9536.929647892215,
          9805.293005671077,
          476920.227920228,
          34730095.62334217,
          43442000,
          918.647298730224,
          1073000,
          46555.55555555556,
          55440.72256596259,
          5686.246418338109,
          35000,
          4743.961352657005,
          1077.5397312844475,
          22.72727272727273,
          805.3729369519367,
          470.6294819346041,
          5442.724458204334,
          2274.4662821529128,
          490.37818789742056,
          657.7185715884921,
          527.664452611349,
          539.1578509827496,
          771.0695408252143,
          39093.896713615024,
          2278.6609749515465,
          2239.9477806788514,
          94.08976369627658,
          96848.48484848485,
          3780,
          4786.727688787185,
          1465.7873042044516,
          26422.336328626443,
          9961.038961038961,
          2772.349182939263,
          5015.056818181818,
          677.3446377783881,
          12770.463114975915,
          1049.8331863130752,
          2015.5565587869314,
          3135.219255277447,
          2329.330109958668,
          4791.770181452247,
          935.4998223040855,
          760.546977014496,
          6215.517635756439,
          747.8558230042188,
          2915.6360889791335,
          1000,
          2351.1201952652154,
          4137.592608237528,
          5142.857142857143,
          2640.4030680689393,
          20795.791805094133,
          1285.0735218620134,
          2239.1316519580114,
          3261.0674274050098,
          4071.2705560125423,
          6261.9047619047615,
          5315.7371983519715,
          73000,
          145000,
          2651.8678938819708,
          5746.349619171466,
          2500.2025111381126,
          3420.1400466822274,
          104343.75,
          26442.81953787657,
          5000,
          9222.222222222223,
          256117.64705882352,
          1181.0537463034182,
          3091.5236955227006,
          2374.635828527261,
          9782.407407407407,
          11614.53146220009,
          3236.402744939069,
          49250,
          5272.862186045466,
          11467.545372183418,
          85881.88073394496,
          3184.40366404271,
          5579.683788853591,
          20161.89290161893,
          1860.6343375347394,
          1317.3212449049558,
          25551.495016611298,
          1949.0100546917913,
          1340.4673230957605,
          255.07414058275927,
          5370,
          284000,
          255954.54545454547,
          939.962660902034,
          33750,
          77140,
          2763.757482139409,
          3818.5542374327897,
          6746.953175112252,
          1912.6896855069278,
          8223.480114680586,
          33580.48954797212,
          16017.483022684582,
          32321.193638631954,
          21114.906832298137,
          86674.79674796748,
          12695.02566127122,
          17250.986582478297,
          2165.2966007553873,
          23573.36523125997,
          2406.666666666667,
          23300.709219858156,
          11492.185288377013,
          2345.5693675173225,
          7112.244897959184,
          37101.72626387176,
          7306.4918851435705,
          57250,
          3538.5658994354644,
          7222.222222222222,
          2562.102479811334,
          25608.333333333336,
          39230.769230769234,
          130000.00000000001,
          1207.0049393803324,
          12167.982239763196,
          23632.834367774125,
          43663.587229763696,
          23124.075595727198,
          100902.82456594973,
          25621.078395015942,
          10079.162537654616,
          13699.38378839031,
          22671.97045034806,
          11502.014504431909,
          4199.101796407185,
          5267.816707046222,
          17352.451200358988,
          781.25,
          15805.400381270332,
          38249.12854030501,
          23310.344827586207,
          18249.096134235653,
          15313.218304576143,
          4951.207778396719,
          3950.7495144727814,
          18014.427981539957,
          4222.545345887367,
          5959.121550452918,
          5354.721477267649,
          3725.8866898106726,
          3157.986746351181,
          4450.074515648286,
          7065.477216121806,
          37206.74656569766,
          14763.868288341739,
          5115.4149816158,
          1355245.6140350876,
          8328.669533406071,
          555.5555555555555,
          3443.335841359612,
          4902.938983350176,
          16409.896746541985,
          25785,
          4713.817001491359,
          21882.833333333332,
          8982.09845847837,
          414.97235532620715,
          35587.18861209964,
          282555.55555555556,
          15397.169811320753,
          32661.184210526317,
          14605.122732123798,
          6395.551257253385,
          2946.3061690784466,
          10880.478087649402,
          11285.091107374925,
          14568.872458410351,
          13356.71997539597,
          18927.41935483871,
          2385.5421686746986,
          174977.89535567313,
          9140.67415730337,
          276792.15012175904,
          6828.355873028612,
          26020.53915275995,
          79125,
          18618.731944266907,
          155231.3725490196,
          25840.547779208347,
          14083.274340118756,
          7151.539874225984,
          11081.976320931837,
          16022.197221810538,
          41420.19441831295,
          33846.31253223311,
          18891.66472346469,
          4401.232307804965,
          32217.342844404815,
          4474.256268228991,
          36255.633255633256,
          112056.94444444445,
          2624.0464401312834,
          23261.363636363636,
          9834.95145631068,
          51484.375,
          8869.845832477838,
          11529.051987767583,
          69716.73819742489,
          10394.014962593516,
          14524.754459811586,
          15175.631476238901,
          146462.93721028234,
          74261.60990712074,
          2911764.705882353,
          14861.538461538461,
          59488.280146851175,
          555336.3028953229,
          223682.244540489,
          45775.25403466826,
          464315.42351453856,
          103697.87565776652,
          70046.78362573098,
          138220.57264050902,
          85098.48484848485,
          16096.938775510203,
          46908.3044982699,
          34290.12545715476,
          24744.755244755244,
          23312.409638554214,
          34540.26845637584,
          643176.4705882353,
          53598.82583170255,
          5890.6047192731385,
          12855.986946135989,
          3141.510639754719,
          28083.333333333336,
          32656.084656084655,
          38473.21428571428,
          517.3438630758745,
          1332.6923076923076,
          77.98165137614679,
          11639.065817409768,
          283.2801530685225,
          2333.085501858736,
          11067.713835443257,
          10349.163417189644,
          17571.832560940205,
          10641.79462571977,
          13249.780167617328,
          3061.938061938062,
          31292.134831460677,
          17485.91549295775,
          33333.333333333336,
          5936.802973977695,
          42901.31578947369,
          242278.48101265822,
          591357.356395473,
          21139.289678135407,
          5128.205128205128,
          116290.89506172838,
          21302.32558139535,
          37868.852459016394,
          69802.46913580247,
          45338.95131086142,
          2169.4312796208533,
          67783.50515463918,
          176024.2718446602,
          121583.33333333333,
          66500,
          99200,
          740490.9090909091,
          244866.17375231054,
          106034.63323405139,
          13207.650273224042,
          10043.324937027708,
          157708.65164871042,
          773416.6666666667,
          164568.96551724136,
          657919.3548387096,
          146886.9463869464,
          25928.18903452095,
          24005.492184199407,
          8002.718491526403,
          86434.2314885364,
          238565.96133751306,
          68566.53225806452,
          53370.967741935485,
          120655.51210336122,
          68677.58328627894,
          192920.671955203,
          82287.91377983065,
          32872.75607180571,
          50013.8711054204,
          4363.636363636364,
          2654714.2857142854,
          27196.9696969697,
          14228.197674418605,
          18169.675090252706,
          4238.095238095238,
          6292.763157894737,
          3206.315789473684,
          3973.983253588517,
          4219.437241909152,
          514.4694533762058,
          2193.548387096774,
          1000,
          550,
          null,
          9517.733770783809,
          28595.744680851065,
          6351.614066595828,
          3196.6351053199173,
          17057.749824067556,
          1297.028622244481,
          20319.315769156532,
          10727.17603261833,
          2460.185717807544,
          32629.810159055924,
          3180,
          730.7603648697599,
          35101.796407185626,
          23569.690501600853,
          24042.437294147454,
          58303.030303030304,
          9494.494235904156,
          8058.823529411764,
          5868.001404863097,
          7773.234870317004,
          6666.666666666667,
          22333.333333333332,
          11534.351145038167,
          18714.285714285714,
          7505.882352941176,
          10594.05703330937,
          75470.37037037036,
          34114.17322834646,
          4601.108033240997,
          3386.401644480678,
          18481.727574750832,
          11085.450346420323,
          10388.499298737728
         ],
         "yaxis": "y"
        }
       ],
       "layout": {
        "autosize": true,
        "legend": {
         "tracegroupgap": 0
        },
        "margin": {
         "t": 60
        },
        "template": {
         "data": {
          "bar": [
           {
            "error_x": {
             "color": "#2a3f5f"
            },
            "error_y": {
             "color": "#2a3f5f"
            },
            "marker": {
             "line": {
              "color": "#E5ECF6",
              "width": 0.5
             },
             "pattern": {
              "fillmode": "overlay",
              "size": 10,
              "solidity": 0.2
             }
            },
            "type": "bar"
           }
          ],
          "barpolar": [
           {
            "marker": {
             "line": {
              "color": "#E5ECF6",
              "width": 0.5
             },
             "pattern": {
              "fillmode": "overlay",
              "size": 10,
              "solidity": 0.2
             }
            },
            "type": "barpolar"
           }
          ],
          "carpet": [
           {
            "aaxis": {
             "endlinecolor": "#2a3f5f",
             "gridcolor": "white",
             "linecolor": "white",
             "minorgridcolor": "white",
             "startlinecolor": "#2a3f5f"
            },
            "baxis": {
             "endlinecolor": "#2a3f5f",
             "gridcolor": "white",
             "linecolor": "white",
             "minorgridcolor": "white",
             "startlinecolor": "#2a3f5f"
            },
            "type": "carpet"
           }
          ],
          "choropleth": [
           {
            "colorbar": {
             "outlinewidth": 0,
             "ticks": ""
            },
            "type": "choropleth"
           }
          ],
          "contour": [
           {
            "colorbar": {
             "outlinewidth": 0,
             "ticks": ""
            },
            "colorscale": [
             [
              0,
              "#0d0887"
             ],
             [
              0.1111111111111111,
              "#46039f"
             ],
             [
              0.2222222222222222,
              "#7201a8"
             ],
             [
              0.3333333333333333,
              "#9c179e"
             ],
             [
              0.4444444444444444,
              "#bd3786"
             ],
             [
              0.5555555555555556,
              "#d8576b"
             ],
             [
              0.6666666666666666,
              "#ed7953"
             ],
             [
              0.7777777777777778,
              "#fb9f3a"
             ],
             [
              0.8888888888888888,
              "#fdca26"
             ],
             [
              1,
              "#f0f921"
             ]
            ],
            "type": "contour"
           }
          ],
          "contourcarpet": [
           {
            "colorbar": {
             "outlinewidth": 0,
             "ticks": ""
            },
            "type": "contourcarpet"
           }
          ],
          "heatmap": [
           {
            "colorbar": {
             "outlinewidth": 0,
             "ticks": ""
            },
            "colorscale": [
             [
              0,
              "#0d0887"
             ],
             [
              0.1111111111111111,
              "#46039f"
             ],
             [
              0.2222222222222222,
              "#7201a8"
             ],
             [
              0.3333333333333333,
              "#9c179e"
             ],
             [
              0.4444444444444444,
              "#bd3786"
             ],
             [
              0.5555555555555556,
              "#d8576b"
             ],
             [
              0.6666666666666666,
              "#ed7953"
             ],
             [
              0.7777777777777778,
              "#fb9f3a"
             ],
             [
              0.8888888888888888,
              "#fdca26"
             ],
             [
              1,
              "#f0f921"
             ]
            ],
            "type": "heatmap"
           }
          ],
          "heatmapgl": [
           {
            "colorbar": {
             "outlinewidth": 0,
             "ticks": ""
            },
            "colorscale": [
             [
              0,
              "#0d0887"
             ],
             [
              0.1111111111111111,
              "#46039f"
             ],
             [
              0.2222222222222222,
              "#7201a8"
             ],
             [
              0.3333333333333333,
              "#9c179e"
             ],
             [
              0.4444444444444444,
              "#bd3786"
             ],
             [
              0.5555555555555556,
              "#d8576b"
             ],
             [
              0.6666666666666666,
              "#ed7953"
             ],
             [
              0.7777777777777778,
              "#fb9f3a"
             ],
             [
              0.8888888888888888,
              "#fdca26"
             ],
             [
              1,
              "#f0f921"
             ]
            ],
            "type": "heatmapgl"
           }
          ],
          "histogram": [
           {
            "marker": {
             "pattern": {
              "fillmode": "overlay",
              "size": 10,
              "solidity": 0.2
             }
            },
            "type": "histogram"
           }
          ],
          "histogram2d": [
           {
            "colorbar": {
             "outlinewidth": 0,
             "ticks": ""
            },
            "colorscale": [
             [
              0,
              "#0d0887"
             ],
             [
              0.1111111111111111,
              "#46039f"
             ],
             [
              0.2222222222222222,
              "#7201a8"
             ],
             [
              0.3333333333333333,
              "#9c179e"
             ],
             [
              0.4444444444444444,
              "#bd3786"
             ],
             [
              0.5555555555555556,
              "#d8576b"
             ],
             [
              0.6666666666666666,
              "#ed7953"
             ],
             [
              0.7777777777777778,
              "#fb9f3a"
             ],
             [
              0.8888888888888888,
              "#fdca26"
             ],
             [
              1,
              "#f0f921"
             ]
            ],
            "type": "histogram2d"
           }
          ],
          "histogram2dcontour": [
           {
            "colorbar": {
             "outlinewidth": 0,
             "ticks": ""
            },
            "colorscale": [
             [
              0,
              "#0d0887"
             ],
             [
              0.1111111111111111,
              "#46039f"
             ],
             [
              0.2222222222222222,
              "#7201a8"
             ],
             [
              0.3333333333333333,
              "#9c179e"
             ],
             [
              0.4444444444444444,
              "#bd3786"
             ],
             [
              0.5555555555555556,
              "#d8576b"
             ],
             [
              0.6666666666666666,
              "#ed7953"
             ],
             [
              0.7777777777777778,
              "#fb9f3a"
             ],
             [
              0.8888888888888888,
              "#fdca26"
             ],
             [
              1,
              "#f0f921"
             ]
            ],
            "type": "histogram2dcontour"
           }
          ],
          "mesh3d": [
           {
            "colorbar": {
             "outlinewidth": 0,
             "ticks": ""
            },
            "type": "mesh3d"
           }
          ],
          "parcoords": [
           {
            "line": {
             "colorbar": {
              "outlinewidth": 0,
              "ticks": ""
             }
            },
            "type": "parcoords"
           }
          ],
          "pie": [
           {
            "automargin": true,
            "type": "pie"
           }
          ],
          "scatter": [
           {
            "fillpattern": {
             "fillmode": "overlay",
             "size": 10,
             "solidity": 0.2
            },
            "type": "scatter"
           }
          ],
          "scatter3d": [
           {
            "line": {
             "colorbar": {
              "outlinewidth": 0,
              "ticks": ""
             }
            },
            "marker": {
             "colorbar": {
              "outlinewidth": 0,
              "ticks": ""
             }
            },
            "type": "scatter3d"
           }
          ],
          "scattercarpet": [
           {
            "marker": {
             "colorbar": {
              "outlinewidth": 0,
              "ticks": ""
             }
            },
            "type": "scattercarpet"
           }
          ],
          "scattergeo": [
           {
            "marker": {
             "colorbar": {
              "outlinewidth": 0,
              "ticks": ""
             }
            },
            "type": "scattergeo"
           }
          ],
          "scattergl": [
           {
            "marker": {
             "colorbar": {
              "outlinewidth": 0,
              "ticks": ""
             }
            },
            "type": "scattergl"
           }
          ],
          "scattermapbox": [
           {
            "marker": {
             "colorbar": {
              "outlinewidth": 0,
              "ticks": ""
             }
            },
            "type": "scattermapbox"
           }
          ],
          "scatterpolar": [
           {
            "marker": {
             "colorbar": {
              "outlinewidth": 0,
              "ticks": ""
             }
            },
            "type": "scatterpolar"
           }
          ],
          "scatterpolargl": [
           {
            "marker": {
             "colorbar": {
              "outlinewidth": 0,
              "ticks": ""
             }
            },
            "type": "scatterpolargl"
           }
          ],
          "scatterternary": [
           {
            "marker": {
             "colorbar": {
              "outlinewidth": 0,
              "ticks": ""
             }
            },
            "type": "scatterternary"
           }
          ],
          "surface": [
           {
            "colorbar": {
             "outlinewidth": 0,
             "ticks": ""
            },
            "colorscale": [
             [
              0,
              "#0d0887"
             ],
             [
              0.1111111111111111,
              "#46039f"
             ],
             [
              0.2222222222222222,
              "#7201a8"
             ],
             [
              0.3333333333333333,
              "#9c179e"
             ],
             [
              0.4444444444444444,
              "#bd3786"
             ],
             [
              0.5555555555555556,
              "#d8576b"
             ],
             [
              0.6666666666666666,
              "#ed7953"
             ],
             [
              0.7777777777777778,
              "#fb9f3a"
             ],
             [
              0.8888888888888888,
              "#fdca26"
             ],
             [
              1,
              "#f0f921"
             ]
            ],
            "type": "surface"
           }
          ],
          "table": [
           {
            "cells": {
             "fill": {
              "color": "#EBF0F8"
             },
             "line": {
              "color": "white"
             }
            },
            "header": {
             "fill": {
              "color": "#C8D4E3"
             },
             "line": {
              "color": "white"
             }
            },
            "type": "table"
           }
          ]
         },
         "layout": {
          "annotationdefaults": {
           "arrowcolor": "#2a3f5f",
           "arrowhead": 0,
           "arrowwidth": 1
          },
          "autotypenumbers": "strict",
          "coloraxis": {
           "colorbar": {
            "outlinewidth": 0,
            "ticks": ""
           }
          },
          "colorscale": {
           "diverging": [
            [
             0,
             "#8e0152"
            ],
            [
             0.1,
             "#c51b7d"
            ],
            [
             0.2,
             "#de77ae"
            ],
            [
             0.3,
             "#f1b6da"
            ],
            [
             0.4,
             "#fde0ef"
            ],
            [
             0.5,
             "#f7f7f7"
            ],
            [
             0.6,
             "#e6f5d0"
            ],
            [
             0.7,
             "#b8e186"
            ],
            [
             0.8,
             "#7fbc41"
            ],
            [
             0.9,
             "#4d9221"
            ],
            [
             1,
             "#276419"
            ]
           ],
           "sequential": [
            [
             0,
             "#0d0887"
            ],
            [
             0.1111111111111111,
             "#46039f"
            ],
            [
             0.2222222222222222,
             "#7201a8"
            ],
            [
             0.3333333333333333,
             "#9c179e"
            ],
            [
             0.4444444444444444,
             "#bd3786"
            ],
            [
             0.5555555555555556,
             "#d8576b"
            ],
            [
             0.6666666666666666,
             "#ed7953"
            ],
            [
             0.7777777777777778,
             "#fb9f3a"
            ],
            [
             0.8888888888888888,
             "#fdca26"
            ],
            [
             1,
             "#f0f921"
            ]
           ],
           "sequentialminus": [
            [
             0,
             "#0d0887"
            ],
            [
             0.1111111111111111,
             "#46039f"
            ],
            [
             0.2222222222222222,
             "#7201a8"
            ],
            [
             0.3333333333333333,
             "#9c179e"
            ],
            [
             0.4444444444444444,
             "#bd3786"
            ],
            [
             0.5555555555555556,
             "#d8576b"
            ],
            [
             0.6666666666666666,
             "#ed7953"
            ],
            [
             0.7777777777777778,
             "#fb9f3a"
            ],
            [
             0.8888888888888888,
             "#fdca26"
            ],
            [
             1,
             "#f0f921"
            ]
           ]
          },
          "colorway": [
           "#636efa",
           "#EF553B",
           "#00cc96",
           "#ab63fa",
           "#FFA15A",
           "#19d3f3",
           "#FF6692",
           "#B6E880",
           "#FF97FF",
           "#FECB52"
          ],
          "font": {
           "color": "#2a3f5f"
          },
          "geo": {
           "bgcolor": "white",
           "lakecolor": "white",
           "landcolor": "#E5ECF6",
           "showlakes": true,
           "showland": true,
           "subunitcolor": "white"
          },
          "hoverlabel": {
           "align": "left"
          },
          "hovermode": "closest",
          "mapbox": {
           "style": "light"
          },
          "paper_bgcolor": "white",
          "plot_bgcolor": "#E5ECF6",
          "polar": {
           "angularaxis": {
            "gridcolor": "white",
            "linecolor": "white",
            "ticks": ""
           },
           "bgcolor": "#E5ECF6",
           "radialaxis": {
            "gridcolor": "white",
            "linecolor": "white",
            "ticks": ""
           }
          },
          "scene": {
           "xaxis": {
            "backgroundcolor": "#E5ECF6",
            "gridcolor": "white",
            "gridwidth": 2,
            "linecolor": "white",
            "showbackground": true,
            "ticks": "",
            "zerolinecolor": "white"
           },
           "yaxis": {
            "backgroundcolor": "#E5ECF6",
            "gridcolor": "white",
            "gridwidth": 2,
            "linecolor": "white",
            "showbackground": true,
            "ticks": "",
            "zerolinecolor": "white"
           },
           "zaxis": {
            "backgroundcolor": "#E5ECF6",
            "gridcolor": "white",
            "gridwidth": 2,
            "linecolor": "white",
            "showbackground": true,
            "ticks": "",
            "zerolinecolor": "white"
           }
          },
          "shapedefaults": {
           "line": {
            "color": "#2a3f5f"
           }
          },
          "ternary": {
           "aaxis": {
            "gridcolor": "white",
            "linecolor": "white",
            "ticks": ""
           },
           "baxis": {
            "gridcolor": "white",
            "linecolor": "white",
            "ticks": ""
           },
           "bgcolor": "#E5ECF6",
           "caxis": {
            "gridcolor": "white",
            "linecolor": "white",
            "ticks": ""
           }
          },
          "title": {
           "x": 0.05
          },
          "xaxis": {
           "automargin": true,
           "gridcolor": "white",
           "linecolor": "white",
           "ticks": "",
           "title": {
            "standoff": 15
           },
           "zerolinecolor": "white",
           "zerolinewidth": 2
          },
          "yaxis": {
           "automargin": true,
           "gridcolor": "white",
           "linecolor": "white",
           "ticks": "",
           "title": {
            "standoff": 15
           },
           "zerolinecolor": "white",
           "zerolinewidth": 2
          }
         }
        },
        "xaxis": {
         "anchor": "y",
         "autorange": true,
         "domain": [
          0,
          1
         ],
         "range": [
          -1195081939.16914,
          21413178122.16914
         ],
         "title": {
          "text": "Netweight (kg)"
         },
         "type": "linear"
        },
        "yaxis": {
         "anchor": "x",
         "autorange": true,
         "domain": [
          0,
          1
         ],
         "range": [
          -3363617.6247877195,
          46805619.29337695
         ],
         "title": {
          "text": "usd_per_ton"
         },
         "type": "linear"
        }
       }
      },
      "image/png": "[encoded data removed]",
      "text/html": [
       "<div>                            <div id=\"362f0ccc-9c37-4ff1-a262-221d6fb2355c\" class=\"plotly-graph-div\" style=\"height:525px; width:100%;\"></div>            <script type=\"text/javascript\">                require([\"plotly\"], function(Plotly) {                    window.PLOTLYENV=window.PLOTLYENV || {};                                    if (document.getElementById(\"362f0ccc-9c37-4ff1-a262-221d6fb2355c\")) {                    Plotly.newPlot(                        \"362f0ccc-9c37-4ff1-a262-221d6fb2355c\",                        [{\"customdata\":[[\"Horses, asses, mules and hinnies; live\"],[\"Bovine animals; live\"],[\"Swine; live\"],[\"Sheep and goats; live\"],[\"Poultry; live, fowls of the species Gallus domesticus, ducks, geese, turkeys and guinea fowls\"],[\"Animals; live, n.e.c. in chapter 01\"],[\"Meat of bovine animals; fresh or chilled\"],[\"Meat of bovine animals; frozen\"],[\"Meat of swine; fresh, chilled or frozen\"],[\"Meat of sheep or goats; fresh, chilled or frozen\"],[\"Edible offal of bovine animals, swine, sheep, goats, horses, asses, mules or hinnies; fresh, chilled or frozen\"],[\"Pig fat, free of lean meat, and poultry fat, not rendered or otherwise extracted, fresh, chilled, frozen, salted, in brine, dried or smoked\"],[\"Meat and edible meat offal; salted, in brine, dried or smoked; edible flours and meals of meat or meat offal\"],[\"Fish; fresh or chilled, excluding fish fillets and other fish meat of heading 0304\"],[\"Fish; frozen, excluding fish fillets and other fish meat of heading 0304\"],[\"Fish fillets and other fish meat (whether or not minced); fresh, chilled or frozen\"],[\"Fish, dried, salted or in brine; smoked fish, whether or not cooked before or during the smoking process; flours, meals and pellets of fish, fit for human consumption\"],[\"Crustaceans; in shell or not, live, fresh, chilled, frozen, dried, salted or in brine; smoked, cooked or not before or during smoking; in shell, steamed or boiled, whether or not chilled, frozen, dried, salted or in brine; edible flours, meals, pellets\"],[\"Molluscs; whether in shell or not, live, fresh, chilled, frozen, dried, salted or in brine; smoked molluscs, whether in shell or not, cooked or not before or during the smoking process; flours, meals and pellets of molluscs, fit for human consumption\"],[\"Milk and cream; concentrated or containing added sugar or other sweetening matter\"],[\"Whey and products consisting of natural milk constituents; whether or not containing added sugar or other sweetening matter, not elsewhere specified or included\"],[\"Butter and other fats and oils derived from milk; dairy spreads\"],[\"Cheese and curd\"],[\"Birds' eggs, in shell; fresh, preserved or cooked\"],[\"Birds' eggs, not in shell; egg yolks, fresh, dried, cooked by steaming or boiling in water, moulded, frozen or otherwise preserved, whether or not containing added sugar or other sweetening matter\"],[\"Pigs', hogs' or boars' bristles and hair; and waste thereof\"],[\"Guts, bladders and stomachs of animals (other than fish); whole and pieces thereof, fresh, chilled, frozen, salted, in brine, dried or smoked\"],[\"Coral and similar materials, unworked or simply prepared, shells of molluscs, crustaceans or echinoderms and cuttle-bone, not cut to shape powder and waste thereof\"],[\"Animal products not elsewhere specified or included; dead animals of chapter 1 or 3, unfit for human consumption\"],[\"Bulbs, tubers, tuberous roots, corms, crowns and rhizomes; dormant, in growth or in flower; chicory plants and roots other than roots of heading no. 1212\"],[\"Plants, live; n.e.c. in heading no. 0601, (including their roots) cuttings and slips; mushroom spawn\"],[\"Flowers; cut flowers and flower buds of a kind suitable for bouquets or for ornamental purposes, fresh, dried, dyed, bleached, impregnated or otherwise prepared\"],[\"Foliage, branches and other parts of plants, without flowers or flower buds, and grasses, mosses and lichens; suitable for bouquets or for ornamental purposes, fresh, dried, dyed, bleached, impregnated etc.\"],[\"Onions, shallots, garlic, leeks and other alliaceous vegetables; fresh or chilled\"],[\"Leguminous vegetables; shelled or unshelled, fresh or chilled\"],[\"Vegetables; n.e.c. in chapter 07, fresh or chilled\"],[\"Vegetables (uncooked or cooked by steaming or boiling in water); frozen\"],[\"Vegetables provisionally preserved; (e.g. by sulphur dioxide gas, in brine, in sulphur water or in other preservative solutions), but unsuitable in that state for immediate consumption\"],[\"Vegetables, dried; whole, cut, sliced, broken or in powder, but not further prepared\"],[\"Vegetables, leguminous; shelled, whether or not skinned or split, dried\"],[\"Manioc, arrowroot, salep, Jerusalem artichokes, sweet potatoes and similar roots and tubers with high starch or inulin content; fresh, chilled, frozen or dried, whether or not sliced or in the form of pellets; sago pith\"],[\"Nuts, edible; coconuts, Brazil nuts and cashew nuts, fresh or dried, whether or not shelled or peeled\"],[\"Nuts (excluding coconuts, Brazils and cashew nuts); fresh or dried, whether or not shelled or peeled\"],[\"Bananas, including plantains; fresh or dried\"],[\"Dates, figs, pineapples, avocados, guavas, mangoes and mangosteens; fresh or dried\"],[\"Citrus fruit; fresh or dried\"],[\"Grapes; fresh or dried\"],[\"Melons (including watermelons) and papaws (papayas); fresh\"],[\"Apples, pears and quinces; fresh\"],[\"Apricots, cherries, peaches (including nectarines), plums and sloes, fresh\"],[\"Fruit, fresh; n.e.c. in chapter 08\"],[\"Fruit and nuts; uncooked or cooked by steaming or boiling in water, frozen, whether or not containing added sugar or other sweetening matter\"],[\"Fruit, dried, other than that of heading no. 0801 to 0806; mixtures of nuts or dried fruits of this chapter\"],[\"Peel of citrus fruit or melons (including watermelons); fresh, frozen dried or provisionally preserved in brine, in sulphur water or in other preservative solutions\"],[\"Coffee, whether or not roasted or decaffeinated; husks and skins; coffee substitutes containing coffee in any proportion\"],[\"Tea\"],[\"Mate\"],[\"Pepper of the genus piper; dried or crushed or ground fruits of the genus capsicum or of the genus pimenta\"],[\"Cinnamon and cinnamon-tree flowers\"],[\"Cloves (whole fruit, cloves and stems)\"],[\"Nutmeg, mace and cardamoms\"],[\"Seeds of anise, badian, fennel, coriander, cumin, caraway or juniper\"],[\"Ginger, saffron, tumeric (curcuma), thyme, bay leaves, curry and other spices\"],[\"Wheat and meslin\"],[\"Barley\"],[\"Oats\"],[\"Maize (corn)\"],[\"Rice\"],[\"Buckwheat, millet and canary seeds; other cereals\"],[\"Wheat or meslin flour\"],[\"Cereal flours; other than of wheat or meslin\"],[\"Cereal groats; meal and pellets\"],[\"Cereal grains otherwise worked (e.g. hulled, rolled, flaked, pearled, sliced or kibbled) except rice of heading no. 1006; germ of cereals whole, rolled, flaked or ground\"],[\"Flour, meal, powder, flakes, granules and pellets of potatoes\"],[\"Flour, meal and powder; of the dried leguminous vegetables of heading no. 0713, of sago or of roots or tubers of heading no. 0714 or of the products of chapter 8\"],[\"Malt; whether or not roasted\"],[\"Starches; inulin\"],[\"Wheat gluten; whether or not dried\"],[\"Soya beans, whether or not broken\"],[\"Ground-nuts; not roasted or otherwise cooked, whether or not shelled or broken\"],[\"Oil seeds; linseed, whether or not broken\"],[\"Rape or colza seeds; whether or not broken\"],[\"Sunflower seeds; whether or not broken\"],[\"Oil seeds and oleaginous fruits, n.e.c. in chapter 12; whether or not broken\"],[\"Seeds, fruit and spores; of a kind used for sowing\"],[\"Hop cones, fresh or dried, whether or not ground, powdered or in the form of pellets; lupulin\"],[\"Plants and parts of plants (including seeds and fruits), used primarily in perfumery, pharmacy; for insecticidal, fungicidal or similar purposes, fresh or dried, whether or not crushed or powdered\"],[\"Locust beans, seaweeds and other algae, sugar beet, sugar cane, fresh, chilled, frozen or dried, whether or not ground; fruit stones, kernels and other vegetable products (including unroasted chicory roots) used primarily for human consumption, n.e.c.\"],[\"Swedes, mangolds, fodder roots, hay, lucerne (alfalfa), clover, sainfoin, forage kale, lupines, vetches and similar forage products, whether or not in the form of pellets\"],[\"Lac; natural gums, resins, gum-resins and oleoresins (for example, balsams)\"],[\"Vegetable saps and extracts; pectic substances, pectinates and pectates; agar-agar and other mucilages and thickeners, whether or not modified, derived from vegetable products\"],[\"Vegetable products not elsewhere specified or included\"],[\"Pig fat (including lard) and poultry fat, other than that of heading 0209 or 1503\"],[\"Fats and oils and their fractions of fish or marine mammals; whether or not refined, but not chemically modified\"],[\"Wool grease and fatty substances derived therefrom (including lanolin)\"],[\"Animal fats and oils and their fractions; whether or not refined, but not chemically modified, n.e.c. in chapter 15\"],[\"Soya-bean oil and its fractions; whether or not refined, but not chemically modified\"],[\"Olive oil and its fractions; whether or not refined, but not chemically modified\"],[\"Oils and their fractions n.e.c. in chapter 15, obtained solely from olives, whether or not refined, but not chemically modified, including blends of these oils or fractions with oils or fractions of heading no. 1509\"],[\"Palm oil and its fractions; whether or not refined, but not chemically modified\"],[\"Sun-flower seed, safflower or cotton-seed oil and their fractions; whether or not refined, but not chemically modified\"],[\"Coconut (copra), palm kernel or babassu oil and their fractions; whether or not refined but not chemically modified\"],[\"Rape, colza or mustard oil and their fractions; whether or not refined, but not chemically modified\"],[\"Fixed vegetable fats and oils (including jojoba oil) and their fractions, whether or not refined; but not chemically modified\"],[\"Animal or vegetable fats and oils and their fractions; partly or wholly hydrogenated, inter-esterified, re-esterified or elaidinised, whether or not refined, but not further prepared\"],[\"Margarine; edible mixtures or preparations of animal or vegetable fats or oils or of fractions of different fats or oils of this chapter, other than edible fats or oils of heading no. 1516\"],[\"Animal or vegetable fats, oils, fractions, modified in any way, excluding heading no. 1516; inedible versions of animal or vegetable fats, oils or fractions of this chapter, n.e.c. or included\"],[\"Vegetable waxes (other than triglycerides), beeswax, other insect waxes and spermaceti; whether or not refined or coloured\"],[\"Degras; residues resulting from the treatment of fatty substances or animal or vegetable waxes\"],[\"Sausages and similar products of meat, meat offal or blood; food preparations based on these products\"],[\"Prepared or preserved meat, meat offal or blood\"],[\"Extracts and juices of meat, fish or crustaceans, molluscs or other aquatic invertebrates\"],[\"Prepared or preserved fish; caviar and caviar substitutes prepared from fish eggs\"],[\"Crustaceans, molluscs and other aquatic invertebrates, prepared or preserved\"],[\"Cane or beet sugar and chemically pure sucrose, in solid form\"],[\"Sugars, including lactose, maltose, glucose or fructose in solid form; sugar syrups without added flavouring or colouring matter; artificial honey, whether or not mixed with natural honey; caramel\"],[\"Molasses; resulting from the extraction or refining of sugar\"],[\"Sugar confectionery (including white chocolate), not containing cocoa\"],[\"Cocoa beans; whole or broken, raw or roasted\"],[\"Cocoa; paste; whether or not defatted\"],[\"Cocoa; butter, fat and oil\"],[\"Cocoa; powder, not containing added sugar or other sweetening matter\"],[\"Chocolate and other food preparations containing cocoa\"],[\"Malt extract; flour/groats/meal/starch/malt extract products, no cocoa (or less than 40% by weight) and food preparations of goods of headings 04.01 to 04.04, no cocoa (or less than 5% by weight), weights calculated on a totally defatted basis, n.e.c.\"],[\"Pasta; whether or not cooked or stuffed with meat or other substance, or otherwise prepared, egg spaghetti, macaroni, noodles, lasagne, gnocchi, ravioli, cannelloni; couscous, whether or not prepared\"],[\"Tapioca and substitutes therefor prepared from starch; in the form of flakes, grains, pearls, siftings or similar forms\"],[\"Prepared foods obtained by swelling or roasting cereals or cereal products (e.g. corn flakes); cereals (other than maize (corn)) in grain form or in the form of flakes or other worked grains (not flour and meal), pre-cooked or otherwise prepared, n.e.c.\"],[\"Bread, pastry, cakes, biscuits, other bakers' wares, whether or not containing cocoa; communion wafers, empty cachets suitable for pharmaceutical use, sealing wafers, rice paper and similar products\"],[\"Vegetables, fruit, nuts and other edible parts of plants; prepared or preserved by vinegar or acetic acid\"],[\"Tomatoes; prepared or preserved otherwise than by vinegar or acetic acid\"],[\"Mushrooms and truffles, prepared or preserved other than by vinegar or acetic acid\"],[\"Vegetables preparations n.e.c.; prepared or preserved otherwise than by vinegar or acetic acid, frozen, other than products of heading no. 2006\"],[\"Vegetables preparations n.e.c.; prepared or preserved otherwise than by vinegar or acetic acid, not frozen, other than products of heading no. 2006\"],[\"Vegetables, fruit, nuts, fruit-peel and other parts of plants, preserved by sugar (drained, glace or crystallised)\"],[\"Jams, fruit jellies, marmalades, fruit or nut puree and fruit or nut pastes, being cooked preparations; whether or not containing added sugar or other sweetening matter\"],[\"Fruit, nuts and other edible parts of plants; prepared or preserved in ways n.e.c., whether or not containing added sugar or other sweetening matter or spirit, not elsewhere specified or included\"],[\"Fruit juices (including grape must) and vegetable juices, unfermented, not containing added spirit; whether or not containing added sugar or other sweetening matter\"],[\"Extracts, essences, concentrates of coffee, tea or mate; preparations with a basis of these products or with a basis of coffee, tea or mate; roasted chicory and other roasted coffee substitutes and extracts, essences and concentrates thereof\"],[\"Yeasts (active or inactive); other single-cell micro-organisms, dead (but not including vaccines of heading no. 3002); prepared baking powders\"],[\"Sauces and preparations therefor; mixed condiments and mixed seasonings, mustard flour and meal and prepared mustard\"],[\"Soups and broths and preparations therefor; homogenised composite food preparations\"],[\"Ice cream and other edible ice; whether or not containing cocoa\"],[\"Food preparations not elsewhere specified or included\"],[\"Waters, including natural or artificial mineral waters and aerated waters, not containing added sugar or other sweetening matter nor flavoured; ice and snow\"],[\"Waters, including mineral and aerated waters, containing added sugar or sweetening matter, flavoured; other non-alcoholic beverages, not including fruit or vegetable juices of heading no. 2009\"],[\"Beer made from malt\"],[\"Wine of fresh grapes, including fortified wines; grape must other than that of heading no. 2009\"],[\"Vermouth and other wine of fresh grapes, flavoured with plants or aromatic substances\"],[\"Fermented beverages, n.e.c. in chapter 22; (e.g. cider, perry, mead)\"],[\"Ethyl alcohol, undenatured; of an alcoholic strength by volume of 80% vol. or higher; ethyl alcohol and other spirits, denatured, of any strength\"],[\"Ethyl alcohol, undenatured; of an alcoholic strength by volume of less than 80% volume; spirits, liqueurs and other spirituous beverages\"],[\"Vinegar and substitutes for vinegar obtained from acetic acid\"],[\"Flours, meal and pellets, of meat or meat offal, of fish or of crustaceans, molluscs or other aquatic invertebrates, unfit for human consumption; greaves\"],[\"Bran, sharps and other residues; whether or not in the form of pellets derived from the sifting, milling or other working of cereals or of leguminous plants\"],[\"Residues of starch manufacture, similar residues; beet-pulp, bagasse and other waste of sugar manufacture, brewing or distilling dregs and waste, whether or not in the form of pellets\"],[\"Oil-cake and other solid residues; whether or not ground or in the form of pellets, resulting from the extraction of soya-bean oil\"],[\"Oil-cake and other solid residues; whether or not ground or in the form of pellets, resulting from the extraction of vegetable fats or oils other than those of heading no. 2304 or 2305\"],[\"Vegetable materials and vegetable waste, vegetable residues and bi-products; whether or not in the form of pellets, of a kind used in animal feeding, not elsewhere specified or included\"],[\"Preparations of a kind used in animal feeding\"],[\"Tobacco, unmanufactured; tobacco refuse\"],[\"Manufactured tobacco and manufactured tobacco substitutes n.e.c; homogenised or reconstituted tobacco; tobacco extracts and essences\"],[\"Salt (including table salt and denatured salt); pure sodium chloride whether or not in aqueous solution; sea water\"],[\"Iron pyrites; unroasted\"],[\"Sulphur of all kinds; other than sublimed, precipitated and colloidal sulphur\"],[\"Graphite; natural\"],[\"Sands of all kinds; natural, whether or not coloured, other than metal-bearing sands of chapter 26\"],[\"Quartz; (other than natural sands), quartzite, whether or not roughly trimmed or merely cut, by sawing or otherwise, into blocks or slabs of a rectangular (including square) shape\"],[\"Kaolin and other kaolinic clays; whether or not calcined\"],[\"Clays; (not including expanded clays of heading no. 6806), andalusite kyanite and sillimanite, whether or not calcined; mullite; chamotte or dinas earth\"],[\"Chalk\"],[\"Natural calcium phosphates; natural aluminium calcium phosphates and phosphatic chalk\"],[\"Natural barium sulphate (barytes); natural barium carbonate, (witherite) whether or not calcined, other than barium oxide of heading no. 2816\"],[\"Siliceous fossil meals (e.g. kieselguhr, tripolite and diatomite) and similar siliceous earths; whether or not calcined, of an apparent specific gravity of 1 or less\"],[\"Pumice stone; emery; natural corundum, natural garnet and other natural abrasives, whether or not heat treated\"],[\"Slate, whether or not roughly trimmed or merely cut, by sawing or otherwise, into blocks or slabs of a rectangular (including square) shape\"],[\"Marble, travertine, ecaussine and other calcareous stone; of an apparent specific gravity of less than 2.5, alabaster, whether cut by sawing etc, into blocks, slabs of a rectangular (square) shape\"],[\"Granite, porphyry, basalt, sandstone, other monumental and building stone, whether or not roughly trimmed, cut, by sawing etc, into blocks or slabs of a rectangular (including square) shape\"],[\"Pebbles, gravel, crushed stone for concrete aggregates for road or railway ballast, shingle or flint; macadam of slag, dross etc tarred granules, chippings, powder of stones of heading no. 2515 and 2516\"],[\"Dolomite, whether or not calcined or sintered; including dolomite roughly trimmed, or merely cut by sawing or otherwise into blocks or slabs of rectangular (including square) shape; dolomite ramming mix\"],[\"Natural magnesium carbonate (magnesite); fused magnesia; dead-burned (sintered) magnesia, whether or not containing small quantities of other oxides added before sintering; magnesium oxide, pure or not\"],[\"Gypsum; anhydrite; plasters (consisting of calcined gypsum or calcium sulphate), coloured or not, with or without small quantities of accelerators or retarders\"],[\"Limestone flux; limestone and other calcareous stone, of a kind used for the manufacture of lime or cement\"],[\"Quicklime, slaked lime and hydraulic lime; other than calcium oxide and hydroxide of heading no. 2825\"],[\"Portland cement, aluminous cement (ciment fondu), slag cement, supersulphate cement and similar hydraulic cements, whether or not coloured or in the form of clinkers\"],[\"Asbestos\"],[\"Mica, including splittings; mica waste\"],[\"Natural steatite; whether or not roughly trimmed or merely cut, by sawing or otherwise, into blocks or slabs of a rectangular (including square) shape; talc\"],[\"Natural borates and concentrates thereof (whether or not calcined), but not including borates separated from natural brine; natural boric acid containing not more than 85 % of H3BO3 calculated on the dry weight\"],[\"Feldspar; leucite; nepheline and nepheline syenite; fluorspar\"],[\"Mineral substances not elsewhere specified or included\"],[\"Nickel ores and concentrates\"],[\"Aluminium ores and concentrates\"],[\"Tin ores and concentrates\"],[\"Chromium ores and concentrates\"],[\"Titanium ores and concentrates\"],[\"Niobium, tantalum, vanadium or zirconium ores and concentrates\"],[\"Precious metal ores and concentrates\"],[\"Slag and ash n.e.c. in chapter 26; including seaweed ash (kelp) and ash and residues from the incineration of municipal waste\"],[\"Coal; briquettes, ovoids and similar solid fuels manufactured from coal\"],[\"Peat; (including peat litter), whether or not agglomerated\"],[\"Coke and semi-coke; of coal, lignite or peat, whether or not agglomerated; retort carbon\"],[\"Tar distilled from coal, from lignite, peat and other mineral tars, whether or not dehydrated or partially distilled; including reconstituted tars\"],[\"Oils and other products of the distillation of high temperature coal tar; similar products in which the weight of the aromatic constituents exceeds that of the non-aromatic constituents\"],[\"Pitch and pitch coke; obtained from coal tar or from other mineral tars\"],[\"Petroleum oils and oils obtained from bituminous minerals; crude\"],[\"Petroleum oils and oils from bituminous minerals, not crude; preparations n.e.c, containing by weight 70% or more of petroleum oils or oils from bituminous minerals; these being the basic constituents of the preparations; waste oils\"],[\"Petroleum gases and other gaseous hydrocarbons\"],[\"Petroleum jelly; paraffin wax, micro-crystalline petroleum wax, slack wax, ozokerite, lignite wax, peat wax, other mineral waxes, similar products obtained by synthesis, other processes; coloured or not\"],[\"Petroleum coke, petroleum bitumen; other residues of petroleum oils or oils obtained from bituminous minerals\"],[\"Bitumen and asphalt, natural; bituminous or oil shale and tar sands; asphaltites and asphaltic rocks\"],[\"Bituminous mixtures based on natural asphalt; on natural bitumen, on petroleum bitumen, on mineral tar or on mineral tar pitch (e.g. bituminous mastics, cut-backs)\"],[\"Fluorine, chlorine, bromine and iodine\"],[\"Sulphur; sublimed or precipitated, colloidal sulphur\"],[\"Carbon; carbon blacks and other forms of carbon n.e.c.\"],[\"Hydrogen, rare gases and other non-metals\"],[\"Alkali or alkaline-earth metals; rare-earth metals, scandium and yttrium, whether or not intermixed or interalloyed; mercury\"],[\"Hydrogen chloride (hydrochloric acid); chlorosulphuric acid\"],[\"Sulphuric acid; oleum\"],[\"Nitric acid; sulphonitric acids\"],[\"Diphosphorus pentoxide; phosphoric acid and polyphosphoric acids\"],[\"Oxides of boron; boric acids\"],[\"Inorganic acids and other inorganic oxygen compounds of non-metals; n.e.c. in heading no. 2806 to 2810\"],[\"Halides and halide oxides of non-metals\"],[\"Sulphides of non-metals; commercial phosphorus trisulphide\"],[\"Ammonia; anhydrous or in aqueous solution\"],[\"Sodium hydroxide (caustic soda); potassium hydroxide (caustic potash) peroxides of sodium or potassium\"],[\"Hydroxide and peroxide of magnesium; oxides, hydroxides and peroxides of strontium or barium\"],[\"Zinc; oxide and peroxide\"],[\"Aluminium oxide (including artificial corundum); aluminium hydroxide\"],[\"Chromium oxides and hydroxides\"],[\"Manganese oxides\"],[\"Iron oxides and hydroxides; earth colours containing 70% or more by weight of combined iron evaluated as Fe2o3\"],[\"Cobalt oxides and hydroxides; commercial cobalt oxides\"],[\"Titanium oxides\"],[\"Lead oxides; red lead and orange lead\"],[\"Hydrazine and hydroxylamine and their inorganic salts; other inorganic bases; other metal oxides, hydroxides and peroxides\"],[\"Fluorides; fluorosilicates, fluoroaluminates and other complex fluorine salts\"],[\"Chlorides; chloride oxides and chloride hydroxides; bromides and bromide oxides; iodides and iodide oxides\"],[\"Hypochlorites; commercial calcium hypochlorite; chlorites; hypobromites\"],[\"Chlorates and perchlorates; bromates and perbromates; iodates and periodates\"],[\"Sulphides; polysulphides whether or not chemically defined\"],[\"Dithionites and sulphoxylates\"],[\"Sulphites; thiosulphates\"],[\"Sulphates; alums; peroxosulphates (persulphates)\"],[\"Nitrites; nitrates\"],[\"Phosphinates (hypophosphites), phosphonates (phosphites), and phosphates; and polyphosphates, whether or not chemically defined\"],[\"Carbonates; peroxocarbonates (percarbonates); commercial ammonium carbonate containing ammonium carbamate\"],[\"Cyanides, cyanide oxides and complex cyanides\"],[\"Silicates; commercial alkali metal silicates\"],[\"Borates; peroxoborates (perborates)\"],[\"Salts of oxometallic or peroxometallic acids\"],[\"Salts of inorganic acids or peroxoacids, n.e.c. including aluminosilicates whether or not chemically defined, but excluding azides\"],[\"Colloidal precious metals; inorganic or organic compounds of precious metals, whether or not chemically defined; amalgams of precious metals\"],[\"Radioactive chemical elements and radioactive isotopes (including the fissile or fertile chemical elements and isotopes); and their compounds; mixtures and residues containing these products\"],[\"Isotopes other than those of heading no. 2844; compounds, inorganic or organic, of such isotopes, whether or not chemically defined\"],[\"Compounds, inorganic or organic, of rare-earth metals; of yttrium or of scandium or of mixtures of these metals\"],[\"Hydrogen peroxide; whether or not solidified with urea\"],[\"Carbides, whether or not chemically defined\"],[\"Hydrides, nitrides, azides, silicides and borides, whether or not chemically defined, other than compounds which are also carbides of heading no. 2849\"],[\"Inorganic or organic compounds of mercury, excluding amalgams, whether or not chemically defined\"],[\"Inorganic compounds n.e.c. (including distilled or conductivity water and water of similar purity); liquid air (rare gases removed or not); compressed air; amalgams, other than precious metal amalgams\"],[\"Acyclic hydrocarbons\"],[\"Cyclic hydrocarbons\"],[\"Halogenated derivatives of hydrocarbons\"],[\"Sulphonated, nitrated or nitrosated derivatives of hydrocarbons; whether or not halogenated\"],[\"Acyclic alcohols and their halogenated, sulphonated, nitrated or nitrosated derivatives\"],[\"Alcohols; cyclic, and their halogenated, sulphonated, nitrated or nitrosated derivatives\"],[\"Phenols; monophenols, polyphenols, and phenol-alcohols\"],[\"Phenols or phenol-alcohols; halogenated, sulphonated, nitrated or nitrosated derivatives\"],[\"Ethers, ether-alcohols, ether-phenols, ether-alcohol-phenols, alcohol peroxides, ether peroxides, ketone peroxides (chemically defined or not); halogenated, sulphonated, nitrated, nitrosated derivative\"],[\"Epoxides, epoxyalcohols, epoxyphenols and epoxyethers; with a three-membered ring and their halogenated, sulphonated, nitrated or nitrosated derivatives\"],[\"Acetals and hemiacetals; whether or not with other oxygen function, and their halogenated, sulphonated, nitrated or nitrostated derivatives\"],[\"Aldehydes, whether or not with other oxygen function; cyclic polymers of aldehydes; paraformaldehyde\"],[\"Aldehydes; halogenated, sulphonated, nitrated or nitrosated derivatives of products of heading no. 2912\"],[\"Ketones and quinones; whether or not with other oxygen function, and their halogenated, sulphonated, nitrated or nitrostated derivatives\"],[\"Acids; saturated acyclic monocarboxylic acids and their anhydrides, halides, peroxides and peroxyacids; their halogenated, sulphonated, nitrated or nitrosated derivatives\"],[\"Acids; unsaturated acyclic monocarboxylic, cyclic monocarboxylic, their anhydrides, halides, peroxides and peroxyacids; their halogenated, sulphonated, nitrated or nitrosated derivatives\"],[\"Acids; polycarboxylic acids, their anhydrides, halides, peroxides and peroxy-acids; their halogenated, sulphonated, nitrated or nitrosated derivatives\"],[\"Acids; carboxylic acid with additional oxygen function and their anhydrides, halides, peroxides, peroxyacids; their halogenated, sulphonated, nitrated or nitrosated derivatives\"],[\"Esters; phosphoric, and their salts, including lactophosphates, their halogenated, sulphonated, nitrated or nitrosated derivatives\"],[\"Esters of other inorganic acids of non-metals (other than of hydrogen halides) and their salts, their halogenated, sulphonated, nitrated or nitrosated derivatives\"],[\"Amine-function compounds\"],[\"Oxygen-function amino-compounds\"],[\"Quaternary ammonium salts and hydroxides; lecithins and other phosphoaminolipids, whether or not chemically defined\"],[\"Carboxyamide-function compounds; amide-function compounds of carbonic acid\"],[\"Carboxyimide-function compounds (including saccharin and its salts) and imine-function compounds\"],[\"Nitrile-function compounds\"],[\"Diazo-, azo- or azoxy-compounds\"],[\"Organic derivatives of hydrazine or of hydroxylamine\"],[\"Nitrogen-function compounds, n.e.c. in chapter 29\"],[\"Organo-sulphur compounds\"],[\"Other organo-inorganic compounds\"],[\"Heterocyclic compounds with oxygen hetero-atom(s) only\"],[\"Heterocyclic compounds with nitrogen hetero-atom(s) only\"],[\"Nucleic acids and their salts, whether or not chemically defined; other heterocyclic compounds\"],[\"Sulphonamides\"],[\"Provitamins, vitamins; natural or reproduced by synthesis (including natural concentrates) derivatives thereof used as vitamins, and intermixtures of the fore-going, whether or not in any solvent\"],[\"Hormones, prostaglandins, thromboxanes and leukotrienes, natural or reproduced by synthesis; derivatives and structural analogues thereof, including chain modified polypeptides, used primarily as hormones.\"],[\"Glycosides, natural or reproduced by synthesis, and their salts, ethers, esters and other derivatives\"],[\"Alkaloids, vegetable; natural or reproduced by synthesis, and their salts, ethers, esters and other derivatives\"],[\"Sugars, chemically pure, other than sucrose, lactose, maltose, glucose and fructose; sugar ethers, sugar acetals and sugar esters, and their salts, other than the products of heading 29.37, 29.38, or 29.39\"],[\"Antibiotics\"],[\"Organic compounds; n.e.c. in chapter 29\"],[\"Glands and other organs (extracts, secretions thereof) for organo-therapeutic uses, dried, powdered or not; heparin and its salts; other human or animal substances for therapeutic or prophylactic uses n.e.c.\"],[\"Human blood; animal blood for therapeutic, prophylactic or diagnostic uses; antisera, other blood fractions, immunological products, modified or obtained by biotechnological processes; vaccines, toxins, cultures of micro-organisms (excluding yeasts) etc\"],[\"Medicaments; (not goods of heading no. 3002, 3005 or 3006) of two or more constituents mixed together for therapeutic or prophylactic use not in measured doses or in forms or packings for retail sale\"],[\"Medicaments; (not goods of heading no. 3002, 3005 or 3006) consisting of mixed or unmixed products for therapeutic or prophylactic use, put up in measured doses (incl. those in the form of transdermal admin. systems) or packed for retail sale\"],[\"Wadding, gauze, bandages (dressings, adhesive plasters, poultices), impregnated or coated with pharmaceutical substances or in forms or packings for retail sale, for medical, surgical or veterinary use\"],[\"Pharmaceutical goods\"],[\"Fertilizers; animal or vegetable, whether or not mixed together or chemically treated; fertilizers produced by the mixing or chemical treatment of animal or vegetable products\"],[\"Fertilizers; mineral or chemical, nitrogenous\"],[\"Fertilizers; mineral or chemical, phosphatic\"],[\"Fertilizers; mineral or chemical, potassic\"],[\"Fertilizers; mineral or chemical, containing 2 or 3 of the elements nitrogen, phosphorus, potassium; other fertilisers; goods of chapter 31 in tablets or packages of gross weight not exceeding 10kg\"],[\"Tanning extracts of vegetable origin; tannins and their salts, ethers, esters and other derivatives\"],[\"Tanning substances; synthetic organic or inorganic tanning substances; tanning preparations, whether or not containing natural tanning substances, enzymatic preparations for pre-tanning\"],[\"Colouring matter of vegetable or animal origin (including dyeing extracts, not animal black); whether or not chemically defined; preparations based on colouring matter of vegetable or animal origin\"],[\"Synthetic organic colouring matter and preparations based thereon; synthetic organic products used as fluorescent brightening agents or as luminophores; whether or not chemically defined\"],[\"Colour lakes; preparations based on colour lakes as specified in note 3 to this chapter\"],[\"Colouring matter and preparations thereof n.e.c. in heading no. 3203, 3204, 3205; inorganic products, kind used as luminophores whether or not chemically defined\"],[\"Pigments, prepared; opacifiers, colours, vitrifiable enamels, glazes, engobes (slips), liquid lustres etc as used in the ceramic enamelling or glass industry; glass frit and powder, granules or flakes\"],[\"Paints, varnishes; (enamels and lacquers) based on synthetic polymers or chemically modified natural polymers, dispersed or dissolved in a non-aqueous medium\"],[\"Paints and varnishes (including enamels and lacquers) based on synthetic or chemically modified natural polymers, dispersed or dissolved in an aqueous medium\"],[\"Paints and varnishes (including enamels, lacquers and distempers), excluding those of heading no. 3209, prepared water pigments of a kind used for finishing leather\"],[\"Driers; prepared\"],[\"Pigments (metallic powders and flakes) dispersed in non-aqueous media in liquid or paste form, as used in manufacture of paints (including enamels); stamping foils, dyes etc in forms, packing for retail sale\"],[\"Colours; artists, students, or signboard painters, modifying tints, amusement colours and the like; in tablets, tubes, jars, bottles, pan or in similar forms or packings\"],[\"Glaziers' putty, grafting putty, resin cements, caulking compounds and other mastics; painters' fillings; non-refractory surfacing preparations for facades, indoor walls, floors, ceilings or the like\"],[\"Ink; printing, writing or drawing ink and other inks; whether or not concentrated or solid\"],[\"Oils; essential (concretes, absolutes); concentrates thereof in fats, fixed oils, waxes or the like (obtained by enfleurage or maceration); aqueous distillates, solutions and terpenic by-products thereof; resinoids; extracted oleoresins\"],[\"Odoriferous substances and mixtures (including alcoholic solutions) with a basis of one or more of these substances, of a kind used as raw materials in industry; other preparations based on odoriferous substances, of a kind used for beverage manufacture\"],[\"Perfumes and toilet waters\"],[\"Cosmetic and toilet preparations; beauty, make-up and skin care preparations (excluding medicaments, including sunscreen or sun tan preparations), manicure or pedicure preparations\"],[\"Hair preparations; for use on the hair\"],[\"Oral or dental hygiene preparations; including fixative pastes and powders; yarn used to clean between the teeth (dental floss), in individual retail packages\"],[\"Perfumery, cosmetic or toilet preparations; pre-shave, shaving, after-shave, bath preparations; personal deodorants and depilatories; room deodorisers, perfumed or not with disinfectant properties or not\"],[\"Soap; organic surface-active preparations used as soap, skin washing, in bars, cakes, moulded pieces, shapes, liquid or cream, containing soap or not; for retail, paper, wadding, felt and nonwovens, impregnated, coated or covered with soap or detergent\"],[\"Organic surface-active agents (not soap); surface-active, washing (including auxiliary washing) and cleaning preparations, containing soap or not, excluding those of heading no. 3401\"],[\"Lubricating preparations and those used in oil or grease treatment of textile and similar materials; excluding preparations containing 70% or more (by weight) of petroleum or bituminous mineral oils\"],[\"Waxes; artificial, prepared\"],[\"Polishes, creams, scouring pastes, powders and similar; in any form, (including articles impregnated, coated or covered with such), for furniture, footwear, floors, coachwork, glass or metal\"],[\"Candles, tapers and the like\"],[\"Modelling pastes, including those for children; dental wax, impression compounds, in sets or packings for retail sale or in plates and similar forms; dentistry preparations with plaster base\"],[\"Casein, caseinates and other casein derivatives; casein glues\"],[\"Albumins (including concentrates of two or more whey proteins, containing by weight more than 80% whey proteins, calculated on the dry matter), albuminates and other albumin derivatives\"],[\"Gelatin (including gelatin in rectangular sheets, whether or not surface-worked or coloured) and gelatin derivatives; isinglass; other glues of animal origin, excluding casein glues of heading no. 3501\"],[\"Peptones and their derivatives; other protein substances and their derivatives n.e.c. or included; hide powder, whether or not chromed\"],[\"Dextrins and other modified starches (e.g. pregelatinised or esterified starches); glues based on starches or on dextrins or other modified starches\"],[\"Prepared glues and other prepared adhesives, n.e.c. or included; products suitable for use as glues or adhesives, put up for retail sale as glues or adhesives, not exceeding 1kg net weight\"],[\"Enzymes; prepared enzymes not elsewhere specified or included\"],[\"Explosives; propellent powders\"],[\"Prepared explosives, other than propellent powders\"],[\"Safety fuses; detonating fuses; percussion or detonating caps; igniters; electric detonators\"],[\"Fireworks, signalling flares, rain rockets, fog signals and other pyrotechnic articles\"],[\"Matches; other than pyrotechnic articles of heading no. 3604\"],[\"Ferro-cerium and other pyrophoric alloys in all forms; articles of combustible materials n.e.c. in chapter 36\"],[\"Photographic plates and film in the flat, sensitised, unexposed, of any material other than paper, paperboard or textiles; instant print film in the flat, sensitised, unexposed, whether or not in packs\"],[\"Photographic film in rolls, sensitised, unexposed, of any material other than paper, paperboard or textiles; instant print film in rolls, sensitised, unexposed\"],[\"Photographic paper, paperboard and textiles; sensitised, unexposed\"],[\"Photographic plates, film, paper, paperboard and textiles, exposed but not developed\"],[\"Photographic plates and film; exposed and developed, other than cinematographic film\"],[\"Chemical preparations for photographic uses (other than varnishes, glues, adhesives and similar preparations); unmixed products for photographic uses, put up in measured portions or for retail sale\"],[\"Artificial graphite; colloidal or semi-colloidal graphite; preparations based on graphite or other carbon in the form of pastes, blocks, plates or other semi-manufactures\"],[\"Activated carbon; activated natural mineral products; animal black, including spent animal black\"],[\"Residual lyes from the manufacture of wood pulp, whether or not concentrated, desugared or chemically treated, including lignin sulphonates, but excluding tall oil of heading no. 3803\"],[\"Gum, wood or sulphate turpentine, other terpenic oils; crude dipentene; sulphite turpentine, other crude para-cymene; pine oil containing alpha-terpineol as the main constituent\"],[\"Rosin and resin acids and derivatives thereof; rosin spirit and rosin oils; run gums\"],[\"Wood tar; wood tar oils; wood creosote; wood naphtha; vegetable pitch; brewers' pitch and similar preparations based on rosin, resin acids or on vegetable pitch\"],[\"Insecticides, rodenticides, fungicides, herbicides, anti-sprouting products, plant growth regulators, disinfectants and the like, put up in forms or packings for retail sale or as preparations or articles\"],[\"Finishing agents, dye carriers to accelerate the dyeing, fixing of dyestuffs, other products and preparations, of a kind used in the textile, paper, leather or like industries, n.e.c. or included\"],[\"Metal-pickling preparations; fluxes etc for soldering, brazing; welding powders, pastes of metal and other materials; preparations used as cores or coatings for welding electrodes or rods\"],[\"Anti-knock preparations, oxidation and gum inhibitors, viscosity improvers, anti-corrosive preparations and the like, for mineral oils (including gasoline) or other liquids used for the same purposes\"],[\"Prepared rubber accelerators; compound plasticisers for rubber or plastics, n.e.c. or included; anti-oxidising preparations and other compound stabilisers for rubber or plastics\"],[\"Preparations and charges for fire extinguishers; charged fire-extinguishing grenades\"],[\"Organic composite solvents and thinners, not elsewhere specified or included; prepared paint or varnish removers\"],[\"Reaction initiators, reaction accelerators and catalytic preparations n.e.c. or included\"],[\"Refractory cements, mortars, concretes and similar compositions; other than products of heading no. 3801\"],[\"Mixed alkylbenzenes and mixed alkylnaphthalenes, other than those of heading no. 2707 or 2902\"],[\"Chemical elements doped for use in electronics, in the form of discs, wafers or similar forms; chemical compounds doped for use in electronics\"],[\"Hydraulic brake fluids and other prepared liquids for hydraulic transmission, not containing or containing less than 70% by weight of petroleum oils or oils obtained from bituminous minerals\"],[\"Anti-freezing preparations and prepared de-icing fluids\"],[\"Prepared culture media for the development or maintenance of micro-organisms (including viruses and the like) or of plant, human or animal cells\"],[\"Reagents; diagnostic or laboratory reagents on a backing and prepared diagnostic or laboratory reagents whether or not on a backing, other than those of heading no. 3002 or 3006; certified reference material\"],[\"Industrial monocarboxylic fatty acids; acid oils from refining; industrial fatty alcohols\"],[\"Prepared binders for foundry moulds or cores; chemical products and preparations of the chemical or allied industries (including those consisting of mixtures of natural products), not elsewhere specified or included\"],[\"Residual products of the chemical or allied industries, not elsewhere specified or included; municipal waste; sewage sludge; other residual products.\"],[\"Biodiesel and mixtures thereof; not containing or containing less than 70% by weight of petroleum oils or oils obtained from bituminous minerals\"],[\"Polymers of ethylene, in primary forms\"],[\"Polymers of propylene or of other olefins, in primary forms\"],[\"Polymers of styrene, in primary forms\"],[\"Polymers of vinyl chloride or of other halogenated olefins, in primary forms\"],[\"Polymers of vinyl acetate or of other vinyl esters, in primary forms; other vinyl polymers in primary forms\"],[\"Acrylic polymers in primary forms\"],[\"Polyacetals, other polyethers and epoxide resins, in primary forms; polycarbonates, alkyd resins, polyallyl esters and other polyesters, in primary forms\"],[\"Polyamides in primary forms\"],[\"Amino-resins, phenolic resins and polyurethanes, in primary forms\"],[\"Silicones in primary forms\"],[\"Petroleum resins, coumarone-indene resins, polyterpenes, polysulphides, polysulphones and similar products of chemical synthesis n.e.c. in chapter 39, in primary forms\"],[\"Cellulose and its chemical derivatives, n.e.c. or included, in primary forms\"],[\"Natural polymers (e.g. alginic acid) and modified natural polymers (e.g. hardened proteins, chemical derivatives of natural rubber), n.e.c. or included, in primary forms\"],[\"Ion-exchangers; based on polymers of heading no. 3901 to 3913, in primary forms\"],[\"Waste, parings and scrap, of plastics\"],[\"Monofilament of which any cross-sectional dimension exceeds 1mm, rods, sticks and profile shapes, whether or not surface-worked but not otherwise worked, of plastics\"],[\"Tubes, pipes and hoses and fittings thereof (for example, joints, elbows, flanges), of plastics\"],[\"Floor coverings of plastics, self-adhesive or not, in rolls or tiles; wall or ceiling coverings of plastics, in rolls of a width not less than 45cm\"],[\"Self-adhesive plates, sheets, film, foil, tape, strip and other flat shapes, of plastics, whether or not in rolls\"],[\"Plastics; plates, sheets, film, foil and strip (not self-adhesive); non-cellular and not reinforced, laminated, supported or similarly combined with other materials, n.e.c. in chapter 39\"],[\"Plastic plates, sheets, film, foil and strip n.e.c. in chapter 39\"],[\"Sanitary ware; baths, shower-baths, sinks, wash-basins, bidets, lavatory pans, seats and covers, flushing cisterns and sanitary ware, of plastics\"],[\"Plastic articles for the conveyance or packing of goods; stoppers, lids, caps and other closures of plastics\"],[\"Tableware, kitchenware, other household articles and hygienic or toilet articles, of plastics\"],[\"Plastics; builders' wares n.e.c. or included\"],[\"Articles of plastics and articles of other materials of heading no. 3901 to 3914, n.e.c. in chapter 39\"],[\"Natural rubber, balata, gutta-percha, guayule, chicle and similar gums; in primary forms or in plates, sheets or strip\"],[\"Synthetic rubber and factice derived from oils, in primary forms or in plates, sheets or strip; mixtures of heading no. 4001 and 4002, in primary forms or in plates, sheets or strip\"],[\"Reclaimed rubber in primary forms or in plates, sheets or strip\"],[\"Waste, parings and scrap of rubber (other than hard rubber) and powders and granules obtained therefrom\"],[\"Compounded rubber, unvulcanised, in primary forms or in plates, sheets or strip\"],[\"Unvulcanised rubber in other forms (e.g. rods, tubes and profile shapes) and articles (e.g. discs and rings)\"],[\"Vulcanised rubber thread and cord\"],[\"Plates, sheets, strip, rods and profile shapes, of vulcanised rubber other than hard rubber\"],[\"Tubes, pipes and hoses, of vulcanised rubber (other than hard rubber), with or without their fittings (e.g. joints, elbows, flanges)\"],[\"Conveyor or transmission belts or belting, of vulcanised rubber\"],[\"New pneumatic tyres, of rubber\"],[\"Retreaded or used pneumatic tyres of rubber; solid or cushion tyres, tyre treads and tyre flaps, of rubber\"],[\"Inner tubes, of rubber\"],[\"Hygienic or pharmaceutical articles (including teats), of vulcanised rubber other than hard rubber, with or without fittings of hard rubber\"],[\"Articles of apparel and clothing accessories (including gloves, mittens and mitts), for all purposes, of vulcanised rubber other than hard rubber\"],[\"Articles of vulcanised rubber other than hard rubber, n.e.c. in chapter 40\"],[\"Hard rubber (e.g. ebonite) in all forms, including waste and scrap; articles of hard rubber\"],[\"Tanned or crust hides and skins of bovine (including buffalo) or equine animals, without hair on, whether or not split, but not further prepared\"],[\"Leather further prepared after tanning or crusting, including parchment-dressed leather, of bovine (including buffalo) or equine animals, without hair on, whether or not split, other than leather of heading 41.14\"],[\"Leather further prepared after tanning or crusting, including parchment dressed leather, of sheep or lamb, without wool on, whether or not split, other than leather of heading 41.14\"],[\"Leather further prepared after tanning or crusting, including parchment-dressed leather, of animals (other than ovine), without wool or hair on, whether or not split, other than leather of heading 41.14\"],[\"Chamois (including combination chamois) leather; patent leather and patent laminated leather; metallised leather\"],[\"Composition leather with a basis of leather or leather fibre, in slabs, sheets or strip, in rolls or not; parings and other waste of leather or of composition leather, not suitable for the manufacture of leather articles; leather dust, powder and flour\"],[\"Saddlery and harness for any animal (including traces, leads, knee pads, muzzles, saddle cloths, saddle bags, dog coats and the like) of any material\"],[\"Trunks; suit, camera, jewellery, cutlery cases; travel, tool, similar bags; wholly or mainly covered by leather, composition leather, plastic sheeting, textile materials, vulcanised fibre, paperboard\"],[\"Articles of apparel and clothing accessories, of leather or of composition leather\"],[\"Leather or composition leather articles n.e.c. in chapter 42\"],[\"Articles of gut (other than silk-worm gut), of goldbeater's skin, of bladders or of tendons\"],[\"Tanned or dressed furskins (including heads, tails, paws, other pieces, cuttings), unassembled, or assembled (without addition of other materials), excluding those of heading no. 4303\"],[\"Articles of apparel, clothing accessories and other articles of furskin\"],[\"Artificial fur and articles thereof\"],[\"Fuel wood, in logs, billets, twigs, faggots or similar forms; wood in chip or particles; sawdust and wood waste and scrap, whether or not agglomerated in logs, briquettes, pellets or similar forms\"],[\"Wood charcoal (including shell or nut charcoal), whether or not agglomerated\"],[\"Wood in the rough, whether or not stripped of bark or sapwood, or roughly squared\"],[\"Wood sawn or chipped lengthwise, sliced or peeled, whether or not planed, sanded or end-jointed, of a thickness exceeding 6mm\"],[\"Sheets for veneering (including those obtained by slicing laminated wood), for plywood or for similar laminated wood and other wood, sawn lengthwise, sliced or peeled, planed or not, sanded, spliced or end-jointed, of a thickness not exceeding 6 mm\"],[\"Wood (including strips, friezes for parquet flooring, not assembled), continuously shaped (tongued, grooved, v-jointed, beaded or the like) along any edges, ends or faces, whether or not planed, sanded or end-jointed\"],[\"Particle board, oriented strand board (OSB) and similar board (e.g. waferboard) of wood or other ligneous materials, whether or not agglomerated with resins or other organic binding substances\"],[\"Fibreboard of wood or other ligneous materials, whether or not bonded with resins or other organic substances\"],[\"Plywood, veneered panels and similar laminated wood\"],[\"Densified wood, in blocks, plates, strips or profile shapes\"],[\"Wooden frames; for paintings, photographs, mirrors or similar objects\"],[\"Packing cases, boxes, crates, drums and similar packings, of wood; cable-drums of wood; pallets, box pallets and other load boards, of wood; pallet collars of wood\"],[\"Casks, barrels, vats, tubs and other coopers' products and parts thereof, of wood, including staves\"],[\"Tools, tool bodies, tool handles, broom or brush bodies and handles, of wood; boot or shoe lasts and trees, of wood\"],[\"Builders' joinery and carpentry of wood, including cellular wood panels, assembled flooring panels, shingles and shakes\"],[\"Tableware and kitchenware, of wood\"],[\"Wood marquetry and inlaid wood; caskets and cases for jewellery or cutlery, and similar articles of wood; statuettes and other ornaments of wood; wooden articles of furniture not falling in chapter 94\"],[\"Wooden articles n.e.c. in heading no. 4414 to 4420\"],[\"Natural cork, raw or simply prepared; waste cork; crushed, granulated or ground cork\"],[\"Cork; articles of natural cork\"],[\"Agglomerated cork (with or without a binding substance) and articles of agglomerated cork\"],[\"Plaits and similar products of plaiting materials, assembled into strips or not; plaiting materials, plaits and the like bound together in parallel strands or woven in sheet form, finished articles or not\"],[\"Basketwork, wickerwork and other articles, made directly to shape from plaiting materials or made up from goods of heading no. 4601; articles of loofah\"],[\"Wood pulp, mechanical wood pulp\"],[\"Chemical wood pulp, dissolving grades\"],[\"Chemical wood pulp, soda or sulphate, other than dissolving grades\"],[\"Pulps of fibres derived from recovered (waste and scrap) paper or paperboard or of other fibrous cellulosic material\"],[\"Waste and scrap of paper and paperboard\"],[\"Newsprint, in rolls or sheets\"],[\"Uncoated paper and paperboard, used for writing, printing or other graphics, non perforated punch-cards and punch tape paper, in rolls or rectangular sheets, of any size, other than paper of heading 4801 or 4803; hand-made paper and paperboard\"],[\"Tissue, towel, napkin stock or similar; for household or sanitary uses, cellulose wadding, webs of cellulose fibres, in rolls over 36cm in width or rectangular sheets with one side exceeding 36cm when unfolded\"],[\"Uncoated kraft paper and paperboard, in rolls or sheets, other than that of heading no. 4802 or 4803\"],[\"Uncoated paper and paperboard n.e.c., in rolls or sheets\"],[\"Vegetable parchment, greaseproof papers, tracing papers, glassine and other glazed transparent or translucent papers, in rolls or sheets\"],[\"Composite paper and paperboard, (made by sticking layers together with an adhesive), not surface-coated or impregnated, whether or not internally reinforced, in rolls or sheets\"],[\"Paper and paperboard, corrugated (with or without glued flat surface sheets), creped, crinkled, embossed or perforated, in rolls or sheets other than paper of the kind described in heading 4803\"],[\"Carbon paper, self copy paper, and other copying or transfer papers (including coated or impregnated paper for duplicator stencils or offset plates), whether or not printed, in rolls or sheets\"],[\"Paper and paperboard, coated one or both sides with kaolin (china clay) or inorganic substances, with binder or not, no other coating, surface coloured or not, surface decorated or printed, in rolls or rectangular (including square) sheets, of any size\"],[\"Paper, paperboard, cellulose wadding and webs of cellulose fibres, coated, impregnated, covered, surface-coloured, decorated or printed, rolls or sheets, other than goods of heading no. 4803, 4809, or 4810\"],[\"Filter blocks, slabs and plates of paper pulp\"],[\"Cigarette paper, whether or not cut to size or in the form of booklets or tubes\"],[\"Wallpaper and similar wall coverings; window transparencies of paper\"],[\"Carbon paper, self-copy paper and other copying or transfer papers, (other than those of heading no. 4809), duplicator stencils and offset plates, of paper whether or not put up in boxes\"],[\"Envelopes, letter cards, plain postcards and correspondence cards, of paper, paperboard; boxes, pouches, wallets and writing compendiums, of paper or paperboard containing assortment of paper stationery\"],[\"Toilet paper, width 36cm or less or cut to size/shape; handkerchiefs, tissues, towels, serviettes, bed sheets and similar household or hospital articles, apparel and clothing accessories of paper pulp, paper, cellulose wadding or webs of cellulose fibres\"],[\"Cartons, boxes, cases, bags and the like, of paper, paperboard, cellulose wadding or fibres; box files, letter trays and the like, of paper or paperboard, of a kind used in offices, shops or the like\"],[\"Registers, account books, diaries and similar; albums for samples or collections, of paper or paperboard\"],[\"Paper or paperboard labels of all kinds, whether or not printed\"],[\"Bobbins, spools, cops and similar supports of paper pulp, paper or paperboard (whether or not perforated or hardened)\"],[\"Paper, paperboard, cellulose wadding and webs of cellulose fibres; cut to size or shape, articles of paper pulp, paper and paper-board, cellulose wadding or webs of cellulose fibres, n.e.c. in chapter 48\"],[\"Printed books, brochures, leaflets and similar printed matter, whether or not in single sheets\"],[\"Newspapers, journals and periodicals, whether or not illustrated or containing advertising material\"],[\"Children's picture, drawing or colouring books\"],[\"Music, printed or in manuscript, whether or not bound or illustrated\"],[\"Maps and hydrographic or similar charts of all kinds, including atlases, wall maps, topographical plans and globes, printed\"],[\"Plans and drawings; for architectural, engineering, industrial, commercial, topographical or similar, being originals drawn by hand; hand-written texts; photo- graphic reproductions; their carbon copies\"],[\"Unused postage, revenue or similar stamps of current or new issue in the country in which they have, or will have, a recognised face value; stamp-impressed paper; cheque forms; banknotes, stock, share or bond certificates and the like of similar title\"],[\"Transfers (decalcomanias)\"],[\"Printed or illustrated postcards; printed cards bearing personal greetings, messages or announcements, whether or not illustrated, with or without envelopes or trimmings\"],[\"Calendars of any kind, printed, including calendar blocks\"],[\"Printed matter, n.e.c., including printed pictures and photographs\"],[\"Woven fabrics of silk or of silk waste\"],[\"Wool, not carded or combed\"],[\"Waste of wool or of fine or coarse animal hair, including yarn waste but excluding garnetted stock\"],[\"Wool and fine or coarse animal hair; carded or combed (including combed wool in fragments)\"],[\"Yarn of combed wool, not put up for retail sale\"],[\"Yarn of fine animal hair (carded or combed), not put up for retail sale\"],[\"Yarn of wool or of fine animal hair, put up for retail sale\"],[\"Yarn of coarse animal hair or of horsehair (including gimped horsehair yarn), whether or not put up for retail sale\"],[\"Woven fabrics of carded wool or of carded fine animal hair\"],[\"Woven fabrics of combed wool or of combed fine animal hair\"],[\"Woven fabrics of coarse animal hair or of horsehair\"],[\"Cotton; not carded or combed\"],[\"Cotton waste (including yarn waste and garnetted stock)\"],[\"Cotton, carded or combed\"],[\"Cotton sewing thread, whether or not put up for retail sale\"],[\"Cotton yarn (other than sewing thread), containing 85% or more by weight of cotton, not put up for retail sale\"],[\"Cotton yarn (other than sewing thread), containing less than 85% by weight of cotton, not put up for retail sale\"],[\"Cotton yarn (other than sewing thread), put up for retail sale\"],[\"Woven fabrics of cotton, containing 85% or more by weight of cotton, weighing not more than 200 g/m2\"],[\"Woven fabrics of cotton, containing 85% or more by weight of cotton, weighing more than 200g/m2\"],[\"Woven fabrics of cotton, containing less than 85% by weight of cotton, mixed mainly or solely with man-made fibres, weighing not more than 200 g/m2\"],[\"Woven fabrics of cotton, containing less than 85% by weight of cotton, mixed mainly or solely with man-made fibres, weighing more than 200g/m2\"],[\"Other woven fabrics of cotton, n.e.c. in chapter 52\"],[\"Flax yarn\"],[\"Yarn of jute or of other textile bast fibres of heading no. 5305\"],[\"Yarn of other vegetable textile fibres; paper yarn\"],[\"Woven fabrics of flax\"],[\"Woven fabrics of jute, other textile bast fibres of heading no. 5303\"],[\"Sewing thread of man-made filaments, whether or not put up for retail sale\"],[\"Synthetic filament yarn (other than sewing thread), not put up for retail sale, including synthetic monofilament of less than 67 decitex\"],[\"Artificial filament yarn (other than sewing thread), not put up for retail sale, including artificial monofilament of less than 67 decitex\"],[\"Synthetic monofilament of 67 decitex or more, of which no cross-sectional dimension exceeds 1mm; strip and the like (e.g. artificial straw) of synthetic textile materials of an apparent width not exceeding 5mm\"],[\"Artificial monofilament of 67 decitex or more, no cross-sectional dimension exceeds 1mm; strip and the like (e.g. artificial straw), of artificial textile materials of a width not exceeding 5mm\"],[\"Man-made filament yarn (other than sewing thread), put up for retail sale\"],[\"Woven fabrics of synthetic filament yarn, including woven fabrics obtained from materials of heading no. 5404\"],[\"Woven fabrics of artificial filament yarn including woven fabrics obtained from materials of heading no. 5404\"],[\"Synthetic filament tow\"],[\"Artificial filament tow\"],[\"Synthetic staple fibres, not carded, combed or otherwise processed for spinning\"],[\"Artificial staple fibres, not carded, combed or otherwise processed for spinning\"],[\"Waste (including noils, yarn waste and garnetted stock), of man-made fibres\"],[\"Synthetic staple fibres, carded, combed or otherwise processed for spinning\"],[\"Artificial staple fibres, carded, combed or otherwise processed for spinning\"],[\"Sewing thread of man-made staple fibres, whether or not put up for retail sale\"],[\"Yarn (other than sewing thread) of synthetic staple fibres, not put up for retail sale\"],[\"Yarn (other than sewing thread) of artificial staple fibres, not put up for retail sale\"],[\"Yarn (not sewing thread), of man-made staple fibres, put up for retail sale\"],[\"Woven fabrics of synthetic staple fibres, containing 85% or more by weight of synthetic staple fibres\"],[\"Woven fabrics of synthetic staple fibres, containing less than 85% by weight of such fibres, mixed mainly or solely with cotton, of a weight not exceeding 170g/m2\"],[\"Woven fabrics of synthetic staple fibres, containing less than 85% by weight of such fibres, mixed mainly or solely with cotton, of a weight exceeding 170g/m2\"],[\"Woven fabrics of synthetic staple fibres, n.e.c. in chapter 55\"],[\"Woven fabrics of artificial staple fibres\"],[\"Wadding of textile materials and articles thereof; textile fibres, not exceeding 5 mm in length (flock), textile dust and mill neps\"],[\"Felt; whether or not impregnated, coated, covered or laminated\"],[\"Nonwovens; whether or not impregnated, coated, covered or laminated\"],[\"Rubber thread and cord, textile covered; textile yarn and strip and the like of heading no. 5404, 5405; impregnated, coated, covered or sheathed with rubber or plastics\"],[\"Yarn; metallised, whether or not gimped, of textile yarn, or strip or the like of heading no. 5404 or 5405, combined with metal in the form of thread, strip or powder or covered with metal\"],[\"Yarn and strip and the like of heading no. 5404 or 5405, gimped (other than those of heading no. 5606 and gimped horsehair yarn); chenille yarn (including flock chenille yarn); loop wale-yarn\"],[\"Twine, cordage, ropes and cables, whether or not plaited or braided; whether or not impregnated, coated, covered or sheathed with rubber or plastics\"],[\"Twine, cordage or rope; knotted netting, made up fishing nets and other made up nets, of textile materials\"],[\"Articles of yarn, strip or the like of heading no. 5404 or 5405; twine, cordage, rope or cables n.e.c. or included\"],[\"Carpets and other textile floor coverings; knotted, whether or not made up\"],[\"Carpets and other textile floor coverings; woven, (not tufted or flocked), whether or not made up, including kelem, schumacks, karamanie and similar hand-woven rugs\"],[\"Carpets and other textile floor coverings; tufted, whether or not made up\"],[\"Carpets and other textile floor coverings; of felt, (not tufted or flocked), whether or not made up\"],[\"Carpets and other textile floor coverings; n.e.c. in chapter 57, whether or not made up\"],[\"Fabrics; woven pile and chenille fabrics, other than fabrics of heading no. 5802 or 5806\"],[\"Fabrics; terry towelling and similar woven terry fabrics other than narrow fabrics of heading no. 5806; tufted textile fabrics, excluding products of heading no. 5703\"],[\"Gauze; other than narrow fabrics of heading no. 5806\"],[\"Tulles and other net fabrics; not including woven, knitted or crocheted fabrics; lace in the piece, in strips or in motifs, (other than fabrics of headings 60.02 to 60.06)\"],[\"Tapestries; hand-woven, (Gobelins, Flanders, Aubusson, Beauvais and the like) and needle-worked tapestries (e.g. petit point, cross-stitch) whether or not made up\"],[\"Fabrics; narrow woven, other than goods of heading no. 5807; narrow fabrics consisting of warp without weft assembled by means of an adhesive (bolducs)\"],[\"Labels, badges and similar articles; of textile materials, in the piece, in strips or cut to shape or size, not embroidered\"],[\"Braids in the piece; ornamental trimmings in the piece, without embroidery, other than knitted or crocheted; tassels, pompons and similar articles\"],[\"Fabrics, woven; of metal thread and metallised yarn of heading no. 5605, of a kind used in apparel, as furnishing fabrics or similar purposes; n.e.c. or included\"],[\"Embroidery; in the piece, in strips or in motifs\"],[\"Quilted textile products; in the piece, composed of one or more layers of textile materials assembled with padding by stitching or otherwise (excluding embroidery of heading no. 5810)\"],[\"Textile fabrics, gum or amylaceous substance coated, used for outer book covers and like; tracing cloth, prepared painting canvas; buckram and similar stiffened textile fabrics used for hat foundation\"],[\"Textile fabrics; tyrecord of high tenacity yarn of nylon or other polyamides polyesters or viscose rayon\"],[\"Textile fabrics impregnated, coated, covered or laminated with plastics, other than those of heading no. 5902\"],[\"Linoleum, whether or not cut to shape; floor coverings consisting of a coating or covering applied on a textile backing, whether or not cut to shape\"],[\"Textile wall coverings\"],[\"Textile fabrics, rubberised; other than those of heading no. 5902\"],[\"Textile fabrics; otherwise impregnated, coated or covered; painted canvas being theatrical scenery, studio back-cloths or the like\"],[\"Textile wicks, woven, plaited or knitted; for lamps, stoves, lighters, candles or the like; incandescent gas mantles and tubular knitted gas mantle fabric therefor, whether or not impregnated\"],[\"Textile hose piping and similar textile tubing; with or without lining, armour or accessories of other materials\"],[\"Textiles; transmission or conveyor belts or belting, of textile material, whether or not impregnated, coated, covered or laminated with plastics, or reinforced with metal or other material\"],[\"Textile products and articles for technical uses; specified in note 7 to this chapter\"],[\"Fabrics; pile fabrics, including long pile fabrics and terry fabrics, knitted or crocheted\"],[\"Fabrics; knitted or crocheted, other than those of heading 60.01, of a width not exceeding 30cm, containing by weight 5% or more of elastomeric yarn or rubber thread\"],[\"Fabrics; knitted or crocheted fabrics, other than those of heading 60.01 and 60.02, of a width not exceeding 30 cm,\"],[\"Fabrics; knitted or crocheted fabrics of a width exceeding 30 cm, other than those of heading 60.01, containing by weight 5% or more of elastomeric yarn or rubber thread\"],[\"Fabrics; warp knit (including those made on galloon knitting machines), other than those of headings 60.01 to 60.04\"],[\"Fabrics; knitted or crocheted fabrics, other than those of headings 60.01 to 60.04\"],[\"Coats; men's or boys' overcoats, car-coats, capes, cloaks, anoraks, ski-jackets, wind-cheaters, wind-jackets and similar articles; knitted or crocheted, other than those of heading no. 6103\"],[\"Coats; women's or girls' overcoats, car-coats, capes, cloaks, anoraks, ski-jackets, wind-cheaters, wind-jackets and similar articles, knitted or crocheted, other than those of heading no. 6104\"],[\"Suits, ensembles, jackets, blazers, trousers, bib and brace overalls, breeches, shorts (not swimwear); men's or boys', knitted or crocheted\"],[\"Suits, ensembles, jackets, dresses, skirts, divided skirts, trousers, bib and brace overalls, breeches and shorts (not swimwear), women's or girls', knitted or crocheted\"],[\"Shirts; men's or boys', knitted or crocheted\"],[\"Blouses, shirts and shirt-blouses; women's or girls', knitted or crocheted\"],[\"Underpants, briefs, nightshirts, pyjamas, bathrobes, dressing gowns and similar articles; men's or boys', knitted or crocheted\"],[\"Slips, petticoats, briefs, panties, nightdresses, pyjamas, negligees, bathrobes, dressing gowns and similar articles; women's or girls', knitted or crocheted\"],[\"T-shirts, singlets and other vests; knitted or crocheted\"],[\"Jerseys, pullovers, cardigans, waistcoats and similar articles; knitted or crocheted\"],[\"Garments and clothing accessories, babies'; knitted or crocheted\"],[\"Track suits, ski suits and swimwear; knitted or crocheted\"],[\"Garments; knitted or crocheted, n.e.c. in chapter 61\"],[\"Hosiery; panty hose, tights, stockings, socks and other hosiery, including graduated compression hosiery (for example, stockings for varicose veins) and footwear without applied soles, knitted or crocheted\"],[\"Gloves, mittens and mitts; knitted or crocheted\"],[\"Clothing accessories; made up, knitted or crocheted, knitted or crocheted parts of garments or of clothing accessories\"],[\"Overcoats, car-coats, capes, cloaks, anoraks (including ski-jackets), wind-cheaters, wind-jackets and similar articles, men's or boys', other than those of heading no. 6203 (not knitted or crocheted)\"],[\"Coats; women's or girls' overcoats, carcoats, capes, cloaks, anoraks, ski-jackets, wind-cheaters, wind-jackets and similar articles, other than those of heading no. 6204 (not knitted or crocheted)\"],[\"Suits, ensembles, jackets, blazers, trousers, bib and brace overalls, breeches and shorts (other than swimwear); men's or boys' (not knitted or crocheted)\"],[\"Suits, ensembles, jackets, dresses, skirts, divided skirts, trousers, bib and brace overalls, breeches and shorts (other than swimwear); women's or girls' (not knitted or crocheted)\"],[\"Shirts; men's or boys' (not knitted or crocheted)\"],[\"Blouses, shirts and shirt-blouses; women's or girls' (not knitted or crocheted)\"],[\"Singlets and other vests, underpants, briefs, night-shirts, pyjamas, bathrobes, dressing gowns and similar articles; men's or boys' (not knitted or crocheted)\"],[\"Singlets and other vests, slips, petticoats, briefs, panties, nightdresses, pyjamas, negligees, bathrobes, dressing gowns and similar articles; women's or girls' (not knitted or crocheted)\"],[\"Garments and clothing accessories; babies' (not knitted or crocheted)\"],[\"Garments made up of fabrics of heading no. 5602, 5603, 5903, 5906 or 5907 (not knitted or crocheted)\"],[\"Track suits, swimwear and other garments (not knitted or crocheted)\"],[\"Brassieres, girdles, corsets, braces, suspenders, garters and similar articles and parts thereof; whether or not knitted or crocheted\"],[\"Handkerchiefs (not knitted or crocheted)\"],[\"Shawls, scarves, mufflers, mantillas, veils and the like (not knitted or crocheted)\"],[\"Ties, bow ties and cravats (not knitted or crocheted)\"],[\"Gloves, mittens and mitts (not knitted or crocheted)\"],[\"Clothing accessories n.e.c.; parts of garments or accessories other than those of heading no. 6212 (not knitted or crocheted)\"],[\"Blankets and travelling rugs\"],[\"Bed linen, table linen, toilet linen and kitchen linen\"],[\"Curtains (including drapes) and interior blinds; curtain or bed valances\"],[\"Furnishing articles; excluding those of heading no. 9404\"],[\"Sacks and bags, of a kind used for the packing of goods\"],[\"Tarpaulins, awnings and sunblinds; tents; sails for boats, sailboards or landcraft; camping goods\"],[\"Textiles; made up articles n.e.c. in chapter 63, including dress patterns\"],[\"Rags; used or new, scrap twine, cordage, rope and cables and worn out articles of twine, cordage, rope or cables, of textile materials\"],[\"Footwear; waterproof, with outer soles and uppers of rubber or plastics, (uppers not fixed to the sole nor assembled by stitch, rivet, nail, screw, plug or similar)\"],[\"Footwear; with outer soles and uppers of rubber or plastics (excluding waterproof footwear)\"],[\"Footwear; with outer soles of rubber, plastics, leather or composition leather and uppers of leather\"],[\"Footwear; with outer soles of rubber, plastics, leather or composition leather and uppers of textile materials\"],[\"Footwear; other footwear n.e.c. in chapter 64\"],[\"Footwear; parts of footwear; removable in-soles, heel cushions and similar articles; gaiters, le.g.ings and similar articles, and parts thereof\"],[\"Hat-forms, hat bodies and hoods of felt, neither blocked to shape nor with made brims; plateaux and manchons (including slit manchons) of felt\"],[\"Hat-shapes; plaited or made by assembling strips of any material, neither blocked to shape, nor with made brims, nor lined, nor trimmed\"],[\"Hats and other headgear; plaited or made by assembling strips of any material, whether or not lined or trimmed\"],[\"Hats and other headgear; knitted or crocheted, or made up from lace, felt or other textile fabric, in the piece (but not in strips), whether or not lined or trimmed; hair-nets of any material, whether or not lined or trimmed\"],[\"Headgear; n.e.c. in chapter 65, whether or not lined or trimmed\"],[\"Head-bands, linings, covers, hat foundations, hat frames, peaks and chinstraps, for headgear\"],[\"Umbrellas; sun umbrellas (including walking stick umbrellas, garden umbrellas and similar umbrellas)\"],[\"Walking-sticks, seat-sticks, whips, riding-crops and the like\"],[\"Trimmings, parts and accessories of articles of heading no. 6601 or 6602\"],[\"Skin and other parts of birds with their feather or down; feathers, parts of feather, down and articles thereof (other than goods of heading no. 0505 and worked quills and scapes)\"],[\"Flowers, foliage and fruit, artificial, and parts thereof; articles made of artificial flowers, foliage or fruit\"],[\"Human hair, dressed, thinned, bleached or otherwise worked; wool or other animal hair or other textile materials, prepared for use in making wigs or the like\"],[\"Wigs, false beards, eyebrows and eyelashes, switches and the like, of human or animal hair or of textile materials; articles of human hair, n.e.c. or included\"],[\"Stone; setts, curbstones and flagstones, of natural stone (except slate)\"],[\"Monumental or building stone, worked (except slate) and articles thereof (not of heading no. 6801) mosaic cubes etc., of natural stone including slate; artificially coloured granules of natural stone\"],[\"Slate, worked; and articles of slate or of agglomerated slate\"],[\"Millstones, grindstones, grinding wheels, etc without frameworks, for grinding, sharpening, polishing, etc and parts thereof, natural stone, agglomerated natural or artificial abrasives or of ceramics\"],[\"Abrasive powder or grain; natural or artificial, on a base of textile material, of paper, paperboard or of other material, whether or not cut to shape or sewn or otherwise made up\"],[\"Slag, rock wool and similar mineral wools; exfoliated vermiculite, expanded clays, foamed slag, mixtures and articles of heat, sound insulating or sound-absorbing mineral materials\"],[\"Asphalt or similar material; articles (e.g. petroleum bitumen or coal tar pitch)\"],[\"Panels, boards, tiles, blocks and the like; of vegetable fibre, of straw, shavings, chips, particles, sawdust or other waste, of wood, agglomerated with cement, plaster or other mineral binders\"],[\"Plaster or compositions based on plaster; articles thereof\"],[\"Cement, concrete or artificial stone; whether or not reinforced, articles thereof\"],[\"Asbestos-cement, of cellulose fibre-cement or the like\"],[\"Fabricated asbestos fibres; mixtures with a basis of asbestos or of asbestos and magnesium carbonate; articles of such mixtures or of asbestos (e.g. thread, woven fabric, clothing, footwear), whether or not reinforced, not goods of heading 6811 or 6813\"],[\"Friction material and articles thereof (e.g. sheets, rolls, strips, segments, discs, washers, pads) not mounted; for brakes, clutches or the like, with a basis of asbestos, other mineral substances, or cellulose\"],[\"Mica; worked, articles of, including agglomerated or reconstituted mica; whether or not on a support of paper, paperboard or other materials\"],[\"Stone or other mineral substances; articles thereof (including articles of peat), n.e.c. or included\"],[\"Bricks, blocks, tiles and other ceramic goods of siliceous fossil meals (e.g. kieselguhr, tripolite or diatomite) or of similar siliceous earths\"],[\"Refractory bricks, blocks, tiles and similar refractory ceramic constructional goods; other than those of siliceous fossil meals or similar siliceous earths\"],[\"Ceramic goods; (e.g. retorts, crucibles, muffles, nozzles, plugs, supports cupels, tubes, pipes, sheaths, rods) excluding those of siliceous fossil meals or of similar siliceous earths\"],[\"Ceramic building bricks, floor blocks, support or filler tiles and the like\"],[\"Roofing tiles, chimney-pots, cowls, chimney liners, architectural ornaments and other ceramic constructional goods\"],[\"Ceramic flags and paving, hearth or wall tiles, unglazed; unglazed ceramic mosaic cubes and the like, whether or not on a backing\"],[\"Ceramic flags and paving, hearth or wall tiles, glazed; glazed ceramic mosaic cubes and the like, whether or not on a backing\"],[\"Ceramic ware for laboratory, chemical, other technical uses; ceramic troughs, tubs, similar receptacles used in agriculture; ceramic pots, jars and similar used in the conveyance or packing of goods\"],[\"Ceramic sinks, wash basins, wash basin pedestals, baths, bidets, water closet pans, flushing cisterns, urinals and similar sanitary fixtures\"],[\"Tableware, kitchenware, other household articles and toilet articles; of porcelain or china\"],[\"Ceramic tableware, kitchenware, other household articles and toilet articles; other than of porcelain or china\"],[\"Statuettes and other ornamental ceramic articles\"],[\"Ceramic articles; n.e.c. in chapter 69\"],[\"Glass; cullet and other waste and scrap of glass, glass in the mass\"],[\"Glass in balls (other than microspheres of heading no. 7018), rods or tubes, unworked\"],[\"Glass; cast glass and rolled glass in sheets or profiles, whether or not having an absorbent, reflecting or non-reflecting layer, but not otherwise worked\"],[\"Glass; drawn glass and blown glass, in sheets, whether or not having an absorbent, reflecting or non-reflecting layer, but not otherwise worked\"],[\"Glass; float glass and surface ground or polished glass, in sheets, whether or not having an absorbent, reflecting or non-reflecting layer, but not otherwise worked\"],[\"Glass of heading no. 7003, 7004 or 7005, bent, edge-worked, engraved, drilled, enamelled or otherwise worked, not framed or fitted with other materials\"],[\"Safety glass, consisting of toughened (tempered) or laminated glass\"],[\"Glass; multiple-walled insulating units of glass\"],[\"Glass mirrors; whether or not framed, including rear-view mirrors\"],[\"Carboys, bottles, flasks, jars, pots, phials, ampoules, containers of glass of a kind used for the conveyance or packing of goods; preserving jars of glass; stoppers, lids and other closures of glass\"],[\"Glass envelopes (including bulbs and tubes), open and glass parts thereof, without fittings, for electric lamps, cathode-ray tubes or the like\"],[\"Glassware of a kind used for table, kitchen, toilet, office, indoor decoration or similar purposes (other than of heading no. 7010 or 7018)\"],[\"Signalling glassware and optical elements of glass (other than those of heading no. 7015), not optically worked\"],[\"Clock, watch and similar glasses, glasses for non-corrective or corrective spectacles, curved, bent, hallowed etc, not optically worked; hollow glass spheres and their segments for manufacture\"],[\"Glass; paving blocks, slabs, bricks, tiles etc, of pressed, moulded glass, whether or not wired, glass smallwares for decorative purposes leaded lights and the like; multicellular or foam glass\"],[\"Laboratory, hygienic or pharmaceutical glassware, whether or not graduated or calibrated\"],[\"Glass beads, imitation pearls, precious or semi-precious stones and similar glass smallwares, statuettes and other ornaments of worked glass; glass microspheres not exceeding 1mm in diameter\"],[\"Glass fibres (including glass wool) and articles thereof (e.g. yarn, woven fabrics)\"],[\"Glass; articles n.e.c. in chapter 70\"],[\"Pearls; natural or cultured, whether or not worked or graded but not strung, mounted or set; pearls, natural or cultured, temporarily strung for the convenience of transport\"],[\"Diamonds, whether or not worked, but not mounted or set\"],[\"Precious (excluding diamond) and semi-precious stone; worked, graded, not strung, mounted, set; ungraded precious (excluding diamond) and semi-precious stone, temporarily strung for convenience of transport\"],[\"Synthetic, reconstructed precious, semi-precious stone worked, graded or not, not strung or mounted, set; ungraded synthetic, reconstructed precious, semi-precious stones, temporarily strung for transport\"],[\"Dust and powder of natural or synthetic precious or semi-precious stone\"],[\"Silver (including silver plated with gold or platinum); unwrought or in semi-manufactured forms, or in powder form\"],[\"Base metals clad with silver; not further worked than semi-manufactured\"],[\"Platinum; unwrought or in semi-manufactured forms, or in powder form\"],[\"Waste and scrap of precious metal or of metal clad with precious metal; other waste and scrap containing precious metal compounds, of a kind uses principally for the recovery of precious metal\"],[\"Jewellery articles and parts thereof, of precious metal or of metal clad with precious metal\"],[\"Articles of goldsmiths' or silversmiths' wares and parts thereof, of precious metal or of metal clad with precious metal\"],[\"Articles of precious metal or of metal clad with precious metal\"],[\"Articles of natural or cultured pearls, precious or semi-precious stones (natural, synthetic or reconstructed)\"],[\"Imitation jewellery\"],[\"Coin\"],[\"Pig iron and spiegeleisen in pigs, blocks or other primary forms\"],[\"Ferro-alloys\"],[\"Ferrous waste and scrap; remelting scrap ingots of iron or steel\"],[\"Granules and powders, of pig iron, spiegeleisen, iron or steel\"],[\"Iron and non-alloy steel in ingots or other primary forms (excluding iron of heading no. 7203)\"],[\"Iron or non-alloy steel; semi-finished products thereof\"],[\"Iron or non-alloy steel; flat-rolled products of a width of 600mm or more, hot-rolled, not clad, plated or coated\"],[\"Iron or non-alloy steel; flat-rolled products, width 600mm or more, cold-rolled (cold-reduced), not clad, plated or coated\"],[\"Iron or non-alloy steel; flat-rolled products, width 600mm or more, clad, plated or coated\"],[\"Iron or non-alloy steel; flat-rolled products, width less than 600mm, not clad, plated or coated\"],[\"Iron or non-alloy steel; flat-rolled products, width less than 600mm, clad, plated or coated\"],[\"Iron or non-alloy steel; bars and rods, hot-rolled, in irregularly wound coils\"],[\"Iron or non-alloy steel; bars and rods, not further worked than forged, hot-rolled, hot drawn or hot-extruded, but including those twisted after rolling\"],[\"Iron or non-alloy steel; bars and rods, n.e.c. in chapter 72\"],[\"Iron or non-alloy steel, angles, shapes and sections\"],[\"Wire of iron or non-alloy steel\"],[\"Stainless steel in ingots or other primary forms; semi-finished products of stainless steel\"],[\"Stainless steel; flat-rolled products of width of 600mm or more\"],[\"Stainless steel; flat-rolled products of width less than 600mm\"],[\"Stainless steel bars and rods, angles, shapes and sections\"],[\"Stainless steel wire\"],[\"Alloy steel in ingots or other primary forms, semi-finished products of other alloy steel\"],[\"Alloy steel flat-rolled products, of a width 600mm or more\"],[\"Alloy steel flat-rolled products, of a width of less than 600mm\"],[\"Steel, alloy; bars and rods, hot-rolled, in irregularly wound coils\"],[\"Alloy steel bars, rods, shapes and sections; hollow drill bars and rods, of alloy or non-alloy steel\"],[\"Wire of other alloy steel\"],[\"Iron or steel sheet piling, whether or not drilled, punched or made from assembled elements; welded angles, shapes and sections, of iron or steel\"],[\"Railway or tramway track constructions of iron or steel; rails, check and track rails, switch blades, crossing frogs, point rods, sleepers, fish-plates, chair wedges, sole plates, bedplates, ties and the like\"],[\"Tubes, pipes and hollow profiles, of cast iron\"],[\"Tubes, pipes and hollow profiles, seamless, of iron (other than cast iron) or steel\"],[\"Iron or steel (excluding cast iron); tubes and pipes (e.g. welded, riveted or similarly closed), having circular cross-sections, external diameter of which exceeds 406.4mm, not seamless\"],[\"Iron or steel (excluding cast iron); tubes, pipes and hollow profiles (not seamless), n.e.c. in chapter 73\"],[\"Tube or pipe fittings (e.g. couplings, elbows, sleeves), of iron or steel\"],[\"Structures of iron or steel and parts thereof; plates, rods, angles, shapes, sections, tubes and the like, prepared for use in structures\"],[\"Reservoirs, tanks, vats and similar containers; for any material (excluding compressed or liquefied gas), of iron or steel, capacity exceeding 300l, whether or not lined or heat insulated\"],[\"Tanks, casks, drums, cans, boxes and similar containers, for any material (excluding compressed or liquefied gas), of iron or steel, capacity not exceeding 300l, whether or not lined or heat-insulated\"],[\"Containers for compressed or liquefied gas, of iron or steel\"],[\"Stranded wire, ropes, cables, plaited bands, slings and the like, of iron or steel, not electrically insulated\"],[\"Barbed wire of iron or steel; twisted hoop or single flat wire, barbed or not and loosely twisted double wire, of a kind used for fencing, of iron or steel\"],[\"Cloth (including endless bands), grill, netting and fencing, of iron or steel wire; expanded metal of iron or steel\"],[\"Chain and parts thereof, of iron or steel\"],[\"Anchors, grapnels and parts thereof, of iron or steel\"],[\"Nails, tacks, drawing pins, corrugated nails, staples (not those of heading no. 8305) and the like, of iron or steel, with heads of other material or not, but excluding articles with heads of copper\"],[\"Screws, bolts, nuts, coach screws, screw hooks, rivets, cotters, cotter-pins, washers (including spring washers) and similar articles, of iron or steel\"],[\"Sewing and knitting needles, bodkins, crochet hooks, embroidery stilettos and similar articles, for use in the hand, of iron or steel; safety pins and other pins of iron or steel, not elsewhere specified or included\"],[\"Springs and leaves for springs, of iron or steel\"],[\"Stoves, ranges, grates, cookers (those with subsidiary boilers for central heating), barbecues, braziers, gas-rings, plate warmers and similar non-electric domestic appliances and parts, of iron or steel\"],[\"Radiators for central heating, not electrically heated and parts thereof, of iron or steel; air heaters, hot air distributors not electrically heated, with motor fan or blower\"],[\"Table, kitchen, other household articles and parts, of iron or steel; iron or steel wool; pot scourers and scouring or polishing pads, gloves and the like, of iron or steel\"],[\"Sanitary ware and parts thereof, of iron or steel\"],[\"Iron or steel; cast articles\"],[\"Iron or steel; articles, n.e.c. in chapter 73\"],[\"Copper; unrefined, copper anodes for electrolytic refining\"],[\"Copper; refined and copper alloys, unwrought\"],[\"Copper; waste and scrap\"],[\"Copper; master alloys\"],[\"Copper; powders and flakes\"],[\"Copper; bars, rods and profiles\"],[\"Copper wire\"],[\"Copper plates, sheets and strip; of a thickness exceeding 0.15mm\"],[\"Copper foil (whether or not printed or backed with paper, paperboard, plastics or similar backing materials) of a thickness (excluding any backing) not exceeding 0.15mm\"],[\"Copper tubes and pipes\"],[\"Copper; tube or pipe fittings (e.g. couplings, elbows, sleeves)\"],[\"Copper; stranded wire, cables, plaited bands and the like, not electrically insulated\"],[\"Copper, nails, tacks, drawing pins, staples (not those of heading no. 8305) and the like, of copper or iron or steel with heads of copper; screws bolts, nuts, screws hooks, rivets, cotters, washers\"],[\"Copper; table, kitchen or other household articles and parts thereof; pot scourers, scouring, polishing pads, gloves and the like; sanitary ware and parts thereof\"],[\"Copper; articles thereof n.e.c. in chapter 74\"],[\"Nickel; unwrought\"],[\"Nickel; powders and flakes\"],[\"Nickel; bars, rods, profiles and wire\"],[\"Nickel; plates, sheets, strip and foil\"],[\"Nickel; tubes, pipes and tube or pipe fittings (e.g. couplings, elbows, sleeves)\"],[\"Nickel; articles thereof n.e.c. in chapter 75\"],[\"Aluminium; unwrought\"],[\"Aluminium; waste and scrap\"],[\"Aluminium; powders and flakes\"],[\"Aluminium; bars, rods and profiles\"],[\"Aluminium wire\"],[\"Aluminium; plates, sheets and strip, thickness exceeding 0.2mm\"],[\"Aluminium foil (whether or not printed or backed with paper, paperboard, plastics or similar backing materials) of a thickness (excluding any backing) not exceeding 0.2mm\"],[\"Aluminium; tubes and pipes\"],[\"Aluminium; tube or pipe fittings (e.g. couplings, elbows, sleeves)\"],[\"Aluminium; structures (excluding prefabricated buildings of heading no. 9406) and parts (e.g. bridges and sections, towers, lattice masts, etc) plates, rods, profiles and tubes for structures\"],[\"Aluminium; reservoirs, tanks, vats and the like for material (not compressed or liquefied gas) of capacity over 300l, whether or not lined, heat-insulated, not fitted with mechanical, thermal equipment\"],[\"Aluminium casks, drums, cans, boxes etc (including rigid, collapsible tubular containers), for materials other than compressed, liquefied gas, 300l capacity or less, lined, heat-insulated or not\"],[\"Aluminium; containers for compressed or liquefied gas\"],[\"Aluminium; stranded wire, cables, plaited bands and the like, (not electrically insulated)\"],[\"Aluminium; table, kitchen or other household articles and parts thereof, pot scourers and scouring or polishing pads, gloves and the like, sanitary ware and parts thereof\"],[\"Aluminium; articles n.e.c. in chapter 76\"],[\"Lead; unwrought\"],[\"Lead; plates, sheets, strip and foil, lead powders and flakes\"],[\"Lead; articles n.e.c. in chapter 78\"],[\"Zinc; unwrought\"],[\"Zinc; dust, powders and flakes\"],[\"Zinc; bars, rods, profiles and wire\"],[\"Zinc; plates, sheets, strip and foil\"],[\"Zinc; articles n.e.c. in chapter 79\"],[\"Tin; unwrought\"],[\"Tin; bars, rods, profiles and wire\"],[\"Tin; articles n.e.c. in chapter 80\"],[\"Tungsten (wolfram); articles thereof, including waste and scrap\"],[\"Molybdenum; articles thereof, including waste and scrap\"],[\"Magnesium; articles thereof, including waste and scrap\"],[\"Cobalt; mattes and other intermediate products of cobalt metallurgy, cobalt and articles thereof, including waste and scrap\"],[\"Bismuth; articles thereof, including waste and scrap\"],[\"Cadmium; articles thereof, including waste and scrap\"],[\"Titanium; articles thereof, including waste and scrap\"],[\"Zirconium; articles thereof, including waste and scrap\"],[\"Manganese; articles thereof, including waste and scrap\"],[\"Beryllium, chromium, germanium, vanadium, gallium, hafnium, indium, niobium (columbium), rhenium and thallium; and articles of these metals, including waste and scrap\"],[\"Cermets; articles thereof, including waste and scrap\"],[\"Tools, hand; spades, shovels, mattocks, picks, hoes, forks, rakes; axes, bill hooks etc; secateurs and pruners of any kind; scythes, sickles, hay knives, hedge shears, timber wedges and other tools used in agriculture, horticulture, forestry\"],[\"Tools, hand; saws and blades for saws of all kinds (including slitting, slotting or toothless blades)\"],[\"Tools, hand; files, rasps, pliers (including cutting pliers), pincers, tweezers, metal cutting shears, pipe cutters, bolt croppers, perforating punches and similar\"],[\"Tools, hand; hand-operated spanners and wrenches (including torque meter wrenches but not including tap wrenches), interchangeable spanner sockets, with or without handles\"],[\"Tools, hand; (including glaziers' diamonds) n.e.c.; blow lamps; vices, clamps etc, other than accessories for and parts of, machine tools; anvils; portable forges; hand or pedal operated grinding wheels with frameworks\"],[\"Tools, hand; two or more of heading no. 8202 to 8205, put up in sets for retail sale\"],[\"Tools, interchangeable; for hand tools, whether or not power-operated, or for machine tools (pressing, stamping, punching, drilling etc), including dies for drawing or extruding metal, and rock drilling or earth boring tools\"],[\"Knives and cutting blades, for machines or for mechanical appliances\"],[\"Tools; plates, sticks, tips and the like for tools, unmounted, of sintered metal carbides or cermets\"],[\"Tools; hand-operated mechanical appliances, weighing 10kg or less, used in the preparation, conditioning or serving of food or drink\"],[\"Knives; with cutting blades, serrated or not (including pruning knives), other than knives of heading no. 8208, and blades therefore\"],[\"Razors and razor blades; (including razor blade blanks in strips)\"],[\"Scissors; tailors' shears and similar shears, and blades therefore\"],[\"Cutlery; other articles, (e.g. hair clippers, butchers' or kitchen cleavers, choppers and mincing knives, paper knives), manicure or pedicure sets and instruments (including nail files)\"],[\"Cutlery; spoons, forks, ladles, skimmers, cake-servers, fish-knives, butter knives, sugar tongs and similar kitchen or tableware\"],[\"Padlocks and locks (key, combination, electrically operated) of base metal; clasps and frames with clasps incorporating locks, of base metal, keys for any or the foregoing articles, of base metal\"],[\"Base metal mountings, fittings and similar articles for furniture, doors, staircases, windows, trunks, chests etc, castors with mountings of base metal, automatic door closers of base metal\"],[\"Safes; armoured or reinforced, strong-boxes, doors and safe deposit lockers for strong-rooms, cash or deed boxes and the like, of base metal\"],[\"Office equipment; filing cabinets, card-index cabinets, paper trays and rests, pen trays, office-stamp stands and the like, of base metal, other than office furniture of heading no. 9403\"],[\"Stationery; fittings for loose-leaf binders or files, letter clips, letter corners, paper clips, indexing tags and the like, staples in strips (for offices, upholstery, packaging), of base metal\"],[\"Bells, gongs and the like; non-electric, statuettes, other ornaments, photograph, picture, similar frames, mirrors, of base metal\"],[\"Tubing; flexible, with or without fittings, of base metal\"],[\"Clasps; frames with clasps, buckles, hooks, eyes, eyelets etc used for clothing, footwear, awnings, handbags, travel goods or other articles, tubular, bifurcated rivets, beads, spangles, of base metal\"],[\"Stoppers, caps, lids (including crown corks, screw caps, pouring stoppers); capsules for bottles, threaded bungs, bung covers, seals and other packaging accessories, of base metal\"],[\"Sign plates, name plates, address plates and similar plates, numbers, letters and other symbols, of base metal, excluding those of heading no. 9405\"],[\"Wires, rods, tubes, plates, electrodes of base metal or metal carbides; of a kind used for soldering, brazing, welding; wires and rods for metal spraying\"],[\"Nuclear reactors; fuel elements (cartridges), non-irradiated, for nuclear reactors, machinery and apparatus for isotopic separation\"],[\"Boilers; steam or other vapour generating (other than central heating hot water boilers, capable also of producing low pressure steam), super heated water boilers\"],[\"Central heating boilers; excluding those of heading no. 8402\"],[\"Auxiliary plant for use with boilers of heading no. 8402 or 8403; e.g. economisers, super-heaters, soot removers, gas recoverers), condensers for steam or other vapour power units\"],[\"Generators for producer or water gas with or without their purifiers acetylene gas generators and similar water process gas generators, with or without their purifiers\"],[\"Turbines; steam and other vapour turbines\"],[\"Reciprocating or rotary internal combustion piston engines\"],[\"Compression-ignition internal combustion piston engines (diesel or semi-diesel engines)\"],[\"Parts suitable for use solely or principally with the engines of heading no. 8407 or 8408\"],[\"Turbines; hydraulic water wheels and regulators therefor\"],[\"Turbo-jets, turbo-propellers and other gas turbines\"],[\"Engines and motors; n.e.c. (e.g. reaction engines, hydraulic power engines, pneumatic power engines)\"],[\"Pumps; for liquids, whether or not fitted with measuring device, liquid elevators\"],[\"Air or vacuum pumps, air or other gas compressors and fans; ventilating or recycling hoods incorporating a fan whether or not fitted with filters\"],[\"Air conditioning machines; comprising a motor driven fan and elements for changing the temperature and humidity, including those machines in which the humidity cannot be separately regulated\"],[\"Furnace burners for liquid fuel, for pulverised solid fuel or for gas; mechanical grates, mechanical ash dischargers and similar appliances\"],[\"Furnaces and ovens; industrial or laboratory, including incinerators, non-electric\"],[\"Refrigerators, freezers and other refrigerating or freezing equipment, electric or other; heat pumps other than air conditioning machines of heading no. 8415\"],[\"Machinery, plant (not domestic), or laboratory equipment; electrically heated or not, (excluding items in 85.14) for the treatment of materials by a process involving change of temperature; including instantaneous or non electric storage water heaters\"],[\"Machines; calendering or other rolling machines, for other than metal or glass and cylinders therefor\"],[\"Centrifuges, including centrifugal dryers; filtering or purifying machinery and apparatus for liquids or gases\"],[\"Dish washing machines; machinery for cleaning, drying, filling, closing, sealing, capsuling or labelling bottles, cans, boxes, bags, etc, machinery for aerating beverages\"],[\"Weighing machines; excluding balances of a sensitivity of 5cg or better, including weight operated counting or checking machines and weights of all kinds\"],[\"Mechanical appliances for projecting, dispersing or spraying liquids or powders; fire extinguishers, spray guns, steam, sand blasting machines\"],[\"Pulley tackle and hoists other than skip hoists; winches and capstans; jacks\"],[\"Derricks, cranes, including cable cranes, mobile lifting frames, straddle carriers and works trucks fitted with a crane\"],[\"Fork-lift and other works trucks; fitted with lifting or handling equipment\"],[\"Lifting, handling, loading or unloading machinery; n.e.c. in heading no. 8425, 8426 or 8427 (e.g. lifts, escalators, conveyors, teleferics)\"],[\"Bulldozers, graders, levellers, scrapers, angledozers, mechanical shovels, excavators, shovel loaders, tamping machines and road rollers, self-propelled\"],[\"Moving, grading, levelling, scraping, excavating, tamping, compacting, extracting or boring machinery, for earth, minerals, or ores; pile drivers and extractors; snow ploughs and snow blowers\"],[\"Machinery parts; used solely or principally with the machinery of heading no. 8425 to 8430\"],[\"Agricultural, horticultural or forestry machinery for soil preparation or cultivation; lawn or sports-ground rollers\"],[\"Harvesting and threshing machinery, straw and fodder balers, grass or hay mowers; machines for cleaning, sorting or grading eggs, fruit or other agricultural produce, other than machinery of heading no 8437\"],[\"Milking machines and dairy machinery\"],[\"Presses, crushers and similar machinery; used in the manufacture of wine, cider, fruit juices or similar beverages\"],[\"Agricultural, horticultural, forestry, poultry-keeping, bee-keeping machinery; including germination plant fitted with mechanical or thermal equipment; poultry incubators and brooders\"],[\"Machines for cleaning, sorting, grading seed, grain, dried leguminous vegetables; machinery used in the milling industry for the working of cereals or dried leguminous vegetables, not farm type machinery\"],[\"Machinery n.e.c. in this chapter, for the industrial preparation or manufacture of food or drink; other than machinery for extraction or preparation of animal or fixed vegetable fats or oils\"],[\"Machinery; for making pulp of fibrous cellulosic material, or for making or finishing paper or paperboard\"],[\"Book-binding machinery; including book-sewing machines\"],[\"Machines; for making up paper pulp, paper or paperboard, including cutting machines of all kinds\"],[\"Machinery, apparatus and equipment (excluding machine-tools of heading no. 8456 to 8465) for preparing or making printing components; plates, cylinders and other printing components; lithographic stones prepared for printing purposes\"],[\"Printing machinery; used for printing by means of plates, cylinders and other printing components of heading 84.42; other printers, copying machines and facsimile machines, whether or not combined; parts and accessories thereof\"],[\"Textile machinery; for extruding, drawing, texturing or cutting man-made textile materials\"],[\"Textile machinery; spinning, doubling, twisting machines, textile reeling or winding machines and machines for preparing textile yarns for use on machines of heading no. 8446 and 8447\"],[\"Weaving machines (looms)\"],[\"Knitting machines, stitch-bonding machines and machines for making gimped yarn, tulle, lace, embroidery, trimmings, braid or net and machines for tufting\"],[\"Machinery, auxiliary; for use with machines of heading no. 8444 to 8447 (e.g. dobbies, jacquards, automatic stop motions, shuttle changing mechanisms) parts, accessories for machines of heading no. 8444, 8447\"],[\"Machinery; for manufacture or finishing felt or non-wovens in the piece or in shapes, including machinery for making felt hats, blocks for making hats\"],[\"Household or laundry-type washing machines; including machines which both wash and dry\"],[\"Machinery (not of heading no. 8450) for washing, cleaning, wringing, drying, ironing, pressing, bleaching, dyeing, dressing, finishing, coating or impregnating textile yarn, fabrics or made up articles\"],[\"Sewing machines; other than book-sewing machines of heading no. 8440; furniture, bases and covers specially designed for sewing machines; sewing machine needles\"],[\"Machinery for preparing, tanning or working hides, skins or leather or for making or repairing footwear or other articles of hides, skins or leather, other than sewing machines\"],[\"Converters, ladles, ingot moulds and casting machines; of a kind used metallurgy or in metal foundries\"],[\"Metal-rolling mills and rolls therefor\"],[\"Machine-tools; for working any material by removal of material, by laser or other light or photon beam, ultrasonic, electro-discharge, electro-chemical, electron beam, ionic-beam, or plasma arc processes; water-jet cutting machines\"],[\"Machining centres, unit construction machines (single station) and multi-station transfer machines for working metal\"],[\"Lathes for removing metal\"],[\"Machine-tools; (including way-type unit head machines) for drilling, boring, milling, threading or tapping by removing metal, other than lathes of heading no. 8458\"],[\"Machine-tools; for deburring, sharpening, grinding, honing, lapping, polishing or otherwise finishing metal, sintered metal carbides or cermets by means of grinding stones, abrasives or polishing products\"],[\"Machine-tools; for planing, shaping, slotting, broaching, gear cutting and grinding, finishing, sawing, cutting off and other tools working by removing metal, sintered metal carbides or cermets n.e.c.\"],[\"Machine-tools; (including presses) for working metal by forging, hammering or die-stamping, for bending, folding, straightening, flattening, shearing or punching metal\"],[\"Machine-tools; n.e.c. for working metal, sintered metal carbides or cermets without removing material\"],[\"Machine-tools; for working stone, ceramics, concrete, asbestos-cement or like mineral materials or for cold working glass\"],[\"Machine-tools; (including machines for nailing, stapling, glueing or otherwise assembling) for working wood, cork, bone, hard plastics or rubber or similar hard materials\"],[\"Machine-tools; parts and accessories suitable for use solely or principally with the machines of headings 8456 to 8465, and tool holders for any type of tool for working in the hand\"],[\"Tools; for working in the hand, pneumatic, hydraulic or with self-contained electric or non-electric motor\"],[\"Machinery and apparatus for soldering, brazing, welding, whether or not capable of cutting, other than those of heading no. 8515; gas-operated surface tempering machines and appliances\"],[\"Typewriters (other than printers of heading no. 8443) and word-processing machines\"],[\"Calculating machines and pocket-size data recording, reproducing and displaying machines with calculating functions; accounting machines, postage-franking machines, ticket-issuing machines and similar, incorporating a calculating device; cash registers\"],[\"Automatic data processing machines and units thereof, magnetic or optical readers, machines for transcribing data onto data media in coded form and machines for processing such data, not elsewhere specified or included\"],[\"Office machines; not elsewhere classified\"],[\"Machinery; parts and accessories (not covers, carrying cases and the like) suitable for use solely or principally with machines of heading no. 8469 to 8472\"],[\"Machinery for sorting, screening, separating, washing, crushing, grinding, mixing or kneading earth, stone, ores in solid form, shaping, moulding machinery for solid mineral fuels\"],[\"Machines; for assembling electric or electronic lamps, tubes, valves, flashbulbs, in glass envelopes, machines for manufacturing or hot working glass or glassware\"],[\"Automatic goods-vending machines (e.g. postage stamp, cigarette, food or beverage machines), including money-changing machines\"],[\"Machinery; for working rubber or plastics or for the manufacture of products from these materials, n.e.c. in this chapter\"],[\"Machinery; for preparing or making up tobacco, n.e.c. in this chapter\"],[\"Machinery and mechanical appliances; having individual functions, n.e.c. in this chapter\"],[\"Moulding boxes for metal foundry, moulding patterns, moulds for metals (excluding ingot moulds), metal carbides, glass, mineral materials, rubber or plastics\"],[\"Taps, cocks, valves and similar appliances for pipes, boiler shells, tanks, vats or the like, including pressure-reducing valves and thermostatically controlled valves\"],[\"Ball or roller bearings\"],[\"Transmission shafts (including cam and crank) and cranks; bearing housings and plain shaft bearings; gears and gearing; ball or roller screws; gear boxes and other speed changers; flywheels and pulleys; clutches and shaft couplings\"],[\"Gaskets and similar joints of metal sheeting combined with other material or of two or more layers of metal; sets or assortments of gaskets and similar joints, dissimilar in composition, put up in pouches, envelopes or similar packings; mechanical seals\"],[\"Machines and apparatus of a kind used solely or principally for the manufacture of semiconductor boules or wafers, semiconductor devices, electronic integrated circuits or flat panel displays; machines and apparatus specified in note 9-C to this Chapter\"],[\"Machinery parts; not containing electrical connectors, insulators, coils, contacts or other electrical features, n.e.c. in this chapter\"],[\"Electric motors and generators (excluding generating sets)\"],[\"Electric generating sets and rotary converters\"],[\"Electric motors and generators; parts suitable for use solely or principally with the machines of heading no. 8501 or 8502\"],[\"Electric transformers, static converters (e.g. rectifiers) and inductors\"],[\"Electro-magnets; permanent magnets, intended permanent magnets; electro-magnetic, permanent magnet chucks, clamps, similar; electromagnetic couplings, clutches, brakes; electro-magnetic lifting heads\"],[\"Cells and batteries; primary\"],[\"Electric accumulators, including separators therefor; whether or not rectangular (including square)\"],[\"Vacuum cleaners\"],[\"Electro-mechanical domestic appliances; with self-contained electric motor, other than vacuum cleaners of heading 85.08.\"],[\"Shavers, hair clippers and hair removing appliances, with self-contained electric motor\"],[\"Ignition or starting equipment; used for spark-ignition or compression-ignition internal combustion engines; generators and cut outs used in conjunction with such engines\"],[\"Lighting or visual signalling equipment (excluding articles of heading no. 8539), windscreen wipers, defrosters and demisters; electrical, of a kind used for cycles or motor vehicles\"],[\"Lamps; portable, electric, designed to function by their own source of energy (e.g. dry batteries, accumulators, magnetos), excluding lighting equipment of heading no. 8512\"],[\"Industrial or laboratory electric furnaces and ovens (including those functioning by induction or dielectric loss); other industrial or laboratory equipment for the heat treatment of materials by induction or dielectric loss\"],[\"Electric (electrically heated gas) soldering, brazing, welding machines and apparatus, capable or not of cutting, electric machines and apparatus for hot spraying of metals or sintered carbides\"],[\"Electric water, space, soil heaters; electro-thermic hair-dressing apparatus; hand dryers, irons; electro-thermic appliances for domestic purposes; electro heating resistors, not of heading no. 8545\"],[\"Telephone sets, including telephones for cellular networks or for other wireless networks; other apparatus for the transmission or reception of voice, images or other data (including wired/wireless networks), excluding items of 8443, 8525, 8527, or 8528\"],[\"Microphones and their stands; loudspeakers, mounted or not in their enclosures; headphones and earphones, combined or not with a microphone, and sets of a microphone and one or more loudspeakers; audio frequency and electric sound amplifiers and sets\"],[\"Sound recording or reproducing apparatus\"],[\"Video recording or reproducing apparatus\"],[\"Sound or video recording apparatus; parts and accessories suitable for use solely or principally with the apparatus of heading 8519 or 8521\"],[\"Discs, tapes, solid-state non-volatile storage devices, smart cards and other media for the recording of sound or of other phenomena, whether or not recorded, including matrices and masters for the production of discs, excluding products of Chapter 37\"],[\"Transmission apparatus for radio-broadcasting or television, whether or not incorporating reception apparatus or sound recording or reproducing apparatus; television cameras, digital cameras and video camera recorders\"],[\"Radar apparatus, radio navigational aid apparatus and radio remote control apparatus\"],[\"Reception apparatus for radio-broadcasting, whether or not combined, in the same housing, with sound recording or reproducing apparatus or a clock.\"],[\"Monitors and projectors, not incorporating television reception apparatus; reception apparatus for television, whether or not incorporating radio-broadcast receivers or sound or video recording or reproducing apparatus\"],[\"Transmission apparatus; parts suitable for use solely or principally with the apparatus of heading no. 8525 to 8528\"],[\"Signalling, safety or traffic control equipment; for railways, tramways, roads, inland waterways, parking facilities, port installations, airfields, excluding those of heading no. 8608\"],[\"Signalling apparatus; electric sound or visual (e.g. bells, sirens, indicator panels, burglar or fire alarms), excluding those of heading no. 8512 or 8530\"],[\"Electrical capacitors; fixed, variable or adjustable (pre-set)\"],[\"Electrical resistors (including rheostats and potentiometers), excluding heating resistors\"],[\"Circuits; printed\"],[\"Electrical apparatus for switching, protecting electrical circuits, for making connections to or in electrical circuits; for a voltage exceeding 1000 volts\"],[\"Electrical apparatus for switching, protecting electrical circuits, for making connections to or in electrical circuits, for a voltage not exceeding 1000 volts; connectors for optical fibres, optical fibre bundles or cables\"],[\"Boards, panels, consoles, desks, cabinets, bases with apparatus of heading no. 8535, 8536 for electricity control and distribution, (other than switching apparatus of heading no. 8517)\"],[\"Electrical apparatus; parts suitable for use solely or principally with the apparatus of heading no. 8535, 8536 and 8537\"],[\"Lamps; electric filament or discharge lamps, including sealed beam lamp units and ultra-violet or infra-red lamps, arc-lamps\"],[\"Thermionic, cold cathode or photo-cathode valves and tubes (e.g. vacuum, vapour, gas filled valves and tubes, mercury arc rectifying valves and tubes, cathode-ray and television camera tubes)\"],[\"Diodes, transistors, similar semiconductor devices; including photovoltaic cells assembled or not in modules, panels, light emitting mounted piezo-electric crystals\"],[\"Electronic integrated circuits\"],[\"Electrical machines and apparatus; having individual functions, not specified or included elsewhere in this chapter\"],[\"Insulated wire, cable and other electric conductors, connector fitted or not; optical fibre cables of individually sheathed fibres, whether or not assembled with electric conductors or fitted with connectors\"],[\"Carbon electrodes, carbon brushes, lamp carbons, battery carbons and other articles of graphite or other carbon; with or without metal, of a kind used for electrical purposes\"],[\"Electrical insulators of any material\"],[\"Insulating fittings; for electrical machines, appliances, equipment, excluding insulators of heading no. 8546, electrical conduit tubing and joints therefore\"],[\"Waste and scrap of primary cells, primary batteries and electric accumulators; spent primary cells, spent primary batteries and spent electric accumulators; electrical parts of machinery or apparatus, n.e.c. or included elsewhere in chapter 85\"],[\"Rail locomotives; powered from an external source of electricity or by electric accumulators\"],[\"Rail locomotives; (other than those of heading no. 8601), locomotive tenders\"],[\"Railway or tramway goods vans and wagons; not self-propelled\"],[\"Railway or tramway locomotives or rolling stock; parts thereof\"],[\"Railway or tramway track fixtures and fittings; mechanical (including electro-mechanical) signalling, safety or traffic control equipment for railways, tramways, roads, inland waterways, parking facilities, port installations or airfields; parts thereof\"],[\"Containers; (including containers for transport of fluids) specially designed and equipped for carriage by one or more modes of transport\"],[\"Tractors; (other than tractors of heading no 8709)\"],[\"Vehicles; public transport passenger type\"],[\"Motor cars and other motor vehicles; principally designed for the transport of persons (other than those of heading no. 8702), including station wagons and racing cars\"],[\"Vehicles; for the transport of goods\"],[\"Special purpose motor vehicles; not those for the transport of persons or goods (e.g. breakdown lorries, road sweeper lorries, spraying lorries, mobile workshops, mobile radiological units etc)\"],[\"Chassis; fitted with engines, for the motor vehicles of heading no. 8701 to 8705\"],[\"Bodies; (including cabs) for the motor vehicles of heading no. 8701 to 8705\"],[\"Motor vehicles; parts and accessories, of heading no. 8701 to 8705\"],[\"Works trucks, self-propelled, (not fitted with lifting or handling equipment), for factories, warehouses etc, for short distance transport of goods, tractors used on railway station platforms; parts thereof\"],[\"Motorcycles (including mopeds) and cycles; fitted with an auxiliary motor, with or without side-cars; side-cars\"],[\"Bicycles and other cycles; including delivery tricycles, not motorised\"],[\"Carriages for disabled persons; whether or not motorised or otherwise mechanically propelled\"],[\"Vehicles; parts and accessories of heading no. 8711 to 8713\"],[\"Baby carriages and parts thereof\"],[\"Trailers and semi-trailers; other vehicles, not mechanically propelled; parts thereof\"],[\"Balloons and dirigibles; gliders, hang gliders and other non-powered aircraft.\"],[\"Aircraft n.e.c. in heading no. 8801 (e.g. helicopters, aeroplanes); spacecraft (including satellites) and suborbital and spacecraft launch vehicles\"],[\"Aircraft; parts of heading no. 8801 or 8802\"],[\"Parachutes (including dirigible parachutes and paragliders) and rotochutes; parts thereof and accessories thereto\"],[\"Aircraft launching gear, deck-arrestor or similar gear, ground flying trainers; parts of the foregoing articles\"],[\"Cruise ships, excursion boats, ferry-boats, cargo ships, barges and similar vessels for the transport of persons or goods\"],[\"Fishing vessels, factory ships and other vessels; for processing or preserving fishery products\"],[\"Yachts and other vessels; for pleasure or sports, rowing boats and canoes\"],[\"Tugs and pusher craft\"],[\"Light-vessels, fire-floats, dredgers, floating cranes, other vessels; the navigability of which is subsidiary to main function; floating docks, floating, submersible drilling, production platforms\"],[\"Vessels; other, including warships and lifeboats, other than rowing boats\"],[\"Boats, floating structures, other (for e.g. rafts, tanks, coffer-dams, landing stages, buoys and beacons)\"],[\"Vessels and other floating structures; for breaking up\"],[\"Optical fibres and optical fibre bundles; optical fibre cables not of heading no. 8544; sheets, plates of polarising material; lenses, prisms, mirrors, of any material; unmounted; not non optical glass\"],[\"Lenses, prisms, mirrors and other optical elements, of any material, mounted, being parts or fittings for instruments or apparatus, other than such elements of glass not optically worked\"],[\"Frames and mountings; for spectacles, goggles or the like, and parts\"],[\"Spectacles, goggles and the like; corrective, protective or other\"],[\"Binoculars, monoculars, other optical telescopes, mountings therefore; other astronomical instruments, mountings therefore, but not including instruments for radio-astronomy\"],[\"Cameras, photographic (excluding cinematographic); photographic flashlight apparatus and flashbulbs other than discharge lamps of heading no. 8539\"],[\"Cinematographic cameras and projectors, whether or not incorporating sound recording or reproducing apparatus\"],[\"Image projectors, other than cinematographic; photographic (other than cinematographic) enlargers and reducers\"],[\"Photographic (including cinematographic) laboratory apparatus and equipment, n.e.c. in chapter 90; negatoscopes; projection screens\"],[\"Microscopes, compound optical; including those for photomicrography, cinephotomicrography or microprojection\"],[\"Microscopes (excluding optical microscopes); diffraction apparatus\"],[\"Liquid crystal devices not constituting articles provided for more specifically in other headings; lasers, not laser diodes; other optical appliances and instruments n.e.c. in this chapter\"],[\"Navigational instruments and appliances; direction finding compasses\"],[\"Surveying (including photogrammetrical surveying), hydrographic, oceanographic, hydrological, meteorological or geophysical instruments and appliances, excluding compasses, rangefinders\"],[\"Balances; of a sensitivity of 5cg or better, with or without weights\"],[\"Drawing, marking-out, mathematical calculating instruments (drafting machines, protractors, drawing sets etc); instruments for measuring length (e.g. measuring rods, tapes, micrometers, callipers) n.e.c.\"],[\"Instruments and appliances used in medical, surgical, dental or veterinary sciences, including scintigraphic apparatus, other electro-medical apparatus and sight testing instruments\"],[\"Mechano-therapy, massage appliances; psychological aptitude testing apparatus; ozone, oxygen, aerosol therapy, artificial respiration or other therapeutic respiration apparatus\"],[\"Breathing appliances and gas masks; excluding protective masks having neither mechanical parts nor replaceable filters and excluding apparatus of item no. 9019.20\"],[\"Orthopaedic appliances; including crutches, surgical belts and trusses; splints and other fracture appliances; artificial parts of the body; hearing aids and other which are worn, carried or implanted in the body to compensate for a defect or disability\"],[\"X-ray, alpha, beta, gamma radiation apparatus; x-ray tubes, x-ray generators, high tension generators, control panels and desks, screens, examination or treatment tables, chairs and the like\"],[\"Instruments, apparatus and models, designed for demonstrational purposes (in education or exhibitions), unsuitable for other uses\"],[\"Machines and appliances for testing the hardness, strength, compressibility, elasticity of other mechanical properties of materials (e.g. metals, wood, textiles, paper, plastics)\"],[\"Hydrometers and similar floating instruments, thermometers, pyrometers, barometers, hygrometers and psychrometers, recording or not\"],[\"Instruments, apparatus for measuring or checking the flow, level, pressure of liquids, gases (e.g. flow meters, heat meters etc), not instruments and apparatus of heading no. 9014, 9015, 9028 or 9032\"],[\"Instruments and apparatus; for physical or chemical analysis (e.g. polarimeters, spectrometers), for measuring or checking viscosity, porosity, etc, for measuring quantities of heat, sound or light\"],[\"Gas, liquid or electricity supply or production meters, including calibrating meters therefor\"],[\"Revolution counter, production counters, taximeters, mileometers, pedometers and the like, speed indicators and tachometers, other than those of heading no. 9015, stroboscopes\"],[\"Instruments, apparatus for measuring, checking electrical quantities not meters of heading no. 9028; instruments, apparatus for measuring or detecting alpha, beta, gamma, x-ray, cosmic and other radiations\"],[\"Measuring or checking instruments, appliances and machines, n.e.c. or included in this chapter; profile projectors\"],[\"Regulating or controlling instruments and apparatus; automatic type\"],[\"Machines and appliances, instruments or apparatus of chapter 90; parts and accessories n.e.c. in chapter 90\"],[\"Wrist-watches, pocket-watches, stop-watches and other watches; with case of precious metal or of metal clad with precious metal\"],[\"Wrist-watches, pocket-watches, stop-watches and other watches, other than those of heading no. 9101\"],[\"Clocks; with watch movements, excluding clocks of heading no. 9104\"],[\"Instrument panel clocks and clocks of a similar type for vehicles, aircraft, spacecraft or vessels\"],[\"Clocks, other, n.e.c.\"],[\"Time of day recording apparatus and apparatus for measuring, recording or otherwise indicating intervals of time, with clock, watch movement or synchronous motor\"],[\"Time switches; with clock, watch movement or synchronous motor\"],[\"Watch movements; complete and assembled\"],[\"Clock movements; complete and assembled\"],[\"Watch or clock movements, complete, unassembled or partly assembled (movement sets); incomplete watch or clock movements, assembled; rough watch or clock movements\"],[\"Watch cases and parts thereof\"],[\"Clock cases and cases of a similar type for other goods of this chapter and parts thereof\"],[\"Watch straps, watch bands, watch bracelets and parts thereof\"],[\"Clock or watch parts; n.e.c. in chapter 91\"],[\"Pianos; including automatic pianos, harpsichords and other keyboard stringed instruments\"],[\"Musical instruments; string, n.e.c. in heading no. 9201, (e.g. guitars, violins, harps)\"],[\"Musical instruments; wind (e.g. keyboard pipe organs, accordions, clarinets, trumpets, bagpipes), other than fairground organs and mechanical street organs\"],[\"Musical instruments; percussion (e.g. drums, xylophones, cymbals, castanets, maracas)\"],[\"Musical instruments; the sound of which is produced or must be amplified, electrically (e.g. organs, guitars, accordions)\"],[\"Musical boxes, fairground and mechanical street organs, mechanical singing birds, musical saws and musical instruments n.e.c. in chapter 92; decoy calls of all kinds; whistles; call horns and other mouth-blown sound signalling instruments\"],[\"Musical instrument parts (for example, mechanisms for musical boxes) and accessories (for example, cards, discs and rolls for mechanical instruments); metronomes, tuning forks and pitch pipes\"],[\"Revolvers and pistols; other than those of heading no. 9303 or 9304\"],[\"Firearms; other similar devices (e.g. sporting shotguns and rifles, muzzle-loading firearms, very pistols, devices for firing flares or blank ammunition, captive bolt humane killers, line throwing guns)\"],[\"Firearms; (e.g. spring, air or gas guns and pistols, truncheons), excluding those of heading no. 9307\"],[\"Firearms; parts and accessories of articles of heading no. 9301 to 9304\"],[\"Bombs, grenades, torpedoes, mines, missiles and similar munitions of war and parts thereof; cartridges and other ammunition, projectiles and parts thereof, including shot and cartridge wads\"],[\"Arms; swords, cutlasses, bayonets, lances and the like, parts thereof and scabbards and sheaths therefor\"],[\"Seats (not those of heading no. 9402), whether or not convertible into beds and parts thereof\"],[\"Furniture; medical, surgical, dental or veterinary (e.g. operating tables, hospital beds, dentists' chairs) barbers' chairs; parts\"],[\"Furniture and parts thereof, n.e.c. in chapter 94\"],[\"Mattress supports; articles of bedding (e.g. mattresses, quilts, eiderdowns, cushions pouffes and pillows), fitted with springs or stuffed, whether or not covered\"],[\"Lamps, light fittings; including searchlights, spotlights and parts thereof, n.e.c.; illuminated signs, name-plates and the like, having permanently fixed light source and parts thereof n.e.c. or included\"],[\"Buildings; prefabricated\"],[\"Tricycles, scooters, pedal cars and similar wheeled toys; dolls' carriages; dolls; other toys; reduced-size (scale) models and similar recreational models, working or not; puzzles of all kinds\"],[\"Video game consoles and machines, articles for funfair, table or parlour games, including pintables, billiards, special tables for casino games and automatic bowling alley equipment\"],[\"Festive, carnival or other entertainment articles, including conjuring tricks and novelty jokes\"],[\"Gymnastics, athletics, other sports (including table tennis) or outdoor games equipment, n.e.c. in this chapter, swimming pools and paddling pools\"],[\"Fishing rods, fish-hooks and other line fishing tackle; fish landing nets and the like; decoy birds (not those of heading no. 9208 or 9705) and similar hunting or shooting requisites\"],[\"Roundabouts, swings, shooting galleries, other fairground amusements, travelling circuses, travelling menageries and travelling theatres\"],[\"Vegetable, mineral carving material and articles of these materials, moulded or carved articles of wax, stearin, natural gums, resins or modelling pastes, worked unhardened gelatin (not heading no. 3503)\"],[\"Brooms, brushes (including parts of machines), hand operated floor sweepers, mops and feather dusters; knots and tufts for broom or brush making; paint pads and rollers; squeegees\"],[\"Hand sieves and hand riddles\"],[\"Travel sets; for personal toilet, sewing, shoe or clothes cleaning\"],[\"Buttons, press-fasteners, snap-fasteners and press-studs, button moulds and other parts of these articles; button blanks\"],[\"Slide fasteners and parts thereof\"],[\"Pens; ball-point, felt tipped, other porous tipped pens; fountain pens, stylograph pens duplicating stylos, propelling or sliding pencils; parts of the foregoing, excluding those of heading no. 9609\"],[\"Pencils (not of heading no. 9608), crayons, pencil leads, pastels, drawing charcoals, writing or drawing chalks and tailors' chalks\"],[\"Slates and boards, with writing or drawing surfaces, whether or not framed\"],[\"Stamps; date, numbering, sealing stamps and the like (including devices for printing or embossing labels), designed for operating by hand; hand operated composing sticks and printing sets\"],[\"Typewriter, similar ribbons, inked, otherwise prepared for giving impressions, whether or not on spools or in cartridges; ink pads, whether or not inked, with or without boxes\"],[\"Cigarette lighters and other lighters, whether or not mechanical or electrical and parts thereof other than flints and wicks\"],[\"Smoking pipes (including pipe bowls) and cigar or cigarette holders, and parts thereof\"],[\"Combs, hair-slides and similar; hairpins, curling pins, curling grips and hair curlers and the like, other than those of heading no. 8516 and parts thereof\"],[\"Scent sprays and similar toilet sprays and mounts and heads therefor; powder-puffs and pads for the application of cosmetics or toilet preparations\"],[\"Vacuum flasks and other vacuum vessels, complete with cases; parts thereof other than glass inners\"],[\"Tailors' dummies and other lay figures; automata and other animated displays used for shop window dressing\"],[\"Sanitary towels (pads) and tampons, napkins and napkin liners for babies and similar articles, of any material\"],[\"Paintings, drawings, pastels, executed entirely by hand; not drawings of heading no. 4906 and not hand-painted, hand-decorated manufactured articles; collages and similar decorative plaques\"],[\"Engravings, prints and lithographs; original\"],[\"Sculptures and statuary; original, in any material\"],[\"Stamps, postage or revenue; stamp-postmarks, first-day covers, postal stationery (stamped paper) and like, used or unused, other than those of heading 4907\"],[\"Collections and collectors' pieces; of zoological, botanical, mineralogical, anatomical, historical, archaeological, palaeontological, ethnographic or numismatic interest\"],[\"Horses, asses, mules and hinnies; live\"],[\"Poultry; live, fowls of the species Gallus domesticus, ducks, geese, turkeys and guinea fowls\"],[\"Animals; live, n.e.c. in chapter 01\"],[\"Meat and edible meat offal, n.e.c. in chapter 2; fresh, chilled or frozen\"],[\"Fish; live\"],[\"Fish; fresh or chilled, excluding fish fillets and other fish meat of heading 0304\"],[\"Fish; frozen, excluding fish fillets and other fish meat of heading 0304\"],[\"Fish fillets and other fish meat (whether or not minced); fresh, chilled or frozen\"],[\"Fish, dried, salted or in brine; smoked fish, whether or not cooked before or during the smoking process; flours, meals and pellets of fish, fit for human consumption\"],[\"Crustaceans; in shell or not, live, fresh, chilled, frozen, dried, salted or in brine; smoked, cooked or not before or during smoking; in shell, steamed or boiled, whether or not chilled, frozen, dried, salted or in brine; edible flours, meals, pellets\"],[\"Molluscs; whether in shell or not, live, fresh, chilled, frozen, dried, salted or in brine; smoked molluscs, whether in shell or not, cooked or not before or during the smoking process; flours, meals and pellets of molluscs, fit for human consumption\"],[\"Aquatic invertebrates, other than crustaceans and molluscs; live, fresh, chilled, frozen, dried, salted or in brine, smoked, whether or not cooked before or during the smoking process; flours, meals, and pellets, fit for human consumption\"],[\"Milk and cream; not concentrated, not containing added sugar or other sweetening matter\"],[\"Milk and cream; concentrated or containing added sugar or other sweetening matter\"],[\"Buttermilk, curdled milk and cream, yoghurt, kephir, fermented or acidified milk or cream, whether or not concentrated, containing added sugar, sweetening matter, flavoured or added fruit or cocoa\"],[\"Butter and other fats and oils derived from milk; dairy spreads\"],[\"Cheese and curd\"],[\"Honey; natural\"],[\"Bones and horn-cores, unworked, defatted, simply prepared (but not cut to shape), treated with acid or degelatinised; powder and waste of these products\"],[\"Ambergris, castoreum, civet and musk; cantharides; bile, dried or not glands, other animal products used in preparation of pharmaceutical products, fresh chilled, frozen or otherwise provisionally preserved\"],[\"Animal products not elsewhere specified or included; dead animals of chapter 1 or 3, unfit for human consumption\"],[\"Bulbs, tubers, tuberous roots, corms, crowns and rhizomes; dormant, in growth or in flower; chicory plants and roots other than roots of heading no. 1212\"],[\"Plants, live; n.e.c. in heading no. 0601, (including their roots) cuttings and slips; mushroom spawn\"],[\"Flowers; cut flowers and flower buds of a kind suitable for bouquets or for ornamental purposes, fresh, dried, dyed, bleached, impregnated or otherwise prepared\"],[\"Foliage, branches and other parts of plants, without flowers or flower buds, and grasses, mosses and lichens; suitable for bouquets or for ornamental purposes, fresh, dried, dyed, bleached, impregnated etc.\"],[\"Potatoes; fresh or chilled\"],[\"Onions, shallots, garlic, leeks and other alliaceous vegetables; fresh or chilled\"],[\"Cabbages, cauliflowers, kohlrabi, kale and similar edible brassicas; fresh or chilled\"],[\"Carrots, turnips, salad beetroot, salsify, celeriac, radishes and similar edible roots; fresh or chilled\"],[\"Cucumbers and gherkins; fresh or chilled\"],[\"Leguminous vegetables; shelled or unshelled, fresh or chilled\"],[\"Vegetables; n.e.c. in chapter 07, fresh or chilled\"],[\"Vegetables (uncooked or cooked by steaming or boiling in water); frozen\"],[\"Vegetables provisionally preserved; (e.g. by sulphur dioxide gas, in brine, in sulphur water or in other preservative solutions), but unsuitable in that state for immediate consumption\"],[\"Vegetables, dried; whole, cut, sliced, broken or in powder, but not further prepared\"],[\"Vegetables, leguminous; shelled, whether or not skinned or split, dried\"],[\"Manioc, arrowroot, salep, Jerusalem artichokes, sweet potatoes and similar roots and tubers with high starch or inulin content; fresh, chilled, frozen or dried, whether or not sliced or in the form of pellets; sago pith\"],[\"Nuts, edible; coconuts, Brazil nuts and cashew nuts, fresh or dried, whether or not shelled or peeled\"],[\"Bananas, including plantains; fresh or dried\"],[\"Dates, figs, pineapples, avocados, guavas, mangoes and mangosteens; fresh or dried\"],[\"Citrus fruit; fresh or dried\"],[\"Grapes; fresh or dried\"],[\"Melons (including watermelons) and papaws (papayas); fresh\"],[\"Apricots, cherries, peaches (including nectarines), plums and sloes, fresh\"],[\"Fruit, fresh; n.e.c. in chapter 08\"],[\"Fruit and nuts; uncooked or cooked by steaming or boiling in water, frozen, whether or not containing added sugar or other sweetening matter\"],[\"Fruit and nuts provisionally preserved; e.g. by sulphur dioxide gas, brine, in sulphur water or in other preservative solutions, but unsuitable in that state for immediate consumption\"],[\"Fruit, dried, other than that of heading no. 0801 to 0806; mixtures of nuts or dried fruits of this chapter\"],[\"Peel of citrus fruit or melons (including watermelons); fresh, frozen dried or provisionally preserved in brine, in sulphur water or in other preservative solutions\"],[\"Coffee, whether or not roasted or decaffeinated; husks and skins; coffee substitutes containing coffee in any proportion\"],[\"Tea\"],[\"Mate\"],[\"Pepper of the genus piper; dried or crushed or ground fruits of the genus capsicum or of the genus pimenta\"],[\"Vanilla\"],[\"Cinnamon and cinnamon-tree flowers\"],[\"Nutmeg, mace and cardamoms\"],[\"Seeds of anise, badian, fennel, coriander, cumin, caraway or juniper\"],[\"Ginger, saffron, tumeric (curcuma), thyme, bay leaves, curry and other spices\"],[\"Barley\"],[\"Oats\"],[\"Maize (corn)\"],[\"Rice\"],[\"Buckwheat, millet and canary seeds; other cereals\"],[\"Wheat or meslin flour\"],[\"Cereal flours; other than of wheat or meslin\"],[\"Cereal groats; meal and pellets\"],[\"Cereal grains otherwise worked (e.g. hulled, rolled, flaked, pearled, sliced or kibbled) except rice of heading no. 1006; germ of cereals whole, rolled, flaked or ground\"],[\"Flour, meal, powder, flakes, granules and pellets of potatoes\"],[\"Flour, meal and powder; of the dried leguminous vegetables of heading no. 0713, of sago or of roots or tubers of heading no. 0714 or of the products of chapter 8\"],[\"Starches; inulin\"],[\"Wheat gluten; whether or not dried\"],[\"Ground-nuts; not roasted or otherwise cooked, whether or not shelled or broken\"],[\"Oil seeds; linseed, whether or not broken\"],[\"Oil seeds and oleaginous fruits, n.e.c. in chapter 12; whether or not broken\"],[\"Seeds, fruit and spores; of a kind used for sowing\"],[\"Hop cones, fresh or dried, whether or not ground, powdered or in the form of pellets; lupulin\"],[\"Plants and parts of plants (including seeds and fruits), used primarily in perfumery, pharmacy; for insecticidal, fungicidal or similar purposes, fresh or dried, whether or not crushed or powdered\"],[\"Locust beans, seaweeds and other algae, sugar beet, sugar cane, fresh, chilled, frozen or dried, whether or not ground; fruit stones, kernels and other vegetable products (including unroasted chicory roots) used primarily for human consumption, n.e.c.\"],[\"Swedes, mangolds, fodder roots, hay, lucerne (alfalfa), clover, sainfoin, forage kale, lupines, vetches and similar forage products, whether or not in the form of pellets\"],[\"Lac; natural gums, resins, gum-resins and oleoresins (for example, balsams)\"],[\"Vegetable saps and extracts; pectic substances, pectinates and pectates; agar-agar and other mucilages and thickeners, whether or not modified, derived from vegetable products\"],[\"Vegetable materials of a kind used primarily for plaiting; (e.g. bamboos, rattans, reeds, rushes, osier, raffia, cleaned, bleached or dyed cereal straw and lime bark)\"],[\"Vegetable products not elsewhere specified or included\"],[\"Fats and oils and their fractions of fish or marine mammals; whether or not refined, but not chemically modified\"],[\"Wool grease and fatty substances derived therefrom (including lanolin)\"],[\"Soya-bean oil and its fractions; whether or not refined, but not chemically modified\"],[\"Olive oil and its fractions; whether or not refined, but not chemically modified\"],[\"Palm oil and its fractions; whether or not refined, but not chemically modified\"],[\"Sun-flower seed, safflower or cotton-seed oil and their fractions; whether or not refined, but not chemically modified\"],[\"Coconut (copra), palm kernel or babassu oil and their fractions; whether or not refined but not chemically modified\"],[\"Rape, colza or mustard oil and their fractions; whether or not refined, but not chemically modified\"],[\"Fixed vegetable fats and oils (including jojoba oil) and their fractions, whether or not refined; but not chemically modified\"],[\"Animal or vegetable fats and oils and their fractions; partly or wholly hydrogenated, inter-esterified, re-esterified or elaidinised, whether or not refined, but not further prepared\"],[\"Margarine; edible mixtures or preparations of animal or vegetable fats or oils or of fractions of different fats or oils of this chapter, other than edible fats or oils of heading no. 1516\"],[\"Animal or vegetable fats, oils, fractions, modified in any way, excluding heading no. 1516; inedible versions of animal or vegetable fats, oils or fractions of this chapter, n.e.c. or included\"],[\"Glycerol, crude; glycerol waters and glycerol lyes\"],[\"Sausages and similar products of meat, meat offal or blood; food preparations based on these products\"],[\"Prepared or preserved meat, meat offal or blood\"],[\"Prepared or preserved fish; caviar and caviar substitutes prepared from fish eggs\"],[\"Crustaceans, molluscs and other aquatic invertebrates, prepared or preserved\"],[\"Cane or beet sugar and chemically pure sucrose, in solid form\"],[\"Sugars, including lactose, maltose, glucose or fructose in solid form; sugar syrups without added flavouring or colouring matter; artificial honey, whether or not mixed with natural honey; caramel\"],[\"Molasses; resulting from the extraction or refining of sugar\"],[\"Sugar confectionery (including white chocolate), not containing cocoa\"],[\"Cocoa beans; whole or broken, raw or roasted\"],[\"Cocoa; shells, husks, skins and other cocoa waste\"],[\"Cocoa; paste; whether or not defatted\"],[\"Cocoa; butter, fat and oil\"],[\"Cocoa; powder, not containing added sugar or other sweetening matter\"],[\"Chocolate and other food preparations containing cocoa\"],[\"Malt extract; flour/groats/meal/starch/malt extract products, no cocoa (or less than 40% by weight) and food preparations of goods of headings 04.01 to 04.04, no cocoa (or less than 5% by weight), weights calculated on a totally defatted basis, n.e.c.\"],[\"Pasta; whether or not cooked or stuffed with meat or other substance, or otherwise prepared, egg spaghetti, macaroni, noodles, lasagne, gnocchi, ravioli, cannelloni; couscous, whether or not prepared\"],[\"Tapioca and substitutes therefor prepared from starch; in the form of flakes, grains, pearls, siftings or similar forms\"],[\"Prepared foods obtained by swelling or roasting cereals or cereal products (e.g. corn flakes); cereals (other than maize (corn)) in grain form or in the form of flakes or other worked grains (not flour and meal), pre-cooked or otherwise prepared, n.e.c.\"],[\"Bread, pastry, cakes, biscuits, other bakers' wares, whether or not containing cocoa; communion wafers, empty cachets suitable for pharmaceutical use, sealing wafers, rice paper and similar products\"],[\"Vegetables, fruit, nuts and other edible parts of plants; prepared or preserved by vinegar or acetic acid\"],[\"Tomatoes; prepared or preserved otherwise than by vinegar or acetic acid\"],[\"Mushrooms and truffles, prepared or preserved other than by vinegar or acetic acid\"],[\"Vegetables preparations n.e.c.; prepared or preserved otherwise than by vinegar or acetic acid, frozen, other than products of heading no. 2006\"],[\"Vegetables preparations n.e.c.; prepared or preserved otherwise than by vinegar or acetic acid, not frozen, other than products of heading no. 2006\"],[\"Vegetables, fruit, nuts, fruit-peel and other parts of plants, preserved by sugar (drained, glace or crystallised)\"],[\"Jams, fruit jellies, marmalades, fruit or nut puree and fruit or nut pastes, being cooked preparations; whether or not containing added sugar or other sweetening matter\"],[\"Fruit, nuts and other edible parts of plants; prepared or preserved in ways n.e.c., whether or not containing added sugar or other sweetening matter or spirit, not elsewhere specified or included\"],[\"Fruit juices (including grape must) and vegetable juices, unfermented, not containing added spirit; whether or not containing added sugar or other sweetening matter\"],[\"Extracts, essences, concentrates of coffee, tea or mate; preparations with a basis of these products or with a basis of coffee, tea or mate; roasted chicory and other roasted coffee substitutes and extracts, essences and concentrates thereof\"],[\"Yeasts (active or inactive); other single-cell micro-organisms, dead (but not including vaccines of heading no. 3002); prepared baking powders\"],[\"Sauces and preparations therefor; mixed condiments and mixed seasonings, mustard flour and meal and prepared mustard\"],[\"Soups and broths and preparations therefor; homogenised composite food preparations\"],[\"Ice cream and other edible ice; whether or not containing cocoa\"],[\"Food preparations not elsewhere specified or included\"],[\"Waters, including natural or artificial mineral waters and aerated waters, not containing added sugar or other sweetening matter nor flavoured; ice and snow\"],[\"Waters, including mineral and aerated waters, containing added sugar or sweetening matter, flavoured; other non-alcoholic beverages, not including fruit or vegetable juices of heading no. 2009\"],[\"Beer made from malt\"],[\"Wine of fresh grapes, including fortified wines; grape must other than that of heading no. 2009\"],[\"Vermouth and other wine of fresh grapes, flavoured with plants or aromatic substances\"],[\"Ethyl alcohol, undenatured; of an alcoholic strength by volume of 80% vol. or higher; ethyl alcohol and other spirits, denatured, of any strength\"],[\"Ethyl alcohol, undenatured; of an alcoholic strength by volume of less than 80% volume; spirits, liqueurs and other spirituous beverages\"],[\"Vinegar and substitutes for vinegar obtained from acetic acid\"],[\"Flours, meal and pellets, of meat or meat offal, of fish or of crustaceans, molluscs or other aquatic invertebrates, unfit for human consumption; greaves\"],[\"Bran, sharps and other residues; whether or not in the form of pellets derived from the sifting, milling or other working of cereals or of leguminous plants\"],[\"Residues of starch manufacture, similar residues; beet-pulp, bagasse and other waste of sugar manufacture, brewing or distilling dregs and waste, whether or not in the form of pellets\"],[\"Oil-cake and other solid residues; whether or not ground or in the form of pellets, resulting from the extraction of soya-bean oil\"],[\"Oil-cake and other solid residues; whether or not ground or in the form of pellets, resulting from the extraction of vegetable fats or oils other than those of heading no. 2304 or 2305\"],[\"Vegetable materials and vegetable waste, vegetable residues and bi-products; whether or not in the form of pellets, of a kind used in animal feeding, not elsewhere specified or included\"],[\"Preparations of a kind used in animal feeding\"],[\"Tobacco, unmanufactured; tobacco refuse\"],[\"Cigars, cheroots, cigarillos and cigarettes; of tobacco or of tobacco substitutes\"],[\"Salt (including table salt and denatured salt); pure sodium chloride whether or not in aqueous solution; sea water\"],[\"Sulphur of all kinds; other than sublimed, precipitated and colloidal sulphur\"],[\"Graphite; natural\"],[\"Sands of all kinds; natural, whether or not coloured, other than metal-bearing sands of chapter 26\"],[\"Quartz; (other than natural sands), quartzite, whether or not roughly trimmed or merely cut, by sawing or otherwise, into blocks or slabs of a rectangular (including square) shape\"],[\"Kaolin and other kaolinic clays; whether or not calcined\"],[\"Clays; (not including expanded clays of heading no. 6806), andalusite kyanite and sillimanite, whether or not calcined; mullite; chamotte or dinas earth\"],[\"Natural calcium phosphates; natural aluminium calcium phosphates and phosphatic chalk\"],[\"Pumice stone; emery; natural corundum, natural garnet and other natural abrasives, whether or not heat treated\"],[\"Marble, travertine, ecaussine and other calcareous stone; of an apparent specific gravity of less than 2.5, alabaster, whether cut by sawing etc, into blocks, slabs of a rectangular (square) shape\"],[\"Granite, porphyry, basalt, sandstone, other monumental and building stone, whether or not roughly trimmed, cut, by sawing etc, into blocks or slabs of a rectangular (including square) shape\"],[\"Pebbles, gravel, crushed stone for concrete aggregates for road or railway ballast, shingle or flint; macadam of slag, dross etc tarred granules, chippings, powder of stones of heading no. 2515 and 2516\"],[\"Natural magnesium carbonate (magnesite); fused magnesia; dead-burned (sintered) magnesia, whether or not containing small quantities of other oxides added before sintering; magnesium oxide, pure or not\"],[\"Limestone flux; limestone and other calcareous stone, of a kind used for the manufacture of lime or cement\"],[\"Quicklime, slaked lime and hydraulic lime; other than calcium oxide and hydroxide of heading no. 2825\"],[\"Portland cement, aluminous cement (ciment fondu), slag cement, supersulphate cement and similar hydraulic cements, whether or not coloured or in the form of clinkers\"],[\"Mica, including splittings; mica waste\"],[\"Feldspar; leucite; nepheline and nepheline syenite; fluorspar\"],[\"Mineral substances not elsewhere specified or included\"],[\"Copper ores and concentrates\"],[\"Cobalt ores and concentrates\"],[\"Chromium ores and concentrates\"],[\"Precious metal ores and concentrates\"],[\"Ores and concentrates; n.e.c. in heading no. 2601\"],[\"Slag, ash and residues; (not from the manufacture of iron or steel) containing metals, arsenic or their compounds\"],[\"Slag and ash n.e.c. in chapter 26; including seaweed ash (kelp) and ash and residues from the incineration of municipal waste\"],[\"Lignite; whether or not agglomerated, excluding jet\"],[\"Oils and other products of the distillation of high temperature coal tar; similar products in which the weight of the aromatic constituents exceeds that of the non-aromatic constituents\"],[\"Pitch and pitch coke; obtained from coal tar or from other mineral tars\"],[\"Petroleum oils and oils obtained from bituminous minerals; crude\"],[\"Petroleum oils and oils from bituminous minerals, not crude; preparations n.e.c, containing by weight 70% or more of petroleum oils or oils from bituminous minerals; these being the basic constituents of the preparations; waste oils\"],[\"Petroleum gases and other gaseous hydrocarbons\"],[\"Petroleum jelly; paraffin wax, micro-crystalline petroleum wax, slack wax, ozokerite, lignite wax, peat wax, other mineral waxes, similar products obtained by synthesis, other processes; coloured or not\"],[\"Petroleum coke, petroleum bitumen; other residues of petroleum oils or oils obtained from bituminous minerals\"],[\"Bitumen and asphalt, natural; bituminous or oil shale and tar sands; asphaltites and asphaltic rocks\"],[\"Bituminous mixtures based on natural asphalt; on natural bitumen, on petroleum bitumen, on mineral tar or on mineral tar pitch (e.g. bituminous mastics, cut-backs)\"],[\"Fluorine, chlorine, bromine and iodine\"],[\"Carbon; carbon blacks and other forms of carbon n.e.c.\"],[\"Hydrogen, rare gases and other non-metals\"],[\"Sulphuric acid; oleum\"],[\"Nitric acid; sulphonitric acids\"],[\"Diphosphorus pentoxide; phosphoric acid and polyphosphoric acids\"],[\"Inorganic acids and other inorganic oxygen compounds of non-metals; n.e.c. in heading no. 2806 to 2810\"],[\"Zinc; oxide and peroxide\"],[\"Aluminium oxide (including artificial corundum); aluminium hydroxide\"],[\"Iron oxides and hydroxides; earth colours containing 70% or more by weight of combined iron evaluated as Fe2o3\"],[\"Titanium oxides\"],[\"Lead oxides; red lead and orange lead\"],[\"Hydrazine and hydroxylamine and their inorganic salts; other inorganic bases; other metal oxides, hydroxides and peroxides\"],[\"Fluorides; fluorosilicates, fluoroaluminates and other complex fluorine salts\"],[\"Chlorides; chloride oxides and chloride hydroxides; bromides and bromide oxides; iodides and iodide oxides\"],[\"Hypochlorites; commercial calcium hypochlorite; chlorites; hypobromites\"],[\"Dithionites and sulphoxylates\"],[\"Sulphites; thiosulphates\"],[\"Sulphates; alums; peroxosulphates (persulphates)\"],[\"Nitrites; nitrates\"],[\"Carbonates; peroxocarbonates (percarbonates); commercial ammonium carbonate containing ammonium carbamate\"],[\"Silicates; commercial alkali metal silicates\"],[\"Salts of oxometallic or peroxometallic acids\"],[\"Salts of inorganic acids or peroxoacids, n.e.c. including aluminosilicates whether or not chemically defined, but excluding azides\"],[\"Colloidal precious metals; inorganic or organic compounds of precious metals, whether or not chemically defined; amalgams of precious metals\"],[\"Radioactive chemical elements and radioactive isotopes (including the fissile or fertile chemical elements and isotopes); and their compounds; mixtures and residues containing these products\"],[\"Hydrogen peroxide; whether or not solidified with urea\"],[\"Inorganic compounds n.e.c. (including distilled or conductivity water and water of similar purity); liquid air (rare gases removed or not); compressed air; amalgams, other than precious metal amalgams\"],[\"Acyclic hydrocarbons\"],[\"Cyclic hydrocarbons\"],[\"Halogenated derivatives of hydrocarbons\"],[\"Sulphonated, nitrated or nitrosated derivatives of hydrocarbons; whether or not halogenated\"],[\"Acyclic alcohols and their halogenated, sulphonated, nitrated or nitrosated derivatives\"],[\"Alcohols; cyclic, and their halogenated, sulphonated, nitrated or nitrosated derivatives\"],[\"Phenols; monophenols, polyphenols, and phenol-alcohols\"],[\"Ethers, ether-alcohols, ether-phenols, ether-alcohol-phenols, alcohol peroxides, ether peroxides, ketone peroxides (chemically defined or not); halogenated, sulphonated, nitrated, nitrosated derivative\"],[\"Epoxides, epoxyalcohols, epoxyphenols and epoxyethers; with a three-membered ring and their halogenated, sulphonated, nitrated or nitrosated derivatives\"],[\"Aldehydes, whether or not with other oxygen function; cyclic polymers of aldehydes; paraformaldehyde\"],[\"Ketones and quinones; whether or not with other oxygen function, and their halogenated, sulphonated, nitrated or nitrostated derivatives\"],[\"Acids; saturated acyclic monocarboxylic acids and their anhydrides, halides, peroxides and peroxyacids; their halogenated, sulphonated, nitrated or nitrosated derivatives\"],[\"Acids; unsaturated acyclic monocarboxylic, cyclic monocarboxylic, their anhydrides, halides, peroxides and peroxyacids; their halogenated, sulphonated, nitrated or nitrosated derivatives\"],[\"Acids; carboxylic acid with additional oxygen function and their anhydrides, halides, peroxides, peroxyacids; their halogenated, sulphonated, nitrated or nitrosated derivatives\"],[\"Amine-function compounds\"],[\"Oxygen-function amino-compounds\"],[\"Quaternary ammonium salts and hydroxides; lecithins and other phosphoaminolipids, whether or not chemically defined\"],[\"Carboxyamide-function compounds; amide-function compounds of carbonic acid\"],[\"Nitrogen-function compounds, n.e.c. in chapter 29\"],[\"Heterocyclic compounds with oxygen hetero-atom(s) only\"],[\"Heterocyclic compounds with nitrogen hetero-atom(s) only\"],[\"Nucleic acids and their salts, whether or not chemically defined; other heterocyclic compounds\"],[\"Sulphonamides\"],[\"Provitamins, vitamins; natural or reproduced by synthesis (including natural concentrates) derivatives thereof used as vitamins, and intermixtures of the fore-going, whether or not in any solvent\"],[\"Hormones, prostaglandins, thromboxanes and leukotrienes, natural or reproduced by synthesis; derivatives and structural analogues thereof, including chain modified polypeptides, used primarily as hormones.\"],[\"Glycosides, natural or reproduced by synthesis, and their salts, ethers, esters and other derivatives\"],[\"Alkaloids, vegetable; natural or reproduced by synthesis, and their salts, ethers, esters and other derivatives\"],[\"Antibiotics\"],[\"Organic compounds; n.e.c. in chapter 29\"],[\"Glands and other organs (extracts, secretions thereof) for organo-therapeutic uses, dried, powdered or not; heparin and its salts; other human or animal substances for therapeutic or prophylactic uses n.e.c.\"],[\"Human blood; animal blood for therapeutic, prophylactic or diagnostic uses; antisera, other blood fractions, immunological products, modified or obtained by biotechnological processes; vaccines, toxins, cultures of micro-organisms (excluding yeasts) etc\"],[\"Medicaments; (not goods of heading no. 3002, 3005 or 3006) of two or more constituents mixed together for therapeutic or prophylactic use not in measured doses or in forms or packings for retail sale\"],[\"Medicaments; (not goods of heading no. 3002, 3005 or 3006) consisting of mixed or unmixed products for therapeutic or prophylactic use, put up in measured doses (incl. those in the form of transdermal admin. systems) or packed for retail sale\"],[\"Wadding, gauze, bandages (dressings, adhesive plasters, poultices), impregnated or coated with pharmaceutical substances or in forms or packings for retail sale, for medical, surgical or veterinary use\"],[\"Pharmaceutical goods\"],[\"Fertilizers; animal or vegetable, whether or not mixed together or chemically treated; fertilizers produced by the mixing or chemical treatment of animal or vegetable products\"],[\"Fertilizers; mineral or chemical, nitrogenous\"],[\"Fertilizers; mineral or chemical, phosphatic\"],[\"Fertilizers; mineral or chemical, potassic\"],[\"Fertilizers; mineral or chemical, containing 2 or 3 of the elements nitrogen, phosphorus, potassium; other fertilisers; goods of chapter 31 in tablets or packages of gross weight not exceeding 10kg\"],[\"Tanning substances; synthetic organic or inorganic tanning substances; tanning preparations, whether or not containing natural tanning substances, enzymatic preparations for pre-tanning\"],[\"Colouring matter of vegetable or animal origin (including dyeing extracts, not animal black); whether or not chemically defined; preparations based on colouring matter of vegetable or animal origin\"],[\"Synthetic organic colouring matter and preparations based thereon; synthetic organic products used as fluorescent brightening agents or as luminophores; whether or not chemically defined\"],[\"Colour lakes; preparations based on colour lakes as specified in note 3 to this chapter\"],[\"Colouring matter and preparations thereof n.e.c. in heading no. 3203, 3204, 3205; inorganic products, kind used as luminophores whether or not chemically defined\"],[\"Pigments, prepared; opacifiers, colours, vitrifiable enamels, glazes, engobes (slips), liquid lustres etc as used in the ceramic enamelling or glass industry; glass frit and powder, granules or flakes\"],[\"Paints, varnishes; (enamels and lacquers) based on synthetic polymers or chemically modified natural polymers, dispersed or dissolved in a non-aqueous medium\"],[\"Paints and varnishes (including enamels and lacquers) based on synthetic or chemically modified natural polymers, dispersed or dissolved in an aqueous medium\"],[\"Paints and varnishes (including enamels, lacquers and distempers), excluding those of heading no. 3209, prepared water pigments of a kind used for finishing leather\"],[\"Pigments (metallic powders and flakes) dispersed in non-aqueous media in liquid or paste form, as used in manufacture of paints (including enamels); stamping foils, dyes etc in forms, packing for retail sale\"],[\"Colours; artists, students, or signboard painters, modifying tints, amusement colours and the like; in tablets, tubes, jars, bottles, pan or in similar forms or packings\"],[\"Glaziers' putty, grafting putty, resin cements, caulking compounds and other mastics; painters' fillings; non-refractory surfacing preparations for facades, indoor walls, floors, ceilings or the like\"],[\"Ink; printing, writing or drawing ink and other inks; whether or not concentrated or solid\"],[\"Oils; essential (concretes, absolutes); concentrates thereof in fats, fixed oils, waxes or the like (obtained by enfleurage or maceration); aqueous distillates, solutions and terpenic by-products thereof; resinoids; extracted oleoresins\"],[\"Odoriferous substances and mixtures (including alcoholic solutions) with a basis of one or more of these substances, of a kind used as raw materials in industry; other preparations based on odoriferous substances, of a kind used for beverage manufacture\"],[\"Perfumes and toilet waters\"],[\"Cosmetic and toilet preparations; beauty, make-up and skin care preparations (excluding medicaments, including sunscreen or sun tan preparations), manicure or pedicure preparations\"],[\"Hair preparations; for use on the hair\"],[\"Oral or dental hygiene preparations; including fixative pastes and powders; yarn used to clean between the teeth (dental floss), in individual retail packages\"],[\"Perfumery, cosmetic or toilet preparations; pre-shave, shaving, after-shave, bath preparations; personal deodorants and depilatories; room deodorisers, perfumed or not with disinfectant properties or not\"],[\"Soap; organic surface-active preparations used as soap, skin washing, in bars, cakes, moulded pieces, shapes, liquid or cream, containing soap or not; for retail, paper, wadding, felt and nonwovens, impregnated, coated or covered with soap or detergent\"],[\"Organic surface-active agents (not soap); surface-active, washing (including auxiliary washing) and cleaning preparations, containing soap or not, excluding those of heading no. 3401\"],[\"Lubricating preparations and those used in oil or grease treatment of textile and similar materials; excluding preparations containing 70% or more (by weight) of petroleum or bituminous mineral oils\"],[\"Waxes; artificial, prepared\"],[\"Polishes, creams, scouring pastes, powders and similar; in any form, (including articles impregnated, coated or covered with such), for furniture, footwear, floors, coachwork, glass or metal\"],[\"Candles, tapers and the like\"],[\"Gelatin (including gelatin in rectangular sheets, whether or not surface-worked or coloured) and gelatin derivatives; isinglass; other glues of animal origin, excluding casein glues of heading no. 3501\"],[\"Peptones and their derivatives; other protein substances and their derivatives n.e.c. or included; hide powder, whether or not chromed\"],[\"Dextrins and other modified starches (e.g. pregelatinised or esterified starches); glues based on starches or on dextrins or other modified starches\"],[\"Prepared glues and other prepared adhesives, n.e.c. or included; products suitable for use as glues or adhesives, put up for retail sale as glues or adhesives, not exceeding 1kg net weight\"],[\"Enzymes; prepared enzymes not elsewhere specified or included\"],[\"Fireworks, signalling flares, rain rockets, fog signals and other pyrotechnic articles\"],[\"Matches; other than pyrotechnic articles of heading no. 3604\"],[\"Ferro-cerium and other pyrophoric alloys in all forms; articles of combustible materials n.e.c. in chapter 36\"],[\"Photographic plates and film in the flat, sensitised, unexposed, of any material other than paper, paperboard or textiles; instant print film in the flat, sensitised, unexposed, whether or not in packs\"],[\"Photographic film in rolls, sensitised, unexposed, of any material other than paper, paperboard or textiles; instant print film in rolls, sensitised, unexposed\"],[\"Chemical preparations for photographic uses (other than varnishes, glues, adhesives and similar preparations); unmixed products for photographic uses, put up in measured portions or for retail sale\"],[\"Artificial graphite; colloidal or semi-colloidal graphite; preparations based on graphite or other carbon in the form of pastes, blocks, plates or other semi-manufactures\"],[\"Activated carbon; activated natural mineral products; animal black, including spent animal black\"],[\"Residual lyes from the manufacture of wood pulp, whether or not concentrated, desugared or chemically treated, including lignin sulphonates, but excluding tall oil of heading no. 3803\"],[\"Rosin and resin acids and derivatives thereof; rosin spirit and rosin oils; run gums\"],[\"Insecticides, rodenticides, fungicides, herbicides, anti-sprouting products, plant growth regulators, disinfectants and the like, put up in forms or packings for retail sale or as preparations or articles\"],[\"Finishing agents, dye carriers to accelerate the dyeing, fixing of dyestuffs, other products and preparations, of a kind used in the textile, paper, leather or like industries, n.e.c. or included\"],[\"Metal-pickling preparations; fluxes etc for soldering, brazing; welding powders, pastes of metal and other materials; preparations used as cores or coatings for welding electrodes or rods\"],[\"Anti-knock preparations, oxidation and gum inhibitors, viscosity improvers, anti-corrosive preparations and the like, for mineral oils (including gasoline) or other liquids used for the same purposes\"],[\"Prepared rubber accelerators; compound plasticisers for rubber or plastics, n.e.c. or included; anti-oxidising preparations and other compound stabilisers for rubber or plastics\"],[\"Organic composite solvents and thinners, not elsewhere specified or included; prepared paint or varnish removers\"],[\"Reaction initiators, reaction accelerators and catalytic preparations n.e.c. or included\"],[\"Refractory cements, mortars, concretes and similar compositions; other than products of heading no. 3801\"],[\"Mixed alkylbenzenes and mixed alkylnaphthalenes, other than those of heading no. 2707 or 2902\"],[\"Hydraulic brake fluids and other prepared liquids for hydraulic transmission, not containing or containing less than 70% by weight of petroleum oils or oils obtained from bituminous minerals\"],[\"Anti-freezing preparations and prepared de-icing fluids\"],[\"Prepared culture media for the development or maintenance of micro-organisms (including viruses and the like) or of plant, human or animal cells\"],[\"Reagents; diagnostic or laboratory reagents on a backing and prepared diagnostic or laboratory reagents whether or not on a backing, other than those of heading no. 3002 or 3006; certified reference material\"],[\"Industrial monocarboxylic fatty acids; acid oils from refining; industrial fatty alcohols\"],[\"Prepared binders for foundry moulds or cores; chemical products and preparations of the chemical or allied industries (including those consisting of mixtures of natural products), not elsewhere specified or included\"],[\"Biodiesel and mixtures thereof; not containing or containing less than 70% by weight of petroleum oils or oils obtained from bituminous minerals\"],[\"Polymers of ethylene, in primary forms\"],[\"Polymers of propylene or of other olefins, in primary forms\"],[\"Polymers of styrene, in primary forms\"],[\"Polymers of vinyl chloride or of other halogenated olefins, in primary forms\"],[\"Polymers of vinyl acetate or of other vinyl esters, in primary forms; other vinyl polymers in primary forms\"],[\"Acrylic polymers in primary forms\"],[\"Polyacetals, other polyethers and epoxide resins, in primary forms; polycarbonates, alkyd resins, polyallyl esters and other polyesters, in primary forms\"],[\"Polyamides in primary forms\"],[\"Amino-resins, phenolic resins and polyurethanes, in primary forms\"],[\"Silicones in primary forms\"],[\"Petroleum resins, coumarone-indene resins, polyterpenes, polysulphides, polysulphones and similar products of chemical synthesis n.e.c. in chapter 39, in primary forms\"],[\"Cellulose and its chemical derivatives, n.e.c. or included, in primary forms\"],[\"Natural polymers (e.g. alginic acid) and modified natural polymers (e.g. hardened proteins, chemical derivatives of natural rubber), n.e.c. or included, in primary forms\"],[\"Ion-exchangers; based on polymers of heading no. 3901 to 3913, in primary forms\"],[\"Waste, parings and scrap, of plastics\"],[\"Monofilament of which any cross-sectional dimension exceeds 1mm, rods, sticks and profile shapes, whether or not surface-worked but not otherwise worked, of plastics\"],[\"Tubes, pipes and hoses and fittings thereof (for example, joints, elbows, flanges), of plastics\"],[\"Floor coverings of plastics, self-adhesive or not, in rolls or tiles; wall or ceiling coverings of plastics, in rolls of a width not less than 45cm\"],[\"Self-adhesive plates, sheets, film, foil, tape, strip and other flat shapes, of plastics, whether or not in rolls\"],[\"Plastics; plates, sheets, film, foil and strip (not self-adhesive); non-cellular and not reinforced, laminated, supported or similarly combined with other materials, n.e.c. in chapter 39\"],[\"Plastic plates, sheets, film, foil and strip n.e.c. in chapter 39\"],[\"Sanitary ware; baths, shower-baths, sinks, wash-basins, bidets, lavatory pans, seats and covers, flushing cisterns and sanitary ware, of plastics\"],[\"Plastic articles for the conveyance or packing of goods; stoppers, lids, caps and other closures of plastics\"],[\"Tableware, kitchenware, other household articles and hygienic or toilet articles, of plastics\"],[\"Plastics; builders' wares n.e.c. or included\"],[\"Articles of plastics and articles of other materials of heading no. 3901 to 3914, n.e.c. in chapter 39\"],[\"Natural rubber, balata, gutta-percha, guayule, chicle and similar gums; in primary forms or in plates, sheets or strip\"],[\"Synthetic rubber and factice derived from oils, in primary forms or in plates, sheets or strip; mixtures of heading no. 4001 and 4002, in primary forms or in plates, sheets or strip\"],[\"Waste, parings and scrap of rubber (other than hard rubber) and powders and granules obtained therefrom\"],[\"Compounded rubber, unvulcanised, in primary forms or in plates, sheets or strip\"],[\"Unvulcanised rubber in other forms (e.g. rods, tubes and profile shapes) and articles (e.g. discs and rings)\"],[\"Plates, sheets, strip, rods and profile shapes, of vulcanised rubber other than hard rubber\"],[\"Tubes, pipes and hoses, of vulcanised rubber (other than hard rubber), with or without their fittings (e.g. joints, elbows, flanges)\"],[\"Conveyor or transmission belts or belting, of vulcanised rubber\"],[\"New pneumatic tyres, of rubber\"],[\"Retreaded or used pneumatic tyres of rubber; solid or cushion tyres, tyre treads and tyre flaps, of rubber\"],[\"Inner tubes, of rubber\"],[\"Articles of apparel and clothing accessories (including gloves, mittens and mitts), for all purposes, of vulcanised rubber other than hard rubber\"],[\"Articles of vulcanised rubber other than hard rubber, n.e.c. in chapter 40\"],[\"Tanned or crust hides and skins of bovine (including buffalo) or equine animals, without hair on, whether or not split, but not further prepared\"],[\"Tanned or crust skins of sheep and lambs, without wool on, whether or not split, but not further prepared\"],[\"Leather further prepared after tanning or crusting, including parchment-dressed leather, of bovine (including buffalo) or equine animals, without hair on, whether or not split, other than leather of heading 41.14\"],[\"Composition leather with a basis of leather or leather fibre, in slabs, sheets or strip, in rolls or not; parings and other waste of leather or of composition leather, not suitable for the manufacture of leather articles; leather dust, powder and flour\"],[\"Saddlery and harness for any animal (including traces, leads, knee pads, muzzles, saddle cloths, saddle bags, dog coats and the like) of any material\"],[\"Trunks; suit, camera, jewellery, cutlery cases; travel, tool, similar bags; wholly or mainly covered by leather, composition leather, plastic sheeting, textile materials, vulcanised fibre, paperboard\"],[\"Articles of apparel and clothing accessories, of leather or of composition leather\"],[\"Leather or composition leather articles n.e.c. in chapter 42\"],[\"Articles of gut (other than silk-worm gut), of goldbeater's skin, of bladders or of tendons\"],[\"Articles of apparel, clothing accessories and other articles of furskin\"],[\"Fuel wood, in logs, billets, twigs, faggots or similar forms; wood in chip or particles; sawdust and wood waste and scrap, whether or not agglomerated in logs, briquettes, pellets or similar forms\"],[\"Wood charcoal (including shell or nut charcoal), whether or not agglomerated\"],[\"Wood in the rough, whether or not stripped of bark or sapwood, or roughly squared\"],[\"Wood sawn or chipped lengthwise, sliced or peeled, whether or not planed, sanded or end-jointed, of a thickness exceeding 6mm\"],[\"Sheets for veneering (including those obtained by slicing laminated wood), for plywood or for similar laminated wood and other wood, sawn lengthwise, sliced or peeled, planed or not, sanded, spliced or end-jointed, of a thickness not exceeding 6 mm\"],[\"Wood (including strips, friezes for parquet flooring, not assembled), continuously shaped (tongued, grooved, v-jointed, beaded or the like) along any edges, ends or faces, whether or not planed, sanded or end-jointed\"],[\"Particle board, oriented strand board (OSB) and similar board (e.g. waferboard) of wood or other ligneous materials, whether or not agglomerated with resins or other organic binding substances\"],[\"Fibreboard of wood or other ligneous materials, whether or not bonded with resins or other organic substances\"],[\"Plywood, veneered panels and similar laminated wood\"],[\"Densified wood, in blocks, plates, strips or profile shapes\"],[\"Wooden frames; for paintings, photographs, mirrors or similar objects\"],[\"Packing cases, boxes, crates, drums and similar packings, of wood; cable-drums of wood; pallets, box pallets and other load boards, of wood; pallet collars of wood\"],[\"Casks, barrels, vats, tubs and other coopers' products and parts thereof, of wood, including staves\"],[\"Tools, tool bodies, tool handles, broom or brush bodies and handles, of wood; boot or shoe lasts and trees, of wood\"],[\"Builders' joinery and carpentry of wood, including cellular wood panels, assembled flooring panels, shingles and shakes\"],[\"Tableware and kitchenware, of wood\"],[\"Wood marquetry and inlaid wood; caskets and cases for jewellery or cutlery, and similar articles of wood; statuettes and other ornaments of wood; wooden articles of furniture not falling in chapter 94\"],[\"Wooden articles n.e.c. in heading no. 4414 to 4420\"],[\"Agglomerated cork (with or without a binding substance) and articles of agglomerated cork\"],[\"Basketwork, wickerwork and other articles, made directly to shape from plaiting materials or made up from goods of heading no. 4601; articles of loofah\"],[\"Chemical wood pulp, soda or sulphate, other than dissolving grades\"],[\"Waste and scrap of paper and paperboard\"],[\"Newsprint, in rolls or sheets\"],[\"Uncoated paper and paperboard, used for writing, printing or other graphics, non perforated punch-cards and punch tape paper, in rolls or rectangular sheets, of any size, other than paper of heading 4801 or 4803; hand-made paper and paperboard\"],[\"Tissue, towel, napkin stock or similar; for household or sanitary uses, cellulose wadding, webs of cellulose fibres, in rolls over 36cm in width or rectangular sheets with one side exceeding 36cm when unfolded\"],[\"Uncoated kraft paper and paperboard, in rolls or sheets, other than that of heading no. 4802 or 4803\"],[\"Uncoated paper and paperboard n.e.c., in rolls or sheets\"],[\"Vegetable parchment, greaseproof papers, tracing papers, glassine and other glazed transparent or translucent papers, in rolls or sheets\"],[\"Composite paper and paperboard, (made by sticking layers together with an adhesive), not surface-coated or impregnated, whether or not internally reinforced, in rolls or sheets\"],[\"Paper and paperboard, corrugated (with or without glued flat surface sheets), creped, crinkled, embossed or perforated, in rolls or sheets other than paper of the kind described in heading 4803\"],[\"Carbon paper, self copy paper, and other copying or transfer papers (including coated or impregnated paper for duplicator stencils or offset plates), whether or not printed, in rolls or sheets\"],[\"Paper and paperboard, coated one or both sides with kaolin (china clay) or inorganic substances, with binder or not, no other coating, surface coloured or not, surface decorated or printed, in rolls or rectangular (including square) sheets, of any size\"],[\"Paper, paperboard, cellulose wadding and webs of cellulose fibres, coated, impregnated, covered, surface-coloured, decorated or printed, rolls or sheets, other than goods of heading no. 4803, 4809, or 4810\"],[\"Cigarette paper, whether or not cut to size or in the form of booklets or tubes\"],[\"Wallpaper and similar wall coverings; window transparencies of paper\"],[\"Envelopes, letter cards, plain postcards and correspondence cards, of paper, paperboard; boxes, pouches, wallets and writing compendiums, of paper or paperboard containing assortment of paper stationery\"],[\"Toilet paper, width 36cm or less or cut to size/shape; handkerchiefs, tissues, towels, serviettes, bed sheets and similar household or hospital articles, apparel and clothing accessories of paper pulp, paper, cellulose wadding or webs of cellulose fibres\"],[\"Cartons, boxes, cases, bags and the like, of paper, paperboard, cellulose wadding or fibres; box files, letter trays and the like, of paper or paperboard, of a kind used in offices, shops or the like\"],[\"Registers, account books, diaries and similar; albums for samples or collections, of paper or paperboard\"],[\"Paper or paperboard labels of all kinds, whether or not printed\"],[\"Bobbins, spools, cops and similar supports of paper pulp, paper or paperboard (whether or not perforated or hardened)\"],[\"Paper, paperboard, cellulose wadding and webs of cellulose fibres; cut to size or shape, articles of paper pulp, paper and paper-board, cellulose wadding or webs of cellulose fibres, n.e.c. in chapter 48\"],[\"Printed books, brochures, leaflets and similar printed matter, whether or not in single sheets\"],[\"Newspapers, journals and periodicals, whether or not illustrated or containing advertising material\"],[\"Children's picture, drawing or colouring books\"],[\"Music, printed or in manuscript, whether or not bound or illustrated\"],[\"Maps and hydrographic or similar charts of all kinds, including atlases, wall maps, topographical plans and globes, printed\"],[\"Plans and drawings; for architectural, engineering, industrial, commercial, topographical or similar, being originals drawn by hand; hand-written texts; photo- graphic reproductions; their carbon copies\"],[\"Transfers (decalcomanias)\"],[\"Printed or illustrated postcards; printed cards bearing personal greetings, messages or announcements, whether or not illustrated, with or without envelopes or trimmings\"],[\"Calendars of any kind, printed, including calendar blocks\"],[\"Printed matter, n.e.c., including printed pictures and photographs\"],[\"Wool, not carded or combed\"],[\"Wool and fine or coarse animal hair; carded or combed (including combed wool in fragments)\"],[\"Yarn of combed wool, not put up for retail sale\"],[\"Yarn of wool or of fine animal hair, put up for retail sale\"],[\"Woven fabrics of carded wool or of carded fine animal hair\"],[\"Woven fabrics of combed wool or of combed fine animal hair\"],[\"Cotton waste (including yarn waste and garnetted stock)\"],[\"Cotton sewing thread, whether or not put up for retail sale\"],[\"Cotton yarn (other than sewing thread), containing 85% or more by weight of cotton, not put up for retail sale\"],[\"Cotton yarn (other than sewing thread), put up for retail sale\"],[\"Woven fabrics of cotton, containing 85% or more by weight of cotton, weighing not more than 200 g/m2\"],[\"Woven fabrics of cotton, containing 85% or more by weight of cotton, weighing more than 200g/m2\"],[\"Woven fabrics of cotton, containing less than 85% by weight of cotton, mixed mainly or solely with man-made fibres, weighing more than 200g/m2\"],[\"Coconut, abaca (Manila hemp or Musa textilis Nee), ramie and other vegetable textile fibres n.e.c., raw or processed but not spun; tow, noils and waste of these fibres (including yarn waste and garnetted stock)\"],[\"Yarn of other vegetable textile fibres; paper yarn\"],[\"Sewing thread of man-made filaments, whether or not put up for retail sale\"],[\"Synthetic filament yarn (other than sewing thread), not put up for retail sale, including synthetic monofilament of less than 67 decitex\"],[\"Synthetic monofilament of 67 decitex or more, of which no cross-sectional dimension exceeds 1mm; strip and the like (e.g. artificial straw) of synthetic textile materials of an apparent width not exceeding 5mm\"],[\"Man-made filament yarn (other than sewing thread), put up for retail sale\"],[\"Woven fabrics of synthetic filament yarn, including woven fabrics obtained from materials of heading no. 5404\"],[\"Artificial filament tow\"],[\"Synthetic staple fibres, not carded, combed or otherwise processed for spinning\"],[\"Waste (including noils, yarn waste and garnetted stock), of man-made fibres\"],[\"Sewing thread of man-made staple fibres, whether or not put up for retail sale\"],[\"Yarn (other than sewing thread) of synthetic staple fibres, not put up for retail sale\"],[\"Yarn (other than sewing thread) of artificial staple fibres, not put up for retail sale\"],[\"Yarn (not sewing thread), of man-made staple fibres, put up for retail sale\"],[\"Woven fabrics of synthetic staple fibres, containing 85% or more by weight of synthetic staple fibres\"],[\"Woven fabrics of synthetic staple fibres, containing less than 85% by weight of such fibres, mixed mainly or solely with cotton, of a weight not exceeding 170g/m2\"],[\"Woven fabrics of synthetic staple fibres, containing less than 85% by weight of such fibres, mixed mainly or solely with cotton, of a weight exceeding 170g/m2\"],[\"Woven fabrics of synthetic staple fibres, n.e.c. in chapter 55\"],[\"Woven fabrics of artificial staple fibres\"],[\"Wadding of textile materials and articles thereof; textile fibres, not exceeding 5 mm in length (flock), textile dust and mill neps\"],[\"Felt; whether or not impregnated, coated, covered or laminated\"],[\"Nonwovens; whether or not impregnated, coated, covered or laminated\"],[\"Rubber thread and cord, textile covered; textile yarn and strip and the like of heading no. 5404, 5405; impregnated, coated, covered or sheathed with rubber or plastics\"],[\"Yarn and strip and the like of heading no. 5404 or 5405, gimped (other than those of heading no. 5606 and gimped horsehair yarn); chenille yarn (including flock chenille yarn); loop wale-yarn\"],[\"Twine, cordage, ropes and cables, whether or not plaited or braided; whether or not impregnated, coated, covered or sheathed with rubber or plastics\"],[\"Twine, cordage or rope; knotted netting, made up fishing nets and other made up nets, of textile materials\"],[\"Articles of yarn, strip or the like of heading no. 5404 or 5405; twine, cordage, rope or cables n.e.c. or included\"],[\"Carpets and other textile floor coverings; woven, (not tufted or flocked), whether or not made up, including kelem, schumacks, karamanie and similar hand-woven rugs\"],[\"Carpets and other textile floor coverings; tufted, whether or not made up\"],[\"Carpets and other textile floor coverings; of felt, (not tufted or flocked), whether or not made up\"],[\"Carpets and other textile floor coverings; n.e.c. in chapter 57, whether or not made up\"],[\"Fabrics; woven pile and chenille fabrics, other than fabrics of heading no. 5802 or 5806\"],[\"Tulles and other net fabrics; not including woven, knitted or crocheted fabrics; lace in the piece, in strips or in motifs, (other than fabrics of headings 60.02 to 60.06)\"],[\"Tapestries; hand-woven, (Gobelins, Flanders, Aubusson, Beauvais and the like) and needle-worked tapestries (e.g. petit point, cross-stitch) whether or not made up\"],[\"Fabrics; narrow woven, other than goods of heading no. 5807; narrow fabrics consisting of warp without weft assembled by means of an adhesive (bolducs)\"],[\"Labels, badges and similar articles; of textile materials, in the piece, in strips or cut to shape or size, not embroidered\"],[\"Quilted textile products; in the piece, composed of one or more layers of textile materials assembled with padding by stitching or otherwise (excluding embroidery of heading no. 5810)\"],[\"Textile fabrics, gum or amylaceous substance coated, used for outer book covers and like; tracing cloth, prepared painting canvas; buckram and similar stiffened textile fabrics used for hat foundation\"],[\"Textile fabrics impregnated, coated, covered or laminated with plastics, other than those of heading no. 5902\"],[\"Textile fabrics, rubberised; other than those of heading no. 5902\"],[\"Textile hose piping and similar textile tubing; with or without lining, armour or accessories of other materials\"],[\"Textiles; transmission or conveyor belts or belting, of textile material, whether or not impregnated, coated, covered or laminated with plastics, or reinforced with metal or other material\"],[\"Textile products and articles for technical uses; specified in note 7 to this chapter\"],[\"Fabrics; pile fabrics, including long pile fabrics and terry fabrics, knitted or crocheted\"],[\"Fabrics; knitted or crocheted fabrics of a width exceeding 30 cm, other than those of heading 60.01, containing by weight 5% or more of elastomeric yarn or rubber thread\"],[\"Fabrics; warp knit (including those made on galloon knitting machines), other than those of headings 60.01 to 60.04\"],[\"Fabrics; knitted or crocheted fabrics, other than those of headings 60.01 to 60.04\"],[\"Coats; men's or boys' overcoats, car-coats, capes, cloaks, anoraks, ski-jackets, wind-cheaters, wind-jackets and similar articles; knitted or crocheted, other than those of heading no. 6103\"],[\"Coats; women's or girls' overcoats, car-coats, capes, cloaks, anoraks, ski-jackets, wind-cheaters, wind-jackets and similar articles, knitted or crocheted, other than those of heading no. 6104\"],[\"Suits, ensembles, jackets, blazers, trousers, bib and brace overalls, breeches, shorts (not swimwear); men's or boys', knitted or crocheted\"],[\"Suits, ensembles, jackets, dresses, skirts, divided skirts, trousers, bib and brace overalls, breeches and shorts (not swimwear), women's or girls', knitted or crocheted\"],[\"Shirts; men's or boys', knitted or crocheted\"],[\"Blouses, shirts and shirt-blouses; women's or girls', knitted or crocheted\"],[\"Underpants, briefs, nightshirts, pyjamas, bathrobes, dressing gowns and similar articles; men's or boys', knitted or crocheted\"],[\"Slips, petticoats, briefs, panties, nightdresses, pyjamas, negligees, bathrobes, dressing gowns and similar articles; women's or girls', knitted or crocheted\"],[\"T-shirts, singlets and other vests; knitted or crocheted\"],[\"Jerseys, pullovers, cardigans, waistcoats and similar articles; knitted or crocheted\"],[\"Garments and clothing accessories, babies'; knitted or crocheted\"],[\"Track suits, ski suits and swimwear; knitted or crocheted\"],[\"Garments; knitted or crocheted, n.e.c. in chapter 61\"],[\"Hosiery; panty hose, tights, stockings, socks and other hosiery, including graduated compression hosiery (for example, stockings for varicose veins) and footwear without applied soles, knitted or crocheted\"],[\"Gloves, mittens and mitts; knitted or crocheted\"],[\"Clothing accessories; made up, knitted or crocheted, knitted or crocheted parts of garments or of clothing accessories\"],[\"Coats; women's or girls' overcoats, carcoats, capes, cloaks, anoraks, ski-jackets, wind-cheaters, wind-jackets and similar articles, other than those of heading no. 6204 (not knitted or crocheted)\"],[\"Suits, ensembles, jackets, blazers, trousers, bib and brace overalls, breeches and shorts (other than swimwear); men's or boys' (not knitted or crocheted)\"],[\"Suits, ensembles, jackets, dresses, skirts, divided skirts, trousers, bib and brace overalls, breeches and shorts (other than swimwear); women's or girls' (not knitted or crocheted)\"],[\"Shirts; men's or boys' (not knitted or crocheted)\"],[\"Blouses, shirts and shirt-blouses; women's or girls' (not knitted or crocheted)\"],[\"Singlets and other vests, underpants, briefs, night-shirts, pyjamas, bathrobes, dressing gowns and similar articles; men's or boys' (not knitted or crocheted)\"],[\"Singlets and other vests, slips, petticoats, briefs, panties, nightdresses, pyjamas, negligees, bathrobes, dressing gowns and similar articles; women's or girls' (not knitted or crocheted)\"],[\"Garments and clothing accessories; babies' (not knitted or crocheted)\"],[\"Garments made up of fabrics of heading no. 5602, 5603, 5903, 5906 or 5907 (not knitted or crocheted)\"],[\"Track suits, swimwear and other garments (not knitted or crocheted)\"],[\"Brassieres, girdles, corsets, braces, suspenders, garters and similar articles and parts thereof; whether or not knitted or crocheted\"],[\"Shawls, scarves, mufflers, mantillas, veils and the like (not knitted or crocheted)\"],[\"Ties, bow ties and cravats (not knitted or crocheted)\"],[\"Gloves, mittens and mitts (not knitted or crocheted)\"],[\"Clothing accessories n.e.c.; parts of garments or accessories other than those of heading no. 6212 (not knitted or crocheted)\"],[\"Blankets and travelling rugs\"],[\"Bed linen, table linen, toilet linen and kitchen linen\"],[\"Curtains (including drapes) and interior blinds; curtain or bed valances\"],[\"Furnishing articles; excluding those of heading no. 9404\"],[\"Sacks and bags, of a kind used for the packing of goods\"],[\"Tarpaulins, awnings and sunblinds; tents; sails for boats, sailboards or landcraft; camping goods\"],[\"Textiles; made up articles n.e.c. in chapter 63, including dress patterns\"],[\"Textiles; sets of woven fabric and yarn, with or without accessories, for making into rugs, tapestries, embroidered tablecloths, serviettes and similar textile articles, in packings for retail sale\"],[\"Textiles; worn clothing and other worn articles\"],[\"Rags; used or new, scrap twine, cordage, rope and cables and worn out articles of twine, cordage, rope or cables, of textile materials\"],[\"Footwear; waterproof, with outer soles and uppers of rubber or plastics, (uppers not fixed to the sole nor assembled by stitch, rivet, nail, screw, plug or similar)\"],[\"Footwear; with outer soles and uppers of rubber or plastics (excluding waterproof footwear)\"],[\"Footwear; with outer soles of rubber, plastics, leather or composition leather and uppers of leather\"],[\"Footwear; other footwear n.e.c. in chapter 64\"],[\"Footwear; parts of footwear; removable in-soles, heel cushions and similar articles; gaiters, le.g.ings and similar articles, and parts thereof\"],[\"Hat-forms, hat bodies and hoods of felt, neither blocked to shape nor with made brims; plateaux and manchons (including slit manchons) of felt\"],[\"Hat-shapes; plaited or made by assembling strips of any material, neither blocked to shape, nor with made brims, nor lined, nor trimmed\"],[\"Hats and other headgear; plaited or made by assembling strips of any material, whether or not lined or trimmed\"],[\"Hats and other headgear; knitted or crocheted, or made up from lace, felt or other textile fabric, in the piece (but not in strips), whether or not lined or trimmed; hair-nets of any material, whether or not lined or trimmed\"],[\"Headgear; n.e.c. in chapter 65, whether or not lined or trimmed\"],[\"Head-bands, linings, covers, hat foundations, hat frames, peaks and chinstraps, for headgear\"],[\"Umbrellas; sun umbrellas (including walking stick umbrellas, garden umbrellas and similar umbrellas)\"],[\"Walking-sticks, seat-sticks, whips, riding-crops and the like\"],[\"Skin and other parts of birds with their feather or down; feathers, parts of feather, down and articles thereof (other than goods of heading no. 0505 and worked quills and scapes)\"],[\"Flowers, foliage and fruit, artificial, and parts thereof; articles made of artificial flowers, foliage or fruit\"],[\"Wigs, false beards, eyebrows and eyelashes, switches and the like, of human or animal hair or of textile materials; articles of human hair, n.e.c. or included\"],[\"Stone; setts, curbstones and flagstones, of natural stone (except slate)\"],[\"Monumental or building stone, worked (except slate) and articles thereof (not of heading no. 6801) mosaic cubes etc., of natural stone including slate; artificially coloured granules of natural stone\"],[\"Millstones, grindstones, grinding wheels, etc without frameworks, for grinding, sharpening, polishing, etc and parts thereof, natural stone, agglomerated natural or artificial abrasives or of ceramics\"],[\"Abrasive powder or grain; natural or artificial, on a base of textile material, of paper, paperboard or of other material, whether or not cut to shape or sewn or otherwise made up\"],[\"Asphalt or similar material; articles (e.g. petroleum bitumen or coal tar pitch)\"],[\"Cement, concrete or artificial stone; whether or not reinforced, articles thereof\"],[\"Fabricated asbestos fibres; mixtures with a basis of asbestos or of asbestos and magnesium carbonate; articles of such mixtures or of asbestos (e.g. thread, woven fabric, clothing, footwear), whether or not reinforced, not goods of heading 6811 or 6813\"],[\"Friction material and articles thereof (e.g. sheets, rolls, strips, segments, discs, washers, pads) not mounted; for brakes, clutches or the like, with a basis of asbestos, other mineral substances, or cellulose\"],[\"Mica; worked, articles of, including agglomerated or reconstituted mica; whether or not on a support of paper, paperboard or other materials\"],[\"Stone or other mineral substances; articles thereof (including articles of peat), n.e.c. or included\"],[\"Refractory bricks, blocks, tiles and similar refractory ceramic constructional goods; other than those of siliceous fossil meals or similar siliceous earths\"],[\"Ceramic goods; (e.g. retorts, crucibles, muffles, nozzles, plugs, supports cupels, tubes, pipes, sheaths, rods) excluding those of siliceous fossil meals or of similar siliceous earths\"],[\"Ceramic pipes, conduits, guttering and pipe fittings\"],[\"Ceramic flags and paving, hearth or wall tiles, unglazed; unglazed ceramic mosaic cubes and the like, whether or not on a backing\"],[\"Ceramic flags and paving, hearth or wall tiles, glazed; glazed ceramic mosaic cubes and the like, whether or not on a backing\"],[\"Ceramic ware for laboratory, chemical, other technical uses; ceramic troughs, tubs, similar receptacles used in agriculture; ceramic pots, jars and similar used in the conveyance or packing of goods\"],[\"Ceramic sinks, wash basins, wash basin pedestals, baths, bidets, water closet pans, flushing cisterns, urinals and similar sanitary fixtures\"],[\"Tableware, kitchenware, other household articles and toilet articles; of porcelain or china\"],[\"Ceramic tableware, kitchenware, other household articles and toilet articles; other than of porcelain or china\"],[\"Statuettes and other ornamental ceramic articles\"],[\"Ceramic articles; n.e.c. in chapter 69\"],[\"Glass; cullet and other waste and scrap of glass, glass in the mass\"],[\"Glass in balls (other than microspheres of heading no. 7018), rods or tubes, unworked\"],[\"Glass; drawn glass and blown glass, in sheets, whether or not having an absorbent, reflecting or non-reflecting layer, but not otherwise worked\"],[\"Glass of heading no. 7003, 7004 or 7005, bent, edge-worked, engraved, drilled, enamelled or otherwise worked, not framed or fitted with other materials\"],[\"Safety glass, consisting of toughened (tempered) or laminated glass\"],[\"Glass mirrors; whether or not framed, including rear-view mirrors\"],[\"Carboys, bottles, flasks, jars, pots, phials, ampoules, containers of glass of a kind used for the conveyance or packing of goods; preserving jars of glass; stoppers, lids and other closures of glass\"],[\"Glassware of a kind used for table, kitchen, toilet, office, indoor decoration or similar purposes (other than of heading no. 7010 or 7018)\"],[\"Glass; paving blocks, slabs, bricks, tiles etc, of pressed, moulded glass, whether or not wired, glass smallwares for decorative purposes leaded lights and the like; multicellular or foam glass\"],[\"Laboratory, hygienic or pharmaceutical glassware, whether or not graduated or calibrated\"],[\"Glass beads, imitation pearls, precious or semi-precious stones and similar glass smallwares, statuettes and other ornaments of worked glass; glass microspheres not exceeding 1mm in diameter\"],[\"Glass fibres (including glass wool) and articles thereof (e.g. yarn, woven fabrics)\"],[\"Glass; articles n.e.c. in chapter 70\"],[\"Silver (including silver plated with gold or platinum); unwrought or in semi-manufactured forms, or in powder form\"],[\"Gold (including gold plated with platinum) unwrought or in semi-manufactured forms, or in powder form\"],[\"Platinum; unwrought or in semi-manufactured forms, or in powder form\"],[\"Waste and scrap of precious metal or of metal clad with precious metal; other waste and scrap containing precious metal compounds, of a kind uses principally for the recovery of precious metal\"],[\"Jewellery articles and parts thereof, of precious metal or of metal clad with precious metal\"],[\"Articles of precious metal or of metal clad with precious metal\"],[\"Imitation jewellery\"],[\"Pig iron and spiegeleisen in pigs, blocks or other primary forms\"],[\"Ferro-alloys\"],[\"Ferrous products obtained by direct reduction of iron ore and other spongy ferrous products, in lumps, pellets or the like; iron having a minimum purity of 99.94%, in lumps, pellets or similar forms\"],[\"Ferrous waste and scrap; remelting scrap ingots of iron or steel\"],[\"Iron or non-alloy steel; flat-rolled products of a width of 600mm or more, hot-rolled, not clad, plated or coated\"],[\"Iron or non-alloy steel; flat-rolled products, width 600mm or more, cold-rolled (cold-reduced), not clad, plated or coated\"],[\"Iron or non-alloy steel; flat-rolled products, width 600mm or more, clad, plated or coated\"],[\"Iron or non-alloy steel; flat-rolled products, width less than 600mm, not clad, plated or coated\"],[\"Iron or non-alloy steel; flat-rolled products, width less than 600mm, clad, plated or coated\"],[\"Iron or non-alloy steel; bars and rods, hot-rolled, in irregularly wound coils\"],[\"Iron or non-alloy steel; bars and rods, not further worked than forged, hot-rolled, hot drawn or hot-extruded, but including those twisted after rolling\"],[\"Iron or non-alloy steel; bars and rods, n.e.c. in chapter 72\"],[\"Iron or non-alloy steel, angles, shapes and sections\"],[\"Wire of iron or non-alloy steel\"],[\"Stainless steel in ingots or other primary forms; semi-finished products of stainless steel\"],[\"Stainless steel; flat-rolled products of width of 600mm or more\"],[\"Stainless steel; flat-rolled products of width less than 600mm\"],[\"Stainless steel bars and rods, angles, shapes and sections\"],[\"Stainless steel wire\"],[\"Alloy steel flat-rolled products, of a width of less than 600mm\"],[\"Alloy steel bars, rods, shapes and sections; hollow drill bars and rods, of alloy or non-alloy steel\"],[\"Wire of other alloy steel\"],[\"Iron or steel sheet piling, whether or not drilled, punched or made from assembled elements; welded angles, shapes and sections, of iron or steel\"],[\"Railway or tramway track constructions of iron or steel; rails, check and track rails, switch blades, crossing frogs, point rods, sleepers, fish-plates, chair wedges, sole plates, bedplates, ties and the like\"],[\"Tubes, pipes and hollow profiles, seamless, of iron (other than cast iron) or steel\"],[\"Iron or steel (excluding cast iron); tubes and pipes (e.g. welded, riveted or similarly closed), having circular cross-sections, external diameter of which exceeds 406.4mm, not seamless\"],[\"Iron or steel (excluding cast iron); tubes, pipes and hollow profiles (not seamless), n.e.c. in chapter 73\"],[\"Tube or pipe fittings (e.g. couplings, elbows, sleeves), of iron or steel\"],[\"Structures of iron or steel and parts thereof; plates, rods, angles, shapes, sections, tubes and the like, prepared for use in structures\"],[\"Reservoirs, tanks, vats and similar containers; for any material (excluding compressed or liquefied gas), of iron or steel, capacity exceeding 300l, whether or not lined or heat insulated\"],[\"Tanks, casks, drums, cans, boxes and similar containers, for any material (excluding compressed or liquefied gas), of iron or steel, capacity not exceeding 300l, whether or not lined or heat-insulated\"],[\"Containers for compressed or liquefied gas, of iron or steel\"],[\"Stranded wire, ropes, cables, plaited bands, slings and the like, of iron or steel, not electrically insulated\"],[\"Barbed wire of iron or steel; twisted hoop or single flat wire, barbed or not and loosely twisted double wire, of a kind used for fencing, of iron or steel\"],[\"Cloth (including endless bands), grill, netting and fencing, of iron or steel wire; expanded metal of iron or steel\"],[\"Chain and parts thereof, of iron or steel\"],[\"Nails, tacks, drawing pins, corrugated nails, staples (not those of heading no. 8305) and the like, of iron or steel, with heads of other material or not, but excluding articles with heads of copper\"],[\"Screws, bolts, nuts, coach screws, screw hooks, rivets, cotters, cotter-pins, washers (including spring washers) and similar articles, of iron or steel\"],[\"Sewing and knitting needles, bodkins, crochet hooks, embroidery stilettos and similar articles, for use in the hand, of iron or steel; safety pins and other pins of iron or steel, not elsewhere specified or included\"],[\"Springs and leaves for springs, of iron or steel\"],[\"Stoves, ranges, grates, cookers (those with subsidiary boilers for central heating), barbecues, braziers, gas-rings, plate warmers and similar non-electric domestic appliances and parts, of iron or steel\"],[\"Radiators for central heating, not electrically heated and parts thereof, of iron or steel; air heaters, hot air distributors not electrically heated, with motor fan or blower\"],[\"Table, kitchen, other household articles and parts, of iron or steel; iron or steel wool; pot scourers and scouring or polishing pads, gloves and the like, of iron or steel\"],[\"Sanitary ware and parts thereof, of iron or steel\"],[\"Iron or steel; cast articles\"],[\"Iron or steel; articles, n.e.c. in chapter 73\"],[\"Copper; refined and copper alloys, unwrought\"],[\"Copper; waste and scrap\"],[\"Copper; bars, rods and profiles\"],[\"Copper wire\"],[\"Copper foil (whether or not printed or backed with paper, paperboard, plastics or similar backing materials) of a thickness (excluding any backing) not exceeding 0.15mm\"],[\"Copper tubes and pipes\"],[\"Copper; tube or pipe fittings (e.g. couplings, elbows, sleeves)\"],[\"Copper; stranded wire, cables, plaited bands and the like, not electrically insulated\"],[\"Copper, nails, tacks, drawing pins, staples (not those of heading no. 8305) and the like, of copper or iron or steel with heads of copper; screws bolts, nuts, screws hooks, rivets, cotters, washers\"],[\"Copper; table, kitchen or other household articles and parts thereof; pot scourers, scouring, polishing pads, gloves and the like; sanitary ware and parts thereof\"],[\"Copper; articles thereof n.e.c. in chapter 74\"],[\"Nickel; unwrought\"],[\"Nickel; waste and scrap\"],[\"Nickel; tubes, pipes and tube or pipe fittings (e.g. couplings, elbows, sleeves)\"],[\"Nickel; articles thereof n.e.c. in chapter 75\"],[\"Aluminium; waste and scrap\"],[\"Aluminium; bars, rods and profiles\"],[\"Aluminium wire\"],[\"Aluminium; plates, sheets and strip, thickness exceeding 0.2mm\"],[\"Aluminium foil (whether or not printed or backed with paper, paperboard, plastics or similar backing materials) of a thickness (excluding any backing) not exceeding 0.2mm\"],[\"Aluminium; tubes and pipes\"],[\"Aluminium; tube or pipe fittings (e.g. couplings, elbows, sleeves)\"],[\"Aluminium; structures (excluding prefabricated buildings of heading no. 9406) and parts (e.g. bridges and sections, towers, lattice masts, etc) plates, rods, profiles and tubes for structures\"],[\"Aluminium casks, drums, cans, boxes etc (including rigid, collapsible tubular containers), for materials other than compressed, liquefied gas, 300l capacity or less, lined, heat-insulated or not\"],[\"Aluminium; containers for compressed or liquefied gas\"],[\"Aluminium; stranded wire, cables, plaited bands and the like, (not electrically insulated)\"],[\"Aluminium; table, kitchen or other household articles and parts thereof, pot scourers and scouring or polishing pads, gloves and the like, sanitary ware and parts thereof\"],[\"Aluminium; articles n.e.c. in chapter 76\"],[\"Lead; unwrought\"],[\"Lead; plates, sheets, strip and foil, lead powders and flakes\"],[\"Lead; articles n.e.c. in chapter 78\"],[\"Zinc; unwrought\"],[\"Zinc; waste and scrap\"],[\"Zinc; dust, powders and flakes\"],[\"Zinc; bars, rods, profiles and wire\"],[\"Tin; bars, rods, profiles and wire\"],[\"Tungsten (wolfram); articles thereof, including waste and scrap\"],[\"Magnesium; articles thereof, including waste and scrap\"],[\"Titanium; articles thereof, including waste and scrap\"],[\"Zirconium; articles thereof, including waste and scrap\"],[\"Manganese; articles thereof, including waste and scrap\"],[\"Tools, hand; spades, shovels, mattocks, picks, hoes, forks, rakes; axes, bill hooks etc; secateurs and pruners of any kind; scythes, sickles, hay knives, hedge shears, timber wedges and other tools used in agriculture, horticulture, forestry\"],[\"Tools, hand; saws and blades for saws of all kinds (including slitting, slotting or toothless blades)\"],[\"Tools, hand; files, rasps, pliers (including cutting pliers), pincers, tweezers, metal cutting shears, pipe cutters, bolt croppers, perforating punches and similar\"],[\"Tools, hand; hand-operated spanners and wrenches (including torque meter wrenches but not including tap wrenches), interchangeable spanner sockets, with or without handles\"],[\"Tools, hand; (including glaziers' diamonds) n.e.c.; blow lamps; vices, clamps etc, other than accessories for and parts of, machine tools; anvils; portable forges; hand or pedal operated grinding wheels with frameworks\"],[\"Tools, hand; two or more of heading no. 8202 to 8205, put up in sets for retail sale\"],[\"Tools, interchangeable; for hand tools, whether or not power-operated, or for machine tools (pressing, stamping, punching, drilling etc), including dies for drawing or extruding metal, and rock drilling or earth boring tools\"],[\"Knives and cutting blades, for machines or for mechanical appliances\"],[\"Tools; plates, sticks, tips and the like for tools, unmounted, of sintered metal carbides or cermets\"],[\"Knives; with cutting blades, serrated or not (including pruning knives), other than knives of heading no. 8208, and blades therefore\"],[\"Razors and razor blades; (including razor blade blanks in strips)\"],[\"Scissors; tailors' shears and similar shears, and blades therefore\"],[\"Cutlery; other articles, (e.g. hair clippers, butchers' or kitchen cleavers, choppers and mincing knives, paper knives), manicure or pedicure sets and instruments (including nail files)\"],[\"Cutlery; spoons, forks, ladles, skimmers, cake-servers, fish-knives, butter knives, sugar tongs and similar kitchen or tableware\"],[\"Padlocks and locks (key, combination, electrically operated) of base metal; clasps and frames with clasps incorporating locks, of base metal, keys for any or the foregoing articles, of base metal\"],[\"Base metal mountings, fittings and similar articles for furniture, doors, staircases, windows, trunks, chests etc, castors with mountings of base metal, automatic door closers of base metal\"],[\"Safes; armoured or reinforced, strong-boxes, doors and safe deposit lockers for strong-rooms, cash or deed boxes and the like, of base metal\"],[\"Stationery; fittings for loose-leaf binders or files, letter clips, letter corners, paper clips, indexing tags and the like, staples in strips (for offices, upholstery, packaging), of base metal\"],[\"Bells, gongs and the like; non-electric, statuettes, other ornaments, photograph, picture, similar frames, mirrors, of base metal\"],[\"Tubing; flexible, with or without fittings, of base metal\"],[\"Clasps; frames with clasps, buckles, hooks, eyes, eyelets etc used for clothing, footwear, awnings, handbags, travel goods or other articles, tubular, bifurcated rivets, beads, spangles, of base metal\"],[\"Stoppers, caps, lids (including crown corks, screw caps, pouring stoppers); capsules for bottles, threaded bungs, bung covers, seals and other packaging accessories, of base metal\"],[\"Sign plates, name plates, address plates and similar plates, numbers, letters and other symbols, of base metal, excluding those of heading no. 9405\"],[\"Wires, rods, tubes, plates, electrodes of base metal or metal carbides; of a kind used for soldering, brazing, welding; wires and rods for metal spraying\"],[\"Nuclear reactors; fuel elements (cartridges), non-irradiated, for nuclear reactors, machinery and apparatus for isotopic separation\"],[\"Central heating boilers; excluding those of heading no. 8402\"],[\"Generators for producer or water gas with or without their purifiers acetylene gas generators and similar water process gas generators, with or without their purifiers\"],[\"Turbines; steam and other vapour turbines\"],[\"Reciprocating or rotary internal combustion piston engines\"],[\"Compression-ignition internal combustion piston engines (diesel or semi-diesel engines)\"],[\"Parts suitable for use solely or principally with the engines of heading no. 8407 or 8408\"],[\"Turbines; hydraulic water wheels and regulators therefor\"],[\"Turbo-jets, turbo-propellers and other gas turbines\"],[\"Engines and motors; n.e.c. (e.g. reaction engines, hydraulic power engines, pneumatic power engines)\"],[\"Pumps; for liquids, whether or not fitted with measuring device, liquid elevators\"],[\"Air or vacuum pumps, air or other gas compressors and fans; ventilating or recycling hoods incorporating a fan whether or not fitted with filters\"],[\"Air conditioning machines; comprising a motor driven fan and elements for changing the temperature and humidity, including those machines in which the humidity cannot be separately regulated\"],[\"Furnace burners for liquid fuel, for pulverised solid fuel or for gas; mechanical grates, mechanical ash dischargers and similar appliances\"],[\"Furnaces and ovens; industrial or laboratory, including incinerators, non-electric\"],[\"Refrigerators, freezers and other refrigerating or freezing equipment, electric or other; heat pumps other than air conditioning machines of heading no. 8415\"],[\"Machinery, plant (not domestic), or laboratory equipment; electrically heated or not, (excluding items in 85.14) for the treatment of materials by a process involving change of temperature; including instantaneous or non electric storage water heaters\"],[\"Machines; calendering or other rolling machines, for other than metal or glass and cylinders therefor\"],[\"Centrifuges, including centrifugal dryers; filtering or purifying machinery and apparatus for liquids or gases\"],[\"Dish washing machines; machinery for cleaning, drying, filling, closing, sealing, capsuling or labelling bottles, cans, boxes, bags, etc, machinery for aerating beverages\"],[\"Weighing machines; excluding balances of a sensitivity of 5cg or better, including weight operated counting or checking machines and weights of all kinds\"],[\"Mechanical appliances for projecting, dispersing or spraying liquids or powders; fire extinguishers, spray guns, steam, sand blasting machines\"],[\"Pulley tackle and hoists other than skip hoists; winches and capstans; jacks\"],[\"Derricks, cranes, including cable cranes, mobile lifting frames, straddle carriers and works trucks fitted with a crane\"],[\"Fork-lift and other works trucks; fitted with lifting or handling equipment\"],[\"Lifting, handling, loading or unloading machinery; n.e.c. in heading no. 8425, 8426 or 8427 (e.g. lifts, escalators, conveyors, teleferics)\"],[\"Bulldozers, graders, levellers, scrapers, angledozers, mechanical shovels, excavators, shovel loaders, tamping machines and road rollers, self-propelled\"],[\"Moving, grading, levelling, scraping, excavating, tamping, compacting, extracting or boring machinery, for earth, minerals, or ores; pile drivers and extractors; snow ploughs and snow blowers\"],[\"Machinery parts; used solely or principally with the machinery of heading no. 8425 to 8430\"],[\"Agricultural, horticultural or forestry machinery for soil preparation or cultivation; lawn or sports-ground rollers\"],[\"Harvesting and threshing machinery, straw and fodder balers, grass or hay mowers; machines for cleaning, sorting or grading eggs, fruit or other agricultural produce, other than machinery of heading no 8437\"],[\"Agricultural, horticultural, forestry, poultry-keeping, bee-keeping machinery; including germination plant fitted with mechanical or thermal equipment; poultry incubators and brooders\"],[\"Machines for cleaning, sorting, grading seed, grain, dried leguminous vegetables; machinery used in the milling industry for the working of cereals or dried leguminous vegetables, not farm type machinery\"],[\"Machinery n.e.c. in this chapter, for the industrial preparation or manufacture of food or drink; other than machinery for extraction or preparation of animal or fixed vegetable fats or oils\"],[\"Machinery; for making pulp of fibrous cellulosic material, or for making or finishing paper or paperboard\"],[\"Machines; for making up paper pulp, paper or paperboard, including cutting machines of all kinds\"],[\"Machinery, apparatus and equipment (excluding machine-tools of heading no. 8456 to 8465) for preparing or making printing components; plates, cylinders and other printing components; lithographic stones prepared for printing purposes\"],[\"Printing machinery; used for printing by means of plates, cylinders and other printing components of heading 84.42; other printers, copying machines and facsimile machines, whether or not combined; parts and accessories thereof\"],[\"Textile machinery; for extruding, drawing, texturing or cutting man-made textile materials\"],[\"Textile machinery; spinning, doubling, twisting machines, textile reeling or winding machines and machines for preparing textile yarns for use on machines of heading no. 8446 and 8447\"],[\"Weaving machines (looms)\"],[\"Knitting machines, stitch-bonding machines and machines for making gimped yarn, tulle, lace, embroidery, trimmings, braid or net and machines for tufting\"],[\"Machinery, auxiliary; for use with machines of heading no. 8444 to 8447 (e.g. dobbies, jacquards, automatic stop motions, shuttle changing mechanisms) parts, accessories for machines of heading no. 8444, 8447\"],[\"Household or laundry-type washing machines; including machines which both wash and dry\"],[\"Machinery (not of heading no. 8450) for washing, cleaning, wringing, drying, ironing, pressing, bleaching, dyeing, dressing, finishing, coating or impregnating textile yarn, fabrics or made up articles\"],[\"Sewing machines; other than book-sewing machines of heading no. 8440; furniture, bases and covers specially designed for sewing machines; sewing machine needles\"],[\"Machinery for preparing, tanning or working hides, skins or leather or for making or repairing footwear or other articles of hides, skins or leather, other than sewing machines\"],[\"Machine-tools; for working any material by removal of material, by laser or other light or photon beam, ultrasonic, electro-discharge, electro-chemical, electron beam, ionic-beam, or plasma arc processes; water-jet cutting machines\"],[\"Lathes for removing metal\"],[\"Machine-tools; (including way-type unit head machines) for drilling, boring, milling, threading or tapping by removing metal, other than lathes of heading no. 8458\"],[\"Machine-tools; for deburring, sharpening, grinding, honing, lapping, polishing or otherwise finishing metal, sintered metal carbides or cermets by means of grinding stones, abrasives or polishing products\"],[\"Machine-tools; for planing, shaping, slotting, broaching, gear cutting and grinding, finishing, sawing, cutting off and other tools working by removing metal, sintered metal carbides or cermets n.e.c.\"],[\"Machine-tools; (including presses) for working metal by forging, hammering or die-stamping, for bending, folding, straightening, flattening, shearing or punching metal\"],[\"Machine-tools; n.e.c. for working metal, sintered metal carbides or cermets without removing material\"],[\"Machine-tools; for working stone, ceramics, concrete, asbestos-cement or like mineral materials or for cold working glass\"],[\"Machine-tools; (including machines for nailing, stapling, glueing or otherwise assembling) for working wood, cork, bone, hard plastics or rubber or similar hard materials\"],[\"Machine-tools; parts and accessories suitable for use solely or principally with the machines of headings 8456 to 8465, and tool holders for any type of tool for working in the hand\"],[\"Tools; for working in the hand, pneumatic, hydraulic or with self-contained electric or non-electric motor\"],[\"Machinery and apparatus for soldering, brazing, welding, whether or not capable of cutting, other than those of heading no. 8515; gas-operated surface tempering machines and appliances\"],[\"Calculating machines and pocket-size data recording, reproducing and displaying machines with calculating functions; accounting machines, postage-franking machines, ticket-issuing machines and similar, incorporating a calculating device; cash registers\"],[\"Automatic data processing machines and units thereof, magnetic or optical readers, machines for transcribing data onto data media in coded form and machines for processing such data, not elsewhere specified or included\"],[\"Office machines; not elsewhere classified\"],[\"Machinery; parts and accessories (not covers, carrying cases and the like) suitable for use solely or principally with machines of heading no. 8469 to 8472\"],[\"Machinery for sorting, screening, separating, washing, crushing, grinding, mixing or kneading earth, stone, ores in solid form, shaping, moulding machinery for solid mineral fuels\"],[\"Machines; for assembling electric or electronic lamps, tubes, valves, flashbulbs, in glass envelopes, machines for manufacturing or hot working glass or glassware\"],[\"Automatic goods-vending machines (e.g. postage stamp, cigarette, food or beverage machines), including money-changing machines\"],[\"Machinery; for working rubber or plastics or for the manufacture of products from these materials, n.e.c. in this chapter\"],[\"Machinery; for preparing or making up tobacco, n.e.c. in this chapter\"],[\"Machinery and mechanical appliances; having individual functions, n.e.c. in this chapter\"],[\"Moulding boxes for metal foundry, moulding patterns, moulds for metals (excluding ingot moulds), metal carbides, glass, mineral materials, rubber or plastics\"],[\"Taps, cocks, valves and similar appliances for pipes, boiler shells, tanks, vats or the like, including pressure-reducing valves and thermostatically controlled valves\"],[\"Ball or roller bearings\"],[\"Transmission shafts (including cam and crank) and cranks; bearing housings and plain shaft bearings; gears and gearing; ball or roller screws; gear boxes and other speed changers; flywheels and pulleys; clutches and shaft couplings\"],[\"Gaskets and similar joints of metal sheeting combined with other material or of two or more layers of metal; sets or assortments of gaskets and similar joints, dissimilar in composition, put up in pouches, envelopes or similar packings; mechanical seals\"],[\"Machinery parts; not containing electrical connectors, insulators, coils, contacts or other electrical features, n.e.c. in this chapter\"],[\"Electric motors and generators (excluding generating sets)\"],[\"Electric generating sets and rotary converters\"],[\"Electric motors and generators; parts suitable for use solely or principally with the machines of heading no. 8501 or 8502\"],[\"Electric transformers, static converters (e.g. rectifiers) and inductors\"],[\"Electro-magnets; permanent magnets, intended permanent magnets; electro-magnetic, permanent magnet chucks, clamps, similar; electromagnetic couplings, clutches, brakes; electro-magnetic lifting heads\"],[\"Cells and batteries; primary\"],[\"Electric accumulators, including separators therefor; whether or not rectangular (including square)\"],[\"Vacuum cleaners\"],[\"Electro-mechanical domestic appliances; with self-contained electric motor, other than vacuum cleaners of heading 85.08.\"],[\"Shavers, hair clippers and hair removing appliances, with self-contained electric motor\"],[\"Ignition or starting equipment; used for spark-ignition or compression-ignition internal combustion engines; generators and cut outs used in conjunction with such engines\"],[\"Lighting or visual signalling equipment (excluding articles of heading no. 8539), windscreen wipers, defrosters and demisters; electrical, of a kind used for cycles or motor vehicles\"],[\"Lamps; portable, electric, designed to function by their own source of energy (e.g. dry batteries, accumulators, magnetos), excluding lighting equipment of heading no. 8512\"],[\"Industrial or laboratory electric furnaces and ovens (including those functioning by induction or dielectric loss); other industrial or laboratory equipment for the heat treatment of materials by induction or dielectric loss\"],[\"Electric (electrically heated gas) soldering, brazing, welding machines and apparatus, capable or not of cutting, electric machines and apparatus for hot spraying of metals or sintered carbides\"],[\"Electric water, space, soil heaters; electro-thermic hair-dressing apparatus; hand dryers, irons; electro-thermic appliances for domestic purposes; electro heating resistors, not of heading no. 8545\"],[\"Telephone sets, including telephones for cellular networks or for other wireless networks; other apparatus for the transmission or reception of voice, images or other data (including wired/wireless networks), excluding items of 8443, 8525, 8527, or 8528\"],[\"Microphones and their stands; loudspeakers, mounted or not in their enclosures; headphones and earphones, combined or not with a microphone, and sets of a microphone and one or more loudspeakers; audio frequency and electric sound amplifiers and sets\"],[\"Video recording or reproducing apparatus\"],[\"Sound or video recording apparatus; parts and accessories suitable for use solely or principally with the apparatus of heading 8519 or 8521\"],[\"Discs, tapes, solid-state non-volatile storage devices, smart cards and other media for the recording of sound or of other phenomena, whether or not recorded, including matrices and masters for the production of discs, excluding products of Chapter 37\"],[\"Transmission apparatus for radio-broadcasting or television, whether or not incorporating reception apparatus or sound recording or reproducing apparatus; television cameras, digital cameras and video camera recorders\"],[\"Radar apparatus, radio navigational aid apparatus and radio remote control apparatus\"],[\"Reception apparatus for radio-broadcasting, whether or not combined, in the same housing, with sound recording or reproducing apparatus or a clock.\"],[\"Monitors and projectors, not incorporating television reception apparatus; reception apparatus for television, whether or not incorporating radio-broadcast receivers or sound or video recording or reproducing apparatus\"],[\"Transmission apparatus; parts suitable for use solely or principally with the apparatus of heading no. 8525 to 8528\"],[\"Signalling, safety or traffic control equipment; for railways, tramways, roads, inland waterways, parking facilities, port installations, airfields, excluding those of heading no. 8608\"],[\"Signalling apparatus; electric sound or visual (e.g. bells, sirens, indicator panels, burglar or fire alarms), excluding those of heading no. 8512 or 8530\"],[\"Electrical capacitors; fixed, variable or adjustable (pre-set)\"],[\"Electrical resistors (including rheostats and potentiometers), excluding heating resistors\"],[\"Electrical apparatus for switching, protecting electrical circuits, for making connections to or in electrical circuits; for a voltage exceeding 1000 volts\"],[\"Electrical apparatus for switching, protecting electrical circuits, for making connections to or in electrical circuits, for a voltage not exceeding 1000 volts; connectors for optical fibres, optical fibre bundles or cables\"],[\"Boards, panels, consoles, desks, cabinets, bases with apparatus of heading no. 8535, 8536 for electricity control and distribution, (other than switching apparatus of heading no. 8517)\"],[\"Electrical apparatus; parts suitable for use solely or principally with the apparatus of heading no. 8535, 8536 and 8537\"],[\"Lamps; electric filament or discharge lamps, including sealed beam lamp units and ultra-violet or infra-red lamps, arc-lamps\"],[\"Thermionic, cold cathode or photo-cathode valves and tubes (e.g. vacuum, vapour, gas filled valves and tubes, mercury arc rectifying valves and tubes, cathode-ray and television camera tubes)\"],[\"Diodes, transistors, similar semiconductor devices; including photovoltaic cells assembled or not in modules, panels, light emitting mounted piezo-electric crystals\"],[\"Electronic integrated circuits\"],[\"Electrical machines and apparatus; having individual functions, not specified or included elsewhere in this chapter\"],[\"Insulated wire, cable and other electric conductors, connector fitted or not; optical fibre cables of individually sheathed fibres, whether or not assembled with electric conductors or fitted with connectors\"],[\"Carbon electrodes, carbon brushes, lamp carbons, battery carbons and other articles of graphite or other carbon; with or without metal, of a kind used for electrical purposes\"],[\"Electrical insulators of any material\"],[\"Insulating fittings; for electrical machines, appliances, equipment, excluding insulators of heading no. 8546, electrical conduit tubing and joints therefore\"],[\"Waste and scrap of primary cells, primary batteries and electric accumulators; spent primary cells, spent primary batteries and spent electric accumulators; electrical parts of machinery or apparatus, n.e.c. or included elsewhere in chapter 85\"],[\"Rail locomotives; (other than those of heading no. 8601), locomotive tenders\"],[\"Railway or tramway maintenance or service vehicles; whether or not self-propelled (e.g. workshops, cranes, ballast tampers, trackliners, testing coaches and track inspection vehicles)\"],[\"Railway or tramway locomotives or rolling stock; parts thereof\"],[\"Containers; (including containers for transport of fluids) specially designed and equipped for carriage by one or more modes of transport\"],[\"Tractors; (other than tractors of heading no 8709)\"],[\"Motor cars and other motor vehicles; principally designed for the transport of persons (other than those of heading no. 8702), including station wagons and racing cars\"],[\"Vehicles; for the transport of goods\"],[\"Special purpose motor vehicles; not those for the transport of persons or goods (e.g. breakdown lorries, road sweeper lorries, spraying lorries, mobile workshops, mobile radiological units etc)\"],[\"Bodies; (including cabs) for the motor vehicles of heading no. 8701 to 8705\"],[\"Motor vehicles; parts and accessories, of heading no. 8701 to 8705\"],[\"Works trucks, self-propelled, (not fitted with lifting or handling equipment), for factories, warehouses etc, for short distance transport of goods, tractors used on railway station platforms; parts thereof\"],[\"Bicycles and other cycles; including delivery tricycles, not motorised\"],[\"Carriages for disabled persons; whether or not motorised or otherwise mechanically propelled\"],[\"Vehicles; parts and accessories of heading no. 8711 to 8713\"],[\"Trailers and semi-trailers; other vehicles, not mechanically propelled; parts thereof\"],[\"Balloons and dirigibles; gliders, hang gliders and other non-powered aircraft.\"],[\"Aircraft n.e.c. in heading no. 8801 (e.g. helicopters, aeroplanes); spacecraft (including satellites) and suborbital and spacecraft launch vehicles\"],[\"Aircraft; parts of heading no. 8801 or 8802\"],[\"Yachts and other vessels; for pleasure or sports, rowing boats and canoes\"],[\"Vessels; other, including warships and lifeboats, other than rowing boats\"],[\"Boats, floating structures, other (for e.g. rafts, tanks, coffer-dams, landing stages, buoys and beacons)\"],[\"Optical fibres and optical fibre bundles; optical fibre cables not of heading no. 8544; sheets, plates of polarising material; lenses, prisms, mirrors, of any material; unmounted; not non optical glass\"],[\"Lenses, prisms, mirrors and other optical elements, of any material, mounted, being parts or fittings for instruments or apparatus, other than such elements of glass not optically worked\"],[\"Frames and mountings; for spectacles, goggles or the like, and parts\"],[\"Spectacles, goggles and the like; corrective, protective or other\"],[\"Binoculars, monoculars, other optical telescopes, mountings therefore; other astronomical instruments, mountings therefore, but not including instruments for radio-astronomy\"],[\"Cameras, photographic (excluding cinematographic); photographic flashlight apparatus and flashbulbs other than discharge lamps of heading no. 8539\"],[\"Cinematographic cameras and projectors, whether or not incorporating sound recording or reproducing apparatus\"],[\"Image projectors, other than cinematographic; photographic (other than cinematographic) enlargers and reducers\"],[\"Photographic (including cinematographic) laboratory apparatus and equipment, n.e.c. in chapter 90; negatoscopes; projection screens\"],[\"Microscopes, compound optical; including those for photomicrography, cinephotomicrography or microprojection\"],[\"Liquid crystal devices not constituting articles provided for more specifically in other headings; lasers, not laser diodes; other optical appliances and instruments n.e.c. in this chapter\"],[\"Navigational instruments and appliances; direction finding compasses\"],[\"Surveying (including photogrammetrical surveying), hydrographic, oceanographic, hydrological, meteorological or geophysical instruments and appliances, excluding compasses, rangefinders\"],[\"Balances; of a sensitivity of 5cg or better, with or without weights\"],[\"Drawing, marking-out, mathematical calculating instruments (drafting machines, protractors, drawing sets etc); instruments for measuring length (e.g. measuring rods, tapes, micrometers, callipers) n.e.c.\"],[\"Instruments and appliances used in medical, surgical, dental or veterinary sciences, including scintigraphic apparatus, other electro-medical apparatus and sight testing instruments\"],[\"Mechano-therapy, massage appliances; psychological aptitude testing apparatus; ozone, oxygen, aerosol therapy, artificial respiration or other therapeutic respiration apparatus\"],[\"Breathing appliances and gas masks; excluding protective masks having neither mechanical parts nor replaceable filters and excluding apparatus of item no. 9019.20\"],[\"Orthopaedic appliances; including crutches, surgical belts and trusses; splints and other fracture appliances; artificial parts of the body; hearing aids and other which are worn, carried or implanted in the body to compensate for a defect or disability\"],[\"X-ray, alpha, beta, gamma radiation apparatus; x-ray tubes, x-ray generators, high tension generators, control panels and desks, screens, examination or treatment tables, chairs and the like\"],[\"Instruments, apparatus and models, designed for demonstrational purposes (in education or exhibitions), unsuitable for other uses\"],[\"Machines and appliances for testing the hardness, strength, compressibility, elasticity of other mechanical properties of materials (e.g. metals, wood, textiles, paper, plastics)\"],[\"Hydrometers and similar floating instruments, thermometers, pyrometers, barometers, hygrometers and psychrometers, recording or not\"],[\"Instruments, apparatus for measuring or checking the flow, level, pressure of liquids, gases (e.g. flow meters, heat meters etc), not instruments and apparatus of heading no. 9014, 9015, 9028 or 9032\"],[\"Instruments and apparatus; for physical or chemical analysis (e.g. polarimeters, spectrometers), for measuring or checking viscosity, porosity, etc, for measuring quantities of heat, sound or light\"],[\"Gas, liquid or electricity supply or production meters, including calibrating meters therefor\"],[\"Revolution counter, production counters, taximeters, mileometers, pedometers and the like, speed indicators and tachometers, other than those of heading no. 9015, stroboscopes\"],[\"Instruments, apparatus for measuring, checking electrical quantities not meters of heading no. 9028; instruments, apparatus for measuring or detecting alpha, beta, gamma, x-ray, cosmic and other radiations\"],[\"Measuring or checking instruments, appliances and machines, n.e.c. or included in this chapter; profile projectors\"],[\"Regulating or controlling instruments and apparatus; automatic type\"],[\"Machines and appliances, instruments or apparatus of chapter 90; parts and accessories n.e.c. in chapter 90\"],[\"Wrist-watches, pocket-watches, stop-watches and other watches; with case of precious metal or of metal clad with precious metal\"],[\"Wrist-watches, pocket-watches, stop-watches and other watches, other than those of heading no. 9101\"],[\"Clocks; with watch movements, excluding clocks of heading no. 9104\"],[\"Instrument panel clocks and clocks of a similar type for vehicles, aircraft, spacecraft or vessels\"],[\"Clocks, other, n.e.c.\"],[\"Time of day recording apparatus and apparatus for measuring, recording or otherwise indicating intervals of time, with clock, watch movement or synchronous motor\"],[\"Time switches; with clock, watch movement or synchronous motor\"],[\"Watch cases and parts thereof\"],[\"Pianos; including automatic pianos, harpsichords and other keyboard stringed instruments\"],[\"Musical instruments; string, n.e.c. in heading no. 9201, (e.g. guitars, violins, harps)\"],[\"Musical instruments; wind (e.g. keyboard pipe organs, accordions, clarinets, trumpets, bagpipes), other than fairground organs and mechanical street organs\"],[\"Musical instruments; percussion (e.g. drums, xylophones, cymbals, castanets, maracas)\"],[\"Musical instruments; the sound of which is produced or must be amplified, electrically (e.g. organs, guitars, accordions)\"],[\"Musical boxes, fairground and mechanical street organs, mechanical singing birds, musical saws and musical instruments n.e.c. in chapter 92; decoy calls of all kinds; whistles; call horns and other mouth-blown sound signalling instruments\"],[\"Military weapons; other than revolvers, pistols and arms of heading no. 9307\"],[\"Firearms; parts and accessories of articles of heading no. 9301 to 9304\"],[\"Bombs, grenades, torpedoes, mines, missiles and similar munitions of war and parts thereof; cartridges and other ammunition, projectiles and parts thereof, including shot and cartridge wads\"],[\"Seats (not those of heading no. 9402), whether or not convertible into beds and parts thereof\"],[\"Furniture; medical, surgical, dental or veterinary (e.g. operating tables, hospital beds, dentists' chairs) barbers' chairs; parts\"],[\"Furniture and parts thereof, n.e.c. in chapter 94\"],[\"Mattress supports; articles of bedding (e.g. mattresses, quilts, eiderdowns, cushions pouffes and pillows), fitted with springs or stuffed, whether or not covered\"],[\"Lamps, light fittings; including searchlights, spotlights and parts thereof, n.e.c.; illuminated signs, name-plates and the like, having permanently fixed light source and parts thereof n.e.c. or included\"],[\"Buildings; prefabricated\"],[\"Tricycles, scooters, pedal cars and similar wheeled toys; dolls' carriages; dolls; other toys; reduced-size (scale) models and similar recreational models, working or not; puzzles of all kinds\"],[\"Video game consoles and machines, articles for funfair, table or parlour games, including pintables, billiards, special tables for casino games and automatic bowling alley equipment\"],[\"Festive, carnival or other entertainment articles, including conjuring tricks and novelty jokes\"],[\"Gymnastics, athletics, other sports (including table tennis) or outdoor games equipment, n.e.c. in this chapter, swimming pools and paddling pools\"],[\"Fishing rods, fish-hooks and other line fishing tackle; fish landing nets and the like; decoy birds (not those of heading no. 9208 or 9705) and similar hunting or shooting requisites\"],[\"Roundabouts, swings, shooting galleries, other fairground amusements, travelling circuses, travelling menageries and travelling theatres\"],[\"Ivory, bone, tortoise-shell, horn, antlers, coral, mother-of-pearl and other animal carving material and articles of these materials; worked, (including articles obtained by moulding)\"],[\"Vegetable, mineral carving material and articles of these materials, moulded or carved articles of wax, stearin, natural gums, resins or modelling pastes, worked unhardened gelatin (not heading no. 3503)\"],[\"Brooms, brushes (including parts of machines), hand operated floor sweepers, mops and feather dusters; knots and tufts for broom or brush making; paint pads and rollers; squeegees\"],[\"Travel sets; for personal toilet, sewing, shoe or clothes cleaning\"],[\"Buttons, press-fasteners, snap-fasteners and press-studs, button moulds and other parts of these articles; button blanks\"],[\"Slide fasteners and parts thereof\"],[\"Pens; ball-point, felt tipped, other porous tipped pens; fountain pens, stylograph pens duplicating stylos, propelling or sliding pencils; parts of the foregoing, excluding those of heading no. 9609\"],[\"Pencils (not of heading no. 9608), crayons, pencil leads, pastels, drawing charcoals, writing or drawing chalks and tailors' chalks\"],[\"Slates and boards, with writing or drawing surfaces, whether or not framed\"],[\"Stamps; date, numbering, sealing stamps and the like (including devices for printing or embossing labels), designed for operating by hand; hand operated composing sticks and printing sets\"],[\"Typewriter, similar ribbons, inked, otherwise prepared for giving impressions, whether or not on spools or in cartridges; ink pads, whether or not inked, with or without boxes\"],[\"Cigarette lighters and other lighters, whether or not mechanical or electrical and parts thereof other than flints and wicks\"],[\"Smoking pipes (including pipe bowls) and cigar or cigarette holders, and parts thereof\"],[\"Combs, hair-slides and similar; hairpins, curling pins, curling grips and hair curlers and the like, other than those of heading no. 8516 and parts thereof\"],[\"Scent sprays and similar toilet sprays and mounts and heads therefor; powder-puffs and pads for the application of cosmetics or toilet preparations\"],[\"Vacuum flasks and other vacuum vessels, complete with cases; parts thereof other than glass inners\"],[\"Tailors' dummies and other lay figures; automata and other animated displays used for shop window dressing\"],[\"Sanitary towels (pads) and tampons, napkins and napkin liners for babies and similar articles, of any material\"],[\"Paintings, drawings, pastels, executed entirely by hand; not drawings of heading no. 4906 and not hand-painted, hand-decorated manufactured articles; collages and similar decorative plaques\"],[\"Sculptures and statuary; original, in any material\"],[\"Collections and collectors' pieces; of zoological, botanical, mineralogical, anatomical, historical, archaeological, palaeontological, ethnographic or numismatic interest\"]],\"hovertemplate\":\"Netweight (kg)=%{x}<br>usd_per_ton=%{y}<br>Commodity=%{customdata[0]}<extra></extra>\",\"legendgroup\":\"\",\"marker\":{\"color\":\"#636efa\",\"symbol\":\"circle\"},\"mode\":\"markers\",\"name\":\"\",\"showlegend\":false,\"x\":[55965.0,220792.0,25602.0,165170.0,263443.0,2891.0,110.0,51513.0,561756.0,5224.0,2154804.0,997829.0,78815.0,15795157.0,46918610.0,1428291.0,94642.0,28824.0,1893479.0,2223106.0,45665.0,33601.0,32284.0,2599677.0,267231.0,29625.0,471753.0,101.0,28552507.0,2220568.0,2655741.0,1128.0,139567.0,12069865.0,126.0,34250.0,504208.0,223450.0,3041585.0,27437137.0,1017349.0,151760.0,1065969.0,500.0,10845.0,13603349.0,9149956.0,7397642.0,49766280.0,2949081.0,2551339.0,51949.0,702457.0,52.0,484524.0,46504.0,22002.0,153152.0,877516.0,46189.0,10450.0,1584878.0,80906.0,936338479.0,25088920.0,26452634.0,76573072.0,94974.0,1096389.0,3217116.0,520674.0,5746301.0,12177552.0,12600.0,8648.0,18380957.0,12417367.0,737682.0,12664.0,2614707.0,1020460.0,500.0,810800.0,916527.0,1522338.0,83637.0,352203.0,31571.0,671852.0,113046.0,674087.0,689676.0,203429.0,1470924.0,7821.0,27170.0,102674992.0,1099255.0,144216.0,70618.0,22769437.0,1288714.0,1205862.0,504306.0,365351.0,205887.0,158058.0,127152.0,195408.0,7687.0,880553.0,260.0,50833.0,63907.0,47342170.0,13871752.0,6585390.0,10394381.0,30000.0,14022.0,27.0,23684.0,5546261.0,6760972.0,4654546.0,80630.0,3757286.0,13167619.0,87169.0,5748010.0,359534.0,8449256.0,559583.0,4660.0,5575194.0,6078483.0,1260914.0,1690487.0,6938688.0,2703320.0,134521.0,121070.0,11712901.0,95962.0,3223850.0,2550864.0,5744748.0,450.0,115603.0,3805440.0,1595428.0,155812.0,26546732.0,39151114.0,3518944.0,918262086.0,1311309.0,211538.0,145138768.0,900.0,91524.0,2962949.0,42806.0,6497362.0,107801.0,1267824.0,158769.0,6612241.0,16502534.0,9024109.0,1096706.0,1405009.0,458480.0,41608.0,680125.0,198700.0,1036880.0,2596038.0,6811200.0,4408852.0,170554057.0,18202.0,98540.0,16257769.0,3084512.0,10696.0,6829679.0,961002.0,8676336.0,9146245.0,17.0,11860739.0,50.0,60000.0,15851.0,1070820.0,81.0,1026.0,12804530.0,4648328.0,947809.0,3949.0,1859547552.0,27800.0,48223.0,2992254415.0,840443779.0,8414097.0,218971033.0,425535.0,112330.0,977730.0,225947.0,7230951.0,847977.0,8465.0,1712842.0,8135679.0,4528830.0,3059299.0,933944.0,3137416.0,9033.0,3000.0,546415.0,19262928.0,21051.0,357741.0,2421582.0,35207.0,160833.0,1115225.0,3402.0,491338.0,20772.0,1868137.0,216025.0,5580288.0,3412094.0,144920.0,436237.0,309513.0,10127309.0,61447445.0,10554260.0,29966477.0,54809831.0,3380481.0,4003214.0,1389655.0,161794.0,2473173.0,2291.0,17122.0,0.0,253.0,7301771.0,1472666.0,24705.0,28.0,45663.0,145683.0,9774480.0,2498762.0,856536.0,19332137.0,137406.0,313592.0,298.0,2957823.0,5625.0,2.0,700875.0,8707.0,1686793.0,20622314.0,3424992.0,12723921.0,5458669.0,38904.0,38940.0,2000657.0,10883774.0,10374059.0,789749.0,491402.0,311375.0,32266.0,24333.0,6428691.0,5744881.0,2232292.0,270531.0,2566444.0,353952.0,111496.0,1510482.0,714.0,33454.0,11731.0,270999.0,649725.0,8970.0,492.0,1004566.0,72133.0,26760446.0,773171.0,399411.0,289452.0,457076104.0,2379107.0,159982995.0,124582974.0,258566.0,475494.0,780101.0,4714508.0,35596.0,11112321.0,6284112.0,3963155.0,2831016.0,715273.0,308054.0,431020.0,382579.0,5377381.0,2829434.0,102419.0,2796342.0,289978.0,5247543.0,13063914.0,6407961.0,5889047.0,8187250.0,54092907.0,2824647.0,220667.0,1490561.0,114046.0,782629.0,24257.0,52852.0,194044.0,6073917.0,3666734.0,6443735.0,962215.0,62200.0,1654941.0,237959.0,671719.0,140938.0,2284.0,1098224.0,64245.0,160017.0,763.0,106.0,282002.0,37309.0,9982920.0,997503.0,31137.0,360021.0,43.0,42479657.0,24216997.0,422913.0,7705214.0,9328714.0,379186.0,373866.0,1294838.0,6023149.0,11482859.0,2156.0,823171.0,1645527.0,60714.0,1013301.0,564755.0,25460389.0,3006.0,8.0,151865963.0,91958537.0,18139276.0,75878141.0,4343781.0,12964501.0,67239678.0,1574771.0,5030787.0,2107346.0,2408936.0,2886108.0,1052474.0,147597.0,1377522.0,1181771.0,4096333.0,7930645.0,8593075.0,23720174.0,7707759.0,550679.0,14674945.0,4216810.0,3054708.0,6798951.0,5416673.0,8328156.0,1059761.0,276782.0,986311.0,145063.0,370002.0,545701.0,1426707.0,1001728.0,37433598.0,4378286.0,1658830.0,229179.0,2231899.0,2333045.0,103949.0,67194.0,2527.0,275.0,1065.0,53401.0,1373086.0,55407.0,3820540.0,126020.0,35680.0,19.0,5515.0,24.0,493.0,260.0,1286.0,126400.0,1785300.0,1199226.0,176125.0,12323016.0,34945550.0,616127.0,203687.0,22624.0,714352.0,25220.0,5017.0,1497455.0,100240.0,199184.0,704451.0,4910.0,923.0,66233.0,902.0,19522.0,164220.0,1530.0,18353764.0,325997.0,65198813.0,19363687.0,77060808.0,20420553.0,18097005.0,16678414.0,271259.0,1474965.0,384340.0,5142823.0,53627175.0,20430266.0,6887.0,95628.0,48255.0,311657.0,53104.0,4764822.0,6213289.0,540008.0,402751.0,323109.0,4900657.0,2882253.0,52359.0,24249.0,36.0,7008.0,1287.0,2503.0,113182.0,26300.0,73271.0,277033.0,597.0,32186.0,84703.0,55588.0,3399.0,2268.0,2055.0,1.0,1236.0,12310.0,427.0,10930795.0,176310.0,107374.0,102252.0,1436054.0,798979.0,38562.0,669178.0,3855448.0,434244.0,2431876.0,2085.0,198.0,38.0,17005.0,4736.0,4500.0,331465.0,10420236.0,13574.0,205738.0,991.0,11637.0,10857168.0,11667.0,3713207.0,83785.0,10805774.0,14389.0,79.0,736546.0,23133.0,692940.0,5280251.0,204501.0,20315.0,386449.0,1802124.0,1256295.0,1708513.0,480279.0,114335.0,920507.0,8955897.0,81757.0,7880.0,352505.0,1460452.0,2113954.0,33577.0,13797.0,186247.0,229324.0,38941.0,214059.0,295692.0,329468.0,10459.0,161018.0,98.0,522929.0,25059.0,89676.0,226.0,58495.0,195123.0,31932.0,1014783.0,3227928.0,33188.0,567.0,187881.0,59968.0,5337.0,57128.0,25003.0,171271.0,1981283.0,50911.0,19976.0,2502529.0,2538932.0,5527875.0,30629.0,22888.0,87230.0,395564.0,124834.0,206160.0,44330.0,217502.0,439610.0,217717.0,85066.0,25336.0,40224.0,355728.0,56870.0,44864.0,78719.0,106386.0,423039.0,783255.0,310323.0,630085.0,36526.0,253659.0,52614.0,45839.0,167210.0,590866.0,3363.0,31337.0,19614.0,13606.0,20012.0,48853.0,325443.0,96486.0,10840.0,1480018.0,93208.0,450904.0,703.0,167223.0,1897276.0,669721.0,1349587.0,118222.0,1680209.0,5447.0,462.0,81532.0,432506.0,436599.0,22593.0,716717.0,7187.0,12826.0,5208.0,407894.0,10623.0,135073.0,600.0,30832435.0,1005223.0,1316675.0,1175284.0,2376972.0,353523.0,2122224.0,52676070.0,846924.0,13996322.0,118195.0,1779168.0,13095.0,1815795.0,9281.0,3148527.0,876423.0,17062.0,135313.0,33952197.0,71252202.0,143544.0,1723777.0,3828752.0,1818312.0,405777.0,135383.0,322811.0,90679.0,2628834.0,3610.0,74739186.0,580146.0,3271215.0,16039.0,2268173.0,7944581.0,311.0,8487184.0,491.0,14122.0,2151253.0,171438.0,623248.0,3770323.0,712821.0,749.0,1.0,1623.0,24915.0,13.0,9502.0,33.0,203.0,0.0,3342.0,397.0,889.0,1393.0,530268.0,184.0,8878935.0,6147908.0,154017998.0,354912.0,89714.0,32265347.0,305354879.0,35820794.0,167127084.0,703987.0,2850064.0,65042252.0,4795664.0,867945.0,7575593.0,4964378.0,231189.0,11622318.0,1054647.0,1084882.0,166133.0,75768.0,25952676.0,2501966.0,106618528.0,16331361.0,994599.0,21405.0,2000430.0,3079221.0,64035323.0,4459921.0,2782481.0,4845408.0,25736790.0,231752.0,2375101.0,1218458.0,4819631.0,5944.0,1691607.0,1681921.0,10197.0,1499602.0,10159065.0,43187.0,974592.0,530161.0,32189.0,3416357.0,847635.0,458221.0,8230507.0,3681.0,3311313.0,11549.0,1.0,6223.0,1371843.0,5965617.0,269490.0,67183.0,1254270.0,394196.0,472019.0,200866.0,29189.0,150343.0,17634.0,187.0,1315.0,101.0,49545.0,14456.0,7256882.0,4470356.0,7036.0,1984607.0,5878459.0,5410925.0,2365432.0,581845.0,81575.0,574879.0,14031.0,784629.0,271735.0,4522079.0,3281484.0,1415208.0,1675793.0,48485.0,91956.0,5087410.0,21048.0,33615.0,5284.0,216438.0,10758.0,29595.0,13419.0,4800.0,1209.0,199176.0,1182.0,394.0,33.0,3541.0,259.0,32.0,1192.0,144.0,1198732.0,660979.0,592282.0,844380.0,1424573.0,89580.0,895452.0,384041.0,18104.0,95276.0,448829.0,8347617.0,206794.0,335498.0,773106.0,3131730.0,6065348.0,171049.0,8933.0,1380432.0,317739.0,589946.0,404977.0,2468892.0,80479.0,5997823.0,935.0,320953.0,6492.0,9592.0,15049.0,13297.0,931364.0,2198882.0,3116924.0,680967.0,40991.0,318292.0,6036087.0,15715495.0,8968974.0,315869.0,484172.0,14836947.0,3027940.0,146555.0,9087919.0,1332065.0,919369.0,4163012.0,1809496.0,1561177.0,3300213.0,3955500.0,6591524.0,338868.0,4492576.0,1078580.0,1986902.0,135133.0,20830.0,2651109.0,1013670.0,2328453.0,344626.0,67697.0,991924.0,83638.0,3974095.0,29994.0,143364.0,52449.0,184204.0,109012.0,51328.0,8034252.0,1270816.0,1067413.0,160752.0,937991.0,2640159.0,216206.0,118084.0,455318.0,335452.0,246703.0,121072.0,1421125.0,299705.0,134291.0,597978.0,351995.0,2057063.0,67078.0,97.0,181161.0,2703340.0,662501.0,707014.0,3733063.0,319926.0,30957.0,3540531.0,1354.0,7051878.0,1413835.0,4577589.0,1895767.0,2424392.0,713916.0,1766.0,504339.0,9530795.0,3795031.0,641142.0,7985303.0,253568.0,1063479.0,6437330.0,287700.0,2092601.0,75170.0,1359752.0,2024628.0,427452.0,2339367.0,1324541.0,10315562.0,2732336.0,4246285.0,37222.0,264731.0,15145.0,827575.0,210558.0,127150.0,1109681.0,5475013.0,2268900.0,33326.0,346805.0,288065.0,158712.0,31913.0,2375754.0,4961258.0,658745.0,1103240.0,2185467.0,5297.0,607256.0,209979.0,1985098.0,25015955.0,1223568.0,4170775.0,1276499.0,146.0,127352.0,89565.0,11000.0,54550.0,16581.0,5715518.0,4255569.0,6960601.0,50832440.0,21954825.0,685487.0,6528249.0,952818.0,29166428.0,68905.0,6752234.0,1724647.0,321676.0,5256755.0,791439.0,2295054.0,1921.0,54427.0,11069.0,1088.0,81.0,2724891.0,3796260.0,70534.0,343698.0,134013.0,46799.0,48667.0,10839000.0,238110.0,7237.0,162215.0,415274.0,13189.0,9204.0,6892.0,17608.0,51550.0,13093.0,2911.0,27933.0,28971.0,95818.0,54231.0,683261.0,4013800.0,723497.0,132331.0,254986.0,213910.0,26475.0,40192.0,165215.0,523684.0,405971.0,590247.0,91654.0,139436.0,392373.0,658658.0,67095.0,23475.0,261293.0,5898.0,3903.0,246033.0,33752.0,63156.0,282.0,12.0,55.0,1186.0,56.0,4227.0,2199.0,17498.0,50040.0,59702.0,43185.0,73224.0,15735.0,110103.0,98.0,2324.0,164.0,74.0,13641.0,461.0,5071502.0,953952.0,6622491.0,351131.0,5021185.0,4821218.0,7511157.0,983610.0,1638076.0,4026404.0,50392.0,303867.0,122835.0,2598499.0,24536.0,11372.0,166877.0,751065.0,1740212.0,800527.0,44747.0,44611.0,120668.0,76929.0,4515.0,671557.0,230377.0,216497.0,65061.0,7029199.0,43814.0,3084.0,502.0,116.0,473.0,5550.0,4350.0,136360.0,13546.0,221127.0,6521199.0,49645918.0,12261733.0,1894111.0,370984809.0,5622281.0,445135.0,267875.0,393513.0,2858.0,2453.0,109880.0,158.0,219203.0,18182.0,2525887.0,53438.0,239596.0,143182968.0,503857.0,338956.0,477439.0,110.0,189.0,315682.0,47111.0,2137736.0,68978877.0,5.0,264563.0,6044949.0,20029030.0,9222.0,6176269156.0,137384885.0,659052.0,158742.0,3182931.0,25016.0,1762186.0,19093564.0,1367647.0,180226.0,99.0,5289230.0,697418.0,80331.0,2499203.0,334.0,2358.0,1153.0,8251.0,980186.0,36000.0,41066.0,158604.0,210287.0,1787629.0,176909.0,38059.0,39958.0,268369.0,1053.0,901984.0,1710888.0,150.0,28022.0,75.0,424985.0,32436.0,2522.0,656548.0,740015.0,8257.0,619.0,75995.0,4464909.0,441602.0,14446999.0,46.0,3591.0,1670.0,312803080.0,13200.0,22565398.0,69.0,144405.0,21058548.0,3101695.0,78719.0,621210.0,144.0,23.0,247532172.0,2841795.0,107585196.0,21378.0,62000.0,8865219.0,227213683.0,339808.0,12415055.0,6320240.0,4944987.0,1784247.0,471373.0,769084.0,14766.0,57957.0,2703077.0,115.0,22444.0,250.0,179838.0,9341457.0,2232.0,79561967.0,66930886.0,12947654.0,19416493.0,3000.0,903243.0,54357.0,41157.0,1267897.0,1130493.0,3016461.0,38949.0,13038.0,16782.0,15766116.0,98539.0,162.0,113743963.0,801.0,78640.0,9000.0,3940.0,5970.0,38172489.0,4822684.0,45649.0,3754333.0,280000.0,8.0,111071.0,3340.0,130000.0,110540.0,1348.0,1099270.0,8401109.0,309.0,180.0,11619.0,1.0,10.0,123775292.0,15.0,120.0,3655000.0,8072498.0,4.0,3000.0,26490116.0,45182.0,414432.0,264356.0,8656.0,60831726.0,301.0,20218096183.0,1799279206.0,1018.0,62183.0,21610.0,35297.0,285532.0,2.0,2000.0,353138.0,2.0,1500.0,12163.0,60967.0,2566210.0,27000.0,7.0,4.0,9.0,47000.0,1743.0,25.0,5015.0,25.0,6.0,813583.0,10.0,1664386.0,6432.0,16523.0,50391.0,20.0,10821.0,690.0,0.0,205.0,7961.0,1271.0,4740.0,462.0,3657.0,157.0,30414.0,433.0,9197.0,16826.0,22855.0,465606.0,121805.0,9704.0,64401.0,29216.0,1668.0,319.0,414.0,5327.0,120.0,720.0,198021.0,173.0,1000.0,422.0,1116.0,347.0,4.0,23798.0,2804.0,912017.0,55766.0,1516.0,303226.0,134187.0,19058.0,9452.0,866317.0,8000.0,41472.0,23250.0,600.0,9684.0,206435.0,683379.0,836123.0,10458.0,1255.0,268.0,427182.0,65375.0,6323.0,46294.0,39154.0,83009.0,119930.0,58135.0,159376.0,3429642.0,8855718.0,18541.0,20495.0,2205.0,21478.0,881153.0,62.0,33.0,728572.0,2089.0,3.0,162354.0,59.0,3771.0,71.0,65.0,3.0,36096.0,3200.0,1388.0,967081.0,40481.0,12.0,35339.0,26516.0,843.0,15788.0,65.0,19950.0,2987.0,1672.0,4.0,414.0,9282822.0,995380.0,16259445.0,1538244.0,3816776.0,258522.0,2208051.0,45975.0,218215.0,19642265.0,3281.0,5239.0,2283.0,6173.0,91330.0,35825.0,10400.0,17624070.0,325350.0,112700.0,86082.0,235934.0,14655106.0,2347490.0,748747.0,12440519.0,1511310.0,700142.0,1972126.0,850635.0,6071.0,184910.0,6303.0,17.0,544.0,11889.0,3905.0,11908399.0,16102.0,13.0,45126.0,230125.0,1694678.0,3107.0,333195.0,26999.0,174.0,105001.0,8073.0,2224.0,39.0,164.0,118938280.0,60000.0,370283150.0,33218808.0,103872.0,240750.0,156431790.0,15500352.0,40192663.0,604930.0,350.0,30897.0,16414.0,185.0,288385.0,714.0,24348.0,8023650.0,1.0,4658.0,77053.0,8819510.0,88.0,53889.0,1353650.0,948440.0,43569932.0,1461.0,9566.0,1717820.0,369.0,56099.0,132509.0,659.0,352.0,7418.0,1002365.0,9237106.0,1316556.0,20191.0,3.0,173880.0,834483.0,5403.0,914.0,307.0,2669.0,11.0,4129.0,852.0,2081.0,628291.0,3911.0,9393.0,371.0,19.0,806.0,15790.0,296925.0,1.0,42321.0,550.0,16524.0,737743.0,4233337.0,11710756.0,816.0,74077.0,372515.0,28828.0,2006.0,3498140.0,4076.0,2250.0,46713.0,856.0,481408.0,174.0,3763.0,706.0,178804.0,1955.0,16907.0,5.0,21.0,24145.0,330474.0,2591.0,1513.0,326988.0,1181096.0,9627.0,306.0,282.0,3878.0,538.0,11272.0,2994.0,463.0,211059.0,86.0,10.0,215.0,159484.0,597.0,5227.0,40.0,27312.0,720.0,2783.0,13639.0,279504.0,24802.0,46634.0,6315.0,45023.0,3353.0,7738.0,6937.0,1494.0,44203.0,140907.0,2191.0,849.0,3766.0,478773.0,9957.0,33257.0,92658.0,100879.0,32949.0,25284.0,12576.0,1686.0,1335.0,219.0,4790.0,3370.0,4291.0,66478.0,65.0,496.0,2760.0,86243.0,85290.0,370.0,753.0,6322862.0,74157.0,276325.0,31.0,255.0,162690.0,3950330.0,59976.0,150568.0,1139.0,1007301.0,71825.0,51443.0,60700.0,49833.0,6975.0,33.0,124.0,1777.0,8843.0,1.0,17.0,3568870.0,105139.0,15497.0,1098.0,777882.0,134001.0,310.0,431945.0,33.0,112.0,0.0,68.0,17.0,119324.0,18155518.0,33.0,13863708.0,101898.0,124504.0,19349.0,10333.0,303.0,10.0,13.0,3815.0,1370191.0,5357.0,18161093.0,17731.0,54.0,104.0,6558.0,57596.0,529.0,702.0,7540.0,1.0,46605619.0,49.0,9.0,14061.0,698.0,1.0,207.0,1992888.0,44.0,502109.0,697383.0,323.0,365830.0,776413.0,89330.0,29659.0,5143579.0,6320273.0,213.0,81522.0,3830.0,113498.0,99.0,100.0,8740.0,12130.0,1558.0,77.0,871967.0,3520.0,25530724.0,55429.0,4864409.0,618003.0,1528059.0,25646.0,63598.0,1308415.0,2174936.0,21859.0,489232.0,407781.0,40.0,50393.0,17044920.0,56.0,97651.0,4515.0,370094.0,2589745.0,1573559.0,6692385.0,798.0,27184.0,2.0,2.0,3694.0,26915.0,2469.0,2999.0,32.0,3419.0,2160.0,63.0,17.0,8302264.0,5294017.0,16819.0,216.0,4418.0,1724337.0,12.0,44473.0,34217.0,872.0,161461.0,436607.0,5621.0,18724763.0,26251.0,301.0,41871.0,39202.0,713914.0,100.0,1.0,22.0,10177.0,40.0,150.0,10358.0,58585.0,9354.0,18188.0,13603.0,11194.0,6921.0,39677.0,1288.0,123.0,5066.0,1267.0,9002.0,1254.0,150.0,47940.0,67117.0,270458.0,98.0,1622.0,1602.0,20.0,1216930.0,126.0,111944.0,240.0,13.0,9.0,22270.0,8108.0,8217.0,79560.0,1217.0,3859.0,67415.0,506578.0,122036.0,7039.0,1241.0,4008.0,1565974.0,71312.0,12800.0,105437.0,36720.0,1508.0,10787.0,33325.0,78988.0,85989.0,20585.0,662629.0,3702660.0,1723073.0,27941.0,24597.0,671.0,127678.0,31957.0,26968.0,746021.0,57.0,93486.0,18000.0,280433.0,407692.0,5133.0,200.0,56995.0,6000.0,6033.0,135650.0,1967.0,27.0,1060.0,304.0,937.0,20680.0,2626.0,251.0,22007.0,13525.0,104048.0,248.0,83.0,17010.0,2225.0,6981.0,373785.0,779.0,8.0,391150.0,255.0,145241.0,69217.0,600601.0,52198.0,148442.0,3189.0,3878.0,94346.0,95593.0,17944.0,904123.0,3861.0,1440.0,5295420.0,88.0,824.0,320.0,112021.0,2289.0,233.0,401.0,14967.0,36383.0,47460.0,1292.0,17.0,65.0,7082.0,449.0,192966.0,1673.0,1582.0,25655.0,171.0,6601.0,132.0,392.0,578.0,21601.0,27170.0,8300.0,6854.0,17.0,1533.0,30047.0,59446.0,5257640.0,72.0,189.0,224.0,142327.0,5200.0,218.0,471.0,706089.0,57835.0,57743.0,1851580.0,93001.0,4168.0,257014.0,1001.0,356.0,142.0,60.0,11029.0,304.0,39500.0,103026.0,18020.0,39.0,2592.0,43.0,366.0,162.0,4806.0,844.0,970.0,824.0,12.0,4.0,5.0,165.0,2705.0,43311.0,549.0,3970.0,15315.0,36.0,58.0,682.0,10296.0,16251.0,2367.0,17289.0,14437.0,7656.0,496.0,186.0,20201.0,14168.0,2143.0,3897.0,1894.0,4686.0,11.0,14.0,1188.0,688.0,277.0,21.0,304.0,475.0,3344.0,10413.0,1555.0,31.0,3.0,20.0,0.0,305406.0,846.0,826298.0,202146.0,22736.0,622977.0,41448.0,5641.0,60845.0,3898.0,50.0,30367.0,167.0,23425.0,7894.0,99.0,909683.0,17.0,563756.0,5552.0,54.0,6.0,131.0,28.0,170.0,12519.0,540.0,254.0,361.0,4326229.0,602.0,866.0,27094.0],\"xaxis\":\"x\",\"y\":[19494.058786741713,10579.006485742237,23561.24521521756,17727.83193073803,72265.59065907996,73837.42649602213,11327.272727272728,7457.282627686215,1847.4569029970307,15168.261868300153,1246.108230725393,1213.626783747516,4927.2473513925015,189.61444954298335,1461.9472102860677,4300.542396472428,1315.8534265970711,16704.93338884263,185.9476656461466,1523.2683461787246,2971.0938355414432,7397.964346299217,8614.298104324123,4394.290521476321,3484.3225523984866,23045.772151898735,3078.233736722395,9396.039603960395,632.2877006912213,3467.102561146517,2534.587145357925,6220.744680851064,8281.742818861192,1345.9751206827914,158.73015873015873,2285.78102189781,1048.4423095230538,1580.447527411054,982.9993243654213,998.1160570798622,172.52388315120965,1185.8131259884028,7687.312670443512,5612.0,6600.553250345781,250.3038773760785,1433.4566199006858,191.30339099945633,785.96186011894,1443.853525895016,881.0977294667624,1084.4867081175769,1995.74778242654,192.30769230769232,3576.7144661564753,4090.8093927404097,1929.3700572675211,3027.7175616381114,9791.032870055931,7874.450626772608,15013.014354066987,2257.0443907985346,3000.7910414555163,244.33252091095574,223.15910768578323,257.7385299324067,568.1158253648227,1385.9266746688568,660.3158185643964,472.9894725586519,996.9942804902877,545.7855409941108,544.0391467841813,1433.4920634920636,9617.136910268271,573.0394233553781,488.4412291269156,1675.7803497984225,3768.714466203411,841.3237123700667,658.1081081081081,6318.0,2007.3408978786385,2004.7210829577305,10419.963240752055,7267.393617657257,2449.7235969029225,10082.544106933577,296.85258062787636,4269.155918829503,9629.083486256226,858.5393721109622,843.2376898082377,1043.8907788573713,9693.13387034906,2651.085756348914,879.6530609907426,4981.405588330278,2236.554889887391,1842.4622617462971,1060.747878834246,1331.3396145304544,1133.7549404492388,1873.824622352302,2052.1553246056533,2000.2282805616674,1432.2210833997647,3502.618912797282,190.4783836895112,7274.489397684402,4763.080700423484,18092.30769230769,8764.680424133929,5867.1819988420675,530.7978489367936,686.2942763105915,183.31533895486828,2229.2539594228847,4110.7,5222.792754243332,13000.0,3841.58081405168,4646.90752923456,6154.8580588708255,1136.458206665054,1309.9094629790402,2388.8184184009415,2119.951070880772,2486.962108088885,985.1285923302152,1799.059337920753,867.7088254871198,1859.3720681293034,939.9141630901287,1094.3054178921846,1683.520049328097,2085.1017595173025,10303.263497441862,1155.6494541907634,2761.73445984937,3279.9042528675823,3232.3366647394073,12042.908157424023,726.6730580854921,1184.5945065682336,1208.2267027956018,1765.2596771868846,1526.6666666666667,1671.6521197546776,812.2406344601412,3349.605246993283,1460.7989115087412,920.0444333411735,238.0053860025541,556.2475560850073,394.8012082032101,421.60695915302955,2210.3073679433483,1360.0345911713953,7515.555555555556,4660.416939819063,241.90088995794392,707.237303181797,163.12312597020144,1874.2590514002652,390.7159037847524,402.1250999880329,373.7400073590784,228.6026497506383,167.53997541474732,125.41829806712101,323.70682323031383,771.3815215494677,1484.2578350317249,318.1694541444587,749.9949672873679,316.5631509914358,194.17550898715658,186.26438806671365,322.21993389662435,32.80990261052541,3113.3941325129103,643.0891008727419,176.90237817993355,819.414870164227,6135.658189977562,312.30252549204727,357.4883298890117,153.1742200855292,269.39284919658286,65882.35294117646,128.46164138676352,467520.0,414.0,1172.796668979875,1130.8361816178256,81061.72839506173,627.6803118908382,117.98293260275855,375.0591610574813,149.48686918988952,2841.478855406432,522.9494975560593,557.2661870503597,3939.738299151857,446.6200304695682,357.0047092941835,1278.590322883133,66.047982702808,766.8182405677559,748.0103267159263,908.0195964120974,2208.234674503313,755.3605327985213,1640.60935614999,8006.497341996456,250.36751784461146,127.36318628107131,376.28990269009876,934.1535430175344,793.4629913570835,1792.9745370075245,13636.554854422673,21761.333333333332,907.9984993091332,307.08581789850433,1959.194337561161,2225.492744751091,464.0297128075779,4762.575624165649,890.3085809504269,1692.8395615234595,20075.24985302763,2299.2481753904644,5378.971692663201,268.27850419963846,1955.7828954982062,485.0523843930636,1272.1328896566156,3515.077284018769,1020.0716582958346,1557.0040676805177,483.55767558785857,231.7951869276257,710.1920930505786,714.6541116595054,393.59282096673496,1864.789951489152,468.651688368396,660.4768809524667,3064.4152440758,954.9174279356924,492156.26364033174,99748.9195187478,null,72913.04347826086,640.1485338283001,953.1957687622313,2769.3989071038254,49357.142857142855,2035.105008431334,2883.7956384753197,1014.5596492089605,2036.6565523247111,1273.1315437996768,794.9129990129907,68439.1438510691,5164.803311308962,18473.15436241611,4258.993185190595,19513.6,91500.0,2769.2855359372215,2124.2678304812216,2340.8651802562617,1133.4389050617697,2263.7416379366723,1094.589395831678,1577.1998631900926,4670.41949413942,1959.6302003081664,3082.274472835674,2418.9780125901184,883.1654032428388,8068.0406053062425,15558.504035392612,6947.38819751104,4864.532325048039,12087.453252784286,2255.541291376425,3952.949939258968,3799.126637554585,22665.125253667786,18002.685817418966,66098.27038694512,77356.24596398078,12770.667243965834,2550876.75070028,29484.486160100434,151665.16068536357,16797.080432031114,59420.58409327023,22001.672240802673,3177849.593495935,178781.14130878408,24409.576754051544,26800.16297187274,14119.338412847868,88561.83980911893,1523.2266489780689,250.87216329296444,517.6227887186243,316.1673839147717,674.9359426914949,1948.813842500561,2044.2949858462987,5930.007781043737,5328.2414623116565,31307.815484885945,2199.9766745399093,1318.671755054652,4278.951996578483,1985.236748926887,4097.45929176692,3530.088880520948,7089.666372790126,3981.5933441197767,1601.1437538087778,7733.521262556397,13284.64445073668,17275.053623626867,14324.203905123837,12909.9281320801,4544.43308490855,3032.974139511773,4830.738318101384,2018.4223029710831,1276.6107393710602,2914.039170204277,5167.342647518659,3008.7953461817397,4321.484313347246,2982.9408314795387,5669.250113369337,10184.439567093015,6080.33229576797,1714.2195061275943,960.9682622191847,3058.2880891284326,13628.102866822903,7143.617363344051,3614.4273421227704,20933.303636340715,1760.9699889388269,2358.2497268302377,7694.833625218915,13347.438227538281,28784.559109658338,7109.3821281488845,3290.956749672346,54103.77358490566,4909.748867029311,4878.233134096331,680.6908199204241,614.0512860612951,3950.6053890869384,2629.099413645315,8209.302325581397,5895.526039675886,928.1160252858767,4630.366056375661,3767.596201740795,1060.8425770154386,2486.66089992774,4962.986738564085,4837.543383805541,808.9529247906701,1371.3825973130906,46704.081632653055,3585.603720247676,1580.2129044373019,41077.77448364463,28466.653047811065,1351.9490752627246,2187.93510971101,391.55023286759814,58250.0,1290.4872700145459,1135.6651857129916,1445.0474759852598,867.5112902410194,2126.9907483825727,2217.018765319236,1293.8252767956444,2640.0105158146803,2750.243053422854,3873.3995271777867,1558.4158317198962,4331.7083075200235,2525.864771956362,3848.1405448620226,422.42664726951733,4590.81497176695,5795.8010249655,1602.0695668511198,4209.631243763146,2960.061212029895,3284.2517520332435,4964.794372038883,4004.8156909617037,4338.997488622916,3683.539965194709,5140.504616079746,1371.6249808692532,1592.8070991945874,759.9647467683751,546.278298444263,3644.8625230784205,5432.129488567037,2712.474527164718,4449.618014260556,7692.874570602092,15374.493874584718,3288.0244372982797,3528.2286264533655,2184.545734041463,12828.780123833336,4460.487235309483,8239.964938524547,3326.4004463727406,3035.360300026788,28182.429758607042,14490.90909090909,16353.05164319249,11490.945862437033,1206.962273302619,8695.110726081542,6391.5920262580685,10134.177114743692,6965.807174887893,1798157.8947368423,13123.118766999094,21208.333333333332,1182.5557809330628,8615.384615384615,11268.273716951788,569.1693037974683,941.6854310199967,2466.426678540992,1505.4364797728886,498.6444876806133,538.5926963518959,1117.9821692605583,2506.6499089288955,4840.037128712872,1295.0016238493067,8031.324345757336,1330.2770580027905,3098.1779085181192,4870.859936153232,3758.0126917824728,1684.3527796823341,1986.7617107942972,24653.304442036835,6691.150936844171,4120.842572062084,8553.273230201825,655.2307879673608,1984.313725490196,685.3688431430196,1629.754261542284,214.07681149041778,555.3674772784749,892.5285600431284,1240.2459424091012,868.8928913928022,654.1712539333776,3064.775730943489,635.3296518900448,3048.6678461778633,1635.6112197522643,868.3939998704014,2920.166041890987,7918.6873820241035,5106.799263813946,6301.233032846337,1931.2128397565273,2171.550165712564,2291.547722034527,2099.6984045004183,2861.5113109435415,10237.62572904847,911.051688439505,1436.1815160701922,13398.87060573794,9032.735537347924,6190.152171223556,13361.111111111111,4684.075342465753,15264.957264957266,207022.37315221733,6968.890813026806,9694.25855513308,1662.2401768776188,11639.385921532814,29284.757118927973,7695.581930031691,6131.294050978124,10587.554867957113,11482.78905560459,36668.87125220459,12222.871046228709,35000.0,16981.391585760517,38651.584077985375,17088.992974238878,1725.4011259016384,1102.5523226135783,1350.5038463687672,4040.8304972029887,3027.24827896444,2331.195187858504,3621.0258804003943,8777.93501878424,5073.054804525959,5783.61013623677,5218.424788105972,6694.964028776979,26782.828282828283,4210.526315789474,2222.6992061158485,25686.02195945946,3277.3333333333335,4947.400177997677,1841.5058929567429,5050.611463091203,4333.744859967532,9312.815338042381,6607.458967087737,3463.4487556976187,7561.326819233736,1972.142409512855,5561.472817330071,1194.8511046038905,2673.9175759260547,39392.40506329114,2412.8364012566763,4114.079453594432,2911.8942476982133,2373.995289239091,3278.169788900788,10749.49544671425,4966.124896169999,4858.087456800975,3964.2575987327814,3946.8485168096468,5840.017989543578,6835.212314689291,1558.2488780639367,3233.834422168991,6709.150286825593,11038.197969543147,4329.938582431455,4006.534963148395,6175.004281077071,7775.203264139143,3182.2860042038124,4230.682910328756,4849.278749716558,2631.9046763051792,4432.184584623866,5636.713201574611,3733.925601272354,2145.998661439908,11374.343241128321,19500.0,8493.493380554532,26984.716070074624,2913.075962353361,11690.265486725664,10264.244807248484,7301.261255720751,4946.417386947263,4036.965538445165,3113.8975218778114,3080.8123418102928,18580.24691358025,3369.1059766554363,4995.947838847385,7979.576541127974,7567.742613079401,11452.585689717234,24604.264586532456,3309.9622820162494,2018.7582251379858,6937.324789747698,7309.217195884643,2468.4327898502206,4354.471293218461,34860.39374449052,29994.975533030407,33213.87137452711,28648.24655428704,28448.65180960315,25063.198486612342,30144.19129257839,19840.11641272264,37231.32094356361,32233.05024412425,37296.55796675522,50612.64603725924,37838.23090692124,15688.930868528763,22318.357657816072,18385.409236804568,40632.93486959946,28457.59780422236,41115.12177364262,28364.214719344276,36102.10973727375,22072.817159589576,16662.815528664512,7183.462837904431,40238.73873873874,11421.257008224438,14826.738831409604,18516.157639803274,20186.738031519475,13972.17346906213,32426.532068930355,30178.89166544172,25514.691185288826,13799.234438007901,10258.718116536536,8337.416827311734,10890.682656826568,1986.5616499258792,6402.776585700798,12073.736316377766,11152.204836415363,5501.62358048833,22905.18406388949,27568.318747657606,26076.835357779826,27803.91974421005,5400.6781299231225,111187.25904167432,12573.593073593072,3750.5641956532404,9473.251238133113,7469.032224077472,9686.00894082238,2495.718672781586,4113.260052873243,2290.3477311710585,7764.400921658986,4119.648732268678,8728.890144027111,7221.591287674072,1010.0,473.7167531529702,439.3094865517403,7331.077904570225,7497.220246340458,1291.5120581984136,803.1075771590532,374.81057607491005,223.49021101991855,1396.4003853946754,287.9716542674568,4044.5534921104954,2847.3972103814817,3813.8220694921724,2128.229232925523,3065.510182092447,1274.493437725006,2416.37770802455,285.72265853944435,360.1206092540998,294.4403273814652,343.04529984911903,2777.3574653068044,1831.4532564247,1289.4721308666635,1395.6972180791856,3617.127141262319,2055.0438385912557,108.65490952910527,2325.312365597327,447.48356115296747,5972.853185595568,355.5343110105588,656.9932396327821,1929.7814420635757,2605.9604713510817,2167.965582872206,1975.255460294256,3180.064308681672,1519.408911130005,10576.374745417515,2517.136382948591,1303.3938825419418,6212.519978067873,1433.5786075526917,3646.3714116801134,2755.2414982162422,17591.455273698266,42202000.0,12248.921749845964,3250.3712622917924,693538.4615384616,47404.23068827615,6848.484848484848,12512.31527093596,null,597631.3584679832,124267.00251889168,5106.861642294713,398231.1557788945,18746.9392835321,37521.739130434784,419.08821271920567,950.3413193561126,213.06382647565644,1201.7345144711928,3601.8124261542234,349.23566760338883,415.83115166140834,520.2457544631758,679.9082487432139,864.7475024396758,1133.6489285854634,459.72179745559856,722.8164858922561,711.9690763815679,572.6308158318432,1696.2648694358086,2496.234682445964,1645.892927727498,2194.390160878474,2326.864119784456,2792.7142710960493,904.5375356350966,470.5754813106749,2528.547550206518,359.4189088785769,744.2001925007964,1154.7236625011687,5777.528614809624,1703.7321975775208,1079.654886739211,1348.4546490067678,630.7584820448612,2193.074813448861,3945.638220764897,2049.2447970395688,5539.309261624495,3947.2262442734013,2101.4060394367307,2934.694793024611,2118.102288021534,1596.4015282509472,3755.09551280946,6367.166813768756,1501.778471887874,2658.7946823846482,3653.205825827217,4055.033285723667,3002.542623844455,7573.581037000217,4299.430650836549,7378.976800155728,2570.955936109432,3491.8667829332994,4684.868242325455,5338.221726547747,6260.801801021734,187000.0,11299.533986823077,3896.3766261882733,5082.062760649904,7261.820475713384,6120.982986767485,6360.397681519928,9366.568914956011,6265.413044813874,4894.596397598399,14338.072561581417,12143.338898385693,17893.33106498809,40427.80748663101,19232.699619771865,75861.38613861386,10745.282066807951,12828.099059214168,1843.077509045896,1610.6853682346552,8978.254690164867,3249.387914080722,2116.10202605819,2719.9595263286774,5185.732246794666,3758.208801313064,10049.843702114618,12096.842987828742,9948.328700734088,6216.9420197316185,2646.6741494470716,5238.348777188546,5443.971690856942,6179.319930356527,1860.780537930401,3790.285655357327,6048.414459089129,2229.321403228755,3799.0307867730903,4216.034508403986,1262.112036336109,5381.069867583326,26219.092768172526,15086.19699273526,10042.104478724197,22832.708333333336,8884.20181968569,1956.9124794151908,45346.869712351945,36451.77664974619,13000.0,20796.950014120306,165899.6138996139,2312.5,22060.40268456376,354145.8333333334,3757.19760546978,12425.550584814342,8505.848565379329,7121.5815154314405,5987.881280917159,14366.867604375977,15503.913107570255,17143.21647949047,32574.62439239947,4252.498005793695,8838.842855519586,1570.683944891099,5306.7738909252685,5255.378571556314,3619.3368050435515,7714.9524384286005,3032.1396233159253,4013.487363270174,4258.367849546625,2017.6307127044288,4971.209074114289,4594.973099232811,5214.891216044368,4543.336039000491,13005.417562345458,1951.6993082323368,365367.91443850263,7312.425806893845,12356.900800985828,48583.611342785654,17982.72310452522,339407.68594419793,18421.99075764148,7378.093958657172,21366.087848147727,72608.01624748336,188290.7955404845,19915.69062370402,17694.155998745544,4762.7850729487045,8949.481958583,11177.500799382022,6417.878357277992,5886.181368714197,15531.172017939589,14778.212957592712,11266.992146386869,38178.95372973541,8448.602247846076,7947.196645121369,4914.883481367187,5241.034168451111,4834.261909761582,9683.9795221843,8045.375090798425,9409.89706906524,8891.502558888264,5187.902612694469,7999.253611904362,20789.09666772735,27402.064330292847,7787.696017025328,9071.530182406503,19767.395777368063,22488.213309500734,12063.075173198222,14540.05750440558,22266.14696668978,21901.309857967663,6823.231312929252,10014.013280879439,15249.19445556636,18583.364096327983,31679.264668109932,4812.402587281796,4827.975522799135,8073.947762697353,6909.175736102146,6273.9188314919875,9300.459172849207,4213.306471314796,17455.92629251732,9473.086955048948,7371.9993499049015,6892.193219894351,9573.166925412337,8495.622439540108,5319.985222974756,13125.276521913216,13695.780059721053,11930.90882942182,18389.687353513546,14187.434220536756,15490.622856972479,23113.402061855668,27994.85540486087,73634.00275215103,14121.31604329654,29783.316879156566,6919.903575160665,12249.60459606284,16335.303808508575,13531.54964608416,55212.70310192023,14477.598591467407,15191.483447502715,17998.64666749243,17350.607959733446,18753.05189919782,22303.170120854553,52523.7825594564,16506.829731589267,15380.418002905319,15478.981331114292,37638.50441867792,15268.725432209649,13117.33736118122,5996.703272937218,4050.380514902918,12611.873479318736,6049.358668948356,20722.06997472396,14195.985003147633,8775.248094958679,5903.465184394973,10466.399243898028,12635.432953755302,7114.191645593328,137383.37525106722,6024.563353613806,16663.290527107623,27345.07481179008,11891.383294816771,48779.88460260399,71646.8573979616,93829.90955564294,10045.139098533722,24213.91236879255,7385.05443166292,30569.61531536938,38182.85491847003,11350.229982816378,19629.29709158728,106160.84354338357,21456.175176386107,14459.82853542388,38148.31232115614,13579.911895870346,8101.894011668902,53457.806305455924,14111.58555864413,153584.22985155656,15782.076250139791,6450.936172534688,2753.390902671531,3498.8844998831155,2770.8842701796084,49835.61643835617,4797.388340976192,9980.360631943282,1762.3636363636363,47202.87809349221,23208.793197032748,706.250946983283,6607.307271953527,11622.450848712633,9455.719438217013,8495.123236008485,11354.460405521913,9621.428349316946,4839.159209838605,7307.328651969312,4508.9471010811985,6526.448876031251,2710.820823043788,5026.750519155921,3304.282584978756,3178.5886214856737,2501.801264806841,31374.284226965123,180196.46498980286,228970.54837835394,25591.91176470588,140827.16049382716,7977.896363560964,6274.970102153172,10890.492528426006,3390.557989863194,23945.10234081768,84628.62454325947,14333.552509914316,123.15315065965495,45018.92402671034,107813.73497305514,56049.477545233174,14497.567870851533,10710.288877094548,45468.81790525858,52895.38595473012,4052.703316674239,22040.193986420953,94297.48720690445,64256.26932325661,16578.562990011815,87530.49601325464,68774.47869920057,10523.132525677196,6331.252625277895,31388.13418705466,14571.474380681608,35950.76739388352,139750.75102162472,96376.18157168903,75226.44003777148,49000.24880573248,39213.10413703356,47651.94659374738,85126.57800680344,21050.634734272266,19322.899164248152,63597.69356550675,34068.182571175894,23410.457323831182,73598.06244876668,28757.018104366347,26019.06671820523,6390.132248219736,23087.88111708942,4297.618612137397,26500.56292960417,18239.64468934068,100680.8510638298,89750.0,40145.454545454544,9040.472175379427,1589.2857142857142,18963.567541991953,33814.91587085039,6580.066293290662,11027.59792166267,6911.510502160731,6926.594882482343,16821.984595214682,3556.9113441372738,10477.516507270466,22867.34693877551,52168.674698795185,94737.80487804877,49175.67567567568,6160.54541455905,91436.00867678958,3430.2431508456466,7422.396514709336,2588.3967226229524,9529.235527481198,7581.274539774973,1098.3162346112538,6138.881000623473,3787.5529935645227,3795.65783272571,3686.597271411413,8850.789807906016,13326.76137915601,16194.219888468271,5630.284637400284,6507.621454189762,5547.485051002463,5498.420992707203,5480.883811654117,5125.984650146074,6520.42092271716,4231.479205309854,18972.966308757932,20878.683660954022,11532.283014207906,5228.571428571429,3319.6109935567642,20028.969905849975,4906.174219504196,6712.116321605877,4137.211651000349,5063.906513899667,15543.774319066148,21509.96015936255,13189.655172413792,54625.792811839325,5045.045045045045,46551.724137931036,6915.488413024346,6673.925882179242,8563.698688988681,9725.678360681832,1779.1094526643662,7462.03093804114,2116.0079847485176,6974.500637841481,831.7375100959913,1669.12060386175,1824.8623425104993,3136.1047792576105,1048.2855143456964,2337.1381981247455,4421.350564251911,13664.556962025315,599.964416545394,23525.629743702564,824.6132942605904,13743.553276694487,10676.367718993639,5604.281683838262,2339.000946697178,1222.7339241671484,390.21738902770824,527.2727272727273,724.8677248677249,2745.487547595365,2321.262550147524,872.3238042489812,1409.7625857260623,2000.0,6304.041003466094,962.9214406937098,1438.8874049317417,3769.7896334851443,443.9581784314323,602.2337246197061,910.5412016047292,2480.843129102569,1069.7454641649474,1613.64726574992,5842.151169059339,1657.3396145423662,820.2343148487878,10048.306015780186,2515.151515151515,3596.0100052370576,1922.8224680177455,7190.349927176308,6754.054792667903,204362.27544910178,18184.90245971162,7372.072853425845,476.4270997454854,216.15285262184932,1050.0,1877.0515755125894,3841.4415777660083,1094.5992857380627,2712.9684067555404,1452.6790609861569,2007.698573267821,2059.387356724561,1895.9678651409065,6278.2526115859455,1777.4084684428992,67.11134802511913,2646.666666666667,4734.6370708728855,4400.0,4110.130945798087,2717.9676902207425,32059.87311657415,3817.259362605628,4699.84392208266,4036.9383553348675,3957.9967689822292,4259.188104480558,137.3862266845752,877.5979275456181,1785.2326285895085,17760.869565217392,1507.936507936508,6322.754491017964,729.3749793000759,2539.69696969697,1274.2832632511067,1942.0289855072463,3682.8710917212006,1254.3608894592353,1202.9493551106732,780.3198719495929,165.22914956294971,5048.611111111111,8043.478260869565,3621.123629133752,5390.407823224406,615.9234584654193,2136.542239685658,74.0,4123.633719595648,2737.379174475157,1012.0067802994632,3915.704441099939,6621.611204637798,2717.824738467462,13346.135372512887,6038.3475506658215,1573.828086398885,4083.0963023161316,6659.868523215488,2213.231069629167,3930.4347826086955,3101.987168062734,2740.0,1897.6189681824753,1599.9172291859825,2524.1935483870966,558.7808808196006,1786.518543920067,4334.426375619862,6672.561363166871,16265.333333333334,2780.5551772889467,2821.734091285391,705.7851641276089,3356.3672758907073,486.0543143566568,842.3924592428015,1474.338237181956,2192.667587053229,1486.5927779764033,1035.144990687624,3400.785475801459,9969.135802469136,1387.0116781494592,2599.250936329588,336.30467955239067,3000.0,4656.852791878173,2099.6649916247907,1266.8227109843426,11226.7417894268,13494.928695042607,82.41011119684907,105.0,19250.0,629.8763853751204,166.4670658682635,192.23076923076923,478.4512393703636,1018.5459940652819,19.99963612215379,1.6685892303028087,122.97734627831716,22.22222222222222,1664.9453481366727,70000.0,13700.0,111.75854870938215,76933.33333333334,1075.0,62.71545827633379,1184.434483600987,32000.0,633.0,904.1060824346711,125.22686025408348,1139.513840630067,680.9491745978908,97.27356746765248,374.73753416103955,1392.0265780730897,249.9709852626731,211.64317729574205,16087.426326129666,1811.4758052844024,2057.797316057381,1243.9584100631782,846.8823109143634,1500.0,1495.5,952.3727268093494,1000.0,1210.0,105.07276165419715,190.56210736956058,31.797085975037117,422.962962962963,109285.71428571429,12000.0,5555.555555555556,170.2127659574468,1435.4561101549052,1800.0,891.7248255234298,8520.0,37166.666666666664,388.560232944887,118400.0,237.2838992877854,9578.202736318408,2274.707982811838,743.4065606953623,386600.0,86618.14989372516,2130.434782608696,null,14892.68292682927,3303.479462379098,10841.070023603463,3051.898734177215,29731.60173160173,83972.38173366147,21082.8025477707,2388.4066548300125,15157.043879907622,700.771990866587,6558.599786045405,2591.642966528112,2014.896715248515,5370.3378350642415,2547.3000824402307,2429.9933230850456,1002.1221248630886,27883.693045563552,3379.310344827586,83086.95652173914,62111.50741505538,7216.666666666667,9041.666666666668,5721.287136212826,161271.67630057805,44000.0,429203.79146919434,152546.59498207885,2210.3746397694526,2500.0,38815.74081855619,86978.24536376605,53065.928595629244,1521.3929634544347,115064.6437994723,464.4819375647207,1880.8602919805942,770.4900829048169,2752.8565382987726,2453.5660733888403,1865.0,81391.05902777778,15863.440860215054,2133.3333333333335,4389.9215200330445,2061.1524208588658,4029.5721700549766,1068.89416987692,6693.727290112832,13863.74501992032,14940.298507462685,492.76186730714306,3816.5965583173997,280277.3999683694,10678.25204130125,27063.033151146752,9349.950005421098,3742.433085966814,10284.819815945644,6799.223220560185,1058.6282766539482,1329.899506736777,4665.821692465347,2463.674066845572,13482.539682539682,1546.698947760499,6205.34685803714,28983.870967741936,34545.454545454544,4529.76095705023,13158.44901866922,72000.0,2710.004065190879,338.98305084745766,9718.90745160435,61957.74647887325,15061.538461538461,39333.333333333336,953.1527039007093,920.0,3036.0230547550436,7061.947241234188,3720.115609792248,52166.666666666664,2484.676985766434,4723.902549404133,3895.6109134045078,8117.49429946795,892.3076923076923,1356.9924812030076,361.56678942082357,2101.6746411483255,2230000.0,64055.55555555556,474.854306158192,2684.5586610138844,864.6141365833828,1008.6137179797224,906.9167276256192,560.2037737600668,1933.2243684588807,2164.8939641109296,2430.194991178425,641.305419716107,3004.876562023773,3140.1030731055544,26589.57512045554,4603.434310707921,3172.0245264425707,3984.0055826936496,1590.0,414.40257556852646,567.4627324419855,3838.500443655723,1662.7517948003067,3983.9658548577145,2760.731038042304,3089.7737583546686,3336.001346249134,1832.125653278613,3573.456140699129,759.1874219801125,3210.6569255716927,1444.4855901767503,11091.912370284961,102.10372613703964,6444.074250356973,60705.882352941175,10580.882352941177,14905.87938430482,11963.636363636364,4162.026986163296,12465.159607502173,90230.76923076923,8155.586579798786,2866.324823465508,2709.7124055425274,804.6346958480849,9417.431233962094,456.5354272380459,25114.942528735635,7844.344339577718,18726.000247739375,23384.442446043162,6666.666666666667,4530.487804878048,89.81652500776033,305.0,95.72671346238681,3680.729603542668,4214.870224892175,2366.878504672897,579.5188113618082,435.10721562968376,943.7056708583852,2412.5006199064355,19088.57142857143,201.70243065669808,1258.9862312659923,1427.027027027027,4333.446607833279,20558.823529411766,10371.488417939872,3779.199366871686,15000.0,115662.73078574495,782.7339623376118,167.90433935672164,56.81818181818182,1808.3282302510715,192.0614634506704,659.8878157817046,464.3413719351226,3360.027378507871,866.7154505540456,688.8847492752442,7479.674796747968,1319.4531096810995,2292.1461938434372,8132.018209408194,27127.84090909091,1662.4427069290914,2346.3059863423005,1168.992864215264,2237.42856361598,6434.1538309147645,3000.0,1597.0439383482862,5514.849313886562,3640.0148065889325,9396.061269146609,3908.7947882736157,13282.128137879356,21545.454545454548,6741.099539840156,1852.1126760563382,6662.181643440654,5186.375421580127,437.228330350294,680.1873735760672,7002.695417789758,31210.526315789473,13379.652605459056,26589.360354654847,140.00168392691756,50000.0,3833.72321069918,181.8181818181818,5644.33551198257,4353.3832242393355,5346.806313789806,2147.130808634387,6165.441176470588,13131.673798884944,3936.687113270607,2594.803663105314,8159.022931206382,2178.198985746711,7042.198233562317,2927.1111111111113,300.00214073170207,6877.336448598131,6203.665082424886,1425.287356321839,9370.714855168748,1998.5835694050993,7235.83365025391,7277.7493606138105,17391.731235582894,134400.0,47095.23809523809,1282.004555808656,1861.78035185824,5319.567734465457,8374.752148050231,3575.8009468237365,2643.6453937698543,5202.1398151033545,1349.673202614379,19141.843971631206,40739.29860752965,5362.453531598513,5660.841022001419,35285.57114228456,13315.334773218143,1037.453982061888,11406.976744186048,2900.0,8269.767441860466,2553.3721251034585,47872.69681742044,4448.823416873924,22450.0,360.0981253661394,9625.0,8819.9784405318,9507.66185204194,6274.024700898734,6970.163696476091,9595.037955140027,33174.66349960412,20922.395220220773,36084.402028034594,23254.329284052725,23919.994233818652,38890.896921017404,42133.99543017442,19677.908123797966,6451.392058420813,42769.14016489988,32334.306956983535,13016.840966386993,17527.869840313346,8493.279610307605,7324.213775389065,12088.7994528098,22730.098030289235,15341.955386805887,24403.069338422392,12650.05931198102,16390.262172284645,74031.96347031964,15487.056367432151,34322.255192878336,46521.09065485901,16885.796804958034,167646.15384615384,14000.0,13926.8115942029,8516.123047667637,6917.3173877359595,12621.621621621622,9022.57636122178,2325.982917229571,6349.339913966315,1285.3885822853524,15161.290322580646,40349.01960784314,585.7090171491794,2638.1623813706706,9769.224356409231,15407.237925721267,11826.163301141352,2843.5820077613344,30942.791507135396,149516.16352079,156369.68698517297,22017.699115044248,12698.20788530466,17818.181818181816,13217.741935483871,337.64772087788407,7568.132986543028,8000.0,38823.529411764706,105.69423935307255,8320.12859167388,1783.3774278892688,11370.673952641166,1545.5056165330989,380.9001425362497,11641.935483870968,3414.967183321951,454696.96969696967,4910.714285714285,null,27882.35294117647,337352.94117647054,423.40183031075054,290.4079630225918,34727.27272727273,1319.68135797436,1752.9392137235275,2887.658227848101,5174.117525453512,2068.1312300396785,35881.18811881188,2000.0,1153.8461538461538,5521.8872870249015,2269.9565243093843,15454.545454545454,537.8019924241344,13209.802041622017,9629.62962962963,32413.46153846154,5978.347057029582,9536.929647892215,9805.293005671077,476920.227920228,34730095.62334217,43442000.0,918.647298730224,1073000.0,46555.55555555556,55440.72256596259,5686.246418338109,35000.0,4743.961352657005,1077.5397312844475,22.72727272727273,805.3729369519367,470.6294819346041,5442.724458204334,2274.4662821529128,490.37818789742056,657.7185715884921,527.664452611349,539.1578509827496,771.0695408252143,39093.896713615024,2278.6609749515465,2239.9477806788514,94.08976369627658,96848.48484848485,3780.0,4786.727688787185,1465.7873042044516,26422.336328626443,9961.038961038961,2772.349182939263,5015.056818181818,677.3446377783881,12770.463114975915,1049.8331863130752,2015.5565587869314,3135.219255277447,2329.330109958668,4791.770181452247,935.4998223040855,760.546977014496,6215.517635756439,747.8558230042188,2915.6360889791335,1000.0,2351.1201952652154,4137.592608237528,5142.857142857143,2640.4030680689393,20795.791805094133,1285.0735218620134,2239.1316519580114,3261.0674274050098,4071.2705560125423,6261.9047619047615,5315.7371983519715,73000.0,145000.0,2651.8678938819708,5746.349619171466,2500.2025111381126,3420.1400466822274,104343.75,26442.81953787657,5000.0,9222.222222222223,256117.64705882352,1181.0537463034182,3091.5236955227006,2374.635828527261,9782.407407407407,11614.53146220009,3236.402744939069,49250.0,5272.862186045466,11467.545372183418,85881.88073394496,3184.40366404271,5579.683788853591,20161.89290161893,1860.6343375347394,1317.3212449049558,25551.495016611298,1949.0100546917913,1340.4673230957605,255.07414058275927,5370.0,284000.0,255954.54545454547,939.962660902034,33750.0,77140.0,2763.757482139409,3818.5542374327897,6746.953175112252,1912.6896855069278,8223.480114680586,33580.48954797212,16017.483022684582,32321.193638631954,21114.906832298137,86674.79674796748,12695.02566127122,17250.986582478297,2165.2966007553873,23573.36523125997,2406.666666666667,23300.709219858156,11492.185288377013,2345.5693675173225,7112.244897959184,37101.72626387176,7306.4918851435705,57250.0,3538.5658994354644,7222.222222222222,2562.102479811334,25608.333333333336,39230.769230769234,130000.00000000001,1207.0049393803324,12167.982239763196,23632.834367774125,43663.587229763696,23124.075595727198,100902.82456594973,25621.078395015942,10079.162537654616,13699.38378839031,22671.97045034806,11502.014504431909,4199.101796407185,5267.816707046222,17352.451200358988,781.25,15805.400381270332,38249.12854030501,23310.344827586207,18249.096134235653,15313.218304576143,4951.207778396719,3950.7495144727814,18014.427981539957,4222.545345887367,5959.121550452918,5354.721477267649,3725.8866898106726,3157.986746351181,4450.074515648286,7065.477216121806,37206.74656569766,14763.868288341739,5115.4149816158,1355245.6140350876,8328.669533406071,555.5555555555555,3443.335841359612,4902.938983350176,16409.896746541985,25785.0,4713.817001491359,21882.833333333332,8982.09845847837,414.97235532620715,35587.18861209964,282555.55555555556,15397.169811320753,32661.184210526317,14605.122732123798,6395.551257253385,2946.3061690784466,10880.478087649402,11285.091107374925,14568.872458410351,13356.71997539597,18927.41935483871,2385.5421686746986,174977.89535567313,9140.67415730337,276792.15012175904,6828.355873028612,26020.53915275995,79125.0,18618.731944266907,155231.3725490196,25840.547779208347,14083.274340118756,7151.539874225984,11081.976320931837,16022.197221810538,41420.19441831295,33846.31253223311,18891.66472346469,4401.232307804965,32217.342844404815,4474.256268228991,36255.633255633256,112056.94444444445,2624.0464401312834,23261.363636363636,9834.95145631068,51484.375,8869.845832477838,11529.051987767583,69716.73819742489,10394.014962593516,14524.754459811586,15175.631476238901,146462.93721028234,74261.60990712074,2911764.705882353,14861.538461538461,59488.280146851175,555336.3028953229,223682.244540489,45775.25403466826,464315.42351453856,103697.87565776652,70046.78362573098,138220.57264050902,85098.48484848485,16096.938775510203,46908.3044982699,34290.12545715476,24744.755244755244,23312.409638554214,34540.26845637584,643176.4705882353,53598.82583170255,5890.6047192731385,12855.986946135989,3141.510639754719,28083.333333333336,32656.084656084655,38473.21428571428,517.3438630758745,1332.6923076923076,77.98165137614679,11639.065817409768,283.2801530685225,2333.085501858736,11067.713835443257,10349.163417189644,17571.832560940205,10641.79462571977,13249.780167617328,3061.938061938062,31292.134831460677,17485.91549295775,33333.333333333336,5936.802973977695,42901.31578947369,242278.48101265822,591357.356395473,21139.289678135407,5128.205128205128,116290.89506172838,21302.32558139535,37868.852459016394,69802.46913580247,45338.95131086142,2169.4312796208533,67783.50515463918,176024.2718446602,121583.33333333333,66500.0,99200.0,740490.9090909091,244866.17375231054,106034.63323405139,13207.650273224042,10043.324937027708,157708.65164871042,773416.6666666667,164568.96551724136,657919.3548387096,146886.9463869464,25928.18903452095,24005.492184199407,8002.718491526403,86434.2314885364,238565.96133751306,68566.53225806452,53370.967741935485,120655.51210336122,68677.58328627894,192920.671955203,82287.91377983065,32872.75607180571,50013.8711054204,4363.636363636364,2654714.2857142854,27196.9696969697,14228.197674418605,18169.675090252706,4238.095238095238,6292.763157894737,3206.315789473684,3973.983253588517,4219.437241909152,514.4694533762058,2193.548387096774,1000.0,550.0,null,9517.733770783809,28595.744680851065,6351.614066595828,3196.6351053199173,17057.749824067556,1297.028622244481,20319.315769156532,10727.17603261833,2460.185717807544,32629.810159055924,3180.0,730.7603648697599,35101.796407185626,23569.690501600853,24042.437294147454,58303.030303030304,9494.494235904156,8058.823529411764,5868.001404863097,7773.234870317004,6666.666666666667,22333.333333333332,11534.351145038167,18714.285714285714,7505.882352941176,10594.05703330937,75470.37037037036,34114.17322834646,4601.108033240997,3386.401644480678,18481.727574750832,11085.450346420323,10388.499298737728],\"yaxis\":\"y\",\"type\":\"scattergl\"}],                        {\"template\":{\"data\":{\"histogram2dcontour\":[{\"type\":\"histogram2dcontour\",\"colorbar\":{\"outlinewidth\":0,\"ticks\":\"\"},\"colorscale\":[[0.0,\"#0d0887\"],[0.1111111111111111,\"#46039f\"],[0.2222222222222222,\"#7201a8\"],[0.3333333333333333,\"#9c179e\"],[0.4444444444444444,\"#bd3786\"],[0.5555555555555556,\"#d8576b\"],[0.6666666666666666,\"#ed7953\"],[0.7777777777777778,\"#fb9f3a\"],[0.8888888888888888,\"#fdca26\"],[1.0,\"#f0f921\"]]}],\"choropleth\":[{\"type\":\"choropleth\",\"colorbar\":{\"outlinewidth\":0,\"ticks\":\"\"}}],\"histogram2d\":[{\"type\":\"histogram2d\",\"colorbar\":{\"outlinewidth\":0,\"ticks\":\"\"},\"colorscale\":[[0.0,\"#0d0887\"],[0.1111111111111111,\"#46039f\"],[0.2222222222222222,\"#7201a8\"],[0.3333333333333333,\"#9c179e\"],[0.4444444444444444,\"#bd3786\"],[0.5555555555555556,\"#d8576b\"],[0.6666666666666666,\"#ed7953\"],[0.7777777777777778,\"#fb9f3a\"],[0.8888888888888888,\"#fdca26\"],[1.0,\"#f0f921\"]]}],\"heatmap\":[{\"type\":\"heatmap\",\"colorbar\":{\"outlinewidth\":0,\"ticks\":\"\"},\"colorscale\":[[0.0,\"#0d0887\"],[0.1111111111111111,\"#46039f\"],[0.2222222222222222,\"#7201a8\"],[0.3333333333333333,\"#9c179e\"],[0.4444444444444444,\"#bd3786\"],[0.5555555555555556,\"#d8576b\"],[0.6666666666666666,\"#ed7953\"],[0.7777777777777778,\"#fb9f3a\"],[0.8888888888888888,\"#fdca26\"],[1.0,\"#f0f921\"]]}],\"heatmapgl\":[{\"type\":\"heatmapgl\",\"colorbar\":{\"outlinewidth\":0,\"ticks\":\"\"},\"colorscale\":[[0.0,\"#0d0887\"],[0.1111111111111111,\"#46039f\"],[0.2222222222222222,\"#7201a8\"],[0.3333333333333333,\"#9c179e\"],[0.4444444444444444,\"#bd3786\"],[0.5555555555555556,\"#d8576b\"],[0.6666666666666666,\"#ed7953\"],[0.7777777777777778,\"#fb9f3a\"],[0.8888888888888888,\"#fdca26\"],[1.0,\"#f0f921\"]]}],\"contourcarpet\":[{\"type\":\"contourcarpet\",\"colorbar\":{\"outlinewidth\":0,\"ticks\":\"\"}}],\"contour\":[{\"type\":\"contour\",\"colorbar\":{\"outlinewidth\":0,\"ticks\":\"\"},\"colorscale\":[[0.0,\"#0d0887\"],[0.1111111111111111,\"#46039f\"],[0.2222222222222222,\"#7201a8\"],[0.3333333333333333,\"#9c179e\"],[0.4444444444444444,\"#bd3786\"],[0.5555555555555556,\"#d8576b\"],[0.6666666666666666,\"#ed7953\"],[0.7777777777777778,\"#fb9f3a\"],[0.8888888888888888,\"#fdca26\"],[1.0,\"#f0f921\"]]}],\"surface\":[{\"type\":\"surface\",\"colorbar\":{\"outlinewidth\":0,\"ticks\":\"\"},\"colorscale\":[[0.0,\"#0d0887\"],[0.1111111111111111,\"#46039f\"],[0.2222222222222222,\"#7201a8\"],[0.3333333333333333,\"#9c179e\"],[0.4444444444444444,\"#bd3786\"],[0.5555555555555556,\"#d8576b\"],[0.6666666666666666,\"#ed7953\"],[0.7777777777777778,\"#fb9f3a\"],[0.8888888888888888,\"#fdca26\"],[1.0,\"#f0f921\"]]}],\"mesh3d\":[{\"type\":\"mesh3d\",\"colorbar\":{\"outlinewidth\":0,\"ticks\":\"\"}}],\"scatter\":[{\"fillpattern\":{\"fillmode\":\"overlay\",\"size\":10,\"solidity\":0.2},\"type\":\"scatter\"}],\"parcoords\":[{\"type\":\"parcoords\",\"line\":{\"colorbar\":{\"outlinewidth\":0,\"ticks\":\"\"}}}],\"scatterpolargl\":[{\"type\":\"scatterpolargl\",\"marker\":{\"colorbar\":{\"outlinewidth\":0,\"ticks\":\"\"}}}],\"bar\":[{\"error_x\":{\"color\":\"#2a3f5f\"},\"error_y\":{\"color\":\"#2a3f5f\"},\"marker\":{\"line\":{\"color\":\"#E5ECF6\",\"width\":0.5},\"pattern\":{\"fillmode\":\"overlay\",\"size\":10,\"solidity\":0.2}},\"type\":\"bar\"}],\"scattergeo\":[{\"type\":\"scattergeo\",\"marker\":{\"colorbar\":{\"outlinewidth\":0,\"ticks\":\"\"}}}],\"scatterpolar\":[{\"type\":\"scatterpolar\",\"marker\":{\"colorbar\":{\"outlinewidth\":0,\"ticks\":\"\"}}}],\"histogram\":[{\"marker\":{\"pattern\":{\"fillmode\":\"overlay\",\"size\":10,\"solidity\":0.2}},\"type\":\"histogram\"}],\"scattergl\":[{\"type\":\"scattergl\",\"marker\":{\"colorbar\":{\"outlinewidth\":0,\"ticks\":\"\"}}}],\"scatter3d\":[{\"type\":\"scatter3d\",\"line\":{\"colorbar\":{\"outlinewidth\":0,\"ticks\":\"\"}},\"marker\":{\"colorbar\":{\"outlinewidth\":0,\"ticks\":\"\"}}}],\"scattermapbox\":[{\"type\":\"scattermapbox\",\"marker\":{\"colorbar\":{\"outlinewidth\":0,\"ticks\":\"\"}}}],\"scatterternary\":[{\"type\":\"scatterternary\",\"marker\":{\"colorbar\":{\"outlinewidth\":0,\"ticks\":\"\"}}}],\"scattercarpet\":[{\"type\":\"scattercarpet\",\"marker\":{\"colorbar\":{\"outlinewidth\":0,\"ticks\":\"\"}}}],\"carpet\":[{\"aaxis\":{\"endlinecolor\":\"#2a3f5f\",\"gridcolor\":\"white\",\"linecolor\":\"white\",\"minorgridcolor\":\"white\",\"startlinecolor\":\"#2a3f5f\"},\"baxis\":{\"endlinecolor\":\"#2a3f5f\",\"gridcolor\":\"white\",\"linecolor\":\"white\",\"minorgridcolor\":\"white\",\"startlinecolor\":\"#2a3f5f\"},\"type\":\"carpet\"}],\"table\":[{\"cells\":{\"fill\":{\"color\":\"#EBF0F8\"},\"line\":{\"color\":\"white\"}},\"header\":{\"fill\":{\"color\":\"#C8D4E3\"},\"line\":{\"color\":\"white\"}},\"type\":\"table\"}],\"barpolar\":[{\"marker\":{\"line\":{\"color\":\"#E5ECF6\",\"width\":0.5},\"pattern\":{\"fillmode\":\"overlay\",\"size\":10,\"solidity\":0.2}},\"type\":\"barpolar\"}],\"pie\":[{\"automargin\":true,\"type\":\"pie\"}]},\"layout\":{\"autotypenumbers\":\"strict\",\"colorway\":[\"#636efa\",\"#EF553B\",\"#00cc96\",\"#ab63fa\",\"#FFA15A\",\"#19d3f3\",\"#FF6692\",\"#B6E880\",\"#FF97FF\",\"#FECB52\"],\"font\":{\"color\":\"#2a3f5f\"},\"hovermode\":\"closest\",\"hoverlabel\":{\"align\":\"left\"},\"paper_bgcolor\":\"white\",\"plot_bgcolor\":\"#E5ECF6\",\"polar\":{\"bgcolor\":\"#E5ECF6\",\"angularaxis\":{\"gridcolor\":\"white\",\"linecolor\":\"white\",\"ticks\":\"\"},\"radialaxis\":{\"gridcolor\":\"white\",\"linecolor\":\"white\",\"ticks\":\"\"}},\"ternary\":{\"bgcolor\":\"#E5ECF6\",\"aaxis\":{\"gridcolor\":\"white\",\"linecolor\":\"white\",\"ticks\":\"\"},\"baxis\":{\"gridcolor\":\"white\",\"linecolor\":\"white\",\"ticks\":\"\"},\"caxis\":{\"gridcolor\":\"white\",\"linecolor\":\"white\",\"ticks\":\"\"}},\"coloraxis\":{\"colorbar\":{\"outlinewidth\":0,\"ticks\":\"\"}},\"colorscale\":{\"sequential\":[[0.0,\"#0d0887\"],[0.1111111111111111,\"#46039f\"],[0.2222222222222222,\"#7201a8\"],[0.3333333333333333,\"#9c179e\"],[0.4444444444444444,\"#bd3786\"],[0.5555555555555556,\"#d8576b\"],[0.6666666666666666,\"#ed7953\"],[0.7777777777777778,\"#fb9f3a\"],[0.8888888888888888,\"#fdca26\"],[1.0,\"#f0f921\"]],\"sequentialminus\":[[0.0,\"#0d0887\"],[0.1111111111111111,\"#46039f\"],[0.2222222222222222,\"#7201a8\"],[0.3333333333333333,\"#9c179e\"],[0.4444444444444444,\"#bd3786\"],[0.5555555555555556,\"#d8576b\"],[0.6666666666666666,\"#ed7953\"],[0.7777777777777778,\"#fb9f3a\"],[0.8888888888888888,\"#fdca26\"],[1.0,\"#f0f921\"]],\"diverging\":[[0,\"#8e0152\"],[0.1,\"#c51b7d\"],[0.2,\"#de77ae\"],[0.3,\"#f1b6da\"],[0.4,\"#fde0ef\"],[0.5,\"#f7f7f7\"],[0.6,\"#e6f5d0\"],[0.7,\"#b8e186\"],[0.8,\"#7fbc41\"],[0.9,\"#4d9221\"],[1,\"#276419\"]]},\"xaxis\":{\"gridcolor\":\"white\",\"linecolor\":\"white\",\"ticks\":\"\",\"title\":{\"standoff\":15},\"zerolinecolor\":\"white\",\"automargin\":true,\"zerolinewidth\":2},\"yaxis\":{\"gridcolor\":\"white\",\"linecolor\":\"white\",\"ticks\":\"\",\"title\":{\"standoff\":15},\"zerolinecolor\":\"white\",\"automargin\":true,\"zerolinewidth\":2},\"scene\":{\"xaxis\":{\"backgroundcolor\":\"#E5ECF6\",\"gridcolor\":\"white\",\"linecolor\":\"white\",\"showbackground\":true,\"ticks\":\"\",\"zerolinecolor\":\"white\",\"gridwidth\":2},\"yaxis\":{\"backgroundcolor\":\"#E5ECF6\",\"gridcolor\":\"white\",\"linecolor\":\"white\",\"showbackground\":true,\"ticks\":\"\",\"zerolinecolor\":\"white\",\"gridwidth\":2},\"zaxis\":{\"backgroundcolor\":\"#E5ECF6\",\"gridcolor\":\"white\",\"linecolor\":\"white\",\"showbackground\":true,\"ticks\":\"\",\"zerolinecolor\":\"white\",\"gridwidth\":2}},\"shapedefaults\":{\"line\":{\"color\":\"#2a3f5f\"}},\"annotationdefaults\":{\"arrowcolor\":\"#2a3f5f\",\"arrowhead\":0,\"arrowwidth\":1},\"geo\":{\"bgcolor\":\"white\",\"landcolor\":\"#E5ECF6\",\"subunitcolor\":\"white\",\"showland\":true,\"showlakes\":true,\"lakecolor\":\"white\"},\"title\":{\"x\":0.05},\"mapbox\":{\"style\":\"light\"}}},\"xaxis\":{\"anchor\":\"y\",\"domain\":[0.0,1.0],\"title\":{\"text\":\"Netweight (kg)\"}},\"yaxis\":{\"anchor\":\"x\",\"domain\":[0.0,1.0],\"title\":{\"text\":\"usd_per_ton\"}},\"legend\":{\"tracegroupgap\":0},\"margin\":{\"t\":60}},                        {\"responsive\": true}                    ).then(function(){\n",
       "                            \n",
       "var gd = document.getElementById('362f0ccc-9c37-4ff1-a262-221d6fb2355c');\n",
       "var x = new MutationObserver(function (mutations, observer) {{\n",
       "        var display = window.getComputedStyle(gd).display;\n",
       "        if (!display || display === 'none') {{\n",
       "            console.log([gd, 'removed!']);\n",
       "            Plotly.purge(gd);\n",
       "            observer.disconnect();\n",
       "        }}\n",
       "}});\n",
       "\n",
       "// Listen for the removal of the full notebook cells\n",
       "var notebookContainer = gd.closest('#notebook-container');\n",
       "if (notebookContainer) {{\n",
       "    x.observe(notebookContainer, {childList: true});\n",
       "}}\n",
       "\n",
       "// Listen for the clearing of the current output cell\n",
       "var outputEl = gd.closest('.output');\n",
       "if (outputEl) {{\n",
       "    x.observe(outputEl, {childList: true});\n",
       "}}\n",
       "\n",
       "                        })                };                });            </script>        </div>"
      ]
     },
     "metadata": {},
     "output_type": "display_data"
    }
   ],
   "source": [
    "import plotly.express as px\n",
    "px.scatter(filtered_df, x=\"Netweight (kg)\", y=\"usd_per_ton\", hover_data=['Commodity'])"
   ]
  },
  {
   "cell_type": "code",
   "execution_count": 11,
   "metadata": {},
   "outputs": [
    {
     "data": {
      "text/html": [
       "<div>\n",
       "<style scoped>\n",
       "    .dataframe tbody tr th:only-of-type {\n",
       "        vertical-align: middle;\n",
       "    }\n",
       "\n",
       "    .dataframe tbody tr th {\n",
       "        vertical-align: top;\n",
       "    }\n",
       "\n",
       "    .dataframe thead th {\n",
       "        text-align: right;\n",
       "    }\n",
       "</style>\n",
       "<table border=\"1\" class=\"dataframe\">\n",
       "  <thead>\n",
       "    <tr style=\"text-align: right;\">\n",
       "      <th></th>\n",
       "      <th>Netweight (kg)</th>\n",
       "      <th>Trade Value (US$)</th>\n",
       "      <th>Commodity Code</th>\n",
       "      <th>Commodity</th>\n",
       "      <th>trigram</th>\n",
       "      <th>usd_per_ton</th>\n",
       "    </tr>\n",
       "  </thead>\n",
       "  <tbody>\n",
       "    <tr>\n",
       "      <th>0</th>\n",
       "      <td>55965.0</td>\n",
       "      <td>1090985</td>\n",
       "      <td>101</td>\n",
       "      <td>Horses, asses, mules and hinnies; live</td>\n",
       "      <td>GAN</td>\n",
       "      <td>19494.058787</td>\n",
       "    </tr>\n",
       "    <tr>\n",
       "      <th>1</th>\n",
       "      <td>220792.0</td>\n",
       "      <td>2335760</td>\n",
       "      <td>102</td>\n",
       "      <td>Bovine animals; live</td>\n",
       "      <td>GAN</td>\n",
       "      <td>10579.006486</td>\n",
       "    </tr>\n",
       "    <tr>\n",
       "      <th>2</th>\n",
       "      <td>25602.0</td>\n",
       "      <td>603215</td>\n",
       "      <td>103</td>\n",
       "      <td>Swine; live</td>\n",
       "      <td>GAN</td>\n",
       "      <td>23561.245215</td>\n",
       "    </tr>\n",
       "    <tr>\n",
       "      <th>3</th>\n",
       "      <td>165170.0</td>\n",
       "      <td>2928106</td>\n",
       "      <td>104</td>\n",
       "      <td>Sheep and goats; live</td>\n",
       "      <td>GAN</td>\n",
       "      <td>17727.831931</td>\n",
       "    </tr>\n",
       "    <tr>\n",
       "      <th>4</th>\n",
       "      <td>263443.0</td>\n",
       "      <td>19037864</td>\n",
       "      <td>105</td>\n",
       "      <td>Poultry; live, fowls of the species Gallus dom...</td>\n",
       "      <td>GAN</td>\n",
       "      <td>72265.590659</td>\n",
       "    </tr>\n",
       "    <tr>\n",
       "      <th>...</th>\n",
       "      <td>...</td>\n",
       "      <td>...</td>\n",
       "      <td>...</td>\n",
       "      <td>...</td>\n",
       "      <td>...</td>\n",
       "      <td>...</td>\n",
       "    </tr>\n",
       "    <tr>\n",
       "      <th>2019</th>\n",
       "      <td>361.0</td>\n",
       "      <td>1661</td>\n",
       "      <td>9618</td>\n",
       "      <td>Tailors' dummies and other lay figures; automa...</td>\n",
       "      <td>MAN</td>\n",
       "      <td>4601.108033</td>\n",
       "    </tr>\n",
       "    <tr>\n",
       "      <th>2020</th>\n",
       "      <td>4326229.0</td>\n",
       "      <td>14650349</td>\n",
       "      <td>9619</td>\n",
       "      <td>Sanitary towels (pads) and tampons, napkins an...</td>\n",
       "      <td>MAN</td>\n",
       "      <td>3386.401644</td>\n",
       "    </tr>\n",
       "    <tr>\n",
       "      <th>2021</th>\n",
       "      <td>602.0</td>\n",
       "      <td>11126</td>\n",
       "      <td>9701</td>\n",
       "      <td>Paintings, drawings, pastels, executed entirel...</td>\n",
       "      <td>MAN</td>\n",
       "      <td>18481.727575</td>\n",
       "    </tr>\n",
       "    <tr>\n",
       "      <th>2022</th>\n",
       "      <td>866.0</td>\n",
       "      <td>9600</td>\n",
       "      <td>9703</td>\n",
       "      <td>Sculptures and statuary; original, in any mate...</td>\n",
       "      <td>MAN</td>\n",
       "      <td>11085.450346</td>\n",
       "    </tr>\n",
       "    <tr>\n",
       "      <th>2023</th>\n",
       "      <td>27094.0</td>\n",
       "      <td>281466</td>\n",
       "      <td>9705</td>\n",
       "      <td>Collections and collectors' pieces; of zoologi...</td>\n",
       "      <td>MAN</td>\n",
       "      <td>10388.499299</td>\n",
       "    </tr>\n",
       "  </tbody>\n",
       "</table>\n",
       "<p>2018 rows × 6 columns</p>\n",
       "</div>"
      ],
      "text/plain": [
       "      Netweight (kg)  Trade Value (US$)  Commodity Code  \\\n",
       "0            55965.0            1090985             101   \n",
       "1           220792.0            2335760             102   \n",
       "2            25602.0             603215             103   \n",
       "3           165170.0            2928106             104   \n",
       "4           263443.0           19037864             105   \n",
       "...              ...                ...             ...   \n",
       "2019           361.0               1661            9618   \n",
       "2020       4326229.0           14650349            9619   \n",
       "2021           602.0              11126            9701   \n",
       "2022           866.0               9600            9703   \n",
       "2023         27094.0             281466            9705   \n",
       "\n",
       "                                              Commodity trigram   usd_per_ton  \n",
       "0                Horses, asses, mules and hinnies; live     GAN  19494.058787  \n",
       "1                                  Bovine animals; live     GAN  10579.006486  \n",
       "2                                           Swine; live     GAN  23561.245215  \n",
       "3                                 Sheep and goats; live     GAN  17727.831931  \n",
       "4     Poultry; live, fowls of the species Gallus dom...     GAN  72265.590659  \n",
       "...                                                 ...     ...           ...  \n",
       "2019  Tailors' dummies and other lay figures; automa...     MAN   4601.108033  \n",
       "2020  Sanitary towels (pads) and tampons, napkins an...     MAN   3386.401644  \n",
       "2021  Paintings, drawings, pastels, executed entirel...     MAN  18481.727575  \n",
       "2022  Sculptures and statuary; original, in any mate...     MAN  11085.450346  \n",
       "2023  Collections and collectors' pieces; of zoologi...     MAN  10388.499299  \n",
       "\n",
       "[2018 rows x 6 columns]"
      ]
     },
     "execution_count": 11,
     "metadata": {},
     "output_type": "execute_result"
    }
   ],
   "source": [
    "cond = (~df[\"Netweight (kg)\"].isnull()) & (~df[\"Trade Value (US$)\"].isnull())\n",
    "filtered_df = df[cond].copy(deep=True)\n",
    "filtered_df[\"usd_per_ton\"] = filtered_df[\"Trade Value (US$)\"] / (filtered_df[\"Netweight (kg)\"] / 1000)"
   ]
  },
  {
   "cell_type": "code",
   "execution_count": 6,
   "metadata": {},
   "outputs": [
    {
     "data": {
      "text/plain": [
       "trigram\n",
       "AGU      680.743231\n",
       "ALD      822.198330\n",
       "AYG      870.672508\n",
       "AZU      831.416110\n",
       "BAL     1298.267257\n",
       "BNA     3032.433087\n",
       "CAN     1340.624275\n",
       "CAR      901.393052\n",
       "CAU     3483.704493\n",
       "CEM      217.239559\n",
       "CER      272.837053\n",
       "CHO     2404.664941\n",
       "CIN     2513.549895\n",
       "CUE     4909.827217\n",
       "DEM     4218.405831\n",
       "ELE        0.000000\n",
       "FID     3651.114766\n",
       "FRT      446.900961\n",
       "FRV     2263.524260\n",
       "GAN    31112.571766\n",
       "HIL     3187.624698\n",
       "LAC     3115.139067\n",
       "MAD      456.972608\n",
       "MAN     5174.883605\n",
       "MAQ    11522.423313\n",
       "MET     1147.052083\n",
       "MIP      289.685066\n",
       "MOL      574.686893\n",
       "MUE     3962.158922\n",
       "PAN     2135.838403\n",
       "PAP     1202.909534\n",
       "PES     2431.393186\n",
       "PLS     2886.142636\n",
       "PPR     5559.097267\n",
       "QU1      821.012349\n",
       "QU2     5438.605441\n",
       "TAB    11125.794309\n",
       "VES    12192.437435\n",
       "VID      801.678390\n",
       "IMP      719.885436\n",
       "dtype: float64"
      ]
     },
     "execution_count": 6,
     "metadata": {},
     "output_type": "execute_result"
    }
   ],
   "source": [
    "input_folder = os.path.join('..', '..', '..', 'Ecuador', 'Data')\n",
    "trade_data = pd.read_csv(os.path.join(input_folder, \"Raw\", \"Trade\", \"comtrade_2016_AG4_ImportsExport_EcuadorReport_WolrdPartner.csv\"))\n",
    "\n",
    "df = trade_data[['Netweight (kg)', 'Trade Value (US$)', 'Commodity Code', 'Commodity']].copy()\n",
    "#df['hs2'] = df['Commodity Code'].astype(str).str.zfill(3).str[:2].astype(int)\n",
    "\n",
    "#map sectors\n",
    "H3_to_Sector = pd.read_csv(os.path.join(input_folder, \"Structured\", \"Trade\", \"HS17lvl4_to_59sectors.csv\")).set_index('hs17_lvl4_code')['trigram']\n",
    "df['trigram'] = df['Commodity Code'].map(H3_to_Sector)\n",
    "\n",
    "#get result\n",
    "def aggFct(df):\n",
    "    kg_col = 'Netweight (kg)'\n",
    "    usd_col = 'Trade Value (US$)'\n",
    "    cond = (~df[kg_col].isnull()) & (~df[usd_col].isnull())\n",
    "    filtered_df = df[cond].copy(deep=True)\n",
    "    usd_per_ton = filtered_df[usd_col] / (filtered_df[kg_col] / 1000)\n",
    "    weighted_usd_per_ton = usd_per_ton * filtered_df[kg_col] / filtered_df[kg_col].sum()\n",
    "    return weighted_usd_per_ton.sum()\n",
    "res = df.groupby('trigram').apply(aggFct)\n",
    "res['IMP'] = aggFct(df[df['trigram'] != \"ELE\"])\n",
    "\n",
    "res#.to_csv(os.path.join(input_folder, \"Structured\", \"Sectors\", \"59sector_usd_per_tons.csv\"))"
   ]
  },
  {
   "cell_type": "markdown",
   "metadata": {},
   "source": [
    "# Produce tech coef - Legacy"
   ]
  },
  {
   "cell_type": "code",
   "execution_count": 5,
   "metadata": {},
   "outputs": [],
   "source": [
    "techCoef = pd.read_excel(os.path.join(folder, \"Data\", \"Structured\", \"InputOutputTable\", \"inputOutputTable.xlsx\"), sheet_name=\"domestic_techCoef\")\n",
    "techCoef = techCoef.iloc[:-1,:]\n",
    "techCoef.to_csv(os.path.join(folder, \"Data\", \"Structured\", \"InputOutputTable\", \"techCoef.csv\"))"
   ]
  },
  {
   "cell_type": "markdown",
   "metadata": {},
   "source": [
    "# Produce country importance as importer"
   ]
  },
  {
   "cell_type": "code",
   "execution_count": 88,
   "metadata": {},
   "outputs": [],
   "source": [
    "# load data\n",
    "sectorFromImportSector_techCoef = pd.read_excel(os.path.join(folder, \"Data\", \"Structured\", \"InputOutputTable\", \"inputOutputTable.xlsx\"), sheet_name=\"sectorImports_techCoef\")\n",
    "import_per_contry_sector_abs = pd.read_csv(os.path.join(folder, \"Data\", \"Structured\", \"Trade\", \"import_table.csv\")).set_index(\"sector_code\").transpose()\n",
    "\n",
    "# get relative importance of each country for each product type (=sector)\n",
    "import_per_contry_sector_rel = import_per_contry_sector_abs/import_per_contry_sector_abs.sum()\n",
    "\n",
    "# merge with sector for which no data to get full matrix\n",
    "import_per_contry_sector_rel = import_per_contry_sector_rel.transpose().reset_index()\n",
    "import_per_contry_sector_rel = import_per_contry_sector_rel.merge(pd.DataFrame({'sector_code':sectorFromImportSector_techCoef.index.tolist()}), how=\"right\", on=\"sector_code\")\n",
    "\n",
    "# To fill the sector for which no country elements, we suppose that only Asia, Thailand, Viet Nam (because many services, suppose local, and these 3 represent over 95% anyway)\n",
    "# And we suppose that it is in the same proportions between the three as for the other sectors\n",
    "proportion = {}\n",
    "selected_country = ['C5', 'C1', 'C0']\n",
    "for country in selected_country:\n",
    "    proportion[country] = import_per_contry_sector_rel[country].sum() / import_per_contry_sector_rel[selected_country].sum().sum()\n",
    "\n",
    "boolindex_country_to_treat = import_per_contry_sector_rel.iloc[:,1:].isnull().all(axis=1)\n",
    "for country in selected_country:\n",
    "    import_per_contry_sector_rel.loc[boolindex_country_to_treat, country] = proportion[country]\n",
    "\n",
    "# put the rest to 0\n",
    "import_per_contry_sector_rel = import_per_contry_sector_rel.fillna(0)\n",
    "\n",
    "# sort and prepare for matrix operation\n",
    "import_per_contry_sector_rel = import_per_contry_sector_rel.sort_values('sector_code').set_index('sector_code')\n",
    "\n",
    "# compute coef tech of country sector, i.e., how much of each domestic sector by from a foreign country to produce one unit of output\n",
    "countrySector_coefTech = sectorFromImportSector_techCoef.transpose().dot(import_per_contry_sector_rel).transpose()\n",
    "\n",
    "# this tells the importance of each country as importer for specific sectors\n",
    "countrySector_importance = countrySector_coefTech / countrySector_coefTech.sum()\n",
    "countrySector_importance = countrySector_importance.transpose()\n",
    "\n",
    "# export\n",
    "countrySector_importance.to_csv(os.path.join(folder, \"Data\", \"Structured\", \"Trade\", \"countryImportanceForSector.csv\"))"
   ]
  },
  {
   "cell_type": "markdown",
   "metadata": {},
   "source": [
    "# Transit matrix"
   ]
  },
  {
   "cell_type": "code",
   "execution_count": 4,
   "metadata": {},
   "outputs": [
    {
     "data": {
      "text/html": [
       "<div>\n",
       "<style scoped>\n",
       "    .dataframe tbody tr th:only-of-type {\n",
       "        vertical-align: middle;\n",
       "    }\n",
       "\n",
       "    .dataframe tbody tr th {\n",
       "        vertical-align: top;\n",
       "    }\n",
       "\n",
       "    .dataframe thead th {\n",
       "        text-align: right;\n",
       "    }\n",
       "</style>\n",
       "<table border=\"1\" class=\"dataframe\">\n",
       "  <thead>\n",
       "    <tr style=\"text-align: right;\">\n",
       "      <th></th>\n",
       "      <th>COL</th>\n",
       "      <th>PER</th>\n",
       "      <th>CAR</th>\n",
       "      <th>AFR</th>\n",
       "      <th>NAM</th>\n",
       "      <th>SAM</th>\n",
       "      <th>ASI</th>\n",
       "      <th>EUR</th>\n",
       "      <th>OCE</th>\n",
       "    </tr>\n",
       "  </thead>\n",
       "  <tbody>\n",
       "    <tr>\n",
       "      <th>COL</th>\n",
       "      <td>0</td>\n",
       "      <td>0</td>\n",
       "      <td>0</td>\n",
       "      <td>0</td>\n",
       "      <td>0</td>\n",
       "      <td>0</td>\n",
       "      <td>0</td>\n",
       "      <td>0</td>\n",
       "      <td>0</td>\n",
       "    </tr>\n",
       "    <tr>\n",
       "      <th>PER</th>\n",
       "      <td>0</td>\n",
       "      <td>0</td>\n",
       "      <td>0</td>\n",
       "      <td>0</td>\n",
       "      <td>0</td>\n",
       "      <td>0</td>\n",
       "      <td>0</td>\n",
       "      <td>0</td>\n",
       "      <td>0</td>\n",
       "    </tr>\n",
       "    <tr>\n",
       "      <th>CAR</th>\n",
       "      <td>0</td>\n",
       "      <td>0</td>\n",
       "      <td>0</td>\n",
       "      <td>0</td>\n",
       "      <td>0</td>\n",
       "      <td>0</td>\n",
       "      <td>0</td>\n",
       "      <td>0</td>\n",
       "      <td>0</td>\n",
       "    </tr>\n",
       "    <tr>\n",
       "      <th>AFR</th>\n",
       "      <td>0</td>\n",
       "      <td>0</td>\n",
       "      <td>0</td>\n",
       "      <td>0</td>\n",
       "      <td>0</td>\n",
       "      <td>0</td>\n",
       "      <td>0</td>\n",
       "      <td>0</td>\n",
       "      <td>0</td>\n",
       "    </tr>\n",
       "    <tr>\n",
       "      <th>NAM</th>\n",
       "      <td>0</td>\n",
       "      <td>0</td>\n",
       "      <td>0</td>\n",
       "      <td>0</td>\n",
       "      <td>0</td>\n",
       "      <td>0</td>\n",
       "      <td>0</td>\n",
       "      <td>0</td>\n",
       "      <td>0</td>\n",
       "    </tr>\n",
       "    <tr>\n",
       "      <th>SAM</th>\n",
       "      <td>0</td>\n",
       "      <td>0</td>\n",
       "      <td>0</td>\n",
       "      <td>0</td>\n",
       "      <td>0</td>\n",
       "      <td>0</td>\n",
       "      <td>0</td>\n",
       "      <td>0</td>\n",
       "      <td>0</td>\n",
       "    </tr>\n",
       "    <tr>\n",
       "      <th>ASI</th>\n",
       "      <td>0</td>\n",
       "      <td>0</td>\n",
       "      <td>0</td>\n",
       "      <td>0</td>\n",
       "      <td>0</td>\n",
       "      <td>0</td>\n",
       "      <td>0</td>\n",
       "      <td>0</td>\n",
       "      <td>0</td>\n",
       "    </tr>\n",
       "    <tr>\n",
       "      <th>EUR</th>\n",
       "      <td>0</td>\n",
       "      <td>0</td>\n",
       "      <td>0</td>\n",
       "      <td>0</td>\n",
       "      <td>0</td>\n",
       "      <td>0</td>\n",
       "      <td>0</td>\n",
       "      <td>0</td>\n",
       "      <td>0</td>\n",
       "    </tr>\n",
       "    <tr>\n",
       "      <th>OCE</th>\n",
       "      <td>0</td>\n",
       "      <td>0</td>\n",
       "      <td>0</td>\n",
       "      <td>0</td>\n",
       "      <td>0</td>\n",
       "      <td>0</td>\n",
       "      <td>0</td>\n",
       "      <td>0</td>\n",
       "      <td>0</td>\n",
       "    </tr>\n",
       "  </tbody>\n",
       "</table>\n",
       "</div>"
      ],
      "text/plain": [
       "     COL  PER  CAR  AFR  NAM  SAM  ASI  EUR  OCE\n",
       "COL    0    0    0    0    0    0    0    0    0\n",
       "PER    0    0    0    0    0    0    0    0    0\n",
       "CAR    0    0    0    0    0    0    0    0    0\n",
       "AFR    0    0    0    0    0    0    0    0    0\n",
       "NAM    0    0    0    0    0    0    0    0    0\n",
       "SAM    0    0    0    0    0    0    0    0    0\n",
       "ASI    0    0    0    0    0    0    0    0    0\n",
       "EUR    0    0    0    0    0    0    0    0    0\n",
       "OCE    0    0    0    0    0    0    0    0    0"
      ]
     },
     "execution_count": 4,
     "metadata": {},
     "output_type": "execute_result"
    }
   ],
   "source": [
    "# Build matrix\n",
    "countries = pd.read_csv(os.path.join(input_folder, \"Structured\", \"Trade\", \"country_table.csv\"))['trigram'].tolist()\n",
    "transit_matrix = pd.DataFrame(index=countries, columns=countries, data=0)\n",
    "transit_matrix"
   ]
  },
  {
   "cell_type": "code",
   "execution_count": 5,
   "metadata": {},
   "outputs": [
    {
     "name": "stdout",
     "output_type": "stream",
     "text": [
      "COL_to_PER: 1114454513.5\n",
      "PER_to_COL: 697190200.0\n"
     ]
    }
   ],
   "source": [
    "# We assume PER there are no transit flows, except between Colombia and Peru\n",
    "# Rationale is PER COL and PER have big ports, they do not need ECU to trade with other countries\n",
    "# A share of the trade between COL and PER could go via the terrestrial route, as opposed to port to port\n",
    "# No data on PER, so we assume 10%. Guesstimate.\n",
    "COL_PER = pd.read_csv(os.path.join(input_folder, \"Raw\", \"Trade\", \"comtrade_2016_COLPER.csv\"))\n",
    "\n",
    "COL_to_PER = \\\n",
    "    (COL_PER.loc[\n",
    "        (COL_PER['Trade Flow']==\"Export\")&\\\n",
    "        (COL_PER['Reporter']==\"Colombia\")&\\\n",
    "        (COL_PER['Partner']==\"Peru\")\n",
    "    ,'Trade Value (US$)'].iloc[0] +\n",
    "     COL_PER.loc[\n",
    "        (COL_PER['Trade Flow']==\"Import\")&\\\n",
    "        (COL_PER['Reporter']==\"Peru\")&\\\n",
    "        (COL_PER['Partner']==\"Colombia\")\n",
    "    ,'Trade Value (US$)'].iloc[0])/2\n",
    "print(\"COL_to_PER:\", COL_to_PER)\n",
    "\n",
    "PER_to_COL = \\\n",
    "    (COL_PER.loc[\n",
    "        (COL_PER['Trade Flow']==\"Export\")&\\\n",
    "        (COL_PER['Reporter']==\"Peru\")&\\\n",
    "        (COL_PER['Partner']==\"Colombia\")\n",
    "    ,'Trade Value (US$)'].iloc[0] +\n",
    "     COL_PER.loc[\n",
    "        (COL_PER['Trade Flow']==\"Import\")&\\\n",
    "        (COL_PER['Reporter']==\"Colombia\")&\\\n",
    "        (COL_PER['Partner']==\"Peru\")\n",
    "    ,'Trade Value (US$)'].iloc[0])/2\n",
    "print(\"PER_to_COL:\", PER_to_COL)"
   ]
  },
  {
   "cell_type": "code",
   "execution_count": 6,
   "metadata": {},
   "outputs": [
    {
     "data": {
      "text/html": [
       "<div>\n",
       "<style scoped>\n",
       "    .dataframe tbody tr th:only-of-type {\n",
       "        vertical-align: middle;\n",
       "    }\n",
       "\n",
       "    .dataframe tbody tr th {\n",
       "        vertical-align: top;\n",
       "    }\n",
       "\n",
       "    .dataframe thead th {\n",
       "        text-align: right;\n",
       "    }\n",
       "</style>\n",
       "<table border=\"1\" class=\"dataframe\">\n",
       "  <thead>\n",
       "    <tr style=\"text-align: right;\">\n",
       "      <th></th>\n",
       "      <th>COL</th>\n",
       "      <th>PER</th>\n",
       "      <th>CAR</th>\n",
       "      <th>AFR</th>\n",
       "      <th>NAM</th>\n",
       "      <th>SAM</th>\n",
       "      <th>ASI</th>\n",
       "      <th>EUR</th>\n",
       "      <th>OCE</th>\n",
       "    </tr>\n",
       "  </thead>\n",
       "  <tbody>\n",
       "    <tr>\n",
       "      <th>COL</th>\n",
       "      <td>0</td>\n",
       "      <td>69719020</td>\n",
       "      <td>0</td>\n",
       "      <td>0</td>\n",
       "      <td>0</td>\n",
       "      <td>0</td>\n",
       "      <td>0</td>\n",
       "      <td>0</td>\n",
       "      <td>0</td>\n",
       "    </tr>\n",
       "    <tr>\n",
       "      <th>PER</th>\n",
       "      <td>69719020</td>\n",
       "      <td>0</td>\n",
       "      <td>0</td>\n",
       "      <td>0</td>\n",
       "      <td>0</td>\n",
       "      <td>0</td>\n",
       "      <td>0</td>\n",
       "      <td>0</td>\n",
       "      <td>0</td>\n",
       "    </tr>\n",
       "    <tr>\n",
       "      <th>CAR</th>\n",
       "      <td>0</td>\n",
       "      <td>0</td>\n",
       "      <td>0</td>\n",
       "      <td>0</td>\n",
       "      <td>0</td>\n",
       "      <td>0</td>\n",
       "      <td>0</td>\n",
       "      <td>0</td>\n",
       "      <td>0</td>\n",
       "    </tr>\n",
       "    <tr>\n",
       "      <th>AFR</th>\n",
       "      <td>0</td>\n",
       "      <td>0</td>\n",
       "      <td>0</td>\n",
       "      <td>0</td>\n",
       "      <td>0</td>\n",
       "      <td>0</td>\n",
       "      <td>0</td>\n",
       "      <td>0</td>\n",
       "      <td>0</td>\n",
       "    </tr>\n",
       "    <tr>\n",
       "      <th>NAM</th>\n",
       "      <td>0</td>\n",
       "      <td>0</td>\n",
       "      <td>0</td>\n",
       "      <td>0</td>\n",
       "      <td>0</td>\n",
       "      <td>0</td>\n",
       "      <td>0</td>\n",
       "      <td>0</td>\n",
       "      <td>0</td>\n",
       "    </tr>\n",
       "    <tr>\n",
       "      <th>SAM</th>\n",
       "      <td>0</td>\n",
       "      <td>0</td>\n",
       "      <td>0</td>\n",
       "      <td>0</td>\n",
       "      <td>0</td>\n",
       "      <td>0</td>\n",
       "      <td>0</td>\n",
       "      <td>0</td>\n",
       "      <td>0</td>\n",
       "    </tr>\n",
       "    <tr>\n",
       "      <th>ASI</th>\n",
       "      <td>0</td>\n",
       "      <td>0</td>\n",
       "      <td>0</td>\n",
       "      <td>0</td>\n",
       "      <td>0</td>\n",
       "      <td>0</td>\n",
       "      <td>0</td>\n",
       "      <td>0</td>\n",
       "      <td>0</td>\n",
       "    </tr>\n",
       "    <tr>\n",
       "      <th>EUR</th>\n",
       "      <td>0</td>\n",
       "      <td>0</td>\n",
       "      <td>0</td>\n",
       "      <td>0</td>\n",
       "      <td>0</td>\n",
       "      <td>0</td>\n",
       "      <td>0</td>\n",
       "      <td>0</td>\n",
       "      <td>0</td>\n",
       "    </tr>\n",
       "    <tr>\n",
       "      <th>OCE</th>\n",
       "      <td>0</td>\n",
       "      <td>0</td>\n",
       "      <td>0</td>\n",
       "      <td>0</td>\n",
       "      <td>0</td>\n",
       "      <td>0</td>\n",
       "      <td>0</td>\n",
       "      <td>0</td>\n",
       "      <td>0</td>\n",
       "    </tr>\n",
       "  </tbody>\n",
       "</table>\n",
       "</div>"
      ],
      "text/plain": [
       "          COL       PER  CAR  AFR  NAM  SAM  ASI  EUR  OCE\n",
       "COL         0  69719020    0    0    0    0    0    0    0\n",
       "PER  69719020         0    0    0    0    0    0    0    0\n",
       "CAR         0         0    0    0    0    0    0    0    0\n",
       "AFR         0         0    0    0    0    0    0    0    0\n",
       "NAM         0         0    0    0    0    0    0    0    0\n",
       "SAM         0         0    0    0    0    0    0    0    0\n",
       "ASI         0         0    0    0    0    0    0    0    0\n",
       "EUR         0         0    0    0    0    0    0    0    0\n",
       "OCE         0         0    0    0    0    0    0    0    0"
      ]
     },
     "execution_count": 6,
     "metadata": {},
     "output_type": "execute_result"
    }
   ],
   "source": [
    "HOW_MUCH_GOES_THROUGH_ECU = 0.1\n",
    "transit_matrix.loc['COL', 'PER'] = PER_to_COL * HOW_MUCH_GOES_THROUGH_ECU\n",
    "transit_matrix.loc['PER', 'COL'] = PER_to_COL * HOW_MUCH_GOES_THROUGH_ECU\n",
    "transit_matrix"
   ]
  },
  {
   "cell_type": "code",
   "execution_count": 7,
   "metadata": {},
   "outputs": [],
   "source": [
    "#turn into kUSD\n",
    "transit_matrix = transit_matrix / 1000"
   ]
  },
  {
   "cell_type": "code",
   "execution_count": 8,
   "metadata": {},
   "outputs": [],
   "source": [
    "transit_matrix.to_csv(os.path.join(output_folder, \"transit_matrix.csv\"), index=True)"
   ]
  },
  {
   "cell_type": "markdown",
   "metadata": {},
   "source": [
    "# Legacy Cambodia"
   ]
  },
  {
   "cell_type": "code",
   "execution_count": 28,
   "metadata": {},
   "outputs": [
    {
     "data": {
      "text/html": [
       "<div>\n",
       "<style scoped>\n",
       "    .dataframe tbody tr th:only-of-type {\n",
       "        vertical-align: middle;\n",
       "    }\n",
       "\n",
       "    .dataframe tbody tr th {\n",
       "        vertical-align: top;\n",
       "    }\n",
       "\n",
       "    .dataframe thead th {\n",
       "        text-align: right;\n",
       "    }\n",
       "</style>\n",
       "<table border=\"1\" class=\"dataframe\">\n",
       "  <thead>\n",
       "    <tr style=\"text-align: right;\">\n",
       "      <th></th>\n",
       "      <th>VNM</th>\n",
       "      <th>THA</th>\n",
       "      <th>LAO</th>\n",
       "      <th>AFR</th>\n",
       "      <th>AME</th>\n",
       "      <th>ASI</th>\n",
       "      <th>EUR</th>\n",
       "      <th>OCE</th>\n",
       "    </tr>\n",
       "  </thead>\n",
       "  <tbody>\n",
       "    <tr>\n",
       "      <th>VNM</th>\n",
       "      <td>0</td>\n",
       "      <td>0</td>\n",
       "      <td>0</td>\n",
       "      <td>0</td>\n",
       "      <td>0</td>\n",
       "      <td>0</td>\n",
       "      <td>0</td>\n",
       "      <td>0</td>\n",
       "    </tr>\n",
       "    <tr>\n",
       "      <th>THA</th>\n",
       "      <td>0</td>\n",
       "      <td>0</td>\n",
       "      <td>0</td>\n",
       "      <td>0</td>\n",
       "      <td>0</td>\n",
       "      <td>0</td>\n",
       "      <td>0</td>\n",
       "      <td>0</td>\n",
       "    </tr>\n",
       "    <tr>\n",
       "      <th>LAO</th>\n",
       "      <td>0</td>\n",
       "      <td>0</td>\n",
       "      <td>0</td>\n",
       "      <td>0</td>\n",
       "      <td>0</td>\n",
       "      <td>0</td>\n",
       "      <td>0</td>\n",
       "      <td>0</td>\n",
       "    </tr>\n",
       "    <tr>\n",
       "      <th>AFR</th>\n",
       "      <td>0</td>\n",
       "      <td>0</td>\n",
       "      <td>0</td>\n",
       "      <td>0</td>\n",
       "      <td>0</td>\n",
       "      <td>0</td>\n",
       "      <td>0</td>\n",
       "      <td>0</td>\n",
       "    </tr>\n",
       "    <tr>\n",
       "      <th>AME</th>\n",
       "      <td>0</td>\n",
       "      <td>0</td>\n",
       "      <td>0</td>\n",
       "      <td>0</td>\n",
       "      <td>0</td>\n",
       "      <td>0</td>\n",
       "      <td>0</td>\n",
       "      <td>0</td>\n",
       "    </tr>\n",
       "    <tr>\n",
       "      <th>ASI</th>\n",
       "      <td>0</td>\n",
       "      <td>0</td>\n",
       "      <td>0</td>\n",
       "      <td>0</td>\n",
       "      <td>0</td>\n",
       "      <td>0</td>\n",
       "      <td>0</td>\n",
       "      <td>0</td>\n",
       "    </tr>\n",
       "    <tr>\n",
       "      <th>EUR</th>\n",
       "      <td>0</td>\n",
       "      <td>0</td>\n",
       "      <td>0</td>\n",
       "      <td>0</td>\n",
       "      <td>0</td>\n",
       "      <td>0</td>\n",
       "      <td>0</td>\n",
       "      <td>0</td>\n",
       "    </tr>\n",
       "    <tr>\n",
       "      <th>OCE</th>\n",
       "      <td>0</td>\n",
       "      <td>0</td>\n",
       "      <td>0</td>\n",
       "      <td>0</td>\n",
       "      <td>0</td>\n",
       "      <td>0</td>\n",
       "      <td>0</td>\n",
       "      <td>0</td>\n",
       "    </tr>\n",
       "  </tbody>\n",
       "</table>\n",
       "</div>"
      ],
      "text/plain": [
       "     VNM  THA  LAO  AFR  AME  ASI  EUR  OCE\n",
       "VNM    0    0    0    0    0    0    0    0\n",
       "THA    0    0    0    0    0    0    0    0\n",
       "LAO    0    0    0    0    0    0    0    0\n",
       "AFR    0    0    0    0    0    0    0    0\n",
       "AME    0    0    0    0    0    0    0    0\n",
       "ASI    0    0    0    0    0    0    0    0\n",
       "EUR    0    0    0    0    0    0    0    0\n",
       "OCE    0    0    0    0    0    0    0    0"
      ]
     },
     "execution_count": 28,
     "metadata": {},
     "output_type": "execute_result"
    }
   ],
   "source": [
    "# Build matrix\n",
    "countries = pd.read_csv(os.path.join(folder, \"Data\", \"Structured\", \"Trade\", \"country_table.csv\"))['trigram'].tolist()\n",
    "transit_matrix = pd.DataFrame(index=countries, columns=countries, data=0)\n",
    "transit_matrix"
   ]
  },
  {
   "cell_type": "code",
   "execution_count": 34,
   "metadata": {},
   "outputs": [
    {
     "name": "stdout",
     "output_type": "stream",
     "text": [
      "VNM_to_THA: 5488260149.5\n",
      "VNM_to_THA: 12500485144.5\n"
     ]
    }
   ],
   "source": [
    "# We assume that there are no transit flows, except between Viet Nam and Thailand\n",
    "# Rationale is that VNM and THA have big ports, they do not need KHM to trade with other countries\n",
    "# There seem to be almost nothing going on at the border between KHM and LAO\n",
    "# A share of the trade between VNM and THA could go via the KHM terrestrial route, as opposed to port to port\n",
    "# No data on that, so we assume 10%. Guesstimate.\n",
    "VMM_THA = pd.read_csv(os.path.join(folder, \"Data\", \"Raw\", \"Trade\", \"UNComTrade_ThaiilandVietnam.csv\"))\n",
    "\n",
    "VNM_to_THA = \\\n",
    "    (VMM_THA.loc[\n",
    "        (VMM_THA['Trade Flow']==\"Export\")&\\\n",
    "        (VMM_THA['Reporter']==\"Viet Nam\")&\\\n",
    "        (VMM_THA['Partner']==\"Thailand\")\n",
    "    ,'Trade Value (US$)'].iloc[0] +\n",
    "     VMM_THA.loc[\n",
    "        (VMM_THA['Trade Flow']==\"Import\")&\\\n",
    "        (VMM_THA['Reporter']==\"Thailand\")&\\\n",
    "        (VMM_THA['Partner']==\"Viet Nam\")\n",
    "    ,'Trade Value (US$)'].iloc[0])/2\n",
    "print(\"VNM_to_THA:\", VNM_to_THA)\n",
    "\n",
    "THA_to_VNM = \\\n",
    "    (VMM_THA.loc[\n",
    "        (VMM_THA['Trade Flow']==\"Export\")&\\\n",
    "        (VMM_THA['Reporter']==\"Thailand\")&\\\n",
    "        (VMM_THA['Partner']==\"Viet Nam\")\n",
    "    ,'Trade Value (US$)'].iloc[0] +\n",
    "     VMM_THA.loc[\n",
    "        (VMM_THA['Trade Flow']==\"Import\")&\\\n",
    "        (VMM_THA['Reporter']==\"Viet Nam\")&\\\n",
    "        (VMM_THA['Partner']==\"Thailand\")\n",
    "    ,'Trade Value (US$)'].iloc[0])/2\n",
    "print(\"THA_to_VNM:\", THA_to_VNM)"
   ]
  },
  {
   "cell_type": "code",
   "execution_count": 37,
   "metadata": {},
   "outputs": [
    {
     "data": {
      "text/html": [
       "<div>\n",
       "<style scoped>\n",
       "    .dataframe tbody tr th:only-of-type {\n",
       "        vertical-align: middle;\n",
       "    }\n",
       "\n",
       "    .dataframe tbody tr th {\n",
       "        vertical-align: top;\n",
       "    }\n",
       "\n",
       "    .dataframe thead th {\n",
       "        text-align: right;\n",
       "    }\n",
       "</style>\n",
       "<table border=\"1\" class=\"dataframe\">\n",
       "  <thead>\n",
       "    <tr style=\"text-align: right;\">\n",
       "      <th></th>\n",
       "      <th>VNM</th>\n",
       "      <th>THA</th>\n",
       "      <th>LAO</th>\n",
       "      <th>AFR</th>\n",
       "      <th>AME</th>\n",
       "      <th>ASI</th>\n",
       "      <th>EUR</th>\n",
       "      <th>OCE</th>\n",
       "    </tr>\n",
       "  </thead>\n",
       "  <tbody>\n",
       "    <tr>\n",
       "      <th>VNM</th>\n",
       "      <td>0.000000e+00</td>\n",
       "      <td>5.488260e+08</td>\n",
       "      <td>0</td>\n",
       "      <td>0</td>\n",
       "      <td>0</td>\n",
       "      <td>0</td>\n",
       "      <td>0</td>\n",
       "      <td>0</td>\n",
       "    </tr>\n",
       "    <tr>\n",
       "      <th>THA</th>\n",
       "      <td>1.250049e+09</td>\n",
       "      <td>0.000000e+00</td>\n",
       "      <td>0</td>\n",
       "      <td>0</td>\n",
       "      <td>0</td>\n",
       "      <td>0</td>\n",
       "      <td>0</td>\n",
       "      <td>0</td>\n",
       "    </tr>\n",
       "    <tr>\n",
       "      <th>LAO</th>\n",
       "      <td>0.000000e+00</td>\n",
       "      <td>0.000000e+00</td>\n",
       "      <td>0</td>\n",
       "      <td>0</td>\n",
       "      <td>0</td>\n",
       "      <td>0</td>\n",
       "      <td>0</td>\n",
       "      <td>0</td>\n",
       "    </tr>\n",
       "    <tr>\n",
       "      <th>AFR</th>\n",
       "      <td>0.000000e+00</td>\n",
       "      <td>0.000000e+00</td>\n",
       "      <td>0</td>\n",
       "      <td>0</td>\n",
       "      <td>0</td>\n",
       "      <td>0</td>\n",
       "      <td>0</td>\n",
       "      <td>0</td>\n",
       "    </tr>\n",
       "    <tr>\n",
       "      <th>AME</th>\n",
       "      <td>0.000000e+00</td>\n",
       "      <td>0.000000e+00</td>\n",
       "      <td>0</td>\n",
       "      <td>0</td>\n",
       "      <td>0</td>\n",
       "      <td>0</td>\n",
       "      <td>0</td>\n",
       "      <td>0</td>\n",
       "    </tr>\n",
       "    <tr>\n",
       "      <th>ASI</th>\n",
       "      <td>0.000000e+00</td>\n",
       "      <td>0.000000e+00</td>\n",
       "      <td>0</td>\n",
       "      <td>0</td>\n",
       "      <td>0</td>\n",
       "      <td>0</td>\n",
       "      <td>0</td>\n",
       "      <td>0</td>\n",
       "    </tr>\n",
       "    <tr>\n",
       "      <th>EUR</th>\n",
       "      <td>0.000000e+00</td>\n",
       "      <td>0.000000e+00</td>\n",
       "      <td>0</td>\n",
       "      <td>0</td>\n",
       "      <td>0</td>\n",
       "      <td>0</td>\n",
       "      <td>0</td>\n",
       "      <td>0</td>\n",
       "    </tr>\n",
       "    <tr>\n",
       "      <th>OCE</th>\n",
       "      <td>0.000000e+00</td>\n",
       "      <td>0.000000e+00</td>\n",
       "      <td>0</td>\n",
       "      <td>0</td>\n",
       "      <td>0</td>\n",
       "      <td>0</td>\n",
       "      <td>0</td>\n",
       "      <td>0</td>\n",
       "    </tr>\n",
       "  </tbody>\n",
       "</table>\n",
       "</div>"
      ],
      "text/plain": [
       "              VNM           THA  LAO  AFR  AME  ASI  EUR  OCE\n",
       "VNM  0.000000e+00  5.488260e+08    0    0    0    0    0    0\n",
       "THA  1.250049e+09  0.000000e+00    0    0    0    0    0    0\n",
       "LAO  0.000000e+00  0.000000e+00    0    0    0    0    0    0\n",
       "AFR  0.000000e+00  0.000000e+00    0    0    0    0    0    0\n",
       "AME  0.000000e+00  0.000000e+00    0    0    0    0    0    0\n",
       "ASI  0.000000e+00  0.000000e+00    0    0    0    0    0    0\n",
       "EUR  0.000000e+00  0.000000e+00    0    0    0    0    0    0\n",
       "OCE  0.000000e+00  0.000000e+00    0    0    0    0    0    0"
      ]
     },
     "execution_count": 37,
     "metadata": {},
     "output_type": "execute_result"
    }
   ],
   "source": [
    "HOW_MUCH_GOES_THROUGH_KHM = 0.1\n",
    "transit_matrix.loc['VNM', 'THA'] = VNM_to_THA*HOW_MUCH_GOES_THROUGH_KHM\n",
    "transit_matrix.loc['THA', 'VNM'] = THA_to_VNM*HOW_MUCH_GOES_THROUGH_KHM\n",
    "transit_matrix"
   ]
  },
  {
   "cell_type": "code",
   "execution_count": 38,
   "metadata": {},
   "outputs": [],
   "source": [
    "transit_matrix.to_csv(os.path.join(folder, \"Data\", \"Structured\", \"Trade\", \"transit_matrix.csv\"), index=True)"
   ]
  },
  {
   "cell_type": "markdown",
   "metadata": {},
   "source": [
    "### Export and import flows for analysis"
   ]
  },
  {
   "cell_type": "code",
   "execution_count": 16,
   "metadata": {},
   "outputs": [],
   "source": [
    "rename_sec = {\n",
    "    \"CRO\": \"Agriculture\",\n",
    "    \"LIV\": \"Livestock\",\n",
    "    \"FOR\": \"Forestry & Logging\",\n",
    "    \"FIS\": \"Fishing\",\n",
    "    \"MIN\": \"Mining\",\n",
    "    \"MFO\": \"Man. of Food Prod.\",\n",
    "    \"MBE\": \"Man. of Beverages\",\n",
    "    \"MTE\": \"Man. of Textiles\",\n",
    "    \"MRU\": \"Man. of Rubber & Plastics\",\n",
    "    \"ELE\": \"Utilities\",\n",
    "    \"CON\": \"Construction\",\n",
    "    \"TRW\": \"Wholesale Trade\",\n",
    "    \"TRL\": \"Transport\",\n",
    "    \"ACF\": \"Accomodation & Food Services\",\n",
    "    \"TEL\": \"Telco\",\n",
    "    \"FIN\": \"Financial Services\",\n",
    "    \"REA\": \"Real Estate\",\n",
    "    \"TRA\": \"Travel\",\n",
    "    \"ADM\": \"Administration\",\n",
    "    \"EDU\": \"Education\",\n",
    "    \"HEA\": \"Health\",\n",
    "    \"OPS\": \"Personnal Services\",\n",
    "    \"MAO\": \"Other Man.\",\n",
    "    \"MBA\": \"Man. of Basic Metals\",\n",
    "    \"MCH\": \"Man. of Chemicals\",\n",
    "    \"MCO\": \"Man. of Petroleum Prod.\",\n",
    "    \"MEL\": \"Man. of Eletronics\",\n",
    "    \"MFA\": \"Man. of Metal Prod.\",\n",
    "    \"MFU\": \"Man. of Furniture\",\n",
    "    \"MMA\": \"Man. of Machinery\",\n",
    "    \"MPA\": \"Man. of Paper\",\n",
    "    \"MPH\": \"Man. of Pharmaceuticals\",\n",
    "    \"MTO\": \"Man. of Tobacco Prod.\",\n",
    "    \"MTR\": \"Man. of Transport Eq.\",\n",
    "    \"MWO\": \"Man. of Wood Prod.\",\n",
    "    \"MNM\": \"Man. of Mineral Prod.\"\n",
    "}\n",
    "rename_country = {\n",
    "    'AFR': \"Africa\",\n",
    "    \"AME\": \"America\",\n",
    "    \"ASI\": \"Asia\",\n",
    "    \"EUR\": \"Europe\",\n",
    "    \"OCE\": \"Oceania\",\n",
    "    \"THA\": \"Thailand\",\n",
    "    \"VNM\": \"Viet Nam\",\n",
    "    \"LAO\": \"Laos\"\n",
    "}\n",
    "\n",
    "def renameCol(df, what, mapping):\n",
    "    df[what+'_name'] = df[what].map(mapping)\n",
    "    if df[what+'_name'].isnull().sum()>0:\n",
    "        print(\"Unmapped values\")\n",
    "        print(df[df[what+'_name'].isnull()])\n",
    "    return df"
   ]
  },
  {
   "cell_type": "code",
   "execution_count": 18,
   "metadata": {},
   "outputs": [],
   "source": [
    "df = pd.read_csv(os.path.join(folder, \"Data\", \"Structured\", \"Trade\", \"import_table.csv\"), index_col=0)\n",
    "df = df.unstack().reset_index()\n",
    "df.columns = ['buying_sector', 'supplying_country', 'flow']\n",
    "df = df[df['flow']>1000000]\n",
    "df = renameCol(df, 'buying_sector', rename_sec)\n",
    "df = renameCol(df, 'supplying_country', rename_country)\n",
    "df.to_csv(os.path.join(folder, \"Data\", \"Structured\", \"Trade\", 'import_flows.csv'), index=False)"
   ]
  },
  {
   "cell_type": "code",
   "execution_count": 21,
   "metadata": {},
   "outputs": [],
   "source": [
    "df = pd.read_csv(os.path.join(folder, \"Data\", \"Structured\", \"Trade\", \"export_table.csv\"), index_col=0)\n",
    "df = df.unstack().reset_index()\n",
    "df.columns = ['supplying_sector', 'buying_country', 'flow']\n",
    "df = df[df['flow']>1000000]\n",
    "df = renameCol(df, 'supplying_sector', rename_sec)\n",
    "df = renameCol(df, 'buying_country', rename_country)\n",
    "df.to_csv(os.path.join(folder, \"Data\", \"Structured\", \"Trade\", 'export_flows.csv'), index=False)"
   ]
  },
  {
   "cell_type": "markdown",
   "metadata": {},
   "source": [
    "# Test"
   ]
  },
  {
   "cell_type": "code",
   "execution_count": 10,
   "metadata": {},
   "outputs": [
    {
     "data": {
      "text/plain": [
       "text                1001 - Wheat and meslin\n",
       "parent                                   10\n",
       "isLeaf                                    0\n",
       "aggrLevel                                 4\n",
       "standardUnitAbbr                        NaN\n",
       "Name: 1001, dtype: object"
      ]
     },
     "execution_count": 10,
     "metadata": {},
     "output_type": "execute_result"
    }
   ],
   "source": [
    "ref = pd.read_csv('ref_cmd_HS.csv').set_index('id')\n",
    "ref.loc['1001']\n",
    "#ref.loc[ref['standardUnitAbbr'] == 'kg']"
   ]
  },
  {
   "cell_type": "code",
   "execution_count": 33,
   "metadata": {},
   "outputs": [
    {
     "ename": "KeyError",
     "evalue": "'1009'",
     "output_type": "error",
     "traceback": [
      "\u001b[1;31m---------------------------------------------------------------------------\u001b[0m",
      "\u001b[1;31mKeyError\u001b[0m                                  Traceback (most recent call last)",
      "File \u001b[1;32m~\\AppData\\Local\\miniforge3\\lib\\site-packages\\pandas\\core\\indexes\\base.py:3805\u001b[0m, in \u001b[0;36mIndex.get_loc\u001b[1;34m(self, key)\u001b[0m\n\u001b[0;32m   3804\u001b[0m \u001b[38;5;28;01mtry\u001b[39;00m:\n\u001b[1;32m-> 3805\u001b[0m     \u001b[38;5;28;01mreturn\u001b[39;00m \u001b[38;5;28;43mself\u001b[39;49m\u001b[38;5;241;43m.\u001b[39;49m\u001b[43m_engine\u001b[49m\u001b[38;5;241;43m.\u001b[39;49m\u001b[43mget_loc\u001b[49m\u001b[43m(\u001b[49m\u001b[43mcasted_key\u001b[49m\u001b[43m)\u001b[49m\n\u001b[0;32m   3806\u001b[0m \u001b[38;5;28;01mexcept\u001b[39;00m \u001b[38;5;167;01mKeyError\u001b[39;00m \u001b[38;5;28;01mas\u001b[39;00m err:\n",
      "File \u001b[1;32mindex.pyx:167\u001b[0m, in \u001b[0;36mpandas._libs.index.IndexEngine.get_loc\u001b[1;34m()\u001b[0m\n",
      "File \u001b[1;32mindex.pyx:196\u001b[0m, in \u001b[0;36mpandas._libs.index.IndexEngine.get_loc\u001b[1;34m()\u001b[0m\n",
      "File \u001b[1;32mpandas\\\\_libs\\\\hashtable_class_helper.pxi:7081\u001b[0m, in \u001b[0;36mpandas._libs.hashtable.PyObjectHashTable.get_item\u001b[1;34m()\u001b[0m\n",
      "File \u001b[1;32mpandas\\\\_libs\\\\hashtable_class_helper.pxi:7089\u001b[0m, in \u001b[0;36mpandas._libs.hashtable.PyObjectHashTable.get_item\u001b[1;34m()\u001b[0m\n",
      "\u001b[1;31mKeyError\u001b[0m: '1009'",
      "\nThe above exception was the direct cause of the following exception:\n",
      "\u001b[1;31mKeyError\u001b[0m                                  Traceback (most recent call last)",
      "Cell \u001b[1;32mIn[33], line 1\u001b[0m\n\u001b[1;32m----> 1\u001b[0m \u001b[43mref\u001b[49m\u001b[38;5;241;43m.\u001b[39;49m\u001b[43mloc\u001b[49m\u001b[43m[\u001b[49m\u001b[38;5;124;43m'\u001b[39;49m\u001b[38;5;124;43m1009\u001b[39;49m\u001b[38;5;124;43m'\u001b[39;49m\u001b[43m]\u001b[49m\n",
      "File \u001b[1;32m~\\AppData\\Local\\miniforge3\\lib\\site-packages\\pandas\\core\\indexing.py:1191\u001b[0m, in \u001b[0;36m_LocationIndexer.__getitem__\u001b[1;34m(self, key)\u001b[0m\n\u001b[0;32m   1189\u001b[0m maybe_callable \u001b[38;5;241m=\u001b[39m com\u001b[38;5;241m.\u001b[39mapply_if_callable(key, \u001b[38;5;28mself\u001b[39m\u001b[38;5;241m.\u001b[39mobj)\n\u001b[0;32m   1190\u001b[0m maybe_callable \u001b[38;5;241m=\u001b[39m \u001b[38;5;28mself\u001b[39m\u001b[38;5;241m.\u001b[39m_check_deprecated_callable_usage(key, maybe_callable)\n\u001b[1;32m-> 1191\u001b[0m \u001b[38;5;28;01mreturn\u001b[39;00m \u001b[38;5;28;43mself\u001b[39;49m\u001b[38;5;241;43m.\u001b[39;49m\u001b[43m_getitem_axis\u001b[49m\u001b[43m(\u001b[49m\u001b[43mmaybe_callable\u001b[49m\u001b[43m,\u001b[49m\u001b[43m \u001b[49m\u001b[43maxis\u001b[49m\u001b[38;5;241;43m=\u001b[39;49m\u001b[43maxis\u001b[49m\u001b[43m)\u001b[49m\n",
      "File \u001b[1;32m~\\AppData\\Local\\miniforge3\\lib\\site-packages\\pandas\\core\\indexing.py:1431\u001b[0m, in \u001b[0;36m_LocIndexer._getitem_axis\u001b[1;34m(self, key, axis)\u001b[0m\n\u001b[0;32m   1429\u001b[0m \u001b[38;5;66;03m# fall thru to straight lookup\u001b[39;00m\n\u001b[0;32m   1430\u001b[0m \u001b[38;5;28mself\u001b[39m\u001b[38;5;241m.\u001b[39m_validate_key(key, axis)\n\u001b[1;32m-> 1431\u001b[0m \u001b[38;5;28;01mreturn\u001b[39;00m \u001b[38;5;28;43mself\u001b[39;49m\u001b[38;5;241;43m.\u001b[39;49m\u001b[43m_get_label\u001b[49m\u001b[43m(\u001b[49m\u001b[43mkey\u001b[49m\u001b[43m,\u001b[49m\u001b[43m \u001b[49m\u001b[43maxis\u001b[49m\u001b[38;5;241;43m=\u001b[39;49m\u001b[43maxis\u001b[49m\u001b[43m)\u001b[49m\n",
      "File \u001b[1;32m~\\AppData\\Local\\miniforge3\\lib\\site-packages\\pandas\\core\\indexing.py:1381\u001b[0m, in \u001b[0;36m_LocIndexer._get_label\u001b[1;34m(self, label, axis)\u001b[0m\n\u001b[0;32m   1379\u001b[0m \u001b[38;5;28;01mdef\u001b[39;00m \u001b[38;5;21m_get_label\u001b[39m(\u001b[38;5;28mself\u001b[39m, label, axis: AxisInt):\n\u001b[0;32m   1380\u001b[0m     \u001b[38;5;66;03m# GH#5567 this will fail if the label is not present in the axis.\u001b[39;00m\n\u001b[1;32m-> 1381\u001b[0m     \u001b[38;5;28;01mreturn\u001b[39;00m \u001b[38;5;28;43mself\u001b[39;49m\u001b[38;5;241;43m.\u001b[39;49m\u001b[43mobj\u001b[49m\u001b[38;5;241;43m.\u001b[39;49m\u001b[43mxs\u001b[49m\u001b[43m(\u001b[49m\u001b[43mlabel\u001b[49m\u001b[43m,\u001b[49m\u001b[43m \u001b[49m\u001b[43maxis\u001b[49m\u001b[38;5;241;43m=\u001b[39;49m\u001b[43maxis\u001b[49m\u001b[43m)\u001b[49m\n",
      "File \u001b[1;32m~\\AppData\\Local\\miniforge3\\lib\\site-packages\\pandas\\core\\generic.py:4301\u001b[0m, in \u001b[0;36mNDFrame.xs\u001b[1;34m(self, key, axis, level, drop_level)\u001b[0m\n\u001b[0;32m   4299\u001b[0m             new_index \u001b[38;5;241m=\u001b[39m index[loc]\n\u001b[0;32m   4300\u001b[0m \u001b[38;5;28;01melse\u001b[39;00m:\n\u001b[1;32m-> 4301\u001b[0m     loc \u001b[38;5;241m=\u001b[39m \u001b[43mindex\u001b[49m\u001b[38;5;241;43m.\u001b[39;49m\u001b[43mget_loc\u001b[49m\u001b[43m(\u001b[49m\u001b[43mkey\u001b[49m\u001b[43m)\u001b[49m\n\u001b[0;32m   4303\u001b[0m     \u001b[38;5;28;01mif\u001b[39;00m \u001b[38;5;28misinstance\u001b[39m(loc, np\u001b[38;5;241m.\u001b[39mndarray):\n\u001b[0;32m   4304\u001b[0m         \u001b[38;5;28;01mif\u001b[39;00m loc\u001b[38;5;241m.\u001b[39mdtype \u001b[38;5;241m==\u001b[39m np\u001b[38;5;241m.\u001b[39mbool_:\n",
      "File \u001b[1;32m~\\AppData\\Local\\miniforge3\\lib\\site-packages\\pandas\\core\\indexes\\base.py:3812\u001b[0m, in \u001b[0;36mIndex.get_loc\u001b[1;34m(self, key)\u001b[0m\n\u001b[0;32m   3807\u001b[0m     \u001b[38;5;28;01mif\u001b[39;00m \u001b[38;5;28misinstance\u001b[39m(casted_key, \u001b[38;5;28mslice\u001b[39m) \u001b[38;5;129;01mor\u001b[39;00m (\n\u001b[0;32m   3808\u001b[0m         \u001b[38;5;28misinstance\u001b[39m(casted_key, abc\u001b[38;5;241m.\u001b[39mIterable)\n\u001b[0;32m   3809\u001b[0m         \u001b[38;5;129;01mand\u001b[39;00m \u001b[38;5;28many\u001b[39m(\u001b[38;5;28misinstance\u001b[39m(x, \u001b[38;5;28mslice\u001b[39m) \u001b[38;5;28;01mfor\u001b[39;00m x \u001b[38;5;129;01min\u001b[39;00m casted_key)\n\u001b[0;32m   3810\u001b[0m     ):\n\u001b[0;32m   3811\u001b[0m         \u001b[38;5;28;01mraise\u001b[39;00m InvalidIndexError(key)\n\u001b[1;32m-> 3812\u001b[0m     \u001b[38;5;28;01mraise\u001b[39;00m \u001b[38;5;167;01mKeyError\u001b[39;00m(key) \u001b[38;5;28;01mfrom\u001b[39;00m \u001b[38;5;21;01merr\u001b[39;00m\n\u001b[0;32m   3813\u001b[0m \u001b[38;5;28;01mexcept\u001b[39;00m \u001b[38;5;167;01mTypeError\u001b[39;00m:\n\u001b[0;32m   3814\u001b[0m     \u001b[38;5;66;03m# If we have a listlike key, _check_indexing_error will raise\u001b[39;00m\n\u001b[0;32m   3815\u001b[0m     \u001b[38;5;66;03m#  InvalidIndexError. Otherwise we fall through and re-raise\u001b[39;00m\n\u001b[0;32m   3816\u001b[0m     \u001b[38;5;66;03m#  the TypeError.\u001b[39;00m\n\u001b[0;32m   3817\u001b[0m     \u001b[38;5;28mself\u001b[39m\u001b[38;5;241m.\u001b[39m_check_indexing_error(key)\n",
      "\u001b[1;31mKeyError\u001b[0m: '1009'"
     ]
    }
   ],
   "source": [
    "ref.loc['1009']"
   ]
  },
  {
   "cell_type": "code",
   "execution_count": 35,
   "metadata": {},
   "outputs": [
    {
     "data": {
      "text/html": [
       "<div>\n",
       "<style scoped>\n",
       "    .dataframe tbody tr th:only-of-type {\n",
       "        vertical-align: middle;\n",
       "    }\n",
       "\n",
       "    .dataframe tbody tr th {\n",
       "        vertical-align: top;\n",
       "    }\n",
       "\n",
       "    .dataframe thead th {\n",
       "        text-align: right;\n",
       "    }\n",
       "</style>\n",
       "<table border=\"1\" class=\"dataframe\">\n",
       "  <thead>\n",
       "    <tr style=\"text-align: right;\">\n",
       "      <th></th>\n",
       "      <th>text</th>\n",
       "      <th>parent</th>\n",
       "      <th>isLeaf</th>\n",
       "      <th>aggrLevel</th>\n",
       "      <th>standardUnitAbbr</th>\n",
       "    </tr>\n",
       "    <tr>\n",
       "      <th>id</th>\n",
       "      <th></th>\n",
       "      <th></th>\n",
       "      <th></th>\n",
       "      <th></th>\n",
       "      <th></th>\n",
       "    </tr>\n",
       "  </thead>\n",
       "  <tbody>\n",
       "    <tr>\n",
       "      <th>07</th>\n",
       "      <td>07 - Vegetables and certain roots and tubers; ...</td>\n",
       "      <td>TOTAL</td>\n",
       "      <td>0</td>\n",
       "      <td>2</td>\n",
       "      <td>NaN</td>\n",
       "    </tr>\n",
       "    <tr>\n",
       "      <th>070110</th>\n",
       "      <td>070110 - Vegetables; seed potatoes, fresh or c...</td>\n",
       "      <td>0701</td>\n",
       "      <td>1</td>\n",
       "      <td>6</td>\n",
       "      <td>kg</td>\n",
       "    </tr>\n",
       "    <tr>\n",
       "      <th>070190</th>\n",
       "      <td>070190 - Vegetables; potatoes (other than seed...</td>\n",
       "      <td>0701</td>\n",
       "      <td>1</td>\n",
       "      <td>6</td>\n",
       "      <td>kg</td>\n",
       "    </tr>\n",
       "    <tr>\n",
       "      <th>070200</th>\n",
       "      <td>070200 - Vegetables; tomatoes, fresh or chilled</td>\n",
       "      <td>0702</td>\n",
       "      <td>1</td>\n",
       "      <td>6</td>\n",
       "      <td>kg</td>\n",
       "    </tr>\n",
       "    <tr>\n",
       "      <th>0703</th>\n",
       "      <td>0703 - Onions, shallots, garlic, leeks and oth...</td>\n",
       "      <td>07</td>\n",
       "      <td>0</td>\n",
       "      <td>4</td>\n",
       "      <td>NaN</td>\n",
       "    </tr>\n",
       "    <tr>\n",
       "      <th>...</th>\n",
       "      <td>...</td>\n",
       "      <td>...</td>\n",
       "      <td>...</td>\n",
       "      <td>...</td>\n",
       "      <td>...</td>\n",
       "    </tr>\n",
       "    <tr>\n",
       "      <th>847920</th>\n",
       "      <td>847920 - Machinery; for the extraction or prep...</td>\n",
       "      <td>8479</td>\n",
       "      <td>1</td>\n",
       "      <td>6</td>\n",
       "      <td>u</td>\n",
       "    </tr>\n",
       "    <tr>\n",
       "      <th>850940</th>\n",
       "      <td>850940 - Electro-mechanical domestic appliance...</td>\n",
       "      <td>8509</td>\n",
       "      <td>1</td>\n",
       "      <td>6</td>\n",
       "      <td>u</td>\n",
       "    </tr>\n",
       "    <tr>\n",
       "      <th>9602</th>\n",
       "      <td>9602 - Vegetable, mineral carving material and...</td>\n",
       "      <td>96</td>\n",
       "      <td>0</td>\n",
       "      <td>4</td>\n",
       "      <td>NaN</td>\n",
       "    </tr>\n",
       "    <tr>\n",
       "      <th>960200</th>\n",
       "      <td>960200 - Vegetable, mineral carving material a...</td>\n",
       "      <td>9602</td>\n",
       "      <td>1</td>\n",
       "      <td>6</td>\n",
       "      <td>kg</td>\n",
       "    </tr>\n",
       "    <tr>\n",
       "      <th>960310</th>\n",
       "      <td>960310 - Brooms and brushes; consisting of twi...</td>\n",
       "      <td>9603</td>\n",
       "      <td>1</td>\n",
       "      <td>6</td>\n",
       "      <td>u</td>\n",
       "    </tr>\n",
       "  </tbody>\n",
       "</table>\n",
       "<p>234 rows × 5 columns</p>\n",
       "</div>"
      ],
      "text/plain": [
       "                                                     text parent  isLeaf  \\\n",
       "id                                                                         \n",
       "07      07 - Vegetables and certain roots and tubers; ...  TOTAL       0   \n",
       "070110  070110 - Vegetables; seed potatoes, fresh or c...   0701       1   \n",
       "070190  070190 - Vegetables; potatoes (other than seed...   0701       1   \n",
       "070200    070200 - Vegetables; tomatoes, fresh or chilled   0702       1   \n",
       "0703    0703 - Onions, shallots, garlic, leeks and oth...     07       0   \n",
       "...                                                   ...    ...     ...   \n",
       "847920  847920 - Machinery; for the extraction or prep...   8479       1   \n",
       "850940  850940 - Electro-mechanical domestic appliance...   8509       1   \n",
       "9602    9602 - Vegetable, mineral carving material and...     96       0   \n",
       "960200  960200 - Vegetable, mineral carving material a...   9602       1   \n",
       "960310  960310 - Brooms and brushes; consisting of twi...   9603       1   \n",
       "\n",
       "        aggrLevel standardUnitAbbr  \n",
       "id                                  \n",
       "07              2              NaN  \n",
       "070110          6               kg  \n",
       "070190          6               kg  \n",
       "070200          6               kg  \n",
       "0703            4              NaN  \n",
       "...           ...              ...  \n",
       "847920          6                u  \n",
       "850940          6                u  \n",
       "9602            4              NaN  \n",
       "960200          6               kg  \n",
       "960310          6                u  \n",
       "\n",
       "[234 rows x 5 columns]"
      ]
     },
     "execution_count": 35,
     "metadata": {},
     "output_type": "execute_result"
    }
   ],
   "source": [
    "ref[ref['text'].str.contains('vegetable', case=False)]"
   ]
  },
  {
   "cell_type": "code",
   "execution_count": 2,
   "metadata": {},
   "outputs": [
    {
     "data": {
      "text/html": [
       "<div>\n",
       "<style scoped>\n",
       "    .dataframe tbody tr th:only-of-type {\n",
       "        vertical-align: middle;\n",
       "    }\n",
       "\n",
       "    .dataframe tbody tr th {\n",
       "        vertical-align: top;\n",
       "    }\n",
       "\n",
       "    .dataframe thead th {\n",
       "        text-align: right;\n",
       "    }\n",
       "</style>\n",
       "<table border=\"1\" class=\"dataframe\">\n",
       "  <thead>\n",
       "    <tr style=\"text-align: right;\">\n",
       "      <th></th>\n",
       "      <th>Number</th>\n",
       "      <th>gsc</th>\n",
       "      <th>cpc</th>\n",
       "      <th>Description</th>\n",
       "    </tr>\n",
       "  </thead>\n",
       "  <tbody>\n",
       "    <tr>\n",
       "      <th>0</th>\n",
       "      <td>1</td>\n",
       "      <td>pdr</td>\n",
       "      <td>0113</td>\n",
       "      <td>Rice</td>\n",
       "    </tr>\n",
       "    <tr>\n",
       "      <th>1</th>\n",
       "      <td>2</td>\n",
       "      <td>wht</td>\n",
       "      <td>0111</td>\n",
       "      <td>Wheat</td>\n",
       "    </tr>\n",
       "    <tr>\n",
       "      <th>2</th>\n",
       "      <td>3</td>\n",
       "      <td>gro</td>\n",
       "      <td>0112</td>\n",
       "      <td>Maize (corn)</td>\n",
       "    </tr>\n",
       "    <tr>\n",
       "      <th>3</th>\n",
       "      <td>3</td>\n",
       "      <td>gro</td>\n",
       "      <td>0114</td>\n",
       "      <td>Sorghum</td>\n",
       "    </tr>\n",
       "    <tr>\n",
       "      <th>4</th>\n",
       "      <td>3</td>\n",
       "      <td>gro</td>\n",
       "      <td>0115</td>\n",
       "      <td>Barley</td>\n",
       "    </tr>\n",
       "  </tbody>\n",
       "</table>\n",
       "</div>"
      ],
      "text/plain": [
       "   Number  gsc   cpc   Description\n",
       "0       1  pdr  0113          Rice\n",
       "1       2  wht  0111         Wheat\n",
       "2       3  gro  0112  Maize (corn)\n",
       "3       3  gro  0114       Sorghum\n",
       "4       3  gro  0115        Barley"
      ]
     },
     "execution_count": 2,
     "metadata": {},
     "output_type": "execute_result"
    }
   ],
   "source": [
    "gsc_cpc = pd.read_csv('GSC-CPC21.csv', dtype={\"Code_Num\": str})\n",
    "gsc_cpc = gsc_cpc.rename(columns={'Code': 'gsc', 'Code_Num': 'cpc'})\n",
    "gsc_cpc.head()"
   ]
  },
  {
   "cell_type": "code",
   "execution_count": 3,
   "metadata": {},
   "outputs": [
    {
     "data": {
      "text/html": [
       "<div>\n",
       "<style scoped>\n",
       "    .dataframe tbody tr th:only-of-type {\n",
       "        vertical-align: middle;\n",
       "    }\n",
       "\n",
       "    .dataframe tbody tr th {\n",
       "        vertical-align: top;\n",
       "    }\n",
       "\n",
       "    .dataframe thead th {\n",
       "        text-align: right;\n",
       "    }\n",
       "</style>\n",
       "<table border=\"1\" class=\"dataframe\">\n",
       "  <thead>\n",
       "    <tr style=\"text-align: right;\">\n",
       "      <th></th>\n",
       "      <th>Number</th>\n",
       "      <th>gsc</th>\n",
       "      <th>isic</th>\n",
       "      <th>Description</th>\n",
       "    </tr>\n",
       "  </thead>\n",
       "  <tbody>\n",
       "    <tr>\n",
       "      <th>0</th>\n",
       "      <td>14</td>\n",
       "      <td>fsh</td>\n",
       "      <td>03</td>\n",
       "      <td>Fishing and aquaculture</td>\n",
       "    </tr>\n",
       "    <tr>\n",
       "      <th>1</th>\n",
       "      <td>14</td>\n",
       "      <td>fsh</td>\n",
       "      <td>017</td>\n",
       "      <td>Hunting, trapping and related service activities</td>\n",
       "    </tr>\n",
       "    <tr>\n",
       "      <th>2</th>\n",
       "      <td>15</td>\n",
       "      <td>coa</td>\n",
       "      <td>05</td>\n",
       "      <td>Mining of coal and lignite</td>\n",
       "    </tr>\n",
       "    <tr>\n",
       "      <th>3</th>\n",
       "      <td>16</td>\n",
       "      <td>oil</td>\n",
       "      <td>061</td>\n",
       "      <td>Extraction of crude petroleum</td>\n",
       "    </tr>\n",
       "    <tr>\n",
       "      <th>4</th>\n",
       "      <td>16</td>\n",
       "      <td>oil</td>\n",
       "      <td>091</td>\n",
       "      <td>Support activities for petroleum and natural g...</td>\n",
       "    </tr>\n",
       "  </tbody>\n",
       "</table>\n",
       "</div>"
      ],
      "text/plain": [
       "   Number  gsc isic                                        Description\n",
       "0      14  fsh   03                            Fishing and aquaculture\n",
       "1      14  fsh  017   Hunting, trapping and related service activities\n",
       "2      15  coa   05                         Mining of coal and lignite\n",
       "3      16  oil  061                      Extraction of crude petroleum\n",
       "4      16  oil  091  Support activities for petroleum and natural g..."
      ]
     },
     "execution_count": 3,
     "metadata": {},
     "output_type": "execute_result"
    }
   ],
   "source": [
    "gsc_isic = pd.read_csv('GSC-ISIC4.csv', dtype={\"Code_Num\": str})\n",
    "gsc_isic = gsc_isic.rename(columns={'Code': 'gsc', 'Code_Num': 'isic'})\n",
    "gsc_isic.head()"
   ]
  },
  {
   "cell_type": "code",
   "execution_count": 4,
   "metadata": {},
   "outputs": [
    {
     "data": {
      "text/html": [
       "<div>\n",
       "<style scoped>\n",
       "    .dataframe tbody tr th:only-of-type {\n",
       "        vertical-align: middle;\n",
       "    }\n",
       "\n",
       "    .dataframe tbody tr th {\n",
       "        vertical-align: top;\n",
       "    }\n",
       "\n",
       "    .dataframe thead th {\n",
       "        text-align: right;\n",
       "    }\n",
       "</style>\n",
       "<table border=\"1\" class=\"dataframe\">\n",
       "  <thead>\n",
       "    <tr style=\"text-align: right;\">\n",
       "      <th></th>\n",
       "      <th>hs</th>\n",
       "      <th>HS partial</th>\n",
       "      <th>cpc</th>\n",
       "      <th>CPC partial</th>\n",
       "    </tr>\n",
       "  </thead>\n",
       "  <tbody>\n",
       "    <tr>\n",
       "      <th>0</th>\n",
       "      <td>010121</td>\n",
       "      <td>0</td>\n",
       "      <td>02131</td>\n",
       "      <td>1</td>\n",
       "    </tr>\n",
       "    <tr>\n",
       "      <th>1</th>\n",
       "      <td>010129</td>\n",
       "      <td>0</td>\n",
       "      <td>02131</td>\n",
       "      <td>1</td>\n",
       "    </tr>\n",
       "    <tr>\n",
       "      <th>2</th>\n",
       "      <td>010130</td>\n",
       "      <td>0</td>\n",
       "      <td>02132</td>\n",
       "      <td>0</td>\n",
       "    </tr>\n",
       "    <tr>\n",
       "      <th>3</th>\n",
       "      <td>010190</td>\n",
       "      <td>0</td>\n",
       "      <td>02133</td>\n",
       "      <td>0</td>\n",
       "    </tr>\n",
       "    <tr>\n",
       "      <th>4</th>\n",
       "      <td>010221</td>\n",
       "      <td>0</td>\n",
       "      <td>02111</td>\n",
       "      <td>1</td>\n",
       "    </tr>\n",
       "  </tbody>\n",
       "</table>\n",
       "</div>"
      ],
      "text/plain": [
       "       hs  HS partial    cpc  CPC partial\n",
       "0  010121           0  02131            1\n",
       "1  010129           0  02131            1\n",
       "2  010130           0  02132            0\n",
       "3  010190           0  02133            0\n",
       "4  010221           0  02111            1"
      ]
     },
     "execution_count": 4,
     "metadata": {},
     "output_type": "execute_result"
    }
   ],
   "source": [
    "ref_cpc_hs = pd.read_csv('CPC21-HS2017.csv', dtype={\"HS 2017\": str, \"CPC Ver. 2.1\": str})\n",
    "ref_cpc_hs['HS 2017'] = ref_cpc_hs['HS 2017'].str.replace('.', '')\n",
    "ref_cpc_hs = ref_cpc_hs.rename(columns={'HS 2017': 'hs', 'CPC Ver. 2.1': 'cpc'})\n",
    "ref_cpc_hs.head()"
   ]
  },
  {
   "cell_type": "code",
   "execution_count": 5,
   "metadata": {},
   "outputs": [
    {
     "data": {
      "text/html": [
       "<div>\n",
       "<style scoped>\n",
       "    .dataframe tbody tr th:only-of-type {\n",
       "        vertical-align: middle;\n",
       "    }\n",
       "\n",
       "    .dataframe tbody tr th {\n",
       "        vertical-align: top;\n",
       "    }\n",
       "\n",
       "    .dataframe thead th {\n",
       "        text-align: right;\n",
       "    }\n",
       "</style>\n",
       "<table border=\"1\" class=\"dataframe\">\n",
       "  <thead>\n",
       "    <tr style=\"text-align: right;\">\n",
       "      <th></th>\n",
       "      <th>isic</th>\n",
       "      <th>ISIC4partial</th>\n",
       "      <th>cpc</th>\n",
       "      <th>CPC21partial</th>\n",
       "    </tr>\n",
       "  </thead>\n",
       "  <tbody>\n",
       "    <tr>\n",
       "      <th>0</th>\n",
       "      <td>0111</td>\n",
       "      <td>1</td>\n",
       "      <td>01111</td>\n",
       "      <td>0</td>\n",
       "    </tr>\n",
       "    <tr>\n",
       "      <th>1</th>\n",
       "      <td>0111</td>\n",
       "      <td>1</td>\n",
       "      <td>01112</td>\n",
       "      <td>0</td>\n",
       "    </tr>\n",
       "    <tr>\n",
       "      <th>2</th>\n",
       "      <td>0111</td>\n",
       "      <td>1</td>\n",
       "      <td>01121</td>\n",
       "      <td>0</td>\n",
       "    </tr>\n",
       "    <tr>\n",
       "      <th>3</th>\n",
       "      <td>0111</td>\n",
       "      <td>1</td>\n",
       "      <td>01122</td>\n",
       "      <td>0</td>\n",
       "    </tr>\n",
       "    <tr>\n",
       "      <th>4</th>\n",
       "      <td>0111</td>\n",
       "      <td>1</td>\n",
       "      <td>01141</td>\n",
       "      <td>0</td>\n",
       "    </tr>\n",
       "  </tbody>\n",
       "</table>\n",
       "</div>"
      ],
      "text/plain": [
       "   isic  ISIC4partial    cpc  CPC21partial\n",
       "0  0111             1  01111             0\n",
       "1  0111             1  01112             0\n",
       "2  0111             1  01121             0\n",
       "3  0111             1  01122             0\n",
       "4  0111             1  01141             0"
      ]
     },
     "execution_count": 5,
     "metadata": {},
     "output_type": "execute_result"
    }
   ],
   "source": [
    "ref_cpc_isic = pd.read_csv('ISIC4-CPC21.csv', dtype={\"ISIC4code\": str, \"CPC21code\": str})\n",
    "ref_cpc_isic = ref_cpc_isic.rename(columns={'ISIC4code': 'isic', 'CPC21code': 'cpc'})\n",
    "ref_cpc_isic.head()"
   ]
  },
  {
   "cell_type": "code",
   "execution_count": 125,
   "metadata": {},
   "outputs": [
    {
     "data": {
      "text/plain": [
       "gsc\n",
       "bph                [21]\n",
       "chm                [20]\n",
       "cns        [41, 42, 43]\n",
       "coa                [05]\n",
       "eeq                [27]\n",
       "ele                [26]\n",
       "ely          [351, 353]\n",
       "fmp                [25]\n",
       "fsh           [03, 017]\n",
       "gas          [062, 091]\n",
       "gdt               [352]\n",
       "i_s         [241, 2431]\n",
       "lea                [15]\n",
       "lum                [16]\n",
       "mvh                [29]\n",
       "nfm         [242, 2432]\n",
       "nmm                [23]\n",
       "oil          [061, 091]\n",
       "ome                [28]\n",
       "omf        [31, 32, 33]\n",
       "otn                [30]\n",
       "oxt       [07, 08, 099]\n",
       "p_c                [19]\n",
       "ppp            [17, 18]\n",
       "rpp                [22]\n",
       "tex                [13]\n",
       "wap                [14]\n",
       "wtr    [36, 37, 38, 39]\n",
       "Name: isic, dtype: object"
      ]
     },
     "execution_count": 125,
     "metadata": {},
     "output_type": "execute_result"
    }
   ],
   "source": [
    "gsc_isic.groupby('gsc')['isic'].apply(list)"
   ]
  },
  {
   "cell_type": "code",
   "execution_count": 12,
   "metadata": {
    "scrolled": true
   },
   "outputs": [
    {
     "name": "stderr",
     "output_type": "stream",
     "text": [
      "100%|██████████████████████████████████████████████████████████████████████████████████| 21/21 [00:00<00:00, 88.47it/s]\n",
      "100%|██████████████████████████████████████████████████████████████████████████████████| 28/28 [00:02<00:00, 10.34it/s]\n"
     ]
    }
   ],
   "source": [
    "from tqdm import tqdm\n",
    "\n",
    "def map_isic_to_cpc_codes(isic_code, ref):\n",
    "    matching_lines = ref['isic'].str[:len(isic_code)] == isic_code\n",
    "    return list(ref.loc[matching_lines, \"cpc\"].unique())\n",
    "    \n",
    "def map_cpc_to_hs_codes(cpc_code, ref):\n",
    "    matching_lines = ref['cpc'].str[:len(cpc_code)] == cpc_code\n",
    "    return list(ref.loc[matching_lines, \"hs\"].unique())\n",
    "\n",
    "res1 = gsc_cpc.groupby('gsc')['cpc'].apply(list)\n",
    "\n",
    "for gsc, cpcs in tqdm(res1.items(), total=len(res1)):\n",
    "    hs_codes_list = [map_cpc_to_hs_codes(cpc, ref_cpc_hs) for cpc in cpcs]\n",
    "    res1[gsc] = [item for sublist in hs_codes_list for item in sublist]\n",
    "\n",
    "\n",
    "res2 = gsc_isic.groupby('gsc')['isic'].apply(list)\n",
    "for gsc, isics in tqdm(res2.items(), total=len(res2)):\n",
    "    cpc_code_list = [map_isic_to_cpc_codes(isic, ref_cpc_isic) for isic in isics]\n",
    "    cpc_code_list = [item for sublist in cpc_code_list for item in sublist]\n",
    "    hs_codes = [map_cpc_to_hs_codes(cpc_code, ref_cpc_hs) for cpc_code in cpc_code_list]\n",
    "    res2[gsc] = [item for sublist in hs_codes for item in sublist]\n",
    "\n",
    "res = {**res1, **res2}"
   ]
  },
  {
   "cell_type": "code",
   "execution_count": 8,
   "metadata": {
    "scrolled": true
   },
   "outputs": [
    {
     "data": {
      "text/plain": [
       "\"{'b_t': ['110710', '110720', '220110', '220190', '220210', '220291', '220299', '220300', '220410', '220421', '220422', '220429', '220430', '220510', '220590', '220600', '220710', '220820', '220830', '220840', '220850', '220860', '220870', '220890', '240120', '240210', '240220', '240290', '240311', '240319', '240391', '240399'], 'c_b': ['120910', '121291', '121293', '121299'], 'cmt': ['020110', '020120', '020130', '020110', '020120', '020130', '020410', '020421', '020422', '020423', '020450', '020860', '020500', '020830', '020840', '020890', '020210', '020220', '020230', '020321', '020322', '020329', '020430', '020441', '020442', '020443', '020450', '020500', '020810', '020830', '020840', '020860', '020890', '020610', '020621', '020622', '020629', '020630', '020641', '020649', '020680', '020690', '020810', '020830', '020840', '020860', '020890', '050400'], 'ctl': ['010221', '010229', '010231', '010239', '010290', '010410', '010420', '010613', '010619', '010121', '010129', '010130', '010\""
      ]
     },
     "execution_count": 8,
     "metadata": {},
     "output_type": "execute_result"
    }
   ],
   "source": [
    "str(res)[:1000]"
   ]
  },
  {
   "cell_type": "code",
   "execution_count": 6,
   "metadata": {},
   "outputs": [
    {
     "data": {
      "text/html": [
       "<div>\n",
       "<style scoped>\n",
       "    .dataframe tbody tr th:only-of-type {\n",
       "        vertical-align: middle;\n",
       "    }\n",
       "\n",
       "    .dataframe tbody tr th {\n",
       "        vertical-align: top;\n",
       "    }\n",
       "\n",
       "    .dataframe thead th {\n",
       "        text-align: right;\n",
       "    }\n",
       "</style>\n",
       "<table border=\"1\" class=\"dataframe\">\n",
       "  <thead>\n",
       "    <tr style=\"text-align: right;\">\n",
       "      <th></th>\n",
       "      <th>id</th>\n",
       "      <th>text</th>\n",
       "      <th>parent</th>\n",
       "      <th>isLeaf</th>\n",
       "      <th>aggrLevel</th>\n",
       "      <th>standardUnitAbbr</th>\n",
       "    </tr>\n",
       "  </thead>\n",
       "  <tbody>\n",
       "    <tr>\n",
       "      <th>0</th>\n",
       "      <td>TOTAL</td>\n",
       "      <td>Total - All H6 commodities</td>\n",
       "      <td>#</td>\n",
       "      <td>0</td>\n",
       "      <td>0</td>\n",
       "      <td>n/a</td>\n",
       "    </tr>\n",
       "    <tr>\n",
       "      <th>1</th>\n",
       "      <td>01</td>\n",
       "      <td>01 - Animals; live</td>\n",
       "      <td>TOTAL</td>\n",
       "      <td>0</td>\n",
       "      <td>2</td>\n",
       "      <td>n/a</td>\n",
       "    </tr>\n",
       "    <tr>\n",
       "      <th>2</th>\n",
       "      <td>0101</td>\n",
       "      <td>0101 - Horses, asses, mules and hinnies; live</td>\n",
       "      <td>01</td>\n",
       "      <td>0</td>\n",
       "      <td>4</td>\n",
       "      <td>n/a</td>\n",
       "    </tr>\n",
       "    <tr>\n",
       "      <th>3</th>\n",
       "      <td>010110</td>\n",
       "      <td>010110 - -  Pure-bred breeding animals</td>\n",
       "      <td>0101</td>\n",
       "      <td>1</td>\n",
       "      <td>6</td>\n",
       "      <td>u</td>\n",
       "    </tr>\n",
       "    <tr>\n",
       "      <th>4</th>\n",
       "      <td>010111</td>\n",
       "      <td>010111 - Horses :-- Pure-bred breeding animals</td>\n",
       "      <td>0101</td>\n",
       "      <td>1</td>\n",
       "      <td>6</td>\n",
       "      <td>u</td>\n",
       "    </tr>\n",
       "  </tbody>\n",
       "</table>\n",
       "</div>"
      ],
      "text/plain": [
       "       id                                            text parent isLeaf  \\\n",
       "0   TOTAL                      Total - All H6 commodities      #      0   \n",
       "1      01                              01 - Animals; live  TOTAL      0   \n",
       "2    0101   0101 - Horses, asses, mules and hinnies; live     01      0   \n",
       "3  010110          010110 - -  Pure-bred breeding animals   0101      1   \n",
       "4  010111  010111 - Horses :-- Pure-bred breeding animals   0101      1   \n",
       "\n",
       "   aggrLevel standardUnitAbbr  \n",
       "0          0              n/a  \n",
       "1          2              n/a  \n",
       "2          4              n/a  \n",
       "3          6                u  \n",
       "4          6                u  "
      ]
     },
     "execution_count": 6,
     "metadata": {},
     "output_type": "execute_result"
    }
   ],
   "source": [
    "import requests\n",
    "\n",
    "url = \"https://comtradeapi.un.org/files/v1/app/reference/HS.json\"\n",
    "response = requests.get(url)\n",
    "response.raise_for_status()  # Raise an error for bad responses (4xx and 5xx)\n",
    "ref_hs = response.json()\n",
    "ref_hs = pd.DataFrame(ref_hs['results'])\n",
    "ref_hs.head()"
   ]
  },
  {
   "cell_type": "code",
   "execution_count": 10,
   "metadata": {},
   "outputs": [],
   "source": [
    "hs_4digits_to_6digits = ref_hs[ref_hs['aggrLevel'] == 6].groupby('parent')['id'].apply(list).to_dict()"
   ]
  },
  {
   "cell_type": "code",
   "execution_count": 147,
   "metadata": {},
   "outputs": [
    {
     "data": {
      "text/plain": [
       "False"
      ]
     },
     "execution_count": 147,
     "metadata": {},
     "output_type": "execute_result"
    }
   ],
   "source": [
    "hs_4digits_to_6digits['0201']"
   ]
  },
  {
   "cell_type": "code",
   "execution_count": 20,
   "metadata": {},
   "outputs": [
    {
     "name": "stderr",
     "output_type": "stream",
     "text": [
      "100%|█████████████████████████████████████████████████████████████████████████████████| 50/50 [00:00<00:00, 173.47it/s]\n"
     ]
    }
   ],
   "source": [
    "# if all the 6-digit codes of one 4-digit category are present, replace all the 6-digit codes by the 4-digit code\n",
    "k = 0\n",
    "\n",
    "#new_res = {}\n",
    "for gsc, hs_list in tqdm(res.items()):\n",
    "    #print(gsc)\n",
    "    for hs_4d, hs_6d_list in hs_4digits_to_6digits.items():\n",
    "        if set(hs_6d_list).issubset(set(hs_list)):\n",
    "            #print(hs_4d, hs_6d_list)\n",
    "            new_list = set(hs_list) - set(hs_6d_list)\n",
    "            hs_list = list(new_list | set([hs_4d]))\n",
    "            #print(hs_list)\n",
    "            #print(len(hs_list))\n",
    "    res[gsc] = hs_list\n",
    "    k += 1\n",
    "    #if k == 1:\n",
    "    #    break"
   ]
  },
  {
   "cell_type": "code",
   "execution_count": 154,
   "metadata": {
    "scrolled": true
   },
   "outputs": [
    {
     "name": "stdout",
     "output_type": "stream",
     "text": [
      "153\n"
     ]
    },
    {
     "data": {
      "text/plain": [
       "'6210,621112,610343,610729,620332,610323,610791,620333,611120,620930,620323,610342,610711,611529,610432,620799,650699,611510,610459,610120,620530,620219,620112,620341,610712,621111,610349,610449,6504,610442,620211,621320,610413,620342,610721,6109,6204,610462,611780,610461,4304,610469,650500,611130,620119,620199,611710,611190,620520,611790,620711,620291,610452,610722,620311,621142,610463,610419,610333,620349,620920,610433,611521,620293,610341,610429,611596,620193,420330,611090,620113,392620,620322,610423,610451,620590,6106,6507,6212,6216,620719,420329,620329,620213,611011,620319,6108,621139,6502,610799,610443,611522,620299,611594,620722,620331,610444,611012,611595,620339,611019,610719,620990,610190,6112,610322,621133,6501,610339,610329,611420,620729,621120,6116,6208,610331,621143,620312,610441,620212,6113,610332,611430,611490,621132,420340,620111,620191,621149,6206,420310,620292,6217,620791,611030,610439,6214,620343,4303,620721,621390,611530,6215,610453,6102,610310,611599,611020,610431,610130,620192,6105,610422'"
      ]
     },
     "execution_count": 154,
     "metadata": {},
     "output_type": "execute_result"
    }
   ],
   "source": [
    "the_list = res['wap']\n",
    "print(len(the_list))\n",
    "str(the_list).replace(\"'\", \"\").replace(\"[\", \"\").replace(\"]\", \"\").replace(\" \", \"\")"
   ]
  },
  {
   "cell_type": "code",
   "execution_count": 128,
   "metadata": {},
   "outputs": [
    {
     "data": {
      "text/plain": [
       "50"
      ]
     },
     "execution_count": 128,
     "metadata": {},
     "output_type": "execute_result"
    }
   ],
   "source": [
    "len(res)"
   ]
  },
  {
   "cell_type": "code",
   "execution_count": 161,
   "metadata": {},
   "outputs": [
    {
     "name": "stdout",
     "output_type": "stream",
     "text": [
      "1-pdr\n",
      "10-oap\n",
      "11-rmk\n",
      "12-wol\n",
      "13-frs\n",
      "14-fsh\n",
      "15-coa\n",
      "16-oil\n",
      "17-gas\n",
      "18-oxt\n",
      "19-cmt\n",
      "2-wht\n",
      "20-omt\n",
      "21-vol\n",
      "22-mil\n",
      "23-pcr\n",
      "24-sgr\n",
      "25-ofd+1\n",
      "25-ofd+2\n",
      "26-b_t\n",
      "27-tex+1\n",
      "27-tex+2\n",
      "28-wap\n",
      "29-lea\n",
      "3-gro\n",
      "30-lum\n",
      "31-ppp\n",
      "32-p_c\n",
      "33-chm+1\n",
      "33-chm+2\n",
      "33-chm+3\n",
      "33-chm+4\n",
      "34-bph\n",
      "35-rpp\n",
      "36-nmm\n",
      "37-i_s\n",
      "38-nfm\n",
      "39-fmp\n",
      "4-v_f\n",
      "40-ele\n",
      "41-eeq\n",
      "42-ome+1\n",
      "42-ome+2\n",
      "43-mvh\n",
      "44-otn\n",
      "45-omf\n",
      "5-osd\n",
      "6-c_b\n",
      "7-pfb\n",
      "8-ocr\n",
      "9-ctl\n"
     ]
    },
    {
     "data": {
      "text/html": [
       "<div>\n",
       "<style scoped>\n",
       "    .dataframe tbody tr th:only-of-type {\n",
       "        vertical-align: middle;\n",
       "    }\n",
       "\n",
       "    .dataframe tbody tr th {\n",
       "        vertical-align: top;\n",
       "    }\n",
       "\n",
       "    .dataframe thead th {\n",
       "        text-align: right;\n",
       "    }\n",
       "</style>\n",
       "<table border=\"1\" class=\"dataframe\">\n",
       "  <thead>\n",
       "    <tr style=\"text-align: right;\">\n",
       "      <th></th>\n",
       "      <th>typeCode</th>\n",
       "      <th>freqCode</th>\n",
       "      <th>refPeriodId</th>\n",
       "      <th>refYear</th>\n",
       "      <th>refMonth</th>\n",
       "      <th>period</th>\n",
       "      <th>reporterCode</th>\n",
       "      <th>reporterISO</th>\n",
       "      <th>reporterDesc</th>\n",
       "      <th>flowCode</th>\n",
       "      <th>...</th>\n",
       "      <th>grossWgt</th>\n",
       "      <th>isGrossWgtEstimated</th>\n",
       "      <th>cifvalue</th>\n",
       "      <th>fobvalue</th>\n",
       "      <th>primaryValue</th>\n",
       "      <th>legacyEstimationFlag</th>\n",
       "      <th>isReported</th>\n",
       "      <th>isAggregate</th>\n",
       "      <th>gsc_nb</th>\n",
       "      <th>gsc</th>\n",
       "    </tr>\n",
       "  </thead>\n",
       "  <tbody>\n",
       "    <tr>\n",
       "      <th>0</th>\n",
       "      <td>C</td>\n",
       "      <td>A</td>\n",
       "      <td>20230101</td>\n",
       "      <td>2023</td>\n",
       "      <td>52</td>\n",
       "      <td>2023</td>\n",
       "      <td>398</td>\n",
       "      <td>KAZ</td>\n",
       "      <td>Kazakhstan</td>\n",
       "      <td>X</td>\n",
       "      <td>...</td>\n",
       "      <td>0</td>\n",
       "      <td>False</td>\n",
       "      <td>NaN</td>\n",
       "      <td>1684980.42</td>\n",
       "      <td>1684980.42</td>\n",
       "      <td>0</td>\n",
       "      <td>False</td>\n",
       "      <td>True</td>\n",
       "      <td>1</td>\n",
       "      <td>pdr</td>\n",
       "    </tr>\n",
       "    <tr>\n",
       "      <th>10</th>\n",
       "      <td>C</td>\n",
       "      <td>A</td>\n",
       "      <td>20230101</td>\n",
       "      <td>2023</td>\n",
       "      <td>52</td>\n",
       "      <td>2023</td>\n",
       "      <td>398</td>\n",
       "      <td>KAZ</td>\n",
       "      <td>Kazakhstan</td>\n",
       "      <td>X</td>\n",
       "      <td>...</td>\n",
       "      <td>0</td>\n",
       "      <td>False</td>\n",
       "      <td>NaN</td>\n",
       "      <td>9012543.46</td>\n",
       "      <td>9012543.46</td>\n",
       "      <td>0</td>\n",
       "      <td>False</td>\n",
       "      <td>True</td>\n",
       "      <td>10</td>\n",
       "      <td>oap</td>\n",
       "    </tr>\n",
       "    <tr>\n",
       "      <th>11</th>\n",
       "      <td>C</td>\n",
       "      <td>A</td>\n",
       "      <td>20230101</td>\n",
       "      <td>2023</td>\n",
       "      <td>52</td>\n",
       "      <td>2023</td>\n",
       "      <td>398</td>\n",
       "      <td>KAZ</td>\n",
       "      <td>Kazakhstan</td>\n",
       "      <td>X</td>\n",
       "      <td>...</td>\n",
       "      <td>0</td>\n",
       "      <td>False</td>\n",
       "      <td>NaN</td>\n",
       "      <td>869284.00</td>\n",
       "      <td>869284.00</td>\n",
       "      <td>0</td>\n",
       "      <td>False</td>\n",
       "      <td>True</td>\n",
       "      <td>10</td>\n",
       "      <td>oap</td>\n",
       "    </tr>\n",
       "    <tr>\n",
       "      <th>13</th>\n",
       "      <td>C</td>\n",
       "      <td>A</td>\n",
       "      <td>20230101</td>\n",
       "      <td>2023</td>\n",
       "      <td>52</td>\n",
       "      <td>2023</td>\n",
       "      <td>398</td>\n",
       "      <td>KAZ</td>\n",
       "      <td>Kazakhstan</td>\n",
       "      <td>X</td>\n",
       "      <td>...</td>\n",
       "      <td>0</td>\n",
       "      <td>False</td>\n",
       "      <td>NaN</td>\n",
       "      <td>2533007.04</td>\n",
       "      <td>2533007.04</td>\n",
       "      <td>0</td>\n",
       "      <td>False</td>\n",
       "      <td>True</td>\n",
       "      <td>10</td>\n",
       "      <td>oap</td>\n",
       "    </tr>\n",
       "    <tr>\n",
       "      <th>14</th>\n",
       "      <td>C</td>\n",
       "      <td>A</td>\n",
       "      <td>20230101</td>\n",
       "      <td>2023</td>\n",
       "      <td>52</td>\n",
       "      <td>2023</td>\n",
       "      <td>398</td>\n",
       "      <td>KAZ</td>\n",
       "      <td>Kazakhstan</td>\n",
       "      <td>X</td>\n",
       "      <td>...</td>\n",
       "      <td>0</td>\n",
       "      <td>False</td>\n",
       "      <td>NaN</td>\n",
       "      <td>520.00</td>\n",
       "      <td>520.00</td>\n",
       "      <td>0</td>\n",
       "      <td>False</td>\n",
       "      <td>True</td>\n",
       "      <td>10</td>\n",
       "      <td>oap</td>\n",
       "    </tr>\n",
       "  </tbody>\n",
       "</table>\n",
       "<p>5 rows × 49 columns</p>\n",
       "</div>"
      ],
      "text/plain": [
       "   typeCode freqCode  refPeriodId  refYear  refMonth  period  reporterCode  \\\n",
       "0         C        A     20230101     2023        52    2023           398   \n",
       "10        C        A     20230101     2023        52    2023           398   \n",
       "11        C        A     20230101     2023        52    2023           398   \n",
       "13        C        A     20230101     2023        52    2023           398   \n",
       "14        C        A     20230101     2023        52    2023           398   \n",
       "\n",
       "   reporterISO reporterDesc flowCode  ... grossWgt  isGrossWgtEstimated  \\\n",
       "0          KAZ   Kazakhstan        X  ...        0                False   \n",
       "10         KAZ   Kazakhstan        X  ...        0                False   \n",
       "11         KAZ   Kazakhstan        X  ...        0                False   \n",
       "13         KAZ   Kazakhstan        X  ...        0                False   \n",
       "14         KAZ   Kazakhstan        X  ...        0                False   \n",
       "\n",
       "   cifvalue    fobvalue  primaryValue legacyEstimationFlag isReported  \\\n",
       "0       NaN  1684980.42    1684980.42                    0      False   \n",
       "10      NaN  9012543.46    9012543.46                    0      False   \n",
       "11      NaN   869284.00     869284.00                    0      False   \n",
       "13      NaN  2533007.04    2533007.04                    0      False   \n",
       "14      NaN      520.00        520.00                    0      False   \n",
       "\n",
       "   isAggregate gsc_nb  gsc  \n",
       "0         True      1  pdr  \n",
       "10        True     10  oap  \n",
       "11        True     10  oap  \n",
       "13        True     10  oap  \n",
       "14        True     10  oap  \n",
       "\n",
       "[5 rows x 49 columns]"
      ]
     },
     "execution_count": 161,
     "metadata": {},
     "output_type": "execute_result"
    }
   ],
   "source": [
    "from pathlib import Path\n",
    "\n",
    "# Define the directory path\n",
    "directory = Path(os.path.join('..', '..', 'disruptsc-dataprep', 'dataprep', 'data'))\n",
    "\n",
    "dfs = []\n",
    "# Iterate over files in the directory\n",
    "for file in directory.iterdir():\n",
    "    if file.is_file():  # Ensure it's a file\n",
    "        name_without_ext = file.stem\n",
    "        print(name_without_ext)\n",
    "        df = pd.read_csv(file, index_col=False)\n",
    "        gsc_nb, gsc_name = name_without_ext.split('-')\n",
    "        df['gsc_nb'] = gsc_nb\n",
    "        df['gsc'] = gsc_name\n",
    "        dfs.append(df)\n",
    "\n",
    "df = pd.concat(dfs)\n",
    "df = df[df['qtyUnitAbbr'] == 'kg']\n",
    "df['gsc'] = df['gsc'].str[:3]\n",
    "df.head()"
   ]
  },
  {
   "cell_type": "code",
   "execution_count": 162,
   "metadata": {},
   "outputs": [
    {
     "name": "stdout",
     "output_type": "stream",
     "text": [
      "471.75666274587684\n"
     ]
    }
   ],
   "source": [
    "def calulate_mean_usd_per_ton(df):\n",
    "    usd = df['primaryValue'].sum()\n",
    "    ton = df['qty'].sum() / 1000\n",
    "    return usd / ton\n",
    "\n",
    "usd_per_ton = df.groupby(['gsc_nb', 'gsc']).apply(calulate_mean_usd_per_ton, include_groups=False)\n",
    "usd_per_ton = df.groupby('gsc').apply(calulate_mean_usd_per_ton, include_groups=False).to_dict()\n",
    "mean_usd_per_ton = calulate_mean_usd_per_ton(df)\n",
    "print(mean_usd_per_ton)"
   ]
  },
  {
   "cell_type": "code",
   "execution_count": 164,
   "metadata": {},
   "outputs": [
    {
     "name": "stdout",
     "output_type": "stream",
     "text": [
      "type\n",
      "service      252\n",
      "transport     54\n",
      "utility       54\n",
      "imports        1\n",
      "Name: count, dtype: int64\n",
      "Series([], Name: count, dtype: int64)\n"
     ]
    }
   ],
   "source": [
    "sector_table_filepath = os.path.join('..', 'input', 'ECA', 'Network', 'sector_table.csv')\n",
    "sector_table = pd.read_csv(sector_table_filepath, index_col=0)\n",
    "sector_table['usd_per_ton'] = sector_table['sector_code'].str.lower().map(usd_per_ton)\n",
    "print(sector_table.loc[sector_table['usd_per_ton'].isnull(), 'type'].value_counts())\n",
    "sector_table.loc[sector_table['usd_per_ton'].isnull() & (sector_table['type'] == 'imports'), \"usd_per_ton\"] = mean_usd_per_ton\n",
    "sector_table.loc[sector_table['usd_per_ton'].isnull(), 'usd_per_ton'] = 0.0\n",
    "print(sector_table.loc[sector_table['usd_per_ton'].isnull(), 'type'].value_counts())\n",
    "\n",
    "sector_table.to_csv(sector_table_filepath, index=False)"
   ]
  },
  {
   "cell_type": "code",
   "execution_count": 68,
   "metadata": {},
   "outputs": [
    {
     "data": {
      "text/html": [
       "<div>\n",
       "<style scoped>\n",
       "    .dataframe tbody tr th:only-of-type {\n",
       "        vertical-align: middle;\n",
       "    }\n",
       "\n",
       "    .dataframe tbody tr th {\n",
       "        vertical-align: top;\n",
       "    }\n",
       "\n",
       "    .dataframe thead th {\n",
       "        text-align: right;\n",
       "    }\n",
       "</style>\n",
       "<table border=\"1\" class=\"dataframe\">\n",
       "  <thead>\n",
       "    <tr style=\"text-align: right;\">\n",
       "      <th></th>\n",
       "      <th>cmdDesc</th>\n",
       "      <th>qtyUnitAbbr</th>\n",
       "    </tr>\n",
       "  </thead>\n",
       "  <tbody>\n",
       "    <tr>\n",
       "      <th>0</th>\n",
       "      <td>Bulbs, tubers, tuberous roots, corms, crowns a...</td>\n",
       "      <td>u</td>\n",
       "    </tr>\n",
       "    <tr>\n",
       "      <th>1</th>\n",
       "      <td>Plants, live; unrooted cuttings and slips</td>\n",
       "      <td>u</td>\n",
       "    </tr>\n",
       "    <tr>\n",
       "      <th>2</th>\n",
       "      <td>Plants, live; edible fruit or nut trees, shrub...</td>\n",
       "      <td>u</td>\n",
       "    </tr>\n",
       "    <tr>\n",
       "      <th>3</th>\n",
       "      <td>Plants, live; rhododendrons and azaleas, graft...</td>\n",
       "      <td>u</td>\n",
       "    </tr>\n",
       "    <tr>\n",
       "      <th>4</th>\n",
       "      <td>Plants, live; roses, grafted or not</td>\n",
       "      <td>u</td>\n",
       "    </tr>\n",
       "    <tr>\n",
       "      <th>25</th>\n",
       "      <td>Vegetables; onions, whole, cut, sliced, broken...</td>\n",
       "      <td>NaN</td>\n",
       "    </tr>\n",
       "    <tr>\n",
       "      <th>43</th>\n",
       "      <td>Spices; coriander seeds, crushed or ground</td>\n",
       "      <td>NaN</td>\n",
       "    </tr>\n",
       "    <tr>\n",
       "      <th>94</th>\n",
       "      <td>Vinegar and substitutes for vinegar obtained f...</td>\n",
       "      <td>l</td>\n",
       "    </tr>\n",
       "    <tr>\n",
       "      <th>55</th>\n",
       "      <td>Sugars; fructose, chemically pure, in solid form</td>\n",
       "      <td>NaN</td>\n",
       "    </tr>\n",
       "    <tr>\n",
       "      <th>60</th>\n",
       "      <td>Pasta; whether or not cooked or stuffed with m...</td>\n",
       "      <td>NaN</td>\n",
       "    </tr>\n",
       "  </tbody>\n",
       "</table>\n",
       "</div>"
      ],
      "text/plain": [
       "                                              cmdDesc qtyUnitAbbr\n",
       "0   Bulbs, tubers, tuberous roots, corms, crowns a...           u\n",
       "1           Plants, live; unrooted cuttings and slips           u\n",
       "2   Plants, live; edible fruit or nut trees, shrub...           u\n",
       "3   Plants, live; rhododendrons and azaleas, graft...           u\n",
       "4                 Plants, live; roses, grafted or not           u\n",
       "25  Vegetables; onions, whole, cut, sliced, broken...         NaN\n",
       "43         Spices; coriander seeds, crushed or ground         NaN\n",
       "94  Vinegar and substitutes for vinegar obtained f...           l\n",
       "55   Sugars; fructose, chemically pure, in solid form         NaN\n",
       "60  Pasta; whether or not cooked or stuffed with m...         NaN"
      ]
     },
     "execution_count": 68,
     "metadata": {},
     "output_type": "execute_result"
    }
   ],
   "source": [
    "df.loc[(df['qtyUnitAbbr'] != 'kg'), ['cmdDesc', 'qtyUnitAbbr']]"
   ]
  }
 ],
 "metadata": {
  "kernelspec": {
   "display_name": "Python 3 (ipykernel)",
   "language": "python",
   "name": "python3"
  },
  "language_info": {
   "codemirror_mode": {
    "name": "ipython",
    "version": 3
   },
   "file_extension": ".py",
   "mimetype": "text/x-python",
   "name": "python",
   "nbconvert_exporter": "python",
   "pygments_lexer": "ipython3",
   "version": "3.10.14"
  }
 },
 "nbformat": 4,
 "nbformat_minor": 4
}
