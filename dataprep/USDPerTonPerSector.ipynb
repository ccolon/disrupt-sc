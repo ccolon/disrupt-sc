{
 "cells": [
  {
   "cell_type": "code",
   "execution_count": 8,
   "metadata": {},
   "outputs": [],
   "source": [
    "import os\n",
    "import pandas as pd"
   ]
  },
  {
   "cell_type": "code",
   "execution_count": 4,
   "metadata": {},
   "outputs": [
    {
     "data": {
      "text/html": [
       "<div>\n",
       "<style scoped>\n",
       "    .dataframe tbody tr th:only-of-type {\n",
       "        vertical-align: middle;\n",
       "    }\n",
       "\n",
       "    .dataframe tbody tr th {\n",
       "        vertical-align: top;\n",
       "    }\n",
       "\n",
       "    .dataframe thead th {\n",
       "        text-align: right;\n",
       "    }\n",
       "</style>\n",
       "<table border=\"1\" class=\"dataframe\">\n",
       "  <thead>\n",
       "    <tr style=\"text-align: right;\">\n",
       "      <th></th>\n",
       "      <th>Netweight (kg)</th>\n",
       "      <th>Trade Value (US$)</th>\n",
       "      <th>Commodity Code</th>\n",
       "      <th>Commodity</th>\n",
       "      <th>group</th>\n",
       "    </tr>\n",
       "  </thead>\n",
       "  <tbody>\n",
       "    <tr>\n",
       "      <th>0</th>\n",
       "      <td>231978.0</td>\n",
       "      <td>2625457</td>\n",
       "      <td>1</td>\n",
       "      <td>Live animals other than animals of division 03</td>\n",
       "      <td>00</td>\n",
       "    </tr>\n",
       "    <tr>\n",
       "      <th>1</th>\n",
       "      <td>146426.0</td>\n",
       "      <td>652884</td>\n",
       "      <td>1</td>\n",
       "      <td>Live animals other than animals of division 03</td>\n",
       "      <td>00</td>\n",
       "    </tr>\n",
       "    <tr>\n",
       "      <th>2</th>\n",
       "      <td>8050.0</td>\n",
       "      <td>2180</td>\n",
       "      <td>1</td>\n",
       "      <td>Live animals other than animals of division 03</td>\n",
       "      <td>00</td>\n",
       "    </tr>\n",
       "    <tr>\n",
       "      <th>3</th>\n",
       "      <td>67448.0</td>\n",
       "      <td>254387</td>\n",
       "      <td>11</td>\n",
       "      <td>Meat of bovine animals, fresh, chilled or frozen</td>\n",
       "      <td>01</td>\n",
       "    </tr>\n",
       "    <tr>\n",
       "      <th>4</th>\n",
       "      <td>15000.0</td>\n",
       "      <td>2891</td>\n",
       "      <td>11</td>\n",
       "      <td>Meat of bovine animals, fresh, chilled or frozen</td>\n",
       "      <td>01</td>\n",
       "    </tr>\n",
       "  </tbody>\n",
       "</table>\n",
       "</div>"
      ],
      "text/plain": [
       "   Netweight (kg)  Trade Value (US$)  Commodity Code  \\\n",
       "0        231978.0            2625457               1   \n",
       "1        146426.0             652884               1   \n",
       "2          8050.0               2180               1   \n",
       "3         67448.0             254387              11   \n",
       "4         15000.0               2891              11   \n",
       "\n",
       "                                          Commodity group  \n",
       "0    Live animals other than animals of division 03    00  \n",
       "1    Live animals other than animals of division 03    00  \n",
       "2    Live animals other than animals of division 03    00  \n",
       "3  Meat of bovine animals, fresh, chilled or frozen    01  \n",
       "4  Meat of bovine animals, fresh, chilled or frozen    01  "
      ]
     },
     "execution_count": 4,
     "metadata": {},
     "output_type": "execute_result"
    }
   ],
   "source": [
    "data = pd.read_csv('C:\\\\Users\\\\celian\\\\OneDrive\\\\WorldBank\\\\Tanzania\\\\Data\\\\Trade\\\\trade_TZA_commtrade_2010_ag3.csv', sep=',')\n",
    "data = data[['Netweight (kg)', 'Trade Value (US$)', 'Commodity Code', 'Commodity']]\n",
    "data['group'] = data['Commodity Code'].astype(str).str.zfill(3).str[:2]\n",
    "data.head()"
   ]
  },
  {
   "cell_type": "code",
   "execution_count": 10,
   "metadata": {},
   "outputs": [],
   "source": [
    "folder = 'C:\\\\Users\\\\celian\\\\OneDrive\\\\WorldBank\\\\Cambodia\\\\Data\\\\Structured\\\\Trade'\n",
    "#data[['Commodity Code', 'Commodity']].drop_duplicates().to_excel(os.path.join(folder, \"comtradeCommidity_sectorMapping.xlsx\"), index=False)"
   ]
  },
  {
   "cell_type": "code",
   "execution_count": 3,
   "metadata": {},
   "outputs": [
    {
     "data": {
      "text/plain": [
       "0.12817095915992638"
      ]
     },
     "execution_count": 3,
     "metadata": {},
     "output_type": "execute_result"
    }
   ],
   "source": [
    "data.loc[data['group']==\"32\",'Trade Value (US$)'].sum()  / data.loc[data['group']==\"32\",'Netweight (kg)'].sum()"
   ]
  },
  {
   "cell_type": "code",
   "execution_count": 4,
   "metadata": {},
   "outputs": [],
   "source": [
    "corr = {'00':1, '01':19, '02':22, '03':14, '04':1, '05':1, '06':24, '07':1, '08':1, '09':23, '11':26, '12':26, '21':29, '22':21, '23':33, '24': 30,\n",
    "       '25':31, '26':1, '27':18, '28':18, '29':1, '32':15, '33':16, '34':16, '35':43, '51':33, '52':33, '53':33, '54':33, '55':33, '56': 33, '57': 33,\n",
    "        '58': 33, '59': 33, '61': 29, '62': 33, '63': 30, '64': 31, '65': 27, '66':34, '67':35, '68':36, '69':37, '71':41, '72':41, '73':41, '74':42,\n",
    "       '75':40, '76':40, '77':40, '78':38, '79':39, '81':46, '82':47, '83':47, '84':28, '85':28, '87':40, '88':40} "
   ]
  },
  {
   "cell_type": "code",
   "execution_count": 5,
   "metadata": {},
   "outputs": [
    {
     "data": {
      "text/html": [
       "<div>\n",
       "<style scoped>\n",
       "    .dataframe tbody tr th:only-of-type {\n",
       "        vertical-align: middle;\n",
       "    }\n",
       "\n",
       "    .dataframe tbody tr th {\n",
       "        vertical-align: top;\n",
       "    }\n",
       "\n",
       "    .dataframe thead th {\n",
       "        text-align: right;\n",
       "    }\n",
       "</style>\n",
       "<table border=\"1\" class=\"dataframe\">\n",
       "  <thead>\n",
       "    <tr style=\"text-align: right;\">\n",
       "      <th></th>\n",
       "      <th>Trade Value (US$)</th>\n",
       "      <th>Netweight (kg)</th>\n",
       "      <th>tons_per_kUS</th>\n",
       "      <th>usd_per_ton</th>\n",
       "    </tr>\n",
       "    <tr>\n",
       "      <th>sector</th>\n",
       "      <th></th>\n",
       "      <th></th>\n",
       "      <th></th>\n",
       "      <th></th>\n",
       "    </tr>\n",
       "  </thead>\n",
       "  <tbody>\n",
       "    <tr>\n",
       "      <th>1.0</th>\n",
       "      <td>1174670744</td>\n",
       "      <td>2.298586e+09</td>\n",
       "      <td>1.956792</td>\n",
       "      <td>511.040545</td>\n",
       "    </tr>\n",
       "    <tr>\n",
       "      <th>14.0</th>\n",
       "      <td>146092440</td>\n",
       "      <td>4.593011e+07</td>\n",
       "      <td>0.314391</td>\n",
       "      <td>3180.755282</td>\n",
       "    </tr>\n",
       "    <tr>\n",
       "      <th>15.0</th>\n",
       "      <td>12755994</td>\n",
       "      <td>9.952328e+07</td>\n",
       "      <td>7.802079</td>\n",
       "      <td>128.170959</td>\n",
       "    </tr>\n",
       "    <tr>\n",
       "      <th>16.0</th>\n",
       "      <td>2278466415</td>\n",
       "      <td>3.564584e+09</td>\n",
       "      <td>1.564466</td>\n",
       "      <td>639.195641</td>\n",
       "    </tr>\n",
       "    <tr>\n",
       "      <th>18.0</th>\n",
       "      <td>1009989331</td>\n",
       "      <td>3.236908e+08</td>\n",
       "      <td>0.320489</td>\n",
       "      <td>3120.228664</td>\n",
       "    </tr>\n",
       "  </tbody>\n",
       "</table>\n",
       "</div>"
      ],
      "text/plain": [
       "        Trade Value (US$)  Netweight (kg)  tons_per_kUS  usd_per_ton\n",
       "sector                                                              \n",
       "1.0            1174670744    2.298586e+09      1.956792   511.040545\n",
       "14.0            146092440    4.593011e+07      0.314391  3180.755282\n",
       "15.0             12755994    9.952328e+07      7.802079   128.170959\n",
       "16.0           2278466415    3.564584e+09      1.564466   639.195641\n",
       "18.0           1009989331    3.236908e+08      0.320489  3120.228664"
      ]
     },
     "execution_count": 5,
     "metadata": {},
     "output_type": "execute_result"
    }
   ],
   "source": [
    "data['sector'] = data['group'].map(corr)\n",
    "res = data.groupby('sector').agg({'Trade Value (US$)':sum, 'Netweight (kg)':sum})\n",
    "res['tons_per_kUS'] = (res['Netweight (kg)']/1000) / (res['Trade Value (US$)']/1000)\n",
    "res['usd_per_ton'] =  (res['Trade Value (US$)']) / (res['Netweight (kg)']/1000)\n",
    "res.head()"
   ]
  },
  {
   "cell_type": "code",
   "execution_count": 96,
   "metadata": {},
   "outputs": [],
   "source": [
    "res.to_excel('TonsPerDollars.xlsx')"
   ]
  },
  {
   "cell_type": "code",
   "execution_count": 13,
   "metadata": {},
   "outputs": [
    {
     "data": {
      "text/plain": [
       "0.5382666876817447"
      ]
     },
     "execution_count": 13,
     "metadata": {},
     "output_type": "execute_result"
    }
   ],
   "source": [
    "# Special case for forestry\n",
    "data[data['Commodity Code']==247].sum()['Trade Value (US$)'] / data[data['Commodity Code']==247].sum()['Netweight (kg)']"
   ]
  }
 ],
 "metadata": {
  "kernelspec": {
   "display_name": "Python 3 (ipykernel)",
   "language": "python",
   "name": "python3"
  },
  "language_info": {
   "codemirror_mode": {
    "name": "ipython",
    "version": 3
   },
   "file_extension": ".py",
   "mimetype": "text/x-python",
   "name": "python",
   "nbconvert_exporter": "python",
   "pygments_lexer": "ipython3",
   "version": "3.10.4"
  }
 },
 "nbformat": 4,
 "nbformat_minor": 4
}
